{
 "cells": [
  {
   "cell_type": "markdown",
   "metadata": {},
   "source": [
    "# PIERS Data Cleaning\n",
    "\n",
    "This notebook addresses missing data and other issues in the PIERS BOL data. This work is predominantly exploratory in nature, and some of these processes may eventually move to the ETL step. "
   ]
  },
  {
   "cell_type": "code",
   "execution_count": 1,
   "metadata": {},
   "outputs": [],
   "source": [
    "import pandas as pd #v2.1.3\n",
    "import polars as pl #v0.20.7\n",
    "import plotly_express as px #v0.4.1 \n",
    "import missingno as msno #v0.5.2\n",
    "import datetime as dt\n",
    "from polars.testing import assert_frame_equal\n",
    "\n",
    "\n",
    "#display settings\n",
    "pd.set_option('display.max_columns', None)\n",
    "\n",
    "#enable string cache for polars categoricals\n",
    "pl.enable_string_cache()"
   ]
  },
  {
   "cell_type": "markdown",
   "metadata": {},
   "source": [
    "Convenience steps:\n",
    "- create 2-digit hs codes (note this naievely takes the first two digits from the column, which contains multiple hs codes)\n",
    "- create year and month (e.g., 202305) columns \n",
    "- replace zero values with nulls in volume columns\n",
    "- create lane_id and lane_name columns\n",
    "- create voyage_id from year, vessel IMO code, voyage number, and origin/destination country \n",
    "    - this method turns out to be problematic, due to multiple voyage numbers occuring within vessel-date-port groups.\n",
    "- add direction column showing 'import' or 'export' to allow easy merging\n",
    "- get most commonly used SCAC and name for each carrier"
   ]
  },
  {
   "cell_type": "code",
   "execution_count": 2,
   "metadata": {},
   "outputs": [],
   "source": [
    "#set paths\n",
    "imports_path = 'data/clean/imports/'\n",
    "exports_path = 'data/clean/exports/'\n",
    "#init lazy dataframes\n",
    "imports_lf = (\n",
    "    pl.scan_parquet(imports_path+'*.parquet', parallel='columns')\n",
    "    .with_columns([\n",
    "        #create 2-digit hs code\n",
    "        pl.col('hs_code').str.slice(0, length=2).alias('hs_2d'),\n",
    "        #create year and month columns\n",
    "        pl.col('date_arrival').dt.year().alias('year'),\n",
    "        pl.col('date_arrival').dt.strftime('%Y%m').alias('month'),\n",
    "        #convert zero volume values to null\n",
    "        pl.col('teus').replace(0,None),\n",
    "        pl.col('weight').replace(0,None),\n",
    "        pl.col('qty').replace(0,None),\n",
    "        #create direction column\n",
    "        pl.lit('import').cast(pl.Categorical).alias('direction'), \n",
    "        #create lane_id\n",
    "        (pl.col('departure_port_code').cast(pl.Utf8)+'_'+pl.col('arrival_port_code').cast(pl.Utf8))\n",
    "        .cast(pl.Categorical)\n",
    "        .alias('lane_id')\n",
    "        ])\n",
    "    #get lane name \n",
    "    .with_columns(\n",
    "            pl.col('departure_port_name').drop_nulls().mode().first().over('lane_id').alias('best_departure_port_name'),\n",
    "            pl.col('arrival_port_name').drop_nulls().mode().first().over('lane_id').alias('best_arrival_port_name')\n",
    "        )\n",
    "        .with_columns(\n",
    "            (pl.col('best_departure_port_name').cast(pl.Utf8)+' — '+pl.col('best_arrival_port_name').cast(pl.Utf8))\n",
    "            .str.to_titlecase()\n",
    "            .cast(pl.Categorical)\n",
    "            .alias('lane_name')\n",
    "        )\n",
    "        .drop('best_departure_port_name', 'best_arrival_port_name')\n",
    "    #get most commonly used carrier name for each scac and vise-versa to normalize changes in names and codes \n",
    "    .with_columns(\n",
    "        pl.col('carrier_name').drop_nulls().mode().first().over('carrier_scac')\n",
    "        .alias('unified_carrier_name')\n",
    "    )\n",
    "    .with_columns(\n",
    "        pl.col('carrier_scac').drop_nulls().mode().first().over('unified_carrier_name')\n",
    "        .alias('unified_carrier_scac')\n",
    "    )\n",
    "    .with_columns(\n",
    "        #create voyage_id from year, vessel IMO, voyage number, and origin country\n",
    "        (pl.col('year').cast(pl.Utf8)+'_'+\n",
    "         pl.col('vessel_id').cast(pl.Utf8)+'_'+\n",
    "         pl.col('voyage_number').cast(pl.Utf8)+'_'+\n",
    "         pl.col('origin_territory').cast(pl.Utf8))\n",
    "        .cast(pl.Categorical).alias('voyage_id')\n",
    "    )\n",
    ")\n",
    "exports_lf = (\n",
    "    pl.scan_parquet(exports_path+'piers_exports_complete.parquet', parallel='columns')\n",
    "    .with_columns([\n",
    "        #create 2-digit hs code\n",
    "        pl.col('hs_code').str.slice(0, length=2).alias('hs_2d'),\n",
    "        #create year and month columns\n",
    "        pl.col('date_departure').dt.year().alias('year'),\n",
    "        pl.col('date_departure').dt.strftime('%Y%m').alias('month'),\n",
    "        #convert zero volume values to null\n",
    "        pl.col('teus').replace(0,None),\n",
    "        pl.col('weight').replace(0,None),\n",
    "        pl.col('qty').replace(0,None),\n",
    "        #create direction column\n",
    "        pl.lit('export').cast(pl.Categorical).alias('direction'),\n",
    "        #create lane_id\n",
    "        (pl.col('departure_port_code').cast(pl.Utf8)+'_'+pl.col('arrival_port_code').cast(pl.Utf8))\n",
    "        .cast(pl.Categorical)\n",
    "        .alias('lane_id')\n",
    "        ])\n",
    "    #get lane name \n",
    "    .with_columns(\n",
    "            pl.col('departure_port_name').drop_nulls().mode().first().over('lane_id').alias('best_departure_port_name'),\n",
    "            pl.col('arrival_port_name').drop_nulls().mode().first().over('lane_id').alias('best_arrival_port_name')\n",
    "        )\n",
    "        .with_columns(\n",
    "            (pl.col('best_departure_port_name').cast(pl.Utf8)+' — '+pl.col('best_arrival_port_name').cast(pl.Utf8))\n",
    "            .str.to_titlecase()\n",
    "            .cast(pl.Categorical)\n",
    "            .alias('lane_name')\n",
    "        )\n",
    "        .drop('best_departure_port_name', 'best_arrival_port_name')\n",
    "    #get most commonly used carrier name and scac \n",
    "    .with_columns(\n",
    "        pl.col('carrier_name').drop_nulls().mode().first().over('carrier_scac')\n",
    "        .alias('unified_carrier_name')\n",
    "    )\n",
    "    .with_columns(\n",
    "        pl.col('carrier_scac').drop_nulls().mode().first().over('unified_carrier_name')\n",
    "        .alias('unified_carrier_scac')\n",
    "    )\n",
    "    .with_columns(\n",
    "        #create voyage_id from year, vessel IMO, voyage number, and origin country\n",
    "        (pl.col('year').cast(pl.Utf8)+'_'+\n",
    "         pl.col('vessel_id').cast(pl.Utf8)+'_'+\n",
    "         pl.col('voyage_number').cast(pl.Utf8)+'_'+\n",
    "         pl.col('dest_territory').cast(pl.Utf8))\n",
    "        .cast(pl.Categorical).alias('voyage_id')\n",
    "    )\n",
    ")"
   ]
  },
  {
   "cell_type": "code",
   "execution_count": 3,
   "metadata": {},
   "outputs": [
    {
     "data": {
      "text/plain": [
       "OrderedDict([('weight', Float64),\n",
       "             ('weight_unit', Categorical(ordering='physical')),\n",
       "             ('qty', Float64),\n",
       "             ('qty_type', Categorical(ordering='physical')),\n",
       "             ('teus', Float64),\n",
       "             ('value_est', Float64),\n",
       "             ('date_arrival', Datetime(time_unit='us', time_zone=None)),\n",
       "             ('container_piece_count', Int32),\n",
       "             ('commod_short_desc_qty', String),\n",
       "             ('origin_territory', Categorical(ordering='physical')),\n",
       "             ('origin_region', Categorical(ordering='physical')),\n",
       "             ('arrival_port_code', Categorical(ordering='physical')),\n",
       "             ('arrival_port_name', Categorical(ordering='physical')),\n",
       "             ('departure_port_code', Categorical(ordering='physical')),\n",
       "             ('departure_port_name', Categorical(ordering='physical')),\n",
       "             ('dest_final', Categorical(ordering='physical')),\n",
       "             ('coast_region', Categorical(ordering='physical')),\n",
       "             ('clearing_district', Categorical(ordering='physical')),\n",
       "             ('place_receipt', Categorical(ordering='physical')),\n",
       "             ('shipper_name', String),\n",
       "             ('shipper_address', String),\n",
       "             ('consignee_name', String),\n",
       "             ('consignee_address', String),\n",
       "             ('notify_party1_name', String),\n",
       "             ('notify_party1_address', String),\n",
       "             ('notify_party2_name', String),\n",
       "             ('notify_party2_address', String),\n",
       "             ('commod_desc_raw', String),\n",
       "             ('container_id_marks', String),\n",
       "             ('marks_desc', String),\n",
       "             ('hs_code', String),\n",
       "             ('joc_code', String),\n",
       "             ('commod_short_desc', String),\n",
       "             ('container_ids', String),\n",
       "             ('carrier_name', Categorical(ordering='physical')),\n",
       "             ('carrier_scac', Categorical(ordering='physical')),\n",
       "             ('vessel_name', String),\n",
       "             ('voyage_number', String),\n",
       "             ('precarrier', Float64),\n",
       "             ('vessel_id', Int32),\n",
       "             ('inbond_code', Float64),\n",
       "             ('transport_mode', Categorical(ordering='physical')),\n",
       "             ('bol_number', String),\n",
       "             ('bol_id', String),\n",
       "             ('hs_2d', String),\n",
       "             ('year', Int32),\n",
       "             ('month', String),\n",
       "             ('direction', Categorical(ordering='physical')),\n",
       "             ('lane_id', Categorical(ordering='physical')),\n",
       "             ('lane_name', Categorical(ordering='physical')),\n",
       "             ('unified_carrier_name', Categorical(ordering='physical')),\n",
       "             ('unified_carrier_scac', Categorical(ordering='physical')),\n",
       "             ('voyage_id', Categorical(ordering='physical'))])"
      ]
     },
     "execution_count": 3,
     "metadata": {},
     "output_type": "execute_result"
    }
   ],
   "source": [
    "imports_lf.schema"
   ]
  },
  {
   "cell_type": "code",
   "execution_count": 4,
   "metadata": {},
   "outputs": [
    {
     "data": {
      "text/plain": [
       "OrderedDict([('shipper', String),\n",
       "             ('shipper_address', String),\n",
       "             ('weight', Float64),\n",
       "             ('weight_unit', Categorical(ordering='physical')),\n",
       "             ('qty', Float64),\n",
       "             ('quantity_type', Categorical(ordering='physical')),\n",
       "             ('teus', Float64),\n",
       "             ('carrier_name', Categorical(ordering='physical')),\n",
       "             ('carrier_scac', Categorical(ordering='physical')),\n",
       "             ('vessel_name', String),\n",
       "             ('voyage_number', String),\n",
       "             ('bol_number', String),\n",
       "             ('vessel_id', Int32),\n",
       "             ('value_est', Float64),\n",
       "             ('departure_port_code', Categorical(ordering='physical')),\n",
       "             ('departure_port_name', Categorical(ordering='physical')),\n",
       "             ('container_ids', String),\n",
       "             ('container_piece_count', Int32),\n",
       "             ('coast_region', Categorical(ordering='physical')),\n",
       "             ('commod_desc_raw', String),\n",
       "             ('commod_short_desc', String),\n",
       "             ('hs_code', String),\n",
       "             ('joc_code', String),\n",
       "             ('commod_short_desc_qty', String),\n",
       "             ('date_departure', Datetime(time_unit='us', time_zone=None)),\n",
       "             ('origin', String),\n",
       "             ('dest_territory', Categorical(ordering='physical')),\n",
       "             ('dest_region', Categorical(ordering='physical')),\n",
       "             ('arrival_port_code', Categorical(ordering='physical')),\n",
       "             ('arrival_port_name', Categorical(ordering='physical')),\n",
       "             ('bol_id', String),\n",
       "             ('hs_2d', String),\n",
       "             ('year', Int32),\n",
       "             ('month', String),\n",
       "             ('direction', Categorical(ordering='physical')),\n",
       "             ('lane_id', Categorical(ordering='physical')),\n",
       "             ('lane_name', Categorical(ordering='physical')),\n",
       "             ('unified_carrier_name', Categorical(ordering='physical')),\n",
       "             ('unified_carrier_scac', Categorical(ordering='physical')),\n",
       "             ('voyage_id', Categorical(ordering='physical'))])"
      ]
     },
     "execution_count": 4,
     "metadata": {},
     "output_type": "execute_result"
    }
   ],
   "source": [
    "exports_lf.schema"
   ]
  },
  {
   "cell_type": "markdown",
   "metadata": {},
   "source": [
    "## Notebook functions"
   ]
  },
  {
   "cell_type": "code",
   "execution_count": 3,
   "metadata": {},
   "outputs": [],
   "source": [
    "#fill nulls in volume cols with mean\n",
    "def fill_volume(lf):\n",
    "    '''ad hod function to fill volume columns with their means'''\n",
    "    return (\n",
    "        lf\n",
    "        .with_columns([\n",
    "            pl.col('teus').replace(0,None).fill_null(strategy='mean'),\n",
    "            pl.col('weight').replace(0,None).fill_null(strategy='mean'),\n",
    "            pl.col('qty').replace(0,None).fill_null(strategy='mean')\n",
    "            ])\n",
    "        )\n",
    "\n",
    "#plotly graph inspecting nulls over time by group\n",
    "def nulls_over_time_plotly(data_lf, group_var, time_var, value_var, title=False):\n",
    "    '''\n",
    "    Plots proportion of null values over time by group.\n",
    "    INPUTS:\n",
    "        data_lf - polars lazyframe containing the relevant data\n",
    "        group_var - str - the name of the column by which to group\n",
    "        time_var - str - the name of the time column (e.g., year, month) over which values will be counted\n",
    "        value_var - str - the name of the column containing the variable in question\n",
    "        title (default=False) - str - the title of the graph\n",
    "    OUTPUT:\n",
    "        a plotly express figure\n",
    "    DEPENDS ON:\n",
    "        polars\n",
    "        plotly express \n",
    "    '''\n",
    "    df = (\n",
    "        #select relevant columns\n",
    "        data_lf.select([group_var, time_var, value_var])\n",
    "        #group by, creating null count and non-null count cols\n",
    "        .group_by(group_var, time_var)\n",
    "        .agg([pl.col(value_var).null_count().alias('null_count'),\n",
    "                pl.col(value_var).count().alias('count')])\n",
    "        #compute percent null and fill new column\n",
    "        .with_columns((pl.col('null_count')/(pl.col('count')+pl.col('null_count'))).alias('null_percent'))\n",
    "        #cast group col to string to allow sensible ordering of legend\n",
    "        .cast({group_var:pl.Utf8})\n",
    "        #sort by date (to allow proper visualization of lines) and group (for legend ordering) \n",
    "        .sort(time_var, group_var)\n",
    "    ).collect()\n",
    "    #plot\n",
    "    fig = px.line(\n",
    "        data_frame=df,\n",
    "        x=time_var, y='null_percent',\n",
    "        color=group_var,\n",
    "        title= 'Count of nulls over time by source frame.' if not title else title\n",
    "    )\n",
    "    fig.show()\n",
    "    del df\n",
    "\n",
    "#plotly graph inspecting nulls by group\n",
    "def nulls_by_group_plotly(data_lf, group_var, value_var, title=False):\n",
    "    '''Plots proportion of null values in the given groups'''\n",
    "    df = (\n",
    "        data_lf.select([group_var, value_var])\n",
    "        .group_by(group_var)\n",
    "        .agg([pl.col(value_var).null_count().alias('null_count'),\n",
    "                pl.col(value_var).count().alias('count')])\n",
    "        .with_columns((pl.col('null_count')/(pl.col('count')+pl.col('null_count'))).alias('null_percent'))\n",
    "        .cast({group_var:pl.Utf8})\n",
    "        .sort('null_percent', descending=True)\n",
    "    ).collect()\n",
    "    #plot\n",
    "    fig = px.bar(\n",
    "        data_frame=df,\n",
    "        x=group_var, y='null_percent',\n",
    "        title= 'Null percent by group.' if not title else title\n",
    "    )\n",
    "    fig.show()\n",
    "\n",
    "#fill nulls over groups given a single unique value per group\n",
    "def fill_nulls_by_group(data_lf, group_vars, val_var):\n",
    "    '''Fills null values by group if and only if the val_var for that group contains exactly one non-null unique value.\n",
    "    INPUTS:\n",
    "        data_lf - polars lazyframe containing the relevant data\n",
    "        group_vars - iterable - the names of the columns by which groups will be created\n",
    "        val_var - string - the name of the column in which nulls will be filled\n",
    "    OUTPUT:\n",
    "        filled_lf - the resultant lazyframe \n",
    "    DEPENDS ON:\n",
    "        polars - current version written in polars 0.20.1\n",
    "    '''\n",
    "    filled_lf = (\n",
    "        data_lf.with_columns(\n",
    "            #if the group contains exactly one unique value: \n",
    "            pl.when(pl.col(val_var).drop_nulls().unique(maintain_order=True).len().over(group_vars)==1)\n",
    "            #then fill the group with that value\n",
    "            .then(pl.col(val_var).fill_null(pl.col(val_var).drop_nulls().unique(maintain_order=True).first().over(group_vars)))\n",
    "            #otherwise do nothing\n",
    "            .otherwise(pl.col(val_var))\n",
    "            )\n",
    "        )\n",
    "    return filled_lf\n",
    "\n",
    "def is_one2one(lf, col1, col2):\n",
    "    '''checks if the two pl.LazyFrame columns constitute a 1-1 pairing'''\n",
    "    forward = lf.group_by(col1).agg(pl.col(col2).drop_nulls().n_unique()).select(col2).max().collect().item() == 1\n",
    "    back = lf.group_by(col2).agg(pl.col(col1).drop_nulls().n_unique()).select(col1).max().collect().item() == 1\n",
    "    return (forward and back)\n",
    "\n",
    "def count_unique_by_group(lf, group_vars, val_var):\n",
    "    '''returns a dataframe of unique observations for the value variable over each group'''\n",
    "    df = (\n",
    "        lf.group_by(group_vars)\n",
    "        .agg(\n",
    "            pl.col(val_var).unique().alias('unique_values'),\n",
    "            pl.col(val_var).n_unique().alias('n_unique')\n",
    "        )\n",
    "        .drop_nulls()\n",
    "        .sort('n_unique', descending=True)\n",
    "        .collect()\n",
    "    )\n",
    "    return df\n",
    "\n",
    "def add_primary_carrier(lf):\n",
    "    '''ad hoc function to find primary carrier for each voyage and indicate cargo sharing'''\n",
    "    lf = (\n",
    "        lf.with_columns(\n",
    "            pl.col('teus').sum()\n",
    "            .over('voyage_id', 'unified_carrier_scac')\n",
    "            .alias('sum_teus')\n",
    "            )\n",
    "        .with_columns(\n",
    "            pl.col('unified_carrier_scac')\n",
    "            .sort_by('sum_teus', descending=True)\n",
    "            .drop_nulls().first()\n",
    "            .over('voyage_id')\n",
    "            .alias('primary_scac')\n",
    "            )\n",
    "        #add bool col if bol is from primary carrier\n",
    "        .with_columns(\n",
    "            (pl.col('unified_carrier_scac')==pl.col('primary_scac'))\n",
    "            .alias('primary_cargo')\n",
    "            )\n",
    "    )\n",
    "    return lf\n",
    "\n",
    "def add_primary_carrier_alt(lf):\n",
    "    '''alternative ad hoc function to find primary carrier for each vessel and indicate cargo sharing'''\n",
    "    lf = (\n",
    "        lf.with_columns(\n",
    "            pl.col('teus').sum()\n",
    "            .over('vessel_id', 'month', 'unified_carrier_scac')\n",
    "            .alias('sum_teus')\n",
    "            )\n",
    "        .with_columns(\n",
    "            pl.col('unified_carrier_scac')\n",
    "            .sort_by('sum_teus', descending=True)\n",
    "            .drop_nulls().first()\n",
    "            .over('vessel_id', 'month')\n",
    "            .alias('vessel_owner')\n",
    "            )\n",
    "        #add bool col if bol is from primary carrier\n",
    "        .with_columns(\n",
    "            (pl.col('unified_carrier_scac')==pl.col('vessel_owner'))\n",
    "            .alias('primary_cargo_alt')\n",
    "            )\n",
    "    )\n",
    "    return lf\n",
    "\n",
    "def sharing_over_time_plotly(data_lf, group_var, include_missing_voyages=True, limit=10, title=False):\n",
    "    '''\n",
    "    Plots proportion of shared cargo over time (months) by group_var.\n",
    "    INPUTS:\n",
    "        data_lf - polars lazyframe containing the relevant data\n",
    "        group_var - str - the name of the column by which to group\n",
    "        include_missing_voyages - bool - default=True, when False, drops missing voyages\n",
    "        title (default=False) - str - the title of the graph\n",
    "    OUTPUT:\n",
    "        a plotly express figure\n",
    "    DEPENDS ON:\n",
    "        polars\n",
    "        plotly express \n",
    "    '''\n",
    "    if not include_missing_voyages:\n",
    "        df = data_lf.drop_nulls('voyage_id')\n",
    "    else:\n",
    "        df = data_lf\n",
    "    \n",
    "    df = (\n",
    "        #select relevant columns\n",
    "        df.select([group_var, 'month', 'primary_cargo', 'teus'])\n",
    "        #sum teus over each group-month-shared \n",
    "        .group_by(group_var, 'month')\n",
    "        .agg(\n",
    "            (pl.col('teus')*pl.col('primary_cargo')).sum().alias('total_primary'),\n",
    "            pl.col('teus').sum().alias('total_teus')\n",
    "        )\n",
    "        #create proportion shared\n",
    "        .with_columns((1-(pl.col('total_primary')/pl.col('total_teus'))).alias('prop_shared'))\n",
    "        #cast group col to string to allow sensible ordering of legend\n",
    "        .cast({group_var:pl.Utf8})\n",
    "        #sort by date (to allow proper visualization of lines) and group (for legend ordering) \n",
    "        .sort('month')\n",
    "    ).collect()\n",
    "\n",
    "    #limit categories\n",
    "    top_groups = (\n",
    "        data_lf.group_by(group_var)\n",
    "        .agg(pl.col('teus').sum())\n",
    "        .sort('teus', descending=True)\n",
    "        .select(group_var)\n",
    "        .limit(limit)\n",
    "        .collect()\n",
    "        .to_series()\n",
    "        .cast(pl.Utf8)\n",
    "    )\n",
    "    \n",
    "    #plot\n",
    "    fig = px.line(\n",
    "        data_frame=df.filter(pl.col(group_var).is_in(top_groups)).with_columns(pl.col('month').str.to_datetime('%Y%m')),\n",
    "        x='month', y='prop_shared',\n",
    "        color=group_var,\n",
    "        title= 'Proportion of shared cargo over time.' if not title else title,\n",
    "        labels={\n",
    "            'prop_shared':'Proportion of cargo from non-primary carrier',\n",
    "            'month':'Month'\n",
    "        }\n",
    "    )\n",
    "    fig.show()\n",
    "\n",
    "def sharing_over_time_plotly_alt(data_lf, group_var, limit=10, title=False):\n",
    "    '''\n",
    "    Plots proportion of shared cargo over time (months) by group_var; drops bols with missing vessel_ids.\n",
    "    INPUTS:\n",
    "        data_lf - polars lazyframe containing the relevant data\n",
    "        group_var - str - the name of the column by which to group\n",
    "        title (default=False) - str - the title of the graph\n",
    "    OUTPUT:\n",
    "        a plotly express figure\n",
    "    DEPENDS ON:\n",
    "        polars\n",
    "        plotly express \n",
    "    '''\n",
    "    df = (\n",
    "        #drop missing vessel id\n",
    "        data_lf.drop_nulls('vessel_id')\n",
    "        #select relevant columns\n",
    "        .select([group_var, 'month', 'primary_cargo_alt', 'teus'])\n",
    "        #sum teus over each group-month-shared \n",
    "        .group_by(group_var, 'month')\n",
    "        .agg(\n",
    "            (pl.col('teus')*pl.col('primary_cargo_alt')).sum().alias('total_primary'),\n",
    "            pl.col('teus').sum().alias('total_teus')\n",
    "        )\n",
    "        #create proportion shared\n",
    "        .with_columns((1-(pl.col('total_primary')/pl.col('total_teus'))).alias('prop_shared'))\n",
    "        #cast group col to string to allow sensible ordering of legend\n",
    "        .cast({group_var:pl.Utf8})\n",
    "        #sort by date (to allow proper visualization of lines) and group (for legend ordering) \n",
    "        .sort('month')\n",
    "    ).collect()\n",
    "\n",
    "    #limit categories\n",
    "    top_groups = (\n",
    "        data_lf.group_by(group_var)\n",
    "        .agg(pl.col('teus').sum())\n",
    "        .sort('teus', descending=True)\n",
    "        .select(group_var)\n",
    "        .limit(limit)\n",
    "        .collect()\n",
    "        .to_series()\n",
    "        .cast(pl.Utf8)\n",
    "    )\n",
    "    \n",
    "    #plot\n",
    "    fig = px.line(\n",
    "        data_frame=df.filter(pl.col(group_var).is_in(top_groups)).with_columns(pl.col('month').str.to_datetime('%Y%m')),\n",
    "        x='month', y='prop_shared',\n",
    "        color=group_var,\n",
    "        title= 'Proportion of shared cargo over time.' if not title else title,\n",
    "        labels={\n",
    "            'prop_shared':'Proportion of cargo from non-primary carrier',\n",
    "            'month':'Month'\n",
    "        }\n",
    "    )\n",
    "    fig.show()\n"
   ]
  },
  {
   "cell_type": "markdown",
   "metadata": {},
   "source": [
    "## Missing Data\n"
   ]
  },
  {
   "cell_type": "code",
   "execution_count": null,
   "metadata": {},
   "outputs": [],
   "source": [
    "print('Missing Values Matrix for Exports. \\nThe vertical axis corresponds to date, with earliest at the top.  \\nNote the daily aggregation counts the row as non-null if any value that day is non-null.')\n",
    "msno.matrix(\n",
    "    exports_lf\n",
    "    #convert all columns except date to boolean False=null\n",
    "    .with_columns(pl.all().exclude('date_departure').is_not_null())\n",
    "    #aggregate by day to stay within visualization limitations \n",
    "    .group_by('date_departure').sum()\n",
    "    .sort('date_departure')\n",
    "    #convert False values back to null \n",
    "    .with_columns(pl.all().replace(0,None))\n",
    "    .collect()\n",
    "    .to_pandas()\n",
    "    );"
   ]
  },
  {
   "cell_type": "code",
   "execution_count": null,
   "metadata": {},
   "outputs": [],
   "source": [
    "print('Missing Values Matrix for Imports. \\nThe vertical axis corresponds to date, with earliest at the top. \\nNote the daily aggregation counts the row as non-null if any value that day is non-null.')\n",
    "msno.matrix(\n",
    "    imports_lf\n",
    "    #convert all columns except date to boolean False=null\n",
    "    .with_columns(pl.all().exclude('date_arrival').is_not_null())\n",
    "    #aggregate by day to stay within visualization limitations \n",
    "    .group_by('date_arrival').sum()\n",
    "    .sort('date_arrival')\n",
    "    #convert False values back to null \n",
    "    .with_columns(pl.all().replace(0,None))\n",
    "    .collect()\n",
    "    .to_pandas()\n",
    "    );"
   ]
  },
  {
   "cell_type": "markdown",
   "metadata": {},
   "source": [
    "### Zero values in TEU and other volume columns\n",
    "\n",
    "For the time being, we fill the zero (i.e., missing) volume data with the mean from non-zero observations. This step is expected to change as beter metadata is gathered. "
   ]
  },
  {
   "cell_type": "code",
   "execution_count": 4,
   "metadata": {},
   "outputs": [],
   "source": [
    "imports_lf = fill_volume(imports_lf)\n",
    "exports_lf = fill_volume(exports_lf)    "
   ]
  },
  {
   "cell_type": "markdown",
   "metadata": {},
   "source": [
    "### Missing Vessel and Voyage IDs\n",
    "\n",
    "Identifying unique vessels and voyages is critical to studying how long each vessel remains in port, how often carriers utilize alliances (e.g., what proportion of a vessel's cargo is from another carrier), and other quality metrics. The issue is especially concerning given the high proportion (~30% in some time periods) of missing data, as can be seen below."
   ]
  },
  {
   "cell_type": "code",
   "execution_count": null,
   "metadata": {},
   "outputs": [],
   "source": [
    "lf = pl.concat(\n",
    "    [imports_lf.select('direction', 'month', 'vessel_id'),\n",
    "    exports_lf.select('direction', 'month', 'vessel_id')]\n",
    ")\n",
    "\n",
    "nulls_over_time_plotly(\n",
    "    data_lf=lf,\n",
    "    group_var='direction',\n",
    "    time_var='month',\n",
    "    value_var='vessel_id',\n",
    "    title='Proportion of Missing Vessel IDs over time (original data).')"
   ]
  },
  {
   "cell_type": "code",
   "execution_count": null,
   "metadata": {},
   "outputs": [],
   "source": [
    "lf = pl.concat(\n",
    "    [imports_lf.select('direction', 'month', 'vessel_name'),\n",
    "    exports_lf.select('direction', 'month', 'vessel_name')]\n",
    ")\n",
    "\n",
    "nulls_over_time_plotly(\n",
    "    data_lf=lf,\n",
    "    group_var='direction',\n",
    "    time_var='month',\n",
    "    value_var='vessel_name',\n",
    "    title='Proportion of Missing Vessel Names over time (original data).')"
   ]
  },
  {
   "cell_type": "code",
   "execution_count": null,
   "metadata": {},
   "outputs": [],
   "source": [
    "lf = pl.concat(\n",
    "    [imports_lf.select('direction', 'month', 'voyage_id'),\n",
    "    exports_lf.select('direction', 'month', 'voyage_id')]\n",
    ")\n",
    "\n",
    "nulls_over_time_plotly(\n",
    "    data_lf=lf,\n",
    "    group_var='direction',\n",
    "    time_var='month',\n",
    "    value_var='voyage_id',\n",
    "    title='Proportion of Missing Voyage IDs over time (original data).')"
   ]
  },
  {
   "cell_type": "markdown",
   "metadata": {},
   "source": [
    "## Primary Carrier\n",
    "\n",
    "For any given voyage, we assign primary carrier based on the proportion of TEUs from each carrier imported/exported on that voyage (max proportion is primary carrier). "
   ]
  },
  {
   "cell_type": "code",
   "execution_count": 5,
   "metadata": {},
   "outputs": [],
   "source": [
    "#add primary carrier and shared cargo columns to lfs\n",
    "imports_lf = add_primary_carrier(imports_lf)\n",
    "exports_lf = add_primary_carrier(exports_lf)"
   ]
  },
  {
   "cell_type": "code",
   "execution_count": 6,
   "metadata": {},
   "outputs": [
    {
     "data": {
      "application/vnd.plotly.v1+json": {
       "config": {
        "plotlyServerURL": "https://plot.ly"
       },
       "data": [
        {
         "hovertemplate": "direction=export<br>Month=%{x}<br>Proportion of cargo from non-primary carrier=%{y}<extra></extra>",
         "legendgroup": "export",
         "line": {
          "color": "#636efa",
          "dash": "solid"
         },
         "marker": {
          "symbol": "circle"
         },
         "mode": "lines",
         "name": "export",
         "orientation": "v",
         "showlegend": true,
         "type": "scatter",
         "x": [
          "2005-01-01T00:00:00",
          "2005-02-01T00:00:00",
          "2005-03-01T00:00:00",
          "2005-04-01T00:00:00",
          "2005-05-01T00:00:00",
          "2005-06-01T00:00:00",
          "2005-07-01T00:00:00",
          "2005-08-01T00:00:00",
          "2005-09-01T00:00:00",
          "2005-10-01T00:00:00",
          "2005-11-01T00:00:00",
          "2005-12-01T00:00:00",
          "2006-01-01T00:00:00",
          "2006-02-01T00:00:00",
          "2006-03-01T00:00:00",
          "2006-04-01T00:00:00",
          "2006-05-01T00:00:00",
          "2006-06-01T00:00:00",
          "2006-07-01T00:00:00",
          "2006-08-01T00:00:00",
          "2006-09-01T00:00:00",
          "2006-10-01T00:00:00",
          "2006-11-01T00:00:00",
          "2006-12-01T00:00:00",
          "2007-01-01T00:00:00",
          "2007-02-01T00:00:00",
          "2007-03-01T00:00:00",
          "2007-04-01T00:00:00",
          "2007-05-01T00:00:00",
          "2007-06-01T00:00:00",
          "2007-07-01T00:00:00",
          "2007-08-01T00:00:00",
          "2007-09-01T00:00:00",
          "2007-10-01T00:00:00",
          "2007-11-01T00:00:00",
          "2007-12-01T00:00:00",
          "2008-01-01T00:00:00",
          "2008-02-01T00:00:00",
          "2008-03-01T00:00:00",
          "2008-04-01T00:00:00",
          "2008-05-01T00:00:00",
          "2008-06-01T00:00:00",
          "2008-07-01T00:00:00",
          "2008-08-01T00:00:00",
          "2008-09-01T00:00:00",
          "2008-10-01T00:00:00",
          "2008-11-01T00:00:00",
          "2008-12-01T00:00:00",
          "2009-01-01T00:00:00",
          "2009-02-01T00:00:00",
          "2009-03-01T00:00:00",
          "2009-04-01T00:00:00",
          "2009-05-01T00:00:00",
          "2009-06-01T00:00:00",
          "2009-07-01T00:00:00",
          "2009-08-01T00:00:00",
          "2009-09-01T00:00:00",
          "2009-10-01T00:00:00",
          "2009-11-01T00:00:00",
          "2009-12-01T00:00:00",
          "2010-01-01T00:00:00",
          "2010-02-01T00:00:00",
          "2010-03-01T00:00:00",
          "2010-04-01T00:00:00",
          "2010-05-01T00:00:00",
          "2010-06-01T00:00:00",
          "2010-07-01T00:00:00",
          "2010-08-01T00:00:00",
          "2010-09-01T00:00:00",
          "2010-10-01T00:00:00",
          "2010-11-01T00:00:00",
          "2010-12-01T00:00:00",
          "2011-01-01T00:00:00",
          "2011-02-01T00:00:00",
          "2011-03-01T00:00:00",
          "2011-04-01T00:00:00",
          "2011-05-01T00:00:00",
          "2011-06-01T00:00:00",
          "2011-07-01T00:00:00",
          "2011-08-01T00:00:00",
          "2011-09-01T00:00:00",
          "2011-10-01T00:00:00",
          "2011-11-01T00:00:00",
          "2011-12-01T00:00:00",
          "2012-01-01T00:00:00",
          "2012-02-01T00:00:00",
          "2012-03-01T00:00:00",
          "2012-04-01T00:00:00",
          "2012-05-01T00:00:00",
          "2012-06-01T00:00:00",
          "2012-07-01T00:00:00",
          "2012-08-01T00:00:00",
          "2012-09-01T00:00:00",
          "2012-10-01T00:00:00",
          "2012-11-01T00:00:00",
          "2012-12-01T00:00:00",
          "2013-01-01T00:00:00",
          "2013-02-01T00:00:00",
          "2013-03-01T00:00:00",
          "2013-04-01T00:00:00",
          "2013-05-01T00:00:00",
          "2013-06-01T00:00:00",
          "2013-07-01T00:00:00",
          "2013-08-01T00:00:00",
          "2013-09-01T00:00:00",
          "2013-10-01T00:00:00",
          "2013-11-01T00:00:00",
          "2013-12-01T00:00:00",
          "2014-01-01T00:00:00",
          "2014-02-01T00:00:00",
          "2014-03-01T00:00:00",
          "2014-04-01T00:00:00",
          "2014-05-01T00:00:00",
          "2014-06-01T00:00:00",
          "2014-07-01T00:00:00",
          "2014-08-01T00:00:00",
          "2014-09-01T00:00:00",
          "2014-10-01T00:00:00",
          "2014-11-01T00:00:00",
          "2014-12-01T00:00:00",
          "2015-01-01T00:00:00",
          "2015-02-01T00:00:00",
          "2015-03-01T00:00:00",
          "2015-04-01T00:00:00",
          "2015-05-01T00:00:00",
          "2015-06-01T00:00:00",
          "2015-07-01T00:00:00",
          "2015-08-01T00:00:00",
          "2015-09-01T00:00:00",
          "2015-10-01T00:00:00",
          "2015-11-01T00:00:00",
          "2015-12-01T00:00:00",
          "2016-01-01T00:00:00",
          "2016-02-01T00:00:00",
          "2016-03-01T00:00:00",
          "2016-04-01T00:00:00",
          "2016-05-01T00:00:00",
          "2016-06-01T00:00:00",
          "2016-07-01T00:00:00",
          "2016-08-01T00:00:00",
          "2016-09-01T00:00:00",
          "2016-10-01T00:00:00",
          "2016-11-01T00:00:00",
          "2016-12-01T00:00:00",
          "2017-01-01T00:00:00",
          "2017-02-01T00:00:00",
          "2017-03-01T00:00:00",
          "2017-04-01T00:00:00",
          "2017-05-01T00:00:00",
          "2017-06-01T00:00:00",
          "2017-07-01T00:00:00",
          "2017-08-01T00:00:00",
          "2017-09-01T00:00:00",
          "2017-10-01T00:00:00",
          "2017-11-01T00:00:00",
          "2017-12-01T00:00:00",
          "2018-01-01T00:00:00",
          "2018-02-01T00:00:00",
          "2018-03-01T00:00:00",
          "2018-04-01T00:00:00",
          "2018-05-01T00:00:00",
          "2018-06-01T00:00:00",
          "2018-07-01T00:00:00",
          "2018-08-01T00:00:00",
          "2018-09-01T00:00:00",
          "2018-10-01T00:00:00",
          "2018-11-01T00:00:00",
          "2018-12-01T00:00:00",
          "2019-01-01T00:00:00",
          "2019-02-01T00:00:00",
          "2019-03-01T00:00:00",
          "2019-04-01T00:00:00",
          "2019-05-01T00:00:00",
          "2019-06-01T00:00:00",
          "2019-07-01T00:00:00",
          "2019-08-01T00:00:00",
          "2019-09-01T00:00:00",
          "2019-10-01T00:00:00",
          "2019-11-01T00:00:00",
          "2019-12-01T00:00:00",
          "2020-01-01T00:00:00",
          "2020-02-01T00:00:00",
          "2020-03-01T00:00:00",
          "2020-04-01T00:00:00",
          "2020-05-01T00:00:00",
          "2020-06-01T00:00:00",
          "2020-07-01T00:00:00",
          "2020-08-01T00:00:00",
          "2020-09-01T00:00:00",
          "2020-10-01T00:00:00",
          "2020-11-01T00:00:00",
          "2020-12-01T00:00:00",
          "2021-01-01T00:00:00",
          "2021-02-01T00:00:00",
          "2021-03-01T00:00:00",
          "2021-04-01T00:00:00",
          "2021-05-01T00:00:00",
          "2021-06-01T00:00:00",
          "2021-07-01T00:00:00",
          "2021-08-01T00:00:00",
          "2021-09-01T00:00:00",
          "2021-10-01T00:00:00",
          "2021-11-01T00:00:00",
          "2021-12-01T00:00:00",
          "2022-01-01T00:00:00",
          "2022-02-01T00:00:00",
          "2022-03-01T00:00:00",
          "2022-04-01T00:00:00",
          "2022-05-01T00:00:00",
          "2022-06-01T00:00:00",
          "2022-07-01T00:00:00",
          "2022-08-01T00:00:00",
          "2022-09-01T00:00:00",
          "2022-10-01T00:00:00",
          "2022-11-01T00:00:00",
          "2022-12-01T00:00:00",
          "2023-01-01T00:00:00",
          "2023-02-01T00:00:00",
          "2023-03-01T00:00:00",
          "2023-04-01T00:00:00",
          "2023-05-01T00:00:00",
          "2023-06-01T00:00:00",
          "2023-07-01T00:00:00",
          "2023-08-01T00:00:00",
          "2023-09-01T00:00:00",
          "2023-10-01T00:00:00",
          "2023-11-01T00:00:00"
         ],
         "xaxis": "x",
         "y": [
          0.21320590869575973,
          0.21727322837778673,
          0.21293542112774866,
          0.21051235439565064,
          0.2131165381557616,
          0.21994996010970058,
          0.2129768699305249,
          0.21822196737672495,
          0.2063016878446433,
          0.21515969728826811,
          0.21354466976599273,
          0.20844919615139013,
          0.2169920386763735,
          0.21219412284633032,
          0.21927753290719776,
          0.217254559440625,
          0.21662754740846013,
          0.21262705004012583,
          0.21076185819034665,
          0.2064196700480514,
          0.20866033319529842,
          0.20001295024555854,
          0.20468710488312003,
          0.18861552766124445,
          0.1911370172353979,
          0.19671760593476184,
          0.20265145837671594,
          0.20196069704645714,
          0.20309949536984673,
          0.1971196072393172,
          0.19057008278138832,
          0.19633894093282067,
          0.20244824778393655,
          0.2002964909254823,
          0.20330495564086615,
          0.1955823789086918,
          0.19710742224733202,
          0.19447586891036606,
          0.1958043865088389,
          0.1985802001847513,
          0.1976224668897817,
          0.19062686465354928,
          0.20594568690066928,
          0.20317283696490362,
          0.20923420681324623,
          0.19846166822353095,
          0.1894743192389533,
          0.1879387324029249,
          0.18955277247591895,
          0.18664980008546805,
          0.18266055478645005,
          0.1844763489223772,
          0.18338612880990557,
          0.19077028997212098,
          0.19246201686734798,
          0.1957276898525533,
          0.2002736618617561,
          0.19441575755267682,
          0.19624708624675113,
          0.24634420697371107,
          0.44187051888373186,
          0.4051788732633589,
          0.36878743435349093,
          0.3798411046829314,
          0.3573176895855007,
          0.3555310705505701,
          0.3691110124985755,
          0.36254592675057273,
          0.3581577021640966,
          0.3477083752664055,
          0.3496367808151415,
          0.34388915169873435,
          0.3316046299372798,
          0.34172830562092216,
          0.33039086977143495,
          0.3489908583966447,
          0.3471064455466015,
          0.35690554860624035,
          0.346611297385092,
          0.3572008805752218,
          0.35277395273959167,
          0.3256773109338912,
          0.32975122110604227,
          0.3203091034892297,
          0.3115117919173269,
          0.3346466672009397,
          0.32091412002983455,
          0.3211986161493009,
          0.31946418013748223,
          0.33039974345429324,
          0.33027293985665895,
          0.31373680933445747,
          0.32033335443356215,
          0.2997012629949628,
          0.31207738203569957,
          0.28636328921152765,
          0.2824605118322836,
          0.30125404189125593,
          0.2680222862527316,
          0.27002769212111444,
          0.2877023228844109,
          0.10380042081612473,
          0.08465381759778179,
          0.08540098866352164,
          0.08524946886180185,
          0.08728298338293694,
          0.09484369779229285,
          0.09563958234889802,
          0.09793714277235244,
          0.104583651426432,
          0.10075964072197885,
          0.09646463781552772,
          0.10148627364563101,
          0.11356328238839308,
          0.11702554837618939,
          0.12208547079188337,
          0.12158971716079359,
          0.12221952242314282,
          0.12055183557077764,
          0.1645734081372432,
          0.16959670737164645,
          0.1441715185411837,
          0.1362389287218161,
          0.14553900235795303,
          0.14268134817569045,
          0.14392971650876862,
          0.1534442442304349,
          0.14425738603683713,
          0.14735557670606403,
          0.14604123028419624,
          0.14708715018430174,
          0.13941007271837325,
          0.15952899258196107,
          0.16631657980039183,
          0.16458876794773858,
          0.15859826696403823,
          0.15121912899628231,
          0.1448720586832486,
          0.16601628598235063,
          0.14675091360532744,
          0.14010704126523288,
          0.15696165106159776,
          0.15519409102914017,
          0.13371639426939863,
          0.1514439428418034,
          0.15898076345083012,
          0.14561242470942914,
          0.1579284470594544,
          0.1661356351614126,
          0.17234391941261906,
          0.16749534987534886,
          0.16935375179734702,
          0.1678660771038757,
          0.1767211457091712,
          0.20290160899594656,
          0.28017687972354477,
          0.26241606105910853,
          0.26068103717410807,
          0.28386933957344274,
          0.234804457648783,
          0.24347404658889593,
          0.23423111340746205,
          0.22442666809706358,
          0.25223020050428957,
          0.2479581848214515,
          0.20949524050560575,
          0.2440903787593427,
          0.23115011095467253,
          0.2388372836993563,
          0.23826091070373023,
          0.2313837093678468,
          0.27204271948877623,
          0.23952067591618054,
          0.2251335060464007,
          0.24692444168264305,
          0.24789697318239867,
          0.22238944251398263,
          0.24518834353467067,
          0.2365735228550151,
          0.23892004953553514,
          0.2316430980712496,
          0.28673755769110176,
          0.23703105703003102,
          0.26812922485116275,
          0.2870382823903562,
          0.24410304431853225,
          0.23454197392983922,
          0.24672141254405433,
          0.23801256371157642,
          0.23679012801528232,
          0.22804216310752146,
          0.22952528845285114,
          0.22005209565430317,
          0.2153873653992432,
          0.22060239238797652,
          0.23807520281948835,
          0.2505215463184388,
          0.21923528498245015,
          0.22353598371858008,
          0.19481051472222788,
          0.21997871560542637,
          0.21386106313166764,
          0.19365771393498665,
          0.18777517531454946,
          0.18809303841836011,
          0.19035935435665885,
          0.17225663362175225,
          0.19521802421588452,
          0.16940291386437145,
          0.17718716118892053,
          0.1662819700789363,
          0.15923232908082874,
          0.16293054742278235,
          0.15419812081084605,
          0.15642125726356815,
          0.14101449309080305,
          0.1366142629757826,
          0.14592073263087924,
          0.1370917409807868,
          0.13634659933814774,
          0.13231913470960732,
          0.11742622518424484,
          0.11057778830904774,
          0.10948556126840658,
          0.10633880377240468,
          0.08125145176433957,
          0.11021565886972506
         ],
         "yaxis": "y"
        },
        {
         "hovertemplate": "direction=import<br>Month=%{x}<br>Proportion of cargo from non-primary carrier=%{y}<extra></extra>",
         "legendgroup": "import",
         "line": {
          "color": "#EF553B",
          "dash": "solid"
         },
         "marker": {
          "symbol": "circle"
         },
         "mode": "lines",
         "name": "import",
         "orientation": "v",
         "showlegend": true,
         "type": "scatter",
         "x": [
          "2005-01-01T00:00:00",
          "2005-02-01T00:00:00",
          "2005-03-01T00:00:00",
          "2005-04-01T00:00:00",
          "2005-05-01T00:00:00",
          "2005-06-01T00:00:00",
          "2005-07-01T00:00:00",
          "2005-08-01T00:00:00",
          "2005-09-01T00:00:00",
          "2005-10-01T00:00:00",
          "2005-11-01T00:00:00",
          "2005-12-01T00:00:00",
          "2006-01-01T00:00:00",
          "2006-02-01T00:00:00",
          "2006-03-01T00:00:00",
          "2006-04-01T00:00:00",
          "2006-05-01T00:00:00",
          "2006-06-01T00:00:00",
          "2006-07-01T00:00:00",
          "2006-08-01T00:00:00",
          "2006-09-01T00:00:00",
          "2006-10-01T00:00:00",
          "2006-11-01T00:00:00",
          "2006-12-01T00:00:00",
          "2007-01-01T00:00:00",
          "2007-02-01T00:00:00",
          "2007-03-01T00:00:00",
          "2007-04-01T00:00:00",
          "2007-05-01T00:00:00",
          "2007-06-01T00:00:00",
          "2007-07-01T00:00:00",
          "2007-08-01T00:00:00",
          "2007-09-01T00:00:00",
          "2007-10-01T00:00:00",
          "2007-11-01T00:00:00",
          "2007-12-01T00:00:00",
          "2008-01-01T00:00:00",
          "2008-02-01T00:00:00",
          "2008-03-01T00:00:00",
          "2008-04-01T00:00:00",
          "2008-05-01T00:00:00",
          "2008-06-01T00:00:00",
          "2008-07-01T00:00:00",
          "2008-08-01T00:00:00",
          "2008-09-01T00:00:00",
          "2008-10-01T00:00:00",
          "2008-11-01T00:00:00",
          "2008-12-01T00:00:00",
          "2009-01-01T00:00:00",
          "2009-02-01T00:00:00",
          "2009-03-01T00:00:00",
          "2009-04-01T00:00:00",
          "2009-05-01T00:00:00",
          "2009-06-01T00:00:00",
          "2009-07-01T00:00:00",
          "2009-08-01T00:00:00",
          "2009-09-01T00:00:00",
          "2009-10-01T00:00:00",
          "2009-11-01T00:00:00",
          "2009-12-01T00:00:00",
          "2010-01-01T00:00:00",
          "2010-02-01T00:00:00",
          "2010-03-01T00:00:00",
          "2010-04-01T00:00:00",
          "2010-05-01T00:00:00",
          "2010-06-01T00:00:00",
          "2010-07-01T00:00:00",
          "2010-08-01T00:00:00",
          "2010-09-01T00:00:00",
          "2010-10-01T00:00:00",
          "2010-11-01T00:00:00",
          "2010-12-01T00:00:00",
          "2011-01-01T00:00:00",
          "2011-02-01T00:00:00",
          "2011-03-01T00:00:00",
          "2011-04-01T00:00:00",
          "2011-05-01T00:00:00",
          "2011-06-01T00:00:00",
          "2011-07-01T00:00:00",
          "2011-08-01T00:00:00",
          "2011-09-01T00:00:00",
          "2011-10-01T00:00:00",
          "2011-11-01T00:00:00",
          "2011-12-01T00:00:00",
          "2012-01-01T00:00:00",
          "2012-02-01T00:00:00",
          "2012-03-01T00:00:00",
          "2012-04-01T00:00:00",
          "2012-05-01T00:00:00",
          "2012-06-01T00:00:00",
          "2012-07-01T00:00:00",
          "2012-08-01T00:00:00",
          "2012-09-01T00:00:00",
          "2012-10-01T00:00:00",
          "2012-11-01T00:00:00",
          "2012-12-01T00:00:00",
          "2013-01-01T00:00:00",
          "2013-02-01T00:00:00",
          "2013-03-01T00:00:00",
          "2013-04-01T00:00:00",
          "2013-05-01T00:00:00",
          "2013-06-01T00:00:00",
          "2013-07-01T00:00:00",
          "2013-08-01T00:00:00",
          "2013-09-01T00:00:00",
          "2013-10-01T00:00:00",
          "2013-11-01T00:00:00",
          "2013-12-01T00:00:00",
          "2014-01-01T00:00:00",
          "2014-02-01T00:00:00",
          "2014-03-01T00:00:00",
          "2014-04-01T00:00:00",
          "2014-05-01T00:00:00",
          "2014-06-01T00:00:00",
          "2014-07-01T00:00:00",
          "2014-08-01T00:00:00",
          "2014-09-01T00:00:00",
          "2014-10-01T00:00:00",
          "2014-11-01T00:00:00",
          "2014-12-01T00:00:00",
          "2015-01-01T00:00:00",
          "2015-02-01T00:00:00",
          "2015-03-01T00:00:00",
          "2015-04-01T00:00:00",
          "2015-05-01T00:00:00",
          "2015-06-01T00:00:00",
          "2015-07-01T00:00:00",
          "2015-08-01T00:00:00",
          "2015-09-01T00:00:00",
          "2015-10-01T00:00:00",
          "2015-11-01T00:00:00",
          "2015-12-01T00:00:00",
          "2016-01-01T00:00:00",
          "2016-02-01T00:00:00",
          "2016-03-01T00:00:00",
          "2016-04-01T00:00:00",
          "2016-05-01T00:00:00",
          "2016-06-01T00:00:00",
          "2016-07-01T00:00:00",
          "2016-08-01T00:00:00",
          "2016-09-01T00:00:00",
          "2016-10-01T00:00:00",
          "2016-11-01T00:00:00",
          "2016-12-01T00:00:00",
          "2017-01-01T00:00:00",
          "2017-02-01T00:00:00",
          "2017-03-01T00:00:00",
          "2017-04-01T00:00:00",
          "2017-05-01T00:00:00",
          "2017-06-01T00:00:00",
          "2017-07-01T00:00:00",
          "2017-08-01T00:00:00",
          "2017-09-01T00:00:00",
          "2017-10-01T00:00:00",
          "2017-11-01T00:00:00",
          "2017-12-01T00:00:00",
          "2018-01-01T00:00:00",
          "2018-02-01T00:00:00",
          "2018-03-01T00:00:00",
          "2018-04-01T00:00:00",
          "2018-05-01T00:00:00",
          "2018-06-01T00:00:00",
          "2018-07-01T00:00:00",
          "2018-08-01T00:00:00",
          "2018-09-01T00:00:00",
          "2018-10-01T00:00:00",
          "2018-11-01T00:00:00",
          "2018-12-01T00:00:00",
          "2019-01-01T00:00:00",
          "2019-02-01T00:00:00",
          "2019-03-01T00:00:00",
          "2019-04-01T00:00:00",
          "2019-05-01T00:00:00",
          "2019-06-01T00:00:00",
          "2019-07-01T00:00:00",
          "2019-08-01T00:00:00",
          "2019-09-01T00:00:00",
          "2019-10-01T00:00:00",
          "2019-11-01T00:00:00",
          "2019-12-01T00:00:00",
          "2020-01-01T00:00:00",
          "2020-02-01T00:00:00",
          "2020-03-01T00:00:00",
          "2020-04-01T00:00:00",
          "2020-05-01T00:00:00",
          "2020-06-01T00:00:00",
          "2020-07-01T00:00:00",
          "2020-08-01T00:00:00",
          "2020-09-01T00:00:00",
          "2020-10-01T00:00:00",
          "2020-11-01T00:00:00",
          "2020-12-01T00:00:00",
          "2021-01-01T00:00:00",
          "2021-02-01T00:00:00",
          "2021-03-01T00:00:00",
          "2021-04-01T00:00:00",
          "2021-05-01T00:00:00",
          "2021-06-01T00:00:00",
          "2021-07-01T00:00:00",
          "2021-08-01T00:00:00",
          "2021-09-01T00:00:00",
          "2021-10-01T00:00:00",
          "2021-11-01T00:00:00",
          "2021-12-01T00:00:00",
          "2022-01-01T00:00:00",
          "2022-02-01T00:00:00",
          "2022-03-01T00:00:00",
          "2022-04-01T00:00:00",
          "2022-05-01T00:00:00",
          "2022-06-01T00:00:00",
          "2022-07-01T00:00:00",
          "2022-08-01T00:00:00",
          "2022-09-01T00:00:00",
          "2022-10-01T00:00:00",
          "2022-11-01T00:00:00",
          "2022-12-01T00:00:00",
          "2023-01-01T00:00:00",
          "2023-02-01T00:00:00",
          "2023-03-01T00:00:00",
          "2023-04-01T00:00:00",
          "2023-05-01T00:00:00",
          "2023-06-01T00:00:00",
          "2023-07-01T00:00:00",
          "2023-08-01T00:00:00",
          "2023-09-01T00:00:00",
          "2023-10-01T00:00:00",
          "2023-11-01T00:00:00"
         ],
         "xaxis": "x",
         "y": [
          0.29888220019542255,
          0.3093035680977573,
          0.30305080813823415,
          0.32157028354193273,
          0.31734361025283553,
          0.3215590065292453,
          0.2880035183751659,
          0.30239145621750296,
          0.30902729792404215,
          0.3124044808188905,
          0.30611396797683865,
          0.33633663663764224,
          0.28129104996484233,
          0.27099289126830817,
          0.26293195607550923,
          0.26596789479939886,
          0.26774988157573776,
          0.2786900730654742,
          0.27838402652946137,
          0.2747461525205437,
          0.27650206516183073,
          0.2734369651719216,
          0.27324020342073685,
          0.27414438778585515,
          0.2796818451132632,
          0.28659292553875504,
          0.2819757178546981,
          0.28949959282182525,
          0.2762992885939948,
          0.26996334142362677,
          0.2723495126319747,
          0.2701870894053272,
          0.2833813283123533,
          0.2833595743347078,
          0.2866622922589911,
          0.2809625597236727,
          0.2782526078197445,
          0.2801697131366002,
          0.27602639624834446,
          0.27840217289481717,
          0.28828266207439457,
          0.2853893306305513,
          0.29474278705864876,
          0.29627143088085517,
          0.29082946642267204,
          0.2859952416541962,
          0.29049560073438563,
          0.2905787863986311,
          0.2871197746479338,
          0.27555202873104423,
          0.2780517632574778,
          0.29162927650417925,
          0.2901279661832168,
          0.2855936652048826,
          0.3121354417886846,
          0.3129336263469501,
          0.31757145440317425,
          0.31871223051174435,
          0.32061482068103664,
          0.3173310292932121,
          0.3980203169123998,
          0.4973473627336582,
          0.43150687014393574,
          0.4281389993683201,
          0.39451715538531573,
          0.402803789442186,
          0.40039331859671545,
          0.40584194826009823,
          0.404049501232159,
          0.4011067986335707,
          0.3960747451742809,
          0.40301146310393754,
          0.38650002486661683,
          0.3902622421291011,
          0.37551662561630517,
          0.38034537293220205,
          0.3879026922181755,
          0.3927542909058803,
          0.3812751565318394,
          0.3894456540451825,
          0.3805918978224674,
          0.38696503185741926,
          0.3743497514804661,
          0.36795267818717414,
          0.3529077809470581,
          0.36147004853123543,
          0.36069713344665566,
          0.3626918233264793,
          0.36586969581416606,
          0.3635825796409321,
          0.35993310750172225,
          0.3595609262295397,
          0.35377404737048146,
          0.35148511583107944,
          0.3512721623196935,
          0.35572527346384064,
          0.3520535556319013,
          0.3542718248006972,
          0.3302229232224776,
          0.36138146529155724,
          0.3697549545932868,
          0.3740946867621753,
          0.2530865443610304,
          0.2347427455352783,
          0.2305235257873044,
          0.2314708593294187,
          0.23714940634625792,
          0.23740877413633332,
          0.24689006249772838,
          0.23697786329725623,
          0.22244072397432113,
          0.24298640955212902,
          0.24364685415833987,
          0.2701666550890145,
          0.27535144442916726,
          0.2715936723364314,
          0.2813999072088237,
          0.2674197925111925,
          0.27015743506427414,
          0.2677388283942732,
          0.2940507123749697,
          0.29184817088238846,
          0.2614837931728148,
          0.2601041986949052,
          0.27280892176703775,
          0.27481419647244043,
          0.2764558636798672,
          0.28113521806147335,
          0.2826423950514907,
          0.27656539637635946,
          0.2815996311015284,
          0.2787785080864885,
          0.29257854023108865,
          0.2896359687075539,
          0.25910739547463324,
          0.2760515239508021,
          0.29262970825572554,
          0.2854148212758373,
          0.29296071626041487,
          0.4126159586857464,
          0.28307665965859996,
          0.2844157524372367,
          0.2812683669986792,
          0.28728879082831327,
          0.29061290112293703,
          0.30513516969763976,
          0.26987596434030237,
          0.28610629239115715,
          0.29979981395911226,
          0.3061244272962679,
          0.3076887185400744,
          0.31815044797368164,
          0.3126094288661472,
          0.3055125888682877,
          0.3049265465289588,
          0.3384903759352592,
          0.4047093746041638,
          0.3895174265897454,
          0.3693568694096869,
          0.36983872619548697,
          0.36364629036360363,
          0.35073520710252615,
          0.33148356613920715,
          0.34568182511396506,
          0.3509129762942502,
          0.32241802676806575,
          0.342245368358605,
          0.33716867248261506,
          0.3622147130543293,
          0.3442453705771221,
          0.31182028669940165,
          0.3502370228026138,
          0.3399322515734442,
          0.32555806529705944,
          0.3438092060338066,
          0.34154561676153017,
          0.32101246112297555,
          0.32552248896449454,
          0.33104384803156195,
          0.32116063569146136,
          0.3428771672354458,
          0.3310215207494466,
          0.2985691460333547,
          0.2815218296687445,
          0.34019811576703196,
          0.32015755169113735,
          0.32285937825462085,
          0.31344450532644486,
          0.2967291988961942,
          0.3144746174842957,
          0.28227507222537784,
          0.32878276004859897,
          0.32128958486051384,
          0.3016062606461417,
          0.3005152890430728,
          0.29611172906310457,
          0.30549654912999347,
          0.2858029611116042,
          0.2821167173713214,
          0.2819482968694148,
          0.2523525558443688,
          0.2672783764519894,
          0.24303026943249117,
          0.2101006425594777,
          0.21705391305047816,
          0.22041546733980577,
          0.21459938561489567,
          0.22809589126597374,
          0.2106656089253195,
          0.22397032320126775,
          0.21551788353549517,
          0.21756524424485546,
          0.2361076241466591,
          0.20158123946255857,
          0.20829885194361664,
          0.20325497817697624,
          0.2027778368819898,
          0.21622854735263675,
          0.2019741465215762,
          0.212000722544616,
          0.23372732070175228,
          0.2318117508642985,
          0.22985075395831256,
          0.22916501573067194,
          0.23381196855395814,
          0.24248985588841732,
          0.22873760207499128
         ],
         "yaxis": "y"
        }
       ],
       "layout": {
        "legend": {
         "title": {
          "text": "direction"
         },
         "tracegroupgap": 0
        },
        "template": {
         "data": {
          "bar": [
           {
            "error_x": {
             "color": "#2a3f5f"
            },
            "error_y": {
             "color": "#2a3f5f"
            },
            "marker": {
             "line": {
              "color": "#E5ECF6",
              "width": 0.5
             },
             "pattern": {
              "fillmode": "overlay",
              "size": 10,
              "solidity": 0.2
             }
            },
            "type": "bar"
           }
          ],
          "barpolar": [
           {
            "marker": {
             "line": {
              "color": "#E5ECF6",
              "width": 0.5
             },
             "pattern": {
              "fillmode": "overlay",
              "size": 10,
              "solidity": 0.2
             }
            },
            "type": "barpolar"
           }
          ],
          "carpet": [
           {
            "aaxis": {
             "endlinecolor": "#2a3f5f",
             "gridcolor": "white",
             "linecolor": "white",
             "minorgridcolor": "white",
             "startlinecolor": "#2a3f5f"
            },
            "baxis": {
             "endlinecolor": "#2a3f5f",
             "gridcolor": "white",
             "linecolor": "white",
             "minorgridcolor": "white",
             "startlinecolor": "#2a3f5f"
            },
            "type": "carpet"
           }
          ],
          "choropleth": [
           {
            "colorbar": {
             "outlinewidth": 0,
             "ticks": ""
            },
            "type": "choropleth"
           }
          ],
          "contour": [
           {
            "colorbar": {
             "outlinewidth": 0,
             "ticks": ""
            },
            "colorscale": [
             [
              0,
              "#0d0887"
             ],
             [
              0.1111111111111111,
              "#46039f"
             ],
             [
              0.2222222222222222,
              "#7201a8"
             ],
             [
              0.3333333333333333,
              "#9c179e"
             ],
             [
              0.4444444444444444,
              "#bd3786"
             ],
             [
              0.5555555555555556,
              "#d8576b"
             ],
             [
              0.6666666666666666,
              "#ed7953"
             ],
             [
              0.7777777777777778,
              "#fb9f3a"
             ],
             [
              0.8888888888888888,
              "#fdca26"
             ],
             [
              1,
              "#f0f921"
             ]
            ],
            "type": "contour"
           }
          ],
          "contourcarpet": [
           {
            "colorbar": {
             "outlinewidth": 0,
             "ticks": ""
            },
            "type": "contourcarpet"
           }
          ],
          "heatmap": [
           {
            "colorbar": {
             "outlinewidth": 0,
             "ticks": ""
            },
            "colorscale": [
             [
              0,
              "#0d0887"
             ],
             [
              0.1111111111111111,
              "#46039f"
             ],
             [
              0.2222222222222222,
              "#7201a8"
             ],
             [
              0.3333333333333333,
              "#9c179e"
             ],
             [
              0.4444444444444444,
              "#bd3786"
             ],
             [
              0.5555555555555556,
              "#d8576b"
             ],
             [
              0.6666666666666666,
              "#ed7953"
             ],
             [
              0.7777777777777778,
              "#fb9f3a"
             ],
             [
              0.8888888888888888,
              "#fdca26"
             ],
             [
              1,
              "#f0f921"
             ]
            ],
            "type": "heatmap"
           }
          ],
          "heatmapgl": [
           {
            "colorbar": {
             "outlinewidth": 0,
             "ticks": ""
            },
            "colorscale": [
             [
              0,
              "#0d0887"
             ],
             [
              0.1111111111111111,
              "#46039f"
             ],
             [
              0.2222222222222222,
              "#7201a8"
             ],
             [
              0.3333333333333333,
              "#9c179e"
             ],
             [
              0.4444444444444444,
              "#bd3786"
             ],
             [
              0.5555555555555556,
              "#d8576b"
             ],
             [
              0.6666666666666666,
              "#ed7953"
             ],
             [
              0.7777777777777778,
              "#fb9f3a"
             ],
             [
              0.8888888888888888,
              "#fdca26"
             ],
             [
              1,
              "#f0f921"
             ]
            ],
            "type": "heatmapgl"
           }
          ],
          "histogram": [
           {
            "marker": {
             "pattern": {
              "fillmode": "overlay",
              "size": 10,
              "solidity": 0.2
             }
            },
            "type": "histogram"
           }
          ],
          "histogram2d": [
           {
            "colorbar": {
             "outlinewidth": 0,
             "ticks": ""
            },
            "colorscale": [
             [
              0,
              "#0d0887"
             ],
             [
              0.1111111111111111,
              "#46039f"
             ],
             [
              0.2222222222222222,
              "#7201a8"
             ],
             [
              0.3333333333333333,
              "#9c179e"
             ],
             [
              0.4444444444444444,
              "#bd3786"
             ],
             [
              0.5555555555555556,
              "#d8576b"
             ],
             [
              0.6666666666666666,
              "#ed7953"
             ],
             [
              0.7777777777777778,
              "#fb9f3a"
             ],
             [
              0.8888888888888888,
              "#fdca26"
             ],
             [
              1,
              "#f0f921"
             ]
            ],
            "type": "histogram2d"
           }
          ],
          "histogram2dcontour": [
           {
            "colorbar": {
             "outlinewidth": 0,
             "ticks": ""
            },
            "colorscale": [
             [
              0,
              "#0d0887"
             ],
             [
              0.1111111111111111,
              "#46039f"
             ],
             [
              0.2222222222222222,
              "#7201a8"
             ],
             [
              0.3333333333333333,
              "#9c179e"
             ],
             [
              0.4444444444444444,
              "#bd3786"
             ],
             [
              0.5555555555555556,
              "#d8576b"
             ],
             [
              0.6666666666666666,
              "#ed7953"
             ],
             [
              0.7777777777777778,
              "#fb9f3a"
             ],
             [
              0.8888888888888888,
              "#fdca26"
             ],
             [
              1,
              "#f0f921"
             ]
            ],
            "type": "histogram2dcontour"
           }
          ],
          "mesh3d": [
           {
            "colorbar": {
             "outlinewidth": 0,
             "ticks": ""
            },
            "type": "mesh3d"
           }
          ],
          "parcoords": [
           {
            "line": {
             "colorbar": {
              "outlinewidth": 0,
              "ticks": ""
             }
            },
            "type": "parcoords"
           }
          ],
          "pie": [
           {
            "automargin": true,
            "type": "pie"
           }
          ],
          "scatter": [
           {
            "fillpattern": {
             "fillmode": "overlay",
             "size": 10,
             "solidity": 0.2
            },
            "type": "scatter"
           }
          ],
          "scatter3d": [
           {
            "line": {
             "colorbar": {
              "outlinewidth": 0,
              "ticks": ""
             }
            },
            "marker": {
             "colorbar": {
              "outlinewidth": 0,
              "ticks": ""
             }
            },
            "type": "scatter3d"
           }
          ],
          "scattercarpet": [
           {
            "marker": {
             "colorbar": {
              "outlinewidth": 0,
              "ticks": ""
             }
            },
            "type": "scattercarpet"
           }
          ],
          "scattergeo": [
           {
            "marker": {
             "colorbar": {
              "outlinewidth": 0,
              "ticks": ""
             }
            },
            "type": "scattergeo"
           }
          ],
          "scattergl": [
           {
            "marker": {
             "colorbar": {
              "outlinewidth": 0,
              "ticks": ""
             }
            },
            "type": "scattergl"
           }
          ],
          "scattermapbox": [
           {
            "marker": {
             "colorbar": {
              "outlinewidth": 0,
              "ticks": ""
             }
            },
            "type": "scattermapbox"
           }
          ],
          "scatterpolar": [
           {
            "marker": {
             "colorbar": {
              "outlinewidth": 0,
              "ticks": ""
             }
            },
            "type": "scatterpolar"
           }
          ],
          "scatterpolargl": [
           {
            "marker": {
             "colorbar": {
              "outlinewidth": 0,
              "ticks": ""
             }
            },
            "type": "scatterpolargl"
           }
          ],
          "scatterternary": [
           {
            "marker": {
             "colorbar": {
              "outlinewidth": 0,
              "ticks": ""
             }
            },
            "type": "scatterternary"
           }
          ],
          "surface": [
           {
            "colorbar": {
             "outlinewidth": 0,
             "ticks": ""
            },
            "colorscale": [
             [
              0,
              "#0d0887"
             ],
             [
              0.1111111111111111,
              "#46039f"
             ],
             [
              0.2222222222222222,
              "#7201a8"
             ],
             [
              0.3333333333333333,
              "#9c179e"
             ],
             [
              0.4444444444444444,
              "#bd3786"
             ],
             [
              0.5555555555555556,
              "#d8576b"
             ],
             [
              0.6666666666666666,
              "#ed7953"
             ],
             [
              0.7777777777777778,
              "#fb9f3a"
             ],
             [
              0.8888888888888888,
              "#fdca26"
             ],
             [
              1,
              "#f0f921"
             ]
            ],
            "type": "surface"
           }
          ],
          "table": [
           {
            "cells": {
             "fill": {
              "color": "#EBF0F8"
             },
             "line": {
              "color": "white"
             }
            },
            "header": {
             "fill": {
              "color": "#C8D4E3"
             },
             "line": {
              "color": "white"
             }
            },
            "type": "table"
           }
          ]
         },
         "layout": {
          "annotationdefaults": {
           "arrowcolor": "#2a3f5f",
           "arrowhead": 0,
           "arrowwidth": 1
          },
          "autotypenumbers": "strict",
          "coloraxis": {
           "colorbar": {
            "outlinewidth": 0,
            "ticks": ""
           }
          },
          "colorscale": {
           "diverging": [
            [
             0,
             "#8e0152"
            ],
            [
             0.1,
             "#c51b7d"
            ],
            [
             0.2,
             "#de77ae"
            ],
            [
             0.3,
             "#f1b6da"
            ],
            [
             0.4,
             "#fde0ef"
            ],
            [
             0.5,
             "#f7f7f7"
            ],
            [
             0.6,
             "#e6f5d0"
            ],
            [
             0.7,
             "#b8e186"
            ],
            [
             0.8,
             "#7fbc41"
            ],
            [
             0.9,
             "#4d9221"
            ],
            [
             1,
             "#276419"
            ]
           ],
           "sequential": [
            [
             0,
             "#0d0887"
            ],
            [
             0.1111111111111111,
             "#46039f"
            ],
            [
             0.2222222222222222,
             "#7201a8"
            ],
            [
             0.3333333333333333,
             "#9c179e"
            ],
            [
             0.4444444444444444,
             "#bd3786"
            ],
            [
             0.5555555555555556,
             "#d8576b"
            ],
            [
             0.6666666666666666,
             "#ed7953"
            ],
            [
             0.7777777777777778,
             "#fb9f3a"
            ],
            [
             0.8888888888888888,
             "#fdca26"
            ],
            [
             1,
             "#f0f921"
            ]
           ],
           "sequentialminus": [
            [
             0,
             "#0d0887"
            ],
            [
             0.1111111111111111,
             "#46039f"
            ],
            [
             0.2222222222222222,
             "#7201a8"
            ],
            [
             0.3333333333333333,
             "#9c179e"
            ],
            [
             0.4444444444444444,
             "#bd3786"
            ],
            [
             0.5555555555555556,
             "#d8576b"
            ],
            [
             0.6666666666666666,
             "#ed7953"
            ],
            [
             0.7777777777777778,
             "#fb9f3a"
            ],
            [
             0.8888888888888888,
             "#fdca26"
            ],
            [
             1,
             "#f0f921"
            ]
           ]
          },
          "colorway": [
           "#636efa",
           "#EF553B",
           "#00cc96",
           "#ab63fa",
           "#FFA15A",
           "#19d3f3",
           "#FF6692",
           "#B6E880",
           "#FF97FF",
           "#FECB52"
          ],
          "font": {
           "color": "#2a3f5f"
          },
          "geo": {
           "bgcolor": "white",
           "lakecolor": "white",
           "landcolor": "#E5ECF6",
           "showlakes": true,
           "showland": true,
           "subunitcolor": "white"
          },
          "hoverlabel": {
           "align": "left"
          },
          "hovermode": "closest",
          "mapbox": {
           "style": "light"
          },
          "paper_bgcolor": "white",
          "plot_bgcolor": "#E5ECF6",
          "polar": {
           "angularaxis": {
            "gridcolor": "white",
            "linecolor": "white",
            "ticks": ""
           },
           "bgcolor": "#E5ECF6",
           "radialaxis": {
            "gridcolor": "white",
            "linecolor": "white",
            "ticks": ""
           }
          },
          "scene": {
           "xaxis": {
            "backgroundcolor": "#E5ECF6",
            "gridcolor": "white",
            "gridwidth": 2,
            "linecolor": "white",
            "showbackground": true,
            "ticks": "",
            "zerolinecolor": "white"
           },
           "yaxis": {
            "backgroundcolor": "#E5ECF6",
            "gridcolor": "white",
            "gridwidth": 2,
            "linecolor": "white",
            "showbackground": true,
            "ticks": "",
            "zerolinecolor": "white"
           },
           "zaxis": {
            "backgroundcolor": "#E5ECF6",
            "gridcolor": "white",
            "gridwidth": 2,
            "linecolor": "white",
            "showbackground": true,
            "ticks": "",
            "zerolinecolor": "white"
           }
          },
          "shapedefaults": {
           "line": {
            "color": "#2a3f5f"
           }
          },
          "ternary": {
           "aaxis": {
            "gridcolor": "white",
            "linecolor": "white",
            "ticks": ""
           },
           "baxis": {
            "gridcolor": "white",
            "linecolor": "white",
            "ticks": ""
           },
           "bgcolor": "#E5ECF6",
           "caxis": {
            "gridcolor": "white",
            "linecolor": "white",
            "ticks": ""
           }
          },
          "title": {
           "x": 0.05
          },
          "xaxis": {
           "automargin": true,
           "gridcolor": "white",
           "linecolor": "white",
           "ticks": "",
           "title": {
            "standoff": 15
           },
           "zerolinecolor": "white",
           "zerolinewidth": 2
          },
          "yaxis": {
           "automargin": true,
           "gridcolor": "white",
           "linecolor": "white",
           "ticks": "",
           "title": {
            "standoff": 15
           },
           "zerolinecolor": "white",
           "zerolinewidth": 2
          }
         }
        },
        "title": {
         "text": "Proportion of shared cargo over time."
        },
        "xaxis": {
         "anchor": "y",
         "domain": [
          0,
          1
         ],
         "title": {
          "text": "Month"
         }
        },
        "yaxis": {
         "anchor": "x",
         "domain": [
          0,
          1
         ],
         "title": {
          "text": "Proportion of cargo from non-primary carrier"
         }
        }
       }
      }
     },
     "metadata": {},
     "output_type": "display_data"
    }
   ],
   "source": [
    "lf = pl.concat([imports_lf,exports_lf], how='diagonal')\n",
    "\n",
    "sharing_over_time_plotly(\n",
    "    data_lf=lf,\n",
    "    group_var='direction')"
   ]
  },
  {
   "cell_type": "code",
   "execution_count": null,
   "metadata": {
    "slideshow": {
     "slide_type": "slide"
    }
   },
   "outputs": [],
   "source": [
    "sharing_over_time_plotly(\n",
    "    data_lf=exports_lf,\n",
    "    group_var='departure_port_name',\n",
    "    title='Proportion of shared cargo over time (Top 10 export ports by total TEUs).')"
   ]
  },
  {
   "cell_type": "code",
   "execution_count": 69,
   "metadata": {},
   "outputs": [
    {
     "data": {
      "application/vnd.plotly.v1+json": {
       "config": {
        "plotlyServerURL": "https://plot.ly"
       },
       "data": [
        {
         "hovertemplate": "departure_port_code=5203<br>Month=%{x}<br>Proportion of cargo from non-primary carrier=%{y}<extra></extra>",
         "legendgroup": "5203",
         "line": {
          "color": "#636efa",
          "dash": "solid"
         },
         "marker": {
          "symbol": "circle"
         },
         "mode": "lines",
         "name": "5203",
         "showlegend": true,
         "type": "scattergl",
         "x": [
          "2005-01-01T00:00:00",
          "2005-02-01T00:00:00",
          "2005-03-01T00:00:00",
          "2005-04-01T00:00:00",
          "2005-05-01T00:00:00",
          "2005-06-01T00:00:00",
          "2005-07-01T00:00:00",
          "2005-08-01T00:00:00",
          "2005-09-01T00:00:00",
          "2005-10-01T00:00:00",
          "2005-11-01T00:00:00",
          "2005-12-01T00:00:00",
          "2006-01-01T00:00:00",
          "2006-02-01T00:00:00",
          "2006-03-01T00:00:00",
          "2006-04-01T00:00:00",
          "2006-05-01T00:00:00",
          "2006-06-01T00:00:00",
          "2006-07-01T00:00:00",
          "2006-08-01T00:00:00",
          "2006-09-01T00:00:00",
          "2006-10-01T00:00:00",
          "2006-11-01T00:00:00",
          "2006-12-01T00:00:00",
          "2007-01-01T00:00:00",
          "2007-02-01T00:00:00",
          "2007-03-01T00:00:00",
          "2007-04-01T00:00:00",
          "2007-05-01T00:00:00",
          "2007-06-01T00:00:00",
          "2007-07-01T00:00:00",
          "2007-08-01T00:00:00",
          "2007-09-01T00:00:00",
          "2007-10-01T00:00:00",
          "2007-11-01T00:00:00",
          "2007-12-01T00:00:00",
          "2008-01-01T00:00:00",
          "2008-02-01T00:00:00",
          "2008-03-01T00:00:00",
          "2008-04-01T00:00:00",
          "2008-05-01T00:00:00",
          "2008-06-01T00:00:00",
          "2008-07-01T00:00:00",
          "2008-08-01T00:00:00",
          "2008-09-01T00:00:00",
          "2008-10-01T00:00:00",
          "2008-11-01T00:00:00",
          "2008-12-01T00:00:00",
          "2009-01-01T00:00:00",
          "2009-02-01T00:00:00",
          "2009-03-01T00:00:00",
          "2009-04-01T00:00:00",
          "2009-05-01T00:00:00",
          "2009-06-01T00:00:00",
          "2009-07-01T00:00:00",
          "2009-08-01T00:00:00",
          "2009-09-01T00:00:00",
          "2009-10-01T00:00:00",
          "2009-11-01T00:00:00",
          "2009-12-01T00:00:00",
          "2010-01-01T00:00:00",
          "2010-02-01T00:00:00",
          "2010-03-01T00:00:00",
          "2010-04-01T00:00:00",
          "2010-05-01T00:00:00",
          "2010-06-01T00:00:00",
          "2010-07-01T00:00:00",
          "2010-08-01T00:00:00",
          "2010-09-01T00:00:00",
          "2010-10-01T00:00:00",
          "2010-11-01T00:00:00",
          "2010-12-01T00:00:00",
          "2011-01-01T00:00:00",
          "2011-02-01T00:00:00",
          "2011-03-01T00:00:00",
          "2011-04-01T00:00:00",
          "2011-05-01T00:00:00",
          "2011-06-01T00:00:00",
          "2011-07-01T00:00:00",
          "2011-08-01T00:00:00",
          "2011-09-01T00:00:00",
          "2011-10-01T00:00:00",
          "2011-11-01T00:00:00",
          "2011-12-01T00:00:00",
          "2012-01-01T00:00:00",
          "2012-02-01T00:00:00",
          "2012-03-01T00:00:00",
          "2012-04-01T00:00:00",
          "2012-05-01T00:00:00",
          "2012-06-01T00:00:00",
          "2012-07-01T00:00:00",
          "2012-08-01T00:00:00",
          "2012-09-01T00:00:00",
          "2012-10-01T00:00:00",
          "2012-11-01T00:00:00",
          "2012-12-01T00:00:00",
          "2013-01-01T00:00:00",
          "2013-02-01T00:00:00",
          "2013-03-01T00:00:00",
          "2013-04-01T00:00:00",
          "2013-05-01T00:00:00",
          "2013-06-01T00:00:00",
          "2013-07-01T00:00:00",
          "2013-08-01T00:00:00",
          "2013-09-01T00:00:00",
          "2013-10-01T00:00:00",
          "2013-11-01T00:00:00",
          "2013-12-01T00:00:00",
          "2014-01-01T00:00:00",
          "2014-02-01T00:00:00",
          "2014-03-01T00:00:00",
          "2014-04-01T00:00:00",
          "2014-05-01T00:00:00",
          "2014-06-01T00:00:00",
          "2014-07-01T00:00:00",
          "2014-08-01T00:00:00",
          "2014-09-01T00:00:00",
          "2014-10-01T00:00:00",
          "2014-11-01T00:00:00",
          "2014-12-01T00:00:00",
          "2015-01-01T00:00:00",
          "2015-02-01T00:00:00",
          "2015-03-01T00:00:00",
          "2015-04-01T00:00:00",
          "2015-05-01T00:00:00",
          "2015-06-01T00:00:00",
          "2015-07-01T00:00:00",
          "2015-08-01T00:00:00",
          "2015-09-01T00:00:00",
          "2015-10-01T00:00:00",
          "2015-11-01T00:00:00",
          "2015-12-01T00:00:00",
          "2016-01-01T00:00:00",
          "2016-02-01T00:00:00",
          "2016-03-01T00:00:00",
          "2016-04-01T00:00:00",
          "2016-05-01T00:00:00",
          "2016-06-01T00:00:00",
          "2016-07-01T00:00:00",
          "2016-08-01T00:00:00",
          "2016-09-01T00:00:00",
          "2016-10-01T00:00:00",
          "2016-11-01T00:00:00",
          "2016-12-01T00:00:00",
          "2017-01-01T00:00:00",
          "2017-02-01T00:00:00",
          "2017-03-01T00:00:00",
          "2017-04-01T00:00:00",
          "2017-05-01T00:00:00",
          "2017-06-01T00:00:00",
          "2017-07-01T00:00:00",
          "2017-08-01T00:00:00",
          "2017-09-01T00:00:00",
          "2017-10-01T00:00:00",
          "2017-11-01T00:00:00",
          "2017-12-01T00:00:00",
          "2018-01-01T00:00:00",
          "2018-02-01T00:00:00",
          "2018-03-01T00:00:00",
          "2018-04-01T00:00:00",
          "2018-05-01T00:00:00",
          "2018-06-01T00:00:00",
          "2018-07-01T00:00:00",
          "2018-08-01T00:00:00",
          "2018-09-01T00:00:00",
          "2018-10-01T00:00:00",
          "2018-11-01T00:00:00",
          "2018-12-01T00:00:00",
          "2019-01-01T00:00:00",
          "2019-02-01T00:00:00",
          "2019-03-01T00:00:00",
          "2019-04-01T00:00:00",
          "2019-05-01T00:00:00",
          "2019-06-01T00:00:00",
          "2019-07-01T00:00:00",
          "2019-08-01T00:00:00",
          "2019-09-01T00:00:00",
          "2019-10-01T00:00:00",
          "2019-11-01T00:00:00",
          "2019-12-01T00:00:00",
          "2020-01-01T00:00:00",
          "2020-02-01T00:00:00",
          "2020-03-01T00:00:00",
          "2020-04-01T00:00:00",
          "2020-05-01T00:00:00",
          "2020-06-01T00:00:00",
          "2020-07-01T00:00:00",
          "2020-08-01T00:00:00",
          "2020-09-01T00:00:00",
          "2020-10-01T00:00:00",
          "2020-11-01T00:00:00",
          "2020-12-01T00:00:00",
          "2021-01-01T00:00:00",
          "2021-02-01T00:00:00",
          "2021-03-01T00:00:00",
          "2021-04-01T00:00:00",
          "2021-05-01T00:00:00",
          "2021-06-01T00:00:00",
          "2021-07-01T00:00:00",
          "2021-08-01T00:00:00",
          "2021-09-01T00:00:00",
          "2021-10-01T00:00:00",
          "2021-11-01T00:00:00",
          "2021-12-01T00:00:00",
          "2022-01-01T00:00:00",
          "2022-02-01T00:00:00",
          "2022-03-01T00:00:00",
          "2022-04-01T00:00:00",
          "2022-05-01T00:00:00",
          "2022-06-01T00:00:00",
          "2022-07-01T00:00:00",
          "2022-08-01T00:00:00",
          "2022-09-01T00:00:00",
          "2022-10-01T00:00:00",
          "2022-11-01T00:00:00",
          "2022-12-01T00:00:00",
          "2023-01-01T00:00:00",
          "2023-02-01T00:00:00",
          "2023-03-01T00:00:00",
          "2023-04-01T00:00:00",
          "2023-05-01T00:00:00",
          "2023-06-01T00:00:00",
          "2023-07-01T00:00:00",
          "2023-08-01T00:00:00",
          "2023-09-01T00:00:00",
          "2023-10-01T00:00:00",
          "2023-11-01T00:00:00"
         ],
         "xaxis": "x",
         "y": [
          0.06607533101940222,
          0.05788448243352884,
          0.05456859815153203,
          0.05689576695493159,
          0.0721433558296396,
          0.05572242996382526,
          0.0757296558283207,
          0.05398162327717493,
          0.07238217789936574,
          0.07101369105240274,
          0.0556012695427226,
          0.04033522838665771,
          0.07360621030344694,
          0.06437298644458467,
          0.04955342731093437,
          0.07378777231200762,
          0.06717269718067898,
          0.07582728230142077,
          0.0743848508901146,
          0.05663847002573741,
          0.07195714601281566,
          0.058382311782808616,
          0.08012359490710474,
          0.06248065215158971,
          0.06479817942267707,
          0.059908664823931757,
          0.0706903015049064,
          0.07705406555980265,
          0.06413088911446008,
          0.07072645844238057,
          0.0877744739249664,
          0.05709717939933068,
          0.0836006793734555,
          0.07937724833401139,
          0.0657466090149772,
          0.07616181491983554,
          0.07744066552482476,
          0.07991182143841913,
          0.08797886393667187,
          0.08449162744885297,
          0.07531272614506068,
          0.09976111341930116,
          0.08630363036304523,
          0.09531347164903592,
          0.10177017346514616,
          0.08337538547798273,
          0.08454687688048013,
          0.0744940338848864,
          0.07948884557070468,
          0.07204569796500149,
          0.08196926936342586,
          0.07192208988615167,
          0.08652862985683896,
          0.08226153946594139,
          0.08971354166665424,
          0.08964271894749187,
          0.08389578343855297,
          0.07683537087476,
          0.09140718962981453,
          0.08531844207251138,
          0.07673509286410918,
          0.07613868116925882,
          0.06157901852101311,
          0.06139661210777425,
          0.06668068994529919,
          0.060077821011663146,
          0.05610362226070342,
          0.06622993305016622,
          0.08053996663126262,
          0.053448275862061356,
          0.07123229761148797,
          0.07414669571531163,
          0.07758768177928443,
          0.0502806006370311,
          0.06169903553969269,
          0.0678120617110698,
          0.05570426101424297,
          0.0577466779756769,
          0.04739769869693655,
          0.06145083932852735,
          0.047896656686202244,
          0.04933127226291378,
          0.049302958177483536,
          0.05939281453001943,
          0.044718838645077974,
          0.04705604161739574,
          0.05506673849284027,
          0.04752164723528318,
          0.06971137748609468,
          0.034030576344906804,
          0.06621534493874004,
          0.07188273877249496,
          0.06457714131314929,
          0.06398132631074116,
          0.06572549938491357,
          0.06823920675000639,
          0.0850905146111478,
          0.055271503462551386,
          0.08715720706062768,
          0.08261661838458678,
          0.0611535732945524,
          0.026771728708503195,
          0.01793540201150967,
          0.015989438086251417,
          0.020947435766283662,
          0.01893840100186739,
          0.020560265186665982,
          0.018184839236935813,
          0.011476120393405842,
          0.013923182696672476,
          0.015185899646665169,
          0.01997270384371075,
          0.016065930014902974,
          0.015345447087246944,
          0.01681164108992539,
          0.016410516706182432,
          0.02776048004208198,
          0.02554270558738292,
          0.024154474052955455,
          0.020091149791068963,
          0.021540196803411016,
          0.019056264888119068,
          0.014218175740092542,
          0.035735700473894294,
          0.03495379581388336,
          0.03780450951741743,
          0.051803921845814616,
          0.041711002497335614,
          0.05538844197352155,
          0.042847439639100315,
          0.044493458069657765,
          0.04577742048709843,
          0.0427119475972485,
          0.07088247649517432,
          0.06329298036918818,
          0.06378584687258815,
          0.041460953161235325,
          0.04927862958559748,
          0.027564760553654977,
          0.040381202715950026,
          0.047253059885301374,
          0.04546863976731841,
          0.04563284742627616,
          0.044976359380411224,
          0.03807699808403886,
          0.04123004486338322,
          0.03794114035314988,
          0.039867975346049134,
          0.04158859777856405,
          0.04976369910659606,
          0.0408755475438225,
          0.05256798913557237,
          0.02018616927694672,
          0.03222450698195145,
          0.04360152541452533,
          0.019399177269590284,
          0.017938581458104674,
          0.01222020193226625,
          0.017404767554668465,
          0.044970865473126675,
          0.0299871517792335,
          0.050944341772816815,
          0.04987044219250425,
          0.05199877282514909,
          0.06897109921956879,
          0.06673500560445622,
          0.07043136968700292,
          0.04738390829458672,
          0.06213786628831941,
          0.052499708197260686,
          0.07205696372026393,
          0.053868032230369955,
          0.04570358084506276,
          0.07592974259189333,
          0.05239652176210663,
          0.05341037407683258,
          0.06363859373040204,
          0.0474958493844827,
          0.051611240660378144,
          0.04745364791659612,
          0.048958746158192956,
          0.04661058838683996,
          0.05337565473656347,
          0.04261867283071541,
          0.06915210538808558,
          0.06160764819116926,
          0.040738030055276764,
          0.05598626528594919,
          0.08464816713735479,
          0.07039926819651499,
          0.08977861918072816,
          0.059425307356532175,
          0.07472901804131526,
          0.07083983582472664,
          0.07667316960367454,
          0.06112428977513695,
          0.06839369296004372,
          0.05780692309725244,
          0.08764736511525917,
          0.09134021319515417,
          0.07349948656071248,
          0.09533145050431113,
          0.08719919040017321,
          0.07134430696562322,
          0.10240491251284423,
          0.08977970294786974,
          0.07710731936557569,
          0.05780856661520173,
          0.04854180509202266,
          0.03474030526111227,
          0.03451655550786714,
          0.019464798564591712,
          0.015819696070230482,
          0.01947980868041088,
          0.02030166548144019,
          0.005476373108443178,
          0.02807970766079515,
          0.027603998060541812,
          0.02126047301133116,
          0.009286205611147569,
          0.03231866501359748,
          0.029608973526118243,
          0.03010365878600396,
          0.011765339318414725,
          0.017657397080723336,
          0.0008235417977687787,
          0.0007735339490279047
         ],
         "yaxis": "y"
        },
        {
         "hovertemplate": "departure_port_code=5201<br>Month=%{x}<br>Proportion of cargo from non-primary carrier=%{y}<extra></extra>",
         "legendgroup": "5201",
         "line": {
          "color": "#EF553B",
          "dash": "solid"
         },
         "marker": {
          "symbol": "circle"
         },
         "mode": "lines",
         "name": "5201",
         "showlegend": true,
         "type": "scattergl",
         "x": [
          "2005-01-01T00:00:00",
          "2005-02-01T00:00:00",
          "2005-03-01T00:00:00",
          "2005-04-01T00:00:00",
          "2005-05-01T00:00:00",
          "2005-06-01T00:00:00",
          "2005-07-01T00:00:00",
          "2005-08-01T00:00:00",
          "2005-09-01T00:00:00",
          "2005-10-01T00:00:00",
          "2005-11-01T00:00:00",
          "2005-12-01T00:00:00",
          "2006-01-01T00:00:00",
          "2006-02-01T00:00:00",
          "2006-03-01T00:00:00",
          "2006-04-01T00:00:00",
          "2006-05-01T00:00:00",
          "2006-06-01T00:00:00",
          "2006-07-01T00:00:00",
          "2006-08-01T00:00:00",
          "2006-09-01T00:00:00",
          "2006-10-01T00:00:00",
          "2006-11-01T00:00:00",
          "2006-12-01T00:00:00",
          "2007-01-01T00:00:00",
          "2007-02-01T00:00:00",
          "2007-03-01T00:00:00",
          "2007-04-01T00:00:00",
          "2007-05-01T00:00:00",
          "2007-06-01T00:00:00",
          "2007-07-01T00:00:00",
          "2007-08-01T00:00:00",
          "2007-09-01T00:00:00",
          "2007-10-01T00:00:00",
          "2007-11-01T00:00:00",
          "2007-12-01T00:00:00",
          "2008-01-01T00:00:00",
          "2008-02-01T00:00:00",
          "2008-03-01T00:00:00",
          "2008-04-01T00:00:00",
          "2008-05-01T00:00:00",
          "2008-06-01T00:00:00",
          "2008-07-01T00:00:00",
          "2008-08-01T00:00:00",
          "2008-09-01T00:00:00",
          "2008-10-01T00:00:00",
          "2008-11-01T00:00:00",
          "2008-12-01T00:00:00",
          "2009-01-01T00:00:00",
          "2009-02-01T00:00:00",
          "2009-03-01T00:00:00",
          "2009-04-01T00:00:00",
          "2009-05-01T00:00:00",
          "2009-06-01T00:00:00",
          "2009-07-01T00:00:00",
          "2009-08-01T00:00:00",
          "2009-09-01T00:00:00",
          "2009-10-01T00:00:00",
          "2009-11-01T00:00:00",
          "2009-12-01T00:00:00",
          "2010-01-01T00:00:00",
          "2010-02-01T00:00:00",
          "2010-03-01T00:00:00",
          "2010-04-01T00:00:00",
          "2010-05-01T00:00:00",
          "2010-06-01T00:00:00",
          "2010-07-01T00:00:00",
          "2010-08-01T00:00:00",
          "2010-09-01T00:00:00",
          "2010-10-01T00:00:00",
          "2010-11-01T00:00:00",
          "2010-12-01T00:00:00",
          "2011-01-01T00:00:00",
          "2011-02-01T00:00:00",
          "2011-03-01T00:00:00",
          "2011-04-01T00:00:00",
          "2011-05-01T00:00:00",
          "2011-06-01T00:00:00",
          "2011-07-01T00:00:00",
          "2011-08-01T00:00:00",
          "2011-09-01T00:00:00",
          "2011-10-01T00:00:00",
          "2011-11-01T00:00:00",
          "2011-12-01T00:00:00",
          "2012-01-01T00:00:00",
          "2012-02-01T00:00:00",
          "2012-03-01T00:00:00",
          "2012-04-01T00:00:00",
          "2012-05-01T00:00:00",
          "2012-06-01T00:00:00",
          "2012-07-01T00:00:00",
          "2012-08-01T00:00:00",
          "2012-09-01T00:00:00",
          "2012-10-01T00:00:00",
          "2012-11-01T00:00:00",
          "2012-12-01T00:00:00",
          "2013-01-01T00:00:00",
          "2013-02-01T00:00:00",
          "2013-03-01T00:00:00",
          "2013-04-01T00:00:00",
          "2013-05-01T00:00:00",
          "2013-06-01T00:00:00",
          "2013-07-01T00:00:00",
          "2013-08-01T00:00:00",
          "2013-09-01T00:00:00",
          "2013-10-01T00:00:00",
          "2013-11-01T00:00:00",
          "2013-12-01T00:00:00",
          "2014-01-01T00:00:00",
          "2014-02-01T00:00:00",
          "2014-03-01T00:00:00",
          "2014-04-01T00:00:00",
          "2014-05-01T00:00:00",
          "2014-06-01T00:00:00",
          "2014-07-01T00:00:00",
          "2014-08-01T00:00:00",
          "2014-09-01T00:00:00",
          "2014-10-01T00:00:00",
          "2014-11-01T00:00:00",
          "2014-12-01T00:00:00",
          "2015-01-01T00:00:00",
          "2015-02-01T00:00:00",
          "2015-03-01T00:00:00",
          "2015-04-01T00:00:00",
          "2015-05-01T00:00:00",
          "2015-06-01T00:00:00",
          "2015-07-01T00:00:00",
          "2015-08-01T00:00:00",
          "2015-09-01T00:00:00",
          "2015-10-01T00:00:00",
          "2015-11-01T00:00:00",
          "2015-12-01T00:00:00",
          "2016-01-01T00:00:00",
          "2016-02-01T00:00:00",
          "2016-03-01T00:00:00",
          "2016-04-01T00:00:00",
          "2016-05-01T00:00:00",
          "2016-06-01T00:00:00",
          "2016-07-01T00:00:00",
          "2016-08-01T00:00:00",
          "2016-09-01T00:00:00",
          "2016-10-01T00:00:00",
          "2016-11-01T00:00:00",
          "2016-12-01T00:00:00",
          "2017-01-01T00:00:00",
          "2017-02-01T00:00:00",
          "2017-03-01T00:00:00",
          "2017-04-01T00:00:00",
          "2017-05-01T00:00:00",
          "2017-06-01T00:00:00",
          "2017-07-01T00:00:00",
          "2017-08-01T00:00:00",
          "2017-09-01T00:00:00",
          "2017-10-01T00:00:00",
          "2017-11-01T00:00:00",
          "2017-12-01T00:00:00",
          "2018-01-01T00:00:00",
          "2018-02-01T00:00:00",
          "2018-03-01T00:00:00",
          "2018-04-01T00:00:00",
          "2018-05-01T00:00:00",
          "2018-06-01T00:00:00",
          "2018-07-01T00:00:00",
          "2018-08-01T00:00:00",
          "2018-09-01T00:00:00",
          "2018-10-01T00:00:00",
          "2018-11-01T00:00:00",
          "2018-12-01T00:00:00",
          "2019-01-01T00:00:00",
          "2019-02-01T00:00:00",
          "2019-03-01T00:00:00",
          "2019-04-01T00:00:00",
          "2019-05-01T00:00:00",
          "2019-06-01T00:00:00",
          "2019-07-01T00:00:00",
          "2019-08-01T00:00:00",
          "2019-09-01T00:00:00",
          "2019-10-01T00:00:00",
          "2019-11-01T00:00:00",
          "2019-12-01T00:00:00",
          "2020-01-01T00:00:00",
          "2020-02-01T00:00:00",
          "2020-03-01T00:00:00",
          "2020-04-01T00:00:00",
          "2020-05-01T00:00:00",
          "2020-06-01T00:00:00",
          "2020-07-01T00:00:00",
          "2020-08-01T00:00:00",
          "2020-09-01T00:00:00",
          "2020-10-01T00:00:00",
          "2020-11-01T00:00:00",
          "2020-12-01T00:00:00",
          "2021-01-01T00:00:00",
          "2021-02-01T00:00:00",
          "2021-03-01T00:00:00",
          "2021-04-01T00:00:00",
          "2021-05-01T00:00:00",
          "2021-06-01T00:00:00",
          "2021-07-01T00:00:00",
          "2021-08-01T00:00:00",
          "2021-09-01T00:00:00",
          "2021-10-01T00:00:00",
          "2021-11-01T00:00:00",
          "2021-12-01T00:00:00",
          "2022-01-01T00:00:00",
          "2022-02-01T00:00:00",
          "2022-03-01T00:00:00",
          "2022-04-01T00:00:00",
          "2022-05-01T00:00:00",
          "2022-06-01T00:00:00",
          "2022-07-01T00:00:00",
          "2022-08-01T00:00:00",
          "2022-09-01T00:00:00",
          "2022-10-01T00:00:00",
          "2022-11-01T00:00:00",
          "2022-12-01T00:00:00",
          "2023-01-01T00:00:00",
          "2023-02-01T00:00:00",
          "2023-03-01T00:00:00",
          "2023-04-01T00:00:00",
          "2023-05-01T00:00:00",
          "2023-06-01T00:00:00",
          "2023-07-01T00:00:00",
          "2023-08-01T00:00:00",
          "2023-09-01T00:00:00",
          "2023-10-01T00:00:00",
          "2023-11-01T00:00:00"
         ],
         "xaxis": "x",
         "y": [
          0.07150050352466364,
          0.0758115969224894,
          0.09367005932621197,
          0.08259023354572093,
          0.07607834257895607,
          0.09382165605094261,
          0.08393623151288954,
          0.07220395757086073,
          0.07530796771647785,
          0.07121786767803395,
          0.06294359357488888,
          0.051056439942106624,
          0.06914572864320623,
          0.0681490632077314,
          0.07630569489523975,
          0.07698744769873422,
          0.05698708379307316,
          0.053556384643151156,
          0.03984276101005502,
          0.03521126760562887,
          0.03641259805642916,
          0.03541863765373254,
          0.03142621808274304,
          0.034128561961572546,
          0.047145301311697585,
          0.05721111530239398,
          0.047991888694862705,
          0.038886906885474914,
          0.050499319110298035,
          0.031710141730558083,
          0.03006939090207794,
          0.022693192042425592,
          0.03452562581228036,
          0.027903391572504765,
          0.026209780225428858,
          0.024030966077136284,
          0.027976620476780734,
          0.029494858176061567,
          0.029254880395948035,
          0.0365896980462439,
          0.035311334560789054,
          0.037023151185736736,
          0.0353100950657006,
          0.03294265181117606,
          0.03681156121984075,
          0.036765065844286626,
          0.027207585798228573,
          0.01981045900890377,
          0.02600780234069855,
          0.028370132729442,
          0.02358151120952645,
          0.018881790943521937,
          0.017915945749844342,
          0.02183257918551773,
          0.022622720138592012,
          0.01863974259403256,
          0.0397379377908349,
          0.026023107655808175,
          0.027715187021177368,
          0.022716894977166224,
          0.030622660768961585,
          0.027286923645922778,
          0.01671287128712584,
          0.02522808957699374,
          0.030009885609372677,
          0.015441176470585849,
          0.02105333067675863,
          0.017846339987897863,
          0.017542550014926994,
          0.016056404787295087,
          0.011663560391990346,
          0.011345710472028592,
          0.018835964496236812,
          0.014519174425416281,
          0.019447708578140932,
          0.014364336818950107,
          0.017640999227399035,
          0.015958169224498553,
          0.020857776039626907,
          0.013980632335020227,
          0.016594841448508646,
          0.025198029065049976,
          0.027099146110053485,
          0.024572584104414985,
          0.038490062296048455,
          0.023102544114517065,
          0.029065338411950692,
          0.04827789225786705,
          0.03754443127961493,
          0.038440150145969576,
          0.04186710763679424,
          0.027779610689537493,
          0.0555370524562766,
          0.04287033372905347,
          0.04032459425717316,
          0.03489875053855562,
          0.04586480014734773,
          0.023994649276812052,
          0.03735549132947402,
          0.03157708000709003,
          0.043087187904024216,
          0.009613010996010307,
          0.007801921420740432,
          0.01039968234880595,
          0.008948163795020392,
          0.01104241485255264,
          0.008169463745061,
          0.008292759468965016,
          0.011710369474524307,
          0.01012025617349388,
          0.011181830510099466,
          0.0111208012558488,
          0.01160265038048669,
          0.020862698114744394,
          0.02228059061047949,
          0.024822412197537336,
          0.019453084844324064,
          0.013756773897571573,
          0.02008886651440689,
          0.016926066017794117,
          0.024072219845805987,
          0.020536236151562193,
          0.018550346129307616,
          0.02392374649982132,
          0.013979545614192346,
          0.01413034377450495,
          0.015515114146180564,
          0.02526825267828947,
          0.02760981494993564,
          0.026796994136711105,
          0.029384025773693145,
          0.03453361206408212,
          0.017001756077207775,
          0.012546461130975461,
          0.009515931648738762,
          0.009472727452635388,
          0.008993225675778205,
          0.013145971245365318,
          0.019992668307159955,
          0.0182435562007347,
          0.023442150722367328,
          0.026885428073190054,
          0.0354052271682288,
          0.012554227817049735,
          0.015413197241617604,
          0.014685506790220404,
          0.016204671615845267,
          0.018230373241442277,
          0.043980340505092363,
          0.027952279553212334,
          0.026869882738430162,
          0.039500429823451255,
          0.03122379759927507,
          0.0196004948892744,
          0.025124866674889557,
          0.022445399376258668,
          0.015288688863465127,
          0.015135200490173917,
          0.011441965178545899,
          0.0029327409406445515,
          0.007991348957538502,
          0.008666171763426767,
          0.012135455404618356,
          0.003494332106133702,
          0.004264301830930073,
          0.0025292196028556813,
          0.009778702398270056,
          0.010715716611901738,
          0.013416006643058975,
          0.011266972431235311,
          0.020256966751712735,
          0.01922979073680131,
          0.013922532224072026,
          0.022474820334975054,
          0.015387058484261251,
          0.01018329979717536,
          0.009262235127489915,
          0.0152659313951925,
          0.009795806006198782,
          0.012921171202061488,
          0.009059441383833855,
          0.012686845093328847,
          0.012829512887394201,
          0.01662368416369797,
          0.01674759459982289,
          0.017017331006132896,
          0.018913908062675566,
          0.017793374925216154,
          0.010620123920231928,
          0.008384953586577093,
          0.015509744607408948,
          0.009305936075366894,
          0.013861998110160645,
          0.006255484376514797,
          0.006161889834419121,
          0.010555504819069528,
          0.009019406676323505,
          0.008182049620798382,
          0.013316492427050464,
          0.011308068453332876,
          0.003980489385954522,
          0.011316403927066343,
          0.01031963261532376,
          0.008452000149453576,
          0.011177833988155195,
          0.011456032251926707,
          0.015671733896205797,
          0.013610787434775395,
          0.016498663981334594,
          0.009860058025236595,
          0.013040786778570568,
          0.007459327179299757,
          0.011752004774492453,
          0.013183838503985523,
          0.009413797829647352,
          0.007464775036731042,
          0.009448669154167644,
          0.01829700995301542,
          0.00964270743379192,
          0.009264675551426294,
          0.009538982714448196,
          0.006325774816605789,
          0.00979961453889111,
          0.005805120126351371,
          0.00914021101628526,
          0.00511324804896629,
          0.01604688734228865
         ],
         "yaxis": "y"
        },
        {
         "hovertemplate": "departure_port_code=2709<br>Month=%{x}<br>Proportion of cargo from non-primary carrier=%{y}<extra></extra>",
         "legendgroup": "2709",
         "line": {
          "color": "#00cc96",
          "dash": "solid"
         },
         "marker": {
          "symbol": "circle"
         },
         "mode": "lines",
         "name": "2709",
         "showlegend": true,
         "type": "scattergl",
         "x": [
          "2005-01-01T00:00:00",
          "2005-02-01T00:00:00",
          "2005-03-01T00:00:00",
          "2005-04-01T00:00:00",
          "2005-05-01T00:00:00",
          "2005-06-01T00:00:00",
          "2005-07-01T00:00:00",
          "2005-08-01T00:00:00",
          "2005-09-01T00:00:00",
          "2005-10-01T00:00:00",
          "2005-11-01T00:00:00",
          "2005-12-01T00:00:00",
          "2006-01-01T00:00:00",
          "2006-02-01T00:00:00",
          "2006-03-01T00:00:00",
          "2006-04-01T00:00:00",
          "2006-05-01T00:00:00",
          "2006-06-01T00:00:00",
          "2006-07-01T00:00:00",
          "2006-08-01T00:00:00",
          "2006-09-01T00:00:00",
          "2006-10-01T00:00:00",
          "2006-11-01T00:00:00",
          "2006-12-01T00:00:00",
          "2007-01-01T00:00:00",
          "2007-02-01T00:00:00",
          "2007-03-01T00:00:00",
          "2007-04-01T00:00:00",
          "2007-05-01T00:00:00",
          "2007-06-01T00:00:00",
          "2007-07-01T00:00:00",
          "2007-08-01T00:00:00",
          "2007-09-01T00:00:00",
          "2007-10-01T00:00:00",
          "2007-11-01T00:00:00",
          "2007-12-01T00:00:00",
          "2008-01-01T00:00:00",
          "2008-02-01T00:00:00",
          "2008-03-01T00:00:00",
          "2008-04-01T00:00:00",
          "2008-05-01T00:00:00",
          "2008-06-01T00:00:00",
          "2008-07-01T00:00:00",
          "2008-08-01T00:00:00",
          "2008-09-01T00:00:00",
          "2008-10-01T00:00:00",
          "2008-11-01T00:00:00",
          "2008-12-01T00:00:00",
          "2009-01-01T00:00:00",
          "2009-02-01T00:00:00",
          "2009-03-01T00:00:00",
          "2009-04-01T00:00:00",
          "2009-05-01T00:00:00",
          "2009-06-01T00:00:00",
          "2009-07-01T00:00:00",
          "2009-08-01T00:00:00",
          "2009-09-01T00:00:00",
          "2009-10-01T00:00:00",
          "2009-11-01T00:00:00",
          "2009-12-01T00:00:00",
          "2010-01-01T00:00:00",
          "2010-02-01T00:00:00",
          "2010-03-01T00:00:00",
          "2010-04-01T00:00:00",
          "2010-05-01T00:00:00",
          "2010-06-01T00:00:00",
          "2010-07-01T00:00:00",
          "2010-08-01T00:00:00",
          "2010-09-01T00:00:00",
          "2010-10-01T00:00:00",
          "2010-11-01T00:00:00",
          "2010-12-01T00:00:00",
          "2011-01-01T00:00:00",
          "2011-02-01T00:00:00",
          "2011-03-01T00:00:00",
          "2011-04-01T00:00:00",
          "2011-05-01T00:00:00",
          "2011-06-01T00:00:00",
          "2011-07-01T00:00:00",
          "2011-08-01T00:00:00",
          "2011-09-01T00:00:00",
          "2011-10-01T00:00:00",
          "2011-11-01T00:00:00",
          "2011-12-01T00:00:00",
          "2012-01-01T00:00:00",
          "2012-02-01T00:00:00",
          "2012-03-01T00:00:00",
          "2012-04-01T00:00:00",
          "2012-05-01T00:00:00",
          "2012-06-01T00:00:00",
          "2012-07-01T00:00:00",
          "2012-08-01T00:00:00",
          "2012-09-01T00:00:00",
          "2012-10-01T00:00:00",
          "2012-11-01T00:00:00",
          "2012-12-01T00:00:00",
          "2013-01-01T00:00:00",
          "2013-02-01T00:00:00",
          "2013-03-01T00:00:00",
          "2013-04-01T00:00:00",
          "2013-05-01T00:00:00",
          "2013-06-01T00:00:00",
          "2013-07-01T00:00:00",
          "2013-08-01T00:00:00",
          "2013-09-01T00:00:00",
          "2013-10-01T00:00:00",
          "2013-11-01T00:00:00",
          "2013-12-01T00:00:00",
          "2014-01-01T00:00:00",
          "2014-02-01T00:00:00",
          "2014-03-01T00:00:00",
          "2014-04-01T00:00:00",
          "2014-05-01T00:00:00",
          "2014-06-01T00:00:00",
          "2014-07-01T00:00:00",
          "2014-08-01T00:00:00",
          "2014-09-01T00:00:00",
          "2014-10-01T00:00:00",
          "2014-11-01T00:00:00",
          "2014-12-01T00:00:00",
          "2015-01-01T00:00:00",
          "2015-02-01T00:00:00",
          "2015-03-01T00:00:00",
          "2015-04-01T00:00:00",
          "2015-05-01T00:00:00",
          "2015-06-01T00:00:00",
          "2015-07-01T00:00:00",
          "2015-08-01T00:00:00",
          "2015-09-01T00:00:00",
          "2015-10-01T00:00:00",
          "2015-11-01T00:00:00",
          "2015-12-01T00:00:00",
          "2016-01-01T00:00:00",
          "2016-02-01T00:00:00",
          "2016-03-01T00:00:00",
          "2016-04-01T00:00:00",
          "2016-05-01T00:00:00",
          "2016-06-01T00:00:00",
          "2016-07-01T00:00:00",
          "2016-08-01T00:00:00",
          "2016-09-01T00:00:00",
          "2016-10-01T00:00:00",
          "2016-11-01T00:00:00",
          "2016-12-01T00:00:00",
          "2017-01-01T00:00:00",
          "2017-02-01T00:00:00",
          "2017-03-01T00:00:00",
          "2017-04-01T00:00:00",
          "2017-05-01T00:00:00",
          "2017-06-01T00:00:00",
          "2017-07-01T00:00:00",
          "2017-08-01T00:00:00",
          "2017-09-01T00:00:00",
          "2017-10-01T00:00:00",
          "2017-11-01T00:00:00",
          "2017-12-01T00:00:00",
          "2018-01-01T00:00:00",
          "2018-02-01T00:00:00",
          "2018-03-01T00:00:00",
          "2018-04-01T00:00:00",
          "2018-05-01T00:00:00",
          "2018-06-01T00:00:00",
          "2018-07-01T00:00:00",
          "2018-08-01T00:00:00",
          "2018-09-01T00:00:00",
          "2018-10-01T00:00:00",
          "2018-11-01T00:00:00",
          "2018-12-01T00:00:00",
          "2019-01-01T00:00:00",
          "2019-02-01T00:00:00",
          "2019-03-01T00:00:00",
          "2019-04-01T00:00:00",
          "2019-05-01T00:00:00",
          "2019-06-01T00:00:00",
          "2019-07-01T00:00:00",
          "2019-08-01T00:00:00",
          "2019-09-01T00:00:00",
          "2019-10-01T00:00:00",
          "2019-11-01T00:00:00",
          "2019-12-01T00:00:00",
          "2020-01-01T00:00:00",
          "2020-02-01T00:00:00",
          "2020-03-01T00:00:00",
          "2020-04-01T00:00:00",
          "2020-05-01T00:00:00",
          "2020-06-01T00:00:00",
          "2020-07-01T00:00:00",
          "2020-08-01T00:00:00",
          "2020-09-01T00:00:00",
          "2020-10-01T00:00:00",
          "2020-11-01T00:00:00",
          "2020-12-01T00:00:00",
          "2021-01-01T00:00:00",
          "2021-02-01T00:00:00",
          "2021-03-01T00:00:00",
          "2021-04-01T00:00:00",
          "2021-05-01T00:00:00",
          "2021-06-01T00:00:00",
          "2021-07-01T00:00:00",
          "2021-08-01T00:00:00",
          "2021-09-01T00:00:00",
          "2021-10-01T00:00:00",
          "2021-11-01T00:00:00",
          "2021-12-01T00:00:00",
          "2022-01-01T00:00:00",
          "2022-02-01T00:00:00",
          "2022-03-01T00:00:00",
          "2022-04-01T00:00:00",
          "2022-05-01T00:00:00",
          "2022-06-01T00:00:00",
          "2022-07-01T00:00:00",
          "2022-08-01T00:00:00",
          "2022-09-01T00:00:00",
          "2022-10-01T00:00:00",
          "2022-11-01T00:00:00",
          "2022-12-01T00:00:00",
          "2023-01-01T00:00:00",
          "2023-02-01T00:00:00",
          "2023-03-01T00:00:00",
          "2023-04-01T00:00:00",
          "2023-05-01T00:00:00",
          "2023-06-01T00:00:00",
          "2023-07-01T00:00:00",
          "2023-08-01T00:00:00",
          "2023-09-01T00:00:00",
          "2023-10-01T00:00:00",
          "2023-11-01T00:00:00"
         ],
         "xaxis": "x",
         "y": [
          0.25924974306265713,
          0.265030060120209,
          0.2604089563288675,
          0.2509530986792401,
          0.2604494174220833,
          0.27033314721778,
          0.2500115276435194,
          0.2518334468804757,
          0.2214703309858368,
          0.23560716013575866,
          0.21845225264097357,
          0.20527390570925874,
          0.2102748474385978,
          0.22101465026332778,
          0.22827387547115285,
          0.2248484848488066,
          0.22885389967076508,
          0.2270167989664572,
          0.2422244145594996,
          0.22687126416300973,
          0.22352258948816706,
          0.20866258187226083,
          0.21110612631488024,
          0.18662674650720268,
          0.18748804285461718,
          0.18672880368591072,
          0.24878426171527568,
          0.23959973015513203,
          0.26346193521773753,
          0.25839368005286845,
          0.275413450937135,
          0.29818319814068106,
          0.2843921960981617,
          0.2899249034165273,
          0.27040962474953356,
          0.2792478109002149,
          0.25480562842851817,
          0.2536034281265239,
          0.26435890109029414,
          0.2638674402107022,
          0.2578698182084179,
          0.25625080969068226,
          0.27110358366408105,
          0.26576380937375066,
          0.2866275972298814,
          0.3067701294740921,
          0.30901080006448867,
          0.2965892880300459,
          0.3254426357091449,
          0.32160873471075346,
          0.3065534624569133,
          0.31391962725687295,
          0.31519263147481147,
          0.3090928006658886,
          0.29883630007840556,
          0.3207529050227198,
          0.2991725650484629,
          0.31424494649243695,
          0.29547092125586183,
          0.3175412899642299,
          0.3316003043367546,
          0.29801132239817674,
          0.3339597659422757,
          0.33432912886373456,
          0.29410564960263397,
          0.3018914759470962,
          0.30082555036723346,
          0.3007896625988713,
          0.284079348931932,
          0.2877692092543811,
          0.28615142507459157,
          0.2855014095855478,
          0.31145156598482304,
          0.29648148148168707,
          0.3226412500574851,
          0.287693790666287,
          0.2664482664485064,
          0.2677072753514983,
          0.2409427991121963,
          0.24996281790703156,
          0.26072623260790895,
          0.28832448462254423,
          0.26642205575099753,
          0.27591266074078313,
          0.2816908633869366,
          0.32156520896909857,
          0.2912073341671342,
          0.2929367452339494,
          0.2635625244323868,
          0.29220435579111226,
          0.31645459299311895,
          0.26715197852735084,
          0.2584190519469416,
          0.2638336347199598,
          0.2695025438102576,
          0.28259827420939143,
          0.2730081544844096,
          0.2734961782286831,
          0.2836751940285859,
          0.23120006638207025,
          0.23168897647916376,
          0.14425682499738135,
          0.14987539353935864,
          0.14880868012553483,
          0.15166452426097232,
          0.16084575777816756,
          0.19645779508187955,
          0.1648195284391668,
          0.18861188479059776,
          0.21371881573453644,
          0.19903226108705352,
          0.1896281649962538,
          0.211802075388985,
          0.1574876978157962,
          0.19579941237530252,
          0.17381591945106256,
          0.16662155040677384,
          0.16360531462060102,
          0.2050263924796074,
          0.13808234305106737,
          0.1560326669988037,
          0.17160824956160814,
          0.1736321995186887,
          0.16696037259823504,
          0.18036601357297422,
          0.15946266899928851,
          0.17236690768517182,
          0.15430506622657425,
          0.1588322091959471,
          0.1819907425391858,
          0.15233070849536023,
          0.13491991387529179,
          0.15098076055521492,
          0.16288564645213255,
          0.17890581101052838,
          0.16363565894300613,
          0.17049005181363408,
          0.14382973729821846,
          0.14262028439366292,
          0.13191096997060203,
          0.13855704266403546,
          0.14635276545319043,
          0.15613449219214182,
          0.12464817109883819,
          0.14829708033024647,
          0.1669261234554762,
          0.14665782910999126,
          0.15858157567280673,
          0.13274774701345504,
          0.12794689637353285,
          0.1540140622748325,
          0.14407250759732027,
          0.15813877934738307,
          0.12774324203556386,
          0.1470465744046433,
          0.1745017657337512,
          0.1601551989594251,
          0.1633015269206829,
          0.1941262568795159,
          0.1427348674840636,
          0.13752217761369523,
          0.12376895265598153,
          0.1120830108444355,
          0.12992986129068895,
          0.13382338015069462,
          0.09291712994526713,
          0.11048399309173662,
          0.14659377974230958,
          0.1442975287361583,
          0.13834987795985676,
          0.15576727930630885,
          0.16747524695397498,
          0.16010154796545328,
          0.139214768129582,
          0.14163170245268608,
          0.16109851239670736,
          0.14289998223122424,
          0.16873209407854606,
          0.14393705639909338,
          0.16604442237459172,
          0.12285554999688342,
          0.1643758880352979,
          0.17866241718467335,
          0.1463090531033321,
          0.22527613954574188,
          0.20253962476903897,
          0.20780477100702632,
          0.20554548017380037,
          0.21685787354255703,
          0.21368981749195026,
          0.1882353245253373,
          0.1758703303040119,
          0.16693206118834347,
          0.20981663018523977,
          0.2150425402429028,
          0.19704020870231076,
          0.2174172794589212,
          0.20441656144285858,
          0.15410554870991633,
          0.16868332271175035,
          0.1576839178832028,
          0.16300648747844015,
          0.16802649892814847,
          0.14494922929348364,
          0.18052771327142714,
          0.18563161354877655,
          0.14981346704451648,
          0.15587866478189716,
          0.18353277705322824,
          0.17743288104629829,
          0.15828700890456382,
          0.1657285570535887,
          0.19267720652630138,
          0.19164379774027163,
          0.18100173515544948,
          0.17225238606228566,
          0.15571925746265725,
          0.183040659412797,
          0.19687370195695664,
          0.18832073653465142,
          0.12360086456030361,
          0.048293236716545285,
          0.05556660674193581,
          0.02979534245753246,
          0.026332721108224932,
          0.03153227710280415,
          0.038323957095892536
         ],
         "yaxis": "y"
        },
        {
         "hovertemplate": "departure_port_code=4601<br>Month=%{x}<br>Proportion of cargo from non-primary carrier=%{y}<extra></extra>",
         "legendgroup": "4601",
         "line": {
          "color": "#ab63fa",
          "dash": "solid"
         },
         "marker": {
          "symbol": "circle"
         },
         "mode": "lines",
         "name": "4601",
         "showlegend": true,
         "type": "scattergl",
         "x": [
          "2005-01-01T00:00:00",
          "2005-02-01T00:00:00",
          "2005-03-01T00:00:00",
          "2005-04-01T00:00:00",
          "2005-05-01T00:00:00",
          "2005-06-01T00:00:00",
          "2005-07-01T00:00:00",
          "2005-08-01T00:00:00",
          "2005-09-01T00:00:00",
          "2005-10-01T00:00:00",
          "2005-11-01T00:00:00",
          "2005-12-01T00:00:00",
          "2006-01-01T00:00:00",
          "2006-02-01T00:00:00",
          "2006-03-01T00:00:00",
          "2006-04-01T00:00:00",
          "2006-05-01T00:00:00",
          "2006-06-01T00:00:00",
          "2006-07-01T00:00:00",
          "2006-08-01T00:00:00",
          "2006-09-01T00:00:00",
          "2006-10-01T00:00:00",
          "2006-11-01T00:00:00",
          "2006-12-01T00:00:00",
          "2007-01-01T00:00:00",
          "2007-02-01T00:00:00",
          "2007-03-01T00:00:00",
          "2007-04-01T00:00:00",
          "2007-05-01T00:00:00",
          "2007-06-01T00:00:00",
          "2007-07-01T00:00:00",
          "2007-08-01T00:00:00",
          "2007-09-01T00:00:00",
          "2007-10-01T00:00:00",
          "2007-11-01T00:00:00",
          "2007-12-01T00:00:00",
          "2008-01-01T00:00:00",
          "2008-02-01T00:00:00",
          "2008-03-01T00:00:00",
          "2008-04-01T00:00:00",
          "2008-05-01T00:00:00",
          "2008-06-01T00:00:00",
          "2008-07-01T00:00:00",
          "2008-08-01T00:00:00",
          "2008-09-01T00:00:00",
          "2008-10-01T00:00:00",
          "2008-11-01T00:00:00",
          "2008-12-01T00:00:00",
          "2009-01-01T00:00:00",
          "2009-02-01T00:00:00",
          "2009-03-01T00:00:00",
          "2009-04-01T00:00:00",
          "2009-05-01T00:00:00",
          "2009-06-01T00:00:00",
          "2009-07-01T00:00:00",
          "2009-08-01T00:00:00",
          "2009-09-01T00:00:00",
          "2009-10-01T00:00:00",
          "2009-11-01T00:00:00",
          "2009-12-01T00:00:00",
          "2010-01-01T00:00:00",
          "2010-02-01T00:00:00",
          "2010-03-01T00:00:00",
          "2010-04-01T00:00:00",
          "2010-05-01T00:00:00",
          "2010-06-01T00:00:00",
          "2010-07-01T00:00:00",
          "2010-08-01T00:00:00",
          "2010-09-01T00:00:00",
          "2010-10-01T00:00:00",
          "2010-11-01T00:00:00",
          "2010-12-01T00:00:00",
          "2011-01-01T00:00:00",
          "2011-02-01T00:00:00",
          "2011-03-01T00:00:00",
          "2011-04-01T00:00:00",
          "2011-05-01T00:00:00",
          "2011-06-01T00:00:00",
          "2011-07-01T00:00:00",
          "2011-08-01T00:00:00",
          "2011-09-01T00:00:00",
          "2011-10-01T00:00:00",
          "2011-11-01T00:00:00",
          "2011-12-01T00:00:00",
          "2012-01-01T00:00:00",
          "2012-02-01T00:00:00",
          "2012-03-01T00:00:00",
          "2012-04-01T00:00:00",
          "2012-05-01T00:00:00",
          "2012-06-01T00:00:00",
          "2012-07-01T00:00:00",
          "2012-08-01T00:00:00",
          "2012-09-01T00:00:00",
          "2012-10-01T00:00:00",
          "2012-11-01T00:00:00",
          "2012-12-01T00:00:00",
          "2013-01-01T00:00:00",
          "2013-02-01T00:00:00",
          "2013-03-01T00:00:00",
          "2013-04-01T00:00:00",
          "2013-05-01T00:00:00",
          "2013-06-01T00:00:00",
          "2013-07-01T00:00:00",
          "2013-08-01T00:00:00",
          "2013-09-01T00:00:00",
          "2013-10-01T00:00:00",
          "2013-11-01T00:00:00",
          "2013-12-01T00:00:00",
          "2014-01-01T00:00:00",
          "2014-02-01T00:00:00",
          "2014-03-01T00:00:00",
          "2014-04-01T00:00:00",
          "2014-05-01T00:00:00",
          "2014-06-01T00:00:00",
          "2014-07-01T00:00:00",
          "2014-08-01T00:00:00",
          "2014-09-01T00:00:00",
          "2014-10-01T00:00:00",
          "2014-11-01T00:00:00",
          "2014-12-01T00:00:00",
          "2015-01-01T00:00:00",
          "2015-02-01T00:00:00",
          "2015-03-01T00:00:00",
          "2015-04-01T00:00:00",
          "2015-05-01T00:00:00",
          "2015-06-01T00:00:00",
          "2015-07-01T00:00:00",
          "2015-08-01T00:00:00",
          "2015-09-01T00:00:00",
          "2015-10-01T00:00:00",
          "2015-11-01T00:00:00",
          "2015-12-01T00:00:00",
          "2016-01-01T00:00:00",
          "2016-02-01T00:00:00",
          "2016-03-01T00:00:00",
          "2016-04-01T00:00:00",
          "2016-05-01T00:00:00",
          "2016-06-01T00:00:00",
          "2016-07-01T00:00:00",
          "2016-08-01T00:00:00",
          "2016-09-01T00:00:00",
          "2016-10-01T00:00:00",
          "2016-11-01T00:00:00",
          "2016-12-01T00:00:00",
          "2017-01-01T00:00:00",
          "2017-02-01T00:00:00",
          "2017-03-01T00:00:00",
          "2017-04-01T00:00:00",
          "2017-05-01T00:00:00",
          "2017-06-01T00:00:00",
          "2017-07-01T00:00:00",
          "2017-08-01T00:00:00",
          "2017-09-01T00:00:00",
          "2017-10-01T00:00:00",
          "2017-11-01T00:00:00",
          "2017-12-01T00:00:00",
          "2018-01-01T00:00:00",
          "2018-02-01T00:00:00",
          "2018-03-01T00:00:00",
          "2018-04-01T00:00:00",
          "2018-05-01T00:00:00",
          "2018-06-01T00:00:00",
          "2018-07-01T00:00:00",
          "2018-08-01T00:00:00",
          "2018-09-01T00:00:00",
          "2018-10-01T00:00:00",
          "2018-11-01T00:00:00",
          "2018-12-01T00:00:00",
          "2019-01-01T00:00:00",
          "2019-02-01T00:00:00",
          "2019-03-01T00:00:00",
          "2019-04-01T00:00:00",
          "2019-05-01T00:00:00",
          "2019-06-01T00:00:00",
          "2019-07-01T00:00:00",
          "2019-08-01T00:00:00",
          "2019-09-01T00:00:00",
          "2019-10-01T00:00:00",
          "2019-11-01T00:00:00",
          "2019-12-01T00:00:00",
          "2020-01-01T00:00:00",
          "2020-02-01T00:00:00",
          "2020-03-01T00:00:00",
          "2020-04-01T00:00:00",
          "2020-05-01T00:00:00",
          "2020-06-01T00:00:00",
          "2020-07-01T00:00:00",
          "2020-08-01T00:00:00",
          "2020-09-01T00:00:00",
          "2020-10-01T00:00:00",
          "2020-11-01T00:00:00",
          "2020-12-01T00:00:00",
          "2021-01-01T00:00:00",
          "2021-02-01T00:00:00",
          "2021-03-01T00:00:00",
          "2021-04-01T00:00:00",
          "2021-05-01T00:00:00",
          "2021-06-01T00:00:00",
          "2021-07-01T00:00:00",
          "2021-08-01T00:00:00",
          "2021-09-01T00:00:00",
          "2021-10-01T00:00:00",
          "2021-11-01T00:00:00",
          "2021-12-01T00:00:00",
          "2022-01-01T00:00:00",
          "2022-02-01T00:00:00",
          "2022-03-01T00:00:00",
          "2022-04-01T00:00:00",
          "2022-05-01T00:00:00",
          "2022-06-01T00:00:00",
          "2022-07-01T00:00:00",
          "2022-08-01T00:00:00",
          "2022-09-01T00:00:00",
          "2022-10-01T00:00:00",
          "2022-11-01T00:00:00",
          "2022-12-01T00:00:00",
          "2023-01-01T00:00:00",
          "2023-02-01T00:00:00",
          "2023-03-01T00:00:00",
          "2023-04-01T00:00:00",
          "2023-05-01T00:00:00",
          "2023-06-01T00:00:00",
          "2023-07-01T00:00:00",
          "2023-08-01T00:00:00",
          "2023-09-01T00:00:00",
          "2023-10-01T00:00:00",
          "2023-11-01T00:00:00"
         ],
         "xaxis": "x",
         "y": [
          0.23193012876112895,
          0.24666734853937256,
          0.24255282548261703,
          0.21021664271587703,
          0.23056922388749135,
          0.23781915486698735,
          0.20939029817554178,
          0.22033804377963706,
          0.2156288934606464,
          0.2168366645590437,
          0.23590049412188252,
          0.22015430826336768,
          0.2333736762483476,
          0.22443430977043755,
          0.23643589743586602,
          0.23328555771036408,
          0.21992107910140368,
          0.2217037356393894,
          0.19952394653552208,
          0.20493426546701554,
          0.21842090904144906,
          0.1961493286654553,
          0.20619655471540776,
          0.18323967114159057,
          0.20343137254914267,
          0.2123450188820365,
          0.21975752132936466,
          0.24597806815970558,
          0.21204943063464043,
          0.2157609785444239,
          0.20875626758001264,
          0.19680536912758584,
          0.21178304239423806,
          0.20962885920750296,
          0.21998660571317108,
          0.20499463282209152,
          0.2423770491805003,
          0.21392378338438778,
          0.23518348964377045,
          0.24398227910396753,
          0.24395315487549107,
          0.22890884297730318,
          0.2120329024673674,
          0.22005394628794883,
          0.2082122181780539,
          0.20755763480248968,
          0.1869188202409241,
          0.20965630114589484,
          0.19969051389113102,
          0.19897959183696656,
          0.19294860013497894,
          0.19403737669807308,
          0.20957055214745657,
          0.21667742828174896,
          0.21814495989679972,
          0.22447809130556284,
          0.23607218215626802,
          0.22103956004989267,
          0.2102830901588998,
          0.21504250729625896,
          0.23259599332253178,
          0.23457048266276104,
          0.2214748028605038,
          0.20623184578842735,
          0.22050771528142477,
          0.19066038002220398,
          0.20345353524361398,
          0.17645728501175906,
          0.18623446847694125,
          0.19033472481871871,
          0.18345818253250845,
          0.18316197381187505,
          0.1871067446739565,
          0.18604269832441178,
          0.17882962760833776,
          0.17314065030502368,
          0.17560551484267428,
          0.1968550106610264,
          0.21530763818309162,
          0.20431898541851223,
          0.2114618772582494,
          0.20620574659843505,
          0.18298333081517837,
          0.21031355549059838,
          0.2200005113911806,
          0.2010465280726006,
          0.22487740866046246,
          0.24189434499839935,
          0.22098021304834903,
          0.2336485913207238,
          0.23937760352838555,
          0.19509564770823107,
          0.19048467116132006,
          0.18168567984993522,
          0.22311046511651733,
          0.18168212309916454,
          0.1748388385647257,
          0.18518419043497036,
          0.14899056672955235,
          0.16637807401900617,
          0.1563927782205088,
          0.05859761010324771,
          0.07216348746915069,
          0.07814051327430516,
          0.08268758303872437,
          0.08723326892992389,
          0.10253529321793897,
          0.10312369851186165,
          0.10885852544071006,
          0.10600999735326777,
          0.10309895898353671,
          0.10372102064331079,
          0.09648071952597403,
          0.13515527033365637,
          0.1440529409024922,
          0.14299190207135615,
          0.141666903680445,
          0.15223226528856304,
          0.13353213097230732,
          0.136073920829334,
          0.18018778663412016,
          0.19128183700507406,
          0.15472797157435103,
          0.1810870364854058,
          0.14639950885702768,
          0.19418942406453088,
          0.16177717457303487,
          0.16163427190939372,
          0.17502416544859611,
          0.1434266509425941,
          0.15770004446395514,
          0.1387036047785869,
          0.16458224762525442,
          0.1470795498259725,
          0.14508401574494723,
          0.14531493084186875,
          0.12941910538027068,
          0.11726224962872434,
          0.13444834820220108,
          0.12496523043336516,
          0.12396872237548695,
          0.14136071408355733,
          0.14718534286759832,
          0.1597481832953731,
          0.16602108272542038,
          0.16579815223980843,
          0.12175147016419696,
          0.1587280205174717,
          0.13297772347222225,
          0.17550255902450107,
          0.17301482461403594,
          0.1724718268855181,
          0.17340734425632542,
          0.15519706647336218,
          0.1626443498745067,
          0.1889130268870246,
          0.1411774330625386,
          0.18205544830118547,
          0.16413695790729244,
          0.12145133052404511,
          0.10820874904570854,
          0.14037382021218792,
          0.13242056334700436,
          0.16057252975065384,
          0.1648604564693923,
          0.13499956756556963,
          0.13521530219209255,
          0.1613736593053341,
          0.17293212194002527,
          0.16544822940455794,
          0.15205345165895479,
          0.176145829374585,
          0.1510433211283997,
          0.1582302986473445,
          0.16992532201344912,
          0.1511434605051457,
          0.1567606296560401,
          0.1846520842990057,
          0.15283931299980136,
          0.1518899258781602,
          0.14212873013603744,
          0.1653543400886518,
          0.1769063126081919,
          0.17236136258334,
          0.17598079656876997,
          0.16840266876864862,
          0.17158549816067747,
          0.14544058279152594,
          0.1529381528736724,
          0.1413210193872554,
          0.14879626441459137,
          0.10203546918242778,
          0.13373649335850057,
          0.1343398873441185,
          0.13491109743797303,
          0.12270885214896188,
          0.09944508451298173,
          0.12271193150256277,
          0.10541145628601856,
          0.12585413147575686,
          0.12594176579406624,
          0.11571246420946979,
          0.12237619494944008,
          0.12274952963984498,
          0.12386396305271274,
          0.154686307700602,
          0.1435443504377486,
          0.1336022647974786,
          0.15183397106019814,
          0.14064188658231314,
          0.148191198804827,
          0.15453829869954028,
          0.14314796073095581,
          0.12724114493032113,
          0.13877678110905378,
          0.11929872363640737,
          0.11924267660633514,
          0.13002450188027914,
          0.11900702451737077,
          0.12455392656645503,
          0.11720568658311015,
          0.09905995048970095,
          0.10978984614671128,
          0.11917228742967945,
          0.10660199938943149,
          0.08173161297291831,
          0.10503071378506312
         ],
         "yaxis": "y"
        },
        {
         "hovertemplate": "departure_port_code=1803<br>Month=%{x}<br>Proportion of cargo from non-primary carrier=%{y}<extra></extra>",
         "legendgroup": "1803",
         "line": {
          "color": "#FFA15A",
          "dash": "solid"
         },
         "marker": {
          "symbol": "circle"
         },
         "mode": "lines",
         "name": "1803",
         "showlegend": true,
         "type": "scattergl",
         "x": [
          "2005-01-01T00:00:00",
          "2005-02-01T00:00:00",
          "2005-03-01T00:00:00",
          "2005-04-01T00:00:00",
          "2005-05-01T00:00:00",
          "2005-06-01T00:00:00",
          "2005-07-01T00:00:00",
          "2005-08-01T00:00:00",
          "2005-09-01T00:00:00",
          "2005-10-01T00:00:00",
          "2005-11-01T00:00:00",
          "2005-12-01T00:00:00",
          "2006-01-01T00:00:00",
          "2006-02-01T00:00:00",
          "2006-03-01T00:00:00",
          "2006-04-01T00:00:00",
          "2006-05-01T00:00:00",
          "2006-06-01T00:00:00",
          "2006-07-01T00:00:00",
          "2006-08-01T00:00:00",
          "2006-09-01T00:00:00",
          "2006-10-01T00:00:00",
          "2006-11-01T00:00:00",
          "2006-12-01T00:00:00",
          "2007-01-01T00:00:00",
          "2007-02-01T00:00:00",
          "2007-03-01T00:00:00",
          "2007-04-01T00:00:00",
          "2007-05-01T00:00:00",
          "2007-06-01T00:00:00",
          "2007-07-01T00:00:00",
          "2007-08-01T00:00:00",
          "2007-09-01T00:00:00",
          "2007-10-01T00:00:00",
          "2007-11-01T00:00:00",
          "2007-12-01T00:00:00",
          "2008-01-01T00:00:00",
          "2008-02-01T00:00:00",
          "2008-03-01T00:00:00",
          "2008-04-01T00:00:00",
          "2008-05-01T00:00:00",
          "2008-06-01T00:00:00",
          "2008-07-01T00:00:00",
          "2008-08-01T00:00:00",
          "2008-09-01T00:00:00",
          "2008-10-01T00:00:00",
          "2008-11-01T00:00:00",
          "2008-12-01T00:00:00",
          "2009-01-01T00:00:00",
          "2009-02-01T00:00:00",
          "2009-03-01T00:00:00",
          "2009-04-01T00:00:00",
          "2009-05-01T00:00:00",
          "2009-06-01T00:00:00",
          "2009-07-01T00:00:00",
          "2009-08-01T00:00:00",
          "2009-09-01T00:00:00",
          "2009-10-01T00:00:00",
          "2009-11-01T00:00:00",
          "2009-12-01T00:00:00",
          "2010-01-01T00:00:00",
          "2010-02-01T00:00:00",
          "2010-03-01T00:00:00",
          "2010-04-01T00:00:00",
          "2010-05-01T00:00:00",
          "2010-06-01T00:00:00",
          "2010-07-01T00:00:00",
          "2010-08-01T00:00:00",
          "2010-09-01T00:00:00",
          "2010-10-01T00:00:00",
          "2010-11-01T00:00:00",
          "2010-12-01T00:00:00",
          "2011-01-01T00:00:00",
          "2011-02-01T00:00:00",
          "2011-03-01T00:00:00",
          "2011-04-01T00:00:00",
          "2011-05-01T00:00:00",
          "2011-06-01T00:00:00",
          "2011-07-01T00:00:00",
          "2011-08-01T00:00:00",
          "2011-09-01T00:00:00",
          "2011-10-01T00:00:00",
          "2011-11-01T00:00:00",
          "2011-12-01T00:00:00",
          "2012-01-01T00:00:00",
          "2012-02-01T00:00:00",
          "2012-03-01T00:00:00",
          "2012-04-01T00:00:00",
          "2012-05-01T00:00:00",
          "2012-06-01T00:00:00",
          "2012-07-01T00:00:00",
          "2012-08-01T00:00:00",
          "2012-09-01T00:00:00",
          "2012-10-01T00:00:00",
          "2012-11-01T00:00:00",
          "2012-12-01T00:00:00",
          "2013-01-01T00:00:00",
          "2013-02-01T00:00:00",
          "2013-03-01T00:00:00",
          "2013-04-01T00:00:00",
          "2013-05-01T00:00:00",
          "2013-06-01T00:00:00",
          "2013-07-01T00:00:00",
          "2013-08-01T00:00:00",
          "2013-09-01T00:00:00",
          "2013-10-01T00:00:00",
          "2013-11-01T00:00:00",
          "2013-12-01T00:00:00",
          "2014-01-01T00:00:00",
          "2014-02-01T00:00:00",
          "2014-03-01T00:00:00",
          "2014-04-01T00:00:00",
          "2014-05-01T00:00:00",
          "2014-06-01T00:00:00",
          "2014-07-01T00:00:00",
          "2014-08-01T00:00:00",
          "2014-09-01T00:00:00",
          "2014-10-01T00:00:00",
          "2014-11-01T00:00:00",
          "2014-12-01T00:00:00",
          "2015-01-01T00:00:00",
          "2015-02-01T00:00:00",
          "2015-03-01T00:00:00",
          "2015-04-01T00:00:00",
          "2015-05-01T00:00:00",
          "2015-06-01T00:00:00",
          "2015-07-01T00:00:00",
          "2015-08-01T00:00:00",
          "2015-09-01T00:00:00",
          "2015-10-01T00:00:00",
          "2015-11-01T00:00:00",
          "2015-12-01T00:00:00",
          "2016-01-01T00:00:00",
          "2016-02-01T00:00:00",
          "2016-03-01T00:00:00",
          "2016-04-01T00:00:00",
          "2016-05-01T00:00:00",
          "2016-06-01T00:00:00",
          "2016-07-01T00:00:00",
          "2016-08-01T00:00:00",
          "2016-09-01T00:00:00",
          "2016-10-01T00:00:00",
          "2016-11-01T00:00:00",
          "2016-12-01T00:00:00",
          "2017-01-01T00:00:00",
          "2017-02-01T00:00:00",
          "2017-03-01T00:00:00",
          "2017-04-01T00:00:00",
          "2017-05-01T00:00:00",
          "2017-06-01T00:00:00",
          "2017-07-01T00:00:00",
          "2017-08-01T00:00:00",
          "2017-09-01T00:00:00",
          "2017-10-01T00:00:00",
          "2017-11-01T00:00:00",
          "2017-12-01T00:00:00",
          "2018-01-01T00:00:00",
          "2018-02-01T00:00:00",
          "2018-03-01T00:00:00",
          "2018-04-01T00:00:00",
          "2018-05-01T00:00:00",
          "2018-06-01T00:00:00",
          "2018-07-01T00:00:00",
          "2018-08-01T00:00:00",
          "2018-09-01T00:00:00",
          "2018-10-01T00:00:00",
          "2018-11-01T00:00:00",
          "2018-12-01T00:00:00",
          "2019-01-01T00:00:00",
          "2019-02-01T00:00:00",
          "2019-03-01T00:00:00",
          "2019-04-01T00:00:00",
          "2019-05-01T00:00:00",
          "2019-06-01T00:00:00",
          "2019-07-01T00:00:00",
          "2019-08-01T00:00:00",
          "2019-09-01T00:00:00",
          "2019-10-01T00:00:00",
          "2019-11-01T00:00:00",
          "2019-12-01T00:00:00",
          "2020-01-01T00:00:00",
          "2020-02-01T00:00:00",
          "2020-03-01T00:00:00",
          "2020-04-01T00:00:00",
          "2020-05-01T00:00:00",
          "2020-06-01T00:00:00",
          "2020-07-01T00:00:00",
          "2020-08-01T00:00:00",
          "2020-09-01T00:00:00",
          "2020-10-01T00:00:00",
          "2020-11-01T00:00:00",
          "2020-12-01T00:00:00",
          "2021-01-01T00:00:00",
          "2021-02-01T00:00:00",
          "2021-03-01T00:00:00",
          "2021-04-01T00:00:00",
          "2021-05-01T00:00:00",
          "2021-06-01T00:00:00",
          "2021-07-01T00:00:00",
          "2021-08-01T00:00:00",
          "2021-09-01T00:00:00",
          "2021-10-01T00:00:00",
          "2021-11-01T00:00:00",
          "2021-12-01T00:00:00",
          "2022-01-01T00:00:00",
          "2022-02-01T00:00:00",
          "2022-03-01T00:00:00",
          "2022-04-01T00:00:00",
          "2022-05-01T00:00:00",
          "2022-06-01T00:00:00",
          "2022-07-01T00:00:00",
          "2022-08-01T00:00:00",
          "2022-09-01T00:00:00",
          "2022-10-01T00:00:00",
          "2022-11-01T00:00:00",
          "2022-12-01T00:00:00",
          "2023-01-01T00:00:00",
          "2023-02-01T00:00:00",
          "2023-03-01T00:00:00",
          "2023-04-01T00:00:00",
          "2023-05-01T00:00:00",
          "2023-06-01T00:00:00",
          "2023-07-01T00:00:00",
          "2023-08-01T00:00:00",
          "2023-09-01T00:00:00",
          "2023-10-01T00:00:00",
          "2023-11-01T00:00:00"
         ],
         "xaxis": "x",
         "y": [
          0.06106642835864584,
          0.05620830135206234,
          0.06147186147190409,
          0.06296106557387948,
          0.06629081221732602,
          0.061225814829234504,
          0.06592663548768019,
          0.061475648877216016,
          0.06113184079601175,
          0.06933483652761285,
          0.08649826296884033,
          0.07645575424116446,
          0.08034013605441015,
          0.08236083165659447,
          0.04446101772703259,
          0.04605722260990308,
          0.05094339622640798,
          0.0380098887515401,
          0.04842931937172135,
          0.04127431632364886,
          0.044143681114722555,
          0.05221270951404122,
          0.06192307692306842,
          0.04590794375675411,
          0.035351063251247594,
          0.03508546459323514,
          0.033987386124732955,
          0.04335352247369506,
          0.03024337866857163,
          0.030019468693081475,
          0.026137926909500786,
          0.03908201498757913,
          0.03111523916937131,
          0.05871487742079229,
          0.037800872327878765,
          0.043952675780047024,
          0.05612822124449279,
          0.0356170351813877,
          0.03707333948339031,
          0.040917314036468144,
          0.03044197589227271,
          0.034471105103071276,
          0.07277991314343635,
          0.031853938040258156,
          0.03890685303021357,
          0.03251252086815937,
          0.05340790971646814,
          0.03791725180949157,
          0.06576626240353578,
          0.03962614429293354,
          0.02084701247540577,
          0.026973327713886608,
          0.025964130817016984,
          0.040260895345384795,
          0.05207481323957408,
          0.054798409994314734,
          0.04476037096684271,
          0.06487270544701607,
          0.05358146857077961,
          0.04623376623384745,
          0.04873976305954486,
          0.09587613517938032,
          0.05849616621320031,
          0.07967137944209846,
          0.05180180180179428,
          0.05973889730737103,
          0.05625082334342513,
          0.04713510817382005,
          0.09153275648948112,
          0.07568940877581676,
          0.06193497669716819,
          0.055725730442971355,
          0.056846473029037226,
          0.03840574704703448,
          0.06070710278403546,
          0.051213274281073584,
          0.0644579983365583,
          0.0475972838861255,
          0.04385572933290183,
          0.05917159763312785,
          0.055595479192518504,
          0.07807329329573687,
          0.045769511305610355,
          0.043467368157328545,
          0.053568982052328074,
          0.047430830039518646,
          0.053719845935528476,
          0.062321734169984766,
          0.04897985454076692,
          0.04756905714847437,
          0.07052416609937706,
          0.1488708335998773,
          0.1387825835800205,
          0.06238253578139852,
          0.06611617969741646,
          0.06209125182733455,
          0.11174514253773626,
          0.13021111704968746,
          0.049042757987358465,
          0.07734876969790794,
          0.14793657841541497,
          0.045768202337966746,
          0.041688638767453545,
          0.0812499447581082,
          0.03579285571443813,
          0.08160252800519718,
          0.0649759125802124,
          0.055896469217418976,
          0.0815001905697833,
          0.03360013897707148,
          0.04266741526462414,
          0.03731526956898901,
          0.03710955406128258,
          0.04484526839222769,
          0.040845008229213664,
          0.04107379949306722,
          0.03803319258127724,
          0.04042807541309368,
          0.05851658353713618,
          0.09350868719857386,
          0.10044325183822045,
          0.07588527227558373,
          0.039957076335842334,
          0.10543915414268401,
          0.08364441620840246,
          0.04271359549613807,
          0.0410117822757321,
          0.039836353080521025,
          0.05451859754953592,
          0.04539651449406845,
          0.04492377294082661,
          0.04938871481801721,
          0.04909599407383036,
          0.05624788384299961,
          0.05278292887148617,
          0.047017105348573396,
          0.04998662785162589,
          0.052445163659773475,
          0.048495378715700754,
          0.05193788854148462,
          0.05060118859116092,
          0.05764306519186946,
          0.056038151715344875,
          0.039089853333782565,
          0.05159485179605616,
          0.0517051607833684,
          0.049021684832527446,
          0.0422630799546545,
          0.06553145204775335,
          0.04405478297021226,
          0.06211657459035991,
          0.06284389511948607,
          0.056494857229760775,
          0.05322527304806324,
          0.034178944532406996,
          0.04316508395548857,
          0.03101769879986116,
          0.038155773951727645,
          0.03487771376344817,
          0.0204864396622787,
          0.03401684817201134,
          0.023206443247792197,
          0.026369093772368513,
          0.026299193080830507,
          0.031345646370169566,
          0.03113872076787405,
          0.017359189272248998,
          0.014243760319626486,
          0.021796568333589894,
          0.03782828600272625,
          0.020829651341327415,
          0.02471311082980454,
          0.018471989334320482,
          0.01972167878718145,
          0.029817613999425507,
          0.017451002589648268,
          0.018545195315164298,
          0.017165892158459428,
          0.021190116427436623,
          0.015871628381928016,
          0.021493612131217255,
          0.028556256733194396,
          0.031476403440347966,
          0.034299596868006654,
          0.020151100923524345,
          0.017943854070101795,
          0.012411577924437811,
          0.017589513358237663,
          0.02072165288063288,
          0.014400130625550234,
          0.014138684920549482,
          0.02001809764421214,
          0.01485344018261292,
          0.025082636777121192,
          0.021919330929608405,
          0.012754897451797365,
          0.023191499290459272,
          0.007560580737568046,
          0.0031340452097921023,
          0.008866580201813967,
          0.017319465288376246,
          0.01126907362416174,
          0.02498318089645868,
          0.021427009535388453,
          0.03587203797796801,
          0.019270443920781255,
          0.02861997301104313,
          0.03805770117310847,
          0.03245132292523456,
          0.03108891076021869,
          0.03606049768281239,
          0.038711350316205984,
          0.02724510513260947,
          0.03756877609142473,
          0.037994370218242146,
          0.014468116548487675,
          0.02260322510934676,
          0.03138250212811977,
          0.0380570534353315,
          0.03221604860909766,
          0.038094019438100535,
          0.031460243752305495,
          0.01585884565031881,
          0.03051250171461739,
          0.03038345733845238,
          0.008246188442269431,
          0.09112745082808216
         ],
         "yaxis": "y"
        },
        {
         "hovertemplate": "departure_port_code=2704<br>Month=%{x}<br>Proportion of cargo from non-primary carrier=%{y}<extra></extra>",
         "legendgroup": "2704",
         "line": {
          "color": "#19d3f3",
          "dash": "solid"
         },
         "marker": {
          "symbol": "circle"
         },
         "mode": "lines",
         "name": "2704",
         "showlegend": true,
         "type": "scattergl",
         "x": [
          "2005-01-01T00:00:00",
          "2005-02-01T00:00:00",
          "2005-03-01T00:00:00",
          "2005-04-01T00:00:00",
          "2005-05-01T00:00:00",
          "2005-06-01T00:00:00",
          "2005-07-01T00:00:00",
          "2005-08-01T00:00:00",
          "2005-09-01T00:00:00",
          "2005-10-01T00:00:00",
          "2005-11-01T00:00:00",
          "2005-12-01T00:00:00",
          "2006-01-01T00:00:00",
          "2006-02-01T00:00:00",
          "2006-03-01T00:00:00",
          "2006-04-01T00:00:00",
          "2006-05-01T00:00:00",
          "2006-06-01T00:00:00",
          "2006-07-01T00:00:00",
          "2006-08-01T00:00:00",
          "2006-09-01T00:00:00",
          "2006-10-01T00:00:00",
          "2006-11-01T00:00:00",
          "2006-12-01T00:00:00",
          "2007-01-01T00:00:00",
          "2007-02-01T00:00:00",
          "2007-03-01T00:00:00",
          "2007-04-01T00:00:00",
          "2007-05-01T00:00:00",
          "2007-06-01T00:00:00",
          "2007-07-01T00:00:00",
          "2007-08-01T00:00:00",
          "2007-09-01T00:00:00",
          "2007-10-01T00:00:00",
          "2007-11-01T00:00:00",
          "2007-12-01T00:00:00",
          "2008-01-01T00:00:00",
          "2008-02-01T00:00:00",
          "2008-03-01T00:00:00",
          "2008-04-01T00:00:00",
          "2008-05-01T00:00:00",
          "2008-06-01T00:00:00",
          "2008-07-01T00:00:00",
          "2008-08-01T00:00:00",
          "2008-09-01T00:00:00",
          "2008-10-01T00:00:00",
          "2008-11-01T00:00:00",
          "2008-12-01T00:00:00",
          "2009-01-01T00:00:00",
          "2009-02-01T00:00:00",
          "2009-03-01T00:00:00",
          "2009-04-01T00:00:00",
          "2009-05-01T00:00:00",
          "2009-06-01T00:00:00",
          "2009-07-01T00:00:00",
          "2009-08-01T00:00:00",
          "2009-09-01T00:00:00",
          "2009-10-01T00:00:00",
          "2009-11-01T00:00:00",
          "2009-12-01T00:00:00",
          "2010-01-01T00:00:00",
          "2010-02-01T00:00:00",
          "2010-03-01T00:00:00",
          "2010-04-01T00:00:00",
          "2010-05-01T00:00:00",
          "2010-06-01T00:00:00",
          "2010-07-01T00:00:00",
          "2010-08-01T00:00:00",
          "2010-09-01T00:00:00",
          "2010-10-01T00:00:00",
          "2010-11-01T00:00:00",
          "2010-12-01T00:00:00",
          "2011-01-01T00:00:00",
          "2011-02-01T00:00:00",
          "2011-03-01T00:00:00",
          "2011-04-01T00:00:00",
          "2011-05-01T00:00:00",
          "2011-06-01T00:00:00",
          "2011-07-01T00:00:00",
          "2011-08-01T00:00:00",
          "2011-09-01T00:00:00",
          "2011-10-01T00:00:00",
          "2011-11-01T00:00:00",
          "2011-12-01T00:00:00",
          "2012-01-01T00:00:00",
          "2012-02-01T00:00:00",
          "2012-03-01T00:00:00",
          "2012-04-01T00:00:00",
          "2012-05-01T00:00:00",
          "2012-06-01T00:00:00",
          "2012-07-01T00:00:00",
          "2012-08-01T00:00:00",
          "2012-09-01T00:00:00",
          "2012-10-01T00:00:00",
          "2012-11-01T00:00:00",
          "2012-12-01T00:00:00",
          "2013-01-01T00:00:00",
          "2013-02-01T00:00:00",
          "2013-03-01T00:00:00",
          "2013-04-01T00:00:00",
          "2013-05-01T00:00:00",
          "2013-06-01T00:00:00",
          "2013-07-01T00:00:00",
          "2013-08-01T00:00:00",
          "2013-09-01T00:00:00",
          "2013-10-01T00:00:00",
          "2013-11-01T00:00:00",
          "2013-12-01T00:00:00",
          "2014-01-01T00:00:00",
          "2014-02-01T00:00:00",
          "2014-03-01T00:00:00",
          "2014-04-01T00:00:00",
          "2014-05-01T00:00:00",
          "2014-06-01T00:00:00",
          "2014-07-01T00:00:00",
          "2014-08-01T00:00:00",
          "2014-09-01T00:00:00",
          "2014-10-01T00:00:00",
          "2014-11-01T00:00:00",
          "2014-12-01T00:00:00",
          "2015-01-01T00:00:00",
          "2015-02-01T00:00:00",
          "2015-03-01T00:00:00",
          "2015-04-01T00:00:00",
          "2015-05-01T00:00:00",
          "2015-06-01T00:00:00",
          "2015-07-01T00:00:00",
          "2015-08-01T00:00:00",
          "2015-09-01T00:00:00",
          "2015-10-01T00:00:00",
          "2015-11-01T00:00:00",
          "2015-12-01T00:00:00",
          "2016-01-01T00:00:00",
          "2016-02-01T00:00:00",
          "2016-03-01T00:00:00",
          "2016-04-01T00:00:00",
          "2016-05-01T00:00:00",
          "2016-06-01T00:00:00",
          "2016-07-01T00:00:00",
          "2016-08-01T00:00:00",
          "2016-09-01T00:00:00",
          "2016-10-01T00:00:00",
          "2016-11-01T00:00:00",
          "2016-12-01T00:00:00",
          "2017-01-01T00:00:00",
          "2017-02-01T00:00:00",
          "2017-03-01T00:00:00",
          "2017-04-01T00:00:00",
          "2017-05-01T00:00:00",
          "2017-06-01T00:00:00",
          "2017-07-01T00:00:00",
          "2017-08-01T00:00:00",
          "2017-09-01T00:00:00",
          "2017-10-01T00:00:00",
          "2017-11-01T00:00:00",
          "2017-12-01T00:00:00",
          "2018-01-01T00:00:00",
          "2018-02-01T00:00:00",
          "2018-03-01T00:00:00",
          "2018-04-01T00:00:00",
          "2018-05-01T00:00:00",
          "2018-06-01T00:00:00",
          "2018-07-01T00:00:00",
          "2018-08-01T00:00:00",
          "2018-09-01T00:00:00",
          "2018-10-01T00:00:00",
          "2018-11-01T00:00:00",
          "2018-12-01T00:00:00",
          "2019-01-01T00:00:00",
          "2019-02-01T00:00:00",
          "2019-03-01T00:00:00",
          "2019-04-01T00:00:00",
          "2019-05-01T00:00:00",
          "2019-06-01T00:00:00",
          "2019-07-01T00:00:00",
          "2019-08-01T00:00:00",
          "2019-09-01T00:00:00",
          "2019-10-01T00:00:00",
          "2019-11-01T00:00:00",
          "2019-12-01T00:00:00",
          "2020-01-01T00:00:00",
          "2020-02-01T00:00:00",
          "2020-03-01T00:00:00",
          "2020-04-01T00:00:00",
          "2020-05-01T00:00:00",
          "2020-06-01T00:00:00",
          "2020-07-01T00:00:00",
          "2020-08-01T00:00:00",
          "2020-09-01T00:00:00",
          "2020-10-01T00:00:00",
          "2020-11-01T00:00:00",
          "2020-12-01T00:00:00",
          "2021-01-01T00:00:00",
          "2021-02-01T00:00:00",
          "2021-03-01T00:00:00",
          "2021-04-01T00:00:00",
          "2021-05-01T00:00:00",
          "2021-06-01T00:00:00",
          "2021-07-01T00:00:00",
          "2021-08-01T00:00:00",
          "2021-09-01T00:00:00",
          "2021-10-01T00:00:00",
          "2021-11-01T00:00:00",
          "2021-12-01T00:00:00",
          "2022-01-01T00:00:00",
          "2022-02-01T00:00:00",
          "2022-03-01T00:00:00",
          "2022-04-01T00:00:00",
          "2022-05-01T00:00:00",
          "2022-06-01T00:00:00",
          "2022-07-01T00:00:00",
          "2022-08-01T00:00:00",
          "2022-09-01T00:00:00",
          "2022-10-01T00:00:00",
          "2022-11-01T00:00:00",
          "2022-12-01T00:00:00",
          "2023-01-01T00:00:00",
          "2023-02-01T00:00:00",
          "2023-03-01T00:00:00",
          "2023-04-01T00:00:00",
          "2023-05-01T00:00:00",
          "2023-06-01T00:00:00",
          "2023-07-01T00:00:00",
          "2023-08-01T00:00:00",
          "2023-09-01T00:00:00",
          "2023-10-01T00:00:00",
          "2023-11-01T00:00:00"
         ],
         "xaxis": "x",
         "y": [
          0.36366508688778665,
          0.36135701325119485,
          0.31937029431917197,
          0.3256203586309011,
          0.31817633578614135,
          0.3147498438027194,
          0.3152857656364648,
          0.3372681281621237,
          0.3282772056778962,
          0.33435540707539335,
          0.3306892664804937,
          0.3366665191808057,
          0.34663108739182236,
          0.3434334045916857,
          0.3796886582657646,
          0.36491585060860243,
          0.350849022520502,
          0.3483598389735938,
          0.34684504792366044,
          0.3420259987321175,
          0.33907179690633904,
          0.3349449368792451,
          0.30272095173059566,
          0.2843790603129964,
          0.3007671767052593,
          0.2979144667373288,
          0.2832583619118062,
          0.2823245434260183,
          0.2700421940931068,
          0.26739752144929696,
          0.23704890910978982,
          0.25331792105520445,
          0.24377383362385907,
          0.2375210084036986,
          0.2586923972720184,
          0.2603019175849066,
          0.27477003942209477,
          0.2667307076532587,
          0.2772185537127272,
          0.2529900205686201,
          0.26410459258060104,
          0.23858746284576604,
          0.2969887955185587,
          0.2888032541215214,
          0.3052456021923253,
          0.28687547876445796,
          0.2976225133431849,
          0.294674433118427,
          0.2323606410829132,
          0.23786355281653504,
          0.24812548478873153,
          0.2647399379373222,
          0.24565274958100936,
          0.25141011840720306,
          0.28108228980347383,
          0.2741016004394944,
          0.26577097606575384,
          0.24580980945688635,
          0.24599537523683845,
          0.2824861207497683,
          0.26892549856595915,
          0.26839032527102735,
          0.2577094435226138,
          0.3011132563779413,
          0.2996094476475861,
          0.27548667548702743,
          0.3081942132027715,
          0.3161164359249883,
          0.2727112830888365,
          0.3033125487143423,
          0.2916714931082226,
          0.25050488051195363,
          0.2694179721055605,
          0.2725052470906014,
          0.24561296426307877,
          0.303394957983538,
          0.31187660302117914,
          0.2840037669853894,
          0.2947783447090969,
          0.2888630726242508,
          0.29869004366554763,
          0.2640996964374157,
          0.2930924818728503,
          0.2532594981076882,
          0.28116047144186773,
          0.28561459475657636,
          0.30206185567044264,
          0.2967320683973892,
          0.2951823918734794,
          0.28292279715687096,
          0.2628856591268307,
          0.2869690338442309,
          0.25731948737570576,
          0.22633567851570402,
          0.25504486357841494,
          0.25597656250033796,
          0.23251911787765622,
          0.2398004109190366,
          0.21924566162664438,
          0.20327419234013566,
          0.24289632616398737,
          0.09741773939214038,
          0.07772766467513015,
          0.07364432361937356,
          0.08442477897461076,
          0.08162957127206749,
          0.09738221774967071,
          0.10819413273361012,
          0.11410419662232718,
          0.12151024964370294,
          0.12137408229212332,
          0.1154210863679348,
          0.11342023837615478,
          0.16321567429834716,
          0.148704288878308,
          0.17003536091180071,
          0.17848007930003296,
          0.17275883313053209,
          0.1804380079989497,
          0.18775589640165136,
          0.1850077517629335,
          0.19422854455018146,
          0.20576079879350762,
          0.19780723371700248,
          0.20131820437818138,
          0.17659530207106966,
          0.18974409647684742,
          0.1620866514226773,
          0.16658044879345346,
          0.17013448808183063,
          0.2032882596131136,
          0.17923505130840733,
          0.15917422410459192,
          0.184878576662302,
          0.19391082930002634,
          0.1703851680219517,
          0.15204425146437683,
          0.12853991724057323,
          0.12207201800692602,
          0.11611110050422568,
          0.13774838924786093,
          0.1456538590241514,
          0.14327296891336772,
          0.11196379256086675,
          0.09684548253190461,
          0.1201036251400821,
          0.12089765514978845,
          0.13677689987814134,
          0.1431189056836466,
          0.17319709786565562,
          0.18964627662240208,
          0.18158462138488496,
          0.16472006068315348,
          0.17715772821897124,
          0.17619755781498703,
          0.15039384547224177,
          0.15293003760683999,
          0.16677071488322026,
          0.22951602429797469,
          0.12975848683199964,
          0.1629529542440067,
          0.15985155797861783,
          0.18254579144238547,
          0.15469501358646465,
          0.17741009613645142,
          0.1654142541647955,
          0.19720358102912727,
          0.19763418936434762,
          0.20374639784237047,
          0.20755801034070798,
          0.19740972779939625,
          0.2107797716523251,
          0.2169864803193925,
          0.2058917329553408,
          0.22194638190196292,
          0.24446111866791165,
          0.228150849419417,
          0.24248950506869882,
          0.23075448380730346,
          0.2268078296732151,
          0.22159202185698768,
          0.21763026518214068,
          0.19834608601969128,
          0.2220807213010766,
          0.19654017750421915,
          0.19602522334944317,
          0.21272714598347042,
          0.22615232952563147,
          0.18726841076551537,
          0.1478616868871213,
          0.1507279276400233,
          0.10965212503076205,
          0.10088682886967482,
          0.10296791132126315,
          0.11715780942823495,
          0.12202122724615394,
          0.12080797468502924,
          0.1169884096874575,
          0.12447475590272294,
          0.10688551089034948,
          0.12815393580700396,
          0.13370137127173287,
          0.12935691954637296,
          0.13437698136181375,
          0.15637670520599678,
          0.17615303035618135,
          0.15216169941150326,
          0.15640465857299957,
          0.1671349523991924,
          0.18175613171461769,
          0.1653479990999286,
          0.19155108895930217,
          0.17805876985265634,
          0.15102738697522544,
          0.17843135553689937,
          0.16288230552832317,
          0.12476509055559004,
          0.16135316504769326,
          0.134076446507567,
          0.13700684419923492,
          0.1279133595750842,
          0.1266397094161441,
          0.08255144848219909,
          0.11131121446761039,
          0.11328795599754171,
          0.12019988227680656,
          0.117527408633053
         ],
         "yaxis": "y"
        },
        {
         "hovertemplate": "departure_port_code=5301<br>Month=%{x}<br>Proportion of cargo from non-primary carrier=%{y}<extra></extra>",
         "legendgroup": "5301",
         "line": {
          "color": "#FF6692",
          "dash": "solid"
         },
         "marker": {
          "symbol": "circle"
         },
         "mode": "lines",
         "name": "5301",
         "showlegend": true,
         "type": "scattergl",
         "x": [
          "2005-01-01T00:00:00",
          "2005-02-01T00:00:00",
          "2005-03-01T00:00:00",
          "2005-04-01T00:00:00",
          "2005-05-01T00:00:00",
          "2005-06-01T00:00:00",
          "2005-07-01T00:00:00",
          "2005-08-01T00:00:00",
          "2005-09-01T00:00:00",
          "2005-10-01T00:00:00",
          "2005-11-01T00:00:00",
          "2005-12-01T00:00:00",
          "2006-01-01T00:00:00",
          "2006-02-01T00:00:00",
          "2006-03-01T00:00:00",
          "2006-04-01T00:00:00",
          "2006-05-01T00:00:00",
          "2006-06-01T00:00:00",
          "2006-07-01T00:00:00",
          "2006-08-01T00:00:00",
          "2006-09-01T00:00:00",
          "2006-10-01T00:00:00",
          "2006-11-01T00:00:00",
          "2006-12-01T00:00:00",
          "2007-01-01T00:00:00",
          "2007-02-01T00:00:00",
          "2007-03-01T00:00:00",
          "2007-04-01T00:00:00",
          "2007-05-01T00:00:00",
          "2007-06-01T00:00:00",
          "2007-07-01T00:00:00",
          "2007-08-01T00:00:00",
          "2007-09-01T00:00:00",
          "2007-10-01T00:00:00",
          "2007-11-01T00:00:00",
          "2007-12-01T00:00:00",
          "2008-01-01T00:00:00",
          "2008-02-01T00:00:00",
          "2008-03-01T00:00:00",
          "2008-04-01T00:00:00",
          "2008-05-01T00:00:00",
          "2008-06-01T00:00:00",
          "2008-07-01T00:00:00",
          "2008-08-01T00:00:00",
          "2008-09-01T00:00:00",
          "2008-10-01T00:00:00",
          "2008-11-01T00:00:00",
          "2008-12-01T00:00:00",
          "2009-01-01T00:00:00",
          "2009-02-01T00:00:00",
          "2009-03-01T00:00:00",
          "2009-04-01T00:00:00",
          "2009-05-01T00:00:00",
          "2009-06-01T00:00:00",
          "2009-07-01T00:00:00",
          "2009-08-01T00:00:00",
          "2009-09-01T00:00:00",
          "2009-10-01T00:00:00",
          "2009-11-01T00:00:00",
          "2009-12-01T00:00:00",
          "2010-01-01T00:00:00",
          "2010-02-01T00:00:00",
          "2010-03-01T00:00:00",
          "2010-04-01T00:00:00",
          "2010-05-01T00:00:00",
          "2010-06-01T00:00:00",
          "2010-07-01T00:00:00",
          "2010-08-01T00:00:00",
          "2010-09-01T00:00:00",
          "2010-10-01T00:00:00",
          "2010-11-01T00:00:00",
          "2010-12-01T00:00:00",
          "2011-01-01T00:00:00",
          "2011-02-01T00:00:00",
          "2011-03-01T00:00:00",
          "2011-04-01T00:00:00",
          "2011-05-01T00:00:00",
          "2011-06-01T00:00:00",
          "2011-07-01T00:00:00",
          "2011-08-01T00:00:00",
          "2011-09-01T00:00:00",
          "2011-10-01T00:00:00",
          "2011-11-01T00:00:00",
          "2011-12-01T00:00:00",
          "2012-01-01T00:00:00",
          "2012-02-01T00:00:00",
          "2012-03-01T00:00:00",
          "2012-04-01T00:00:00",
          "2012-05-01T00:00:00",
          "2012-06-01T00:00:00",
          "2012-07-01T00:00:00",
          "2012-08-01T00:00:00",
          "2012-09-01T00:00:00",
          "2012-10-01T00:00:00",
          "2012-11-01T00:00:00",
          "2012-12-01T00:00:00",
          "2013-01-01T00:00:00",
          "2013-02-01T00:00:00",
          "2013-03-01T00:00:00",
          "2013-04-01T00:00:00",
          "2013-05-01T00:00:00",
          "2013-06-01T00:00:00",
          "2013-07-01T00:00:00",
          "2013-08-01T00:00:00",
          "2013-09-01T00:00:00",
          "2013-10-01T00:00:00",
          "2013-11-01T00:00:00",
          "2013-12-01T00:00:00",
          "2014-01-01T00:00:00",
          "2014-02-01T00:00:00",
          "2014-03-01T00:00:00",
          "2014-04-01T00:00:00",
          "2014-05-01T00:00:00",
          "2014-06-01T00:00:00",
          "2014-07-01T00:00:00",
          "2014-08-01T00:00:00",
          "2014-09-01T00:00:00",
          "2014-10-01T00:00:00",
          "2014-11-01T00:00:00",
          "2014-12-01T00:00:00",
          "2015-01-01T00:00:00",
          "2015-02-01T00:00:00",
          "2015-03-01T00:00:00",
          "2015-04-01T00:00:00",
          "2015-05-01T00:00:00",
          "2015-06-01T00:00:00",
          "2015-07-01T00:00:00",
          "2015-08-01T00:00:00",
          "2015-09-01T00:00:00",
          "2015-10-01T00:00:00",
          "2015-11-01T00:00:00",
          "2015-12-01T00:00:00",
          "2016-01-01T00:00:00",
          "2016-02-01T00:00:00",
          "2016-03-01T00:00:00",
          "2016-04-01T00:00:00",
          "2016-05-01T00:00:00",
          "2016-06-01T00:00:00",
          "2016-07-01T00:00:00",
          "2016-08-01T00:00:00",
          "2016-09-01T00:00:00",
          "2016-10-01T00:00:00",
          "2016-11-01T00:00:00",
          "2016-12-01T00:00:00",
          "2017-01-01T00:00:00",
          "2017-02-01T00:00:00",
          "2017-03-01T00:00:00",
          "2017-04-01T00:00:00",
          "2017-05-01T00:00:00",
          "2017-06-01T00:00:00",
          "2017-07-01T00:00:00",
          "2017-08-01T00:00:00",
          "2017-09-01T00:00:00",
          "2017-10-01T00:00:00",
          "2017-11-01T00:00:00",
          "2017-12-01T00:00:00",
          "2018-01-01T00:00:00",
          "2018-02-01T00:00:00",
          "2018-03-01T00:00:00",
          "2018-04-01T00:00:00",
          "2018-05-01T00:00:00",
          "2018-06-01T00:00:00",
          "2018-07-01T00:00:00",
          "2018-08-01T00:00:00",
          "2018-09-01T00:00:00",
          "2018-10-01T00:00:00",
          "2018-11-01T00:00:00",
          "2018-12-01T00:00:00",
          "2019-01-01T00:00:00",
          "2019-02-01T00:00:00",
          "2019-03-01T00:00:00",
          "2019-04-01T00:00:00",
          "2019-05-01T00:00:00",
          "2019-06-01T00:00:00",
          "2019-07-01T00:00:00",
          "2019-08-01T00:00:00",
          "2019-09-01T00:00:00",
          "2019-10-01T00:00:00",
          "2019-11-01T00:00:00",
          "2019-12-01T00:00:00",
          "2020-01-01T00:00:00",
          "2020-02-01T00:00:00",
          "2020-03-01T00:00:00",
          "2020-04-01T00:00:00",
          "2020-05-01T00:00:00",
          "2020-06-01T00:00:00",
          "2020-07-01T00:00:00",
          "2020-08-01T00:00:00",
          "2020-09-01T00:00:00",
          "2020-10-01T00:00:00",
          "2020-11-01T00:00:00",
          "2020-12-01T00:00:00",
          "2021-01-01T00:00:00",
          "2021-02-01T00:00:00",
          "2021-03-01T00:00:00",
          "2021-04-01T00:00:00",
          "2021-05-01T00:00:00",
          "2021-06-01T00:00:00",
          "2021-07-01T00:00:00",
          "2021-08-01T00:00:00",
          "2021-09-01T00:00:00",
          "2021-10-01T00:00:00",
          "2021-11-01T00:00:00",
          "2021-12-01T00:00:00",
          "2022-01-01T00:00:00",
          "2022-02-01T00:00:00",
          "2022-03-01T00:00:00",
          "2022-04-01T00:00:00",
          "2022-05-01T00:00:00",
          "2022-06-01T00:00:00",
          "2022-07-01T00:00:00",
          "2022-08-01T00:00:00",
          "2022-09-01T00:00:00",
          "2022-10-01T00:00:00",
          "2022-11-01T00:00:00",
          "2022-12-01T00:00:00",
          "2023-01-01T00:00:00",
          "2023-02-01T00:00:00",
          "2023-03-01T00:00:00",
          "2023-04-01T00:00:00",
          "2023-05-01T00:00:00",
          "2023-06-01T00:00:00",
          "2023-07-01T00:00:00",
          "2023-08-01T00:00:00",
          "2023-09-01T00:00:00",
          "2023-10-01T00:00:00",
          "2023-11-01T00:00:00"
         ],
         "xaxis": "x",
         "y": [
          0.20010209290451586,
          0.19285007422065736,
          0.19347010809617338,
          0.19300170021389673,
          0.18715171906220562,
          0.21900523560216045,
          0.1852927449049271,
          0.2067267852792376,
          0.1672249420252282,
          0.18466190759484236,
          0.1592865928660422,
          0.19686075949379256,
          0.19393212375682678,
          0.1493065464299801,
          0.18184861091208282,
          0.16799123047410602,
          0.18404265447988777,
          0.1377215444094505,
          0.16306105944210736,
          0.15788162614603252,
          0.16048271846721918,
          0.14500848803461763,
          0.14574917583716052,
          0.1342792965540004,
          0.09926600860556634,
          0.11496980155310255,
          0.12658048688451962,
          0.12482331194957264,
          0.13440523756821476,
          0.1446960898182471,
          0.14215292289561432,
          0.10374496444041903,
          0.09945269741996021,
          0.09984240760524676,
          0.11263934335310477,
          0.08260226191742581,
          0.10094043887157,
          0.09528873272010818,
          0.08353162799934677,
          0.10579829623539327,
          0.08796316791371783,
          0.12711234911811964,
          0.13881684574553088,
          0.13808645769328687,
          0.15211166785968,
          0.1419097083501717,
          0.12926629879432228,
          0.1373319316106817,
          0.13005923000985453,
          0.11442213657019829,
          0.12249935716134164,
          0.1191457068517211,
          0.11309949892627402,
          0.12300204634698841,
          0.11600548638961061,
          0.11991457554730622,
          0.12732669282639197,
          0.11373629284321274,
          0.1295617442687652,
          0.10423763455510138,
          0.09305199125556518,
          0.07681930005553816,
          0.08693516699412918,
          0.09856350448014439,
          0.09199349358393905,
          0.11426876297833022,
          0.08824385275715207,
          0.099498672957817,
          0.08840864440077423,
          0.07190459487898082,
          0.10969846235770264,
          0.08208955223879455,
          0.07763078369483811,
          0.09148242116707539,
          0.0955143271492338,
          0.0829572073358752,
          0.08865101425275357,
          0.08636006526861761,
          0.08403773122625391,
          0.09083732731885008,
          0.07640702920920428,
          0.10396985747831355,
          0.11818734793185814,
          0.09350841291495005,
          0.12546684709069444,
          0.10550122249387373,
          0.09570342013817357,
          0.1125322694203098,
          0.1095837553660205,
          0.09374300425340276,
          0.11347731963968555,
          0.10137763742063377,
          0.09454473904290395,
          0.1124880838894895,
          0.09878819810334938,
          0.09463869463868291,
          0.0894722648464874,
          0.09322816660164568,
          0.08651654698931022,
          0.09179382779159284,
          0.07908042587578912,
          0.03648012394828326,
          0.032173274022981646,
          0.02443390162106296,
          0.03245082491636575,
          0.03011148761937299,
          0.02725493014113345,
          0.03518114573455389,
          0.022165755774143703,
          0.03335343436095317,
          0.02475815078699506,
          0.025953401214055538,
          0.02240505805005899,
          0.03522876985609291,
          0.033751405972421766,
          0.04168798404508556,
          0.04414151386196585,
          0.042658664855251716,
          0.03790147035908975,
          0.0449225539163276,
          0.027437854782377813,
          0.03186854862058042,
          0.03468792195815107,
          0.029889510130570618,
          0.03717777949652623,
          0.03046612259050341,
          0.03993659475482869,
          0.02884270323181115,
          0.039317933282066786,
          0.03181543081636373,
          0.041203937310862804,
          0.04310948831996242,
          0.028853275224938635,
          0.031700299574002666,
          0.03180559456228427,
          0.03495500373410376,
          0.03532104430752636,
          0.035477915592989295,
          0.02903402690753709,
          0.03916647681822727,
          0.05585402695708641,
          0.06352684924087126,
          0.0641311769711137,
          0.03619457005740734,
          0.021354651701868788,
          0.021294814187000966,
          0.029176529386266137,
          0.04082275492512055,
          0.06045562921284975,
          0.05769680597982785,
          0.06338648049106765,
          0.08100294220280135,
          0.05361847546662757,
          0.0752412929914894,
          0.09537437475011679,
          0.08472260960189437,
          0.06146234923299476,
          0.05231909927319012,
          0.06770080409030776,
          0.053986256766594076,
          0.043622032644135444,
          0.05522955457392509,
          0.06562339361172087,
          0.05012665696630747,
          0.08273197456487602,
          0.05995088389770742,
          0.07174373904285414,
          0.06858664939803072,
          0.10392957707274164,
          0.11292469366487101,
          0.07990456489342501,
          0.08461782711874255,
          0.08197242656598525,
          0.09962621339774091,
          0.10452344975495043,
          0.09459189085838504,
          0.07972729616800533,
          0.10057007804839335,
          0.0968585669284241,
          0.06733816029723583,
          0.07704518618299183,
          0.07500772766387309,
          0.07764102600662592,
          0.0822440605487813,
          0.07955426739403881,
          0.08890093069515204,
          0.07996585382773724,
          0.0885938825042274,
          0.0900542706863926,
          0.11544053196762416,
          0.11135196456995144,
          0.10921446306111116,
          0.1086964973043012,
          0.11262060823021836,
          0.10376160738765505,
          0.0877299518673661,
          0.08438683355421017,
          0.10273210879895,
          0.08561384447146836,
          0.09217889637623433,
          0.0976981041864432,
          0.10120664488813291,
          0.09445779604663773,
          0.12380497929082068,
          0.11261994135104014,
          0.1385890285336545,
          0.11592085259587959,
          0.09817043997859554,
          0.10529148561033397,
          0.12128873563812681,
          0.09931951832421149,
          0.08892366277371044,
          0.10537857604287282,
          0.11428292781501859,
          0.12325738355934968,
          0.10211364163685188,
          0.09399455229560927,
          0.10243171055717182,
          0.09212481727726696,
          0.08839555520267495,
          0.09198766479683418,
          0.06655462614665875,
          0.07172881619092752,
          0.0675373312587697,
          0.0725948689609579,
          0.05456876807684219,
          0.03567083535500082
         ],
         "yaxis": "y"
        },
        {
         "hovertemplate": "departure_port_code=1401<br>Month=%{x}<br>Proportion of cargo from non-primary carrier=%{y}<extra></extra>",
         "legendgroup": "1401",
         "line": {
          "color": "#B6E880",
          "dash": "solid"
         },
         "marker": {
          "symbol": "circle"
         },
         "mode": "lines",
         "name": "1401",
         "showlegend": true,
         "type": "scattergl",
         "x": [
          "2005-01-01T00:00:00",
          "2005-02-01T00:00:00",
          "2005-03-01T00:00:00",
          "2005-04-01T00:00:00",
          "2005-05-01T00:00:00",
          "2005-06-01T00:00:00",
          "2005-07-01T00:00:00",
          "2005-08-01T00:00:00",
          "2005-09-01T00:00:00",
          "2005-10-01T00:00:00",
          "2005-11-01T00:00:00",
          "2005-12-01T00:00:00",
          "2006-01-01T00:00:00",
          "2006-02-01T00:00:00",
          "2006-03-01T00:00:00",
          "2006-04-01T00:00:00",
          "2006-05-01T00:00:00",
          "2006-06-01T00:00:00",
          "2006-07-01T00:00:00",
          "2006-08-01T00:00:00",
          "2006-09-01T00:00:00",
          "2006-10-01T00:00:00",
          "2006-11-01T00:00:00",
          "2006-12-01T00:00:00",
          "2007-01-01T00:00:00",
          "2007-02-01T00:00:00",
          "2007-03-01T00:00:00",
          "2007-04-01T00:00:00",
          "2007-05-01T00:00:00",
          "2007-06-01T00:00:00",
          "2007-07-01T00:00:00",
          "2007-08-01T00:00:00",
          "2007-09-01T00:00:00",
          "2007-10-01T00:00:00",
          "2007-11-01T00:00:00",
          "2007-12-01T00:00:00",
          "2008-01-01T00:00:00",
          "2008-02-01T00:00:00",
          "2008-03-01T00:00:00",
          "2008-04-01T00:00:00",
          "2008-05-01T00:00:00",
          "2008-06-01T00:00:00",
          "2008-07-01T00:00:00",
          "2008-08-01T00:00:00",
          "2008-09-01T00:00:00",
          "2008-10-01T00:00:00",
          "2008-11-01T00:00:00",
          "2008-12-01T00:00:00",
          "2009-01-01T00:00:00",
          "2009-02-01T00:00:00",
          "2009-03-01T00:00:00",
          "2009-04-01T00:00:00",
          "2009-05-01T00:00:00",
          "2009-06-01T00:00:00",
          "2009-07-01T00:00:00",
          "2009-08-01T00:00:00",
          "2009-09-01T00:00:00",
          "2009-10-01T00:00:00",
          "2009-11-01T00:00:00",
          "2009-12-01T00:00:00",
          "2010-01-01T00:00:00",
          "2010-02-01T00:00:00",
          "2010-03-01T00:00:00",
          "2010-04-01T00:00:00",
          "2010-05-01T00:00:00",
          "2010-06-01T00:00:00",
          "2010-07-01T00:00:00",
          "2010-08-01T00:00:00",
          "2010-09-01T00:00:00",
          "2010-10-01T00:00:00",
          "2010-11-01T00:00:00",
          "2010-12-01T00:00:00",
          "2011-01-01T00:00:00",
          "2011-02-01T00:00:00",
          "2011-03-01T00:00:00",
          "2011-04-01T00:00:00",
          "2011-05-01T00:00:00",
          "2011-06-01T00:00:00",
          "2011-07-01T00:00:00",
          "2011-08-01T00:00:00",
          "2011-09-01T00:00:00",
          "2011-10-01T00:00:00",
          "2011-11-01T00:00:00",
          "2011-12-01T00:00:00",
          "2012-01-01T00:00:00",
          "2012-02-01T00:00:00",
          "2012-03-01T00:00:00",
          "2012-04-01T00:00:00",
          "2012-05-01T00:00:00",
          "2012-06-01T00:00:00",
          "2012-07-01T00:00:00",
          "2012-08-01T00:00:00",
          "2012-09-01T00:00:00",
          "2012-10-01T00:00:00",
          "2012-11-01T00:00:00",
          "2012-12-01T00:00:00",
          "2013-01-01T00:00:00",
          "2013-02-01T00:00:00",
          "2013-03-01T00:00:00",
          "2013-04-01T00:00:00",
          "2013-05-01T00:00:00",
          "2013-06-01T00:00:00",
          "2013-07-01T00:00:00",
          "2013-08-01T00:00:00",
          "2013-09-01T00:00:00",
          "2013-10-01T00:00:00",
          "2013-11-01T00:00:00",
          "2013-12-01T00:00:00",
          "2014-01-01T00:00:00",
          "2014-02-01T00:00:00",
          "2014-03-01T00:00:00",
          "2014-04-01T00:00:00",
          "2014-05-01T00:00:00",
          "2014-06-01T00:00:00",
          "2014-07-01T00:00:00",
          "2014-08-01T00:00:00",
          "2014-09-01T00:00:00",
          "2014-10-01T00:00:00",
          "2014-11-01T00:00:00",
          "2014-12-01T00:00:00",
          "2015-01-01T00:00:00",
          "2015-02-01T00:00:00",
          "2015-03-01T00:00:00",
          "2015-04-01T00:00:00",
          "2015-05-01T00:00:00",
          "2015-06-01T00:00:00",
          "2015-07-01T00:00:00",
          "2015-08-01T00:00:00",
          "2015-09-01T00:00:00",
          "2015-10-01T00:00:00",
          "2015-11-01T00:00:00",
          "2015-12-01T00:00:00",
          "2016-01-01T00:00:00",
          "2016-02-01T00:00:00",
          "2016-03-01T00:00:00",
          "2016-04-01T00:00:00",
          "2016-05-01T00:00:00",
          "2016-06-01T00:00:00",
          "2016-07-01T00:00:00",
          "2016-08-01T00:00:00",
          "2016-09-01T00:00:00",
          "2016-10-01T00:00:00",
          "2016-11-01T00:00:00",
          "2016-12-01T00:00:00",
          "2017-01-01T00:00:00",
          "2017-02-01T00:00:00",
          "2017-03-01T00:00:00",
          "2017-04-01T00:00:00",
          "2017-05-01T00:00:00",
          "2017-06-01T00:00:00",
          "2017-07-01T00:00:00",
          "2017-08-01T00:00:00",
          "2017-09-01T00:00:00",
          "2017-10-01T00:00:00",
          "2017-11-01T00:00:00",
          "2017-12-01T00:00:00",
          "2018-01-01T00:00:00",
          "2018-02-01T00:00:00",
          "2018-03-01T00:00:00",
          "2018-04-01T00:00:00",
          "2018-05-01T00:00:00",
          "2018-06-01T00:00:00",
          "2018-07-01T00:00:00",
          "2018-08-01T00:00:00",
          "2018-09-01T00:00:00",
          "2018-10-01T00:00:00",
          "2018-11-01T00:00:00",
          "2018-12-01T00:00:00",
          "2019-01-01T00:00:00",
          "2019-02-01T00:00:00",
          "2019-03-01T00:00:00",
          "2019-04-01T00:00:00",
          "2019-05-01T00:00:00",
          "2019-06-01T00:00:00",
          "2019-07-01T00:00:00",
          "2019-08-01T00:00:00",
          "2019-09-01T00:00:00",
          "2019-10-01T00:00:00",
          "2019-11-01T00:00:00",
          "2019-12-01T00:00:00",
          "2020-01-01T00:00:00",
          "2020-02-01T00:00:00",
          "2020-03-01T00:00:00",
          "2020-04-01T00:00:00",
          "2020-05-01T00:00:00",
          "2020-06-01T00:00:00",
          "2020-07-01T00:00:00",
          "2020-08-01T00:00:00",
          "2020-09-01T00:00:00",
          "2020-10-01T00:00:00",
          "2020-11-01T00:00:00",
          "2020-12-01T00:00:00",
          "2021-01-01T00:00:00",
          "2021-02-01T00:00:00",
          "2021-03-01T00:00:00",
          "2021-04-01T00:00:00",
          "2021-05-01T00:00:00",
          "2021-06-01T00:00:00",
          "2021-07-01T00:00:00",
          "2021-08-01T00:00:00",
          "2021-09-01T00:00:00",
          "2021-10-01T00:00:00",
          "2021-11-01T00:00:00",
          "2021-12-01T00:00:00",
          "2022-01-01T00:00:00",
          "2022-02-01T00:00:00",
          "2022-03-01T00:00:00",
          "2022-04-01T00:00:00",
          "2022-05-01T00:00:00",
          "2022-06-01T00:00:00",
          "2022-07-01T00:00:00",
          "2022-08-01T00:00:00",
          "2022-09-01T00:00:00",
          "2022-10-01T00:00:00",
          "2022-11-01T00:00:00",
          "2022-12-01T00:00:00",
          "2023-01-01T00:00:00",
          "2023-02-01T00:00:00",
          "2023-03-01T00:00:00",
          "2023-04-01T00:00:00",
          "2023-05-01T00:00:00",
          "2023-06-01T00:00:00",
          "2023-07-01T00:00:00",
          "2023-08-01T00:00:00",
          "2023-09-01T00:00:00",
          "2023-10-01T00:00:00",
          "2023-11-01T00:00:00"
         ],
         "xaxis": "x",
         "y": [
          0.28325524546744707,
          0.2758303525804202,
          0.2577556844333472,
          0.27907394113418926,
          0.253372759194184,
          0.27347269778333183,
          0.28170943292844486,
          0.28476386806591014,
          0.27622227930468457,
          0.2642425274631216,
          0.2623966942148278,
          0.2597822074565749,
          0.23987854251007834,
          0.24997862699833007,
          0.25149176545464746,
          0.25125758889847916,
          0.27314814814809996,
          0.2570054717293526,
          0.24701603879144662,
          0.26751646847458543,
          0.24956326428745257,
          0.22698364627494816,
          0.2465412715684342,
          0.25483318378329856,
          0.2208222811670697,
          0.23804565478570228,
          0.25030481245065384,
          0.24674254904893467,
          0.23833062636815838,
          0.24839790270896234,
          0.23158397706454614,
          0.22782536612320492,
          0.2312743376345351,
          0.22596591648234143,
          0.22229979752841766,
          0.22549540657501477,
          0.23145716072542255,
          0.23767540047184232,
          0.2004019862851485,
          0.22306433032192596,
          0.22111887304425426,
          0.18177717636443147,
          0.21733784199197892,
          0.20471152159931982,
          0.228125974430902,
          0.2320144936005789,
          0.22149051313813184,
          0.21638431950237647,
          0.21710823763446396,
          0.21778007050120674,
          0.22439577039271308,
          0.2443453329085281,
          0.23191569439213433,
          0.23247909727411487,
          0.23970802919704293,
          0.2116405541887575,
          0.24275103556631072,
          0.22809504522745472,
          0.22261484098936568,
          0.22921473466461217,
          0.1957564772363346,
          0.2304066543437624,
          0.21952645425310813,
          0.21652373269929004,
          0.22450811700452766,
          0.24456004102860862,
          0.22874692874688873,
          0.25020018926981624,
          0.2506393861892169,
          0.2194051682105964,
          0.23240726606621154,
          0.24494180841535163,
          0.22578136048646003,
          0.22376206789158537,
          0.22934985345054026,
          0.22796111368292526,
          0.23695059744249136,
          0.23365487674165786,
          0.2527803218631075,
          0.24315545243615477,
          0.2583603781571503,
          0.2376395534289948,
          0.25493120043377326,
          0.2498945592576597,
          0.24795068945793175,
          0.23334843679199313,
          0.24903976502482317,
          0.26025778127986965,
          0.27452025586356765,
          0.2558033422688333,
          0.25506394957465617,
          0.2709494094049154,
          0.26223897911829697,
          0.24730179102733052,
          0.2719718759987515,
          0.2422782657976471,
          0.2395890026143661,
          0.2768822302294336,
          0.2398002610224984,
          0.24709537956935312,
          0.25676464796258236,
          0.14063425670259466,
          0.16267680586733424,
          0.15981080429401984,
          0.1658281427749575,
          0.15956765774118298,
          0.16725397212700177,
          0.19382715569306397,
          0.1632413105996845,
          0.17655833580182867,
          0.1545172400625967,
          0.17011856701505268,
          0.14004217607163982,
          0.19031486196634495,
          0.1753419213305416,
          0.17779697153274132,
          0.19612372765779307,
          0.20388759707413384,
          0.19713791342025389,
          0.18100722658189394,
          0.1997852418029724,
          0.2060405179613799,
          0.2105957036565571,
          0.21157538022421607,
          0.19924074624913723,
          0.20509663795859,
          0.21877412115519468,
          0.22198448580399266,
          0.23713468275232863,
          0.22985392704520535,
          0.24094218435733794,
          0.22445503869745909,
          0.23755346215192574,
          0.25669046828313713,
          0.2345519778558397,
          0.2340211677946985,
          0.22503809413525833,
          0.20384066984705207,
          0.21232087445202363,
          0.19446957726852576,
          0.1941259585426497,
          0.2239509113974758,
          0.21485980113774328,
          0.21853793724065307,
          0.22883513204091632,
          0.22668224854190222,
          0.21978537234869733,
          0.19937197228117842,
          0.2314065364271357,
          0.24137459792067495,
          0.23797302827762534,
          0.2337604856627028,
          0.21468549384836833,
          0.23532849190588756,
          0.22957118263484044,
          0.23563446417992417,
          0.17397926693496324,
          0.20761999901918804,
          0.25180087909557125,
          0.17529977930505525,
          0.19096121727878967,
          0.19782318897946338,
          0.2186366057206519,
          0.2187925776673263,
          0.2193585096955516,
          0.2231215725136947,
          0.2232471550076539,
          0.23358955047714947,
          0.21553904771581345,
          0.2334241640087893,
          0.22544266148840963,
          0.21848312054215524,
          0.21406488788754763,
          0.21929800885369688,
          0.24397378098521527,
          0.2292910058960662,
          0.2333918094185501,
          0.2250974391793077,
          0.2118543723274402,
          0.1964835183959902,
          0.23344382659230545,
          0.2226072104067114,
          0.24966019486306834,
          0.23326703073914834,
          0.23266028421815688,
          0.24687953028933662,
          0.20223545506306662,
          0.21735685796777515,
          0.23552042195860956,
          0.1985031228553803,
          0.1701681140276856,
          0.15851230300902375,
          0.18439603511726554,
          0.18880738954800724,
          0.17518758756906117,
          0.16572115282928357,
          0.16347841950942865,
          0.21038650904257172,
          0.16521404282707142,
          0.1879576078025481,
          0.18662515808101443,
          0.20642188013419505,
          0.21263880205448737,
          0.21711208058690123,
          0.2216950108515593,
          0.21078212583504807,
          0.17000267270068314,
          0.19578021284437397,
          0.2009713450371624,
          0.20498990200213307,
          0.1826986763584737,
          0.1622395946693902,
          0.16914775021300765,
          0.1781042600690188,
          0.1667862944753723,
          0.14082858971637113,
          0.1324357710289611,
          0.1313837234337485,
          0.15752535085608776,
          0.16721991865916896,
          0.1461040373697431,
          0.1599292609867592,
          0.1399680264046158,
          0.1377562637230373,
          0.13346015705332048,
          0.15408780403082045,
          0.18040629131353747
         ],
         "yaxis": "y"
        },
        {
         "hovertemplate": "departure_port_code=2811<br>Month=%{x}<br>Proportion of cargo from non-primary carrier=%{y}<extra></extra>",
         "legendgroup": "2811",
         "line": {
          "color": "#FF97FF",
          "dash": "solid"
         },
         "marker": {
          "symbol": "circle"
         },
         "mode": "lines",
         "name": "2811",
         "showlegend": true,
         "type": "scattergl",
         "x": [
          "2005-01-01T00:00:00",
          "2005-02-01T00:00:00",
          "2005-03-01T00:00:00",
          "2005-04-01T00:00:00",
          "2005-05-01T00:00:00",
          "2005-06-01T00:00:00",
          "2005-07-01T00:00:00",
          "2005-08-01T00:00:00",
          "2005-09-01T00:00:00",
          "2005-10-01T00:00:00",
          "2005-11-01T00:00:00",
          "2005-12-01T00:00:00",
          "2006-01-01T00:00:00",
          "2006-02-01T00:00:00",
          "2006-03-01T00:00:00",
          "2006-04-01T00:00:00",
          "2006-05-01T00:00:00",
          "2006-06-01T00:00:00",
          "2006-07-01T00:00:00",
          "2006-08-01T00:00:00",
          "2006-09-01T00:00:00",
          "2006-10-01T00:00:00",
          "2006-11-01T00:00:00",
          "2006-12-01T00:00:00",
          "2007-01-01T00:00:00",
          "2007-02-01T00:00:00",
          "2007-03-01T00:00:00",
          "2007-04-01T00:00:00",
          "2007-05-01T00:00:00",
          "2007-06-01T00:00:00",
          "2007-07-01T00:00:00",
          "2007-08-01T00:00:00",
          "2007-09-01T00:00:00",
          "2007-10-01T00:00:00",
          "2007-11-01T00:00:00",
          "2007-12-01T00:00:00",
          "2008-01-01T00:00:00",
          "2008-02-01T00:00:00",
          "2008-03-01T00:00:00",
          "2008-04-01T00:00:00",
          "2008-05-01T00:00:00",
          "2008-06-01T00:00:00",
          "2008-07-01T00:00:00",
          "2008-08-01T00:00:00",
          "2008-09-01T00:00:00",
          "2008-10-01T00:00:00",
          "2008-11-01T00:00:00",
          "2008-12-01T00:00:00",
          "2009-01-01T00:00:00",
          "2009-02-01T00:00:00",
          "2009-03-01T00:00:00",
          "2009-04-01T00:00:00",
          "2009-05-01T00:00:00",
          "2009-06-01T00:00:00",
          "2009-07-01T00:00:00",
          "2009-08-01T00:00:00",
          "2009-09-01T00:00:00",
          "2009-10-01T00:00:00",
          "2009-11-01T00:00:00",
          "2009-12-01T00:00:00",
          "2010-01-01T00:00:00",
          "2010-02-01T00:00:00",
          "2010-03-01T00:00:00",
          "2010-04-01T00:00:00",
          "2010-05-01T00:00:00",
          "2010-06-01T00:00:00",
          "2010-07-01T00:00:00",
          "2010-08-01T00:00:00",
          "2010-09-01T00:00:00",
          "2010-10-01T00:00:00",
          "2010-11-01T00:00:00",
          "2010-12-01T00:00:00",
          "2011-01-01T00:00:00",
          "2011-02-01T00:00:00",
          "2011-03-01T00:00:00",
          "2011-04-01T00:00:00",
          "2011-05-01T00:00:00",
          "2011-06-01T00:00:00",
          "2011-07-01T00:00:00",
          "2011-08-01T00:00:00",
          "2011-09-01T00:00:00",
          "2011-10-01T00:00:00",
          "2011-11-01T00:00:00",
          "2011-12-01T00:00:00",
          "2012-01-01T00:00:00",
          "2012-02-01T00:00:00",
          "2012-03-01T00:00:00",
          "2012-04-01T00:00:00",
          "2012-05-01T00:00:00",
          "2012-06-01T00:00:00",
          "2012-07-01T00:00:00",
          "2012-08-01T00:00:00",
          "2012-09-01T00:00:00",
          "2012-10-01T00:00:00",
          "2012-11-01T00:00:00",
          "2012-12-01T00:00:00",
          "2013-01-01T00:00:00",
          "2013-02-01T00:00:00",
          "2013-03-01T00:00:00",
          "2013-04-01T00:00:00",
          "2013-05-01T00:00:00",
          "2013-06-01T00:00:00",
          "2013-07-01T00:00:00",
          "2013-08-01T00:00:00",
          "2013-09-01T00:00:00",
          "2013-10-01T00:00:00",
          "2013-11-01T00:00:00",
          "2013-12-01T00:00:00",
          "2014-01-01T00:00:00",
          "2014-02-01T00:00:00",
          "2014-03-01T00:00:00",
          "2014-04-01T00:00:00",
          "2014-05-01T00:00:00",
          "2014-06-01T00:00:00",
          "2014-07-01T00:00:00",
          "2014-08-01T00:00:00",
          "2014-09-01T00:00:00",
          "2014-10-01T00:00:00",
          "2014-11-01T00:00:00",
          "2014-12-01T00:00:00",
          "2015-01-01T00:00:00",
          "2015-02-01T00:00:00",
          "2015-03-01T00:00:00",
          "2015-04-01T00:00:00",
          "2015-05-01T00:00:00",
          "2015-06-01T00:00:00",
          "2015-07-01T00:00:00",
          "2015-08-01T00:00:00",
          "2015-09-01T00:00:00",
          "2015-10-01T00:00:00",
          "2015-11-01T00:00:00",
          "2015-12-01T00:00:00",
          "2016-01-01T00:00:00",
          "2016-02-01T00:00:00",
          "2016-03-01T00:00:00",
          "2016-04-01T00:00:00",
          "2016-05-01T00:00:00",
          "2016-06-01T00:00:00",
          "2016-07-01T00:00:00",
          "2016-08-01T00:00:00",
          "2016-09-01T00:00:00",
          "2016-10-01T00:00:00",
          "2016-11-01T00:00:00",
          "2016-12-01T00:00:00",
          "2017-01-01T00:00:00",
          "2017-02-01T00:00:00",
          "2017-03-01T00:00:00",
          "2017-04-01T00:00:00",
          "2017-05-01T00:00:00",
          "2017-06-01T00:00:00",
          "2017-07-01T00:00:00",
          "2017-08-01T00:00:00",
          "2017-09-01T00:00:00",
          "2017-10-01T00:00:00",
          "2017-11-01T00:00:00",
          "2017-12-01T00:00:00",
          "2018-01-01T00:00:00",
          "2018-02-01T00:00:00",
          "2018-03-01T00:00:00",
          "2018-04-01T00:00:00",
          "2018-05-01T00:00:00",
          "2018-06-01T00:00:00",
          "2018-07-01T00:00:00",
          "2018-08-01T00:00:00",
          "2018-09-01T00:00:00",
          "2018-10-01T00:00:00",
          "2018-11-01T00:00:00",
          "2018-12-01T00:00:00",
          "2019-01-01T00:00:00",
          "2019-02-01T00:00:00",
          "2019-03-01T00:00:00",
          "2019-04-01T00:00:00",
          "2019-05-01T00:00:00",
          "2019-06-01T00:00:00",
          "2019-07-01T00:00:00",
          "2019-08-01T00:00:00",
          "2019-09-01T00:00:00",
          "2019-10-01T00:00:00",
          "2019-11-01T00:00:00",
          "2019-12-01T00:00:00",
          "2020-01-01T00:00:00",
          "2020-02-01T00:00:00",
          "2020-03-01T00:00:00",
          "2020-04-01T00:00:00",
          "2020-05-01T00:00:00",
          "2020-06-01T00:00:00",
          "2020-07-01T00:00:00",
          "2020-08-01T00:00:00",
          "2020-09-01T00:00:00",
          "2020-10-01T00:00:00",
          "2020-11-01T00:00:00",
          "2020-12-01T00:00:00",
          "2021-01-01T00:00:00",
          "2021-02-01T00:00:00",
          "2021-03-01T00:00:00",
          "2021-04-01T00:00:00",
          "2021-05-01T00:00:00",
          "2021-06-01T00:00:00",
          "2021-07-01T00:00:00",
          "2021-08-01T00:00:00",
          "2021-09-01T00:00:00",
          "2021-10-01T00:00:00",
          "2021-11-01T00:00:00",
          "2021-12-01T00:00:00",
          "2022-01-01T00:00:00",
          "2022-02-01T00:00:00",
          "2022-03-01T00:00:00",
          "2022-04-01T00:00:00",
          "2022-05-01T00:00:00",
          "2022-06-01T00:00:00",
          "2022-07-01T00:00:00",
          "2022-08-01T00:00:00",
          "2022-09-01T00:00:00",
          "2022-10-01T00:00:00",
          "2022-11-01T00:00:00",
          "2022-12-01T00:00:00",
          "2023-01-01T00:00:00",
          "2023-02-01T00:00:00",
          "2023-03-01T00:00:00",
          "2023-04-01T00:00:00",
          "2023-05-01T00:00:00",
          "2023-06-01T00:00:00",
          "2023-07-01T00:00:00",
          "2023-08-01T00:00:00",
          "2023-09-01T00:00:00",
          "2023-10-01T00:00:00",
          "2023-11-01T00:00:00"
         ],
         "xaxis": "x",
         "y": [
          0.2621985417834587,
          0.269213839246362,
          0.2633861236801883,
          0.27681083897857317,
          0.2394070024181989,
          0.25295091009370774,
          0.2385877672799096,
          0.25366832048975607,
          0.24855100463673396,
          0.24374025974020574,
          0.25568544102013335,
          0.2482398122465832,
          0.24322084073410077,
          0.2359591539021999,
          0.2531406441862152,
          0.2816635160679819,
          0.2802396446647456,
          0.26227887045373477,
          0.2459304368192382,
          0.23416731821730852,
          0.25305769022615654,
          0.24118338557988694,
          0.2499999999999455,
          0.2353562005276515,
          0.23812083422914343,
          0.23380349031789405,
          0.28618421052624887,
          0.26808715541103023,
          0.27128993566671256,
          0.28779871323522355,
          0.2381626871711343,
          0.25298398835511504,
          0.25041059892690964,
          0.2809688581314287,
          0.26590770481799475,
          0.26679616087744873,
          0.2839559028148768,
          0.28064486241076636,
          0.2644129739606611,
          0.2680112735599285,
          0.2859645887125959,
          0.2577337504344326,
          0.2836956521738583,
          0.27807585568912185,
          0.29377431906608986,
          0.2788761706555155,
          0.25464907018590854,
          0.27378215654071325,
          0.2562222222221615,
          0.25485232067504815,
          0.24695682634201532,
          0.2708694146171997,
          0.2806117858748899,
          0.30513364446324553,
          0.2747188181970299,
          0.28809770894862186,
          0.2970085470084929,
          0.26160173832061473,
          0.27646205896563636,
          0.2800234329232072,
          0.27738493983369417,
          0.24814927492135386,
          0.29596920289850304,
          0.27091844454527325,
          0.30171022910611134,
          0.3004393101203514,
          0.278282482002006,
          0.2991289921193996,
          0.26171118854041364,
          0.2549613185334313,
          0.26999129461506177,
          0.26253841626884455,
          0.2392282958198947,
          0.2661081041002026,
          0.23901922737693249,
          0.2466530054644449,
          0.29840715101817084,
          0.27239985299517966,
          0.27714307331462573,
          0.2907251707829335,
          0.2758393245827724,
          0.2666223404254975,
          0.2631054663179827,
          0.2893801305668271,
          0.30195337114047616,
          0.3109900210083598,
          0.3032663896583191,
          0.3094890510948519,
          0.31859296482407795,
          0.29962199557801594,
          0.3024947361704431,
          0.30144927536227917,
          0.2922700244840417,
          0.26298258068038627,
          0.2606203426532988,
          0.2606003648626011,
          0.27848764825367966,
          0.28690026901538024,
          0.24947260236924396,
          0.23966197963562297,
          0.23551398223220077,
          0.13966545772619365,
          0.14734181341140673,
          0.1524497242685534,
          0.15551576143170232,
          0.14029590489662735,
          0.17868484573560206,
          0.1749450615226481,
          0.17935120089936973,
          0.18568961251939298,
          0.19613453615277465,
          0.1802048945828395,
          0.18565641347096284,
          0.23184586282325825,
          0.23377615881572578,
          0.24521627236756838,
          0.24515400102313323,
          0.2408067681251166,
          0.24383242217827683,
          0.26712785735905153,
          0.2069987824736319,
          0.21151724125307936,
          0.19071349655021086,
          0.19360712310312145,
          0.22080535762295417,
          0.23216911252434347,
          0.22182964933621818,
          0.23500077832820465,
          0.2135711713217,
          0.2140875711143817,
          0.233370332012102,
          0.2406498500709061,
          0.2005713301751948,
          0.2002520650485199,
          0.21825739795530474,
          0.22050062912917712,
          0.22272879013701485,
          0.21777858485957158,
          0.1702354564406372,
          0.18718163020827294,
          0.16466607381753073,
          0.17473627252020774,
          0.17256372671884956,
          0.14226255538645383,
          0.15392890671657977,
          0.17414432210883035,
          0.159474693629431,
          0.1566207994566392,
          0.16941688929187648,
          0.19067394085372347,
          0.1917697848226434,
          0.18678499530914572,
          0.21183238204626353,
          0.22761581113040164,
          0.20070926946604217,
          0.21822464755430038,
          0.19726345569142245,
          0.17094930277028975,
          0.2595318194603221,
          0.1662946988557088,
          0.1502225913763603,
          0.15224356946085926,
          0.13476161680839505,
          0.16386972010757928,
          0.15881105207933888,
          0.1647820515406957,
          0.18411392560924378,
          0.19685658864656153,
          0.17968108851542008,
          0.2132212124810965,
          0.20973718289496812,
          0.2093114872449644,
          0.19378943634529888,
          0.2176525754349855,
          0.20876092083809683,
          0.2357091940625553,
          0.2254121548233491,
          0.23112080796405687,
          0.1892647952169083,
          0.19884234362866415,
          0.1888453081684548,
          0.2014393855203057,
          0.19347376472986977,
          0.17276629907873153,
          0.17941093005204733,
          0.20659794248234387,
          0.20814231084981638,
          0.22229812322326992,
          0.18742109993684808,
          0.18231438511784304,
          0.16174614289819822,
          0.14424824651250678,
          0.16073674630921397,
          0.15346942578869593,
          0.15108682105657822,
          0.14639323210284894,
          0.14344868665346167,
          0.15023377688126693,
          0.14227993430982122,
          0.1363029801006329,
          0.10203391774576565,
          0.09515709839367004,
          0.11180812281761798,
          0.09454594840992336,
          0.10597232052062489,
          0.12211226590164881,
          0.12662156558371596,
          0.1075040875883807,
          0.10417650475865259,
          0.10478297465358644,
          0.11735460797682584,
          0.12691100526733512,
          0.1705420001466792,
          0.14859198463266343,
          0.14201132065973499,
          0.14534521565275327,
          0.14233697772240672,
          0.15233082920929897,
          0.1397323427903162,
          0.14482358478508428,
          0.1373744386119149,
          0.13060800850345688,
          0.11485876545534934,
          0.13244062283305447,
          0.13029478361150126,
          0.13413767320142733,
          0.14627198073941317
         ],
         "yaxis": "y"
        },
        {
         "hovertemplate": "departure_port_code=1703<br>Month=%{x}<br>Proportion of cargo from non-primary carrier=%{y}<extra></extra>",
         "legendgroup": "1703",
         "line": {
          "color": "#FECB52",
          "dash": "solid"
         },
         "marker": {
          "symbol": "circle"
         },
         "mode": "lines",
         "name": "1703",
         "showlegend": true,
         "type": "scattergl",
         "x": [
          "2005-01-01T00:00:00",
          "2005-02-01T00:00:00",
          "2005-03-01T00:00:00",
          "2005-04-01T00:00:00",
          "2005-05-01T00:00:00",
          "2005-06-01T00:00:00",
          "2005-07-01T00:00:00",
          "2005-08-01T00:00:00",
          "2005-09-01T00:00:00",
          "2005-10-01T00:00:00",
          "2005-11-01T00:00:00",
          "2005-12-01T00:00:00",
          "2006-01-01T00:00:00",
          "2006-02-01T00:00:00",
          "2006-03-01T00:00:00",
          "2006-04-01T00:00:00",
          "2006-05-01T00:00:00",
          "2006-06-01T00:00:00",
          "2006-07-01T00:00:00",
          "2006-08-01T00:00:00",
          "2006-09-01T00:00:00",
          "2006-10-01T00:00:00",
          "2006-11-01T00:00:00",
          "2006-12-01T00:00:00",
          "2007-01-01T00:00:00",
          "2007-02-01T00:00:00",
          "2007-03-01T00:00:00",
          "2007-04-01T00:00:00",
          "2007-05-01T00:00:00",
          "2007-06-01T00:00:00",
          "2007-07-01T00:00:00",
          "2007-08-01T00:00:00",
          "2007-09-01T00:00:00",
          "2007-10-01T00:00:00",
          "2007-11-01T00:00:00",
          "2007-12-01T00:00:00",
          "2008-01-01T00:00:00",
          "2008-02-01T00:00:00",
          "2008-03-01T00:00:00",
          "2008-04-01T00:00:00",
          "2008-05-01T00:00:00",
          "2008-06-01T00:00:00",
          "2008-07-01T00:00:00",
          "2008-08-01T00:00:00",
          "2008-09-01T00:00:00",
          "2008-10-01T00:00:00",
          "2008-11-01T00:00:00",
          "2008-12-01T00:00:00",
          "2009-01-01T00:00:00",
          "2009-02-01T00:00:00",
          "2009-03-01T00:00:00",
          "2009-04-01T00:00:00",
          "2009-05-01T00:00:00",
          "2009-06-01T00:00:00",
          "2009-07-01T00:00:00",
          "2009-08-01T00:00:00",
          "2009-09-01T00:00:00",
          "2009-10-01T00:00:00",
          "2009-11-01T00:00:00",
          "2009-12-01T00:00:00",
          "2010-01-01T00:00:00",
          "2010-02-01T00:00:00",
          "2010-03-01T00:00:00",
          "2010-04-01T00:00:00",
          "2010-05-01T00:00:00",
          "2010-06-01T00:00:00",
          "2010-07-01T00:00:00",
          "2010-08-01T00:00:00",
          "2010-09-01T00:00:00",
          "2010-10-01T00:00:00",
          "2010-11-01T00:00:00",
          "2010-12-01T00:00:00",
          "2011-01-01T00:00:00",
          "2011-02-01T00:00:00",
          "2011-03-01T00:00:00",
          "2011-04-01T00:00:00",
          "2011-05-01T00:00:00",
          "2011-06-01T00:00:00",
          "2011-07-01T00:00:00",
          "2011-08-01T00:00:00",
          "2011-09-01T00:00:00",
          "2011-10-01T00:00:00",
          "2011-11-01T00:00:00",
          "2011-12-01T00:00:00",
          "2012-01-01T00:00:00",
          "2012-02-01T00:00:00",
          "2012-03-01T00:00:00",
          "2012-04-01T00:00:00",
          "2012-05-01T00:00:00",
          "2012-06-01T00:00:00",
          "2012-07-01T00:00:00",
          "2012-08-01T00:00:00",
          "2012-09-01T00:00:00",
          "2012-10-01T00:00:00",
          "2012-11-01T00:00:00",
          "2012-12-01T00:00:00",
          "2013-01-01T00:00:00",
          "2013-02-01T00:00:00",
          "2013-03-01T00:00:00",
          "2013-04-01T00:00:00",
          "2013-05-01T00:00:00",
          "2013-06-01T00:00:00",
          "2013-07-01T00:00:00",
          "2013-08-01T00:00:00",
          "2013-09-01T00:00:00",
          "2013-10-01T00:00:00",
          "2013-11-01T00:00:00",
          "2013-12-01T00:00:00",
          "2014-01-01T00:00:00",
          "2014-02-01T00:00:00",
          "2014-03-01T00:00:00",
          "2014-04-01T00:00:00",
          "2014-05-01T00:00:00",
          "2014-06-01T00:00:00",
          "2014-07-01T00:00:00",
          "2014-08-01T00:00:00",
          "2014-09-01T00:00:00",
          "2014-10-01T00:00:00",
          "2014-11-01T00:00:00",
          "2014-12-01T00:00:00",
          "2015-01-01T00:00:00",
          "2015-02-01T00:00:00",
          "2015-03-01T00:00:00",
          "2015-04-01T00:00:00",
          "2015-05-01T00:00:00",
          "2015-06-01T00:00:00",
          "2015-07-01T00:00:00",
          "2015-08-01T00:00:00",
          "2015-09-01T00:00:00",
          "2015-10-01T00:00:00",
          "2015-11-01T00:00:00",
          "2015-12-01T00:00:00",
          "2016-01-01T00:00:00",
          "2016-02-01T00:00:00",
          "2016-03-01T00:00:00",
          "2016-04-01T00:00:00",
          "2016-05-01T00:00:00",
          "2016-06-01T00:00:00",
          "2016-07-01T00:00:00",
          "2016-08-01T00:00:00",
          "2016-09-01T00:00:00",
          "2016-10-01T00:00:00",
          "2016-11-01T00:00:00",
          "2016-12-01T00:00:00",
          "2017-01-01T00:00:00",
          "2017-02-01T00:00:00",
          "2017-03-01T00:00:00",
          "2017-04-01T00:00:00",
          "2017-05-01T00:00:00",
          "2017-06-01T00:00:00",
          "2017-07-01T00:00:00",
          "2017-08-01T00:00:00",
          "2017-09-01T00:00:00",
          "2017-10-01T00:00:00",
          "2017-11-01T00:00:00",
          "2017-12-01T00:00:00",
          "2018-01-01T00:00:00",
          "2018-02-01T00:00:00",
          "2018-03-01T00:00:00",
          "2018-04-01T00:00:00",
          "2018-05-01T00:00:00",
          "2018-06-01T00:00:00",
          "2018-07-01T00:00:00",
          "2018-08-01T00:00:00",
          "2018-09-01T00:00:00",
          "2018-10-01T00:00:00",
          "2018-11-01T00:00:00",
          "2018-12-01T00:00:00",
          "2019-01-01T00:00:00",
          "2019-02-01T00:00:00",
          "2019-03-01T00:00:00",
          "2019-04-01T00:00:00",
          "2019-05-01T00:00:00",
          "2019-06-01T00:00:00",
          "2019-07-01T00:00:00",
          "2019-08-01T00:00:00",
          "2019-09-01T00:00:00",
          "2019-10-01T00:00:00",
          "2019-11-01T00:00:00",
          "2019-12-01T00:00:00",
          "2020-01-01T00:00:00",
          "2020-02-01T00:00:00",
          "2020-03-01T00:00:00",
          "2020-04-01T00:00:00",
          "2020-05-01T00:00:00",
          "2020-06-01T00:00:00",
          "2020-07-01T00:00:00",
          "2020-08-01T00:00:00",
          "2020-09-01T00:00:00",
          "2020-10-01T00:00:00",
          "2020-11-01T00:00:00",
          "2020-12-01T00:00:00",
          "2021-01-01T00:00:00",
          "2021-02-01T00:00:00",
          "2021-03-01T00:00:00",
          "2021-04-01T00:00:00",
          "2021-05-01T00:00:00",
          "2021-06-01T00:00:00",
          "2021-07-01T00:00:00",
          "2021-08-01T00:00:00",
          "2021-09-01T00:00:00",
          "2021-10-01T00:00:00",
          "2021-11-01T00:00:00",
          "2021-12-01T00:00:00",
          "2022-01-01T00:00:00",
          "2022-02-01T00:00:00",
          "2022-03-01T00:00:00",
          "2022-04-01T00:00:00",
          "2022-05-01T00:00:00",
          "2022-06-01T00:00:00",
          "2022-07-01T00:00:00",
          "2022-08-01T00:00:00",
          "2022-09-01T00:00:00",
          "2022-10-01T00:00:00",
          "2022-11-01T00:00:00",
          "2022-12-01T00:00:00",
          "2023-01-01T00:00:00",
          "2023-02-01T00:00:00",
          "2023-03-01T00:00:00",
          "2023-04-01T00:00:00",
          "2023-05-01T00:00:00",
          "2023-06-01T00:00:00",
          "2023-07-01T00:00:00",
          "2023-08-01T00:00:00",
          "2023-09-01T00:00:00",
          "2023-10-01T00:00:00",
          "2023-11-01T00:00:00"
         ],
         "xaxis": "x",
         "y": [
          0.22444196428566088,
          0.25194835407694105,
          0.23076923076917655,
          0.2195246875639758,
          0.2558162755865656,
          0.24712454814322193,
          0.234806926965634,
          0.24325446243249083,
          0.22885138813277206,
          0.25085356600905395,
          0.23913275659505395,
          0.24307598660844898,
          0.24021998547260426,
          0.24932022589410874,
          0.24795064649703968,
          0.2838476747184213,
          0.24323342415980753,
          0.2544249795769681,
          0.24495227606456293,
          0.2759219926626194,
          0.2571320612128709,
          0.2508669465230393,
          0.2939627228524486,
          0.2571453698003211,
          0.2582283242429424,
          0.28421582613068674,
          0.26699186991865287,
          0.25962360992296374,
          0.260509177027786,
          0.2803366488140323,
          0.25960561089648615,
          0.23402584422071115,
          0.2560534752062925,
          0.2348747058008791,
          0.255545635601913,
          0.21046176046172804,
          0.21332554061949116,
          0.21202347932655274,
          0.21003096727181692,
          0.214022140221375,
          0.209095722774581,
          0.21749984397425803,
          0.23491478581296055,
          0.23066805502273813,
          0.22288047854592918,
          0.23357840183195744,
          0.22319941368509055,
          0.188913932715552,
          0.20458553791883627,
          0.20998154537427205,
          0.19486499686036307,
          0.21410508569819775,
          0.21333152505591269,
          0.20733197556005145,
          0.21967891634262704,
          0.22023250352275303,
          0.23694672674261164,
          0.2359116962714657,
          0.24503311258274885,
          0.2272201516514275,
          0.22458152510845641,
          0.21636615811369542,
          0.22659276476545187,
          0.22631870499166107,
          0.2179082189420214,
          0.22651454083211486,
          0.2323617383144393,
          0.24642451080123717,
          0.23878099790854446,
          0.24387947269309374,
          0.2216288384512397,
          0.24307297082387191,
          0.2246794871795219,
          0.22844351415777153,
          0.2029080960584836,
          0.22437945441155904,
          0.21749930996410327,
          0.23655615921940176,
          0.21319664880061784,
          0.23473646553777128,
          0.22855178250295805,
          0.2351438019842923,
          0.2269790932581346,
          0.2155015018552059,
          0.24150069923343043,
          0.21201701730867462,
          0.24255846917108526,
          0.26103430619568435,
          0.20730508307950457,
          0.2271372012318944,
          0.21450660669100607,
          0.20929886369289785,
          0.19848861174238075,
          0.20265316809213751,
          0.22688337359981658,
          0.20654911838788415,
          0.18724724733793252,
          0.20589622043749,
          0.19841906285584787,
          0.19164251828835333,
          0.20930587668103318,
          0.11447484263108298,
          0.1309308010516309,
          0.1363583045089819,
          0.1524609384422162,
          0.1449752225168317,
          0.14606468711178577,
          0.15654526965538973,
          0.16032179458119267,
          0.18146689060176624,
          0.15519077050175878,
          0.15097606695176713,
          0.16281464960811187,
          0.17852498044819132,
          0.18420985969945436,
          0.17819789016984788,
          0.17910726295090929,
          0.1823737964523714,
          0.17398791240556,
          0.17204272403154908,
          0.18121375967285647,
          0.17668498171564384,
          0.15680589413937362,
          0.16010611902297534,
          0.14679787237546205,
          0.13906387554466426,
          0.15723330116991852,
          0.15679993947934046,
          0.14268628514992165,
          0.14979442267950938,
          0.1577703315097294,
          0.14372531389260268,
          0.1605549010254993,
          0.17357033947724965,
          0.16143716743194458,
          0.16234226481269076,
          0.1575578429631872,
          0.13347720147831033,
          0.14753912928127777,
          0.13708771784775153,
          0.14107779912768814,
          0.1582749806066922,
          0.1516134651664084,
          0.13739576986775692,
          0.1305779425944601,
          0.15087391896008218,
          0.11452872434026373,
          0.15065857655969694,
          0.1676678982979315,
          0.16793251046699675,
          0.159552007308432,
          0.1703219835437364,
          0.1725414521439268,
          0.16677463377726898,
          0.17742157491458277,
          0.18560195433748583,
          0.15588960391189177,
          0.1853067243939478,
          0.19477633942608574,
          0.13008304484818356,
          0.14872848699194174,
          0.17856314991008593,
          0.16082586491230555,
          0.173156696812658,
          0.18244651386742528,
          0.1668501627427219,
          0.16881240539311781,
          0.19915902079154135,
          0.17580859665796333,
          0.18821645690131972,
          0.18999990839539715,
          0.1934631613188269,
          0.17917268582216173,
          0.1652057760395108,
          0.17781666906242444,
          0.18145060829671011,
          0.17465798307257385,
          0.19100358251007943,
          0.19339656498086466,
          0.16521509150230151,
          0.1912753053747912,
          0.18763052383439105,
          0.18156247447792817,
          0.22912520480692744,
          0.20350114405420405,
          0.19952648497780878,
          0.20893762150254014,
          0.2012488356561022,
          0.213022631149687,
          0.19062268263762194,
          0.1744741706892925,
          0.15912077067426367,
          0.13899189888737717,
          0.15191365086402708,
          0.1424881354440467,
          0.14736585465753504,
          0.1514688296050295,
          0.15504106940496598,
          0.13591668675999247,
          0.16814542148056266,
          0.16585668783282126,
          0.1802309966760004,
          0.16651964800033559,
          0.11887339375161676,
          0.1122742203293523,
          0.12398306170465401,
          0.0997410543635543,
          0.10675612572016335,
          0.12655927021137547,
          0.11944067484716725,
          0.10589879802849766,
          0.1242284790592898,
          0.13469697632105704,
          0.11402220519481909,
          0.11259110974186304,
          0.115715499868561,
          0.1064470467670835,
          0.11946971928570971,
          0.1270296117864428,
          0.1433944030018408,
          0.14327577684711912,
          0.1198386507455661,
          0.10165599263888958,
          0.11132683916974218,
          0.10723997393932971,
          0.10962799014444713,
          0.14325393272136044
         ],
         "yaxis": "y"
        }
       ],
       "layout": {
        "legend": {
         "title": {
          "text": "departure_port_code"
         },
         "tracegroupgap": 0
        },
        "template": {
         "data": {
          "bar": [
           {
            "error_x": {
             "color": "#2a3f5f"
            },
            "error_y": {
             "color": "#2a3f5f"
            },
            "marker": {
             "line": {
              "color": "#E5ECF6",
              "width": 0.5
             },
             "pattern": {
              "fillmode": "overlay",
              "size": 10,
              "solidity": 0.2
             }
            },
            "type": "bar"
           }
          ],
          "barpolar": [
           {
            "marker": {
             "line": {
              "color": "#E5ECF6",
              "width": 0.5
             },
             "pattern": {
              "fillmode": "overlay",
              "size": 10,
              "solidity": 0.2
             }
            },
            "type": "barpolar"
           }
          ],
          "carpet": [
           {
            "aaxis": {
             "endlinecolor": "#2a3f5f",
             "gridcolor": "white",
             "linecolor": "white",
             "minorgridcolor": "white",
             "startlinecolor": "#2a3f5f"
            },
            "baxis": {
             "endlinecolor": "#2a3f5f",
             "gridcolor": "white",
             "linecolor": "white",
             "minorgridcolor": "white",
             "startlinecolor": "#2a3f5f"
            },
            "type": "carpet"
           }
          ],
          "choropleth": [
           {
            "colorbar": {
             "outlinewidth": 0,
             "ticks": ""
            },
            "type": "choropleth"
           }
          ],
          "contour": [
           {
            "colorbar": {
             "outlinewidth": 0,
             "ticks": ""
            },
            "colorscale": [
             [
              0,
              "#0d0887"
             ],
             [
              0.1111111111111111,
              "#46039f"
             ],
             [
              0.2222222222222222,
              "#7201a8"
             ],
             [
              0.3333333333333333,
              "#9c179e"
             ],
             [
              0.4444444444444444,
              "#bd3786"
             ],
             [
              0.5555555555555556,
              "#d8576b"
             ],
             [
              0.6666666666666666,
              "#ed7953"
             ],
             [
              0.7777777777777778,
              "#fb9f3a"
             ],
             [
              0.8888888888888888,
              "#fdca26"
             ],
             [
              1,
              "#f0f921"
             ]
            ],
            "type": "contour"
           }
          ],
          "contourcarpet": [
           {
            "colorbar": {
             "outlinewidth": 0,
             "ticks": ""
            },
            "type": "contourcarpet"
           }
          ],
          "heatmap": [
           {
            "colorbar": {
             "outlinewidth": 0,
             "ticks": ""
            },
            "colorscale": [
             [
              0,
              "#0d0887"
             ],
             [
              0.1111111111111111,
              "#46039f"
             ],
             [
              0.2222222222222222,
              "#7201a8"
             ],
             [
              0.3333333333333333,
              "#9c179e"
             ],
             [
              0.4444444444444444,
              "#bd3786"
             ],
             [
              0.5555555555555556,
              "#d8576b"
             ],
             [
              0.6666666666666666,
              "#ed7953"
             ],
             [
              0.7777777777777778,
              "#fb9f3a"
             ],
             [
              0.8888888888888888,
              "#fdca26"
             ],
             [
              1,
              "#f0f921"
             ]
            ],
            "type": "heatmap"
           }
          ],
          "heatmapgl": [
           {
            "colorbar": {
             "outlinewidth": 0,
             "ticks": ""
            },
            "colorscale": [
             [
              0,
              "#0d0887"
             ],
             [
              0.1111111111111111,
              "#46039f"
             ],
             [
              0.2222222222222222,
              "#7201a8"
             ],
             [
              0.3333333333333333,
              "#9c179e"
             ],
             [
              0.4444444444444444,
              "#bd3786"
             ],
             [
              0.5555555555555556,
              "#d8576b"
             ],
             [
              0.6666666666666666,
              "#ed7953"
             ],
             [
              0.7777777777777778,
              "#fb9f3a"
             ],
             [
              0.8888888888888888,
              "#fdca26"
             ],
             [
              1,
              "#f0f921"
             ]
            ],
            "type": "heatmapgl"
           }
          ],
          "histogram": [
           {
            "marker": {
             "pattern": {
              "fillmode": "overlay",
              "size": 10,
              "solidity": 0.2
             }
            },
            "type": "histogram"
           }
          ],
          "histogram2d": [
           {
            "colorbar": {
             "outlinewidth": 0,
             "ticks": ""
            },
            "colorscale": [
             [
              0,
              "#0d0887"
             ],
             [
              0.1111111111111111,
              "#46039f"
             ],
             [
              0.2222222222222222,
              "#7201a8"
             ],
             [
              0.3333333333333333,
              "#9c179e"
             ],
             [
              0.4444444444444444,
              "#bd3786"
             ],
             [
              0.5555555555555556,
              "#d8576b"
             ],
             [
              0.6666666666666666,
              "#ed7953"
             ],
             [
              0.7777777777777778,
              "#fb9f3a"
             ],
             [
              0.8888888888888888,
              "#fdca26"
             ],
             [
              1,
              "#f0f921"
             ]
            ],
            "type": "histogram2d"
           }
          ],
          "histogram2dcontour": [
           {
            "colorbar": {
             "outlinewidth": 0,
             "ticks": ""
            },
            "colorscale": [
             [
              0,
              "#0d0887"
             ],
             [
              0.1111111111111111,
              "#46039f"
             ],
             [
              0.2222222222222222,
              "#7201a8"
             ],
             [
              0.3333333333333333,
              "#9c179e"
             ],
             [
              0.4444444444444444,
              "#bd3786"
             ],
             [
              0.5555555555555556,
              "#d8576b"
             ],
             [
              0.6666666666666666,
              "#ed7953"
             ],
             [
              0.7777777777777778,
              "#fb9f3a"
             ],
             [
              0.8888888888888888,
              "#fdca26"
             ],
             [
              1,
              "#f0f921"
             ]
            ],
            "type": "histogram2dcontour"
           }
          ],
          "mesh3d": [
           {
            "colorbar": {
             "outlinewidth": 0,
             "ticks": ""
            },
            "type": "mesh3d"
           }
          ],
          "parcoords": [
           {
            "line": {
             "colorbar": {
              "outlinewidth": 0,
              "ticks": ""
             }
            },
            "type": "parcoords"
           }
          ],
          "pie": [
           {
            "automargin": true,
            "type": "pie"
           }
          ],
          "scatter": [
           {
            "fillpattern": {
             "fillmode": "overlay",
             "size": 10,
             "solidity": 0.2
            },
            "type": "scatter"
           }
          ],
          "scatter3d": [
           {
            "line": {
             "colorbar": {
              "outlinewidth": 0,
              "ticks": ""
             }
            },
            "marker": {
             "colorbar": {
              "outlinewidth": 0,
              "ticks": ""
             }
            },
            "type": "scatter3d"
           }
          ],
          "scattercarpet": [
           {
            "marker": {
             "colorbar": {
              "outlinewidth": 0,
              "ticks": ""
             }
            },
            "type": "scattercarpet"
           }
          ],
          "scattergeo": [
           {
            "marker": {
             "colorbar": {
              "outlinewidth": 0,
              "ticks": ""
             }
            },
            "type": "scattergeo"
           }
          ],
          "scattergl": [
           {
            "marker": {
             "colorbar": {
              "outlinewidth": 0,
              "ticks": ""
             }
            },
            "type": "scattergl"
           }
          ],
          "scattermapbox": [
           {
            "marker": {
             "colorbar": {
              "outlinewidth": 0,
              "ticks": ""
             }
            },
            "type": "scattermapbox"
           }
          ],
          "scatterpolar": [
           {
            "marker": {
             "colorbar": {
              "outlinewidth": 0,
              "ticks": ""
             }
            },
            "type": "scatterpolar"
           }
          ],
          "scatterpolargl": [
           {
            "marker": {
             "colorbar": {
              "outlinewidth": 0,
              "ticks": ""
             }
            },
            "type": "scatterpolargl"
           }
          ],
          "scatterternary": [
           {
            "marker": {
             "colorbar": {
              "outlinewidth": 0,
              "ticks": ""
             }
            },
            "type": "scatterternary"
           }
          ],
          "surface": [
           {
            "colorbar": {
             "outlinewidth": 0,
             "ticks": ""
            },
            "colorscale": [
             [
              0,
              "#0d0887"
             ],
             [
              0.1111111111111111,
              "#46039f"
             ],
             [
              0.2222222222222222,
              "#7201a8"
             ],
             [
              0.3333333333333333,
              "#9c179e"
             ],
             [
              0.4444444444444444,
              "#bd3786"
             ],
             [
              0.5555555555555556,
              "#d8576b"
             ],
             [
              0.6666666666666666,
              "#ed7953"
             ],
             [
              0.7777777777777778,
              "#fb9f3a"
             ],
             [
              0.8888888888888888,
              "#fdca26"
             ],
             [
              1,
              "#f0f921"
             ]
            ],
            "type": "surface"
           }
          ],
          "table": [
           {
            "cells": {
             "fill": {
              "color": "#EBF0F8"
             },
             "line": {
              "color": "white"
             }
            },
            "header": {
             "fill": {
              "color": "#C8D4E3"
             },
             "line": {
              "color": "white"
             }
            },
            "type": "table"
           }
          ]
         },
         "layout": {
          "annotationdefaults": {
           "arrowcolor": "#2a3f5f",
           "arrowhead": 0,
           "arrowwidth": 1
          },
          "autotypenumbers": "strict",
          "coloraxis": {
           "colorbar": {
            "outlinewidth": 0,
            "ticks": ""
           }
          },
          "colorscale": {
           "diverging": [
            [
             0,
             "#8e0152"
            ],
            [
             0.1,
             "#c51b7d"
            ],
            [
             0.2,
             "#de77ae"
            ],
            [
             0.3,
             "#f1b6da"
            ],
            [
             0.4,
             "#fde0ef"
            ],
            [
             0.5,
             "#f7f7f7"
            ],
            [
             0.6,
             "#e6f5d0"
            ],
            [
             0.7,
             "#b8e186"
            ],
            [
             0.8,
             "#7fbc41"
            ],
            [
             0.9,
             "#4d9221"
            ],
            [
             1,
             "#276419"
            ]
           ],
           "sequential": [
            [
             0,
             "#0d0887"
            ],
            [
             0.1111111111111111,
             "#46039f"
            ],
            [
             0.2222222222222222,
             "#7201a8"
            ],
            [
             0.3333333333333333,
             "#9c179e"
            ],
            [
             0.4444444444444444,
             "#bd3786"
            ],
            [
             0.5555555555555556,
             "#d8576b"
            ],
            [
             0.6666666666666666,
             "#ed7953"
            ],
            [
             0.7777777777777778,
             "#fb9f3a"
            ],
            [
             0.8888888888888888,
             "#fdca26"
            ],
            [
             1,
             "#f0f921"
            ]
           ],
           "sequentialminus": [
            [
             0,
             "#0d0887"
            ],
            [
             0.1111111111111111,
             "#46039f"
            ],
            [
             0.2222222222222222,
             "#7201a8"
            ],
            [
             0.3333333333333333,
             "#9c179e"
            ],
            [
             0.4444444444444444,
             "#bd3786"
            ],
            [
             0.5555555555555556,
             "#d8576b"
            ],
            [
             0.6666666666666666,
             "#ed7953"
            ],
            [
             0.7777777777777778,
             "#fb9f3a"
            ],
            [
             0.8888888888888888,
             "#fdca26"
            ],
            [
             1,
             "#f0f921"
            ]
           ]
          },
          "colorway": [
           "#636efa",
           "#EF553B",
           "#00cc96",
           "#ab63fa",
           "#FFA15A",
           "#19d3f3",
           "#FF6692",
           "#B6E880",
           "#FF97FF",
           "#FECB52"
          ],
          "font": {
           "color": "#2a3f5f"
          },
          "geo": {
           "bgcolor": "white",
           "lakecolor": "white",
           "landcolor": "#E5ECF6",
           "showlakes": true,
           "showland": true,
           "subunitcolor": "white"
          },
          "hoverlabel": {
           "align": "left"
          },
          "hovermode": "closest",
          "mapbox": {
           "style": "light"
          },
          "paper_bgcolor": "white",
          "plot_bgcolor": "#E5ECF6",
          "polar": {
           "angularaxis": {
            "gridcolor": "white",
            "linecolor": "white",
            "ticks": ""
           },
           "bgcolor": "#E5ECF6",
           "radialaxis": {
            "gridcolor": "white",
            "linecolor": "white",
            "ticks": ""
           }
          },
          "scene": {
           "xaxis": {
            "backgroundcolor": "#E5ECF6",
            "gridcolor": "white",
            "gridwidth": 2,
            "linecolor": "white",
            "showbackground": true,
            "ticks": "",
            "zerolinecolor": "white"
           },
           "yaxis": {
            "backgroundcolor": "#E5ECF6",
            "gridcolor": "white",
            "gridwidth": 2,
            "linecolor": "white",
            "showbackground": true,
            "ticks": "",
            "zerolinecolor": "white"
           },
           "zaxis": {
            "backgroundcolor": "#E5ECF6",
            "gridcolor": "white",
            "gridwidth": 2,
            "linecolor": "white",
            "showbackground": true,
            "ticks": "",
            "zerolinecolor": "white"
           }
          },
          "shapedefaults": {
           "line": {
            "color": "#2a3f5f"
           }
          },
          "ternary": {
           "aaxis": {
            "gridcolor": "white",
            "linecolor": "white",
            "ticks": ""
           },
           "baxis": {
            "gridcolor": "white",
            "linecolor": "white",
            "ticks": ""
           },
           "bgcolor": "#E5ECF6",
           "caxis": {
            "gridcolor": "white",
            "linecolor": "white",
            "ticks": ""
           }
          },
          "title": {
           "x": 0.05
          },
          "xaxis": {
           "automargin": true,
           "gridcolor": "white",
           "linecolor": "white",
           "ticks": "",
           "title": {
            "standoff": 15
           },
           "zerolinecolor": "white",
           "zerolinewidth": 2
          },
          "yaxis": {
           "automargin": true,
           "gridcolor": "white",
           "linecolor": "white",
           "ticks": "",
           "title": {
            "standoff": 15
           },
           "zerolinecolor": "white",
           "zerolinewidth": 2
          }
         }
        },
        "title": {
         "text": "Proportion of shared cargo over time (Top 10 export ports by total TEUs)."
        },
        "xaxis": {
         "anchor": "y",
         "domain": [
          0,
          1
         ],
         "title": {
          "text": "Month"
         }
        },
        "yaxis": {
         "anchor": "x",
         "domain": [
          0,
          1
         ],
         "title": {
          "text": "Proportion of cargo from non-primary carrier"
         }
        }
       }
      }
     },
     "metadata": {},
     "output_type": "display_data"
    }
   ],
   "source": [
    "sharing_over_time_plotly(\n",
    "    data_lf=exports_lf,\n",
    "    group_var='departure_port_code',\n",
    "    include_missing_voyages=False,\n",
    "    title='Proportion of shared cargo over time (Top 10 export ports by total TEUs).')"
   ]
  },
  {
   "cell_type": "code",
   "execution_count": null,
   "metadata": {},
   "outputs": [],
   "source": [
    "sharing_over_time_plotly(\n",
    "    data_lf=exports_lf,\n",
    "    group_var='lane_name',\n",
    "    include_missing_voyages=False,\n",
    "    title='Proportion of shared cargo over time (Top 10 export lanes by total TEUs).')"
   ]
  },
  {
   "cell_type": "code",
   "execution_count": null,
   "metadata": {},
   "outputs": [],
   "source": [
    "sharing_over_time_plotly(\n",
    "    data_lf=imports_lf,\n",
    "    group_var='lane_name',\n",
    "    title='Proportion of shared cargo over time (Top 10 import lanes by total TEUs).')"
   ]
  },
  {
   "cell_type": "code",
   "execution_count": null,
   "metadata": {},
   "outputs": [],
   "source": [
    "sharing_over_time_plotly(\n",
    "    data_lf=imports_lf,\n",
    "    group_var='primary_scac',\n",
    "    include_missing_voyages=False,\n",
    "    title='Proportion of shared cargo over time (Top 10 Primary Carriers by total TEUs imported).')"
   ]
  },
  {
   "cell_type": "code",
   "execution_count": null,
   "metadata": {},
   "outputs": [],
   "source": [
    "lf = add_primary_carrier_alt(imports_lf)\n",
    "\n",
    "sharing_over_time_plotly_alt(\n",
    "    data_lf=lf,\n",
    "    group_var='vessel_owner',\n",
    "    title='Proportion of shared cargo over time (Top 10 Primary Carriers by total TEUs imported).')"
   ]
  },
  {
   "cell_type": "code",
   "execution_count": null,
   "metadata": {},
   "outputs": [],
   "source": [
    "sharing_over_time_plotly(\n",
    "    data_lf=exports_lf,\n",
    "    group_var='primary_scac',\n",
    "    include_missing_voyages=False,\n",
    "    title='Proportion of shared cargo over time (Top 10 Primary Carriers by total TEUs exported).')"
   ]
  },
  {
   "cell_type": "code",
   "execution_count": 8,
   "metadata": {},
   "outputs": [
    {
     "data": {
      "application/vnd.plotly.v1+json": {
       "config": {
        "plotlyServerURL": "https://plot.ly"
       },
       "data": [
        {
         "hovertemplate": "direction=import<br>Month=%{x}<br>Proportion of cargo from non-primary carrier=%{y}<extra></extra>",
         "legendgroup": "import",
         "line": {
          "color": "#636efa",
          "dash": "solid"
         },
         "marker": {
          "symbol": "circle"
         },
         "mode": "lines",
         "name": "import",
         "orientation": "v",
         "showlegend": true,
         "type": "scatter",
         "x": [
          "2005-01-01T00:00:00",
          "2005-02-01T00:00:00",
          "2005-03-01T00:00:00",
          "2005-04-01T00:00:00",
          "2005-05-01T00:00:00",
          "2005-06-01T00:00:00",
          "2005-07-01T00:00:00",
          "2005-08-01T00:00:00",
          "2005-09-01T00:00:00",
          "2005-10-01T00:00:00",
          "2005-11-01T00:00:00",
          "2005-12-01T00:00:00",
          "2006-01-01T00:00:00",
          "2006-02-01T00:00:00",
          "2006-03-01T00:00:00",
          "2006-04-01T00:00:00",
          "2006-05-01T00:00:00",
          "2006-06-01T00:00:00",
          "2006-07-01T00:00:00",
          "2006-08-01T00:00:00",
          "2006-09-01T00:00:00",
          "2006-10-01T00:00:00",
          "2006-11-01T00:00:00",
          "2006-12-01T00:00:00",
          "2007-01-01T00:00:00",
          "2007-02-01T00:00:00",
          "2007-03-01T00:00:00",
          "2007-04-01T00:00:00",
          "2007-05-01T00:00:00",
          "2007-06-01T00:00:00",
          "2007-07-01T00:00:00",
          "2007-08-01T00:00:00",
          "2007-09-01T00:00:00",
          "2007-10-01T00:00:00",
          "2007-11-01T00:00:00",
          "2007-12-01T00:00:00",
          "2008-01-01T00:00:00",
          "2008-02-01T00:00:00",
          "2008-03-01T00:00:00",
          "2008-04-01T00:00:00",
          "2008-05-01T00:00:00",
          "2008-06-01T00:00:00",
          "2008-07-01T00:00:00",
          "2008-08-01T00:00:00",
          "2008-09-01T00:00:00",
          "2008-10-01T00:00:00",
          "2008-11-01T00:00:00",
          "2008-12-01T00:00:00",
          "2009-01-01T00:00:00",
          "2009-02-01T00:00:00",
          "2009-03-01T00:00:00",
          "2009-04-01T00:00:00",
          "2009-05-01T00:00:00",
          "2009-06-01T00:00:00",
          "2009-07-01T00:00:00",
          "2009-08-01T00:00:00",
          "2009-09-01T00:00:00",
          "2009-10-01T00:00:00",
          "2009-11-01T00:00:00",
          "2009-12-01T00:00:00",
          "2010-01-01T00:00:00",
          "2010-02-01T00:00:00",
          "2010-03-01T00:00:00",
          "2010-04-01T00:00:00",
          "2010-05-01T00:00:00",
          "2010-06-01T00:00:00",
          "2010-07-01T00:00:00",
          "2010-08-01T00:00:00",
          "2010-09-01T00:00:00",
          "2010-10-01T00:00:00",
          "2010-11-01T00:00:00",
          "2010-12-01T00:00:00",
          "2011-01-01T00:00:00",
          "2011-02-01T00:00:00",
          "2011-03-01T00:00:00",
          "2011-04-01T00:00:00",
          "2011-05-01T00:00:00",
          "2011-06-01T00:00:00",
          "2011-07-01T00:00:00",
          "2011-08-01T00:00:00",
          "2011-09-01T00:00:00",
          "2011-10-01T00:00:00",
          "2011-11-01T00:00:00",
          "2011-12-01T00:00:00",
          "2012-01-01T00:00:00",
          "2012-02-01T00:00:00",
          "2012-03-01T00:00:00",
          "2012-04-01T00:00:00",
          "2012-05-01T00:00:00",
          "2012-06-01T00:00:00",
          "2012-07-01T00:00:00",
          "2012-08-01T00:00:00",
          "2012-09-01T00:00:00",
          "2012-10-01T00:00:00",
          "2012-11-01T00:00:00",
          "2012-12-01T00:00:00",
          "2013-01-01T00:00:00",
          "2013-02-01T00:00:00",
          "2013-03-01T00:00:00",
          "2013-04-01T00:00:00",
          "2013-05-01T00:00:00",
          "2013-06-01T00:00:00",
          "2013-07-01T00:00:00",
          "2013-08-01T00:00:00",
          "2013-09-01T00:00:00",
          "2013-10-01T00:00:00",
          "2013-11-01T00:00:00",
          "2013-12-01T00:00:00",
          "2014-01-01T00:00:00",
          "2014-02-01T00:00:00",
          "2014-03-01T00:00:00",
          "2014-04-01T00:00:00",
          "2014-05-01T00:00:00",
          "2014-06-01T00:00:00",
          "2014-07-01T00:00:00",
          "2014-08-01T00:00:00",
          "2014-09-01T00:00:00",
          "2014-10-01T00:00:00",
          "2014-11-01T00:00:00",
          "2014-12-01T00:00:00",
          "2015-01-01T00:00:00",
          "2015-02-01T00:00:00",
          "2015-03-01T00:00:00",
          "2015-04-01T00:00:00",
          "2015-05-01T00:00:00",
          "2015-06-01T00:00:00",
          "2015-07-01T00:00:00",
          "2015-08-01T00:00:00",
          "2015-09-01T00:00:00",
          "2015-10-01T00:00:00",
          "2015-11-01T00:00:00",
          "2015-12-01T00:00:00",
          "2016-01-01T00:00:00",
          "2016-02-01T00:00:00",
          "2016-03-01T00:00:00",
          "2016-04-01T00:00:00",
          "2016-05-01T00:00:00",
          "2016-06-01T00:00:00",
          "2016-07-01T00:00:00",
          "2016-08-01T00:00:00",
          "2016-09-01T00:00:00",
          "2016-10-01T00:00:00",
          "2016-11-01T00:00:00",
          "2016-12-01T00:00:00",
          "2017-01-01T00:00:00",
          "2017-02-01T00:00:00",
          "2017-03-01T00:00:00",
          "2017-04-01T00:00:00",
          "2017-05-01T00:00:00",
          "2017-06-01T00:00:00",
          "2017-07-01T00:00:00",
          "2017-08-01T00:00:00",
          "2017-09-01T00:00:00",
          "2017-10-01T00:00:00",
          "2017-11-01T00:00:00",
          "2017-12-01T00:00:00",
          "2018-01-01T00:00:00",
          "2018-02-01T00:00:00",
          "2018-03-01T00:00:00",
          "2018-04-01T00:00:00",
          "2018-05-01T00:00:00",
          "2018-06-01T00:00:00",
          "2018-07-01T00:00:00",
          "2018-08-01T00:00:00",
          "2018-09-01T00:00:00",
          "2018-10-01T00:00:00",
          "2018-11-01T00:00:00",
          "2018-12-01T00:00:00",
          "2019-01-01T00:00:00",
          "2019-02-01T00:00:00",
          "2019-03-01T00:00:00",
          "2019-04-01T00:00:00",
          "2019-05-01T00:00:00",
          "2019-06-01T00:00:00",
          "2019-07-01T00:00:00",
          "2019-08-01T00:00:00",
          "2019-09-01T00:00:00",
          "2019-10-01T00:00:00",
          "2019-11-01T00:00:00",
          "2019-12-01T00:00:00",
          "2020-01-01T00:00:00",
          "2020-02-01T00:00:00",
          "2020-03-01T00:00:00",
          "2020-04-01T00:00:00",
          "2020-05-01T00:00:00",
          "2020-06-01T00:00:00",
          "2020-07-01T00:00:00",
          "2020-08-01T00:00:00",
          "2020-09-01T00:00:00",
          "2020-10-01T00:00:00",
          "2020-11-01T00:00:00",
          "2020-12-01T00:00:00",
          "2021-01-01T00:00:00",
          "2021-02-01T00:00:00",
          "2021-03-01T00:00:00",
          "2021-04-01T00:00:00",
          "2021-05-01T00:00:00",
          "2021-06-01T00:00:00",
          "2021-07-01T00:00:00",
          "2021-08-01T00:00:00",
          "2021-09-01T00:00:00",
          "2021-10-01T00:00:00",
          "2021-11-01T00:00:00",
          "2021-12-01T00:00:00",
          "2022-01-01T00:00:00",
          "2022-02-01T00:00:00",
          "2022-03-01T00:00:00",
          "2022-04-01T00:00:00",
          "2022-05-01T00:00:00",
          "2022-06-01T00:00:00",
          "2022-07-01T00:00:00",
          "2022-08-01T00:00:00",
          "2022-09-01T00:00:00",
          "2022-10-01T00:00:00",
          "2022-11-01T00:00:00",
          "2022-12-01T00:00:00",
          "2023-01-01T00:00:00",
          "2023-02-01T00:00:00",
          "2023-03-01T00:00:00",
          "2023-04-01T00:00:00",
          "2023-05-01T00:00:00",
          "2023-06-01T00:00:00",
          "2023-07-01T00:00:00",
          "2023-08-01T00:00:00",
          "2023-09-01T00:00:00",
          "2023-10-01T00:00:00",
          "2023-11-01T00:00:00"
         ],
         "xaxis": "x",
         "y": [
          0.2556026342358009,
          0.24063051890769938,
          0.2459259518374265,
          0.256368036328421,
          0.2631844396862596,
          0.27149050028825916,
          0.2563098302150122,
          0.251659397419115,
          0.2572199807708271,
          0.2592529811697524,
          0.25232627366570826,
          0.2589054435988132,
          0.25754985291417765,
          0.24815330860115803,
          0.24364969255080404,
          0.2458040366259594,
          0.24433828213328646,
          0.25593654667777954,
          0.2545076040741646,
          0.24986800547115262,
          0.2485688520955045,
          0.24667188916163285,
          0.24865172456523355,
          0.24950022636360492,
          0.25709652241329417,
          0.2639660105229841,
          0.2602279384494104,
          0.2670379715057173,
          0.254765710743456,
          0.24925107762867693,
          0.2479855341486621,
          0.24691385361642315,
          0.2572478333833783,
          0.2587706835571504,
          0.2638915606807387,
          0.2567724644311802,
          0.2515486451957084,
          0.2548656143771415,
          0.25577358142394646,
          0.25904442735936006,
          0.2686390870339026,
          0.2646394607652325,
          0.27412222084877047,
          0.2773998085426388,
          0.2710104224914831,
          0.2669545666642742,
          0.2710073596840813,
          0.27011276568247466,
          0.2674228378267587,
          0.2570289594532955,
          0.26193717231872493,
          0.27422398271892645,
          0.2711446697714567,
          0.2677695099440681,
          0.2956060775980862,
          0.2939023553398581,
          0.29980194449777364,
          0.3005795865079004,
          0.30310375750583685,
          0.29948439285286943,
          0.28603365530531155,
          0.2889578561429026,
          0.26913332810396895,
          0.2930122240029075,
          0.28597627953785476,
          0.2789425514871964,
          0.2718882156644852,
          0.2820237418947127,
          0.27135422389810715,
          0.2692478531261404,
          0.2742380774618095,
          0.27322224354313673,
          0.27065962284113565,
          0.27280724469440765,
          0.2476757810382888,
          0.26598909638317936,
          0.2687598964387322,
          0.2703473658528073,
          0.27312958472233306,
          0.2793745220690015,
          0.27717035733438333,
          0.27423025052688776,
          0.2853134802182331,
          0.27585464148107997,
          0.2823992400051146,
          0.26663888448624073,
          0.2794062474791986,
          0.2919482377909838,
          0.2916577971694725,
          0.29130620567292853,
          0.29614961670608775,
          0.2901083901296091,
          0.29035528427013846,
          0.2894949270444357,
          0.28771322748928785,
          0.29272604261362456,
          0.29188029447633057,
          0.2903189908942154,
          0.26799921795081183,
          0.29298109621846813,
          0.2974285855707026,
          0.2996618557879993,
          0.23877325888541268,
          0.2325554318055415,
          0.22996778059216805,
          0.2310145936460446,
          0.2368309373850509,
          0.23699347490592348,
          0.24589316119204685,
          0.2353202790892922,
          0.22058795112589002,
          0.2417052134112221,
          0.2422687852730856,
          0.2688979342908052,
          0.2739484296453045,
          0.27029454457386837,
          0.279623805027559,
          0.2652963277050985,
          0.26863448317395255,
          0.26475222122323927,
          0.2524274608091468,
          0.2549410592927994,
          0.26006309085511004,
          0.25852541959335684,
          0.2719237661797478,
          0.2736307768412717,
          0.2744874659892692,
          0.2790543698678378,
          0.28167864257387976,
          0.27572783702469716,
          0.2807920871114321,
          0.27789099794867045,
          0.2842341428773195,
          0.2817334111506137,
          0.2502744094317171,
          0.2677225275979911,
          0.2842258013147917,
          0.27539190726836693,
          0.2819531327383411,
          0.27031810537317347,
          0.277180271572936,
          0.27783197777569,
          0.27362043304595407,
          0.28191078223666166,
          0.27993903828088784,
          0.2740043986226688,
          0.25900888320783144,
          0.27515871790970203,
          0.28873552925870716,
          0.29676330292480946,
          0.2959371232239125,
          0.30417805073267556,
          0.2986900904860773,
          0.2880298972268862,
          0.2926307992583358,
          0.2914402527799178,
          0.2893943615053026,
          0.28296319364006517,
          0.27182521989678843,
          0.26590960525393925,
          0.25939875499252973,
          0.2611112292553024,
          0.25707437497683483,
          0.2525307434187072,
          0.25091947687555716,
          0.24538883434809555,
          0.24822118067964283,
          0.2502247547004115,
          0.26596431841323664,
          0.2648338797336782,
          0.24417152615984528,
          0.25436986680010687,
          0.2690466558158341,
          0.2684468481133341,
          0.27362023515732625,
          0.26289238290451755,
          0.26490357960983424,
          0.267172469018676,
          0.2684330932536776,
          0.2681284267235349,
          0.27571751719733717,
          0.2636858521605171,
          0.23159632226906735,
          0.2364693530948423,
          0.23766553754696107,
          0.2736724085517479,
          0.2877282764496568,
          0.26751694306766594,
          0.2651460793924659,
          0.26344848376067576,
          0.24455679711160982,
          0.23612644074289324,
          0.2357105364323765,
          0.2178214739062958,
          0.2332225664139289,
          0.22338853261701208,
          0.21900880353074215,
          0.21749781562746195,
          0.20141380687790245,
          0.22127343199384364,
          0.20073194686731943,
          0.1976748641282018,
          0.195801232543803,
          0.17368637612499782,
          0.17934049807606378,
          0.18462807648798318,
          0.18243191130880776,
          0.18900692589537615,
          0.18545184184186236,
          0.18975015115852711,
          0.19150401014269214,
          0.20227253179364202,
          0.19803104576727204,
          0.18835084870513796,
          0.19902693638037383,
          0.1901745775529876,
          0.19643433760758355,
          0.204150308489349,
          0.19672392872649125,
          0.208086169294867,
          0.22893319108052324,
          0.23011062184749864,
          0.22914084999083573,
          0.22865112941855048,
          0.23323058572402677,
          0.241890089616564,
          0.2285412813900347
         ],
         "yaxis": "y"
        },
        {
         "hovertemplate": "direction=export<br>Month=%{x}<br>Proportion of cargo from non-primary carrier=%{y}<extra></extra>",
         "legendgroup": "export",
         "line": {
          "color": "#EF553B",
          "dash": "solid"
         },
         "marker": {
          "symbol": "circle"
         },
         "mode": "lines",
         "name": "export",
         "orientation": "v",
         "showlegend": true,
         "type": "scatter",
         "x": [
          "2005-01-01T00:00:00",
          "2005-02-01T00:00:00",
          "2005-03-01T00:00:00",
          "2005-04-01T00:00:00",
          "2005-05-01T00:00:00",
          "2005-06-01T00:00:00",
          "2005-07-01T00:00:00",
          "2005-08-01T00:00:00",
          "2005-09-01T00:00:00",
          "2005-10-01T00:00:00",
          "2005-11-01T00:00:00",
          "2005-12-01T00:00:00",
          "2006-01-01T00:00:00",
          "2006-02-01T00:00:00",
          "2006-03-01T00:00:00",
          "2006-04-01T00:00:00",
          "2006-05-01T00:00:00",
          "2006-06-01T00:00:00",
          "2006-07-01T00:00:00",
          "2006-08-01T00:00:00",
          "2006-09-01T00:00:00",
          "2006-10-01T00:00:00",
          "2006-11-01T00:00:00",
          "2006-12-01T00:00:00",
          "2007-01-01T00:00:00",
          "2007-02-01T00:00:00",
          "2007-03-01T00:00:00",
          "2007-04-01T00:00:00",
          "2007-05-01T00:00:00",
          "2007-06-01T00:00:00",
          "2007-07-01T00:00:00",
          "2007-08-01T00:00:00",
          "2007-09-01T00:00:00",
          "2007-10-01T00:00:00",
          "2007-11-01T00:00:00",
          "2007-12-01T00:00:00",
          "2008-01-01T00:00:00",
          "2008-02-01T00:00:00",
          "2008-03-01T00:00:00",
          "2008-04-01T00:00:00",
          "2008-05-01T00:00:00",
          "2008-06-01T00:00:00",
          "2008-07-01T00:00:00",
          "2008-08-01T00:00:00",
          "2008-09-01T00:00:00",
          "2008-10-01T00:00:00",
          "2008-11-01T00:00:00",
          "2008-12-01T00:00:00",
          "2009-01-01T00:00:00",
          "2009-02-01T00:00:00",
          "2009-03-01T00:00:00",
          "2009-04-01T00:00:00",
          "2009-05-01T00:00:00",
          "2009-06-01T00:00:00",
          "2009-07-01T00:00:00",
          "2009-08-01T00:00:00",
          "2009-09-01T00:00:00",
          "2009-10-01T00:00:00",
          "2009-11-01T00:00:00",
          "2009-12-01T00:00:00",
          "2010-01-01T00:00:00",
          "2010-02-01T00:00:00",
          "2010-03-01T00:00:00",
          "2010-04-01T00:00:00",
          "2010-05-01T00:00:00",
          "2010-06-01T00:00:00",
          "2010-07-01T00:00:00",
          "2010-08-01T00:00:00",
          "2010-09-01T00:00:00",
          "2010-10-01T00:00:00",
          "2010-11-01T00:00:00",
          "2010-12-01T00:00:00",
          "2011-01-01T00:00:00",
          "2011-02-01T00:00:00",
          "2011-03-01T00:00:00",
          "2011-04-01T00:00:00",
          "2011-05-01T00:00:00",
          "2011-06-01T00:00:00",
          "2011-07-01T00:00:00",
          "2011-08-01T00:00:00",
          "2011-09-01T00:00:00",
          "2011-10-01T00:00:00",
          "2011-11-01T00:00:00",
          "2011-12-01T00:00:00",
          "2012-01-01T00:00:00",
          "2012-02-01T00:00:00",
          "2012-03-01T00:00:00",
          "2012-04-01T00:00:00",
          "2012-05-01T00:00:00",
          "2012-06-01T00:00:00",
          "2012-07-01T00:00:00",
          "2012-08-01T00:00:00",
          "2012-09-01T00:00:00",
          "2012-10-01T00:00:00",
          "2012-11-01T00:00:00",
          "2012-12-01T00:00:00",
          "2013-01-01T00:00:00",
          "2013-02-01T00:00:00",
          "2013-03-01T00:00:00",
          "2013-04-01T00:00:00",
          "2013-05-01T00:00:00",
          "2013-06-01T00:00:00",
          "2013-07-01T00:00:00",
          "2013-08-01T00:00:00",
          "2013-09-01T00:00:00",
          "2013-10-01T00:00:00",
          "2013-11-01T00:00:00",
          "2013-12-01T00:00:00",
          "2014-01-01T00:00:00",
          "2014-02-01T00:00:00",
          "2014-03-01T00:00:00",
          "2014-04-01T00:00:00",
          "2014-05-01T00:00:00",
          "2014-06-01T00:00:00",
          "2014-07-01T00:00:00",
          "2014-08-01T00:00:00",
          "2014-09-01T00:00:00",
          "2014-10-01T00:00:00",
          "2014-11-01T00:00:00",
          "2014-12-01T00:00:00",
          "2015-01-01T00:00:00",
          "2015-02-01T00:00:00",
          "2015-03-01T00:00:00",
          "2015-04-01T00:00:00",
          "2015-05-01T00:00:00",
          "2015-06-01T00:00:00",
          "2015-07-01T00:00:00",
          "2015-08-01T00:00:00",
          "2015-09-01T00:00:00",
          "2015-10-01T00:00:00",
          "2015-11-01T00:00:00",
          "2015-12-01T00:00:00",
          "2016-01-01T00:00:00",
          "2016-02-01T00:00:00",
          "2016-03-01T00:00:00",
          "2016-04-01T00:00:00",
          "2016-05-01T00:00:00",
          "2016-06-01T00:00:00",
          "2016-07-01T00:00:00",
          "2016-08-01T00:00:00",
          "2016-09-01T00:00:00",
          "2016-10-01T00:00:00",
          "2016-11-01T00:00:00",
          "2016-12-01T00:00:00",
          "2017-01-01T00:00:00",
          "2017-02-01T00:00:00",
          "2017-03-01T00:00:00",
          "2017-04-01T00:00:00",
          "2017-05-01T00:00:00",
          "2017-06-01T00:00:00",
          "2017-07-01T00:00:00",
          "2017-08-01T00:00:00",
          "2017-09-01T00:00:00",
          "2017-10-01T00:00:00",
          "2017-11-01T00:00:00",
          "2017-12-01T00:00:00",
          "2018-01-01T00:00:00",
          "2018-02-01T00:00:00",
          "2018-03-01T00:00:00",
          "2018-04-01T00:00:00",
          "2018-05-01T00:00:00",
          "2018-06-01T00:00:00",
          "2018-07-01T00:00:00",
          "2018-08-01T00:00:00",
          "2018-09-01T00:00:00",
          "2018-10-01T00:00:00",
          "2018-11-01T00:00:00",
          "2018-12-01T00:00:00",
          "2019-01-01T00:00:00",
          "2019-02-01T00:00:00",
          "2019-03-01T00:00:00",
          "2019-04-01T00:00:00",
          "2019-05-01T00:00:00",
          "2019-06-01T00:00:00",
          "2019-07-01T00:00:00",
          "2019-08-01T00:00:00",
          "2019-09-01T00:00:00",
          "2019-10-01T00:00:00",
          "2019-11-01T00:00:00",
          "2019-12-01T00:00:00",
          "2020-01-01T00:00:00",
          "2020-02-01T00:00:00",
          "2020-03-01T00:00:00",
          "2020-04-01T00:00:00",
          "2020-05-01T00:00:00",
          "2020-06-01T00:00:00",
          "2020-07-01T00:00:00",
          "2020-08-01T00:00:00",
          "2020-09-01T00:00:00",
          "2020-10-01T00:00:00",
          "2020-11-01T00:00:00",
          "2020-12-01T00:00:00",
          "2021-01-01T00:00:00",
          "2021-02-01T00:00:00",
          "2021-03-01T00:00:00",
          "2021-04-01T00:00:00",
          "2021-05-01T00:00:00",
          "2021-06-01T00:00:00",
          "2021-07-01T00:00:00",
          "2021-08-01T00:00:00",
          "2021-09-01T00:00:00",
          "2021-10-01T00:00:00",
          "2021-11-01T00:00:00",
          "2021-12-01T00:00:00",
          "2022-01-01T00:00:00",
          "2022-02-01T00:00:00",
          "2022-03-01T00:00:00",
          "2022-04-01T00:00:00",
          "2022-05-01T00:00:00",
          "2022-06-01T00:00:00",
          "2022-07-01T00:00:00",
          "2022-08-01T00:00:00",
          "2022-09-01T00:00:00",
          "2022-10-01T00:00:00",
          "2022-11-01T00:00:00",
          "2022-12-01T00:00:00",
          "2023-01-01T00:00:00",
          "2023-02-01T00:00:00",
          "2023-03-01T00:00:00",
          "2023-04-01T00:00:00",
          "2023-05-01T00:00:00",
          "2023-06-01T00:00:00",
          "2023-07-01T00:00:00",
          "2023-08-01T00:00:00",
          "2023-09-01T00:00:00",
          "2023-10-01T00:00:00",
          "2023-11-01T00:00:00"
         ],
         "xaxis": "x",
         "y": [
          0.1859164338061957,
          0.19033734012579595,
          0.18634229169341476,
          0.1821462488125919,
          0.19117951692387603,
          0.1948895700492519,
          0.18838980713295783,
          0.19596304335969916,
          0.18363670002783716,
          0.1926870915693365,
          0.1878170016340177,
          0.18134708602424188,
          0.19416364332836666,
          0.18607831781493378,
          0.19276366018003754,
          0.1908764052386983,
          0.18696136528878493,
          0.17748427869938832,
          0.17739849801920515,
          0.17355410502194768,
          0.17492229798442804,
          0.16769572364082586,
          0.17022440735552125,
          0.15685592489934597,
          0.15703849124586022,
          0.16132865836155064,
          0.16551099327746066,
          0.16786091066348563,
          0.16530872604008606,
          0.16528748194670895,
          0.1560216260325672,
          0.1543465822537735,
          0.16330756998602203,
          0.16484332514458921,
          0.16198362099237285,
          0.1582636512722173,
          0.17101992503422703,
          0.16388067587543553,
          0.16583804303151284,
          0.1675068479729872,
          0.16395929965571054,
          0.15772694837789525,
          0.17290696822549,
          0.1703227665510424,
          0.1775530658397274,
          0.16541058622319915,
          0.15878441875736227,
          0.15370379325018757,
          0.16040009814783562,
          0.15467625899248638,
          0.15385116457039472,
          0.1593792761608066,
          0.16269574228251482,
          0.166346691596593,
          0.16823618735635226,
          0.1717190388167087,
          0.1750547683897803,
          0.1693485283974897,
          0.16898300725015558,
          0.1712401905113845,
          0.1677297384266867,
          0.17294231233370705,
          0.17185284830488967,
          0.17987372494829879,
          0.1745010179998756,
          0.16885804758849932,
          0.16904918688652126,
          0.17004148863675872,
          0.16542362894030582,
          0.16549812065024472,
          0.16302749667682814,
          0.1586566253769679,
          0.16734064284790273,
          0.16326513513936314,
          0.15810438192539122,
          0.16440783608836163,
          0.1673748503632444,
          0.16889446393016094,
          0.17031953677860578,
          0.17238495723198188,
          0.17643367562259826,
          0.1768631039528633,
          0.1704865637744728,
          0.16930472102975902,
          0.18488771362007628,
          0.1792040673633719,
          0.1851452475332862,
          0.1978918390260188,
          0.18616706309364728,
          0.1852669297878159,
          0.19052205013130097,
          0.18605894035847648,
          0.18070258161728459,
          0.17000011023669814,
          0.17579623856530746,
          0.17104325495740802,
          0.1674319421895093,
          0.17516846901673688,
          0.15591574197958802,
          0.15777230556025357,
          0.15848382829279706,
          0.07232692098223625,
          0.07603642593023385,
          0.07881339642907603,
          0.07921243902991137,
          0.0810495692128359,
          0.0921870648999148,
          0.09309293656871209,
          0.09652019997923023,
          0.10334600530515836,
          0.09700012244883638,
          0.09319944551957715,
          0.0959573658040942,
          0.11115324579629604,
          0.1121053161056571,
          0.11555822917237857,
          0.11893129458227714,
          0.11663138788776206,
          0.11870823461374769,
          0.1261147647501515,
          0.12698118141802417,
          0.13359906109228048,
          0.12721711318505424,
          0.13669573002581392,
          0.13385546786029967,
          0.1315198012625176,
          0.13567926614402925,
          0.13021772632873185,
          0.1310250617050306,
          0.13551354319417952,
          0.13759144851577887,
          0.12774123147707406,
          0.12847042748281579,
          0.13583159911328757,
          0.13536066736978825,
          0.13240192734074063,
          0.12557435158378927,
          0.11293324007043992,
          0.1119930812446207,
          0.11125876943485791,
          0.11400550613331539,
          0.1252801613889709,
          0.12507067739139532,
          0.1079367190002738,
          0.11147866157052144,
          0.12152736172673939,
          0.10661417029892795,
          0.11826025828979903,
          0.12223929511100717,
          0.13248516034061875,
          0.13519237820517693,
          0.1383167854307744,
          0.13411870564114414,
          0.13462666192229344,
          0.13767609039474737,
          0.14375284502161223,
          0.10917344037145638,
          0.12539693251887374,
          0.15127182412206686,
          0.09959475770246318,
          0.1044731057398548,
          0.11084801674210198,
          0.11076289628401237,
          0.11546982310753684,
          0.12287133001979589,
          0.11370162316543975,
          0.11484120957558841,
          0.1274517725386759,
          0.1290688182148252,
          0.13483327429427283,
          0.13278084364680875,
          0.13620855029918466,
          0.12572388495252385,
          0.12749269299260158,
          0.1362859639967644,
          0.13215734254616096,
          0.13332589371457004,
          0.1431008425440985,
          0.1340642706751246,
          0.1251704042875479,
          0.12433470314063755,
          0.13797457613188713,
          0.1344455110790136,
          0.14974794115875745,
          0.1529521790928221,
          0.15068277425478305,
          0.1410660930878197,
          0.1484791158006823,
          0.14547543913505712,
          0.13097492003827782,
          0.1281299660865015,
          0.10945665301235752,
          0.11297431457020946,
          0.11574809288940102,
          0.11768168515454147,
          0.11247021102634858,
          0.11063922045140184,
          0.11945041577235449,
          0.10347825127828003,
          0.11279524070927971,
          0.11099767878252575,
          0.11882435966640659,
          0.11446526685771852,
          0.1092383074316664,
          0.1180101651646237,
          0.12815400170979818,
          0.11045255610503091,
          0.11296233085726648,
          0.11960176215035667,
          0.11781633704977557,
          0.11022252929337861,
          0.11972315668588607,
          0.12614838580939458,
          0.11803505649515866,
          0.12277627758969867,
          0.10860551429473753,
          0.1023632299693974,
          0.11287644569458788,
          0.10978990878281047,
          0.11256944488488474,
          0.10231741688633322,
          0.08822330600453654,
          0.08280276556820709,
          0.0872730368512169,
          0.08687364939380504,
          0.08127687625111957,
          0.10231903943079146
         ],
         "yaxis": "y"
        }
       ],
       "layout": {
        "legend": {
         "title": {
          "text": "direction"
         },
         "tracegroupgap": 0
        },
        "template": {
         "data": {
          "bar": [
           {
            "error_x": {
             "color": "#2a3f5f"
            },
            "error_y": {
             "color": "#2a3f5f"
            },
            "marker": {
             "line": {
              "color": "#E5ECF6",
              "width": 0.5
             },
             "pattern": {
              "fillmode": "overlay",
              "size": 10,
              "solidity": 0.2
             }
            },
            "type": "bar"
           }
          ],
          "barpolar": [
           {
            "marker": {
             "line": {
              "color": "#E5ECF6",
              "width": 0.5
             },
             "pattern": {
              "fillmode": "overlay",
              "size": 10,
              "solidity": 0.2
             }
            },
            "type": "barpolar"
           }
          ],
          "carpet": [
           {
            "aaxis": {
             "endlinecolor": "#2a3f5f",
             "gridcolor": "white",
             "linecolor": "white",
             "minorgridcolor": "white",
             "startlinecolor": "#2a3f5f"
            },
            "baxis": {
             "endlinecolor": "#2a3f5f",
             "gridcolor": "white",
             "linecolor": "white",
             "minorgridcolor": "white",
             "startlinecolor": "#2a3f5f"
            },
            "type": "carpet"
           }
          ],
          "choropleth": [
           {
            "colorbar": {
             "outlinewidth": 0,
             "ticks": ""
            },
            "type": "choropleth"
           }
          ],
          "contour": [
           {
            "colorbar": {
             "outlinewidth": 0,
             "ticks": ""
            },
            "colorscale": [
             [
              0,
              "#0d0887"
             ],
             [
              0.1111111111111111,
              "#46039f"
             ],
             [
              0.2222222222222222,
              "#7201a8"
             ],
             [
              0.3333333333333333,
              "#9c179e"
             ],
             [
              0.4444444444444444,
              "#bd3786"
             ],
             [
              0.5555555555555556,
              "#d8576b"
             ],
             [
              0.6666666666666666,
              "#ed7953"
             ],
             [
              0.7777777777777778,
              "#fb9f3a"
             ],
             [
              0.8888888888888888,
              "#fdca26"
             ],
             [
              1,
              "#f0f921"
             ]
            ],
            "type": "contour"
           }
          ],
          "contourcarpet": [
           {
            "colorbar": {
             "outlinewidth": 0,
             "ticks": ""
            },
            "type": "contourcarpet"
           }
          ],
          "heatmap": [
           {
            "colorbar": {
             "outlinewidth": 0,
             "ticks": ""
            },
            "colorscale": [
             [
              0,
              "#0d0887"
             ],
             [
              0.1111111111111111,
              "#46039f"
             ],
             [
              0.2222222222222222,
              "#7201a8"
             ],
             [
              0.3333333333333333,
              "#9c179e"
             ],
             [
              0.4444444444444444,
              "#bd3786"
             ],
             [
              0.5555555555555556,
              "#d8576b"
             ],
             [
              0.6666666666666666,
              "#ed7953"
             ],
             [
              0.7777777777777778,
              "#fb9f3a"
             ],
             [
              0.8888888888888888,
              "#fdca26"
             ],
             [
              1,
              "#f0f921"
             ]
            ],
            "type": "heatmap"
           }
          ],
          "heatmapgl": [
           {
            "colorbar": {
             "outlinewidth": 0,
             "ticks": ""
            },
            "colorscale": [
             [
              0,
              "#0d0887"
             ],
             [
              0.1111111111111111,
              "#46039f"
             ],
             [
              0.2222222222222222,
              "#7201a8"
             ],
             [
              0.3333333333333333,
              "#9c179e"
             ],
             [
              0.4444444444444444,
              "#bd3786"
             ],
             [
              0.5555555555555556,
              "#d8576b"
             ],
             [
              0.6666666666666666,
              "#ed7953"
             ],
             [
              0.7777777777777778,
              "#fb9f3a"
             ],
             [
              0.8888888888888888,
              "#fdca26"
             ],
             [
              1,
              "#f0f921"
             ]
            ],
            "type": "heatmapgl"
           }
          ],
          "histogram": [
           {
            "marker": {
             "pattern": {
              "fillmode": "overlay",
              "size": 10,
              "solidity": 0.2
             }
            },
            "type": "histogram"
           }
          ],
          "histogram2d": [
           {
            "colorbar": {
             "outlinewidth": 0,
             "ticks": ""
            },
            "colorscale": [
             [
              0,
              "#0d0887"
             ],
             [
              0.1111111111111111,
              "#46039f"
             ],
             [
              0.2222222222222222,
              "#7201a8"
             ],
             [
              0.3333333333333333,
              "#9c179e"
             ],
             [
              0.4444444444444444,
              "#bd3786"
             ],
             [
              0.5555555555555556,
              "#d8576b"
             ],
             [
              0.6666666666666666,
              "#ed7953"
             ],
             [
              0.7777777777777778,
              "#fb9f3a"
             ],
             [
              0.8888888888888888,
              "#fdca26"
             ],
             [
              1,
              "#f0f921"
             ]
            ],
            "type": "histogram2d"
           }
          ],
          "histogram2dcontour": [
           {
            "colorbar": {
             "outlinewidth": 0,
             "ticks": ""
            },
            "colorscale": [
             [
              0,
              "#0d0887"
             ],
             [
              0.1111111111111111,
              "#46039f"
             ],
             [
              0.2222222222222222,
              "#7201a8"
             ],
             [
              0.3333333333333333,
              "#9c179e"
             ],
             [
              0.4444444444444444,
              "#bd3786"
             ],
             [
              0.5555555555555556,
              "#d8576b"
             ],
             [
              0.6666666666666666,
              "#ed7953"
             ],
             [
              0.7777777777777778,
              "#fb9f3a"
             ],
             [
              0.8888888888888888,
              "#fdca26"
             ],
             [
              1,
              "#f0f921"
             ]
            ],
            "type": "histogram2dcontour"
           }
          ],
          "mesh3d": [
           {
            "colorbar": {
             "outlinewidth": 0,
             "ticks": ""
            },
            "type": "mesh3d"
           }
          ],
          "parcoords": [
           {
            "line": {
             "colorbar": {
              "outlinewidth": 0,
              "ticks": ""
             }
            },
            "type": "parcoords"
           }
          ],
          "pie": [
           {
            "automargin": true,
            "type": "pie"
           }
          ],
          "scatter": [
           {
            "fillpattern": {
             "fillmode": "overlay",
             "size": 10,
             "solidity": 0.2
            },
            "type": "scatter"
           }
          ],
          "scatter3d": [
           {
            "line": {
             "colorbar": {
              "outlinewidth": 0,
              "ticks": ""
             }
            },
            "marker": {
             "colorbar": {
              "outlinewidth": 0,
              "ticks": ""
             }
            },
            "type": "scatter3d"
           }
          ],
          "scattercarpet": [
           {
            "marker": {
             "colorbar": {
              "outlinewidth": 0,
              "ticks": ""
             }
            },
            "type": "scattercarpet"
           }
          ],
          "scattergeo": [
           {
            "marker": {
             "colorbar": {
              "outlinewidth": 0,
              "ticks": ""
             }
            },
            "type": "scattergeo"
           }
          ],
          "scattergl": [
           {
            "marker": {
             "colorbar": {
              "outlinewidth": 0,
              "ticks": ""
             }
            },
            "type": "scattergl"
           }
          ],
          "scattermapbox": [
           {
            "marker": {
             "colorbar": {
              "outlinewidth": 0,
              "ticks": ""
             }
            },
            "type": "scattermapbox"
           }
          ],
          "scatterpolar": [
           {
            "marker": {
             "colorbar": {
              "outlinewidth": 0,
              "ticks": ""
             }
            },
            "type": "scatterpolar"
           }
          ],
          "scatterpolargl": [
           {
            "marker": {
             "colorbar": {
              "outlinewidth": 0,
              "ticks": ""
             }
            },
            "type": "scatterpolargl"
           }
          ],
          "scatterternary": [
           {
            "marker": {
             "colorbar": {
              "outlinewidth": 0,
              "ticks": ""
             }
            },
            "type": "scatterternary"
           }
          ],
          "surface": [
           {
            "colorbar": {
             "outlinewidth": 0,
             "ticks": ""
            },
            "colorscale": [
             [
              0,
              "#0d0887"
             ],
             [
              0.1111111111111111,
              "#46039f"
             ],
             [
              0.2222222222222222,
              "#7201a8"
             ],
             [
              0.3333333333333333,
              "#9c179e"
             ],
             [
              0.4444444444444444,
              "#bd3786"
             ],
             [
              0.5555555555555556,
              "#d8576b"
             ],
             [
              0.6666666666666666,
              "#ed7953"
             ],
             [
              0.7777777777777778,
              "#fb9f3a"
             ],
             [
              0.8888888888888888,
              "#fdca26"
             ],
             [
              1,
              "#f0f921"
             ]
            ],
            "type": "surface"
           }
          ],
          "table": [
           {
            "cells": {
             "fill": {
              "color": "#EBF0F8"
             },
             "line": {
              "color": "white"
             }
            },
            "header": {
             "fill": {
              "color": "#C8D4E3"
             },
             "line": {
              "color": "white"
             }
            },
            "type": "table"
           }
          ]
         },
         "layout": {
          "annotationdefaults": {
           "arrowcolor": "#2a3f5f",
           "arrowhead": 0,
           "arrowwidth": 1
          },
          "autotypenumbers": "strict",
          "coloraxis": {
           "colorbar": {
            "outlinewidth": 0,
            "ticks": ""
           }
          },
          "colorscale": {
           "diverging": [
            [
             0,
             "#8e0152"
            ],
            [
             0.1,
             "#c51b7d"
            ],
            [
             0.2,
             "#de77ae"
            ],
            [
             0.3,
             "#f1b6da"
            ],
            [
             0.4,
             "#fde0ef"
            ],
            [
             0.5,
             "#f7f7f7"
            ],
            [
             0.6,
             "#e6f5d0"
            ],
            [
             0.7,
             "#b8e186"
            ],
            [
             0.8,
             "#7fbc41"
            ],
            [
             0.9,
             "#4d9221"
            ],
            [
             1,
             "#276419"
            ]
           ],
           "sequential": [
            [
             0,
             "#0d0887"
            ],
            [
             0.1111111111111111,
             "#46039f"
            ],
            [
             0.2222222222222222,
             "#7201a8"
            ],
            [
             0.3333333333333333,
             "#9c179e"
            ],
            [
             0.4444444444444444,
             "#bd3786"
            ],
            [
             0.5555555555555556,
             "#d8576b"
            ],
            [
             0.6666666666666666,
             "#ed7953"
            ],
            [
             0.7777777777777778,
             "#fb9f3a"
            ],
            [
             0.8888888888888888,
             "#fdca26"
            ],
            [
             1,
             "#f0f921"
            ]
           ],
           "sequentialminus": [
            [
             0,
             "#0d0887"
            ],
            [
             0.1111111111111111,
             "#46039f"
            ],
            [
             0.2222222222222222,
             "#7201a8"
            ],
            [
             0.3333333333333333,
             "#9c179e"
            ],
            [
             0.4444444444444444,
             "#bd3786"
            ],
            [
             0.5555555555555556,
             "#d8576b"
            ],
            [
             0.6666666666666666,
             "#ed7953"
            ],
            [
             0.7777777777777778,
             "#fb9f3a"
            ],
            [
             0.8888888888888888,
             "#fdca26"
            ],
            [
             1,
             "#f0f921"
            ]
           ]
          },
          "colorway": [
           "#636efa",
           "#EF553B",
           "#00cc96",
           "#ab63fa",
           "#FFA15A",
           "#19d3f3",
           "#FF6692",
           "#B6E880",
           "#FF97FF",
           "#FECB52"
          ],
          "font": {
           "color": "#2a3f5f"
          },
          "geo": {
           "bgcolor": "white",
           "lakecolor": "white",
           "landcolor": "#E5ECF6",
           "showlakes": true,
           "showland": true,
           "subunitcolor": "white"
          },
          "hoverlabel": {
           "align": "left"
          },
          "hovermode": "closest",
          "mapbox": {
           "style": "light"
          },
          "paper_bgcolor": "white",
          "plot_bgcolor": "#E5ECF6",
          "polar": {
           "angularaxis": {
            "gridcolor": "white",
            "linecolor": "white",
            "ticks": ""
           },
           "bgcolor": "#E5ECF6",
           "radialaxis": {
            "gridcolor": "white",
            "linecolor": "white",
            "ticks": ""
           }
          },
          "scene": {
           "xaxis": {
            "backgroundcolor": "#E5ECF6",
            "gridcolor": "white",
            "gridwidth": 2,
            "linecolor": "white",
            "showbackground": true,
            "ticks": "",
            "zerolinecolor": "white"
           },
           "yaxis": {
            "backgroundcolor": "#E5ECF6",
            "gridcolor": "white",
            "gridwidth": 2,
            "linecolor": "white",
            "showbackground": true,
            "ticks": "",
            "zerolinecolor": "white"
           },
           "zaxis": {
            "backgroundcolor": "#E5ECF6",
            "gridcolor": "white",
            "gridwidth": 2,
            "linecolor": "white",
            "showbackground": true,
            "ticks": "",
            "zerolinecolor": "white"
           }
          },
          "shapedefaults": {
           "line": {
            "color": "#2a3f5f"
           }
          },
          "ternary": {
           "aaxis": {
            "gridcolor": "white",
            "linecolor": "white",
            "ticks": ""
           },
           "baxis": {
            "gridcolor": "white",
            "linecolor": "white",
            "ticks": ""
           },
           "bgcolor": "#E5ECF6",
           "caxis": {
            "gridcolor": "white",
            "linecolor": "white",
            "ticks": ""
           }
          },
          "title": {
           "x": 0.05
          },
          "xaxis": {
           "automargin": true,
           "gridcolor": "white",
           "linecolor": "white",
           "ticks": "",
           "title": {
            "standoff": 15
           },
           "zerolinecolor": "white",
           "zerolinewidth": 2
          },
          "yaxis": {
           "automargin": true,
           "gridcolor": "white",
           "linecolor": "white",
           "ticks": "",
           "title": {
            "standoff": 15
           },
           "zerolinecolor": "white",
           "zerolinewidth": 2
          }
         }
        },
        "title": {
         "text": "Proportion of shared cargo over time."
        },
        "xaxis": {
         "anchor": "y",
         "domain": [
          0,
          1
         ],
         "title": {
          "text": "Month"
         }
        },
        "yaxis": {
         "anchor": "x",
         "domain": [
          0,
          1
         ],
         "title": {
          "text": "Proportion of cargo from non-primary carrier"
         }
        }
       }
      }
     },
     "metadata": {},
     "output_type": "display_data"
    }
   ],
   "source": [
    "lf = pl.concat([imports_lf,exports_lf], how='diagonal')\n",
    "\n",
    "sharing_over_time_plotly(\n",
    "    data_lf=lf,\n",
    "    include_missing_voyages=False,\n",
    "    group_var='direction')"
   ]
  },
  {
   "cell_type": "code",
   "execution_count": 7,
   "metadata": {},
   "outputs": [
    {
     "data": {
      "application/vnd.plotly.v1+json": {
       "config": {
        "plotlyServerURL": "https://plot.ly"
       },
       "data": [
        {
         "hovertemplate": "direction=export<br>Month=%{x}<br>Proportion of cargo from non-primary carrier=%{y}<extra></extra>",
         "legendgroup": "export",
         "line": {
          "color": "#636efa",
          "dash": "solid"
         },
         "marker": {
          "symbol": "circle"
         },
         "mode": "lines",
         "name": "export",
         "orientation": "v",
         "showlegend": true,
         "type": "scatter",
         "x": [
          "2005-01-01T00:00:00",
          "2005-02-01T00:00:00",
          "2005-03-01T00:00:00",
          "2005-04-01T00:00:00",
          "2005-05-01T00:00:00",
          "2005-06-01T00:00:00",
          "2005-07-01T00:00:00",
          "2005-08-01T00:00:00",
          "2005-09-01T00:00:00",
          "2005-10-01T00:00:00",
          "2005-11-01T00:00:00",
          "2005-12-01T00:00:00",
          "2006-01-01T00:00:00",
          "2006-02-01T00:00:00",
          "2006-03-01T00:00:00",
          "2006-04-01T00:00:00",
          "2006-05-01T00:00:00",
          "2006-06-01T00:00:00",
          "2006-07-01T00:00:00",
          "2006-08-01T00:00:00",
          "2006-09-01T00:00:00",
          "2006-10-01T00:00:00",
          "2006-11-01T00:00:00",
          "2006-12-01T00:00:00",
          "2007-01-01T00:00:00",
          "2007-02-01T00:00:00",
          "2007-03-01T00:00:00",
          "2007-04-01T00:00:00",
          "2007-05-01T00:00:00",
          "2007-06-01T00:00:00",
          "2007-07-01T00:00:00",
          "2007-08-01T00:00:00",
          "2007-09-01T00:00:00",
          "2007-10-01T00:00:00",
          "2007-11-01T00:00:00",
          "2007-12-01T00:00:00",
          "2008-01-01T00:00:00",
          "2008-02-01T00:00:00",
          "2008-03-01T00:00:00",
          "2008-04-01T00:00:00",
          "2008-05-01T00:00:00",
          "2008-06-01T00:00:00",
          "2008-07-01T00:00:00",
          "2008-08-01T00:00:00",
          "2008-09-01T00:00:00",
          "2008-10-01T00:00:00",
          "2008-11-01T00:00:00",
          "2008-12-01T00:00:00",
          "2009-01-01T00:00:00",
          "2009-02-01T00:00:00",
          "2009-03-01T00:00:00",
          "2009-04-01T00:00:00",
          "2009-05-01T00:00:00",
          "2009-06-01T00:00:00",
          "2009-07-01T00:00:00",
          "2009-08-01T00:00:00",
          "2009-09-01T00:00:00",
          "2009-10-01T00:00:00",
          "2009-11-01T00:00:00",
          "2009-12-01T00:00:00",
          "2010-01-01T00:00:00",
          "2010-02-01T00:00:00",
          "2010-03-01T00:00:00",
          "2010-04-01T00:00:00",
          "2010-05-01T00:00:00",
          "2010-06-01T00:00:00",
          "2010-07-01T00:00:00",
          "2010-08-01T00:00:00",
          "2010-09-01T00:00:00",
          "2010-10-01T00:00:00",
          "2010-11-01T00:00:00",
          "2010-12-01T00:00:00",
          "2011-01-01T00:00:00",
          "2011-02-01T00:00:00",
          "2011-03-01T00:00:00",
          "2011-04-01T00:00:00",
          "2011-05-01T00:00:00",
          "2011-06-01T00:00:00",
          "2011-07-01T00:00:00",
          "2011-08-01T00:00:00",
          "2011-09-01T00:00:00",
          "2011-10-01T00:00:00",
          "2011-11-01T00:00:00",
          "2011-12-01T00:00:00",
          "2012-01-01T00:00:00",
          "2012-02-01T00:00:00",
          "2012-03-01T00:00:00",
          "2012-04-01T00:00:00",
          "2012-05-01T00:00:00",
          "2012-06-01T00:00:00",
          "2012-07-01T00:00:00",
          "2012-08-01T00:00:00",
          "2012-09-01T00:00:00",
          "2012-10-01T00:00:00",
          "2012-11-01T00:00:00",
          "2012-12-01T00:00:00",
          "2013-01-01T00:00:00",
          "2013-02-01T00:00:00",
          "2013-03-01T00:00:00",
          "2013-04-01T00:00:00",
          "2013-05-01T00:00:00",
          "2013-06-01T00:00:00",
          "2013-07-01T00:00:00",
          "2013-08-01T00:00:00",
          "2013-09-01T00:00:00",
          "2013-10-01T00:00:00",
          "2013-11-01T00:00:00",
          "2013-12-01T00:00:00",
          "2014-01-01T00:00:00",
          "2014-02-01T00:00:00",
          "2014-03-01T00:00:00",
          "2014-04-01T00:00:00",
          "2014-05-01T00:00:00",
          "2014-06-01T00:00:00",
          "2014-07-01T00:00:00",
          "2014-08-01T00:00:00",
          "2014-09-01T00:00:00",
          "2014-10-01T00:00:00",
          "2014-11-01T00:00:00",
          "2014-12-01T00:00:00",
          "2015-01-01T00:00:00",
          "2015-02-01T00:00:00",
          "2015-03-01T00:00:00",
          "2015-04-01T00:00:00",
          "2015-05-01T00:00:00",
          "2015-06-01T00:00:00",
          "2015-07-01T00:00:00",
          "2015-08-01T00:00:00",
          "2015-09-01T00:00:00",
          "2015-10-01T00:00:00",
          "2015-11-01T00:00:00",
          "2015-12-01T00:00:00",
          "2016-01-01T00:00:00",
          "2016-02-01T00:00:00",
          "2016-03-01T00:00:00",
          "2016-04-01T00:00:00",
          "2016-05-01T00:00:00",
          "2016-06-01T00:00:00",
          "2016-07-01T00:00:00",
          "2016-08-01T00:00:00",
          "2016-09-01T00:00:00",
          "2016-10-01T00:00:00",
          "2016-11-01T00:00:00",
          "2016-12-01T00:00:00",
          "2017-01-01T00:00:00",
          "2017-02-01T00:00:00",
          "2017-03-01T00:00:00",
          "2017-04-01T00:00:00",
          "2017-05-01T00:00:00",
          "2017-06-01T00:00:00",
          "2017-07-01T00:00:00",
          "2017-08-01T00:00:00",
          "2017-09-01T00:00:00",
          "2017-10-01T00:00:00",
          "2017-11-01T00:00:00",
          "2017-12-01T00:00:00",
          "2018-01-01T00:00:00",
          "2018-02-01T00:00:00",
          "2018-03-01T00:00:00",
          "2018-04-01T00:00:00",
          "2018-05-01T00:00:00",
          "2018-06-01T00:00:00",
          "2018-07-01T00:00:00",
          "2018-08-01T00:00:00",
          "2018-09-01T00:00:00",
          "2018-10-01T00:00:00",
          "2018-11-01T00:00:00",
          "2018-12-01T00:00:00",
          "2019-01-01T00:00:00",
          "2019-02-01T00:00:00",
          "2019-03-01T00:00:00",
          "2019-04-01T00:00:00",
          "2019-05-01T00:00:00",
          "2019-06-01T00:00:00",
          "2019-07-01T00:00:00",
          "2019-08-01T00:00:00",
          "2019-09-01T00:00:00",
          "2019-10-01T00:00:00",
          "2019-11-01T00:00:00",
          "2019-12-01T00:00:00",
          "2020-01-01T00:00:00",
          "2020-02-01T00:00:00",
          "2020-03-01T00:00:00",
          "2020-04-01T00:00:00",
          "2020-05-01T00:00:00",
          "2020-06-01T00:00:00",
          "2020-07-01T00:00:00",
          "2020-08-01T00:00:00",
          "2020-09-01T00:00:00",
          "2020-10-01T00:00:00",
          "2020-11-01T00:00:00",
          "2020-12-01T00:00:00",
          "2021-01-01T00:00:00",
          "2021-02-01T00:00:00",
          "2021-03-01T00:00:00",
          "2021-04-01T00:00:00",
          "2021-05-01T00:00:00",
          "2021-06-01T00:00:00",
          "2021-07-01T00:00:00",
          "2021-08-01T00:00:00",
          "2021-09-01T00:00:00",
          "2021-10-01T00:00:00",
          "2021-11-01T00:00:00",
          "2021-12-01T00:00:00",
          "2022-01-01T00:00:00",
          "2022-02-01T00:00:00",
          "2022-03-01T00:00:00",
          "2022-04-01T00:00:00",
          "2022-05-01T00:00:00",
          "2022-06-01T00:00:00",
          "2022-07-01T00:00:00",
          "2022-08-01T00:00:00",
          "2022-09-01T00:00:00",
          "2022-10-01T00:00:00",
          "2022-11-01T00:00:00",
          "2022-12-01T00:00:00",
          "2023-01-01T00:00:00",
          "2023-02-01T00:00:00",
          "2023-03-01T00:00:00",
          "2023-04-01T00:00:00",
          "2023-05-01T00:00:00",
          "2023-06-01T00:00:00",
          "2023-07-01T00:00:00",
          "2023-08-01T00:00:00",
          "2023-09-01T00:00:00",
          "2023-10-01T00:00:00",
          "2023-11-01T00:00:00"
         ],
         "xaxis": "x",
         "y": [
          0.2764039803266358,
          0.27586811723862925,
          0.2662872547546682,
          0.26654084996704297,
          0.28106245652581097,
          0.28265575833805634,
          0.28329287825446836,
          0.27986428941742003,
          0.27793706128327034,
          0.28157850686255526,
          0.2764871357872669,
          0.2674653747959973,
          0.2814114127321089,
          0.2661323201563267,
          0.2517152400579621,
          0.25001307726001243,
          0.24383160198427856,
          0.23316380349569588,
          0.23480195290927153,
          0.2333663604151558,
          0.23097176418094012,
          0.2321063542392825,
          0.2302157199369217,
          0.22534853677987465,
          0.22526154215839045,
          0.22480692361546373,
          0.22196782573678775,
          0.22352258478130127,
          0.22546831347192697,
          0.22626200341359626,
          0.21181063742091344,
          0.21323453959324112,
          0.22020434447949178,
          0.22648484586911655,
          0.22088978759106714,
          0.22381869811092914,
          0.23401519847516716,
          0.2242848469195602,
          0.2252539763978142,
          0.22330271133206325,
          0.2282288343004769,
          0.22361214624139902,
          0.2446404677173173,
          0.23994765950281205,
          0.24255351318621576,
          0.2362478852300125,
          0.22504562684224716,
          0.2206505465044598,
          0.23277279991754252,
          0.24180757144947695,
          0.22966211478311827,
          0.23411320194319718,
          0.2347890762684397,
          0.24313295894596,
          0.2428371402081787,
          0.25224900076363943,
          0.25524846170983806,
          0.24866363770448596,
          0.25370031924279146,
          0.2521919042932199,
          0.2451147364644014,
          0.24932792726337993,
          0.25301014816114353,
          0.26376751536673704,
          0.25843975469648084,
          0.2536823366639127,
          0.25391168182903334,
          0.25560222379546127,
          0.24480923282387013,
          0.24403578345436772,
          0.24057419847524997,
          0.2368091815748703,
          0.24755789386424942,
          0.23729011048415838,
          0.24039609499148706,
          0.2484568123278421,
          0.2518029645789762,
          0.2534599879372147,
          0.25443681302638266,
          0.2547626697124272,
          0.2604548173326573,
          0.2600229346067361,
          0.24626990779506108,
          0.2542379307595033,
          0.267381568256024,
          0.2619311116382811,
          0.2716310484210762,
          0.28414693524200707,
          0.27357563833119214,
          0.27512121379672605,
          0.28667659043361593,
          0.277263714529013,
          0.2749627484963716,
          0.26139165589162894,
          0.27036772577189616,
          0.26993948982909954,
          0.2769386902585349,
          0.2803203231933643,
          0.2745787536916672,
          0.275782062789275,
          0.27518372390337265,
          0.2588364693281906,
          0.27203259904869914,
          0.26946960856254454,
          0.2793195089233914,
          0.27858808551228087,
          0.2827678133549286,
          0.2773911273981725,
          0.282799696857959,
          0.2924977057703113,
          0.29786794369112224,
          0.2858799147385134,
          0.2787655454748861,
          0.2935218560724637,
          0.2891332818990304,
          0.29724329261882754,
          0.2930740604702974,
          0.2881014331581412,
          0.2932693806259594,
          0.3145666380318747,
          0.2958948719844342,
          0.3233648055376691,
          0.32409412164316254,
          0.3291510784658279,
          0.3294188599868513,
          0.3231718456825414,
          0.32126061575921894,
          0.32136662932332327,
          0.3235831764345135,
          0.3328178363245956,
          0.319786192209629,
          0.3212161036732831,
          0.3301700756120918,
          0.3259986133807735,
          0.3277156888349777,
          0.32558301688612235,
          0.32693914860097006,
          0.318466866451529,
          0.31514338189571267,
          0.3329970514299795,
          0.32376662891662455,
          0.3395620417633024,
          0.3271137909823265,
          0.32329824507677074,
          0.3330535382976938,
          0.34158806750722714,
          0.3176754129257966,
          0.3181587106378023,
          0.3402737050694422,
          0.34811692822540896,
          0.35116482824239326,
          0.3448744896707263,
          0.34291277627979644,
          0.35467736626094226,
          0.35248362575239567,
          0.3545258098826731,
          0.3316588683260815,
          0.33634283980352797,
          0.34925858504311447,
          0.3053187587423619,
          0.30393170288909854,
          0.29800466443232865,
          0.29402210539104123,
          0.30302555392947095,
          0.31766204858838143,
          0.31394987045827305,
          0.3085221658967875,
          0.3036957673864048,
          0.3194533954153512,
          0.31052610561113836,
          0.3119401340611818,
          0.3174586627565056,
          0.30578324690593706,
          0.30993724165431513,
          0.32403377061794336,
          0.31646533876901894,
          0.31047796818964457,
          0.31400094772251985,
          0.30957250780764045,
          0.2969186155780512,
          0.29892770026962934,
          0.3198103059513152,
          0.3013958498022924,
          0.33773317415222837,
          0.3478439843229074,
          0.3355518528096362,
          0.32458480680040347,
          0.33218504175801333,
          0.32740432492620675,
          0.2901582040261984,
          0.30648905067366616,
          0.2850280262525645,
          0.29362193353136157,
          0.2909455305352703,
          0.30360562120554224,
          0.28966799496784956,
          0.28529944058143786,
          0.2879084907671605,
          0.268412226973178,
          0.27415954145347177,
          0.26823014852686544,
          0.27711252249228346,
          0.28177450627421174,
          0.27153365971100285,
          0.28310219208605647,
          0.28618544431253445,
          0.25592293347494366,
          0.26973586506036984,
          0.2723733593263017,
          0.2724485841427011,
          0.2769769085874808,
          0.2872787881756048,
          0.2810263021657875,
          0.28543457980344655,
          0.2954892594282509,
          0.29703109892093416,
          0.2935307864039305,
          0.3070737936998863,
          0.29070751852244925,
          0.29339843992260783,
          0.2842555371863563,
          0.2795106741110267,
          0.28511069699230607,
          0.28167911581978966,
          0.2837577409344342,
          0.2641128445925629,
          0.21694970309987138
         ],
         "yaxis": "y"
        },
        {
         "hovertemplate": "direction=import<br>Month=%{x}<br>Proportion of cargo from non-primary carrier=%{y}<extra></extra>",
         "legendgroup": "import",
         "line": {
          "color": "#EF553B",
          "dash": "solid"
         },
         "marker": {
          "symbol": "circle"
         },
         "mode": "lines",
         "name": "import",
         "orientation": "v",
         "showlegend": true,
         "type": "scatter",
         "x": [
          "2005-01-01T00:00:00",
          "2005-02-01T00:00:00",
          "2005-03-01T00:00:00",
          "2005-04-01T00:00:00",
          "2005-05-01T00:00:00",
          "2005-06-01T00:00:00",
          "2005-07-01T00:00:00",
          "2005-08-01T00:00:00",
          "2005-09-01T00:00:00",
          "2005-10-01T00:00:00",
          "2005-11-01T00:00:00",
          "2005-12-01T00:00:00",
          "2006-01-01T00:00:00",
          "2006-02-01T00:00:00",
          "2006-03-01T00:00:00",
          "2006-04-01T00:00:00",
          "2006-05-01T00:00:00",
          "2006-06-01T00:00:00",
          "2006-07-01T00:00:00",
          "2006-08-01T00:00:00",
          "2006-09-01T00:00:00",
          "2006-10-01T00:00:00",
          "2006-11-01T00:00:00",
          "2006-12-01T00:00:00",
          "2007-01-01T00:00:00",
          "2007-02-01T00:00:00",
          "2007-03-01T00:00:00",
          "2007-04-01T00:00:00",
          "2007-05-01T00:00:00",
          "2007-06-01T00:00:00",
          "2007-07-01T00:00:00",
          "2007-08-01T00:00:00",
          "2007-09-01T00:00:00",
          "2007-10-01T00:00:00",
          "2007-11-01T00:00:00",
          "2007-12-01T00:00:00",
          "2008-01-01T00:00:00",
          "2008-02-01T00:00:00",
          "2008-03-01T00:00:00",
          "2008-04-01T00:00:00",
          "2008-05-01T00:00:00",
          "2008-06-01T00:00:00",
          "2008-07-01T00:00:00",
          "2008-08-01T00:00:00",
          "2008-09-01T00:00:00",
          "2008-10-01T00:00:00",
          "2008-11-01T00:00:00",
          "2008-12-01T00:00:00",
          "2009-01-01T00:00:00",
          "2009-02-01T00:00:00",
          "2009-03-01T00:00:00",
          "2009-04-01T00:00:00",
          "2009-05-01T00:00:00",
          "2009-06-01T00:00:00",
          "2009-07-01T00:00:00",
          "2009-08-01T00:00:00",
          "2009-09-01T00:00:00",
          "2009-10-01T00:00:00",
          "2009-11-01T00:00:00",
          "2009-12-01T00:00:00",
          "2010-01-01T00:00:00",
          "2010-02-01T00:00:00",
          "2010-03-01T00:00:00",
          "2010-04-01T00:00:00",
          "2010-05-01T00:00:00",
          "2010-06-01T00:00:00",
          "2010-07-01T00:00:00",
          "2010-08-01T00:00:00",
          "2010-09-01T00:00:00",
          "2010-10-01T00:00:00",
          "2010-11-01T00:00:00",
          "2010-12-01T00:00:00",
          "2011-01-01T00:00:00",
          "2011-02-01T00:00:00",
          "2011-03-01T00:00:00",
          "2011-04-01T00:00:00",
          "2011-05-01T00:00:00",
          "2011-06-01T00:00:00",
          "2011-07-01T00:00:00",
          "2011-08-01T00:00:00",
          "2011-09-01T00:00:00",
          "2011-10-01T00:00:00",
          "2011-11-01T00:00:00",
          "2011-12-01T00:00:00",
          "2012-01-01T00:00:00",
          "2012-02-01T00:00:00",
          "2012-03-01T00:00:00",
          "2012-04-01T00:00:00",
          "2012-05-01T00:00:00",
          "2012-06-01T00:00:00",
          "2012-07-01T00:00:00",
          "2012-08-01T00:00:00",
          "2012-09-01T00:00:00",
          "2012-10-01T00:00:00",
          "2012-11-01T00:00:00",
          "2012-12-01T00:00:00",
          "2013-01-01T00:00:00",
          "2013-02-01T00:00:00",
          "2013-03-01T00:00:00",
          "2013-04-01T00:00:00",
          "2013-05-01T00:00:00",
          "2013-06-01T00:00:00",
          "2013-07-01T00:00:00",
          "2013-08-01T00:00:00",
          "2013-09-01T00:00:00",
          "2013-10-01T00:00:00",
          "2013-11-01T00:00:00",
          "2013-12-01T00:00:00",
          "2014-01-01T00:00:00",
          "2014-02-01T00:00:00",
          "2014-03-01T00:00:00",
          "2014-04-01T00:00:00",
          "2014-05-01T00:00:00",
          "2014-06-01T00:00:00",
          "2014-07-01T00:00:00",
          "2014-08-01T00:00:00",
          "2014-09-01T00:00:00",
          "2014-10-01T00:00:00",
          "2014-11-01T00:00:00",
          "2014-12-01T00:00:00",
          "2015-01-01T00:00:00",
          "2015-02-01T00:00:00",
          "2015-03-01T00:00:00",
          "2015-04-01T00:00:00",
          "2015-05-01T00:00:00",
          "2015-06-01T00:00:00",
          "2015-07-01T00:00:00",
          "2015-08-01T00:00:00",
          "2015-09-01T00:00:00",
          "2015-10-01T00:00:00",
          "2015-11-01T00:00:00",
          "2015-12-01T00:00:00",
          "2016-01-01T00:00:00",
          "2016-02-01T00:00:00",
          "2016-03-01T00:00:00",
          "2016-04-01T00:00:00",
          "2016-05-01T00:00:00",
          "2016-06-01T00:00:00",
          "2016-07-01T00:00:00",
          "2016-08-01T00:00:00",
          "2016-09-01T00:00:00",
          "2016-10-01T00:00:00",
          "2016-11-01T00:00:00",
          "2016-12-01T00:00:00",
          "2017-01-01T00:00:00",
          "2017-02-01T00:00:00",
          "2017-03-01T00:00:00",
          "2017-04-01T00:00:00",
          "2017-05-01T00:00:00",
          "2017-06-01T00:00:00",
          "2017-07-01T00:00:00",
          "2017-08-01T00:00:00",
          "2017-09-01T00:00:00",
          "2017-10-01T00:00:00",
          "2017-11-01T00:00:00",
          "2017-12-01T00:00:00",
          "2018-01-01T00:00:00",
          "2018-02-01T00:00:00",
          "2018-03-01T00:00:00",
          "2018-04-01T00:00:00",
          "2018-05-01T00:00:00",
          "2018-06-01T00:00:00",
          "2018-07-01T00:00:00",
          "2018-08-01T00:00:00",
          "2018-09-01T00:00:00",
          "2018-10-01T00:00:00",
          "2018-11-01T00:00:00",
          "2018-12-01T00:00:00",
          "2019-01-01T00:00:00",
          "2019-02-01T00:00:00",
          "2019-03-01T00:00:00",
          "2019-04-01T00:00:00",
          "2019-05-01T00:00:00",
          "2019-06-01T00:00:00",
          "2019-07-01T00:00:00",
          "2019-08-01T00:00:00",
          "2019-09-01T00:00:00",
          "2019-10-01T00:00:00",
          "2019-11-01T00:00:00",
          "2019-12-01T00:00:00",
          "2020-01-01T00:00:00",
          "2020-02-01T00:00:00",
          "2020-03-01T00:00:00",
          "2020-04-01T00:00:00",
          "2020-05-01T00:00:00",
          "2020-06-01T00:00:00",
          "2020-07-01T00:00:00",
          "2020-08-01T00:00:00",
          "2020-09-01T00:00:00",
          "2020-10-01T00:00:00",
          "2020-11-01T00:00:00",
          "2020-12-01T00:00:00",
          "2021-01-01T00:00:00",
          "2021-02-01T00:00:00",
          "2021-03-01T00:00:00",
          "2021-04-01T00:00:00",
          "2021-05-01T00:00:00",
          "2021-06-01T00:00:00",
          "2021-07-01T00:00:00",
          "2021-08-01T00:00:00",
          "2021-09-01T00:00:00",
          "2021-10-01T00:00:00",
          "2021-11-01T00:00:00",
          "2021-12-01T00:00:00",
          "2022-01-01T00:00:00",
          "2022-02-01T00:00:00",
          "2022-03-01T00:00:00",
          "2022-04-01T00:00:00",
          "2022-05-01T00:00:00",
          "2022-06-01T00:00:00",
          "2022-07-01T00:00:00",
          "2022-08-01T00:00:00",
          "2022-09-01T00:00:00",
          "2022-10-01T00:00:00",
          "2022-11-01T00:00:00",
          "2022-12-01T00:00:00",
          "2023-01-01T00:00:00",
          "2023-02-01T00:00:00",
          "2023-03-01T00:00:00",
          "2023-04-01T00:00:00",
          "2023-05-01T00:00:00",
          "2023-06-01T00:00:00",
          "2023-07-01T00:00:00",
          "2023-08-01T00:00:00",
          "2023-09-01T00:00:00",
          "2023-10-01T00:00:00",
          "2023-11-01T00:00:00"
         ],
         "xaxis": "x",
         "y": [
          0.358434485531015,
          0.34424182833412964,
          0.3650397312508078,
          0.3725744370001781,
          0.3742270460746422,
          0.37513297738064555,
          0.3554261310415806,
          0.35516641423745954,
          0.35473154681336694,
          0.361209196535498,
          0.35377464673871795,
          0.3719136343424009,
          0.3563982312083773,
          0.3481086974787696,
          0.3266770271141637,
          0.32698694640683845,
          0.3171622400855941,
          0.3293185037721976,
          0.32544313354642396,
          0.3212039399885982,
          0.31699736857746075,
          0.31579407725414,
          0.3208405089676497,
          0.3274618810313532,
          0.3325221477198086,
          0.32987029265336565,
          0.33982667765877494,
          0.333909040912294,
          0.32902578934985505,
          0.3183475091157536,
          0.3181704938597384,
          0.322902891457056,
          0.32291744323297555,
          0.33512487490236065,
          0.33679116155889666,
          0.32835642884171823,
          0.32601057974262826,
          0.3287303514486041,
          0.33245815998526185,
          0.3335767466616576,
          0.3437948135790442,
          0.3398006169288562,
          0.35404686510807926,
          0.3528125460355681,
          0.3473708865777172,
          0.3427291104851258,
          0.3457444557071171,
          0.35468700684074295,
          0.3490197391968113,
          0.34267119411593605,
          0.34853983263702826,
          0.3584767309596587,
          0.35589930138808124,
          0.35309641000395886,
          0.38082351895368005,
          0.3794743040016222,
          0.3773085406442771,
          0.3825765048599271,
          0.38507817598604244,
          0.3865825367193563,
          0.3624647348003982,
          0.36430969154814485,
          0.3527088794480586,
          0.37149894877511314,
          0.3638639486240449,
          0.3586252425976102,
          0.34959601423568887,
          0.35971951797335355,
          0.3525377318966838,
          0.35508245281354645,
          0.3567855308345045,
          0.35349493488003847,
          0.35243851809509974,
          0.3498801258617489,
          0.3319752629390671,
          0.34814980392173467,
          0.3502502657197256,
          0.3498452312668072,
          0.361038507404167,
          0.3653559143732489,
          0.36104050318466874,
          0.3603866524632483,
          0.366223189262488,
          0.36248436547524343,
          0.36610815417640497,
          0.3552424222906737,
          0.3711979645501001,
          0.37957395156558826,
          0.37430679356414287,
          0.38063191564478194,
          0.3859328734394577,
          0.384778609288279,
          0.3815651880612513,
          0.37992755572451775,
          0.3825083492135015,
          0.383346475133317,
          0.38923665908226923,
          0.38164842337737637,
          0.3756755834575749,
          0.3868937015639229,
          0.39515254526625854,
          0.399202887930742,
          0.38866764920684105,
          0.389036771923443,
          0.3839843630297798,
          0.3905279044867741,
          0.3969852041247508,
          0.3963528462234278,
          0.4008813490614995,
          0.39577727301490495,
          0.39498971695565666,
          0.39946326267668875,
          0.39873511073068635,
          0.4268038586280374,
          0.43620637525857753,
          0.4309234896481382,
          0.43779868222970764,
          0.42564604640175363,
          0.42223573651905977,
          0.42280194724016185,
          0.4103146739194833,
          0.39856103095966566,
          0.4074519342334735,
          0.41155925089884393,
          0.41942474447175326,
          0.4131678806353236,
          0.41215380531212487,
          0.4194711398508931,
          0.42830788234553374,
          0.4283853629085239,
          0.4232199006137436,
          0.41551139816148086,
          0.42285320294127815,
          0.41546190329056787,
          0.40262834063405917,
          0.4086977431428571,
          0.4205550108832987,
          0.4116292353132144,
          0.4239261867093992,
          0.412925540960019,
          0.4267646646065244,
          0.413383194647739,
          0.4038191840364447,
          0.41516729868390956,
          0.41450040579957115,
          0.40897394052921987,
          0.39667124542802645,
          0.41033093899212303,
          0.43228642374194415,
          0.43358192547838126,
          0.4315572359324814,
          0.4410889942361411,
          0.4337557393363288,
          0.42679372514523195,
          0.4266115693623801,
          0.4310191410705184,
          0.43031286215794873,
          0.42889921742088677,
          0.41693610916937296,
          0.4100234352805402,
          0.4033533961097677,
          0.40797806673431813,
          0.39462767311151437,
          0.3939618388399371,
          0.38935044559135246,
          0.39609514369466314,
          0.399206810792591,
          0.3799783779640833,
          0.4143881561719439,
          0.402947378833611,
          0.3941609429554096,
          0.3952228951776138,
          0.40595059366641617,
          0.40105948100330513,
          0.4111988386626265,
          0.40033426324675514,
          0.397471851984176,
          0.40528541254613915,
          0.40499672739196224,
          0.4043234441774133,
          0.41570781630547615,
          0.4023058117025209,
          0.366502315955641,
          0.3528354444213747,
          0.3587986499547985,
          0.40415000698581327,
          0.42596449132051006,
          0.3899334880746519,
          0.39084647833331654,
          0.3892848116383859,
          0.3633852964004032,
          0.3599719455564463,
          0.35944725622217943,
          0.34867728289605526,
          0.3776429890144616,
          0.36041724827258725,
          0.3528429005531588,
          0.34604010923430883,
          0.3214456517591219,
          0.3462977277063728,
          0.3161444261917893,
          0.3078148335730333,
          0.293175547291725,
          0.2760964705424154,
          0.2715147567009999,
          0.2857693044450429,
          0.29264484981456085,
          0.2974513081135258,
          0.2909061870020676,
          0.29742950266839985,
          0.2950500952929723,
          0.3148893725511227,
          0.30960247728289947,
          0.29673837175009066,
          0.31345216174601975,
          0.3083178449060111,
          0.31233061437146403,
          0.33043645824170187,
          0.3195981715728269,
          0.32740429781747715,
          0.3473039336600564,
          0.3507123762462371,
          0.35221233575505106,
          0.3504674510570739,
          0.360161710014855,
          0.36099539569867467,
          0.3530429947657111
         ],
         "yaxis": "y"
        }
       ],
       "layout": {
        "legend": {
         "title": {
          "text": "direction"
         },
         "tracegroupgap": 0
        },
        "template": {
         "data": {
          "bar": [
           {
            "error_x": {
             "color": "#2a3f5f"
            },
            "error_y": {
             "color": "#2a3f5f"
            },
            "marker": {
             "line": {
              "color": "#E5ECF6",
              "width": 0.5
             },
             "pattern": {
              "fillmode": "overlay",
              "size": 10,
              "solidity": 0.2
             }
            },
            "type": "bar"
           }
          ],
          "barpolar": [
           {
            "marker": {
             "line": {
              "color": "#E5ECF6",
              "width": 0.5
             },
             "pattern": {
              "fillmode": "overlay",
              "size": 10,
              "solidity": 0.2
             }
            },
            "type": "barpolar"
           }
          ],
          "carpet": [
           {
            "aaxis": {
             "endlinecolor": "#2a3f5f",
             "gridcolor": "white",
             "linecolor": "white",
             "minorgridcolor": "white",
             "startlinecolor": "#2a3f5f"
            },
            "baxis": {
             "endlinecolor": "#2a3f5f",
             "gridcolor": "white",
             "linecolor": "white",
             "minorgridcolor": "white",
             "startlinecolor": "#2a3f5f"
            },
            "type": "carpet"
           }
          ],
          "choropleth": [
           {
            "colorbar": {
             "outlinewidth": 0,
             "ticks": ""
            },
            "type": "choropleth"
           }
          ],
          "contour": [
           {
            "colorbar": {
             "outlinewidth": 0,
             "ticks": ""
            },
            "colorscale": [
             [
              0,
              "#0d0887"
             ],
             [
              0.1111111111111111,
              "#46039f"
             ],
             [
              0.2222222222222222,
              "#7201a8"
             ],
             [
              0.3333333333333333,
              "#9c179e"
             ],
             [
              0.4444444444444444,
              "#bd3786"
             ],
             [
              0.5555555555555556,
              "#d8576b"
             ],
             [
              0.6666666666666666,
              "#ed7953"
             ],
             [
              0.7777777777777778,
              "#fb9f3a"
             ],
             [
              0.8888888888888888,
              "#fdca26"
             ],
             [
              1,
              "#f0f921"
             ]
            ],
            "type": "contour"
           }
          ],
          "contourcarpet": [
           {
            "colorbar": {
             "outlinewidth": 0,
             "ticks": ""
            },
            "type": "contourcarpet"
           }
          ],
          "heatmap": [
           {
            "colorbar": {
             "outlinewidth": 0,
             "ticks": ""
            },
            "colorscale": [
             [
              0,
              "#0d0887"
             ],
             [
              0.1111111111111111,
              "#46039f"
             ],
             [
              0.2222222222222222,
              "#7201a8"
             ],
             [
              0.3333333333333333,
              "#9c179e"
             ],
             [
              0.4444444444444444,
              "#bd3786"
             ],
             [
              0.5555555555555556,
              "#d8576b"
             ],
             [
              0.6666666666666666,
              "#ed7953"
             ],
             [
              0.7777777777777778,
              "#fb9f3a"
             ],
             [
              0.8888888888888888,
              "#fdca26"
             ],
             [
              1,
              "#f0f921"
             ]
            ],
            "type": "heatmap"
           }
          ],
          "heatmapgl": [
           {
            "colorbar": {
             "outlinewidth": 0,
             "ticks": ""
            },
            "colorscale": [
             [
              0,
              "#0d0887"
             ],
             [
              0.1111111111111111,
              "#46039f"
             ],
             [
              0.2222222222222222,
              "#7201a8"
             ],
             [
              0.3333333333333333,
              "#9c179e"
             ],
             [
              0.4444444444444444,
              "#bd3786"
             ],
             [
              0.5555555555555556,
              "#d8576b"
             ],
             [
              0.6666666666666666,
              "#ed7953"
             ],
             [
              0.7777777777777778,
              "#fb9f3a"
             ],
             [
              0.8888888888888888,
              "#fdca26"
             ],
             [
              1,
              "#f0f921"
             ]
            ],
            "type": "heatmapgl"
           }
          ],
          "histogram": [
           {
            "marker": {
             "pattern": {
              "fillmode": "overlay",
              "size": 10,
              "solidity": 0.2
             }
            },
            "type": "histogram"
           }
          ],
          "histogram2d": [
           {
            "colorbar": {
             "outlinewidth": 0,
             "ticks": ""
            },
            "colorscale": [
             [
              0,
              "#0d0887"
             ],
             [
              0.1111111111111111,
              "#46039f"
             ],
             [
              0.2222222222222222,
              "#7201a8"
             ],
             [
              0.3333333333333333,
              "#9c179e"
             ],
             [
              0.4444444444444444,
              "#bd3786"
             ],
             [
              0.5555555555555556,
              "#d8576b"
             ],
             [
              0.6666666666666666,
              "#ed7953"
             ],
             [
              0.7777777777777778,
              "#fb9f3a"
             ],
             [
              0.8888888888888888,
              "#fdca26"
             ],
             [
              1,
              "#f0f921"
             ]
            ],
            "type": "histogram2d"
           }
          ],
          "histogram2dcontour": [
           {
            "colorbar": {
             "outlinewidth": 0,
             "ticks": ""
            },
            "colorscale": [
             [
              0,
              "#0d0887"
             ],
             [
              0.1111111111111111,
              "#46039f"
             ],
             [
              0.2222222222222222,
              "#7201a8"
             ],
             [
              0.3333333333333333,
              "#9c179e"
             ],
             [
              0.4444444444444444,
              "#bd3786"
             ],
             [
              0.5555555555555556,
              "#d8576b"
             ],
             [
              0.6666666666666666,
              "#ed7953"
             ],
             [
              0.7777777777777778,
              "#fb9f3a"
             ],
             [
              0.8888888888888888,
              "#fdca26"
             ],
             [
              1,
              "#f0f921"
             ]
            ],
            "type": "histogram2dcontour"
           }
          ],
          "mesh3d": [
           {
            "colorbar": {
             "outlinewidth": 0,
             "ticks": ""
            },
            "type": "mesh3d"
           }
          ],
          "parcoords": [
           {
            "line": {
             "colorbar": {
              "outlinewidth": 0,
              "ticks": ""
             }
            },
            "type": "parcoords"
           }
          ],
          "pie": [
           {
            "automargin": true,
            "type": "pie"
           }
          ],
          "scatter": [
           {
            "fillpattern": {
             "fillmode": "overlay",
             "size": 10,
             "solidity": 0.2
            },
            "type": "scatter"
           }
          ],
          "scatter3d": [
           {
            "line": {
             "colorbar": {
              "outlinewidth": 0,
              "ticks": ""
             }
            },
            "marker": {
             "colorbar": {
              "outlinewidth": 0,
              "ticks": ""
             }
            },
            "type": "scatter3d"
           }
          ],
          "scattercarpet": [
           {
            "marker": {
             "colorbar": {
              "outlinewidth": 0,
              "ticks": ""
             }
            },
            "type": "scattercarpet"
           }
          ],
          "scattergeo": [
           {
            "marker": {
             "colorbar": {
              "outlinewidth": 0,
              "ticks": ""
             }
            },
            "type": "scattergeo"
           }
          ],
          "scattergl": [
           {
            "marker": {
             "colorbar": {
              "outlinewidth": 0,
              "ticks": ""
             }
            },
            "type": "scattergl"
           }
          ],
          "scattermapbox": [
           {
            "marker": {
             "colorbar": {
              "outlinewidth": 0,
              "ticks": ""
             }
            },
            "type": "scattermapbox"
           }
          ],
          "scatterpolar": [
           {
            "marker": {
             "colorbar": {
              "outlinewidth": 0,
              "ticks": ""
             }
            },
            "type": "scatterpolar"
           }
          ],
          "scatterpolargl": [
           {
            "marker": {
             "colorbar": {
              "outlinewidth": 0,
              "ticks": ""
             }
            },
            "type": "scatterpolargl"
           }
          ],
          "scatterternary": [
           {
            "marker": {
             "colorbar": {
              "outlinewidth": 0,
              "ticks": ""
             }
            },
            "type": "scatterternary"
           }
          ],
          "surface": [
           {
            "colorbar": {
             "outlinewidth": 0,
             "ticks": ""
            },
            "colorscale": [
             [
              0,
              "#0d0887"
             ],
             [
              0.1111111111111111,
              "#46039f"
             ],
             [
              0.2222222222222222,
              "#7201a8"
             ],
             [
              0.3333333333333333,
              "#9c179e"
             ],
             [
              0.4444444444444444,
              "#bd3786"
             ],
             [
              0.5555555555555556,
              "#d8576b"
             ],
             [
              0.6666666666666666,
              "#ed7953"
             ],
             [
              0.7777777777777778,
              "#fb9f3a"
             ],
             [
              0.8888888888888888,
              "#fdca26"
             ],
             [
              1,
              "#f0f921"
             ]
            ],
            "type": "surface"
           }
          ],
          "table": [
           {
            "cells": {
             "fill": {
              "color": "#EBF0F8"
             },
             "line": {
              "color": "white"
             }
            },
            "header": {
             "fill": {
              "color": "#C8D4E3"
             },
             "line": {
              "color": "white"
             }
            },
            "type": "table"
           }
          ]
         },
         "layout": {
          "annotationdefaults": {
           "arrowcolor": "#2a3f5f",
           "arrowhead": 0,
           "arrowwidth": 1
          },
          "autotypenumbers": "strict",
          "coloraxis": {
           "colorbar": {
            "outlinewidth": 0,
            "ticks": ""
           }
          },
          "colorscale": {
           "diverging": [
            [
             0,
             "#8e0152"
            ],
            [
             0.1,
             "#c51b7d"
            ],
            [
             0.2,
             "#de77ae"
            ],
            [
             0.3,
             "#f1b6da"
            ],
            [
             0.4,
             "#fde0ef"
            ],
            [
             0.5,
             "#f7f7f7"
            ],
            [
             0.6,
             "#e6f5d0"
            ],
            [
             0.7,
             "#b8e186"
            ],
            [
             0.8,
             "#7fbc41"
            ],
            [
             0.9,
             "#4d9221"
            ],
            [
             1,
             "#276419"
            ]
           ],
           "sequential": [
            [
             0,
             "#0d0887"
            ],
            [
             0.1111111111111111,
             "#46039f"
            ],
            [
             0.2222222222222222,
             "#7201a8"
            ],
            [
             0.3333333333333333,
             "#9c179e"
            ],
            [
             0.4444444444444444,
             "#bd3786"
            ],
            [
             0.5555555555555556,
             "#d8576b"
            ],
            [
             0.6666666666666666,
             "#ed7953"
            ],
            [
             0.7777777777777778,
             "#fb9f3a"
            ],
            [
             0.8888888888888888,
             "#fdca26"
            ],
            [
             1,
             "#f0f921"
            ]
           ],
           "sequentialminus": [
            [
             0,
             "#0d0887"
            ],
            [
             0.1111111111111111,
             "#46039f"
            ],
            [
             0.2222222222222222,
             "#7201a8"
            ],
            [
             0.3333333333333333,
             "#9c179e"
            ],
            [
             0.4444444444444444,
             "#bd3786"
            ],
            [
             0.5555555555555556,
             "#d8576b"
            ],
            [
             0.6666666666666666,
             "#ed7953"
            ],
            [
             0.7777777777777778,
             "#fb9f3a"
            ],
            [
             0.8888888888888888,
             "#fdca26"
            ],
            [
             1,
             "#f0f921"
            ]
           ]
          },
          "colorway": [
           "#636efa",
           "#EF553B",
           "#00cc96",
           "#ab63fa",
           "#FFA15A",
           "#19d3f3",
           "#FF6692",
           "#B6E880",
           "#FF97FF",
           "#FECB52"
          ],
          "font": {
           "color": "#2a3f5f"
          },
          "geo": {
           "bgcolor": "white",
           "lakecolor": "white",
           "landcolor": "#E5ECF6",
           "showlakes": true,
           "showland": true,
           "subunitcolor": "white"
          },
          "hoverlabel": {
           "align": "left"
          },
          "hovermode": "closest",
          "mapbox": {
           "style": "light"
          },
          "paper_bgcolor": "white",
          "plot_bgcolor": "#E5ECF6",
          "polar": {
           "angularaxis": {
            "gridcolor": "white",
            "linecolor": "white",
            "ticks": ""
           },
           "bgcolor": "#E5ECF6",
           "radialaxis": {
            "gridcolor": "white",
            "linecolor": "white",
            "ticks": ""
           }
          },
          "scene": {
           "xaxis": {
            "backgroundcolor": "#E5ECF6",
            "gridcolor": "white",
            "gridwidth": 2,
            "linecolor": "white",
            "showbackground": true,
            "ticks": "",
            "zerolinecolor": "white"
           },
           "yaxis": {
            "backgroundcolor": "#E5ECF6",
            "gridcolor": "white",
            "gridwidth": 2,
            "linecolor": "white",
            "showbackground": true,
            "ticks": "",
            "zerolinecolor": "white"
           },
           "zaxis": {
            "backgroundcolor": "#E5ECF6",
            "gridcolor": "white",
            "gridwidth": 2,
            "linecolor": "white",
            "showbackground": true,
            "ticks": "",
            "zerolinecolor": "white"
           }
          },
          "shapedefaults": {
           "line": {
            "color": "#2a3f5f"
           }
          },
          "ternary": {
           "aaxis": {
            "gridcolor": "white",
            "linecolor": "white",
            "ticks": ""
           },
           "baxis": {
            "gridcolor": "white",
            "linecolor": "white",
            "ticks": ""
           },
           "bgcolor": "#E5ECF6",
           "caxis": {
            "gridcolor": "white",
            "linecolor": "white",
            "ticks": ""
           }
          },
          "title": {
           "x": 0.05
          },
          "xaxis": {
           "automargin": true,
           "gridcolor": "white",
           "linecolor": "white",
           "ticks": "",
           "title": {
            "standoff": 15
           },
           "zerolinecolor": "white",
           "zerolinewidth": 2
          },
          "yaxis": {
           "automargin": true,
           "gridcolor": "white",
           "linecolor": "white",
           "ticks": "",
           "title": {
            "standoff": 15
           },
           "zerolinecolor": "white",
           "zerolinewidth": 2
          }
         }
        },
        "title": {
         "text": "Proportion of shared cargo over time."
        },
        "xaxis": {
         "anchor": "y",
         "domain": [
          0,
          1
         ],
         "title": {
          "text": "Month"
         }
        },
        "yaxis": {
         "anchor": "x",
         "domain": [
          0,
          1
         ],
         "title": {
          "text": "Proportion of cargo from non-primary carrier"
         }
        }
       }
      }
     },
     "metadata": {},
     "output_type": "display_data"
    }
   ],
   "source": [
    "ilf = add_primary_carrier_alt(imports_lf)\n",
    "elf = add_primary_carrier_alt(exports_lf)\n",
    "lf = pl.concat([ilf, elf], how='diagonal')\n",
    "\n",
    "sharing_over_time_plotly_alt(\n",
    "    data_lf=lf,\n",
    "    group_var='direction',\n",
    "    title='Proportion of shared cargo over time.')"
   ]
  },
  {
   "cell_type": "code",
   "execution_count": null,
   "metadata": {},
   "outputs": [],
   "source": [
    "#filter by MSC and Maersk controlled voyages\n",
    "lf = (\n",
    "    imports_lf.filter(\n",
    "        pl.col('primary_scac').is_in(['MEDU','MAEU']),\n",
    "        pl.col('unified_carrier_scac').is_in(['MEDU','MAEU'])\n",
    "    )\n",
    ")\n",
    "sharing_over_time_plotly(\n",
    "    data_lf=lf,\n",
    "    group_var='lane_name',\n",
    "    include_missing_voyages=False,\n",
    "    title='Proportion of shared cargo over time for MSC and Maersk vessels (Top 10 import lanes by total TEUs).')\n"
   ]
  },
  {
   "cell_type": "code",
   "execution_count": null,
   "metadata": {},
   "outputs": [],
   "source": [
    "#filter by MSC and Maersk controlled voyages\n",
    "lf = add_primary_carrier_alt(imports_lf)\n",
    "lf = (\n",
    "    lf.filter(\n",
    "        pl.col('vessel_owner').is_in(['MEDU','MAEU']),\n",
    "        pl.col('unified_carrier_scac').is_in(['MEDU','MAEU'])\n",
    "    )\n",
    ")\n",
    "sharing_over_time_plotly_alt(\n",
    "    data_lf=lf,\n",
    "    group_var='lane_name',\n",
    "    title='Proportion of shared cargo over time for MSC and Maersk vessels (Top 10 import lanes by total TEUs).')"
   ]
  },
  {
   "cell_type": "code",
   "execution_count": null,
   "metadata": {},
   "outputs": [],
   "source": [
    "#filter by MSC and Maersk controlled voyages\n",
    "lf = (\n",
    "    exports_lf.filter(\n",
    "        pl.col('primary_scac').is_in(['MSCU','MLSL']),\n",
    "        pl.col('unified_carrier_scac').is_in(['MSCU','MLSL'])\n",
    "    )\n",
    ")\n",
    "sharing_over_time_plotly(\n",
    "    data_lf=lf,\n",
    "    group_var='lane_name',\n",
    "    include_missing_voyages=False,\n",
    "    title='Proportion of shared cargo over time for MSC and Maersk vessels (Top 10 export lanes by total TEUs).')"
   ]
  },
  {
   "cell_type": "markdown",
   "metadata": {},
   "source": [
    "## revisiting voyage ID\n",
    "\n",
    "the previous method of identifying voyages turns out to be disfunctional, with many (sometimes hundreds) of voyage ids associated with single vessel-date pairs. \n"
   ]
  },
  {
   "cell_type": "code",
   "execution_count": 104,
   "metadata": {},
   "outputs": [
    {
     "name": "stdout",
     "output_type": "stream",
     "text": [
      "Vessel: 9882528\n"
     ]
    }
   ],
   "source": [
    "#unify col names and concat lfs \n",
    "lf = pl.concat([\n",
    "    imports_lf.rename({\n",
    "        'date_arrival':'date', \n",
    "        'arrival_port_name':'us_port_name', \n",
    "        'departure_port_name':'foreign_port_name'\n",
    "        }), \n",
    "    exports_lf.rename({\n",
    "        'date_departure':'date', \n",
    "        'departure_port_name':'us_port_name', \n",
    "        'arrival_port_name':'foreign_port_name'\n",
    "        })\n",
    "    ], how='diagonal')\n",
    "#filter dates\n",
    "lf = lf.filter(pl.col('date')>dt.datetime(2022,1,1))\n",
    "#choose random vessel\n",
    "sample_vessel = lf.select('vessel_id').drop_nulls().collect().sample(1).item()\n",
    "print('Vessel:', sample_vessel)\n",
    "#get port call dates (teus and carriers for reference)\n",
    "df = (\n",
    "    lf.filter(pl.col('vessel_id')==sample_vessel)\n",
    "    .group_by('date', 'direction')\n",
    "    .agg(\n",
    "        pl.col('voyage_number').unique(),\n",
    "        pl.col('voyage_number').n_unique().alias('num_voyage_numbers'),\n",
    "        pl.col('us_port_name').unique().alias('ports_us'),\n",
    "        pl.col('lane_name').unique().alias('lanes'),\n",
    "        pl.col('teus').sum(),\n",
    "        pl.col('unified_carrier_scac').unique().alias('carriers')\n",
    "    )\n",
    "    .sort('date', 'direction')\n",
    "    .collect()\n",
    ")"
   ]
  },
  {
   "cell_type": "code",
   "execution_count": 105,
   "metadata": {},
   "outputs": [
    {
     "data": {
      "text/html": [
       "<div><style>\n",
       ".dataframe > thead > tr,\n",
       ".dataframe > tbody > tr {\n",
       "  text-align: right;\n",
       "  white-space: pre-wrap;\n",
       "}\n",
       "</style>\n",
       "<small>shape: (20, 8)</small><table border=\"1\" class=\"dataframe\"><thead><tr><th>date</th><th>direction</th><th>voyage_number</th><th>num_voyage_numbers</th><th>ports_us</th><th>lanes</th><th>teus</th><th>carriers</th></tr><tr><td>datetime[μs]</td><td>cat</td><td>list[str]</td><td>u32</td><td>list[cat]</td><td>list[cat]</td><td>f64</td><td>list[cat]</td></tr></thead><tbody><tr><td>2022-04-01 00:00:00</td><td>&quot;import&quot;</td><td>[&quot;0MBAZ&quot;]</td><td>1</td><td>[&quot;SAVANNAH&quot;]</td><td>[&quot;Ningbo — Savannah&quot;]</td><td>2.0</td><td>[&quot;EGLV&quot;]</td></tr><tr><td>2022-04-03 00:00:00</td><td>&quot;import&quot;</td><td>[&quot;0MBAZ&quot;]</td><td>1</td><td>[&quot;NORFOLK&quot;]</td><td>[&quot;Ningbo — Norfolk&quot;]</td><td>4.0</td><td>[&quot;EGLV&quot;]</td></tr><tr><td>2022-04-12 00:00:00</td><td>&quot;import&quot;</td><td>[&quot;0MBAZ&quot;]</td><td>1</td><td>[&quot;NEW YORK&quot;]</td><td>[&quot;Shanghai — New York&quot;]</td><td>1.0</td><td>[&quot;COSU&quot;]</td></tr><tr><td>2022-04-15 00:00:00</td><td>&quot;import&quot;</td><td>[&quot;0MBAZ&quot;]</td><td>1</td><td>[&quot;SAVANNAH&quot;]</td><td>[&quot;Qingdao — Savannah&quot;]</td><td>10.0</td><td>[&quot;EGLV&quot;, &quot;CMDU&quot;]</td></tr><tr><td>2022-04-18 00:00:00</td><td>&quot;import&quot;</td><td>[&quot;MBAZE&quot;, &quot;0MBAZ&quot;]</td><td>2</td><td>[&quot;SAVANNAH&quot;]</td><td>[&quot;Shanghai — Savannah&quot;, &quot;Penang — Savannah&quot;]</td><td>5.0</td><td>[&quot;CMDU&quot;, &quot;COSU&quot;]</td></tr><tr><td>2022-04-21 00:00:00</td><td>&quot;import&quot;</td><td>[&quot;0MBAZ&quot;]</td><td>1</td><td>[&quot;SAVANNAH&quot;]</td><td>[&quot;Shanghai — Savannah&quot;]</td><td>4.0</td><td>[&quot;CMDU&quot;]</td></tr><tr><td>2022-04-23 00:00:00</td><td>&quot;import&quot;</td><td>[&quot;0MBAZ&quot;]</td><td>1</td><td>[&quot;SAVANNAH&quot;, &quot;NORFOLK&quot;]</td><td>[&quot;Shanghai — Norfolk&quot;, &quot;Ningbo — Savannah&quot;]</td><td>4.0</td><td>[&quot;CMDU&quot;]</td></tr><tr><td>2022-04-27 00:00:00</td><td>&quot;import&quot;</td><td>[&quot;0MBAZ&quot;]</td><td>1</td><td>[&quot;SAVANNAH&quot;]</td><td>[&quot;Penang — Savannah&quot;]</td><td>9.0</td><td>[&quot;COSU&quot;]</td></tr><tr><td>2022-04-29 00:00:00</td><td>&quot;import&quot;</td><td>[&quot;0MBAZ&quot;, &quot;0M&quot;]</td><td>2</td><td>[&quot;SAVANNAH&quot;, &quot;NEW YORK&quot;]</td><td>[&quot;Shanghai — New York&quot;, &quot;Busan — New York&quot;, … &quot;Yangshan — New York&quot;]</td><td>59.52</td><td>[&quot;CMDU&quot;, &quot;COSU&quot;]</td></tr><tr><td>2022-04-30 00:00:00</td><td>&quot;import&quot;</td><td>[&quot;0M&quot;, &quot;0MBAZ&quot;]</td><td>2</td><td>[&quot;SAVANNAH&quot;, &quot;NEW YORK&quot;, &quot;NORFOLK&quot;]</td><td>[&quot;Shanghai — Norfolk&quot;, &quot;Shanghai — New York&quot;, … &quot;Qingdao — Norfolk&quot;]</td><td>59.26</td><td>[&quot;EGLV&quot;, &quot;CMDU&quot;, … &quot;OOLU&quot;]</td></tr><tr><td>2022-05-01 00:00:00</td><td>&quot;import&quot;</td><td>[&quot;0M&quot;, &quot;BAZE1&quot;, &quot;0MBAZ&quot;]</td><td>3</td><td>[&quot;SAVANNAH&quot;, &quot;NORFOLK&quot;]</td><td>[&quot;Shanghai — Norfolk&quot;, &quot;Ningbo — Savannah&quot;, &quot;Qingdao — Savannah&quot;]</td><td>37.0</td><td>[&quot;CMDU&quot;, &quot;OOLU&quot;]</td></tr><tr><td>2022-05-02 00:00:00</td><td>&quot;import&quot;</td><td>[&quot;0MBAX&quot;, &quot;0MBAZ&quot;, … &quot;047E&quot;]</td><td>32</td><td>[&quot;SAVANNAH&quot;, &quot;NEW YORK&quot;]</td><td>[&quot;Shanghai — New York&quot;, &quot;Busan — New York&quot;, … &quot;Yangshan — New York&quot;]</td><td>8416.996793</td><td>[&quot;CCBC&quot;, &quot;EGLV&quot;, … &quot;OOLU&quot;]</td></tr><tr><td>2022-05-02 00:00:00</td><td>&quot;export&quot;</td><td>[&quot;001W&quot;, &quot;0MBB0&quot;]</td><td>2</td><td>[&quot;NEW YORK&quot;]</td><td>[&quot;New York — Yokohama&quot;, &quot;New York — Busan&quot;, … &quot;New York — Zhangjiagang&quot;]</td><td>382.92</td><td>[&quot;EGLV&quot;, &quot;COSU&quot;, &quot;OOLU&quot;]</td></tr><tr><td>2022-05-03 00:00:00</td><td>&quot;import&quot;</td><td>[&quot;0MBAZ&quot;]</td><td>1</td><td>[&quot;SAVANNAH&quot;]</td><td>[&quot;Qingdao — Savannah&quot;]</td><td>7.25</td><td>[&quot;EGLV&quot;, &quot;CMDU&quot;]</td></tr><tr><td>2022-05-04 00:00:00</td><td>&quot;import&quot;</td><td>[&quot;MBAZE&quot;, &quot;0MBAZ&quot;]</td><td>2</td><td>[&quot;SAVANNAH&quot;, &quot;NORFOLK&quot;]</td><td>[&quot;Shanghai — Norfolk&quot;, &quot;Busan — Norfolk&quot;, … &quot;Yangshan — Norfolk&quot;]</td><td>131.0</td><td>[&quot;EGLV&quot;, &quot;CMDU&quot;, … &quot;OOLU&quot;]</td></tr><tr><td>2022-05-05 00:00:00</td><td>&quot;import&quot;</td><td>[&quot;0MBAZ&quot;]</td><td>1</td><td>[&quot;SAVANNAH&quot;]</td><td>[&quot;Shanghai — Savannah&quot;, &quot;Qingdao — Savannah&quot;]</td><td>15.01</td><td>[&quot;CMDU&quot;, &quot;COSU&quot;]</td></tr><tr><td>2022-05-06 00:00:00</td><td>&quot;import&quot;</td><td>[&quot;0MBAZ&quot;]</td><td>1</td><td>[&quot;SAVANNAH&quot;]</td><td>[&quot;Shanghai — Savannah&quot;]</td><td>2.0</td><td>[&quot;CMDU&quot;]</td></tr><tr><td>2022-05-07 00:00:00</td><td>&quot;import&quot;</td><td>[&quot;MBAZE&quot;, &quot;0MBAZ&quot;]</td><td>2</td><td>[&quot;SAVANNAH&quot;]</td><td>[&quot;Busan — Savannah&quot;, &quot;Shanghai — Savannah&quot;, … &quot;Yangshan — Savannah&quot;]</td><td>204.27</td><td>[&quot;EGLV&quot;, &quot;CMDU&quot;, … &quot;OOLU&quot;]</td></tr><tr><td>2022-05-08 00:00:00</td><td>&quot;import&quot;</td><td>[&quot;0MBAZ&quot;]</td><td>1</td><td>[&quot;SAVANNAH&quot;]</td><td>[&quot;Shanghai — Savannah&quot;]</td><td>6.0</td><td>[&quot;CMDU&quot;]</td></tr><tr><td>2022-05-12 00:00:00</td><td>&quot;import&quot;</td><td>[&quot;0MBB0&quot;]</td><td>1</td><td>[&quot;NORFOLK&quot;]</td><td>[&quot;Shanghai — Norfolk&quot;]</td><td>26.0</td><td>[&quot;CMDU&quot;]</td></tr></tbody></table></div>"
      ],
      "text/plain": [
       "shape: (20, 8)\n",
       "┌────────────┬───────────┬────────────┬────────────┬────────────┬────────────┬────────┬────────────┐\n",
       "│ date       ┆ direction ┆ voyage_num ┆ num_voyage ┆ ports_us   ┆ lanes      ┆ teus   ┆ carriers   │\n",
       "│ ---        ┆ ---       ┆ ber        ┆ _numbers   ┆ ---        ┆ ---        ┆ ---    ┆ ---        │\n",
       "│ datetime[μ ┆ cat       ┆ ---        ┆ ---        ┆ list[cat]  ┆ list[cat]  ┆ f64    ┆ list[cat]  │\n",
       "│ s]         ┆           ┆ list[str]  ┆ u32        ┆            ┆            ┆        ┆            │\n",
       "╞════════════╪═══════════╪════════════╪════════════╪════════════╪════════════╪════════╪════════════╡\n",
       "│ 2022-04-01 ┆ import    ┆ [\"0MBAZ\"]  ┆ 1          ┆ [\"SAVANNAH ┆ [\"Ningbo — ┆ 2.0    ┆ [\"EGLV\"]   │\n",
       "│ 00:00:00   ┆           ┆            ┆            ┆ \"]         ┆ Savannah\"] ┆        ┆            │\n",
       "│ 2022-04-03 ┆ import    ┆ [\"0MBAZ\"]  ┆ 1          ┆ [\"NORFOLK\" ┆ [\"Ningbo — ┆ 4.0    ┆ [\"EGLV\"]   │\n",
       "│ 00:00:00   ┆           ┆            ┆            ┆ ]          ┆ Norfolk\"]  ┆        ┆            │\n",
       "│ 2022-04-12 ┆ import    ┆ [\"0MBAZ\"]  ┆ 1          ┆ [\"NEW      ┆ [\"Shanghai ┆ 1.0    ┆ [\"COSU\"]   │\n",
       "│ 00:00:00   ┆           ┆            ┆            ┆ YORK\"]     ┆ — New      ┆        ┆            │\n",
       "│            ┆           ┆            ┆            ┆            ┆ York\"]     ┆        ┆            │\n",
       "│ 2022-04-15 ┆ import    ┆ [\"0MBAZ\"]  ┆ 1          ┆ [\"SAVANNAH ┆ [\"Qingdao  ┆ 10.0   ┆ [\"EGLV\",   │\n",
       "│ 00:00:00   ┆           ┆            ┆            ┆ \"]         ┆ —          ┆        ┆ \"CMDU\"]    │\n",
       "│            ┆           ┆            ┆            ┆            ┆ Savannah\"] ┆        ┆            │\n",
       "│ 2022-04-18 ┆ import    ┆ [\"MBAZE\",  ┆ 2          ┆ [\"SAVANNAH ┆ [\"Shanghai ┆ 5.0    ┆ [\"CMDU\",   │\n",
       "│ 00:00:00   ┆           ┆ \"0MBAZ\"]   ┆            ┆ \"]         ┆ —          ┆        ┆ \"COSU\"]    │\n",
       "│            ┆           ┆            ┆            ┆            ┆ Savannah\", ┆        ┆            │\n",
       "│            ┆           ┆            ┆            ┆            ┆ \"Penang …  ┆        ┆            │\n",
       "│ …          ┆ …         ┆ …          ┆ …          ┆ …          ┆ …          ┆ …      ┆ …          │\n",
       "│ 2022-05-05 ┆ import    ┆ [\"0MBAZ\"]  ┆ 1          ┆ [\"SAVANNAH ┆ [\"Shanghai ┆ 15.01  ┆ [\"CMDU\",   │\n",
       "│ 00:00:00   ┆           ┆            ┆            ┆ \"]         ┆ —          ┆        ┆ \"COSU\"]    │\n",
       "│            ┆           ┆            ┆            ┆            ┆ Savannah\", ┆        ┆            │\n",
       "│            ┆           ┆            ┆            ┆            ┆ \"Qingdao…  ┆        ┆            │\n",
       "│ 2022-05-06 ┆ import    ┆ [\"0MBAZ\"]  ┆ 1          ┆ [\"SAVANNAH ┆ [\"Shanghai ┆ 2.0    ┆ [\"CMDU\"]   │\n",
       "│ 00:00:00   ┆           ┆            ┆            ┆ \"]         ┆ —          ┆        ┆            │\n",
       "│            ┆           ┆            ┆            ┆            ┆ Savannah\"] ┆        ┆            │\n",
       "│ 2022-05-07 ┆ import    ┆ [\"MBAZE\",  ┆ 2          ┆ [\"SAVANNAH ┆ [\"Busan —  ┆ 204.27 ┆ [\"EGLV\",   │\n",
       "│ 00:00:00   ┆           ┆ \"0MBAZ\"]   ┆            ┆ \"]         ┆ Savannah\", ┆        ┆ \"CMDU\", …  │\n",
       "│            ┆           ┆            ┆            ┆            ┆ \"Shanghai  ┆        ┆ \"OOLU\"]    │\n",
       "│            ┆           ┆            ┆            ┆            ┆ —…         ┆        ┆            │\n",
       "│ 2022-05-08 ┆ import    ┆ [\"0MBAZ\"]  ┆ 1          ┆ [\"SAVANNAH ┆ [\"Shanghai ┆ 6.0    ┆ [\"CMDU\"]   │\n",
       "│ 00:00:00   ┆           ┆            ┆            ┆ \"]         ┆ —          ┆        ┆            │\n",
       "│            ┆           ┆            ┆            ┆            ┆ Savannah\"] ┆        ┆            │\n",
       "│ 2022-05-12 ┆ import    ┆ [\"0MBB0\"]  ┆ 1          ┆ [\"NORFOLK\" ┆ [\"Shanghai ┆ 26.0   ┆ [\"CMDU\"]   │\n",
       "│ 00:00:00   ┆           ┆            ┆            ┆ ]          ┆ —          ┆        ┆            │\n",
       "│            ┆           ┆            ┆            ┆            ┆ Norfolk\"]  ┆        ┆            │\n",
       "└────────────┴───────────┴────────────┴────────────┴────────────┴────────────┴────────┴────────────┘"
      ]
     },
     "execution_count": 105,
     "metadata": {},
     "output_type": "execute_result"
    }
   ],
   "source": [
    "#inspect\n",
    "df.head(20)"
   ]
  },
  {
   "cell_type": "code",
   "execution_count": null,
   "metadata": {},
   "outputs": [],
   "source": []
  },
  {
   "cell_type": "markdown",
   "metadata": {},
   "source": [
    "## Isolating port visits per vessel"
   ]
  },
  {
   "cell_type": "code",
   "execution_count": 108,
   "metadata": {},
   "outputs": [
    {
     "data": {
      "text/html": [
       "<div><style>\n",
       ".dataframe > thead > tr,\n",
       ".dataframe > tbody > tr {\n",
       "  text-align: right;\n",
       "  white-space: pre-wrap;\n",
       "}\n",
       "</style>\n",
       "<small>shape: (20, 8)</small><table border=\"1\" class=\"dataframe\"><thead><tr><th>date</th><th>direction</th><th>voyage_number</th><th>num_voyage_numbers</th><th>ports_us</th><th>lanes</th><th>teus</th><th>carriers</th></tr><tr><td>datetime[μs]</td><td>cat</td><td>list[str]</td><td>u32</td><td>list[cat]</td><td>list[cat]</td><td>f64</td><td>list[cat]</td></tr></thead><tbody><tr><td>2022-04-01 00:00:00</td><td>&quot;import&quot;</td><td>[&quot;0MBAZ&quot;]</td><td>1</td><td>[&quot;SAVANNAH&quot;]</td><td>[&quot;Ningbo — Savannah&quot;]</td><td>2.0</td><td>[&quot;EGLV&quot;]</td></tr><tr><td>2022-04-15 00:00:00</td><td>&quot;import&quot;</td><td>[&quot;0MBAZ&quot;]</td><td>1</td><td>[&quot;SAVANNAH&quot;]</td><td>[&quot;Qingdao — Savannah&quot;]</td><td>10.0</td><td>[&quot;EGLV&quot;, &quot;CMDU&quot;]</td></tr><tr><td>2022-04-18 00:00:00</td><td>&quot;import&quot;</td><td>[&quot;MBAZE&quot;, &quot;0MBAZ&quot;]</td><td>2</td><td>[&quot;SAVANNAH&quot;]</td><td>[&quot;Shanghai — Savannah&quot;, &quot;Penang — Savannah&quot;]</td><td>5.0</td><td>[&quot;CMDU&quot;, &quot;COSU&quot;]</td></tr><tr><td>2022-04-21 00:00:00</td><td>&quot;import&quot;</td><td>[&quot;0MBAZ&quot;]</td><td>1</td><td>[&quot;SAVANNAH&quot;]</td><td>[&quot;Shanghai — Savannah&quot;]</td><td>4.0</td><td>[&quot;CMDU&quot;]</td></tr><tr><td>2022-04-23 00:00:00</td><td>&quot;import&quot;</td><td>[&quot;0MBAZ&quot;]</td><td>1</td><td>[&quot;SAVANNAH&quot;, &quot;NORFOLK&quot;]</td><td>[&quot;Shanghai — Norfolk&quot;, &quot;Ningbo — Savannah&quot;]</td><td>4.0</td><td>[&quot;CMDU&quot;]</td></tr><tr><td>2022-04-27 00:00:00</td><td>&quot;import&quot;</td><td>[&quot;0MBAZ&quot;]</td><td>1</td><td>[&quot;SAVANNAH&quot;]</td><td>[&quot;Penang — Savannah&quot;]</td><td>9.0</td><td>[&quot;COSU&quot;]</td></tr><tr><td>2022-04-29 00:00:00</td><td>&quot;import&quot;</td><td>[&quot;0MBAZ&quot;, &quot;0M&quot;]</td><td>2</td><td>[&quot;SAVANNAH&quot;, &quot;NEW YORK&quot;]</td><td>[&quot;Shanghai — New York&quot;, &quot;Busan — New York&quot;, … &quot;Yangshan — New York&quot;]</td><td>59.52</td><td>[&quot;CMDU&quot;, &quot;COSU&quot;]</td></tr><tr><td>2022-04-30 00:00:00</td><td>&quot;import&quot;</td><td>[&quot;0M&quot;, &quot;0MBAZ&quot;]</td><td>2</td><td>[&quot;SAVANNAH&quot;, &quot;NEW YORK&quot;, &quot;NORFOLK&quot;]</td><td>[&quot;Shanghai — Norfolk&quot;, &quot;Shanghai — New York&quot;, … &quot;Qingdao — Norfolk&quot;]</td><td>59.26</td><td>[&quot;EGLV&quot;, &quot;CMDU&quot;, … &quot;OOLU&quot;]</td></tr><tr><td>2022-05-01 00:00:00</td><td>&quot;import&quot;</td><td>[&quot;0M&quot;, &quot;BAZE1&quot;, &quot;0MBAZ&quot;]</td><td>3</td><td>[&quot;SAVANNAH&quot;, &quot;NORFOLK&quot;]</td><td>[&quot;Shanghai — Norfolk&quot;, &quot;Ningbo — Savannah&quot;, &quot;Qingdao — Savannah&quot;]</td><td>37.0</td><td>[&quot;CMDU&quot;, &quot;OOLU&quot;]</td></tr><tr><td>2022-05-02 00:00:00</td><td>&quot;import&quot;</td><td>[&quot;0MBAX&quot;, &quot;0MBAZ&quot;, … &quot;047E&quot;]</td><td>32</td><td>[&quot;SAVANNAH&quot;, &quot;NEW YORK&quot;]</td><td>[&quot;Shanghai — New York&quot;, &quot;Busan — New York&quot;, … &quot;Yangshan — New York&quot;]</td><td>8416.996793</td><td>[&quot;CCBC&quot;, &quot;EGLV&quot;, … &quot;OOLU&quot;]</td></tr><tr><td>2022-05-03 00:00:00</td><td>&quot;import&quot;</td><td>[&quot;0MBAZ&quot;]</td><td>1</td><td>[&quot;SAVANNAH&quot;]</td><td>[&quot;Qingdao — Savannah&quot;]</td><td>7.25</td><td>[&quot;EGLV&quot;, &quot;CMDU&quot;]</td></tr><tr><td>2022-05-04 00:00:00</td><td>&quot;import&quot;</td><td>[&quot;MBAZE&quot;, &quot;0MBAZ&quot;]</td><td>2</td><td>[&quot;SAVANNAH&quot;, &quot;NORFOLK&quot;]</td><td>[&quot;Shanghai — Norfolk&quot;, &quot;Busan — Norfolk&quot;, … &quot;Yangshan — Norfolk&quot;]</td><td>131.0</td><td>[&quot;EGLV&quot;, &quot;CMDU&quot;, … &quot;OOLU&quot;]</td></tr><tr><td>2022-05-05 00:00:00</td><td>&quot;import&quot;</td><td>[&quot;0MBAZ&quot;]</td><td>1</td><td>[&quot;SAVANNAH&quot;]</td><td>[&quot;Shanghai — Savannah&quot;, &quot;Qingdao — Savannah&quot;]</td><td>15.01</td><td>[&quot;CMDU&quot;, &quot;COSU&quot;]</td></tr><tr><td>2022-05-06 00:00:00</td><td>&quot;import&quot;</td><td>[&quot;0MBAZ&quot;]</td><td>1</td><td>[&quot;SAVANNAH&quot;]</td><td>[&quot;Shanghai — Savannah&quot;]</td><td>2.0</td><td>[&quot;CMDU&quot;]</td></tr><tr><td>2022-05-07 00:00:00</td><td>&quot;import&quot;</td><td>[&quot;MBAZE&quot;, &quot;0MBAZ&quot;]</td><td>2</td><td>[&quot;SAVANNAH&quot;]</td><td>[&quot;Busan — Savannah&quot;, &quot;Shanghai — Savannah&quot;, … &quot;Yangshan — Savannah&quot;]</td><td>204.27</td><td>[&quot;EGLV&quot;, &quot;CMDU&quot;, … &quot;OOLU&quot;]</td></tr><tr><td>2022-05-08 00:00:00</td><td>&quot;import&quot;</td><td>[&quot;0MBAZ&quot;]</td><td>1</td><td>[&quot;SAVANNAH&quot;]</td><td>[&quot;Shanghai — Savannah&quot;]</td><td>6.0</td><td>[&quot;CMDU&quot;]</td></tr><tr><td>2022-05-17 00:00:00</td><td>&quot;import&quot;</td><td>[&quot;001E&quot;, &quot;0MBAZ&quot;, … &quot;0MBA0&quot;]</td><td>7</td><td>[&quot;SAVANNAH&quot;]</td><td>[&quot;Busan — Savannah&quot;, &quot;Shanghai — Savannah&quot;, … &quot;Yangshan — Savannah&quot;]</td><td>372.73</td><td>[&quot;EGLV&quot;, &quot;CMDU&quot;, … &quot;OOLU&quot;]</td></tr><tr><td>2022-05-17 00:00:00</td><td>&quot;export&quot;</td><td>[&quot;001W&quot;, &quot;0MBB0&quot;]</td><td>2</td><td>[&quot;SAVANNAH&quot;]</td><td>[&quot;Savannah — Busan&quot;, &quot;Savannah — Shanghai&quot;, … &quot;Savannah — Nantong&quot;]</td><td>1788.78611</td><td>[&quot;EGLV&quot;, &quot;CMDU&quot;, … &quot;OOLU&quot;]</td></tr><tr><td>2022-07-02 00:00:00</td><td>&quot;import&quot;</td><td>[&quot;0MBBP&quot;]</td><td>1</td><td>[&quot;SAVANNAH&quot;]</td><td>[&quot;Busan — Savannah&quot;]</td><td>13.0</td><td>[&quot;COSU&quot;]</td></tr><tr><td>2022-07-23 00:00:00</td><td>&quot;import&quot;</td><td>[&quot;BBPE&quot;, &quot;0MBBP&quot;]</td><td>2</td><td>[&quot;SAVANNAH&quot;, &quot;NEW YORK&quot;]</td><td>[&quot;Shanghai — New York&quot;, &quot;Qingdao — Savannah&quot;]</td><td>3.0</td><td>[&quot;COSU&quot;, &quot;OOLU&quot;]</td></tr></tbody></table></div>"
      ],
      "text/plain": [
       "shape: (20, 8)\n",
       "┌────────────┬───────────┬────────────┬────────────┬───────────┬───────────┬───────────┬───────────┐\n",
       "│ date       ┆ direction ┆ voyage_num ┆ num_voyage ┆ ports_us  ┆ lanes     ┆ teus      ┆ carriers  │\n",
       "│ ---        ┆ ---       ┆ ber        ┆ _numbers   ┆ ---       ┆ ---       ┆ ---       ┆ ---       │\n",
       "│ datetime[μ ┆ cat       ┆ ---        ┆ ---        ┆ list[cat] ┆ list[cat] ┆ f64       ┆ list[cat] │\n",
       "│ s]         ┆           ┆ list[str]  ┆ u32        ┆           ┆           ┆           ┆           │\n",
       "╞════════════╪═══════════╪════════════╪════════════╪═══════════╪═══════════╪═══════════╪═══════════╡\n",
       "│ 2022-04-01 ┆ import    ┆ [\"0MBAZ\"]  ┆ 1          ┆ [\"SAVANNA ┆ [\"Ningbo  ┆ 2.0       ┆ [\"EGLV\"]  │\n",
       "│ 00:00:00   ┆           ┆            ┆            ┆ H\"]       ┆ — Savanna ┆           ┆           │\n",
       "│            ┆           ┆            ┆            ┆           ┆ h\"]       ┆           ┆           │\n",
       "│ 2022-04-15 ┆ import    ┆ [\"0MBAZ\"]  ┆ 1          ┆ [\"SAVANNA ┆ [\"Qingdao ┆ 10.0      ┆ [\"EGLV\",  │\n",
       "│ 00:00:00   ┆           ┆            ┆            ┆ H\"]       ┆ — Savanna ┆           ┆ \"CMDU\"]   │\n",
       "│            ┆           ┆            ┆            ┆           ┆ h\"]       ┆           ┆           │\n",
       "│ 2022-04-18 ┆ import    ┆ [\"MBAZE\",  ┆ 2          ┆ [\"SAVANNA ┆ [\"Shangha ┆ 5.0       ┆ [\"CMDU\",  │\n",
       "│ 00:00:00   ┆           ┆ \"0MBAZ\"]   ┆            ┆ H\"]       ┆ i — Savan ┆           ┆ \"COSU\"]   │\n",
       "│            ┆           ┆            ┆            ┆           ┆ nah\",     ┆           ┆           │\n",
       "│            ┆           ┆            ┆            ┆           ┆ \"Penang … ┆           ┆           │\n",
       "│ 2022-04-21 ┆ import    ┆ [\"0MBAZ\"]  ┆ 1          ┆ [\"SAVANNA ┆ [\"Shangha ┆ 4.0       ┆ [\"CMDU\"]  │\n",
       "│ 00:00:00   ┆           ┆            ┆            ┆ H\"]       ┆ i — Savan ┆           ┆           │\n",
       "│            ┆           ┆            ┆            ┆           ┆ nah\"]     ┆           ┆           │\n",
       "│ 2022-04-23 ┆ import    ┆ [\"0MBAZ\"]  ┆ 1          ┆ [\"SAVANNA ┆ [\"Shangha ┆ 4.0       ┆ [\"CMDU\"]  │\n",
       "│ 00:00:00   ┆           ┆            ┆            ┆ H\", \"NORF ┆ i —       ┆           ┆           │\n",
       "│            ┆           ┆            ┆            ┆ OLK\"]     ┆ Norfolk\", ┆           ┆           │\n",
       "│            ┆           ┆            ┆            ┆           ┆ \"Ningbo   ┆           ┆           │\n",
       "│            ┆           ┆            ┆            ┆           ┆ —…        ┆           ┆           │\n",
       "│ …          ┆ …         ┆ …          ┆ …          ┆ …         ┆ …         ┆ …         ┆ …         │\n",
       "│ 2022-05-08 ┆ import    ┆ [\"0MBAZ\"]  ┆ 1          ┆ [\"SAVANNA ┆ [\"Shangha ┆ 6.0       ┆ [\"CMDU\"]  │\n",
       "│ 00:00:00   ┆           ┆            ┆            ┆ H\"]       ┆ i — Savan ┆           ┆           │\n",
       "│            ┆           ┆            ┆            ┆           ┆ nah\"]     ┆           ┆           │\n",
       "│ 2022-05-17 ┆ import    ┆ [\"001E\",   ┆ 7          ┆ [\"SAVANNA ┆ [\"Busan — ┆ 372.73    ┆ [\"EGLV\",  │\n",
       "│ 00:00:00   ┆           ┆ \"0MBAZ\", … ┆            ┆ H\"]       ┆ Savannah\" ┆           ┆ \"CMDU\", … │\n",
       "│            ┆           ┆ \"0MBA0\"]   ┆            ┆           ┆ ,         ┆           ┆ \"OOLU\"]   │\n",
       "│            ┆           ┆            ┆            ┆           ┆ \"Shanghai ┆           ┆           │\n",
       "│            ┆           ┆            ┆            ┆           ┆ —…        ┆           ┆           │\n",
       "│ 2022-05-17 ┆ export    ┆ [\"001W\",   ┆ 2          ┆ [\"SAVANNA ┆ [\"Savanna ┆ 1788.7861 ┆ [\"EGLV\",  │\n",
       "│ 00:00:00   ┆           ┆ \"0MBB0\"]   ┆            ┆ H\"]       ┆ h —       ┆ 1         ┆ \"CMDU\", … │\n",
       "│            ┆           ┆            ┆            ┆           ┆ Busan\",   ┆           ┆ \"OOLU\"]   │\n",
       "│            ┆           ┆            ┆            ┆           ┆ \"Savannah ┆           ┆           │\n",
       "│            ┆           ┆            ┆            ┆           ┆ —…        ┆           ┆           │\n",
       "│ 2022-07-02 ┆ import    ┆ [\"0MBBP\"]  ┆ 1          ┆ [\"SAVANNA ┆ [\"Busan — ┆ 13.0      ┆ [\"COSU\"]  │\n",
       "│ 00:00:00   ┆           ┆            ┆            ┆ H\"]       ┆ Savannah\" ┆           ┆           │\n",
       "│            ┆           ┆            ┆            ┆           ┆ ]         ┆           ┆           │\n",
       "│ 2022-07-23 ┆ import    ┆ [\"BBPE\",   ┆ 2          ┆ [\"SAVANNA ┆ [\"Shangha ┆ 3.0       ┆ [\"COSU\",  │\n",
       "│ 00:00:00   ┆           ┆ \"0MBBP\"]   ┆            ┆ H\", \"NEW  ┆ i — New   ┆           ┆ \"OOLU\"]   │\n",
       "│            ┆           ┆            ┆            ┆ YORK\"]    ┆ York\",    ┆           ┆           │\n",
       "│            ┆           ┆            ┆            ┆           ┆ \"Qingdao… ┆           ┆           │\n",
       "└────────────┴───────────┴────────────┴────────────┴───────────┴───────────┴───────────┴───────────┘"
      ]
     },
     "execution_count": 108,
     "metadata": {},
     "output_type": "execute_result"
    }
   ],
   "source": [
    "sav_df = (\n",
    "    df.filter(pl.col('ports_us').list.contains('SAVANNAH'))\n",
    ")\n",
    "\n",
    "sav_df.head(20)"
   ]
  },
  {
   "cell_type": "code",
   "execution_count": 100,
   "metadata": {},
   "outputs": [
    {
     "data": {
      "text/html": [
       "<div><style>\n",
       ".dataframe > thead > tr,\n",
       ".dataframe > tbody > tr {\n",
       "  text-align: right;\n",
       "  white-space: pre-wrap;\n",
       "}\n",
       "</style>\n",
       "<small>shape: (10, 5)</small><table border=\"1\" class=\"dataframe\"><thead><tr><th>date_arrival</th><th>lanes</th><th>n_lanes</th><th>teus</th><th>num_bols</th></tr><tr><td>datetime[μs]</td><td>list[cat]</td><td>u32</td><td>f64</td><td>u32</td></tr></thead><tbody><tr><td>2009-02-28 00:00:00</td><td>[&quot;Valparaiso — Long Beach&quot;, &quot;Kaohsiung — Los Angeles&quot;, … &quot;Davao — Los Angeles&quot;]</td><td>19</td><td>2405.487939</td><td>1095</td></tr><tr><td>2009-06-05 00:00:00</td><td>[&quot;Valparaiso — Long Beach&quot;, &quot;Kaohsiung — Los Angeles&quot;, … &quot;Algeciras — Los Angeles&quot;]</td><td>14</td><td>2860.224015</td><td>1302</td></tr><tr><td>2009-09-11 00:00:00</td><td>[&quot;Valparaiso — Long Beach&quot;, &quot;Hong Kong — Los Angeles&quot;, … &quot;Davao — Los Angeles&quot;]</td><td>14</td><td>2882.191942</td><td>1312</td></tr><tr><td>2009-12-18 00:00:00</td><td>[&quot;Valparaiso — Long Beach&quot;, &quot;Hong Kong — Los Angeles&quot;, … &quot;Tanjung — Los Angeles&quot;]</td><td>15</td><td>2502.146815</td><td>1139</td></tr><tr><td>2010-03-27 00:00:00</td><td>[&quot;Hong Kong — Los Angeles&quot;, &quot;Yantian — Los Angeles&quot;, … &quot;Zongshan — Los Angeles&quot;]</td><td>26</td><td>8308.269759</td><td>3782</td></tr><tr><td>2010-07-03 00:00:00</td><td>[&quot;Kaohsiung — Los Angeles&quot;, &quot;Hong Kong — Los Angeles&quot;, … &quot;Yantai — Los Angeles&quot;]</td><td>18</td><td>8029.277094</td><td>3655</td></tr><tr><td>2010-09-19 00:00:00</td><td>[&quot;Hong Kong — Los Angeles&quot;, &quot;Yantian — Los Angeles&quot;, … &quot;Yantai — Los Angeles&quot;]</td><td>13</td><td>8352.205612</td><td>3802</td></tr><tr><td>2010-12-26 00:00:00</td><td>[&quot;Hong Kong — Los Angeles&quot;, &quot;Yantian — Los Angeles&quot;, … &quot;Shantou — Los Angeles&quot;]</td><td>21</td><td>7152.756831</td><td>3256</td></tr><tr><td>2011-02-26 00:00:00</td><td>[&quot;Hong Kong — Los Angeles&quot;, &quot;Yantian — Los Angeles&quot;, &quot;Xiamen — Los Angeles&quot;]</td><td>3</td><td>17.574341</td><td>8</td></tr><tr><td>2011-04-03 00:00:00</td><td>[&quot;Hong Kong — Los Angeles&quot;, &quot;Yantian — Los Angeles&quot;, … &quot;Zongshan — Los Angeles&quot;]</td><td>24</td><td>7664.609516</td><td>3489</td></tr></tbody></table></div>"
      ],
      "text/plain": [
       "shape: (10, 5)\n",
       "┌─────────────────────┬───────────────────────────────────┬─────────┬─────────────┬──────────┐\n",
       "│ date_arrival        ┆ lanes                             ┆ n_lanes ┆ teus        ┆ num_bols │\n",
       "│ ---                 ┆ ---                               ┆ ---     ┆ ---         ┆ ---      │\n",
       "│ datetime[μs]        ┆ list[cat]                         ┆ u32     ┆ f64         ┆ u32      │\n",
       "╞═════════════════════╪═══════════════════════════════════╪═════════╪═════════════╪══════════╡\n",
       "│ 2009-02-28 00:00:00 ┆ [\"Valparaiso — Long Beach\", \"Kao… ┆ 19      ┆ 2405.487939 ┆ 1095     │\n",
       "│ 2009-06-05 00:00:00 ┆ [\"Valparaiso — Long Beach\", \"Kao… ┆ 14      ┆ 2860.224015 ┆ 1302     │\n",
       "│ 2009-09-11 00:00:00 ┆ [\"Valparaiso — Long Beach\", \"Hon… ┆ 14      ┆ 2882.191942 ┆ 1312     │\n",
       "│ 2009-12-18 00:00:00 ┆ [\"Valparaiso — Long Beach\", \"Hon… ┆ 15      ┆ 2502.146815 ┆ 1139     │\n",
       "│ 2010-03-27 00:00:00 ┆ [\"Hong Kong — Los Angeles\", \"Yan… ┆ 26      ┆ 8308.269759 ┆ 3782     │\n",
       "│ 2010-07-03 00:00:00 ┆ [\"Kaohsiung — Los Angeles\", \"Hon… ┆ 18      ┆ 8029.277094 ┆ 3655     │\n",
       "│ 2010-09-19 00:00:00 ┆ [\"Hong Kong — Los Angeles\", \"Yan… ┆ 13      ┆ 8352.205612 ┆ 3802     │\n",
       "│ 2010-12-26 00:00:00 ┆ [\"Hong Kong — Los Angeles\", \"Yan… ┆ 21      ┆ 7152.756831 ┆ 3256     │\n",
       "│ 2011-02-26 00:00:00 ┆ [\"Hong Kong — Los Angeles\", \"Yan… ┆ 3       ┆ 17.574341   ┆ 8        │\n",
       "│ 2011-04-03 00:00:00 ┆ [\"Hong Kong — Los Angeles\", \"Yan… ┆ 24      ┆ 7664.609516 ┆ 3489     │\n",
       "└─────────────────────┴───────────────────────────────────┴─────────┴─────────────┴──────────┘"
      ]
     },
     "execution_count": 100,
     "metadata": {},
     "output_type": "execute_result"
    }
   ],
   "source": [
    "# LOS ANGELES - 2704\n",
    "\n",
    "la_df = (\n",
    "    df.filter(pl.col('arrival_port_code')=='2704')\n",
    "    .filter(pl.col('vessel_id')==pl.col('vessel_id').drop_nulls().sample(1))\n",
    "    .group_by('date_arrival')\n",
    "    .agg(\n",
    "        pl.col('lane_name').unique().alias('lanes'),\n",
    "        pl.col('lane_name').n_unique().alias('n_lanes'),\n",
    "        pl.col('teus').sum(),\n",
    "        pl.col('bol_id').count().alias('num_bols')\n",
    "    )\n",
    ")\n",
    "la_df.sort('date_arrival').head(10)"
   ]
  },
  {
   "cell_type": "code",
   "execution_count": 93,
   "metadata": {},
   "outputs": [
    {
     "data": {
      "application/vnd.plotly.v1+json": {
       "config": {
        "plotlyServerURL": "https://plot.ly"
       },
       "data": [
        {
         "hovertemplate": "date_arrival=%{x}<br>teus=%{y}<extra></extra>",
         "legendgroup": "",
         "line": {
          "color": "#636efa",
          "dash": "solid"
         },
         "marker": {
          "symbol": "circle"
         },
         "mode": "lines",
         "name": "",
         "orientation": "v",
         "showlegend": false,
         "type": "scatter",
         "x": [
          "2009-04-24T00:00:00",
          "2009-05-01T00:00:00",
          "2009-08-01T00:00:00",
          "2009-11-06T00:00:00",
          "2010-02-12T00:00:00",
          "2010-05-21T00:00:00",
          "2010-08-29T00:00:00",
          "2010-12-05T00:00:00",
          "2011-03-13T00:00:00",
          "2011-06-19T00:00:00",
          "2011-09-25T00:00:00",
          "2012-01-02T00:00:00",
          "2012-01-03T00:00:00",
          "2012-04-15T00:00:00",
          "2012-07-29T00:00:00",
          "2012-10-18T00:00:00",
          "2012-11-18T00:00:00",
          "2013-02-23T00:00:00",
          "2014-01-13T00:00:00",
          "2014-03-11T00:00:00",
          "2014-05-19T00:00:00",
          "2014-06-29T00:00:00",
          "2014-10-20T00:00:00",
          "2017-04-23T00:00:00",
          "2017-08-03T00:00:00",
          "2017-11-22T00:00:00",
          "2020-02-28T00:00:00",
          "2020-10-11T00:00:00",
          "2021-03-22T00:00:00",
          "2021-08-19T00:00:00",
          "2021-09-20T00:00:00",
          "2021-09-28T00:00:00",
          "2021-09-29T00:00:00",
          "2021-10-09T00:00:00",
          "2021-10-17T00:00:00",
          "2021-10-21T00:00:00",
          "2021-10-23T00:00:00",
          "2021-10-24T00:00:00",
          "2021-10-25T00:00:00",
          "2021-10-26T00:00:00",
          "2021-10-27T00:00:00",
          "2021-10-28T00:00:00",
          "2021-10-29T00:00:00",
          "2021-10-30T00:00:00",
          "2021-10-31T00:00:00",
          "2021-11-03T00:00:00",
          "2021-11-04T00:00:00",
          "2021-11-13T00:00:00",
          "2021-11-16T00:00:00",
          "2021-12-14T00:00:00",
          "2021-12-16T00:00:00",
          "2021-12-17T00:00:00",
          "2021-12-22T00:00:00",
          "2021-12-25T00:00:00",
          "2021-12-26T00:00:00",
          "2021-12-27T00:00:00",
          "2021-12-29T00:00:00",
          "2022-01-01T00:00:00",
          "2022-01-02T00:00:00",
          "2022-01-04T00:00:00",
          "2022-01-05T00:00:00",
          "2022-01-06T00:00:00",
          "2022-01-07T00:00:00",
          "2022-01-08T00:00:00",
          "2022-01-09T00:00:00",
          "2022-01-10T00:00:00",
          "2022-01-11T00:00:00",
          "2022-01-12T00:00:00",
          "2022-01-13T00:00:00",
          "2022-01-16T00:00:00",
          "2022-01-18T00:00:00",
          "2022-01-19T00:00:00",
          "2022-01-20T00:00:00",
          "2022-01-21T00:00:00",
          "2022-01-22T00:00:00",
          "2022-01-23T00:00:00",
          "2022-01-24T00:00:00",
          "2022-01-31T00:00:00",
          "2022-02-01T00:00:00",
          "2022-03-24T00:00:00",
          "2022-04-02T00:00:00",
          "2022-04-05T00:00:00",
          "2022-05-22T00:00:00",
          "2022-06-04T00:00:00",
          "2022-06-09T00:00:00",
          "2022-06-10T00:00:00",
          "2022-06-18T00:00:00",
          "2022-07-27T00:00:00",
          "2022-07-29T00:00:00",
          "2022-08-02T00:00:00",
          "2022-08-03T00:00:00",
          "2022-08-18T00:00:00",
          "2022-09-06T00:00:00",
          "2022-09-12T00:00:00",
          "2022-09-30T00:00:00",
          "2022-11-17T00:00:00",
          "2023-05-29T00:00:00",
          "2023-06-08T00:00:00",
          "2023-07-05T00:00:00",
          "2023-07-26T00:00:00",
          "2023-07-28T00:00:00",
          "2023-08-05T00:00:00",
          "2023-08-12T00:00:00",
          "2023-08-14T00:00:00",
          "2023-11-27T00:00:00"
         ],
         "xaxis": "x",
         "y": [
          2730.6132497738818,
          63.706986519263026,
          3558.8040745242233,
          2585.624935626607,
          8347.812026661477,
          7297.745145413033,
          7994.128411847671,
          5373.3547940037515,
          7119.8049416868325,
          6317.975628599632,
          9610.967793853642,
          7411.978362619977,
          2.196792638595277,
          8380.763916240403,
          8947.536416997931,
          8.787170554381108,
          7122.001734325428,
          2.196792638595277,
          6908.784018481041,
          6422.368882158563,
          1.75,
          6265.224541049806,
          6694.110393821692,
          8515.193585277178,
          8644.976792638596,
          20,
          6087.366792638584,
          2,
          2,
          3.5,
          8.25,
          14,
          4.01,
          107,
          8,
          10,
          18,
          373.98999999999995,
          63.230000000000004,
          15.980000000000002,
          46,
          54.489999999999995,
          330.47999999999996,
          84.76,
          39.29,
          14,
          51.99999999999999,
          2,
          8160.249999999972,
          16,
          18,
          2,
          40,
          2,
          61.010000000000005,
          4,
          12,
          16,
          9.75,
          22,
          17.999999999999996,
          35,
          51.73,
          8,
          30,
          46.010000000000005,
          96.75,
          95.75,
          19.75,
          428.4999999999997,
          5.5,
          6.03,
          89.83,
          12,
          2,
          5.26,
          9,
          36.51,
          8057.559999999986,
          8,
          4.98,
          9579.479999999989,
          37,
          344.00999999999993,
          1,
          9129.43679263858,
          2.196792638595277,
          8782.296792638572,
          43.26,
          485.7900000000001,
          13,
          1.75,
          67.98,
          8834.576792638589,
          4,
          1,
          2,
          6837.0435852771825,
          194.02999999999997,
          1.75,
          71,
          6553.889999999996,
          10,
          3,
          21
         ],
         "yaxis": "y"
        }
       ],
       "layout": {
        "legend": {
         "tracegroupgap": 0
        },
        "margin": {
         "t": 60
        },
        "template": {
         "data": {
          "bar": [
           {
            "error_x": {
             "color": "#2a3f5f"
            },
            "error_y": {
             "color": "#2a3f5f"
            },
            "marker": {
             "line": {
              "color": "#E5ECF6",
              "width": 0.5
             },
             "pattern": {
              "fillmode": "overlay",
              "size": 10,
              "solidity": 0.2
             }
            },
            "type": "bar"
           }
          ],
          "barpolar": [
           {
            "marker": {
             "line": {
              "color": "#E5ECF6",
              "width": 0.5
             },
             "pattern": {
              "fillmode": "overlay",
              "size": 10,
              "solidity": 0.2
             }
            },
            "type": "barpolar"
           }
          ],
          "carpet": [
           {
            "aaxis": {
             "endlinecolor": "#2a3f5f",
             "gridcolor": "white",
             "linecolor": "white",
             "minorgridcolor": "white",
             "startlinecolor": "#2a3f5f"
            },
            "baxis": {
             "endlinecolor": "#2a3f5f",
             "gridcolor": "white",
             "linecolor": "white",
             "minorgridcolor": "white",
             "startlinecolor": "#2a3f5f"
            },
            "type": "carpet"
           }
          ],
          "choropleth": [
           {
            "colorbar": {
             "outlinewidth": 0,
             "ticks": ""
            },
            "type": "choropleth"
           }
          ],
          "contour": [
           {
            "colorbar": {
             "outlinewidth": 0,
             "ticks": ""
            },
            "colorscale": [
             [
              0,
              "#0d0887"
             ],
             [
              0.1111111111111111,
              "#46039f"
             ],
             [
              0.2222222222222222,
              "#7201a8"
             ],
             [
              0.3333333333333333,
              "#9c179e"
             ],
             [
              0.4444444444444444,
              "#bd3786"
             ],
             [
              0.5555555555555556,
              "#d8576b"
             ],
             [
              0.6666666666666666,
              "#ed7953"
             ],
             [
              0.7777777777777778,
              "#fb9f3a"
             ],
             [
              0.8888888888888888,
              "#fdca26"
             ],
             [
              1,
              "#f0f921"
             ]
            ],
            "type": "contour"
           }
          ],
          "contourcarpet": [
           {
            "colorbar": {
             "outlinewidth": 0,
             "ticks": ""
            },
            "type": "contourcarpet"
           }
          ],
          "heatmap": [
           {
            "colorbar": {
             "outlinewidth": 0,
             "ticks": ""
            },
            "colorscale": [
             [
              0,
              "#0d0887"
             ],
             [
              0.1111111111111111,
              "#46039f"
             ],
             [
              0.2222222222222222,
              "#7201a8"
             ],
             [
              0.3333333333333333,
              "#9c179e"
             ],
             [
              0.4444444444444444,
              "#bd3786"
             ],
             [
              0.5555555555555556,
              "#d8576b"
             ],
             [
              0.6666666666666666,
              "#ed7953"
             ],
             [
              0.7777777777777778,
              "#fb9f3a"
             ],
             [
              0.8888888888888888,
              "#fdca26"
             ],
             [
              1,
              "#f0f921"
             ]
            ],
            "type": "heatmap"
           }
          ],
          "heatmapgl": [
           {
            "colorbar": {
             "outlinewidth": 0,
             "ticks": ""
            },
            "colorscale": [
             [
              0,
              "#0d0887"
             ],
             [
              0.1111111111111111,
              "#46039f"
             ],
             [
              0.2222222222222222,
              "#7201a8"
             ],
             [
              0.3333333333333333,
              "#9c179e"
             ],
             [
              0.4444444444444444,
              "#bd3786"
             ],
             [
              0.5555555555555556,
              "#d8576b"
             ],
             [
              0.6666666666666666,
              "#ed7953"
             ],
             [
              0.7777777777777778,
              "#fb9f3a"
             ],
             [
              0.8888888888888888,
              "#fdca26"
             ],
             [
              1,
              "#f0f921"
             ]
            ],
            "type": "heatmapgl"
           }
          ],
          "histogram": [
           {
            "marker": {
             "pattern": {
              "fillmode": "overlay",
              "size": 10,
              "solidity": 0.2
             }
            },
            "type": "histogram"
           }
          ],
          "histogram2d": [
           {
            "colorbar": {
             "outlinewidth": 0,
             "ticks": ""
            },
            "colorscale": [
             [
              0,
              "#0d0887"
             ],
             [
              0.1111111111111111,
              "#46039f"
             ],
             [
              0.2222222222222222,
              "#7201a8"
             ],
             [
              0.3333333333333333,
              "#9c179e"
             ],
             [
              0.4444444444444444,
              "#bd3786"
             ],
             [
              0.5555555555555556,
              "#d8576b"
             ],
             [
              0.6666666666666666,
              "#ed7953"
             ],
             [
              0.7777777777777778,
              "#fb9f3a"
             ],
             [
              0.8888888888888888,
              "#fdca26"
             ],
             [
              1,
              "#f0f921"
             ]
            ],
            "type": "histogram2d"
           }
          ],
          "histogram2dcontour": [
           {
            "colorbar": {
             "outlinewidth": 0,
             "ticks": ""
            },
            "colorscale": [
             [
              0,
              "#0d0887"
             ],
             [
              0.1111111111111111,
              "#46039f"
             ],
             [
              0.2222222222222222,
              "#7201a8"
             ],
             [
              0.3333333333333333,
              "#9c179e"
             ],
             [
              0.4444444444444444,
              "#bd3786"
             ],
             [
              0.5555555555555556,
              "#d8576b"
             ],
             [
              0.6666666666666666,
              "#ed7953"
             ],
             [
              0.7777777777777778,
              "#fb9f3a"
             ],
             [
              0.8888888888888888,
              "#fdca26"
             ],
             [
              1,
              "#f0f921"
             ]
            ],
            "type": "histogram2dcontour"
           }
          ],
          "mesh3d": [
           {
            "colorbar": {
             "outlinewidth": 0,
             "ticks": ""
            },
            "type": "mesh3d"
           }
          ],
          "parcoords": [
           {
            "line": {
             "colorbar": {
              "outlinewidth": 0,
              "ticks": ""
             }
            },
            "type": "parcoords"
           }
          ],
          "pie": [
           {
            "automargin": true,
            "type": "pie"
           }
          ],
          "scatter": [
           {
            "fillpattern": {
             "fillmode": "overlay",
             "size": 10,
             "solidity": 0.2
            },
            "type": "scatter"
           }
          ],
          "scatter3d": [
           {
            "line": {
             "colorbar": {
              "outlinewidth": 0,
              "ticks": ""
             }
            },
            "marker": {
             "colorbar": {
              "outlinewidth": 0,
              "ticks": ""
             }
            },
            "type": "scatter3d"
           }
          ],
          "scattercarpet": [
           {
            "marker": {
             "colorbar": {
              "outlinewidth": 0,
              "ticks": ""
             }
            },
            "type": "scattercarpet"
           }
          ],
          "scattergeo": [
           {
            "marker": {
             "colorbar": {
              "outlinewidth": 0,
              "ticks": ""
             }
            },
            "type": "scattergeo"
           }
          ],
          "scattergl": [
           {
            "marker": {
             "colorbar": {
              "outlinewidth": 0,
              "ticks": ""
             }
            },
            "type": "scattergl"
           }
          ],
          "scattermapbox": [
           {
            "marker": {
             "colorbar": {
              "outlinewidth": 0,
              "ticks": ""
             }
            },
            "type": "scattermapbox"
           }
          ],
          "scatterpolar": [
           {
            "marker": {
             "colorbar": {
              "outlinewidth": 0,
              "ticks": ""
             }
            },
            "type": "scatterpolar"
           }
          ],
          "scatterpolargl": [
           {
            "marker": {
             "colorbar": {
              "outlinewidth": 0,
              "ticks": ""
             }
            },
            "type": "scatterpolargl"
           }
          ],
          "scatterternary": [
           {
            "marker": {
             "colorbar": {
              "outlinewidth": 0,
              "ticks": ""
             }
            },
            "type": "scatterternary"
           }
          ],
          "surface": [
           {
            "colorbar": {
             "outlinewidth": 0,
             "ticks": ""
            },
            "colorscale": [
             [
              0,
              "#0d0887"
             ],
             [
              0.1111111111111111,
              "#46039f"
             ],
             [
              0.2222222222222222,
              "#7201a8"
             ],
             [
              0.3333333333333333,
              "#9c179e"
             ],
             [
              0.4444444444444444,
              "#bd3786"
             ],
             [
              0.5555555555555556,
              "#d8576b"
             ],
             [
              0.6666666666666666,
              "#ed7953"
             ],
             [
              0.7777777777777778,
              "#fb9f3a"
             ],
             [
              0.8888888888888888,
              "#fdca26"
             ],
             [
              1,
              "#f0f921"
             ]
            ],
            "type": "surface"
           }
          ],
          "table": [
           {
            "cells": {
             "fill": {
              "color": "#EBF0F8"
             },
             "line": {
              "color": "white"
             }
            },
            "header": {
             "fill": {
              "color": "#C8D4E3"
             },
             "line": {
              "color": "white"
             }
            },
            "type": "table"
           }
          ]
         },
         "layout": {
          "annotationdefaults": {
           "arrowcolor": "#2a3f5f",
           "arrowhead": 0,
           "arrowwidth": 1
          },
          "autotypenumbers": "strict",
          "coloraxis": {
           "colorbar": {
            "outlinewidth": 0,
            "ticks": ""
           }
          },
          "colorscale": {
           "diverging": [
            [
             0,
             "#8e0152"
            ],
            [
             0.1,
             "#c51b7d"
            ],
            [
             0.2,
             "#de77ae"
            ],
            [
             0.3,
             "#f1b6da"
            ],
            [
             0.4,
             "#fde0ef"
            ],
            [
             0.5,
             "#f7f7f7"
            ],
            [
             0.6,
             "#e6f5d0"
            ],
            [
             0.7,
             "#b8e186"
            ],
            [
             0.8,
             "#7fbc41"
            ],
            [
             0.9,
             "#4d9221"
            ],
            [
             1,
             "#276419"
            ]
           ],
           "sequential": [
            [
             0,
             "#0d0887"
            ],
            [
             0.1111111111111111,
             "#46039f"
            ],
            [
             0.2222222222222222,
             "#7201a8"
            ],
            [
             0.3333333333333333,
             "#9c179e"
            ],
            [
             0.4444444444444444,
             "#bd3786"
            ],
            [
             0.5555555555555556,
             "#d8576b"
            ],
            [
             0.6666666666666666,
             "#ed7953"
            ],
            [
             0.7777777777777778,
             "#fb9f3a"
            ],
            [
             0.8888888888888888,
             "#fdca26"
            ],
            [
             1,
             "#f0f921"
            ]
           ],
           "sequentialminus": [
            [
             0,
             "#0d0887"
            ],
            [
             0.1111111111111111,
             "#46039f"
            ],
            [
             0.2222222222222222,
             "#7201a8"
            ],
            [
             0.3333333333333333,
             "#9c179e"
            ],
            [
             0.4444444444444444,
             "#bd3786"
            ],
            [
             0.5555555555555556,
             "#d8576b"
            ],
            [
             0.6666666666666666,
             "#ed7953"
            ],
            [
             0.7777777777777778,
             "#fb9f3a"
            ],
            [
             0.8888888888888888,
             "#fdca26"
            ],
            [
             1,
             "#f0f921"
            ]
           ]
          },
          "colorway": [
           "#636efa",
           "#EF553B",
           "#00cc96",
           "#ab63fa",
           "#FFA15A",
           "#19d3f3",
           "#FF6692",
           "#B6E880",
           "#FF97FF",
           "#FECB52"
          ],
          "font": {
           "color": "#2a3f5f"
          },
          "geo": {
           "bgcolor": "white",
           "lakecolor": "white",
           "landcolor": "#E5ECF6",
           "showlakes": true,
           "showland": true,
           "subunitcolor": "white"
          },
          "hoverlabel": {
           "align": "left"
          },
          "hovermode": "closest",
          "mapbox": {
           "style": "light"
          },
          "paper_bgcolor": "white",
          "plot_bgcolor": "#E5ECF6",
          "polar": {
           "angularaxis": {
            "gridcolor": "white",
            "linecolor": "white",
            "ticks": ""
           },
           "bgcolor": "#E5ECF6",
           "radialaxis": {
            "gridcolor": "white",
            "linecolor": "white",
            "ticks": ""
           }
          },
          "scene": {
           "xaxis": {
            "backgroundcolor": "#E5ECF6",
            "gridcolor": "white",
            "gridwidth": 2,
            "linecolor": "white",
            "showbackground": true,
            "ticks": "",
            "zerolinecolor": "white"
           },
           "yaxis": {
            "backgroundcolor": "#E5ECF6",
            "gridcolor": "white",
            "gridwidth": 2,
            "linecolor": "white",
            "showbackground": true,
            "ticks": "",
            "zerolinecolor": "white"
           },
           "zaxis": {
            "backgroundcolor": "#E5ECF6",
            "gridcolor": "white",
            "gridwidth": 2,
            "linecolor": "white",
            "showbackground": true,
            "ticks": "",
            "zerolinecolor": "white"
           }
          },
          "shapedefaults": {
           "line": {
            "color": "#2a3f5f"
           }
          },
          "ternary": {
           "aaxis": {
            "gridcolor": "white",
            "linecolor": "white",
            "ticks": ""
           },
           "baxis": {
            "gridcolor": "white",
            "linecolor": "white",
            "ticks": ""
           },
           "bgcolor": "#E5ECF6",
           "caxis": {
            "gridcolor": "white",
            "linecolor": "white",
            "ticks": ""
           }
          },
          "title": {
           "x": 0.05
          },
          "xaxis": {
           "automargin": true,
           "gridcolor": "white",
           "linecolor": "white",
           "ticks": "",
           "title": {
            "standoff": 15
           },
           "zerolinecolor": "white",
           "zerolinewidth": 2
          },
          "yaxis": {
           "automargin": true,
           "gridcolor": "white",
           "linecolor": "white",
           "ticks": "",
           "title": {
            "standoff": 15
           },
           "zerolinecolor": "white",
           "zerolinewidth": 2
          }
         }
        },
        "xaxis": {
         "anchor": "y",
         "domain": [
          0,
          1
         ],
         "title": {
          "text": "date_arrival"
         }
        },
        "yaxis": {
         "anchor": "x",
         "domain": [
          0,
          1
         ],
         "title": {
          "text": "teus"
         }
        }
       }
      }
     },
     "metadata": {},
     "output_type": "display_data"
    }
   ],
   "source": [
    "px.line(data_frame=la_df.sort('date_arrival'), x='date_arrival', y='teus')"
   ]
  },
  {
   "cell_type": "markdown",
   "metadata": {},
   "source": [
    "## Days in port\n",
    "\n",
    "For each arrival, we want to know how many days the ship stays in port before departing. \n",
    "\n",
    "challenges:\n",
    "- we only observe bols, so if a ship imports some bols at a port but does not load any exports at that port, we observe the arrival but not the departure of the vessel (or vise versa).\n",
    "- date stamps appear to be when the bol was processed (ostensibly when it was loaded/offloaded), not when the vessel arrived/departed.  \n"
   ]
  },
  {
   "cell_type": "markdown",
   "metadata": {},
   "source": [
    "### 'BULK' Carrier SCAC\n",
    "\n",
    "Many bols show \"BULK\" in place of carrier code, and at least some bols also show legitimate carrier names. We'll need to clean this up. Perhaps assign carrier code based on carrier name where possible and null values for the reminder?"
   ]
  },
  {
   "cell_type": "markdown",
   "metadata": {},
   "source": [
    "## Unpacking Lists (commodity codes, etc)\n",
    "\n",
    "List-like columns include:\n",
    "- container_id_marks\n",
    "- marks_desc\n",
    "- hs_code\n",
    "- job_code\n",
    "- commod_desc_raw\n",
    "- container_ids\n",
    "- commod_short_desc_qty\n",
    "- "
   ]
  },
  {
   "cell_type": "code",
   "execution_count": 9,
   "metadata": {},
   "outputs": [
    {
     "data": {
      "text/plain": [
       "OrderedDict([('weight', Float64),\n",
       "             ('weight_unit', Categorical(ordering='physical')),\n",
       "             ('qty', Float64),\n",
       "             ('qty_type', Categorical(ordering='physical')),\n",
       "             ('teus', Float64),\n",
       "             ('value_est', Float64),\n",
       "             ('date_arrival', Datetime(time_unit='us', time_zone=None)),\n",
       "             ('container_piece_count', Int32),\n",
       "             ('commod_short_desc_qty', String),\n",
       "             ('origin_territory', Categorical(ordering='physical')),\n",
       "             ('origin_region', Categorical(ordering='physical')),\n",
       "             ('arrival_port_code', Categorical(ordering='physical')),\n",
       "             ('arrival_port_name', Categorical(ordering='physical')),\n",
       "             ('departure_port_code', Categorical(ordering='physical')),\n",
       "             ('departure_port_name', Categorical(ordering='physical')),\n",
       "             ('dest_final', Categorical(ordering='physical')),\n",
       "             ('coast_region', Categorical(ordering='physical')),\n",
       "             ('clearing_district', Categorical(ordering='physical')),\n",
       "             ('place_receipt', Categorical(ordering='physical')),\n",
       "             ('shipper_name', String),\n",
       "             ('shipper_address', String),\n",
       "             ('consignee_name', String),\n",
       "             ('consignee_address', String),\n",
       "             ('notify_party1_name', String),\n",
       "             ('notify_party1_address', String),\n",
       "             ('notify_party2_name', String),\n",
       "             ('notify_party2_address', String),\n",
       "             ('commod_desc_raw', String),\n",
       "             ('container_id_marks', String),\n",
       "             ('marks_desc', String),\n",
       "             ('hs_code', String),\n",
       "             ('joc_code', String),\n",
       "             ('commod_short_desc', String),\n",
       "             ('container_ids', String),\n",
       "             ('carrier_name', Categorical(ordering='physical')),\n",
       "             ('carrier_scac', Categorical(ordering='physical')),\n",
       "             ('vessel_name', String),\n",
       "             ('voyage_number', String),\n",
       "             ('precarrier', Float64),\n",
       "             ('vessel_id', Int32),\n",
       "             ('inbond_code', Float64),\n",
       "             ('transport_mode', Categorical(ordering='physical')),\n",
       "             ('bol_number', String),\n",
       "             ('bol_id', String),\n",
       "             ('hs_2d', String),\n",
       "             ('year', Int32),\n",
       "             ('month', String),\n",
       "             ('direction', Categorical(ordering='physical')),\n",
       "             ('lane_id', Categorical(ordering='physical')),\n",
       "             ('lane_name', Categorical(ordering='physical')),\n",
       "             ('unified_carrier_name', Categorical(ordering='physical')),\n",
       "             ('unified_carrier_scac', Categorical(ordering='physical')),\n",
       "             ('voyage_id', Categorical(ordering='physical')),\n",
       "             ('sum_teus', Float64),\n",
       "             ('primary_scac', Categorical(ordering='physical')),\n",
       "             ('primary_cargo', Boolean)])"
      ]
     },
     "execution_count": 9,
     "metadata": {},
     "output_type": "execute_result"
    }
   ],
   "source": [
    "imports_lf.schema"
   ]
  },
  {
   "cell_type": "code",
   "execution_count": 10,
   "metadata": {},
   "outputs": [],
   "source": [
    "df = imports_lf.select('bol_id', 'teus', 'date_arrival', 'arrival_port_name', 'lane_name', 'container_id_marks', 'marks_desc', 'container_ids', 'hs_code').collect()"
   ]
  },
  {
   "cell_type": "code",
   "execution_count": 41,
   "metadata": {},
   "outputs": [
    {
     "data": {
      "text/html": [
       "<div><style>\n",
       ".dataframe > thead > tr,\n",
       ".dataframe > tbody > tr {\n",
       "  text-align: right;\n",
       "  white-space: pre-wrap;\n",
       "}\n",
       "</style>\n",
       "<small>shape: (5, 9)</small><table border=\"1\" class=\"dataframe\"><thead><tr><th>bol_id</th><th>teus</th><th>date_arrival</th><th>arrival_port_name</th><th>lane_name</th><th>container_id_marks</th><th>marks_desc</th><th>container_ids</th><th>hs_code</th></tr><tr><td>str</td><td>f64</td><td>datetime[μs]</td><td>cat</td><td>cat</td><td>str</td><td>str</td><td>str</td><td>list[str]</td></tr></thead><tbody><tr><td>&quot;AAGP_7060142&quot;</td><td>2.196793</td><td>2007-06-24 00:00:00</td><td>&quot;SAN JUAN&quot;</td><td>&quot;Santos — San J…</td><td>null</td><td>&quot;20; 20; 20; 20…</td><td>&quot;GLDU0393995 IN…</td><td>[&quot;009669&quot;, &quot;690790&quot;]</td></tr><tr><td>&quot;AAGP_7110312&quot;</td><td>2.196793</td><td>2007-12-17 00:00:00</td><td>&quot;SAN JUAN&quot;</td><td>&quot;Santos — San J…</td><td>null</td><td>&quot;20; 20; 20&quot;</td><td>&quot;MEDU1826520 MS…</td><td>[&quot;009669&quot;, &quot;691490&quot;, &quot;690790&quot;]</td></tr><tr><td>&quot;ABCI_ABCIGW061…</td><td>2.196793</td><td>2010-08-02 00:00:00</td><td>&quot;CORPUS CHRSTI&quot;</td><td>&quot;Lagos — Corpus…</td><td>null</td><td>null</td><td>&quot;NC&quot;</td><td>[&quot;890399&quot;, &quot;840991&quot;, &quot;007985&quot;]</td></tr><tr><td>&quot;ABCI_ABCIOW100…</td><td>2.196793</td><td>2010-03-02 00:00:00</td><td>&quot;CORPUS CHRSTI&quot;</td><td>&quot;Lagos — Corpus…</td><td>null</td><td>null</td><td>&quot;NC&quot;</td><td>[&quot;890399&quot;, &quot;940490&quot;, &quot;007985&quot;]</td></tr><tr><td>&quot;ABCI_EW2530110…</td><td>2.196793</td><td>2007-12-31 00:00:00</td><td>&quot;BEAUMONT&quot;</td><td>&quot;Lagos — Beaumo…</td><td>null</td><td>&quot;--&quot;</td><td>&quot;NC&quot;</td><td>[&quot;007985&quot;, &quot;721410&quot;, &quot;840991&quot;]</td></tr></tbody></table></div>"
      ],
      "text/plain": [
       "shape: (5, 9)\n",
       "┌───────────┬──────────┬───────────┬───────────┬───┬───────────┬───────────┬───────────┬───────────┐\n",
       "│ bol_id    ┆ teus     ┆ date_arri ┆ arrival_p ┆ … ┆ container ┆ marks_des ┆ container ┆ hs_code   │\n",
       "│ ---       ┆ ---      ┆ val       ┆ ort_name  ┆   ┆ _id_marks ┆ c         ┆ _ids      ┆ ---       │\n",
       "│ str       ┆ f64      ┆ ---       ┆ ---       ┆   ┆ ---       ┆ ---       ┆ ---       ┆ list[str] │\n",
       "│           ┆          ┆ datetime[ ┆ cat       ┆   ┆ str       ┆ str       ┆ str       ┆           │\n",
       "│           ┆          ┆ μs]       ┆           ┆   ┆           ┆           ┆           ┆           │\n",
       "╞═══════════╪══════════╪═══════════╪═══════════╪═══╪═══════════╪═══════════╪═══════════╪═══════════╡\n",
       "│ AAGP_7060 ┆ 2.196793 ┆ 2007-06-2 ┆ SAN JUAN  ┆ … ┆ null      ┆ 20; 20;   ┆ GLDU03939 ┆ [\"009669\" │\n",
       "│ 142       ┆          ┆ 4         ┆           ┆   ┆           ┆ 20; 20;   ┆ 95 INBU38 ┆ ,         │\n",
       "│           ┆          ┆ 00:00:00  ┆           ┆   ┆           ┆ 20        ┆ 28580     ┆ \"690790\"] │\n",
       "│           ┆          ┆           ┆           ┆   ┆           ┆           ┆ POCU0120… ┆           │\n",
       "│ AAGP_7110 ┆ 2.196793 ┆ 2007-12-1 ┆ SAN JUAN  ┆ … ┆ null      ┆ 20; 20;   ┆ MEDU18265 ┆ [\"009669\" │\n",
       "│ 312       ┆          ┆ 7         ┆           ┆   ┆           ┆ 20        ┆ 20 MSCU29 ┆ ,         │\n",
       "│           ┆          ┆ 00:00:00  ┆           ┆   ┆           ┆           ┆ 78808     ┆ \"691490\", │\n",
       "│           ┆          ┆           ┆           ┆   ┆           ┆           ┆ MSCU3892… ┆ \"690790\"] │\n",
       "│ ABCI_ABCI ┆ 2.196793 ┆ 2010-08-0 ┆ CORPUS    ┆ … ┆ null      ┆ null      ┆ NC        ┆ [\"890399\" │\n",
       "│ GW0614071 ┆          ┆ 2         ┆ CHRSTI    ┆   ┆           ┆           ┆           ┆ ,         │\n",
       "│ 001       ┆          ┆ 00:00:00  ┆           ┆   ┆           ┆           ┆           ┆ \"840991\", │\n",
       "│           ┆          ┆           ┆           ┆   ┆           ┆           ┆           ┆ \"007985\"] │\n",
       "│ ABCI_ABCI ┆ 2.196793 ┆ 2010-03-0 ┆ CORPUS    ┆ … ┆ null      ┆ null      ┆ NC        ┆ [\"890399\" │\n",
       "│ OW1008021 ┆          ┆ 2         ┆ CHRSTI    ┆   ┆           ┆           ┆           ┆ ,         │\n",
       "│ 001       ┆          ┆ 00:00:00  ┆           ┆   ┆           ┆           ┆           ┆ \"940490\", │\n",
       "│           ┆          ┆           ┆           ┆   ┆           ┆           ┆           ┆ \"007985\"] │\n",
       "│ ABCI_EW25 ┆ 2.196793 ┆ 2007-12-3 ┆ BEAUMONT  ┆ … ┆ null      ┆ --        ┆ NC        ┆ [\"007985\" │\n",
       "│ 30110701  ┆          ┆ 1         ┆           ┆   ┆           ┆           ┆           ┆ ,         │\n",
       "│           ┆          ┆ 00:00:00  ┆           ┆   ┆           ┆           ┆           ┆ \"721410\", │\n",
       "│           ┆          ┆           ┆           ┆   ┆           ┆           ┆           ┆ \"840991\"] │\n",
       "└───────────┴──────────┴───────────┴───────────┴───┴───────────┴───────────┴───────────┴───────────┘"
      ]
     },
     "execution_count": 41,
     "metadata": {},
     "output_type": "execute_result"
    }
   ],
   "source": [
    "df2 = (\n",
    "    df.with_columns(pl.col('hs_code').str.split(by=' '))\n",
    "    .filter(pl.col('hs_code').list.len()>1)\n",
    "    .sort('bol_id')\n",
    ")\n",
    "\n",
    "df2.head()"
   ]
  },
  {
   "cell_type": "code",
   "execution_count": 42,
   "metadata": {},
   "outputs": [
    {
     "data": {
      "text/html": [
       "<div><style>\n",
       ".dataframe > thead > tr,\n",
       ".dataframe > tbody > tr {\n",
       "  text-align: right;\n",
       "  white-space: pre-wrap;\n",
       "}\n",
       "</style>\n",
       "<small>shape: (5, 9)</small><table border=\"1\" class=\"dataframe\"><thead><tr><th>bol_id</th><th>teus</th><th>date_arrival</th><th>arrival_port_name</th><th>lane_name</th><th>container_id_marks</th><th>marks_desc</th><th>container_ids</th><th>hs_code</th></tr><tr><td>str</td><td>f64</td><td>datetime[μs]</td><td>cat</td><td>cat</td><td>str</td><td>str</td><td>str</td><td>str</td></tr></thead><tbody><tr><td>&quot;AAGP_7060142&quot;</td><td>2.196793</td><td>2007-06-24 00:00:00</td><td>&quot;SAN JUAN&quot;</td><td>&quot;Santos — San J…</td><td>null</td><td>&quot;20; 20; 20; 20…</td><td>&quot;GLDU0393995 IN…</td><td>&quot;009669&quot;</td></tr><tr><td>&quot;AAGP_7060142&quot;</td><td>2.196793</td><td>2007-06-24 00:00:00</td><td>&quot;SAN JUAN&quot;</td><td>&quot;Santos — San J…</td><td>null</td><td>&quot;20; 20; 20; 20…</td><td>&quot;GLDU0393995 IN…</td><td>&quot;690790&quot;</td></tr><tr><td>&quot;AAGP_7110312&quot;</td><td>2.196793</td><td>2007-12-17 00:00:00</td><td>&quot;SAN JUAN&quot;</td><td>&quot;Santos — San J…</td><td>null</td><td>&quot;20; 20; 20&quot;</td><td>&quot;MEDU1826520 MS…</td><td>&quot;009669&quot;</td></tr><tr><td>&quot;AAGP_7110312&quot;</td><td>2.196793</td><td>2007-12-17 00:00:00</td><td>&quot;SAN JUAN&quot;</td><td>&quot;Santos — San J…</td><td>null</td><td>&quot;20; 20; 20&quot;</td><td>&quot;MEDU1826520 MS…</td><td>&quot;691490&quot;</td></tr><tr><td>&quot;AAGP_7110312&quot;</td><td>2.196793</td><td>2007-12-17 00:00:00</td><td>&quot;SAN JUAN&quot;</td><td>&quot;Santos — San J…</td><td>null</td><td>&quot;20; 20; 20&quot;</td><td>&quot;MEDU1826520 MS…</td><td>&quot;690790&quot;</td></tr></tbody></table></div>"
      ],
      "text/plain": [
       "shape: (5, 9)\n",
       "┌────────────┬──────────┬────────────┬───────────┬───┬───────────┬───────────┬───────────┬─────────┐\n",
       "│ bol_id     ┆ teus     ┆ date_arriv ┆ arrival_p ┆ … ┆ container ┆ marks_des ┆ container ┆ hs_code │\n",
       "│ ---        ┆ ---      ┆ al         ┆ ort_name  ┆   ┆ _id_marks ┆ c         ┆ _ids      ┆ ---     │\n",
       "│ str        ┆ f64      ┆ ---        ┆ ---       ┆   ┆ ---       ┆ ---       ┆ ---       ┆ str     │\n",
       "│            ┆          ┆ datetime[μ ┆ cat       ┆   ┆ str       ┆ str       ┆ str       ┆         │\n",
       "│            ┆          ┆ s]         ┆           ┆   ┆           ┆           ┆           ┆         │\n",
       "╞════════════╪══════════╪════════════╪═══════════╪═══╪═══════════╪═══════════╪═══════════╪═════════╡\n",
       "│ AAGP_70601 ┆ 2.196793 ┆ 2007-06-24 ┆ SAN JUAN  ┆ … ┆ null      ┆ 20; 20;   ┆ GLDU03939 ┆ 009669  │\n",
       "│ 42         ┆          ┆ 00:00:00   ┆           ┆   ┆           ┆ 20; 20;   ┆ 95 INBU38 ┆         │\n",
       "│            ┆          ┆            ┆           ┆   ┆           ┆ 20        ┆ 28580     ┆         │\n",
       "│            ┆          ┆            ┆           ┆   ┆           ┆           ┆ POCU0120… ┆         │\n",
       "│ AAGP_70601 ┆ 2.196793 ┆ 2007-06-24 ┆ SAN JUAN  ┆ … ┆ null      ┆ 20; 20;   ┆ GLDU03939 ┆ 690790  │\n",
       "│ 42         ┆          ┆ 00:00:00   ┆           ┆   ┆           ┆ 20; 20;   ┆ 95 INBU38 ┆         │\n",
       "│            ┆          ┆            ┆           ┆   ┆           ┆ 20        ┆ 28580     ┆         │\n",
       "│            ┆          ┆            ┆           ┆   ┆           ┆           ┆ POCU0120… ┆         │\n",
       "│ AAGP_71103 ┆ 2.196793 ┆ 2007-12-17 ┆ SAN JUAN  ┆ … ┆ null      ┆ 20; 20;   ┆ MEDU18265 ┆ 009669  │\n",
       "│ 12         ┆          ┆ 00:00:00   ┆           ┆   ┆           ┆ 20        ┆ 20 MSCU29 ┆         │\n",
       "│            ┆          ┆            ┆           ┆   ┆           ┆           ┆ 78808     ┆         │\n",
       "│            ┆          ┆            ┆           ┆   ┆           ┆           ┆ MSCU3892… ┆         │\n",
       "│ AAGP_71103 ┆ 2.196793 ┆ 2007-12-17 ┆ SAN JUAN  ┆ … ┆ null      ┆ 20; 20;   ┆ MEDU18265 ┆ 691490  │\n",
       "│ 12         ┆          ┆ 00:00:00   ┆           ┆   ┆           ┆ 20        ┆ 20 MSCU29 ┆         │\n",
       "│            ┆          ┆            ┆           ┆   ┆           ┆           ┆ 78808     ┆         │\n",
       "│            ┆          ┆            ┆           ┆   ┆           ┆           ┆ MSCU3892… ┆         │\n",
       "│ AAGP_71103 ┆ 2.196793 ┆ 2007-12-17 ┆ SAN JUAN  ┆ … ┆ null      ┆ 20; 20;   ┆ MEDU18265 ┆ 690790  │\n",
       "│ 12         ┆          ┆ 00:00:00   ┆           ┆   ┆           ┆ 20        ┆ 20 MSCU29 ┆         │\n",
       "│            ┆          ┆            ┆           ┆   ┆           ┆           ┆ 78808     ┆         │\n",
       "│            ┆          ┆            ┆           ┆   ┆           ┆           ┆ MSCU3892… ┆         │\n",
       "└────────────┴──────────┴────────────┴───────────┴───┴───────────┴───────────┴───────────┴─────────┘"
      ]
     },
     "execution_count": 42,
     "metadata": {},
     "output_type": "execute_result"
    }
   ],
   "source": [
    "df_long = df2.explode('hs_code')\n",
    "df_long.head()"
   ]
  },
  {
   "cell_type": "code",
   "execution_count": 46,
   "metadata": {},
   "outputs": [
    {
     "data": {
      "text/html": [
       "<div><style>\n",
       ".dataframe > thead > tr,\n",
       ".dataframe > tbody > tr {\n",
       "  text-align: right;\n",
       "  white-space: pre-wrap;\n",
       "}\n",
       "</style>\n",
       "<small>shape: (1, 9)</small><table border=\"1\" class=\"dataframe\"><thead><tr><th>bol_id</th><th>teus</th><th>date_arrival</th><th>arrival_port_name</th><th>lane_name</th><th>container_id_marks</th><th>marks_desc</th><th>container_ids</th><th>hs_code</th></tr><tr><td>str</td><td>f64</td><td>datetime[μs]</td><td>cat</td><td>cat</td><td>str</td><td>str</td><td>str</td><td>list[str]</td></tr></thead><tbody><tr><td>&quot;HAPL_NPSHA8100…</td><td>2.196793</td><td>2008-11-03 00:00:00</td><td>&quot;SEATTLE&quot;</td><td>&quot;Shanghai — Sea…</td><td>null</td><td>&quot;LC; LC&quot;</td><td>&quot;CLHU8481666 HL…</td><td>[&quot;1&quot;, &quot;25&quot;, &quot;0&quot;]</td></tr></tbody></table></div>"
      ],
      "text/plain": [
       "shape: (1, 9)\n",
       "┌───────────┬──────────┬───────────┬───────────┬───┬───────────┬───────────┬───────────┬───────────┐\n",
       "│ bol_id    ┆ teus     ┆ date_arri ┆ arrival_p ┆ … ┆ container ┆ marks_des ┆ container ┆ hs_code   │\n",
       "│ ---       ┆ ---      ┆ val       ┆ ort_name  ┆   ┆ _id_marks ┆ c         ┆ _ids      ┆ ---       │\n",
       "│ str       ┆ f64      ┆ ---       ┆ ---       ┆   ┆ ---       ┆ ---       ┆ ---       ┆ list[str] │\n",
       "│           ┆          ┆ datetime[ ┆ cat       ┆   ┆ str       ┆ str       ┆ str       ┆           │\n",
       "│           ┆          ┆ μs]       ┆           ┆   ┆           ┆           ┆           ┆           │\n",
       "╞═══════════╪══════════╪═══════════╪═══════════╪═══╪═══════════╪═══════════╪═══════════╪═══════════╡\n",
       "│ HAPL_NPSH ┆ 2.196793 ┆ 2008-11-0 ┆ SEATTLE   ┆ … ┆ null      ┆ LC; LC    ┆ CLHU84816 ┆ [\"1\",     │\n",
       "│ A810064A  ┆          ┆ 3         ┆           ┆   ┆           ┆           ┆ 66 HLXU42 ┆ \"25\",     │\n",
       "│           ┆          ┆ 00:00:00  ┆           ┆   ┆           ┆           ┆ 86147     ┆ \"0\"]      │\n",
       "└───────────┴──────────┴───────────┴───────────┴───┴───────────┴───────────┴───────────┴───────────┘"
      ]
     },
     "execution_count": 46,
     "metadata": {},
     "output_type": "execute_result"
    }
   ],
   "source": [
    "df_long.with_columns(pl.col('hs_code').cast(pl.Utf8).str.split(by='/')).filter(pl.col('hs_code').list.len()>1)"
   ]
  },
  {
   "cell_type": "code",
   "execution_count": null,
   "metadata": {},
   "outputs": [],
   "source": []
  },
  {
   "cell_type": "markdown",
   "metadata": {},
   "source": [
    "## Export Clean data to parquet\n"
   ]
  },
  {
   "cell_type": "code",
   "execution_count": null,
   "metadata": {},
   "outputs": [],
   "source": [
    "#piers_lf.sink_parquet('data/piers_clean.parquet') -- NOTE the above queries are apparently not supported for sinking at this time. "
   ]
  }
 ],
 "metadata": {
  "kernelspec": {
   "display_name": "wsu",
   "language": "python",
   "name": "python3"
  },
  "language_info": {
   "codemirror_mode": {
    "name": "ipython",
    "version": 3
   },
   "file_extension": ".py",
   "mimetype": "text/x-python",
   "name": "python",
   "nbconvert_exporter": "python",
   "pygments_lexer": "ipython3",
   "version": "3.12.0"
  }
 },
 "nbformat": 4,
 "nbformat_minor": 2
}
