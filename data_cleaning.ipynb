{
 "cells": [
  {
   "cell_type": "markdown",
   "metadata": {},
   "source": [
    "# PIERS Data Cleaning\n",
    "\n",
    "This notebook addresses missing data and other issues in the PIERS BOL data. This work is predominantly exploratory in nature, and some of these processes may eventually move to the ETL step. "
   ]
  },
  {
   "cell_type": "code",
   "execution_count": 1,
   "metadata": {},
   "outputs": [],
   "source": [
    "import pandas as pd #v2.1.3\n",
    "import polars as pl #v0.20.7\n",
    "import plotly_express as px #v0.4.1 \n",
    "import missingno as msno #v0.5.2\n",
    "import datetime as dt\n",
    "from polars.testing import assert_frame_equal\n",
    "\n",
    "\n",
    "#display settings\n",
    "pd.set_option('display.max_columns', None)\n",
    "\n",
    "#enable string cache for polars categoricals\n",
    "pl.enable_string_cache()"
   ]
  },
  {
   "cell_type": "markdown",
   "metadata": {},
   "source": [
    "Convenience steps:\n",
    "- create 2-digit hs codes (note this naievely takes the first two digits from the column, which contains multiple hs codes)\n",
    "- create year and month (e.g., 202305) columns \n",
    "- replace zero values with nulls in volume columns\n",
    "- create lane_id and lane_name columns\n",
    "- create voyage_id from year, vessel IMO code, voyage number, and origin/destination country \n",
    "    - this method turns out to be problematic, due to multiple voyage numbers occuring within vessel-date-port groups.\n",
    "- add direction column showing 'import' or 'export' to allow easy merging\n",
    "- get most commonly used SCAC and name for each carrier"
   ]
  },
  {
   "cell_type": "code",
   "execution_count": 2,
   "metadata": {},
   "outputs": [],
   "source": [
    "#set paths\n",
    "imports_path = 'data/raw_parquet/imports/'\n",
    "exports_path = 'data/raw_parquet/exports/'\n",
    "#init lazy dataframes\n",
    "imports_lf = (\n",
    "    pl.scan_parquet(imports_path+'*.parquet', parallel='columns')\n",
    "    .with_columns([\n",
    "        #create 2-digit hs code\n",
    "        pl.col('hs_code').str.slice(0, length=2).alias('hs_2d'),\n",
    "        #create year and month columns\n",
    "        pl.col('date_arrival').dt.year().alias('year'),\n",
    "        pl.col('date_arrival').dt.strftime('%Y%m').alias('month'),\n",
    "        #convert zero volume values to null\n",
    "        pl.col('teus').replace(0,None),\n",
    "        pl.col('weight').replace(0,None),\n",
    "        pl.col('qty').replace(0,None),\n",
    "        #create direction column\n",
    "        pl.lit('import').cast(pl.Categorical).alias('direction'), \n",
    "        #create lane_id\n",
    "        (pl.col('departure_port_code').cast(pl.Utf8)+'_'+pl.col('arrival_port_code').cast(pl.Utf8))\n",
    "        .cast(pl.Categorical)\n",
    "        .alias('lane_id')\n",
    "        ])\n",
    "    #get lane name \n",
    "    .with_columns(\n",
    "            pl.col('departure_port_name').drop_nulls().mode().first().over('lane_id').alias('best_departure_port_name'),\n",
    "            pl.col('arrival_port_name').drop_nulls().mode().first().over('lane_id').alias('best_arrival_port_name')\n",
    "        )\n",
    "        .with_columns(\n",
    "            (pl.col('best_departure_port_name').cast(pl.Utf8)+' — '+pl.col('best_arrival_port_name').cast(pl.Utf8))\n",
    "            .str.to_titlecase()\n",
    "            .cast(pl.Categorical)\n",
    "            .alias('lane_name')\n",
    "        )\n",
    "        .drop('best_departure_port_name', 'best_arrival_port_name')\n",
    "    #get most commonly used carrier name for each scac and vise-versa to normalize changes in names and codes \n",
    "    .with_columns(\n",
    "        pl.col('carrier_name').drop_nulls().mode().first().over('carrier_scac')\n",
    "        .alias('unified_carrier_name')\n",
    "    )\n",
    "    .with_columns(\n",
    "        pl.col('carrier_scac').drop_nulls().mode().first().over('unified_carrier_name')\n",
    "        .alias('unified_carrier_scac')\n",
    "    )\n",
    "    .with_columns(\n",
    "        #create voyage_id from year, vessel IMO, voyage number, and origin country\n",
    "        (pl.col('year').cast(pl.Utf8)+'_'+\n",
    "         pl.col('vessel_id').cast(pl.Utf8)+'_'+\n",
    "         pl.col('voyage_number').cast(pl.Utf8)+'_'+\n",
    "         pl.col('origin_territory').cast(pl.Utf8))\n",
    "        .cast(pl.Categorical).alias('voyage_id')\n",
    "    )\n",
    ")\n",
    "exports_lf = (\n",
    "    pl.scan_parquet(exports_path+'piers_exports_complete.parquet', parallel='columns')\n",
    "    .with_columns([\n",
    "        #create 2-digit hs code\n",
    "        pl.col('hs_code').str.slice(0, length=2).alias('hs_2d'),\n",
    "        #create year and month columns\n",
    "        pl.col('date_departure').dt.year().alias('year'),\n",
    "        pl.col('date_departure').dt.strftime('%Y%m').alias('month'),\n",
    "        #convert zero volume values to null\n",
    "        pl.col('teus').replace(0,None),\n",
    "        pl.col('weight').replace(0,None),\n",
    "        pl.col('qty').replace(0,None),\n",
    "        #create direction column\n",
    "        pl.lit('export').cast(pl.Categorical).alias('direction'),\n",
    "        #create lane_id\n",
    "        (pl.col('departure_port_code').cast(pl.Utf8)+'_'+pl.col('arrival_port_code').cast(pl.Utf8))\n",
    "        .cast(pl.Categorical)\n",
    "        .alias('lane_id')\n",
    "        ])\n",
    "    #get lane name \n",
    "    .with_columns(\n",
    "            pl.col('departure_port_name').drop_nulls().mode().first().over('lane_id').alias('best_departure_port_name'),\n",
    "            pl.col('arrival_port_name').drop_nulls().mode().first().over('lane_id').alias('best_arrival_port_name')\n",
    "        )\n",
    "        .with_columns(\n",
    "            (pl.col('best_departure_port_name').cast(pl.Utf8)+' — '+pl.col('best_arrival_port_name').cast(pl.Utf8))\n",
    "            .str.to_titlecase()\n",
    "            .cast(pl.Categorical)\n",
    "            .alias('lane_name')\n",
    "        )\n",
    "        .drop('best_departure_port_name', 'best_arrival_port_name')\n",
    "    #get most commonly used carrier name and scac \n",
    "    .with_columns(\n",
    "        pl.col('carrier_name').drop_nulls().mode().first().over('carrier_scac')\n",
    "        .alias('unified_carrier_name')\n",
    "    )\n",
    "    .with_columns(\n",
    "        pl.col('carrier_scac').drop_nulls().mode().first().over('unified_carrier_name')\n",
    "        .alias('unified_carrier_scac')\n",
    "    )\n",
    "    .with_columns(\n",
    "        #create voyage_id from year, vessel IMO, voyage number, and origin country\n",
    "        (pl.col('year').cast(pl.Utf8)+'_'+\n",
    "         pl.col('vessel_id').cast(pl.Utf8)+'_'+\n",
    "         pl.col('voyage_number').cast(pl.Utf8)+'_'+\n",
    "         pl.col('dest_territory').cast(pl.Utf8))\n",
    "        .cast(pl.Categorical).alias('voyage_id')\n",
    "    )\n",
    ")"
   ]
  },
  {
   "cell_type": "code",
   "execution_count": 3,
   "metadata": {},
   "outputs": [
    {
     "data": {
      "text/plain": [
       "OrderedDict([('weight', Float64),\n",
       "             ('weight_unit', Categorical(ordering='physical')),\n",
       "             ('qty', Float64),\n",
       "             ('qty_type', Categorical(ordering='physical')),\n",
       "             ('teus', Float64),\n",
       "             ('value_est', Float64),\n",
       "             ('date_arrival', Datetime(time_unit='us', time_zone=None)),\n",
       "             ('container_piece_count', Int32),\n",
       "             ('commod_short_desc_qty', String),\n",
       "             ('origin_territory', Categorical(ordering='physical')),\n",
       "             ('origin_region', Categorical(ordering='physical')),\n",
       "             ('arrival_port_code', Categorical(ordering='physical')),\n",
       "             ('arrival_port_name', Categorical(ordering='physical')),\n",
       "             ('departure_port_code', Categorical(ordering='physical')),\n",
       "             ('departure_port_name', Categorical(ordering='physical')),\n",
       "             ('dest_final', Categorical(ordering='physical')),\n",
       "             ('coast_region', Categorical(ordering='physical')),\n",
       "             ('clearing_district', Categorical(ordering='physical')),\n",
       "             ('place_receipt', Categorical(ordering='physical')),\n",
       "             ('shipper_name', String),\n",
       "             ('shipper_address', String),\n",
       "             ('consignee_name', String),\n",
       "             ('consignee_address', String),\n",
       "             ('notify_party1_name', String),\n",
       "             ('notify_party1_address', String),\n",
       "             ('notify_party2_name', String),\n",
       "             ('notify_party2_address', String),\n",
       "             ('commod_desc_raw', String),\n",
       "             ('container_id_marks', String),\n",
       "             ('marks_desc', String),\n",
       "             ('hs_code', String),\n",
       "             ('joc_code', String),\n",
       "             ('commod_short_desc', String),\n",
       "             ('container_ids', String),\n",
       "             ('carrier_name', Categorical(ordering='physical')),\n",
       "             ('carrier_scac', Categorical(ordering='physical')),\n",
       "             ('vessel_name', String),\n",
       "             ('voyage_number', String),\n",
       "             ('precarrier', Float64),\n",
       "             ('vessel_id', Int32),\n",
       "             ('inbond_code', Float64),\n",
       "             ('transport_mode', Categorical(ordering='physical')),\n",
       "             ('bol_number', String),\n",
       "             ('bol_id', String),\n",
       "             ('hs_2d', String),\n",
       "             ('year', Int32),\n",
       "             ('month', String),\n",
       "             ('direction', Categorical(ordering='physical')),\n",
       "             ('lane_id', Categorical(ordering='physical')),\n",
       "             ('lane_name', Categorical(ordering='physical')),\n",
       "             ('unified_carrier_name', Categorical(ordering='physical')),\n",
       "             ('unified_carrier_scac', Categorical(ordering='physical')),\n",
       "             ('voyage_id', Categorical(ordering='physical'))])"
      ]
     },
     "execution_count": 3,
     "metadata": {},
     "output_type": "execute_result"
    }
   ],
   "source": [
    "imports_lf.schema"
   ]
  },
  {
   "cell_type": "code",
   "execution_count": 4,
   "metadata": {},
   "outputs": [
    {
     "data": {
      "text/plain": [
       "OrderedDict([('shipper', String),\n",
       "             ('shipper_address', String),\n",
       "             ('weight', Float64),\n",
       "             ('weight_unit', Categorical(ordering='physical')),\n",
       "             ('qty', Float64),\n",
       "             ('quantity_type', Categorical(ordering='physical')),\n",
       "             ('teus', Float64),\n",
       "             ('carrier_name', Categorical(ordering='physical')),\n",
       "             ('carrier_scac', Categorical(ordering='physical')),\n",
       "             ('vessel_name', String),\n",
       "             ('voyage_number', String),\n",
       "             ('bol_number', String),\n",
       "             ('vessel_id', Int32),\n",
       "             ('value_est', Float64),\n",
       "             ('departure_port_code', Categorical(ordering='physical')),\n",
       "             ('departure_port_name', Categorical(ordering='physical')),\n",
       "             ('container_ids', String),\n",
       "             ('container_piece_count', Int32),\n",
       "             ('coast_region', Categorical(ordering='physical')),\n",
       "             ('commod_desc_raw', String),\n",
       "             ('commod_short_desc', String),\n",
       "             ('hs_code', String),\n",
       "             ('joc_code', String),\n",
       "             ('commod_short_desc_qty', String),\n",
       "             ('date_departure', Datetime(time_unit='us', time_zone=None)),\n",
       "             ('origin', String),\n",
       "             ('dest_territory', Categorical(ordering='physical')),\n",
       "             ('dest_region', Categorical(ordering='physical')),\n",
       "             ('arrival_port_code', Categorical(ordering='physical')),\n",
       "             ('arrival_port_name', Categorical(ordering='physical')),\n",
       "             ('bol_id', String),\n",
       "             ('hs_2d', String),\n",
       "             ('year', Int32),\n",
       "             ('month', String),\n",
       "             ('direction', Categorical(ordering='physical')),\n",
       "             ('lane_id', Categorical(ordering='physical')),\n",
       "             ('lane_name', Categorical(ordering='physical')),\n",
       "             ('unified_carrier_name', Categorical(ordering='physical')),\n",
       "             ('unified_carrier_scac', Categorical(ordering='physical')),\n",
       "             ('voyage_id', Categorical(ordering='physical'))])"
      ]
     },
     "execution_count": 4,
     "metadata": {},
     "output_type": "execute_result"
    }
   ],
   "source": [
    "exports_lf.schema"
   ]
  },
  {
   "cell_type": "code",
   "execution_count": 18,
   "metadata": {},
   "outputs": [
    {
     "data": {
      "text/html": [
       "<div><style>\n",
       ".dataframe > thead > tr,\n",
       ".dataframe > tbody > tr {\n",
       "  text-align: right;\n",
       "  white-space: pre-wrap;\n",
       "}\n",
       "</style>\n",
       "<small>shape: (6, 1)</small><table border=\"1\" class=\"dataframe\"><thead><tr><th>coast_region</th></tr><tr><td>cat</td></tr></thead><tbody><tr><td>null</td></tr><tr><td>&quot;WEST&quot;</td></tr><tr><td>&quot;CARIBBEAN&quot;</td></tr><tr><td>&quot;EAST&quot;</td></tr><tr><td>&quot;GREAT LAKES&quot;</td></tr><tr><td>&quot;GULF&quot;</td></tr></tbody></table></div>"
      ],
      "text/plain": [
       "shape: (6, 1)\n",
       "┌──────────────┐\n",
       "│ coast_region │\n",
       "│ ---          │\n",
       "│ cat          │\n",
       "╞══════════════╡\n",
       "│ null         │\n",
       "│ WEST         │\n",
       "│ CARIBBEAN    │\n",
       "│ EAST         │\n",
       "│ GREAT LAKES  │\n",
       "│ GULF         │\n",
       "└──────────────┘"
      ]
     },
     "execution_count": 18,
     "metadata": {},
     "output_type": "execute_result"
    }
   ],
   "source": [
    "exports_lf.select('coast_region').unique().collect()"
   ]
  },
  {
   "cell_type": "markdown",
   "metadata": {},
   "source": [
    "## Notebook functions"
   ]
  },
  {
   "cell_type": "code",
   "execution_count": 10,
   "metadata": {},
   "outputs": [],
   "source": [
    "#fill nulls in volume cols with mean\n",
    "def fill_volume(lf):\n",
    "    '''ad hod function to fill volume columns with their means'''\n",
    "    return (\n",
    "        lf\n",
    "        .with_columns([\n",
    "            pl.col('teus').replace(0,None).fill_null(strategy='mean'),\n",
    "            pl.col('weight').replace(0,None).fill_null(strategy='mean'),\n",
    "            pl.col('qty').replace(0,None).fill_null(strategy='mean')\n",
    "            ])\n",
    "        )\n",
    "\n",
    "#plotly graph inspecting nulls over time by group\n",
    "def nulls_over_time_plotly(data_lf, group_var, time_var, value_var, title=False):\n",
    "    '''\n",
    "    Plots proportion of null values over time by group.\n",
    "    INPUTS:\n",
    "        data_lf - polars lazyframe containing the relevant data\n",
    "        group_var - str - the name of the column by which to group\n",
    "        time_var - str - the name of the time column (e.g., year, month) over which values will be counted\n",
    "        value_var - str - the name of the column containing the variable in question\n",
    "        title (default=False) - str - the title of the graph\n",
    "    OUTPUT:\n",
    "        a plotly express figure\n",
    "    DEPENDS ON:\n",
    "        polars\n",
    "        plotly express \n",
    "    '''\n",
    "    df = (\n",
    "        #select relevant columns\n",
    "        data_lf.select([group_var, time_var, value_var])\n",
    "        #group by, creating null count and non-null count cols\n",
    "        .group_by(group_var, time_var)\n",
    "        .agg([pl.col(value_var).null_count().alias('null_count'),\n",
    "                pl.col(value_var).count().alias('count')])\n",
    "        #compute percent null and fill new column\n",
    "        .with_columns((pl.col('null_count')/(pl.col('count')+pl.col('null_count'))).alias('null_percent'))\n",
    "        #cast group col to string to allow sensible ordering of legend\n",
    "        .cast({group_var:pl.Utf8})\n",
    "        #sort by date (to allow proper visualization of lines) and group (for legend ordering) \n",
    "        .sort(time_var, group_var)\n",
    "    ).collect()\n",
    "    #plot\n",
    "    fig = px.line(\n",
    "        data_frame=df,\n",
    "        x=time_var, y='null_percent',\n",
    "        color=group_var,\n",
    "        title= 'Count of nulls over time by source frame.' if not title else title\n",
    "    )\n",
    "    fig.show()\n",
    "    del df\n",
    "\n",
    "#plotly graph inspecting nulls by group\n",
    "def nulls_by_group_plotly(data_lf, group_var, value_var, title=False):\n",
    "    '''Plots proportion of null values in the given groups'''\n",
    "    df = (\n",
    "        data_lf.select([group_var, value_var])\n",
    "        .group_by(group_var)\n",
    "        .agg([pl.col(value_var).null_count().alias('null_count'),\n",
    "                pl.col(value_var).count().alias('count')])\n",
    "        .with_columns((pl.col('null_count')/(pl.col('count')+pl.col('null_count'))).alias('null_percent'))\n",
    "        .cast({group_var:pl.Utf8})\n",
    "        .sort('null_percent', descending=True)\n",
    "    ).collect()\n",
    "    #plot\n",
    "    fig = px.bar(\n",
    "        data_frame=df,\n",
    "        x=group_var, y='null_percent',\n",
    "        title= 'Null percent by group.' if not title else title\n",
    "    )\n",
    "    fig.show()\n",
    "\n",
    "#fill nulls over groups given a single unique value per group\n",
    "def fill_nulls_by_group(data_lf, group_vars, val_var):\n",
    "    '''Fills null values by group if and only if the val_var for that group contains exactly one non-null unique value.\n",
    "    INPUTS:\n",
    "        data_lf - polars lazyframe containing the relevant data\n",
    "        group_vars - iterable - the names of the columns by which groups will be created\n",
    "        val_var - string - the name of the column in which nulls will be filled\n",
    "    OUTPUT:\n",
    "        filled_lf - the resultant lazyframe \n",
    "    DEPENDS ON:\n",
    "        polars - current version written in polars 0.20.1\n",
    "    '''\n",
    "    filled_lf = (\n",
    "        data_lf.with_columns(\n",
    "            #if the group contains exactly one unique value: \n",
    "            pl.when(pl.col(val_var).drop_nulls().unique(maintain_order=True).len().over(group_vars)==1)\n",
    "            #then fill the group with that value\n",
    "            .then(pl.col(val_var).fill_null(pl.col(val_var).drop_nulls().unique(maintain_order=True).first().over(group_vars)))\n",
    "            #otherwise do nothing\n",
    "            .otherwise(pl.col(val_var))\n",
    "            )\n",
    "        )\n",
    "    return filled_lf\n",
    "\n",
    "def is_one2one(lf, col1, col2):\n",
    "    '''checks if the two pl.LazyFrame columns constitute a 1-1 pairing'''\n",
    "    forward = lf.group_by(col1).agg(pl.col(col2).drop_nulls().n_unique()).select(col2).max().collect().item() == 1\n",
    "    back = lf.group_by(col2).agg(pl.col(col1).drop_nulls().n_unique()).select(col1).max().collect().item() == 1\n",
    "    return (forward and back)\n",
    "\n",
    "def count_unique_by_group(lf, group_vars, val_var):\n",
    "    '''returns a dataframe of unique observations for the value variable over each group'''\n",
    "    df = (\n",
    "        lf.group_by(group_vars)\n",
    "        .agg(\n",
    "            pl.col(val_var).unique().alias('unique_values'),\n",
    "            pl.col(val_var).n_unique().alias('n_unique')\n",
    "        )\n",
    "        .drop_nulls()\n",
    "        .sort('n_unique', descending=True)\n",
    "        .collect()\n",
    "    )\n",
    "    return df\n",
    "\n",
    "def add_primary_carrier(lf):\n",
    "    '''alternative ad hoc function to find primary carrier for each vessel and indicate cargo sharing'''\n",
    "    lf = (\n",
    "        lf.with_columns(\n",
    "            pl.col('teus').sum()\n",
    "            .over('vessel_id', 'month', 'unified_carrier_scac')\n",
    "            .alias('sum_teus')\n",
    "            )\n",
    "        .with_columns(\n",
    "            pl.col('unified_carrier_scac')\n",
    "            .sort_by('sum_teus', descending=True)\n",
    "            .drop_nulls().first()\n",
    "            .over('vessel_id', 'month')\n",
    "            .alias('vessel_owner')\n",
    "            )\n",
    "        #add bool col if bol is from primary carrier\n",
    "        .with_columns(\n",
    "            (pl.col('unified_carrier_scac')==pl.col('vessel_owner'))\n",
    "            .alias('primary_cargo')\n",
    "            )\n",
    "    )\n",
    "    return lf\n",
    "\n",
    "def sharing_over_time_plotly(data_lf, group_var, include_missing_voyages=True, limit=10, title=False):\n",
    "    '''\n",
    "    Plots proportion of shared cargo over time (months) by group_var.\n",
    "    INPUTS:\n",
    "        data_lf - polars lazyframe containing the relevant data\n",
    "        group_var - str - the name of the column by which to group\n",
    "        include_missing_voyages - bool - default=True, when False, drops missing voyages\n",
    "        title (default=False) - str - the title of the graph\n",
    "    OUTPUT:\n",
    "        a plotly express figure\n",
    "    DEPENDS ON:\n",
    "        polars\n",
    "        plotly express \n",
    "    '''\n",
    "    if not include_missing_voyages:\n",
    "        df = data_lf.drop_nulls('voyage_id')\n",
    "    else:\n",
    "        df = data_lf\n",
    "    \n",
    "    df = (\n",
    "        #select relevant columns\n",
    "        df.select([group_var, 'month', 'primary_cargo', 'teus'])\n",
    "        #sum teus over each group-month-shared \n",
    "        .group_by(group_var, 'month')\n",
    "        .agg(\n",
    "            (pl.col('teus')*pl.col('primary_cargo')).sum().alias('total_primary'),\n",
    "            pl.col('teus').sum().alias('total_teus')\n",
    "        )\n",
    "        #create proportion shared\n",
    "        .with_columns((1-(pl.col('total_primary')/pl.col('total_teus'))).alias('prop_shared'))\n",
    "        #cast group col to string to allow sensible ordering of legend\n",
    "        .cast({group_var:pl.Utf8})\n",
    "        #sort by date (to allow proper visualization of lines) and group (for legend ordering) \n",
    "        .sort('month')\n",
    "    ).collect()\n",
    "\n",
    "    #limit categories\n",
    "    top_groups = (\n",
    "        data_lf.group_by(group_var)\n",
    "        .agg(pl.col('teus').sum())\n",
    "        .sort('teus', descending=True)\n",
    "        .select(group_var)\n",
    "        .limit(limit)\n",
    "        .collect()\n",
    "        .to_series()\n",
    "        .cast(pl.Utf8)\n",
    "    )\n",
    "    \n",
    "    #plot\n",
    "    fig = px.line(\n",
    "        data_frame=df.filter(pl.col(group_var).is_in(top_groups)).with_columns(pl.col('month').str.to_datetime('%Y%m')),\n",
    "        x='month', y='prop_shared',\n",
    "        color=group_var,\n",
    "        title= 'Proportion of shared cargo over time.' if not title else title,\n",
    "        labels={\n",
    "            'prop_shared':'Proportion of cargo from non-primary carrier',\n",
    "            'month':'Month'\n",
    "        }\n",
    "    )\n",
    "    fig.show()\n"
   ]
  },
  {
   "cell_type": "markdown",
   "metadata": {},
   "source": [
    "## Missing Data\n"
   ]
  },
  {
   "cell_type": "code",
   "execution_count": null,
   "metadata": {},
   "outputs": [],
   "source": [
    "print('Missing Values Matrix for Exports. \\nThe vertical axis corresponds to date, with earliest at the top.  \\nNote the daily aggregation counts the row as non-null if any value that day is non-null.')\n",
    "msno.matrix(\n",
    "    exports_lf\n",
    "    #convert all columns except date to boolean False=null\n",
    "    .with_columns(pl.all().exclude('date_departure').is_not_null())\n",
    "    #aggregate by day to stay within visualization limitations \n",
    "    .group_by('date_departure').sum()\n",
    "    .sort('date_departure')\n",
    "    #convert False values back to null \n",
    "    .with_columns(pl.all().replace(0,None))\n",
    "    .collect()\n",
    "    .to_pandas()\n",
    "    );"
   ]
  },
  {
   "cell_type": "code",
   "execution_count": null,
   "metadata": {},
   "outputs": [],
   "source": [
    "print('Missing Values Matrix for Imports. \\nThe vertical axis corresponds to date, with earliest at the top. \\nNote the daily aggregation counts the row as non-null if any value that day is non-null.')\n",
    "msno.matrix(\n",
    "    imports_lf\n",
    "    #convert all columns except date to boolean False=null\n",
    "    .with_columns(pl.all().exclude('date_arrival').is_not_null())\n",
    "    #aggregate by day to stay within visualization limitations \n",
    "    .group_by('date_arrival').sum()\n",
    "    .sort('date_arrival')\n",
    "    #convert False values back to null \n",
    "    .with_columns(pl.all().replace(0,None))\n",
    "    .collect()\n",
    "    .to_pandas()\n",
    "    );"
   ]
  },
  {
   "cell_type": "markdown",
   "metadata": {},
   "source": [
    "### Zero values in TEU and other volume columns\n",
    "\n",
    "For the time being, we fill the zero (i.e., missing) volume data with the mean from non-zero observations. This step is expected to change as beter metadata is gathered. "
   ]
  },
  {
   "cell_type": "code",
   "execution_count": 6,
   "metadata": {},
   "outputs": [],
   "source": [
    "imports_lf = fill_volume(imports_lf)\n",
    "exports_lf = fill_volume(exports_lf)    "
   ]
  },
  {
   "cell_type": "markdown",
   "metadata": {},
   "source": [
    "### Missing Vessel and Voyage IDs\n",
    "\n",
    "Identifying unique vessels and voyages is critical to studying how long each vessel remains in port, how often carriers utilize alliances (e.g., what proportion of a vessel's cargo is from another carrier), and other quality metrics. The issue is especially concerning given the high proportion (~30% in some time periods) of missing data, as can be seen below."
   ]
  },
  {
   "cell_type": "code",
   "execution_count": 7,
   "metadata": {},
   "outputs": [
    {
     "data": {
      "application/vnd.plotly.v1+json": {
       "config": {
        "plotlyServerURL": "https://plot.ly"
       },
       "data": [
        {
         "hovertemplate": "direction=export<br>month=%{x}<br>null_percent=%{y}<extra></extra>",
         "legendgroup": "export",
         "line": {
          "color": "#636efa",
          "dash": "solid"
         },
         "marker": {
          "symbol": "circle"
         },
         "mode": "lines",
         "name": "export",
         "orientation": "v",
         "showlegend": true,
         "type": "scatter",
         "x": [
          "200501",
          "200502",
          "200503",
          "200504",
          "200505",
          "200506",
          "200507",
          "200508",
          "200509",
          "200510",
          "200511",
          "200512",
          "200601",
          "200602",
          "200603",
          "200604",
          "200605",
          "200606",
          "200607",
          "200608",
          "200609",
          "200610",
          "200611",
          "200612",
          "200701",
          "200702",
          "200703",
          "200704",
          "200705",
          "200706",
          "200707",
          "200708",
          "200709",
          "200710",
          "200711",
          "200712",
          "200801",
          "200802",
          "200803",
          "200804",
          "200805",
          "200806",
          "200807",
          "200808",
          "200809",
          "200810",
          "200811",
          "200812",
          "200901",
          "200902",
          "200903",
          "200904",
          "200905",
          "200906",
          "200907",
          "200908",
          "200909",
          "200910",
          "200911",
          "200912",
          "201001",
          "201002",
          "201003",
          "201004",
          "201005",
          "201006",
          "201007",
          "201008",
          "201009",
          "201010",
          "201011",
          "201012",
          "201101",
          "201102",
          "201103",
          "201104",
          "201105",
          "201106",
          "201107",
          "201108",
          "201109",
          "201110",
          "201111",
          "201112",
          "201201",
          "201202",
          "201203",
          "201204",
          "201205",
          "201206",
          "201207",
          "201208",
          "201209",
          "201210",
          "201211",
          "201212",
          "201301",
          "201302",
          "201303",
          "201304",
          "201305",
          "201306",
          "201307",
          "201308",
          "201309",
          "201310",
          "201311",
          "201312",
          "201401",
          "201402",
          "201403",
          "201404",
          "201405",
          "201406",
          "201407",
          "201408",
          "201409",
          "201410",
          "201411",
          "201412",
          "201501",
          "201502",
          "201503",
          "201504",
          "201505",
          "201506",
          "201507",
          "201508",
          "201509",
          "201510",
          "201511",
          "201512",
          "201601",
          "201602",
          "201603",
          "201604",
          "201605",
          "201606",
          "201607",
          "201608",
          "201609",
          "201610",
          "201611",
          "201612",
          "201701",
          "201702",
          "201703",
          "201704",
          "201705",
          "201706",
          "201707",
          "201708",
          "201709",
          "201710",
          "201711",
          "201712",
          "201801",
          "201802",
          "201803",
          "201804",
          "201805",
          "201806",
          "201807",
          "201808",
          "201809",
          "201810",
          "201811",
          "201812",
          "201901",
          "201902",
          "201903",
          "201904",
          "201905",
          "201906",
          "201907",
          "201908",
          "201909",
          "201910",
          "201911",
          "201912",
          "202001",
          "202002",
          "202003",
          "202004",
          "202005",
          "202006",
          "202007",
          "202008",
          "202009",
          "202010",
          "202011",
          "202012",
          "202101",
          "202102",
          "202103",
          "202104",
          "202105",
          "202106",
          "202107",
          "202108",
          "202109",
          "202110",
          "202111",
          "202112",
          "202201",
          "202202",
          "202203",
          "202204",
          "202205",
          "202206",
          "202207",
          "202208",
          "202209",
          "202210",
          "202211",
          "202212",
          "202301",
          "202302",
          "202303",
          "202304",
          "202305",
          "202306",
          "202307",
          "202308",
          "202309",
          "202310",
          "202311"
         ],
         "xaxis": "x",
         "y": [
          0.006237866395086089,
          0.0035582563647526474,
          0.003021670366804849,
          0.0036981267505636914,
          0.0033172241726085153,
          0.00442339260428806,
          0.003180847430426678,
          0.003936543568346611,
          0.0036574972268975945,
          0.005828732614692068,
          0.004228364391773909,
          0.006236615846837344,
          0.004659432284961069,
          0.0058340340210853115,
          0.003583100956493059,
          0.00428298983941793,
          0.0058343578853246895,
          0.005186939705573711,
          0.0064352078239608805,
          0.004360742110868225,
          0.004979576850704484,
          0.003960616863378503,
          0.0035997441504157556,
          0.003871687587168759,
          0.004114956283414719,
          0.0033219507075795372,
          0.003308702299229593,
          0.0029535882050680338,
          0.0026109270471871837,
          0.0017115703658106313,
          0.002961519803452107,
          0.0024602373405434408,
          0.0030534590210140617,
          0.0018521709166092351,
          0.005513038802760104,
          0.0025391288241286697,
          0.0027017744705208927,
          0.0024470473571540454,
          0.0034224861430217418,
          0.005305744806123307,
          0.003810435615126855,
          0.0026697580851390286,
          0.00434185303514377,
          0.0021739689727031824,
          0.0053139300881596754,
          0.004817424478355653,
          0.0062853954105679104,
          0.005978354814093402,
          0.003399133499575108,
          0.0036413743251485237,
          0.007646402063152598,
          0.004111980610840676,
          0.0042464468711132936,
          0.005520006479831524,
          0.005289474293386421,
          0.005790827817350343,
          0.0061997731593414354,
          0.007315470266819385,
          0.009409479409479409,
          0.05974082006872428,
          0.34605112272898797,
          0.2908672695906738,
          0.23926494449893076,
          0.2533285201622322,
          0.2302265382082191,
          0.22185323683900454,
          0.24430207331804846,
          0.2439210521457101,
          0.23637901486040847,
          0.23151830946785318,
          0.23625466113926724,
          0.22669576231096733,
          0.2046536607545889,
          0.22279935186113528,
          0.21293932242796199,
          0.22567670701747544,
          0.22956000632662985,
          0.23673267896459926,
          0.222694363379015,
          0.23865534037753627,
          0.23677888957121698,
          0.18985416771452493,
          0.21303473069692272,
          0.19249468804918224,
          0.16236121111691967,
          0.20273040827785355,
          0.17636200681600442,
          0.16733236431780507,
          0.17198099910035838,
          0.1891928251121076,
          0.180385547959344,
          0.16559320588987497,
          0.17713532376890267,
          0.16217849154595637,
          0.17347796993081263,
          0.14663659600060142,
          0.14605723830019593,
          0.160577018142271,
          0.13933129304157338,
          0.13751278580277962,
          0.16462217716027186,
          0.028425308492919986,
          0.0010120759777656621,
          0.0015675595272148929,
          0.0006864872730953933,
          0.0007814225287512528,
          0.0006736079253456596,
          0.0008701531016591134,
          0.0014027957588371217,
          0.0012141243128393647,
          0.0017823187171846176,
          0.0016318066554606315,
          0.0025142675793540055,
          0.0011314070092635845,
          0.0014926328530527689,
          0.00139652118624824,
          0.0017355335588794666,
          0.0023638499598402757,
          0.004530481676753778,
          0.06360912135634504,
          0.040003351829115005,
          0.0018829835959897538,
          0.004629629629629629,
          0.003953362906126363,
          0.0033654179473550415,
          0.0034243890507355225,
          0.004713711770477342,
          0.003842171151260374,
          0.0037986860551778028,
          0.0037884008170940486,
          0.0032700172912133838,
          0.006965164031473475,
          0.031949932919763266,
          0.030667613358781112,
          0.03383520897856551,
          0.03211243558507755,
          0.03040820619424131,
          0.03261087474661974,
          0.08386585986540745,
          0.03155186310372621,
          0.028167733602523025,
          0.030499022213001974,
          0.029995737463522524,
          0.025856286715271994,
          0.03978614449839476,
          0.03837990353391247,
          0.0419478527607362,
          0.04321225868998428,
          0.04654101601740047,
          0.043531304057539986,
          0.035496405192362426,
          0.035284029114029954,
          0.037532428375947176,
          0.048890979587182117,
          0.08619275186882913,
          0.17598242688709925,
          0.1928450158470849,
          0.17736161193181083,
          0.1772442627619116,
          0.16919961645799572,
          0.17318736336554036,
          0.15842392661283453,
          0.14036005829573217,
          0.15568963832148053,
          0.14563884484010564,
          0.1158974358974359,
          0.15017257167007114,
          0.1271882479936171,
          0.12501499146639605,
          0.12646099080391576,
          0.11785679687415906,
          0.16303883909517713,
          0.13172584122089454,
          0.10976642106913309,
          0.1284193830872582,
          0.128917266628129,
          0.09734683454915732,
          0.11562242314647378,
          0.12055735295860442,
          0.13350782872638264,
          0.12436739970855341,
          0.17923076451436876,
          0.11812628505021008,
          0.1500455356547879,
          0.158431518474501,
          0.11227433691729238,
          0.11123085952088779,
          0.10957380580989487,
          0.10431532892338143,
          0.1143857030107619,
          0.1152246668732569,
          0.1294986018078949,
          0.12799436051324503,
          0.11537025181391379,
          0.11968056955996145,
          0.14337706256532604,
          0.15983583163038143,
          0.12066350993970806,
          0.13733671458212246,
          0.09711911863360492,
          0.12868888190509017,
          0.1109965102998358,
          0.08922062083510204,
          0.08506823498353708,
          0.08274021352313167,
          0.08190202247191011,
          0.07406802857752721,
          0.094725891549241,
          0.059732864302175816,
          0.06258798745471916,
          0.062288119012639045,
          0.038275039194195094,
          0.033841498725967104,
          0.03517027309547633,
          0.02914565970435916,
          0.02543544373790434,
          0.02288850777053317,
          0.019466355263737717,
          0.016716351642775594,
          0.009817647862313891,
          0.01331645172189024,
          0.013595266833028502,
          0.008019220387339428,
          0.006470461438975196,
          0.003955136204090866,
          0.0037713136361558503,
          0.000038915805654466564
         ],
         "yaxis": "y"
        },
        {
         "hovertemplate": "direction=import<br>month=%{x}<br>null_percent=%{y}<extra></extra>",
         "legendgroup": "import",
         "line": {
          "color": "#EF553B",
          "dash": "solid"
         },
         "marker": {
          "symbol": "circle"
         },
         "mode": "lines",
         "name": "import",
         "orientation": "v",
         "showlegend": true,
         "type": "scatter",
         "x": [
          "200501",
          "200502",
          "200503",
          "200504",
          "200505",
          "200506",
          "200507",
          "200508",
          "200509",
          "200510",
          "200511",
          "200512",
          "200601",
          "200602",
          "200603",
          "200604",
          "200605",
          "200606",
          "200607",
          "200608",
          "200609",
          "200610",
          "200611",
          "200612",
          "200701",
          "200702",
          "200703",
          "200704",
          "200705",
          "200706",
          "200707",
          "200708",
          "200709",
          "200710",
          "200711",
          "200712",
          "200801",
          "200802",
          "200803",
          "200804",
          "200805",
          "200806",
          "200807",
          "200808",
          "200809",
          "200810",
          "200811",
          "200812",
          "200901",
          "200902",
          "200903",
          "200904",
          "200905",
          "200906",
          "200907",
          "200908",
          "200909",
          "200910",
          "200911",
          "200912",
          "201001",
          "201002",
          "201003",
          "201004",
          "201005",
          "201006",
          "201007",
          "201008",
          "201009",
          "201010",
          "201011",
          "201012",
          "201101",
          "201102",
          "201103",
          "201104",
          "201105",
          "201106",
          "201107",
          "201108",
          "201109",
          "201110",
          "201111",
          "201112",
          "201201",
          "201202",
          "201203",
          "201204",
          "201205",
          "201206",
          "201207",
          "201208",
          "201209",
          "201210",
          "201211",
          "201212",
          "201301",
          "201302",
          "201303",
          "201304",
          "201305",
          "201306",
          "201307",
          "201308",
          "201309",
          "201310",
          "201311",
          "201312",
          "201401",
          "201402",
          "201403",
          "201404",
          "201405",
          "201406",
          "201407",
          "201408",
          "201409",
          "201410",
          "201411",
          "201412",
          "201501",
          "201502",
          "201503",
          "201504",
          "201505",
          "201506",
          "201507",
          "201508",
          "201509",
          "201510",
          "201511",
          "201512",
          "201601",
          "201602",
          "201603",
          "201604",
          "201605",
          "201606",
          "201607",
          "201608",
          "201609",
          "201610",
          "201611",
          "201612",
          "201701",
          "201702",
          "201703",
          "201704",
          "201705",
          "201706",
          "201707",
          "201708",
          "201709",
          "201710",
          "201711",
          "201712",
          "201801",
          "201802",
          "201803",
          "201804",
          "201805",
          "201806",
          "201807",
          "201808",
          "201809",
          "201810",
          "201811",
          "201812",
          "201901",
          "201902",
          "201903",
          "201904",
          "201905",
          "201906",
          "201907",
          "201908",
          "201909",
          "201910",
          "201911",
          "201912",
          "202001",
          "202002",
          "202003",
          "202004",
          "202005",
          "202006",
          "202007",
          "202008",
          "202009",
          "202010",
          "202011",
          "202012",
          "202101",
          "202102",
          "202103",
          "202104",
          "202105",
          "202106",
          "202107",
          "202108",
          "202109",
          "202110",
          "202111",
          "202112",
          "202201",
          "202202",
          "202203",
          "202204",
          "202205",
          "202206",
          "202207",
          "202208",
          "202209",
          "202210",
          "202211",
          "202212",
          "202301",
          "202302",
          "202303",
          "202304",
          "202305",
          "202306",
          "202307",
          "202308",
          "202309",
          "202310",
          "202311"
         ],
         "xaxis": "x",
         "y": [
          0.004301813257183477,
          0.004892210442294447,
          0.0024617843425360246,
          0.002987291258063419,
          0.00240174672489083,
          0.0014568263442763924,
          0.0020580531351900356,
          0.0017129678363972172,
          0.0037774367255103054,
          0.003108904348900831,
          0.0033373020628045067,
          0.0014649853501464986,
          0.0014971355156727277,
          0.0020148392612654624,
          0.002990545212212087,
          0.001983863918720506,
          0.0018214116532449076,
          0.0014758875397308925,
          0.0018491149218175316,
          0.0016748934158735353,
          0.0024897707094881493,
          0.001421101707918747,
          0.0013115727737289498,
          0.001477351369126792,
          0.0013178244556153204,
          0.001199403932591076,
          0.0021058927614609163,
          0.0018454819118463328,
          0.0009362159538133462,
          0.0007955074667164387,
          0.0008214706101997489,
          0.001035418451870894,
          0.0012229877012484899,
          0.0012663317338223303,
          0.001157586500700232,
          0.001501728804732868,
          0.001846646977032948,
          0.0010657436936782664,
          0.0011162815719396402,
          0.0014182689091371305,
          0.0011936022917164002,
          0.001325969810747945,
          0.0017469954417959704,
          0.0012370544428281923,
          0.0021692515401459025,
          0.0011987019379774298,
          0.0017671621017050256,
          0.002743635343059337,
          0.0017470096043733752,
          0.0018392551521000124,
          0.001617244512512215,
          0.0018367919237240605,
          0.001247163328398381,
          0.0012026341298122724,
          0.0010533796989618499,
          0.0009471028272499242,
          0.001484695582619748,
          0.0014542884126239187,
          0.0015144392409356794,
          0.002952056089065692,
          0.14889499777108353,
          0.3149952450451117,
          0.24198736952205468,
          0.20448798942983185,
          0.16567030687881465,
          0.18129035787126638,
          0.18717205183287716,
          0.1810738210042951,
          0.19481516156468193,
          0.20006872614298885,
          0.1849683006339873,
          0.196245267326963,
          0.17771436942815555,
          0.18079337341606538,
          0.18539245719175537,
          0.17264159025482098,
          0.17682933879784932,
          0.17857754563089265,
          0.15613311107497155,
          0.16671429713175798,
          0.15204403113540388,
          0.16275804650008274,
          0.1292984815036035,
          0.13589541481150097,
          0.10641211741956001,
          0.13277718458085844,
          0.12072673949458243,
          0.10632368927990223,
          0.10906091984766854,
          0.10855048173212742,
          0.09731810623710628,
          0.10096652388846059,
          0.0940911180235734,
          0.09662067317151757,
          0.09496413754811095,
          0.0957659967394319,
          0.09134218390578613,
          0.09684409095544,
          0.09423282851460915,
          0.10206527573033872,
          0.10929994377822987,
          0.1091010664825258,
          0.020537679163659388,
          0.0029645712384895294,
          0.00045406333051281747,
          0.0005650504229822463,
          0.0003559702115902359,
          0.0005116821359292505,
          0.00332692600779512,
          0.004861055643602927,
          0.004071012759694608,
          0.002752280695184913,
          0.004292684971411207,
          0.003572274645294003,
          0.0034234110159070564,
          0.0043227114494472285,
          0.005173047985286741,
          0.0031568224791796167,
          0.002630345555927923,
          0.005243768596946679,
          0.055197456434491025,
          0.05580831987525756,
          0.0019745551894377648,
          0.002640218812490386,
          0.0010379320014881866,
          0.0011865650578605702,
          0.002975830162573504,
          0.0024595302265283843,
          0.0011815244183538156,
          0.001210965533265498,
          0.0011858584284078443,
          0.0013105515985167553,
          0.00824975153520038,
          0.008321356625274362,
          0.008583903276347945,
          0.0081035005903979,
          0.008836674082936523,
          0.010590964276267151,
          0.014951201934484886,
          0.20633445173019044,
          0.007096745511595095,
          0.007102970739334376,
          0.010266163206144926,
          0.007042423116487252,
          0.01634134902115192,
          0.03859159183757052,
          0.01731570093811231,
          0.019353576380338088,
          0.019711533821152684,
          0.018236525843673614,
          0.020994649702995322,
          0.026635146722560975,
          0.024472456390054444,
          0.03194133955219526,
          0.020980623600336864,
          0.08836409877849433,
          0.1864718950359817,
          0.1813314470529493,
          0.15618488088123716,
          0.15558794239487791,
          0.1648931330605128,
          0.13499249791324208,
          0.10981181370656089,
          0.13665232160470053,
          0.1506012586246114,
          0.1125327688795181,
          0.14025157299245747,
          0.12260045299225208,
          0.14125881478850955,
          0.11942554446540476,
          0.0927930375488702,
          0.14157923215721613,
          0.10455576287650262,
          0.07905360005502325,
          0.11270279065449133,
          0.11272419249524997,
          0.0830708876382154,
          0.08865987988226466,
          0.10363922202158232,
          0.08149855396855298,
          0.10622265584882408,
          0.10482597111765382,
          0.08417140358548317,
          0.07554936762353225,
          0.1444572224981775,
          0.06719003213090118,
          0.057283486427744196,
          0.06595223128016311,
          0.05156631416739589,
          0.08752920336146933,
          0.05910936148951146,
          0.13426868700767086,
          0.133061987226254,
          0.11732569672804591,
          0.10448466284872278,
          0.12658325365139644,
          0.13315683897425895,
          0.11113200816574484,
          0.12013660555788919,
          0.08815439979784306,
          0.07829539147272041,
          0.10207914765545828,
          0.07040065268793107,
          0.058964663294584795,
          0.05807452997798257,
          0.06089489481883002,
          0.05558086595072955,
          0.06174683907587812,
          0.045801017277951064,
          0.05285801300544984,
          0.03967837163152888,
          0.03533196996011861,
          0.05581811459888554,
          0.02198554473852983,
          0.015246716177032438,
          0.01914826167119174,
          0.0115472800000694,
          0.017109689196953128,
          0.005754786931496234,
          0.004877270866902403,
          0.006782546222445906,
          0.0018587132724952873,
          0.0008240027565372045,
          0.001868646557065591,
          0.0014786519062325405,
          0.001323845066652573,
          0.0001310078082700726
         ],
         "yaxis": "y"
        }
       ],
       "layout": {
        "legend": {
         "title": {
          "text": "direction"
         },
         "tracegroupgap": 0
        },
        "template": {
         "data": {
          "bar": [
           {
            "error_x": {
             "color": "#2a3f5f"
            },
            "error_y": {
             "color": "#2a3f5f"
            },
            "marker": {
             "line": {
              "color": "#E5ECF6",
              "width": 0.5
             },
             "pattern": {
              "fillmode": "overlay",
              "size": 10,
              "solidity": 0.2
             }
            },
            "type": "bar"
           }
          ],
          "barpolar": [
           {
            "marker": {
             "line": {
              "color": "#E5ECF6",
              "width": 0.5
             },
             "pattern": {
              "fillmode": "overlay",
              "size": 10,
              "solidity": 0.2
             }
            },
            "type": "barpolar"
           }
          ],
          "carpet": [
           {
            "aaxis": {
             "endlinecolor": "#2a3f5f",
             "gridcolor": "white",
             "linecolor": "white",
             "minorgridcolor": "white",
             "startlinecolor": "#2a3f5f"
            },
            "baxis": {
             "endlinecolor": "#2a3f5f",
             "gridcolor": "white",
             "linecolor": "white",
             "minorgridcolor": "white",
             "startlinecolor": "#2a3f5f"
            },
            "type": "carpet"
           }
          ],
          "choropleth": [
           {
            "colorbar": {
             "outlinewidth": 0,
             "ticks": ""
            },
            "type": "choropleth"
           }
          ],
          "contour": [
           {
            "colorbar": {
             "outlinewidth": 0,
             "ticks": ""
            },
            "colorscale": [
             [
              0,
              "#0d0887"
             ],
             [
              0.1111111111111111,
              "#46039f"
             ],
             [
              0.2222222222222222,
              "#7201a8"
             ],
             [
              0.3333333333333333,
              "#9c179e"
             ],
             [
              0.4444444444444444,
              "#bd3786"
             ],
             [
              0.5555555555555556,
              "#d8576b"
             ],
             [
              0.6666666666666666,
              "#ed7953"
             ],
             [
              0.7777777777777778,
              "#fb9f3a"
             ],
             [
              0.8888888888888888,
              "#fdca26"
             ],
             [
              1,
              "#f0f921"
             ]
            ],
            "type": "contour"
           }
          ],
          "contourcarpet": [
           {
            "colorbar": {
             "outlinewidth": 0,
             "ticks": ""
            },
            "type": "contourcarpet"
           }
          ],
          "heatmap": [
           {
            "colorbar": {
             "outlinewidth": 0,
             "ticks": ""
            },
            "colorscale": [
             [
              0,
              "#0d0887"
             ],
             [
              0.1111111111111111,
              "#46039f"
             ],
             [
              0.2222222222222222,
              "#7201a8"
             ],
             [
              0.3333333333333333,
              "#9c179e"
             ],
             [
              0.4444444444444444,
              "#bd3786"
             ],
             [
              0.5555555555555556,
              "#d8576b"
             ],
             [
              0.6666666666666666,
              "#ed7953"
             ],
             [
              0.7777777777777778,
              "#fb9f3a"
             ],
             [
              0.8888888888888888,
              "#fdca26"
             ],
             [
              1,
              "#f0f921"
             ]
            ],
            "type": "heatmap"
           }
          ],
          "heatmapgl": [
           {
            "colorbar": {
             "outlinewidth": 0,
             "ticks": ""
            },
            "colorscale": [
             [
              0,
              "#0d0887"
             ],
             [
              0.1111111111111111,
              "#46039f"
             ],
             [
              0.2222222222222222,
              "#7201a8"
             ],
             [
              0.3333333333333333,
              "#9c179e"
             ],
             [
              0.4444444444444444,
              "#bd3786"
             ],
             [
              0.5555555555555556,
              "#d8576b"
             ],
             [
              0.6666666666666666,
              "#ed7953"
             ],
             [
              0.7777777777777778,
              "#fb9f3a"
             ],
             [
              0.8888888888888888,
              "#fdca26"
             ],
             [
              1,
              "#f0f921"
             ]
            ],
            "type": "heatmapgl"
           }
          ],
          "histogram": [
           {
            "marker": {
             "pattern": {
              "fillmode": "overlay",
              "size": 10,
              "solidity": 0.2
             }
            },
            "type": "histogram"
           }
          ],
          "histogram2d": [
           {
            "colorbar": {
             "outlinewidth": 0,
             "ticks": ""
            },
            "colorscale": [
             [
              0,
              "#0d0887"
             ],
             [
              0.1111111111111111,
              "#46039f"
             ],
             [
              0.2222222222222222,
              "#7201a8"
             ],
             [
              0.3333333333333333,
              "#9c179e"
             ],
             [
              0.4444444444444444,
              "#bd3786"
             ],
             [
              0.5555555555555556,
              "#d8576b"
             ],
             [
              0.6666666666666666,
              "#ed7953"
             ],
             [
              0.7777777777777778,
              "#fb9f3a"
             ],
             [
              0.8888888888888888,
              "#fdca26"
             ],
             [
              1,
              "#f0f921"
             ]
            ],
            "type": "histogram2d"
           }
          ],
          "histogram2dcontour": [
           {
            "colorbar": {
             "outlinewidth": 0,
             "ticks": ""
            },
            "colorscale": [
             [
              0,
              "#0d0887"
             ],
             [
              0.1111111111111111,
              "#46039f"
             ],
             [
              0.2222222222222222,
              "#7201a8"
             ],
             [
              0.3333333333333333,
              "#9c179e"
             ],
             [
              0.4444444444444444,
              "#bd3786"
             ],
             [
              0.5555555555555556,
              "#d8576b"
             ],
             [
              0.6666666666666666,
              "#ed7953"
             ],
             [
              0.7777777777777778,
              "#fb9f3a"
             ],
             [
              0.8888888888888888,
              "#fdca26"
             ],
             [
              1,
              "#f0f921"
             ]
            ],
            "type": "histogram2dcontour"
           }
          ],
          "mesh3d": [
           {
            "colorbar": {
             "outlinewidth": 0,
             "ticks": ""
            },
            "type": "mesh3d"
           }
          ],
          "parcoords": [
           {
            "line": {
             "colorbar": {
              "outlinewidth": 0,
              "ticks": ""
             }
            },
            "type": "parcoords"
           }
          ],
          "pie": [
           {
            "automargin": true,
            "type": "pie"
           }
          ],
          "scatter": [
           {
            "fillpattern": {
             "fillmode": "overlay",
             "size": 10,
             "solidity": 0.2
            },
            "type": "scatter"
           }
          ],
          "scatter3d": [
           {
            "line": {
             "colorbar": {
              "outlinewidth": 0,
              "ticks": ""
             }
            },
            "marker": {
             "colorbar": {
              "outlinewidth": 0,
              "ticks": ""
             }
            },
            "type": "scatter3d"
           }
          ],
          "scattercarpet": [
           {
            "marker": {
             "colorbar": {
              "outlinewidth": 0,
              "ticks": ""
             }
            },
            "type": "scattercarpet"
           }
          ],
          "scattergeo": [
           {
            "marker": {
             "colorbar": {
              "outlinewidth": 0,
              "ticks": ""
             }
            },
            "type": "scattergeo"
           }
          ],
          "scattergl": [
           {
            "marker": {
             "colorbar": {
              "outlinewidth": 0,
              "ticks": ""
             }
            },
            "type": "scattergl"
           }
          ],
          "scattermapbox": [
           {
            "marker": {
             "colorbar": {
              "outlinewidth": 0,
              "ticks": ""
             }
            },
            "type": "scattermapbox"
           }
          ],
          "scatterpolar": [
           {
            "marker": {
             "colorbar": {
              "outlinewidth": 0,
              "ticks": ""
             }
            },
            "type": "scatterpolar"
           }
          ],
          "scatterpolargl": [
           {
            "marker": {
             "colorbar": {
              "outlinewidth": 0,
              "ticks": ""
             }
            },
            "type": "scatterpolargl"
           }
          ],
          "scatterternary": [
           {
            "marker": {
             "colorbar": {
              "outlinewidth": 0,
              "ticks": ""
             }
            },
            "type": "scatterternary"
           }
          ],
          "surface": [
           {
            "colorbar": {
             "outlinewidth": 0,
             "ticks": ""
            },
            "colorscale": [
             [
              0,
              "#0d0887"
             ],
             [
              0.1111111111111111,
              "#46039f"
             ],
             [
              0.2222222222222222,
              "#7201a8"
             ],
             [
              0.3333333333333333,
              "#9c179e"
             ],
             [
              0.4444444444444444,
              "#bd3786"
             ],
             [
              0.5555555555555556,
              "#d8576b"
             ],
             [
              0.6666666666666666,
              "#ed7953"
             ],
             [
              0.7777777777777778,
              "#fb9f3a"
             ],
             [
              0.8888888888888888,
              "#fdca26"
             ],
             [
              1,
              "#f0f921"
             ]
            ],
            "type": "surface"
           }
          ],
          "table": [
           {
            "cells": {
             "fill": {
              "color": "#EBF0F8"
             },
             "line": {
              "color": "white"
             }
            },
            "header": {
             "fill": {
              "color": "#C8D4E3"
             },
             "line": {
              "color": "white"
             }
            },
            "type": "table"
           }
          ]
         },
         "layout": {
          "annotationdefaults": {
           "arrowcolor": "#2a3f5f",
           "arrowhead": 0,
           "arrowwidth": 1
          },
          "autotypenumbers": "strict",
          "coloraxis": {
           "colorbar": {
            "outlinewidth": 0,
            "ticks": ""
           }
          },
          "colorscale": {
           "diverging": [
            [
             0,
             "#8e0152"
            ],
            [
             0.1,
             "#c51b7d"
            ],
            [
             0.2,
             "#de77ae"
            ],
            [
             0.3,
             "#f1b6da"
            ],
            [
             0.4,
             "#fde0ef"
            ],
            [
             0.5,
             "#f7f7f7"
            ],
            [
             0.6,
             "#e6f5d0"
            ],
            [
             0.7,
             "#b8e186"
            ],
            [
             0.8,
             "#7fbc41"
            ],
            [
             0.9,
             "#4d9221"
            ],
            [
             1,
             "#276419"
            ]
           ],
           "sequential": [
            [
             0,
             "#0d0887"
            ],
            [
             0.1111111111111111,
             "#46039f"
            ],
            [
             0.2222222222222222,
             "#7201a8"
            ],
            [
             0.3333333333333333,
             "#9c179e"
            ],
            [
             0.4444444444444444,
             "#bd3786"
            ],
            [
             0.5555555555555556,
             "#d8576b"
            ],
            [
             0.6666666666666666,
             "#ed7953"
            ],
            [
             0.7777777777777778,
             "#fb9f3a"
            ],
            [
             0.8888888888888888,
             "#fdca26"
            ],
            [
             1,
             "#f0f921"
            ]
           ],
           "sequentialminus": [
            [
             0,
             "#0d0887"
            ],
            [
             0.1111111111111111,
             "#46039f"
            ],
            [
             0.2222222222222222,
             "#7201a8"
            ],
            [
             0.3333333333333333,
             "#9c179e"
            ],
            [
             0.4444444444444444,
             "#bd3786"
            ],
            [
             0.5555555555555556,
             "#d8576b"
            ],
            [
             0.6666666666666666,
             "#ed7953"
            ],
            [
             0.7777777777777778,
             "#fb9f3a"
            ],
            [
             0.8888888888888888,
             "#fdca26"
            ],
            [
             1,
             "#f0f921"
            ]
           ]
          },
          "colorway": [
           "#636efa",
           "#EF553B",
           "#00cc96",
           "#ab63fa",
           "#FFA15A",
           "#19d3f3",
           "#FF6692",
           "#B6E880",
           "#FF97FF",
           "#FECB52"
          ],
          "font": {
           "color": "#2a3f5f"
          },
          "geo": {
           "bgcolor": "white",
           "lakecolor": "white",
           "landcolor": "#E5ECF6",
           "showlakes": true,
           "showland": true,
           "subunitcolor": "white"
          },
          "hoverlabel": {
           "align": "left"
          },
          "hovermode": "closest",
          "mapbox": {
           "style": "light"
          },
          "paper_bgcolor": "white",
          "plot_bgcolor": "#E5ECF6",
          "polar": {
           "angularaxis": {
            "gridcolor": "white",
            "linecolor": "white",
            "ticks": ""
           },
           "bgcolor": "#E5ECF6",
           "radialaxis": {
            "gridcolor": "white",
            "linecolor": "white",
            "ticks": ""
           }
          },
          "scene": {
           "xaxis": {
            "backgroundcolor": "#E5ECF6",
            "gridcolor": "white",
            "gridwidth": 2,
            "linecolor": "white",
            "showbackground": true,
            "ticks": "",
            "zerolinecolor": "white"
           },
           "yaxis": {
            "backgroundcolor": "#E5ECF6",
            "gridcolor": "white",
            "gridwidth": 2,
            "linecolor": "white",
            "showbackground": true,
            "ticks": "",
            "zerolinecolor": "white"
           },
           "zaxis": {
            "backgroundcolor": "#E5ECF6",
            "gridcolor": "white",
            "gridwidth": 2,
            "linecolor": "white",
            "showbackground": true,
            "ticks": "",
            "zerolinecolor": "white"
           }
          },
          "shapedefaults": {
           "line": {
            "color": "#2a3f5f"
           }
          },
          "ternary": {
           "aaxis": {
            "gridcolor": "white",
            "linecolor": "white",
            "ticks": ""
           },
           "baxis": {
            "gridcolor": "white",
            "linecolor": "white",
            "ticks": ""
           },
           "bgcolor": "#E5ECF6",
           "caxis": {
            "gridcolor": "white",
            "linecolor": "white",
            "ticks": ""
           }
          },
          "title": {
           "x": 0.05
          },
          "xaxis": {
           "automargin": true,
           "gridcolor": "white",
           "linecolor": "white",
           "ticks": "",
           "title": {
            "standoff": 15
           },
           "zerolinecolor": "white",
           "zerolinewidth": 2
          },
          "yaxis": {
           "automargin": true,
           "gridcolor": "white",
           "linecolor": "white",
           "ticks": "",
           "title": {
            "standoff": 15
           },
           "zerolinecolor": "white",
           "zerolinewidth": 2
          }
         }
        },
        "title": {
         "text": "Proportion of Missing Vessel IDs over time (original data)."
        },
        "xaxis": {
         "anchor": "y",
         "domain": [
          0,
          1
         ],
         "title": {
          "text": "month"
         }
        },
        "yaxis": {
         "anchor": "x",
         "domain": [
          0,
          1
         ],
         "title": {
          "text": "null_percent"
         }
        }
       }
      }
     },
     "metadata": {},
     "output_type": "display_data"
    }
   ],
   "source": [
    "lf = pl.concat(\n",
    "    [imports_lf.select('direction', 'month', 'vessel_id'),\n",
    "    exports_lf.select('direction', 'month', 'vessel_id')]\n",
    ")\n",
    "\n",
    "nulls_over_time_plotly(\n",
    "    data_lf=lf,\n",
    "    group_var='direction',\n",
    "    time_var='month',\n",
    "    value_var='vessel_id',\n",
    "    title='Proportion of Missing Vessel IDs over time (original data).')"
   ]
  },
  {
   "cell_type": "code",
   "execution_count": null,
   "metadata": {},
   "outputs": [],
   "source": [
    "lf = pl.concat(\n",
    "    [imports_lf.select('direction', 'month', 'vessel_name'),\n",
    "    exports_lf.select('direction', 'month', 'vessel_name')]\n",
    ")\n",
    "\n",
    "nulls_over_time_plotly(\n",
    "    data_lf=lf,\n",
    "    group_var='direction',\n",
    "    time_var='month',\n",
    "    value_var='vessel_name',\n",
    "    title='Proportion of Missing Vessel Names over time (original data).')"
   ]
  },
  {
   "cell_type": "code",
   "execution_count": null,
   "metadata": {},
   "outputs": [],
   "source": [
    "lf = pl.concat(\n",
    "    [imports_lf.select('direction', 'month', 'voyage_id'),\n",
    "    exports_lf.select('direction', 'month', 'voyage_id')]\n",
    ")\n",
    "\n",
    "nulls_over_time_plotly(\n",
    "    data_lf=lf,\n",
    "    group_var='direction',\n",
    "    time_var='month',\n",
    "    value_var='voyage_id',\n",
    "    title='Proportion of Missing Voyage IDs over time (original data).')"
   ]
  },
  {
   "cell_type": "markdown",
   "metadata": {},
   "source": [
    "## Primary Carrier\n",
    "\n",
    "For any given voyage, we assign primary carrier based on the proportion of TEUs from each carrier imported/exported on that voyage (max proportion is primary carrier). "
   ]
  },
  {
   "cell_type": "code",
   "execution_count": 12,
   "metadata": {},
   "outputs": [],
   "source": [
    "#add primary carrier and shared cargo columns to lfs\n",
    "imports_lf = add_primary_carrier(imports_lf)\n",
    "exports_lf = add_primary_carrier(exports_lf)"
   ]
  },
  {
   "cell_type": "code",
   "execution_count": 13,
   "metadata": {},
   "outputs": [
    {
     "data": {
      "application/vnd.plotly.v1+json": {
       "config": {
        "plotlyServerURL": "https://plot.ly"
       },
       "data": [
        {
         "hovertemplate": "direction=export<br>Month=%{x}<br>Proportion of cargo from non-primary carrier=%{y}<extra></extra>",
         "legendgroup": "export",
         "line": {
          "color": "#636efa",
          "dash": "solid"
         },
         "marker": {
          "symbol": "circle"
         },
         "mode": "lines",
         "name": "export",
         "orientation": "v",
         "showlegend": true,
         "type": "scatter",
         "x": [
          "2005-01-01T00:00:00",
          "2005-02-01T00:00:00",
          "2005-03-01T00:00:00",
          "2005-04-01T00:00:00",
          "2005-05-01T00:00:00",
          "2005-06-01T00:00:00",
          "2005-07-01T00:00:00",
          "2005-08-01T00:00:00",
          "2005-09-01T00:00:00",
          "2005-10-01T00:00:00",
          "2005-11-01T00:00:00",
          "2005-12-01T00:00:00",
          "2006-01-01T00:00:00",
          "2006-02-01T00:00:00",
          "2006-03-01T00:00:00",
          "2006-04-01T00:00:00",
          "2006-05-01T00:00:00",
          "2006-06-01T00:00:00",
          "2006-07-01T00:00:00",
          "2006-08-01T00:00:00",
          "2006-09-01T00:00:00",
          "2006-10-01T00:00:00",
          "2006-11-01T00:00:00",
          "2006-12-01T00:00:00",
          "2007-01-01T00:00:00",
          "2007-02-01T00:00:00",
          "2007-03-01T00:00:00",
          "2007-04-01T00:00:00",
          "2007-05-01T00:00:00",
          "2007-06-01T00:00:00",
          "2007-07-01T00:00:00",
          "2007-08-01T00:00:00",
          "2007-09-01T00:00:00",
          "2007-10-01T00:00:00",
          "2007-11-01T00:00:00",
          "2007-12-01T00:00:00",
          "2008-01-01T00:00:00",
          "2008-02-01T00:00:00",
          "2008-03-01T00:00:00",
          "2008-04-01T00:00:00",
          "2008-05-01T00:00:00",
          "2008-06-01T00:00:00",
          "2008-07-01T00:00:00",
          "2008-08-01T00:00:00",
          "2008-09-01T00:00:00",
          "2008-10-01T00:00:00",
          "2008-11-01T00:00:00",
          "2008-12-01T00:00:00",
          "2009-01-01T00:00:00",
          "2009-02-01T00:00:00",
          "2009-03-01T00:00:00",
          "2009-04-01T00:00:00",
          "2009-05-01T00:00:00",
          "2009-06-01T00:00:00",
          "2009-07-01T00:00:00",
          "2009-08-01T00:00:00",
          "2009-09-01T00:00:00",
          "2009-10-01T00:00:00",
          "2009-11-01T00:00:00",
          "2009-12-01T00:00:00",
          "2010-01-01T00:00:00",
          "2010-02-01T00:00:00",
          "2010-03-01T00:00:00",
          "2010-04-01T00:00:00",
          "2010-05-01T00:00:00",
          "2010-06-01T00:00:00",
          "2010-07-01T00:00:00",
          "2010-08-01T00:00:00",
          "2010-09-01T00:00:00",
          "2010-10-01T00:00:00",
          "2010-11-01T00:00:00",
          "2010-12-01T00:00:00",
          "2011-01-01T00:00:00",
          "2011-02-01T00:00:00",
          "2011-03-01T00:00:00",
          "2011-04-01T00:00:00",
          "2011-05-01T00:00:00",
          "2011-06-01T00:00:00",
          "2011-07-01T00:00:00",
          "2011-08-01T00:00:00",
          "2011-09-01T00:00:00",
          "2011-10-01T00:00:00",
          "2011-11-01T00:00:00",
          "2011-12-01T00:00:00",
          "2012-01-01T00:00:00",
          "2012-02-01T00:00:00",
          "2012-03-01T00:00:00",
          "2012-04-01T00:00:00",
          "2012-05-01T00:00:00",
          "2012-06-01T00:00:00",
          "2012-07-01T00:00:00",
          "2012-08-01T00:00:00",
          "2012-09-01T00:00:00",
          "2012-10-01T00:00:00",
          "2012-11-01T00:00:00",
          "2012-12-01T00:00:00",
          "2013-01-01T00:00:00",
          "2013-02-01T00:00:00",
          "2013-03-01T00:00:00",
          "2013-04-01T00:00:00",
          "2013-05-01T00:00:00",
          "2013-06-01T00:00:00",
          "2013-07-01T00:00:00",
          "2013-08-01T00:00:00",
          "2013-09-01T00:00:00",
          "2013-10-01T00:00:00",
          "2013-11-01T00:00:00",
          "2013-12-01T00:00:00",
          "2014-01-01T00:00:00",
          "2014-02-01T00:00:00",
          "2014-03-01T00:00:00",
          "2014-04-01T00:00:00",
          "2014-05-01T00:00:00",
          "2014-06-01T00:00:00",
          "2014-07-01T00:00:00",
          "2014-08-01T00:00:00",
          "2014-09-01T00:00:00",
          "2014-10-01T00:00:00",
          "2014-11-01T00:00:00",
          "2014-12-01T00:00:00",
          "2015-01-01T00:00:00",
          "2015-02-01T00:00:00",
          "2015-03-01T00:00:00",
          "2015-04-01T00:00:00",
          "2015-05-01T00:00:00",
          "2015-06-01T00:00:00",
          "2015-07-01T00:00:00",
          "2015-08-01T00:00:00",
          "2015-09-01T00:00:00",
          "2015-10-01T00:00:00",
          "2015-11-01T00:00:00",
          "2015-12-01T00:00:00",
          "2016-01-01T00:00:00",
          "2016-02-01T00:00:00",
          "2016-03-01T00:00:00",
          "2016-04-01T00:00:00",
          "2016-05-01T00:00:00",
          "2016-06-01T00:00:00",
          "2016-07-01T00:00:00",
          "2016-08-01T00:00:00",
          "2016-09-01T00:00:00",
          "2016-10-01T00:00:00",
          "2016-11-01T00:00:00",
          "2016-12-01T00:00:00",
          "2017-01-01T00:00:00",
          "2017-02-01T00:00:00",
          "2017-03-01T00:00:00",
          "2017-04-01T00:00:00",
          "2017-05-01T00:00:00",
          "2017-06-01T00:00:00",
          "2017-07-01T00:00:00",
          "2017-08-01T00:00:00",
          "2017-09-01T00:00:00",
          "2017-10-01T00:00:00",
          "2017-11-01T00:00:00",
          "2017-12-01T00:00:00",
          "2018-01-01T00:00:00",
          "2018-02-01T00:00:00",
          "2018-03-01T00:00:00",
          "2018-04-01T00:00:00",
          "2018-05-01T00:00:00",
          "2018-06-01T00:00:00",
          "2018-07-01T00:00:00",
          "2018-08-01T00:00:00",
          "2018-09-01T00:00:00",
          "2018-10-01T00:00:00",
          "2018-11-01T00:00:00",
          "2018-12-01T00:00:00",
          "2019-01-01T00:00:00",
          "2019-02-01T00:00:00",
          "2019-03-01T00:00:00",
          "2019-04-01T00:00:00",
          "2019-05-01T00:00:00",
          "2019-06-01T00:00:00",
          "2019-07-01T00:00:00",
          "2019-08-01T00:00:00",
          "2019-09-01T00:00:00",
          "2019-10-01T00:00:00",
          "2019-11-01T00:00:00",
          "2019-12-01T00:00:00",
          "2020-01-01T00:00:00",
          "2020-02-01T00:00:00",
          "2020-03-01T00:00:00",
          "2020-04-01T00:00:00",
          "2020-05-01T00:00:00",
          "2020-06-01T00:00:00",
          "2020-07-01T00:00:00",
          "2020-08-01T00:00:00",
          "2020-09-01T00:00:00",
          "2020-10-01T00:00:00",
          "2020-11-01T00:00:00",
          "2020-12-01T00:00:00",
          "2021-01-01T00:00:00",
          "2021-02-01T00:00:00",
          "2021-03-01T00:00:00",
          "2021-04-01T00:00:00",
          "2021-05-01T00:00:00",
          "2021-06-01T00:00:00",
          "2021-07-01T00:00:00",
          "2021-08-01T00:00:00",
          "2021-09-01T00:00:00",
          "2021-10-01T00:00:00",
          "2021-11-01T00:00:00",
          "2021-12-01T00:00:00",
          "2022-01-01T00:00:00",
          "2022-02-01T00:00:00",
          "2022-03-01T00:00:00",
          "2022-04-01T00:00:00",
          "2022-05-01T00:00:00",
          "2022-06-01T00:00:00",
          "2022-07-01T00:00:00",
          "2022-08-01T00:00:00",
          "2022-09-01T00:00:00",
          "2022-10-01T00:00:00",
          "2022-11-01T00:00:00",
          "2022-12-01T00:00:00",
          "2023-01-01T00:00:00",
          "2023-02-01T00:00:00",
          "2023-03-01T00:00:00",
          "2023-04-01T00:00:00",
          "2023-05-01T00:00:00",
          "2023-06-01T00:00:00",
          "2023-07-01T00:00:00",
          "2023-08-01T00:00:00",
          "2023-09-01T00:00:00",
          "2023-10-01T00:00:00",
          "2023-11-01T00:00:00"
         ],
         "xaxis": "x",
         "y": [
          0.27936730212229555,
          0.2775708850373566,
          0.26729012357760473,
          0.26838335686877124,
          0.2823227824371556,
          0.28501434783101176,
          0.28458502903037597,
          0.2817515992203209,
          0.279738578886209,
          0.2847342122884944,
          0.27874081434813036,
          0.2707394444972391,
          0.2834852903819647,
          0.26863721622095116,
          0.25359059698318087,
          0.2516146350840146,
          0.24667486308219355,
          0.23512877402293886,
          0.23821613691890575,
          0.2357192235110005,
          0.23379151559616185,
          0.2339677754711449,
          0.23166287354745185,
          0.22750348674997678,
          0.22743046843295833,
          0.22667974457670492,
          0.22373647291548626,
          0.2251767095404985,
          0.22688171641335675,
          0.22729729526803377,
          0.21362064378787415,
          0.21460893874434595,
          0.22159108703103014,
          0.22705964277473933,
          0.22403799623586884,
          0.2248363844036565,
          0.23524136615110325,
          0.22519101240893546,
          0.22664766800486913,
          0.22613508284935857,
          0.23060794638550708,
          0.22504048962579426,
          0.2471948881785666,
          0.2407156088396093,
          0.24525720997146871,
          0.23899291497941633,
          0.22870996689477885,
          0.22412084877419047,
          0.23426623759525367,
          0.24342993968643478,
          0.23355139011156012,
          0.23648612565939997,
          0.23712481333704605,
          0.2459177061392025,
          0.24548793567710703,
          0.2552544986749723,
          0.2581139934849366,
          0.25258651444838787,
          0.2587839937835519,
          0.2897167819771046,
          0.47918124498475645,
          0.4297384425037666,
          0.41467291709726173,
          0.4268423271878816,
          0.408745998437117,
          0.40000850080879125,
          0.41055888371120086,
          0.40921119843378273,
          0.3979744734227251,
          0.3956132119595569,
          0.3933629543210645,
          0.3873769666259623,
          0.3800028335793483,
          0.38431335767572694,
          0.381639671710823,
          0.40044788840621903,
          0.40459090722648205,
          0.41139825131460017,
          0.4023075228377857,
          0.4122036436984746,
          0.4143844574572545,
          0.38149832391937144,
          0.38719794668158813,
          0.38135214406816553,
          0.3695129689719103,
          0.39436592604420195,
          0.3810050937406617,
          0.3868504192388521,
          0.38086048387642213,
          0.38999656080172684,
          0.3955979628865449,
          0.37819984766929005,
          0.38459650158136993,
          0.3637451062357614,
          0.3762031237739005,
          0.35916822883181465,
          0.3641613397315442,
          0.37868928494575527,
          0.3592843492391331,
          0.3591072746293751,
          0.37729118947194795,
          0.2734617162718467,
          0.27226716765307446,
          0.26950845363321163,
          0.2795220877576511,
          0.27879726102722213,
          0.282900093043541,
          0.27754260995146807,
          0.28313327840716684,
          0.292741836614407,
          0.2984692378237517,
          0.2862879914651625,
          0.2797205092857379,
          0.2938323220175362,
          0.28941324872869545,
          0.2977317146664842,
          0.2934403421069498,
          0.28856303442279985,
          0.2948617460744518,
          0.3438244967490056,
          0.31998216037734406,
          0.3238563147528625,
          0.3253425859987875,
          0.3299017302932924,
          0.3297091208907016,
          0.32356434762959085,
          0.3231585989006842,
          0.3225141416491035,
          0.3253938073523629,
          0.3331705485292963,
          0.31986181434768335,
          0.3228046931850943,
          0.34770162769229895,
          0.34453886516147536,
          0.346861983164779,
          0.34404996611831196,
          0.3436913501723856,
          0.33649862669824404,
          0.34779118127340836,
          0.3505632126565842,
          0.338075471786342,
          0.35749574926465655,
          0.3449068094168808,
          0.340258181819975,
          0.35315975664533605,
          0.3611726452051405,
          0.33864315432744996,
          0.3397908996287713,
          0.3633243213427243,
          0.3710877924613346,
          0.3694656566840765,
          0.36227032146654603,
          0.3619899277128352,
          0.37335082379504936,
          0.3906064705110319,
          0.4433456020487855,
          0.4260415743615681,
          0.425767085823599,
          0.4384342693127242,
          0.39325119567994127,
          0.39473966705265073,
          0.37747605530336226,
          0.36320260033134855,
          0.3849358258385621,
          0.38550300039631835,
          0.3648905216408528,
          0.3767416955870042,
          0.36552751533013905,
          0.3741564705472662,
          0.36756391124949117,
          0.36941866040114313,
          0.40087011392693295,
          0.3612690453429285,
          0.3553837366181546,
          0.3813456471935954,
          0.37942974332421375,
          0.35107042085495754,
          0.3673431316635184,
          0.3641115254136582,
          0.36709278271828194,
          0.3586758171184182,
          0.40154084243010413,
          0.35396459744043896,
          0.4018873066776255,
          0.41880466922516657,
          0.38594758358937853,
          0.373319405004381,
          0.3771764476732241,
          0.36890845011651363,
          0.34567427396171857,
          0.36248342873067196,
          0.3565546464837209,
          0.35543660319681936,
          0.3500993631131395,
          0.3632579245415364,
          0.3701398529587645,
          0.36315937133306997,
          0.3496090095960457,
          0.344786425738132,
          0.32685627933559813,
          0.3314418580603231,
          0.3348315981291483,
          0.32750289607764915,
          0.31462986753954225,
          0.32777115287022673,
          0.3297318050595278,
          0.28888564262257266,
          0.3065611625604824,
          0.3015758601070897,
          0.30601914952310094,
          0.3114350311492111,
          0.3014011911721074,
          0.2975368948800283,
          0.3013825123197288,
          0.30890239522480056,
          0.3079062392332156,
          0.3011047082374462,
          0.3157432642947171,
          0.29730664266216966,
          0.296520761747457,
          0.28616702867427946,
          0.2784969570357354,
          0.2838945131095807,
          0.28333134010102634,
          0.2838335295144142,
          0.2636871445780242,
          0.21694206643590996
         ],
         "yaxis": "y"
        },
        {
         "hovertemplate": "direction=import<br>Month=%{x}<br>Proportion of cargo from non-primary carrier=%{y}<extra></extra>",
         "legendgroup": "import",
         "line": {
          "color": "#EF553B",
          "dash": "solid"
         },
         "marker": {
          "symbol": "circle"
         },
         "mode": "lines",
         "name": "import",
         "orientation": "v",
         "showlegend": true,
         "type": "scatter",
         "x": [
          "2005-01-01T00:00:00",
          "2005-02-01T00:00:00",
          "2005-03-01T00:00:00",
          "2005-04-01T00:00:00",
          "2005-05-01T00:00:00",
          "2005-06-01T00:00:00",
          "2005-07-01T00:00:00",
          "2005-08-01T00:00:00",
          "2005-09-01T00:00:00",
          "2005-10-01T00:00:00",
          "2005-11-01T00:00:00",
          "2005-12-01T00:00:00",
          "2006-01-01T00:00:00",
          "2006-02-01T00:00:00",
          "2006-03-01T00:00:00",
          "2006-04-01T00:00:00",
          "2006-05-01T00:00:00",
          "2006-06-01T00:00:00",
          "2006-07-01T00:00:00",
          "2006-08-01T00:00:00",
          "2006-09-01T00:00:00",
          "2006-10-01T00:00:00",
          "2006-11-01T00:00:00",
          "2006-12-01T00:00:00",
          "2007-01-01T00:00:00",
          "2007-02-01T00:00:00",
          "2007-03-01T00:00:00",
          "2007-04-01T00:00:00",
          "2007-05-01T00:00:00",
          "2007-06-01T00:00:00",
          "2007-07-01T00:00:00",
          "2007-08-01T00:00:00",
          "2007-09-01T00:00:00",
          "2007-10-01T00:00:00",
          "2007-11-01T00:00:00",
          "2007-12-01T00:00:00",
          "2008-01-01T00:00:00",
          "2008-02-01T00:00:00",
          "2008-03-01T00:00:00",
          "2008-04-01T00:00:00",
          "2008-05-01T00:00:00",
          "2008-06-01T00:00:00",
          "2008-07-01T00:00:00",
          "2008-08-01T00:00:00",
          "2008-09-01T00:00:00",
          "2008-10-01T00:00:00",
          "2008-11-01T00:00:00",
          "2008-12-01T00:00:00",
          "2009-01-01T00:00:00",
          "2009-02-01T00:00:00",
          "2009-03-01T00:00:00",
          "2009-04-01T00:00:00",
          "2009-05-01T00:00:00",
          "2009-06-01T00:00:00",
          "2009-07-01T00:00:00",
          "2009-08-01T00:00:00",
          "2009-09-01T00:00:00",
          "2009-10-01T00:00:00",
          "2009-11-01T00:00:00",
          "2009-12-01T00:00:00",
          "2010-01-01T00:00:00",
          "2010-02-01T00:00:00",
          "2010-03-01T00:00:00",
          "2010-04-01T00:00:00",
          "2010-05-01T00:00:00",
          "2010-06-01T00:00:00",
          "2010-07-01T00:00:00",
          "2010-08-01T00:00:00",
          "2010-09-01T00:00:00",
          "2010-10-01T00:00:00",
          "2010-11-01T00:00:00",
          "2010-12-01T00:00:00",
          "2011-01-01T00:00:00",
          "2011-02-01T00:00:00",
          "2011-03-01T00:00:00",
          "2011-04-01T00:00:00",
          "2011-05-01T00:00:00",
          "2011-06-01T00:00:00",
          "2011-07-01T00:00:00",
          "2011-08-01T00:00:00",
          "2011-09-01T00:00:00",
          "2011-10-01T00:00:00",
          "2011-11-01T00:00:00",
          "2011-12-01T00:00:00",
          "2012-01-01T00:00:00",
          "2012-02-01T00:00:00",
          "2012-03-01T00:00:00",
          "2012-04-01T00:00:00",
          "2012-05-01T00:00:00",
          "2012-06-01T00:00:00",
          "2012-07-01T00:00:00",
          "2012-08-01T00:00:00",
          "2012-09-01T00:00:00",
          "2012-10-01T00:00:00",
          "2012-11-01T00:00:00",
          "2012-12-01T00:00:00",
          "2013-01-01T00:00:00",
          "2013-02-01T00:00:00",
          "2013-03-01T00:00:00",
          "2013-04-01T00:00:00",
          "2013-05-01T00:00:00",
          "2013-06-01T00:00:00",
          "2013-07-01T00:00:00",
          "2013-08-01T00:00:00",
          "2013-09-01T00:00:00",
          "2013-10-01T00:00:00",
          "2013-11-01T00:00:00",
          "2013-12-01T00:00:00",
          "2014-01-01T00:00:00",
          "2014-02-01T00:00:00",
          "2014-03-01T00:00:00",
          "2014-04-01T00:00:00",
          "2014-05-01T00:00:00",
          "2014-06-01T00:00:00",
          "2014-07-01T00:00:00",
          "2014-08-01T00:00:00",
          "2014-09-01T00:00:00",
          "2014-10-01T00:00:00",
          "2014-11-01T00:00:00",
          "2014-12-01T00:00:00",
          "2015-01-01T00:00:00",
          "2015-02-01T00:00:00",
          "2015-03-01T00:00:00",
          "2015-04-01T00:00:00",
          "2015-05-01T00:00:00",
          "2015-06-01T00:00:00",
          "2015-07-01T00:00:00",
          "2015-08-01T00:00:00",
          "2015-09-01T00:00:00",
          "2015-10-01T00:00:00",
          "2015-11-01T00:00:00",
          "2015-12-01T00:00:00",
          "2016-01-01T00:00:00",
          "2016-02-01T00:00:00",
          "2016-03-01T00:00:00",
          "2016-04-01T00:00:00",
          "2016-05-01T00:00:00",
          "2016-06-01T00:00:00",
          "2016-07-01T00:00:00",
          "2016-08-01T00:00:00",
          "2016-09-01T00:00:00",
          "2016-10-01T00:00:00",
          "2016-11-01T00:00:00",
          "2016-12-01T00:00:00",
          "2017-01-01T00:00:00",
          "2017-02-01T00:00:00",
          "2017-03-01T00:00:00",
          "2017-04-01T00:00:00",
          "2017-05-01T00:00:00",
          "2017-06-01T00:00:00",
          "2017-07-01T00:00:00",
          "2017-08-01T00:00:00",
          "2017-09-01T00:00:00",
          "2017-10-01T00:00:00",
          "2017-11-01T00:00:00",
          "2017-12-01T00:00:00",
          "2018-01-01T00:00:00",
          "2018-02-01T00:00:00",
          "2018-03-01T00:00:00",
          "2018-04-01T00:00:00",
          "2018-05-01T00:00:00",
          "2018-06-01T00:00:00",
          "2018-07-01T00:00:00",
          "2018-08-01T00:00:00",
          "2018-09-01T00:00:00",
          "2018-10-01T00:00:00",
          "2018-11-01T00:00:00",
          "2018-12-01T00:00:00",
          "2019-01-01T00:00:00",
          "2019-02-01T00:00:00",
          "2019-03-01T00:00:00",
          "2019-04-01T00:00:00",
          "2019-05-01T00:00:00",
          "2019-06-01T00:00:00",
          "2019-07-01T00:00:00",
          "2019-08-01T00:00:00",
          "2019-09-01T00:00:00",
          "2019-10-01T00:00:00",
          "2019-11-01T00:00:00",
          "2019-12-01T00:00:00",
          "2020-01-01T00:00:00",
          "2020-02-01T00:00:00",
          "2020-03-01T00:00:00",
          "2020-04-01T00:00:00",
          "2020-05-01T00:00:00",
          "2020-06-01T00:00:00",
          "2020-07-01T00:00:00",
          "2020-08-01T00:00:00",
          "2020-09-01T00:00:00",
          "2020-10-01T00:00:00",
          "2020-11-01T00:00:00",
          "2020-12-01T00:00:00",
          "2021-01-01T00:00:00",
          "2021-02-01T00:00:00",
          "2021-03-01T00:00:00",
          "2021-04-01T00:00:00",
          "2021-05-01T00:00:00",
          "2021-06-01T00:00:00",
          "2021-07-01T00:00:00",
          "2021-08-01T00:00:00",
          "2021-09-01T00:00:00",
          "2021-10-01T00:00:00",
          "2021-11-01T00:00:00",
          "2021-12-01T00:00:00",
          "2022-01-01T00:00:00",
          "2022-02-01T00:00:00",
          "2022-03-01T00:00:00",
          "2022-04-01T00:00:00",
          "2022-05-01T00:00:00",
          "2022-06-01T00:00:00",
          "2022-07-01T00:00:00",
          "2022-08-01T00:00:00",
          "2022-09-01T00:00:00",
          "2022-10-01T00:00:00",
          "2022-11-01T00:00:00",
          "2022-12-01T00:00:00",
          "2023-01-01T00:00:00",
          "2023-02-01T00:00:00",
          "2023-03-01T00:00:00",
          "2023-04-01T00:00:00",
          "2023-05-01T00:00:00",
          "2023-06-01T00:00:00",
          "2023-07-01T00:00:00",
          "2023-08-01T00:00:00",
          "2023-09-01T00:00:00",
          "2023-10-01T00:00:00",
          "2023-11-01T00:00:00"
         ],
         "xaxis": "x",
         "y": [
          0.36032728454016105,
          0.34637815499523184,
          0.3662258654932392,
          0.3736069699720924,
          0.37510917031030355,
          0.37582831706659847,
          0.35615496387277956,
          0.3560843852017225,
          0.35642952219959134,
          0.3625605202464507,
          0.35544179098060213,
          0.37248377516668774,
          0.35719398524286605,
          0.3491022904630242,
          0.32807141766716386,
          0.3276812853905172,
          0.31799621033045,
          0.32998720110697033,
          0.32641827339806617,
          0.3219886007288969,
          0.31817194858699926,
          0.31648784863970547,
          0.32144668951987143,
          0.3282444059466212,
          0.33318082546175354,
          0.3303590538875124,
          0.34057934896267894,
          0.3346723712550401,
          0.3294054643449482,
          0.31874480156984897,
          0.31853678659459284,
          0.3233897457896703,
          0.3232429091871898,
          0.33580712678273006,
          0.3373062119922986,
          0.32867676297020754,
          0.3270330472458568,
          0.3292241426207432,
          0.3330217607655124,
          0.3341160572119255,
          0.3443713126212983,
          0.3404617232244942,
          0.3548887423106486,
          0.35337485857793427,
          0.3483917813496471,
          0.34341898962573225,
          0.34650792861608415,
          0.35595389853075066,
          0.3495495947370383,
          0.3435977444763063,
          0.34938196115577347,
          0.35920078519754206,
          0.35654149665575285,
          0.35372163880849816,
          0.381259994420432,
          0.3799682819254093,
          0.37764136110288404,
          0.3832832154292012,
          0.3856375223922367,
          0.38796137126884833,
          0.4400455239310235,
          0.5294058961481227,
          0.48581275636056764,
          0.4699814338942132,
          0.44767944806617466,
          0.45418966474107836,
          0.4458128479925412,
          0.4490538347013556,
          0.45568031225356176,
          0.4612344805242149,
          0.45450957647802626,
          0.4570453580578723,
          0.4516223114384734,
          0.44881030080393336,
          0.43378278400205317,
          0.44338225595488234,
          0.45046540460563267,
          0.4488497177926247,
          0.4442338185097784,
          0.45279497991301354,
          0.4412055070412758,
          0.4434508418859,
          0.43068357335021934,
          0.43615460542963513,
          0.41531453569924914,
          0.4257814747831401,
          0.4325599772974771,
          0.4305229715272204,
          0.43092481408320504,
          0.4352679042044504,
          0.43356250208689706,
          0.4326943208126077,
          0.4315214221985839,
          0.42952351901348074,
          0.42963647478164924,
          0.42941411244501637,
          0.43343515915557007,
          0.43032992549972593,
          0.4264432407553068,
          0.44017116995604166,
          0.44378788607714736,
          0.4457866848759162,
          0.39862642438857054,
          0.3886680495349384,
          0.38415802912022845,
          0.3907128237991312,
          0.3970849519804447,
          0.3965453595083539,
          0.4014819492838563,
          0.3968058788190305,
          0.39600594464495575,
          0.4002952827527656,
          0.3995789938865526,
          0.42760357838477514,
          0.43687994243455563,
          0.4316075057663523,
          0.43877122318340256,
          0.42601796163941996,
          0.4227779398506778,
          0.42477227799905126,
          0.4390087019186356,
          0.4230621165059125,
          0.4082449967239177,
          0.41234735572989645,
          0.4199172078449589,
          0.4138379688824395,
          0.4130052684864344,
          0.4194906930308345,
          0.4288314186753003,
          0.4288671136918609,
          0.42370244993222517,
          0.41606162469777397,
          0.4287363648473008,
          0.42137823970399835,
          0.40917956903785635,
          0.4148897110134486,
          0.4269661054269287,
          0.41934242472120387,
          0.43233112736068624,
          0.5113362159999666,
          0.4311661310535434,
          0.4184286602012608,
          0.4096253655489722,
          0.4191581734771982,
          0.42275300740133936,
          0.42725064348322594,
          0.40499196860930475,
          0.41866891500370784,
          0.4405011306626355,
          0.44063703910457686,
          0.4405842363699767,
          0.45157277311750843,
          0.44373121298577634,
          0.4401027243212444,
          0.4356948968269102,
          0.46687906781961697,
          0.5077219167390916,
          0.509188112017116,
          0.4876620508202194,
          0.48019115385668343,
          0.4636866818991069,
          0.4554471162761786,
          0.4307102316661029,
          0.4415148572554969,
          0.43865437528831097,
          0.4322225768336736,
          0.4414293605911749,
          0.4265706692029937,
          0.4527370319411339,
          0.4456554759056919,
          0.4250779810285573,
          0.4526722714699374,
          0.44170454397364944,
          0.43276911719007816,
          0.45508637009129216,
          0.4393343914826706,
          0.43072501796767193,
          0.4377180364556812,
          0.4524399500623665,
          0.4410938220516022,
          0.4594629513992109,
          0.4518211282809933,
          0.40030139899236683,
          0.38641450625765017,
          0.4072083406965644,
          0.43172506929568966,
          0.4520721905774465,
          0.42150206817961544,
          0.4151681864443454,
          0.42923086054211945,
          0.39348530179001806,
          0.4162558454843799,
          0.42580169214899555,
          0.40585975403387553,
          0.42952040629586963,
          0.4163672988952106,
          0.4211047900094206,
          0.3996457710086293,
          0.38708904204859385,
          0.3949438293393016,
          0.3582596182313029,
          0.3654022646804106,
          0.33282110091661,
          0.3060555755651022,
          0.303101409127851,
          0.31519860347553963,
          0.31770244818830495,
          0.3291415537489304,
          0.31058400601010794,
          0.3256621096668566,
          0.31484726596599666,
          0.3257354177983096,
          0.32578389783860684,
          0.3072744490818675,
          0.32064452310252867,
          0.3187656572381139,
          0.3172648745427351,
          0.3394748570429853,
          0.32200844783031046,
          0.32977928019588654,
          0.3494870478559723,
          0.35092994148132484,
          0.35204590016378046,
          0.3506214431762874,
          0.36043515410384896,
          0.3613452534368746,
          0.3530694411348706
         ],
         "yaxis": "y"
        }
       ],
       "layout": {
        "legend": {
         "title": {
          "text": "direction"
         },
         "tracegroupgap": 0
        },
        "template": {
         "data": {
          "bar": [
           {
            "error_x": {
             "color": "#2a3f5f"
            },
            "error_y": {
             "color": "#2a3f5f"
            },
            "marker": {
             "line": {
              "color": "#E5ECF6",
              "width": 0.5
             },
             "pattern": {
              "fillmode": "overlay",
              "size": 10,
              "solidity": 0.2
             }
            },
            "type": "bar"
           }
          ],
          "barpolar": [
           {
            "marker": {
             "line": {
              "color": "#E5ECF6",
              "width": 0.5
             },
             "pattern": {
              "fillmode": "overlay",
              "size": 10,
              "solidity": 0.2
             }
            },
            "type": "barpolar"
           }
          ],
          "carpet": [
           {
            "aaxis": {
             "endlinecolor": "#2a3f5f",
             "gridcolor": "white",
             "linecolor": "white",
             "minorgridcolor": "white",
             "startlinecolor": "#2a3f5f"
            },
            "baxis": {
             "endlinecolor": "#2a3f5f",
             "gridcolor": "white",
             "linecolor": "white",
             "minorgridcolor": "white",
             "startlinecolor": "#2a3f5f"
            },
            "type": "carpet"
           }
          ],
          "choropleth": [
           {
            "colorbar": {
             "outlinewidth": 0,
             "ticks": ""
            },
            "type": "choropleth"
           }
          ],
          "contour": [
           {
            "colorbar": {
             "outlinewidth": 0,
             "ticks": ""
            },
            "colorscale": [
             [
              0,
              "#0d0887"
             ],
             [
              0.1111111111111111,
              "#46039f"
             ],
             [
              0.2222222222222222,
              "#7201a8"
             ],
             [
              0.3333333333333333,
              "#9c179e"
             ],
             [
              0.4444444444444444,
              "#bd3786"
             ],
             [
              0.5555555555555556,
              "#d8576b"
             ],
             [
              0.6666666666666666,
              "#ed7953"
             ],
             [
              0.7777777777777778,
              "#fb9f3a"
             ],
             [
              0.8888888888888888,
              "#fdca26"
             ],
             [
              1,
              "#f0f921"
             ]
            ],
            "type": "contour"
           }
          ],
          "contourcarpet": [
           {
            "colorbar": {
             "outlinewidth": 0,
             "ticks": ""
            },
            "type": "contourcarpet"
           }
          ],
          "heatmap": [
           {
            "colorbar": {
             "outlinewidth": 0,
             "ticks": ""
            },
            "colorscale": [
             [
              0,
              "#0d0887"
             ],
             [
              0.1111111111111111,
              "#46039f"
             ],
             [
              0.2222222222222222,
              "#7201a8"
             ],
             [
              0.3333333333333333,
              "#9c179e"
             ],
             [
              0.4444444444444444,
              "#bd3786"
             ],
             [
              0.5555555555555556,
              "#d8576b"
             ],
             [
              0.6666666666666666,
              "#ed7953"
             ],
             [
              0.7777777777777778,
              "#fb9f3a"
             ],
             [
              0.8888888888888888,
              "#fdca26"
             ],
             [
              1,
              "#f0f921"
             ]
            ],
            "type": "heatmap"
           }
          ],
          "heatmapgl": [
           {
            "colorbar": {
             "outlinewidth": 0,
             "ticks": ""
            },
            "colorscale": [
             [
              0,
              "#0d0887"
             ],
             [
              0.1111111111111111,
              "#46039f"
             ],
             [
              0.2222222222222222,
              "#7201a8"
             ],
             [
              0.3333333333333333,
              "#9c179e"
             ],
             [
              0.4444444444444444,
              "#bd3786"
             ],
             [
              0.5555555555555556,
              "#d8576b"
             ],
             [
              0.6666666666666666,
              "#ed7953"
             ],
             [
              0.7777777777777778,
              "#fb9f3a"
             ],
             [
              0.8888888888888888,
              "#fdca26"
             ],
             [
              1,
              "#f0f921"
             ]
            ],
            "type": "heatmapgl"
           }
          ],
          "histogram": [
           {
            "marker": {
             "pattern": {
              "fillmode": "overlay",
              "size": 10,
              "solidity": 0.2
             }
            },
            "type": "histogram"
           }
          ],
          "histogram2d": [
           {
            "colorbar": {
             "outlinewidth": 0,
             "ticks": ""
            },
            "colorscale": [
             [
              0,
              "#0d0887"
             ],
             [
              0.1111111111111111,
              "#46039f"
             ],
             [
              0.2222222222222222,
              "#7201a8"
             ],
             [
              0.3333333333333333,
              "#9c179e"
             ],
             [
              0.4444444444444444,
              "#bd3786"
             ],
             [
              0.5555555555555556,
              "#d8576b"
             ],
             [
              0.6666666666666666,
              "#ed7953"
             ],
             [
              0.7777777777777778,
              "#fb9f3a"
             ],
             [
              0.8888888888888888,
              "#fdca26"
             ],
             [
              1,
              "#f0f921"
             ]
            ],
            "type": "histogram2d"
           }
          ],
          "histogram2dcontour": [
           {
            "colorbar": {
             "outlinewidth": 0,
             "ticks": ""
            },
            "colorscale": [
             [
              0,
              "#0d0887"
             ],
             [
              0.1111111111111111,
              "#46039f"
             ],
             [
              0.2222222222222222,
              "#7201a8"
             ],
             [
              0.3333333333333333,
              "#9c179e"
             ],
             [
              0.4444444444444444,
              "#bd3786"
             ],
             [
              0.5555555555555556,
              "#d8576b"
             ],
             [
              0.6666666666666666,
              "#ed7953"
             ],
             [
              0.7777777777777778,
              "#fb9f3a"
             ],
             [
              0.8888888888888888,
              "#fdca26"
             ],
             [
              1,
              "#f0f921"
             ]
            ],
            "type": "histogram2dcontour"
           }
          ],
          "mesh3d": [
           {
            "colorbar": {
             "outlinewidth": 0,
             "ticks": ""
            },
            "type": "mesh3d"
           }
          ],
          "parcoords": [
           {
            "line": {
             "colorbar": {
              "outlinewidth": 0,
              "ticks": ""
             }
            },
            "type": "parcoords"
           }
          ],
          "pie": [
           {
            "automargin": true,
            "type": "pie"
           }
          ],
          "scatter": [
           {
            "fillpattern": {
             "fillmode": "overlay",
             "size": 10,
             "solidity": 0.2
            },
            "type": "scatter"
           }
          ],
          "scatter3d": [
           {
            "line": {
             "colorbar": {
              "outlinewidth": 0,
              "ticks": ""
             }
            },
            "marker": {
             "colorbar": {
              "outlinewidth": 0,
              "ticks": ""
             }
            },
            "type": "scatter3d"
           }
          ],
          "scattercarpet": [
           {
            "marker": {
             "colorbar": {
              "outlinewidth": 0,
              "ticks": ""
             }
            },
            "type": "scattercarpet"
           }
          ],
          "scattergeo": [
           {
            "marker": {
             "colorbar": {
              "outlinewidth": 0,
              "ticks": ""
             }
            },
            "type": "scattergeo"
           }
          ],
          "scattergl": [
           {
            "marker": {
             "colorbar": {
              "outlinewidth": 0,
              "ticks": ""
             }
            },
            "type": "scattergl"
           }
          ],
          "scattermapbox": [
           {
            "marker": {
             "colorbar": {
              "outlinewidth": 0,
              "ticks": ""
             }
            },
            "type": "scattermapbox"
           }
          ],
          "scatterpolar": [
           {
            "marker": {
             "colorbar": {
              "outlinewidth": 0,
              "ticks": ""
             }
            },
            "type": "scatterpolar"
           }
          ],
          "scatterpolargl": [
           {
            "marker": {
             "colorbar": {
              "outlinewidth": 0,
              "ticks": ""
             }
            },
            "type": "scatterpolargl"
           }
          ],
          "scatterternary": [
           {
            "marker": {
             "colorbar": {
              "outlinewidth": 0,
              "ticks": ""
             }
            },
            "type": "scatterternary"
           }
          ],
          "surface": [
           {
            "colorbar": {
             "outlinewidth": 0,
             "ticks": ""
            },
            "colorscale": [
             [
              0,
              "#0d0887"
             ],
             [
              0.1111111111111111,
              "#46039f"
             ],
             [
              0.2222222222222222,
              "#7201a8"
             ],
             [
              0.3333333333333333,
              "#9c179e"
             ],
             [
              0.4444444444444444,
              "#bd3786"
             ],
             [
              0.5555555555555556,
              "#d8576b"
             ],
             [
              0.6666666666666666,
              "#ed7953"
             ],
             [
              0.7777777777777778,
              "#fb9f3a"
             ],
             [
              0.8888888888888888,
              "#fdca26"
             ],
             [
              1,
              "#f0f921"
             ]
            ],
            "type": "surface"
           }
          ],
          "table": [
           {
            "cells": {
             "fill": {
              "color": "#EBF0F8"
             },
             "line": {
              "color": "white"
             }
            },
            "header": {
             "fill": {
              "color": "#C8D4E3"
             },
             "line": {
              "color": "white"
             }
            },
            "type": "table"
           }
          ]
         },
         "layout": {
          "annotationdefaults": {
           "arrowcolor": "#2a3f5f",
           "arrowhead": 0,
           "arrowwidth": 1
          },
          "autotypenumbers": "strict",
          "coloraxis": {
           "colorbar": {
            "outlinewidth": 0,
            "ticks": ""
           }
          },
          "colorscale": {
           "diverging": [
            [
             0,
             "#8e0152"
            ],
            [
             0.1,
             "#c51b7d"
            ],
            [
             0.2,
             "#de77ae"
            ],
            [
             0.3,
             "#f1b6da"
            ],
            [
             0.4,
             "#fde0ef"
            ],
            [
             0.5,
             "#f7f7f7"
            ],
            [
             0.6,
             "#e6f5d0"
            ],
            [
             0.7,
             "#b8e186"
            ],
            [
             0.8,
             "#7fbc41"
            ],
            [
             0.9,
             "#4d9221"
            ],
            [
             1,
             "#276419"
            ]
           ],
           "sequential": [
            [
             0,
             "#0d0887"
            ],
            [
             0.1111111111111111,
             "#46039f"
            ],
            [
             0.2222222222222222,
             "#7201a8"
            ],
            [
             0.3333333333333333,
             "#9c179e"
            ],
            [
             0.4444444444444444,
             "#bd3786"
            ],
            [
             0.5555555555555556,
             "#d8576b"
            ],
            [
             0.6666666666666666,
             "#ed7953"
            ],
            [
             0.7777777777777778,
             "#fb9f3a"
            ],
            [
             0.8888888888888888,
             "#fdca26"
            ],
            [
             1,
             "#f0f921"
            ]
           ],
           "sequentialminus": [
            [
             0,
             "#0d0887"
            ],
            [
             0.1111111111111111,
             "#46039f"
            ],
            [
             0.2222222222222222,
             "#7201a8"
            ],
            [
             0.3333333333333333,
             "#9c179e"
            ],
            [
             0.4444444444444444,
             "#bd3786"
            ],
            [
             0.5555555555555556,
             "#d8576b"
            ],
            [
             0.6666666666666666,
             "#ed7953"
            ],
            [
             0.7777777777777778,
             "#fb9f3a"
            ],
            [
             0.8888888888888888,
             "#fdca26"
            ],
            [
             1,
             "#f0f921"
            ]
           ]
          },
          "colorway": [
           "#636efa",
           "#EF553B",
           "#00cc96",
           "#ab63fa",
           "#FFA15A",
           "#19d3f3",
           "#FF6692",
           "#B6E880",
           "#FF97FF",
           "#FECB52"
          ],
          "font": {
           "color": "#2a3f5f"
          },
          "geo": {
           "bgcolor": "white",
           "lakecolor": "white",
           "landcolor": "#E5ECF6",
           "showlakes": true,
           "showland": true,
           "subunitcolor": "white"
          },
          "hoverlabel": {
           "align": "left"
          },
          "hovermode": "closest",
          "mapbox": {
           "style": "light"
          },
          "paper_bgcolor": "white",
          "plot_bgcolor": "#E5ECF6",
          "polar": {
           "angularaxis": {
            "gridcolor": "white",
            "linecolor": "white",
            "ticks": ""
           },
           "bgcolor": "#E5ECF6",
           "radialaxis": {
            "gridcolor": "white",
            "linecolor": "white",
            "ticks": ""
           }
          },
          "scene": {
           "xaxis": {
            "backgroundcolor": "#E5ECF6",
            "gridcolor": "white",
            "gridwidth": 2,
            "linecolor": "white",
            "showbackground": true,
            "ticks": "",
            "zerolinecolor": "white"
           },
           "yaxis": {
            "backgroundcolor": "#E5ECF6",
            "gridcolor": "white",
            "gridwidth": 2,
            "linecolor": "white",
            "showbackground": true,
            "ticks": "",
            "zerolinecolor": "white"
           },
           "zaxis": {
            "backgroundcolor": "#E5ECF6",
            "gridcolor": "white",
            "gridwidth": 2,
            "linecolor": "white",
            "showbackground": true,
            "ticks": "",
            "zerolinecolor": "white"
           }
          },
          "shapedefaults": {
           "line": {
            "color": "#2a3f5f"
           }
          },
          "ternary": {
           "aaxis": {
            "gridcolor": "white",
            "linecolor": "white",
            "ticks": ""
           },
           "baxis": {
            "gridcolor": "white",
            "linecolor": "white",
            "ticks": ""
           },
           "bgcolor": "#E5ECF6",
           "caxis": {
            "gridcolor": "white",
            "linecolor": "white",
            "ticks": ""
           }
          },
          "title": {
           "x": 0.05
          },
          "xaxis": {
           "automargin": true,
           "gridcolor": "white",
           "linecolor": "white",
           "ticks": "",
           "title": {
            "standoff": 15
           },
           "zerolinecolor": "white",
           "zerolinewidth": 2
          },
          "yaxis": {
           "automargin": true,
           "gridcolor": "white",
           "linecolor": "white",
           "ticks": "",
           "title": {
            "standoff": 15
           },
           "zerolinecolor": "white",
           "zerolinewidth": 2
          }
         }
        },
        "title": {
         "text": "Proportion of shared cargo over time."
        },
        "xaxis": {
         "anchor": "y",
         "domain": [
          0,
          1
         ],
         "title": {
          "text": "Month"
         }
        },
        "yaxis": {
         "anchor": "x",
         "domain": [
          0,
          1
         ],
         "title": {
          "text": "Proportion of cargo from non-primary carrier"
         }
        }
       }
      }
     },
     "metadata": {},
     "output_type": "display_data"
    }
   ],
   "source": [
    "lf = pl.concat([imports_lf,exports_lf], how='diagonal')\n",
    "\n",
    "sharing_over_time_plotly(\n",
    "    data_lf=lf,\n",
    "    group_var='direction')"
   ]
  },
  {
   "cell_type": "code",
   "execution_count": 14,
   "metadata": {},
   "outputs": [
    {
     "data": {
      "application/vnd.plotly.v1+json": {
       "config": {
        "plotlyServerURL": "https://plot.ly"
       },
       "data": [
        {
         "hovertemplate": "direction=import<br>Month=%{x}<br>Proportion of cargo from non-primary carrier=%{y}<extra></extra>",
         "legendgroup": "import",
         "line": {
          "color": "#636efa",
          "dash": "solid"
         },
         "marker": {
          "symbol": "circle"
         },
         "mode": "lines",
         "name": "import",
         "orientation": "v",
         "showlegend": true,
         "type": "scatter",
         "x": [
          "2005-01-01T00:00:00",
          "2005-02-01T00:00:00",
          "2005-03-01T00:00:00",
          "2005-04-01T00:00:00",
          "2005-05-01T00:00:00",
          "2005-06-01T00:00:00",
          "2005-07-01T00:00:00",
          "2005-08-01T00:00:00",
          "2005-09-01T00:00:00",
          "2005-10-01T00:00:00",
          "2005-11-01T00:00:00",
          "2005-12-01T00:00:00",
          "2006-01-01T00:00:00",
          "2006-02-01T00:00:00",
          "2006-03-01T00:00:00",
          "2006-04-01T00:00:00",
          "2006-05-01T00:00:00",
          "2006-06-01T00:00:00",
          "2006-07-01T00:00:00",
          "2006-08-01T00:00:00",
          "2006-09-01T00:00:00",
          "2006-10-01T00:00:00",
          "2006-11-01T00:00:00",
          "2006-12-01T00:00:00",
          "2007-01-01T00:00:00",
          "2007-02-01T00:00:00",
          "2007-03-01T00:00:00",
          "2007-04-01T00:00:00",
          "2007-05-01T00:00:00",
          "2007-06-01T00:00:00",
          "2007-07-01T00:00:00",
          "2007-08-01T00:00:00",
          "2007-09-01T00:00:00",
          "2007-10-01T00:00:00",
          "2007-11-01T00:00:00",
          "2007-12-01T00:00:00",
          "2008-01-01T00:00:00",
          "2008-02-01T00:00:00",
          "2008-03-01T00:00:00",
          "2008-04-01T00:00:00",
          "2008-05-01T00:00:00",
          "2008-06-01T00:00:00",
          "2008-07-01T00:00:00",
          "2008-08-01T00:00:00",
          "2008-09-01T00:00:00",
          "2008-10-01T00:00:00",
          "2008-11-01T00:00:00",
          "2008-12-01T00:00:00",
          "2009-01-01T00:00:00",
          "2009-02-01T00:00:00",
          "2009-03-01T00:00:00",
          "2009-04-01T00:00:00",
          "2009-05-01T00:00:00",
          "2009-06-01T00:00:00",
          "2009-07-01T00:00:00",
          "2009-08-01T00:00:00",
          "2009-09-01T00:00:00",
          "2009-10-01T00:00:00",
          "2009-11-01T00:00:00",
          "2009-12-01T00:00:00",
          "2010-01-01T00:00:00",
          "2010-02-01T00:00:00",
          "2010-03-01T00:00:00",
          "2010-04-01T00:00:00",
          "2010-05-01T00:00:00",
          "2010-06-01T00:00:00",
          "2010-07-01T00:00:00",
          "2010-08-01T00:00:00",
          "2010-09-01T00:00:00",
          "2010-10-01T00:00:00",
          "2010-11-01T00:00:00",
          "2010-12-01T00:00:00",
          "2011-01-01T00:00:00",
          "2011-02-01T00:00:00",
          "2011-03-01T00:00:00",
          "2011-04-01T00:00:00",
          "2011-05-01T00:00:00",
          "2011-06-01T00:00:00",
          "2011-07-01T00:00:00",
          "2011-08-01T00:00:00",
          "2011-09-01T00:00:00",
          "2011-10-01T00:00:00",
          "2011-11-01T00:00:00",
          "2011-12-01T00:00:00",
          "2012-01-01T00:00:00",
          "2012-02-01T00:00:00",
          "2012-03-01T00:00:00",
          "2012-04-01T00:00:00",
          "2012-05-01T00:00:00",
          "2012-06-01T00:00:00",
          "2012-07-01T00:00:00",
          "2012-08-01T00:00:00",
          "2012-09-01T00:00:00",
          "2012-10-01T00:00:00",
          "2012-11-01T00:00:00",
          "2012-12-01T00:00:00",
          "2013-01-01T00:00:00",
          "2013-02-01T00:00:00",
          "2013-03-01T00:00:00",
          "2013-04-01T00:00:00",
          "2013-05-01T00:00:00",
          "2013-06-01T00:00:00",
          "2013-07-01T00:00:00",
          "2013-08-01T00:00:00",
          "2013-09-01T00:00:00",
          "2013-10-01T00:00:00",
          "2013-11-01T00:00:00",
          "2013-12-01T00:00:00",
          "2014-01-01T00:00:00",
          "2014-02-01T00:00:00",
          "2014-03-01T00:00:00",
          "2014-04-01T00:00:00",
          "2014-05-01T00:00:00",
          "2014-06-01T00:00:00",
          "2014-07-01T00:00:00",
          "2014-08-01T00:00:00",
          "2014-09-01T00:00:00",
          "2014-10-01T00:00:00",
          "2014-11-01T00:00:00",
          "2014-12-01T00:00:00",
          "2015-01-01T00:00:00",
          "2015-02-01T00:00:00",
          "2015-03-01T00:00:00",
          "2015-04-01T00:00:00",
          "2015-05-01T00:00:00",
          "2015-06-01T00:00:00",
          "2015-07-01T00:00:00",
          "2015-08-01T00:00:00",
          "2015-09-01T00:00:00",
          "2015-10-01T00:00:00",
          "2015-11-01T00:00:00",
          "2015-12-01T00:00:00",
          "2016-01-01T00:00:00",
          "2016-02-01T00:00:00",
          "2016-03-01T00:00:00",
          "2016-04-01T00:00:00",
          "2016-05-01T00:00:00",
          "2016-06-01T00:00:00",
          "2016-07-01T00:00:00",
          "2016-08-01T00:00:00",
          "2016-09-01T00:00:00",
          "2016-10-01T00:00:00",
          "2016-11-01T00:00:00",
          "2016-12-01T00:00:00",
          "2017-01-01T00:00:00",
          "2017-02-01T00:00:00",
          "2017-03-01T00:00:00",
          "2017-04-01T00:00:00",
          "2017-05-01T00:00:00",
          "2017-06-01T00:00:00",
          "2017-07-01T00:00:00",
          "2017-08-01T00:00:00",
          "2017-09-01T00:00:00",
          "2017-10-01T00:00:00",
          "2017-11-01T00:00:00",
          "2017-12-01T00:00:00",
          "2018-01-01T00:00:00",
          "2018-02-01T00:00:00",
          "2018-03-01T00:00:00",
          "2018-04-01T00:00:00",
          "2018-05-01T00:00:00",
          "2018-06-01T00:00:00",
          "2018-07-01T00:00:00",
          "2018-08-01T00:00:00",
          "2018-09-01T00:00:00",
          "2018-10-01T00:00:00",
          "2018-11-01T00:00:00",
          "2018-12-01T00:00:00",
          "2019-01-01T00:00:00",
          "2019-02-01T00:00:00",
          "2019-03-01T00:00:00",
          "2019-04-01T00:00:00",
          "2019-05-01T00:00:00",
          "2019-06-01T00:00:00",
          "2019-07-01T00:00:00",
          "2019-08-01T00:00:00",
          "2019-09-01T00:00:00",
          "2019-10-01T00:00:00",
          "2019-11-01T00:00:00",
          "2019-12-01T00:00:00",
          "2020-01-01T00:00:00",
          "2020-02-01T00:00:00",
          "2020-03-01T00:00:00",
          "2020-04-01T00:00:00",
          "2020-05-01T00:00:00",
          "2020-06-01T00:00:00",
          "2020-07-01T00:00:00",
          "2020-08-01T00:00:00",
          "2020-09-01T00:00:00",
          "2020-10-01T00:00:00",
          "2020-11-01T00:00:00",
          "2020-12-01T00:00:00",
          "2021-01-01T00:00:00",
          "2021-02-01T00:00:00",
          "2021-03-01T00:00:00",
          "2021-04-01T00:00:00",
          "2021-05-01T00:00:00",
          "2021-06-01T00:00:00",
          "2021-07-01T00:00:00",
          "2021-08-01T00:00:00",
          "2021-09-01T00:00:00",
          "2021-10-01T00:00:00",
          "2021-11-01T00:00:00",
          "2021-12-01T00:00:00",
          "2022-01-01T00:00:00",
          "2022-02-01T00:00:00",
          "2022-03-01T00:00:00",
          "2022-04-01T00:00:00",
          "2022-05-01T00:00:00",
          "2022-06-01T00:00:00",
          "2022-07-01T00:00:00",
          "2022-08-01T00:00:00",
          "2022-09-01T00:00:00",
          "2022-10-01T00:00:00",
          "2022-11-01T00:00:00",
          "2022-12-01T00:00:00",
          "2023-01-01T00:00:00",
          "2023-02-01T00:00:00",
          "2023-03-01T00:00:00",
          "2023-04-01T00:00:00",
          "2023-05-01T00:00:00",
          "2023-06-01T00:00:00",
          "2023-07-01T00:00:00",
          "2023-08-01T00:00:00",
          "2023-09-01T00:00:00",
          "2023-10-01T00:00:00",
          "2023-11-01T00:00:00"
         ],
         "xaxis": "x",
         "y": [
          0.35735019236132637,
          0.3415085690739238,
          0.3597999265473034,
          0.36630242247588396,
          0.36982538525035136,
          0.3706564653418112,
          0.353449679044764,
          0.34996421160385693,
          0.3496111715069893,
          0.355104902652533,
          0.34861856829873383,
          0.36094373988339556,
          0.3549434982296831,
          0.3483025268266139,
          0.32770669544638753,
          0.32822853963671605,
          0.3184501935457842,
          0.33176815131563553,
          0.3284409266967192,
          0.32399000613195816,
          0.3198612433379089,
          0.3191180045861045,
          0.3230657630355682,
          0.3298811225490049,
          0.3351087277450825,
          0.33274956583494364,
          0.3409956588297193,
          0.33501188245604985,
          0.32944839433437234,
          0.3190017107581874,
          0.31845317011651897,
          0.3227749299763788,
          0.3231934533733172,
          0.33489939939666225,
          0.33791306144181643,
          0.33008943541871094,
          0.32739307955947095,
          0.32955773221843754,
          0.3334249041995827,
          0.3342392489497632,
          0.3446729940467981,
          0.3407690306686135,
          0.35489507070574633,
          0.3533655845006223,
          0.34853016488684097,
          0.3442819731958793,
          0.3466195141702111,
          0.354795246959707,
          0.34994345937210036,
          0.3434474746927908,
          0.3483918372640452,
          0.3583435361938391,
          0.35690412815697736,
          0.35370397845679324,
          0.38116905298151493,
          0.37998256436524236,
          0.3780409126930988,
          0.38345478897437646,
          0.38621443196993044,
          0.3872364074246848,
          0.36260656501053035,
          0.36488938533151305,
          0.3532328397227149,
          0.3721432134483912,
          0.3638541157598253,
          0.35748473559211724,
          0.34892700317162406,
          0.3593047270772868,
          0.3513703396658894,
          0.35550752533393226,
          0.35683126682796096,
          0.3534443748605073,
          0.35240673198294314,
          0.34978852507796254,
          0.33198461106352006,
          0.3481757406840972,
          0.35031278206074834,
          0.3498464578606668,
          0.3610703580438467,
          0.3653777378495999,
          0.36104593521792294,
          0.3603698937648029,
          0.36624919693398317,
          0.3625001849812908,
          0.3661645492074289,
          0.3552794137744808,
          0.3712061369863271,
          0.37958925880271743,
          0.37433154745766506,
          0.3806837755984328,
          0.3859993742672895,
          0.3848431981759578,
          0.3815955802870723,
          0.3799556024839964,
          0.38254822784288733,
          0.3834095215884096,
          0.3892039382391883,
          0.38162086418038677,
          0.37573447706652385,
          0.38689798095524175,
          0.39514274742273137,
          0.3992488950941747,
          0.38869807473310836,
          0.3890754388698845,
          0.38405247336846116,
          0.3905661256805917,
          0.39703091616867847,
          0.39638594749573286,
          0.40092049252296313,
          0.39580643859556386,
          0.39502316845091623,
          0.39948547740216045,
          0.39876734731468166,
          0.4268216540605939,
          0.4362277173108531,
          0.4309483913997493,
          0.43791713316359615,
          0.42573660314855155,
          0.42224100665492736,
          0.4228121588109215,
          0.41032073986154305,
          0.39860680686236005,
          0.4074570249741404,
          0.411570446307699,
          0.41941603035540076,
          0.4131569052959846,
          0.41217836998877033,
          0.41949656958116377,
          0.4283242222925855,
          0.4284170541081096,
          0.42325134910500695,
          0.4155426351617848,
          0.4228810186978549,
          0.4154818329190807,
          0.402661298707935,
          0.4087267966228182,
          0.4205971896840208,
          0.4116441117863493,
          0.42396621857796324,
          0.41295270008639184,
          0.4267897051810027,
          0.41339966192481614,
          0.40382991108948874,
          0.4152023231026972,
          0.41452400956040214,
          0.4090029497770028,
          0.3966922147088999,
          0.41036945823760174,
          0.4323375443224361,
          0.43364192064658413,
          0.4316062946641587,
          0.44113929133918084,
          0.43379659464790565,
          0.4268344036530536,
          0.4266524990226469,
          0.43105779786158227,
          0.4303548949387921,
          0.4289533376457282,
          0.41700973361081106,
          0.4100716793726519,
          0.40338988248808383,
          0.40801336666771537,
          0.3946690866764633,
          0.3940013086123979,
          0.38936881189086714,
          0.3961194245351617,
          0.39929620601828975,
          0.38000769585921723,
          0.41443124529400444,
          0.4029618072265698,
          0.3942143169727321,
          0.3953864097927958,
          0.40599987682231053,
          0.40113173249332634,
          0.41123486993465175,
          0.40039374930364746,
          0.3975389587433378,
          0.40530003106885926,
          0.40501943766262904,
          0.404334230364103,
          0.41571874478363935,
          0.40233581741961144,
          0.36658168073065167,
          0.3528668372637732,
          0.3588150025386849,
          0.40418186923067123,
          0.4259874545535207,
          0.3899392611985365,
          0.3908643810630683,
          0.3892930110810977,
          0.36339585361065385,
          0.3599834906089988,
          0.3594575771148827,
          0.34868489582831164,
          0.37764524826056267,
          0.3604309804787912,
          0.35285244136673455,
          0.346059963285698,
          0.32145444942515433,
          0.3463046827134474,
          0.31616071935372225,
          0.30783982474432425,
          0.29318982570693,
          0.27610704908037453,
          0.2715295459954663,
          0.2857817448620773,
          0.29266438560755903,
          0.29746488649128344,
          0.2909165205762577,
          0.2974452691011148,
          0.29507023868478643,
          0.31490660165336637,
          0.3096393496692589,
          0.296734069624186,
          0.313484406545938,
          0.3083332847267448,
          0.31234721148465827,
          0.3304683575994003,
          0.319628206797393,
          0.3274295978226428,
          0.3473224577318742,
          0.350739855238671,
          0.3522297631519541,
          0.3504825544237393,
          0.3601762868063686,
          0.36101836327306425,
          0.3530784935099168
         ],
         "yaxis": "y"
        },
        {
         "hovertemplate": "direction=export<br>Month=%{x}<br>Proportion of cargo from non-primary carrier=%{y}<extra></extra>",
         "legendgroup": "export",
         "line": {
          "color": "#EF553B",
          "dash": "solid"
         },
         "marker": {
          "symbol": "circle"
         },
         "mode": "lines",
         "name": "export",
         "orientation": "v",
         "showlegend": true,
         "type": "scatter",
         "x": [
          "2005-01-01T00:00:00",
          "2005-02-01T00:00:00",
          "2005-03-01T00:00:00",
          "2005-04-01T00:00:00",
          "2005-05-01T00:00:00",
          "2005-06-01T00:00:00",
          "2005-07-01T00:00:00",
          "2005-08-01T00:00:00",
          "2005-09-01T00:00:00",
          "2005-10-01T00:00:00",
          "2005-11-01T00:00:00",
          "2005-12-01T00:00:00",
          "2006-01-01T00:00:00",
          "2006-02-01T00:00:00",
          "2006-03-01T00:00:00",
          "2006-04-01T00:00:00",
          "2006-05-01T00:00:00",
          "2006-06-01T00:00:00",
          "2006-07-01T00:00:00",
          "2006-08-01T00:00:00",
          "2006-09-01T00:00:00",
          "2006-10-01T00:00:00",
          "2006-11-01T00:00:00",
          "2006-12-01T00:00:00",
          "2007-01-01T00:00:00",
          "2007-02-01T00:00:00",
          "2007-03-01T00:00:00",
          "2007-04-01T00:00:00",
          "2007-05-01T00:00:00",
          "2007-06-01T00:00:00",
          "2007-07-01T00:00:00",
          "2007-08-01T00:00:00",
          "2007-09-01T00:00:00",
          "2007-10-01T00:00:00",
          "2007-11-01T00:00:00",
          "2007-12-01T00:00:00",
          "2008-01-01T00:00:00",
          "2008-02-01T00:00:00",
          "2008-03-01T00:00:00",
          "2008-04-01T00:00:00",
          "2008-05-01T00:00:00",
          "2008-06-01T00:00:00",
          "2008-07-01T00:00:00",
          "2008-08-01T00:00:00",
          "2008-09-01T00:00:00",
          "2008-10-01T00:00:00",
          "2008-11-01T00:00:00",
          "2008-12-01T00:00:00",
          "2009-01-01T00:00:00",
          "2009-02-01T00:00:00",
          "2009-03-01T00:00:00",
          "2009-04-01T00:00:00",
          "2009-05-01T00:00:00",
          "2009-06-01T00:00:00",
          "2009-07-01T00:00:00",
          "2009-08-01T00:00:00",
          "2009-09-01T00:00:00",
          "2009-10-01T00:00:00",
          "2009-11-01T00:00:00",
          "2009-12-01T00:00:00",
          "2010-01-01T00:00:00",
          "2010-02-01T00:00:00",
          "2010-03-01T00:00:00",
          "2010-04-01T00:00:00",
          "2010-05-01T00:00:00",
          "2010-06-01T00:00:00",
          "2010-07-01T00:00:00",
          "2010-08-01T00:00:00",
          "2010-09-01T00:00:00",
          "2010-10-01T00:00:00",
          "2010-11-01T00:00:00",
          "2010-12-01T00:00:00",
          "2011-01-01T00:00:00",
          "2011-02-01T00:00:00",
          "2011-03-01T00:00:00",
          "2011-04-01T00:00:00",
          "2011-05-01T00:00:00",
          "2011-06-01T00:00:00",
          "2011-07-01T00:00:00",
          "2011-08-01T00:00:00",
          "2011-09-01T00:00:00",
          "2011-10-01T00:00:00",
          "2011-11-01T00:00:00",
          "2011-12-01T00:00:00",
          "2012-01-01T00:00:00",
          "2012-02-01T00:00:00",
          "2012-03-01T00:00:00",
          "2012-04-01T00:00:00",
          "2012-05-01T00:00:00",
          "2012-06-01T00:00:00",
          "2012-07-01T00:00:00",
          "2012-08-01T00:00:00",
          "2012-09-01T00:00:00",
          "2012-10-01T00:00:00",
          "2012-11-01T00:00:00",
          "2012-12-01T00:00:00",
          "2013-01-01T00:00:00",
          "2013-02-01T00:00:00",
          "2013-03-01T00:00:00",
          "2013-04-01T00:00:00",
          "2013-05-01T00:00:00",
          "2013-06-01T00:00:00",
          "2013-07-01T00:00:00",
          "2013-08-01T00:00:00",
          "2013-09-01T00:00:00",
          "2013-10-01T00:00:00",
          "2013-11-01T00:00:00",
          "2013-12-01T00:00:00",
          "2014-01-01T00:00:00",
          "2014-02-01T00:00:00",
          "2014-03-01T00:00:00",
          "2014-04-01T00:00:00",
          "2014-05-01T00:00:00",
          "2014-06-01T00:00:00",
          "2014-07-01T00:00:00",
          "2014-08-01T00:00:00",
          "2014-09-01T00:00:00",
          "2014-10-01T00:00:00",
          "2014-11-01T00:00:00",
          "2014-12-01T00:00:00",
          "2015-01-01T00:00:00",
          "2015-02-01T00:00:00",
          "2015-03-01T00:00:00",
          "2015-04-01T00:00:00",
          "2015-05-01T00:00:00",
          "2015-06-01T00:00:00",
          "2015-07-01T00:00:00",
          "2015-08-01T00:00:00",
          "2015-09-01T00:00:00",
          "2015-10-01T00:00:00",
          "2015-11-01T00:00:00",
          "2015-12-01T00:00:00",
          "2016-01-01T00:00:00",
          "2016-02-01T00:00:00",
          "2016-03-01T00:00:00",
          "2016-04-01T00:00:00",
          "2016-05-01T00:00:00",
          "2016-06-01T00:00:00",
          "2016-07-01T00:00:00",
          "2016-08-01T00:00:00",
          "2016-09-01T00:00:00",
          "2016-10-01T00:00:00",
          "2016-11-01T00:00:00",
          "2016-12-01T00:00:00",
          "2017-01-01T00:00:00",
          "2017-02-01T00:00:00",
          "2017-03-01T00:00:00",
          "2017-04-01T00:00:00",
          "2017-05-01T00:00:00",
          "2017-06-01T00:00:00",
          "2017-07-01T00:00:00",
          "2017-08-01T00:00:00",
          "2017-09-01T00:00:00",
          "2017-10-01T00:00:00",
          "2017-11-01T00:00:00",
          "2017-12-01T00:00:00",
          "2018-01-01T00:00:00",
          "2018-02-01T00:00:00",
          "2018-03-01T00:00:00",
          "2018-04-01T00:00:00",
          "2018-05-01T00:00:00",
          "2018-06-01T00:00:00",
          "2018-07-01T00:00:00",
          "2018-08-01T00:00:00",
          "2018-09-01T00:00:00",
          "2018-10-01T00:00:00",
          "2018-11-01T00:00:00",
          "2018-12-01T00:00:00",
          "2019-01-01T00:00:00",
          "2019-02-01T00:00:00",
          "2019-03-01T00:00:00",
          "2019-04-01T00:00:00",
          "2019-05-01T00:00:00",
          "2019-06-01T00:00:00",
          "2019-07-01T00:00:00",
          "2019-08-01T00:00:00",
          "2019-09-01T00:00:00",
          "2019-10-01T00:00:00",
          "2019-11-01T00:00:00",
          "2019-12-01T00:00:00",
          "2020-01-01T00:00:00",
          "2020-02-01T00:00:00",
          "2020-03-01T00:00:00",
          "2020-04-01T00:00:00",
          "2020-05-01T00:00:00",
          "2020-06-01T00:00:00",
          "2020-07-01T00:00:00",
          "2020-08-01T00:00:00",
          "2020-09-01T00:00:00",
          "2020-10-01T00:00:00",
          "2020-11-01T00:00:00",
          "2020-12-01T00:00:00",
          "2021-01-01T00:00:00",
          "2021-02-01T00:00:00",
          "2021-03-01T00:00:00",
          "2021-04-01T00:00:00",
          "2021-05-01T00:00:00",
          "2021-06-01T00:00:00",
          "2021-07-01T00:00:00",
          "2021-08-01T00:00:00",
          "2021-09-01T00:00:00",
          "2021-10-01T00:00:00",
          "2021-11-01T00:00:00",
          "2021-12-01T00:00:00",
          "2022-01-01T00:00:00",
          "2022-02-01T00:00:00",
          "2022-03-01T00:00:00",
          "2022-04-01T00:00:00",
          "2022-05-01T00:00:00",
          "2022-06-01T00:00:00",
          "2022-07-01T00:00:00",
          "2022-08-01T00:00:00",
          "2022-09-01T00:00:00",
          "2022-10-01T00:00:00",
          "2022-11-01T00:00:00",
          "2022-12-01T00:00:00",
          "2023-01-01T00:00:00",
          "2023-02-01T00:00:00",
          "2023-03-01T00:00:00",
          "2023-04-01T00:00:00",
          "2023-05-01T00:00:00",
          "2023-06-01T00:00:00",
          "2023-07-01T00:00:00",
          "2023-08-01T00:00:00",
          "2023-09-01T00:00:00",
          "2023-10-01T00:00:00",
          "2023-11-01T00:00:00"
         ],
         "xaxis": "x",
         "y": [
          0.2819676912505804,
          0.2822401572425842,
          0.2724351683343633,
          0.2728253621865796,
          0.2862576127931149,
          0.2880921895001163,
          0.28845133776017284,
          0.2833105386646735,
          0.28169932337135395,
          0.2847147032763262,
          0.28106457647896,
          0.271785081139558,
          0.28589584694725434,
          0.27047712389133216,
          0.2554615530687696,
          0.2532495505715756,
          0.2487196546544641,
          0.23918695621488595,
          0.24048820484327216,
          0.2382442578727576,
          0.23708391019640263,
          0.23766161311662182,
          0.23502043065372924,
          0.23020170282128416,
          0.22968025875345577,
          0.22866763312669391,
          0.22654466729902034,
          0.2271004768531888,
          0.23058379706770393,
          0.23093407236776797,
          0.21578292359443074,
          0.21742571167400238,
          0.2244862739293061,
          0.22737075027622056,
          0.22531149969540099,
          0.22749893705290425,
          0.23710001972734573,
          0.22803747787878592,
          0.22957832263877354,
          0.22591489972013634,
          0.23252966346983672,
          0.2264992917566926,
          0.24984182800173882,
          0.24293770166591233,
          0.24547957659064168,
          0.2378317911140322,
          0.22959934843176966,
          0.22307161414216414,
          0.23619069612993593,
          0.24279636343100397,
          0.23171312599957705,
          0.23655034802346986,
          0.2363439697129296,
          0.24477675478456928,
          0.24397864550785575,
          0.25348251858217086,
          0.2577238007175562,
          0.25087350961011534,
          0.2569088307633356,
          0.25707215376483916,
          0.24970693697394897,
          0.2527405664168578,
          0.2562588606774686,
          0.26602936494433826,
          0.2588877690207614,
          0.2554564225699524,
          0.2547990764430069,
          0.25436456333679347,
          0.2459194410534613,
          0.24546537158978865,
          0.2398754749083296,
          0.23848328157163645,
          0.24854712969479598,
          0.2368546724974273,
          0.23942805929522026,
          0.24796524058318048,
          0.2524563329211297,
          0.253557418045112,
          0.25502895131845627,
          0.2547187843451363,
          0.2603174445741484,
          0.26037701317674067,
          0.24639770003284678,
          0.25527134000910934,
          0.2681335596159061,
          0.26269333516501236,
          0.27232457671753685,
          0.2848082008181795,
          0.2744032177608149,
          0.2759362573441996,
          0.2861626312862767,
          0.27796959159982704,
          0.2757273458609868,
          0.2622206870698819,
          0.2717723911694956,
          0.27395496936022756,
          0.27856984360549786,
          0.28332384054451254,
          0.2731310286639005,
          0.2787821789439735,
          0.2755288755088986,
          0.2570402236709546,
          0.2747105416107798,
          0.27107034861362744,
          0.28328460865335514,
          0.28310994865737704,
          0.2923297675779186,
          0.29028942726057483,
          0.2909618016395975,
          0.29714637657252474,
          0.30446724603144193,
          0.2894093364054353,
          0.288854104841197,
          0.2991908325880944,
          0.29550111925761435,
          0.2998292414059325,
          0.30050678574619305,
          0.2965505255087031,
          0.3058218217652148,
          0.3197669719938181,
          0.30502562765977903,
          0.3199209225722125,
          0.31963531938900214,
          0.32750311722073744,
          0.3243934351384806,
          0.307774804275495,
          0.3114434000249481,
          0.30520767826190787,
          0.3106978200522754,
          0.32502365294961233,
          0.3158426120661276,
          0.31209209712173025,
          0.324567502359595,
          0.31949085312932424,
          0.3149283118357391,
          0.3239899530708875,
          0.32429466997099876,
          0.32014574230055026,
          0.3129427490988381,
          0.33214931541269876,
          0.32719587825254826,
          0.34134659779726584,
          0.32314149771417455,
          0.3193719059638316,
          0.3267946355714971,
          0.33926427019333827,
          0.3177360284639462,
          0.3126512501786046,
          0.3370142184180671,
          0.34518352939785857,
          0.3501850093864989,
          0.34163797945930563,
          0.3410129862951107,
          0.35150636959158277,
          0.3500054645071684,
          0.35103205526205694,
          0.3158609864676757,
          0.3275875821198859,
          0.34189659201174394,
          0.28705952493958886,
          0.2974142557044751,
          0.2861851164851106,
          0.27981553776685697,
          0.29125680774217033,
          0.2904039233024659,
          0.29106145694911667,
          0.2835441118437293,
          0.2837971210242285,
          0.28767192679179254,
          0.29538682765234336,
          0.28430994841945534,
          0.30493715246615427,
          0.29120458502597246,
          0.297653932941199,
          0.3061070399134157,
          0.2988822538832122,
          0.2891293477195104,
          0.29535588096690035,
          0.28917376449666077,
          0.27538837318616327,
          0.2825345854883673,
          0.3003644365318525,
          0.2810415911596539,
          0.32316609296366217,
          0.3419339930788865,
          0.3138331103166919,
          0.31244832408032575,
          0.3185130615292986,
          0.315866672295663,
          0.27484442148562926,
          0.2909665408452142,
          0.27117628650243764,
          0.2800475694223642,
          0.28337875228483456,
          0.2986897799454653,
          0.2812748832180437,
          0.2725491075887242,
          0.28203478663619663,
          0.2558572010736956,
          0.2713054321094557,
          0.25787341937138786,
          0.27212133168202135,
          0.27078138159086984,
          0.26682623037493547,
          0.28100730774164373,
          0.2819821080371253,
          0.25398372013705717,
          0.26060208007112684,
          0.27059420705148185,
          0.271877050317184,
          0.26872414745412454,
          0.2836127937602404,
          0.27702315224635543,
          0.27800477485456343,
          0.2945104135836092,
          0.2978272930808309,
          0.28150305854446467,
          0.29899118720858187,
          0.2791381681247104,
          0.2819349256923871,
          0.2626795161660652,
          0.2591858541333426,
          0.2688132634325434,
          0.26893083777202365,
          0.2699720341261108,
          0.263567107629492,
          0.2106552526648815
         ],
         "yaxis": "y"
        }
       ],
       "layout": {
        "legend": {
         "title": {
          "text": "direction"
         },
         "tracegroupgap": 0
        },
        "template": {
         "data": {
          "bar": [
           {
            "error_x": {
             "color": "#2a3f5f"
            },
            "error_y": {
             "color": "#2a3f5f"
            },
            "marker": {
             "line": {
              "color": "#E5ECF6",
              "width": 0.5
             },
             "pattern": {
              "fillmode": "overlay",
              "size": 10,
              "solidity": 0.2
             }
            },
            "type": "bar"
           }
          ],
          "barpolar": [
           {
            "marker": {
             "line": {
              "color": "#E5ECF6",
              "width": 0.5
             },
             "pattern": {
              "fillmode": "overlay",
              "size": 10,
              "solidity": 0.2
             }
            },
            "type": "barpolar"
           }
          ],
          "carpet": [
           {
            "aaxis": {
             "endlinecolor": "#2a3f5f",
             "gridcolor": "white",
             "linecolor": "white",
             "minorgridcolor": "white",
             "startlinecolor": "#2a3f5f"
            },
            "baxis": {
             "endlinecolor": "#2a3f5f",
             "gridcolor": "white",
             "linecolor": "white",
             "minorgridcolor": "white",
             "startlinecolor": "#2a3f5f"
            },
            "type": "carpet"
           }
          ],
          "choropleth": [
           {
            "colorbar": {
             "outlinewidth": 0,
             "ticks": ""
            },
            "type": "choropleth"
           }
          ],
          "contour": [
           {
            "colorbar": {
             "outlinewidth": 0,
             "ticks": ""
            },
            "colorscale": [
             [
              0,
              "#0d0887"
             ],
             [
              0.1111111111111111,
              "#46039f"
             ],
             [
              0.2222222222222222,
              "#7201a8"
             ],
             [
              0.3333333333333333,
              "#9c179e"
             ],
             [
              0.4444444444444444,
              "#bd3786"
             ],
             [
              0.5555555555555556,
              "#d8576b"
             ],
             [
              0.6666666666666666,
              "#ed7953"
             ],
             [
              0.7777777777777778,
              "#fb9f3a"
             ],
             [
              0.8888888888888888,
              "#fdca26"
             ],
             [
              1,
              "#f0f921"
             ]
            ],
            "type": "contour"
           }
          ],
          "contourcarpet": [
           {
            "colorbar": {
             "outlinewidth": 0,
             "ticks": ""
            },
            "type": "contourcarpet"
           }
          ],
          "heatmap": [
           {
            "colorbar": {
             "outlinewidth": 0,
             "ticks": ""
            },
            "colorscale": [
             [
              0,
              "#0d0887"
             ],
             [
              0.1111111111111111,
              "#46039f"
             ],
             [
              0.2222222222222222,
              "#7201a8"
             ],
             [
              0.3333333333333333,
              "#9c179e"
             ],
             [
              0.4444444444444444,
              "#bd3786"
             ],
             [
              0.5555555555555556,
              "#d8576b"
             ],
             [
              0.6666666666666666,
              "#ed7953"
             ],
             [
              0.7777777777777778,
              "#fb9f3a"
             ],
             [
              0.8888888888888888,
              "#fdca26"
             ],
             [
              1,
              "#f0f921"
             ]
            ],
            "type": "heatmap"
           }
          ],
          "heatmapgl": [
           {
            "colorbar": {
             "outlinewidth": 0,
             "ticks": ""
            },
            "colorscale": [
             [
              0,
              "#0d0887"
             ],
             [
              0.1111111111111111,
              "#46039f"
             ],
             [
              0.2222222222222222,
              "#7201a8"
             ],
             [
              0.3333333333333333,
              "#9c179e"
             ],
             [
              0.4444444444444444,
              "#bd3786"
             ],
             [
              0.5555555555555556,
              "#d8576b"
             ],
             [
              0.6666666666666666,
              "#ed7953"
             ],
             [
              0.7777777777777778,
              "#fb9f3a"
             ],
             [
              0.8888888888888888,
              "#fdca26"
             ],
             [
              1,
              "#f0f921"
             ]
            ],
            "type": "heatmapgl"
           }
          ],
          "histogram": [
           {
            "marker": {
             "pattern": {
              "fillmode": "overlay",
              "size": 10,
              "solidity": 0.2
             }
            },
            "type": "histogram"
           }
          ],
          "histogram2d": [
           {
            "colorbar": {
             "outlinewidth": 0,
             "ticks": ""
            },
            "colorscale": [
             [
              0,
              "#0d0887"
             ],
             [
              0.1111111111111111,
              "#46039f"
             ],
             [
              0.2222222222222222,
              "#7201a8"
             ],
             [
              0.3333333333333333,
              "#9c179e"
             ],
             [
              0.4444444444444444,
              "#bd3786"
             ],
             [
              0.5555555555555556,
              "#d8576b"
             ],
             [
              0.6666666666666666,
              "#ed7953"
             ],
             [
              0.7777777777777778,
              "#fb9f3a"
             ],
             [
              0.8888888888888888,
              "#fdca26"
             ],
             [
              1,
              "#f0f921"
             ]
            ],
            "type": "histogram2d"
           }
          ],
          "histogram2dcontour": [
           {
            "colorbar": {
             "outlinewidth": 0,
             "ticks": ""
            },
            "colorscale": [
             [
              0,
              "#0d0887"
             ],
             [
              0.1111111111111111,
              "#46039f"
             ],
             [
              0.2222222222222222,
              "#7201a8"
             ],
             [
              0.3333333333333333,
              "#9c179e"
             ],
             [
              0.4444444444444444,
              "#bd3786"
             ],
             [
              0.5555555555555556,
              "#d8576b"
             ],
             [
              0.6666666666666666,
              "#ed7953"
             ],
             [
              0.7777777777777778,
              "#fb9f3a"
             ],
             [
              0.8888888888888888,
              "#fdca26"
             ],
             [
              1,
              "#f0f921"
             ]
            ],
            "type": "histogram2dcontour"
           }
          ],
          "mesh3d": [
           {
            "colorbar": {
             "outlinewidth": 0,
             "ticks": ""
            },
            "type": "mesh3d"
           }
          ],
          "parcoords": [
           {
            "line": {
             "colorbar": {
              "outlinewidth": 0,
              "ticks": ""
             }
            },
            "type": "parcoords"
           }
          ],
          "pie": [
           {
            "automargin": true,
            "type": "pie"
           }
          ],
          "scatter": [
           {
            "fillpattern": {
             "fillmode": "overlay",
             "size": 10,
             "solidity": 0.2
            },
            "type": "scatter"
           }
          ],
          "scatter3d": [
           {
            "line": {
             "colorbar": {
              "outlinewidth": 0,
              "ticks": ""
             }
            },
            "marker": {
             "colorbar": {
              "outlinewidth": 0,
              "ticks": ""
             }
            },
            "type": "scatter3d"
           }
          ],
          "scattercarpet": [
           {
            "marker": {
             "colorbar": {
              "outlinewidth": 0,
              "ticks": ""
             }
            },
            "type": "scattercarpet"
           }
          ],
          "scattergeo": [
           {
            "marker": {
             "colorbar": {
              "outlinewidth": 0,
              "ticks": ""
             }
            },
            "type": "scattergeo"
           }
          ],
          "scattergl": [
           {
            "marker": {
             "colorbar": {
              "outlinewidth": 0,
              "ticks": ""
             }
            },
            "type": "scattergl"
           }
          ],
          "scattermapbox": [
           {
            "marker": {
             "colorbar": {
              "outlinewidth": 0,
              "ticks": ""
             }
            },
            "type": "scattermapbox"
           }
          ],
          "scatterpolar": [
           {
            "marker": {
             "colorbar": {
              "outlinewidth": 0,
              "ticks": ""
             }
            },
            "type": "scatterpolar"
           }
          ],
          "scatterpolargl": [
           {
            "marker": {
             "colorbar": {
              "outlinewidth": 0,
              "ticks": ""
             }
            },
            "type": "scatterpolargl"
           }
          ],
          "scatterternary": [
           {
            "marker": {
             "colorbar": {
              "outlinewidth": 0,
              "ticks": ""
             }
            },
            "type": "scatterternary"
           }
          ],
          "surface": [
           {
            "colorbar": {
             "outlinewidth": 0,
             "ticks": ""
            },
            "colorscale": [
             [
              0,
              "#0d0887"
             ],
             [
              0.1111111111111111,
              "#46039f"
             ],
             [
              0.2222222222222222,
              "#7201a8"
             ],
             [
              0.3333333333333333,
              "#9c179e"
             ],
             [
              0.4444444444444444,
              "#bd3786"
             ],
             [
              0.5555555555555556,
              "#d8576b"
             ],
             [
              0.6666666666666666,
              "#ed7953"
             ],
             [
              0.7777777777777778,
              "#fb9f3a"
             ],
             [
              0.8888888888888888,
              "#fdca26"
             ],
             [
              1,
              "#f0f921"
             ]
            ],
            "type": "surface"
           }
          ],
          "table": [
           {
            "cells": {
             "fill": {
              "color": "#EBF0F8"
             },
             "line": {
              "color": "white"
             }
            },
            "header": {
             "fill": {
              "color": "#C8D4E3"
             },
             "line": {
              "color": "white"
             }
            },
            "type": "table"
           }
          ]
         },
         "layout": {
          "annotationdefaults": {
           "arrowcolor": "#2a3f5f",
           "arrowhead": 0,
           "arrowwidth": 1
          },
          "autotypenumbers": "strict",
          "coloraxis": {
           "colorbar": {
            "outlinewidth": 0,
            "ticks": ""
           }
          },
          "colorscale": {
           "diverging": [
            [
             0,
             "#8e0152"
            ],
            [
             0.1,
             "#c51b7d"
            ],
            [
             0.2,
             "#de77ae"
            ],
            [
             0.3,
             "#f1b6da"
            ],
            [
             0.4,
             "#fde0ef"
            ],
            [
             0.5,
             "#f7f7f7"
            ],
            [
             0.6,
             "#e6f5d0"
            ],
            [
             0.7,
             "#b8e186"
            ],
            [
             0.8,
             "#7fbc41"
            ],
            [
             0.9,
             "#4d9221"
            ],
            [
             1,
             "#276419"
            ]
           ],
           "sequential": [
            [
             0,
             "#0d0887"
            ],
            [
             0.1111111111111111,
             "#46039f"
            ],
            [
             0.2222222222222222,
             "#7201a8"
            ],
            [
             0.3333333333333333,
             "#9c179e"
            ],
            [
             0.4444444444444444,
             "#bd3786"
            ],
            [
             0.5555555555555556,
             "#d8576b"
            ],
            [
             0.6666666666666666,
             "#ed7953"
            ],
            [
             0.7777777777777778,
             "#fb9f3a"
            ],
            [
             0.8888888888888888,
             "#fdca26"
            ],
            [
             1,
             "#f0f921"
            ]
           ],
           "sequentialminus": [
            [
             0,
             "#0d0887"
            ],
            [
             0.1111111111111111,
             "#46039f"
            ],
            [
             0.2222222222222222,
             "#7201a8"
            ],
            [
             0.3333333333333333,
             "#9c179e"
            ],
            [
             0.4444444444444444,
             "#bd3786"
            ],
            [
             0.5555555555555556,
             "#d8576b"
            ],
            [
             0.6666666666666666,
             "#ed7953"
            ],
            [
             0.7777777777777778,
             "#fb9f3a"
            ],
            [
             0.8888888888888888,
             "#fdca26"
            ],
            [
             1,
             "#f0f921"
            ]
           ]
          },
          "colorway": [
           "#636efa",
           "#EF553B",
           "#00cc96",
           "#ab63fa",
           "#FFA15A",
           "#19d3f3",
           "#FF6692",
           "#B6E880",
           "#FF97FF",
           "#FECB52"
          ],
          "font": {
           "color": "#2a3f5f"
          },
          "geo": {
           "bgcolor": "white",
           "lakecolor": "white",
           "landcolor": "#E5ECF6",
           "showlakes": true,
           "showland": true,
           "subunitcolor": "white"
          },
          "hoverlabel": {
           "align": "left"
          },
          "hovermode": "closest",
          "mapbox": {
           "style": "light"
          },
          "paper_bgcolor": "white",
          "plot_bgcolor": "#E5ECF6",
          "polar": {
           "angularaxis": {
            "gridcolor": "white",
            "linecolor": "white",
            "ticks": ""
           },
           "bgcolor": "#E5ECF6",
           "radialaxis": {
            "gridcolor": "white",
            "linecolor": "white",
            "ticks": ""
           }
          },
          "scene": {
           "xaxis": {
            "backgroundcolor": "#E5ECF6",
            "gridcolor": "white",
            "gridwidth": 2,
            "linecolor": "white",
            "showbackground": true,
            "ticks": "",
            "zerolinecolor": "white"
           },
           "yaxis": {
            "backgroundcolor": "#E5ECF6",
            "gridcolor": "white",
            "gridwidth": 2,
            "linecolor": "white",
            "showbackground": true,
            "ticks": "",
            "zerolinecolor": "white"
           },
           "zaxis": {
            "backgroundcolor": "#E5ECF6",
            "gridcolor": "white",
            "gridwidth": 2,
            "linecolor": "white",
            "showbackground": true,
            "ticks": "",
            "zerolinecolor": "white"
           }
          },
          "shapedefaults": {
           "line": {
            "color": "#2a3f5f"
           }
          },
          "ternary": {
           "aaxis": {
            "gridcolor": "white",
            "linecolor": "white",
            "ticks": ""
           },
           "baxis": {
            "gridcolor": "white",
            "linecolor": "white",
            "ticks": ""
           },
           "bgcolor": "#E5ECF6",
           "caxis": {
            "gridcolor": "white",
            "linecolor": "white",
            "ticks": ""
           }
          },
          "title": {
           "x": 0.05
          },
          "xaxis": {
           "automargin": true,
           "gridcolor": "white",
           "linecolor": "white",
           "ticks": "",
           "title": {
            "standoff": 15
           },
           "zerolinecolor": "white",
           "zerolinewidth": 2
          },
          "yaxis": {
           "automargin": true,
           "gridcolor": "white",
           "linecolor": "white",
           "ticks": "",
           "title": {
            "standoff": 15
           },
           "zerolinecolor": "white",
           "zerolinewidth": 2
          }
         }
        },
        "title": {
         "text": "Proportion of shared cargo over time."
        },
        "xaxis": {
         "anchor": "y",
         "domain": [
          0,
          1
         ],
         "title": {
          "text": "Month"
         }
        },
        "yaxis": {
         "anchor": "x",
         "domain": [
          0,
          1
         ],
         "title": {
          "text": "Proportion of cargo from non-primary carrier"
         }
        }
       }
      }
     },
     "metadata": {},
     "output_type": "display_data"
    }
   ],
   "source": [
    "lf = pl.concat([imports_lf,exports_lf], how='diagonal')\n",
    "\n",
    "sharing_over_time_plotly(\n",
    "    data_lf=lf,\n",
    "    include_missing_voyages=False,\n",
    "    group_var='direction')"
   ]
  },
  {
   "cell_type": "code",
   "execution_count": null,
   "metadata": {
    "slideshow": {
     "slide_type": "slide"
    }
   },
   "outputs": [],
   "source": [
    "sharing_over_time_plotly(\n",
    "    data_lf=exports_lf,\n",
    "    group_var='departure_port_name',\n",
    "    title='Proportion of shared cargo over time (Top 10 export ports by total TEUs).')"
   ]
  },
  {
   "cell_type": "code",
   "execution_count": null,
   "metadata": {},
   "outputs": [],
   "source": [
    "sharing_over_time_plotly(\n",
    "    data_lf=exports_lf,\n",
    "    group_var='departure_port_code',\n",
    "    include_missing_voyages=False,\n",
    "    title='Proportion of shared cargo over time (Top 10 export ports by total TEUs).')"
   ]
  },
  {
   "cell_type": "code",
   "execution_count": null,
   "metadata": {},
   "outputs": [],
   "source": [
    "sharing_over_time_plotly(\n",
    "    data_lf=exports_lf,\n",
    "    group_var='lane_name',\n",
    "    include_missing_voyages=False,\n",
    "    title='Proportion of shared cargo over time (Top 10 export lanes by total TEUs).')"
   ]
  },
  {
   "cell_type": "code",
   "execution_count": null,
   "metadata": {},
   "outputs": [],
   "source": [
    "sharing_over_time_plotly(\n",
    "    data_lf=imports_lf,\n",
    "    group_var='lane_name',\n",
    "    title='Proportion of shared cargo over time (Top 10 import lanes by total TEUs).')"
   ]
  },
  {
   "cell_type": "code",
   "execution_count": null,
   "metadata": {},
   "outputs": [],
   "source": [
    "sharing_over_time_plotly(\n",
    "    data_lf=imports_lf,\n",
    "    group_var='primary_scac',\n",
    "    include_missing_voyages=False,\n",
    "    title='Proportion of shared cargo over time (Top 10 Primary Carriers by total TEUs imported).')"
   ]
  },
  {
   "cell_type": "code",
   "execution_count": null,
   "metadata": {},
   "outputs": [],
   "source": [
    "lf = add_primary_carrier_alt(imports_lf)\n",
    "\n",
    "sharing_over_time_plotly_alt(\n",
    "    data_lf=lf,\n",
    "    group_var='vessel_owner',\n",
    "    title='Proportion of shared cargo over time (Top 10 Primary Carriers by total TEUs imported).')"
   ]
  },
  {
   "cell_type": "code",
   "execution_count": null,
   "metadata": {},
   "outputs": [],
   "source": [
    "sharing_over_time_plotly(\n",
    "    data_lf=exports_lf,\n",
    "    group_var='primary_scac',\n",
    "    include_missing_voyages=False,\n",
    "    title='Proportion of shared cargo over time (Top 10 Primary Carriers by total TEUs exported).')"
   ]
  },
  {
   "cell_type": "code",
   "execution_count": null,
   "metadata": {},
   "outputs": [],
   "source": [
    "lf = pl.concat([imports_lf,exports_lf], how='diagonal')\n",
    "\n",
    "sharing_over_time_plotly(\n",
    "    data_lf=lf,\n",
    "    include_missing_voyages=False,\n",
    "    group_var='direction')"
   ]
  },
  {
   "cell_type": "code",
   "execution_count": null,
   "metadata": {},
   "outputs": [],
   "source": [
    "#filter by MSC and Maersk controlled voyages\n",
    "lf = (\n",
    "    imports_lf.filter(\n",
    "        pl.col('primary_scac').is_in(['MEDU','MAEU']),\n",
    "        pl.col('unified_carrier_scac').is_in(['MEDU','MAEU'])\n",
    "    )\n",
    ")\n",
    "sharing_over_time_plotly(\n",
    "    data_lf=lf,\n",
    "    group_var='lane_name',\n",
    "    include_missing_voyages=False,\n",
    "    title='Proportion of shared cargo over time for MSC and Maersk vessels (Top 10 import lanes by total TEUs).')\n"
   ]
  },
  {
   "cell_type": "code",
   "execution_count": null,
   "metadata": {},
   "outputs": [],
   "source": [
    "#filter by MSC and Maersk controlled voyages\n",
    "lf = (\n",
    "    exports_lf.filter(\n",
    "        pl.col('primary_scac').is_in(['MSCU','MLSL']),\n",
    "        pl.col('unified_carrier_scac').is_in(['MSCU','MLSL'])\n",
    "    )\n",
    ")\n",
    "sharing_over_time_plotly(\n",
    "    data_lf=lf,\n",
    "    group_var='lane_name',\n",
    "    include_missing_voyages=False,\n",
    "    title='Proportion of shared cargo over time for MSC and Maersk vessels (Top 10 export lanes by total TEUs).')"
   ]
  },
  {
   "cell_type": "markdown",
   "metadata": {},
   "source": [
    "## revisiting voyage ID\n",
    "\n",
    "the previous method of identifying voyages turns out to be disfunctional, with many (sometimes hundreds) of voyage ids associated with single vessel-date pairs. \n"
   ]
  },
  {
   "cell_type": "code",
   "execution_count": null,
   "metadata": {},
   "outputs": [],
   "source": [
    "#unify col names and concat lfs \n",
    "lf = pl.concat([\n",
    "    imports_lf.rename({\n",
    "        'date_arrival':'date', \n",
    "        'arrival_port_name':'us_port_name', \n",
    "        'departure_port_name':'foreign_port_name'\n",
    "        }), \n",
    "    exports_lf.rename({\n",
    "        'date_departure':'date', \n",
    "        'departure_port_name':'us_port_name', \n",
    "        'arrival_port_name':'foreign_port_name'\n",
    "        })\n",
    "    ], how='diagonal')\n",
    "#filter dates\n",
    "lf = lf.filter(pl.col('date')>dt.datetime(2022,1,1))\n",
    "#choose random vessel\n",
    "sample_vessel = lf.select('vessel_id').drop_nulls().collect().sample(1).item()\n",
    "print('Vessel:', sample_vessel)\n",
    "#get port call dates (teus and carriers for reference)\n",
    "df = (\n",
    "    lf.filter(pl.col('vessel_id')==sample_vessel)\n",
    "    .group_by('date', 'direction')\n",
    "    .agg(\n",
    "        pl.col('voyage_number').unique(),\n",
    "        pl.col('voyage_number').n_unique().alias('num_voyage_numbers'),\n",
    "        pl.col('us_port_name').unique().alias('ports_us'),\n",
    "        pl.col('lane_name').unique().alias('lanes'),\n",
    "        pl.col('teus').sum(),\n",
    "        pl.col('unified_carrier_scac').unique().alias('carriers')\n",
    "    )\n",
    "    .sort('date', 'direction')\n",
    "    .collect()\n",
    ")"
   ]
  },
  {
   "cell_type": "code",
   "execution_count": null,
   "metadata": {},
   "outputs": [],
   "source": [
    "#inspect\n",
    "df.head(20)"
   ]
  },
  {
   "cell_type": "code",
   "execution_count": null,
   "metadata": {},
   "outputs": [],
   "source": []
  },
  {
   "cell_type": "markdown",
   "metadata": {},
   "source": [
    "## Isolating port visits per vessel\n",
    "\n",
    "Possible strategies:\n",
    "- DBSCAN algorithm to identify core points\n",
    "    - earliest point in the neighborhood of the core point is the arrival date\n",
    "    - all bol-dates after that arrival date and before the arrival date from the next core point are assigned the precedeing arrival date. "
   ]
  },
  {
   "cell_type": "code",
   "execution_count": null,
   "metadata": {},
   "outputs": [],
   "source": [
    "sav_df = (\n",
    "    df.filter(pl.col('ports_us').list.contains('SAVANNAH'))\n",
    ")\n",
    "\n",
    "sav_df.head(20)"
   ]
  },
  {
   "cell_type": "code",
   "execution_count": null,
   "metadata": {},
   "outputs": [],
   "source": [
    "# LOS ANGELES - 2704\n",
    "\n",
    "la_df = (\n",
    "    df.filter(pl.col('arrival_port_code')=='2704')\n",
    "    .filter(pl.col('vessel_id')==pl.col('vessel_id').drop_nulls().sample(1))\n",
    "    .group_by('date_arrival')\n",
    "    .agg(\n",
    "        pl.col('lane_name').unique().alias('lanes'),\n",
    "        pl.col('lane_name').n_unique().alias('n_lanes'),\n",
    "        pl.col('teus').sum(),\n",
    "        pl.col('bol_id').count().alias('num_bols')\n",
    "    )\n",
    ")\n",
    "la_df.sort('date_arrival').head(10)"
   ]
  },
  {
   "cell_type": "code",
   "execution_count": null,
   "metadata": {},
   "outputs": [],
   "source": [
    "px.line(data_frame=la_df.sort('date_arrival'), x='date_arrival', y='teus')"
   ]
  },
  {
   "cell_type": "markdown",
   "metadata": {},
   "source": [
    "### 'BULK' Carrier SCAC\n",
    "\n",
    "Many bols show \"BULK\" in place of carrier code, and at least some bols also show legitimate carrier names. We'll need to clean this up. Perhaps assign carrier code based on carrier name where possible and null values for the reminder?"
   ]
  },
  {
   "cell_type": "markdown",
   "metadata": {},
   "source": [
    "## Unpacking Lists (commodity codes, etc)\n",
    "\n",
    "List-like columns include:\n",
    "- container_id_marks\n",
    "- marks_desc\n",
    "- hs_code\n",
    "- job_code\n",
    "- commod_desc_raw\n",
    "- container_ids\n",
    "- commod_short_desc_qty\n",
    "- "
   ]
  },
  {
   "cell_type": "code",
   "execution_count": null,
   "metadata": {},
   "outputs": [],
   "source": [
    "imports_lf.schema"
   ]
  },
  {
   "cell_type": "code",
   "execution_count": null,
   "metadata": {},
   "outputs": [],
   "source": [
    "df = imports_lf.select('bol_id', 'teus', 'date_arrival', 'arrival_port_name', 'lane_name', 'container_id_marks', 'marks_desc', 'container_ids', 'hs_code').collect()"
   ]
  },
  {
   "cell_type": "code",
   "execution_count": null,
   "metadata": {},
   "outputs": [],
   "source": [
    "df2 = (\n",
    "    df.with_columns(pl.col('hs_code').str.split(by=' '))\n",
    "    .filter(pl.col('hs_code').list.len()>1)\n",
    "    .sort('bol_id')\n",
    ")\n",
    "\n",
    "df2.head()"
   ]
  },
  {
   "cell_type": "code",
   "execution_count": null,
   "metadata": {},
   "outputs": [],
   "source": [
    "df_long = df2.explode('hs_code')\n",
    "df_long.head()"
   ]
  },
  {
   "cell_type": "code",
   "execution_count": null,
   "metadata": {},
   "outputs": [],
   "source": [
    "df_long.with_columns(pl.col('hs_code').cast(pl.Utf8).str.split(by='/')).filter(pl.col('hs_code').list.len()>1)"
   ]
  },
  {
   "cell_type": "code",
   "execution_count": null,
   "metadata": {},
   "outputs": [],
   "source": []
  },
  {
   "cell_type": "markdown",
   "metadata": {},
   "source": [
    "## Export Clean data to parquet\n"
   ]
  }
 ],
 "metadata": {
  "kernelspec": {
   "display_name": "wsu",
   "language": "python",
   "name": "python3"
  },
  "language_info": {
   "codemirror_mode": {
    "name": "ipython",
    "version": 3
   },
   "file_extension": ".py",
   "mimetype": "text/x-python",
   "name": "python",
   "nbconvert_exporter": "python",
   "pygments_lexer": "ipython3",
   "version": "3.12.0"
  }
 },
 "nbformat": 4,
 "nbformat_minor": 2
}
