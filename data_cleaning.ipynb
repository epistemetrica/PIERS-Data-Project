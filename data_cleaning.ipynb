{
 "cells": [
  {
   "cell_type": "markdown",
   "metadata": {},
   "source": [
    "# PIERS Data Cleaning\n",
    "\n",
    "This notebook addresses missing data and other issues in the PIERS BOL data. This work is predominantly exploratory in nature, and some of these processes may eventually move to the ETL step. "
   ]
  },
  {
   "cell_type": "code",
   "execution_count": 1,
   "metadata": {},
   "outputs": [],
   "source": [
    "import pandas as pd\n",
    "import polars as pl\n",
    "import plotly_express as px\n",
    "import missingno as msno\n",
    "\n",
    "#display settings\n",
    "pd.set_option('display.max_columns', None)\n",
    "\n",
    "#enable string cache for polars categoricals\n",
    "pl.enable_string_cache()"
   ]
  },
  {
   "cell_type": "markdown",
   "metadata": {},
   "source": [
    "Convenience steps:\n",
    "- create 2-digit hs codes (note this naievely takes the first two digits from the column, which contains multiple hs codes)\n",
    "- create year and month (e.g., 202305) columns \n",
    "- replace zero values with nulls in volume columns\n",
    "- create voyage_id from voyage number and vessel IMO code. \n",
    "- add direction column showing 'import' or 'export' to allow easy merging"
   ]
  },
  {
   "cell_type": "code",
   "execution_count": 2,
   "metadata": {},
   "outputs": [],
   "source": [
    "#set paths\n",
    "imports_path = 'data/clean/imports/'\n",
    "exports_path = 'data/clean/exports/'\n",
    "#init lazy dataframes\n",
    "imports_lf = (\n",
    "    pl.scan_parquet(imports_path+'*.parquet', parallel='columns')\n",
    "    .with_columns([\n",
    "        #create 2-digit hs code\n",
    "        pl.col('hs_code').str.slice(0, length=2).alias('hs_2d'),\n",
    "        #create year and month columns\n",
    "        pl.col('date_arrival').dt.year().alias('year'),\n",
    "        pl.col('date_arrival').dt.strftime('%Y%m').alias('month'),\n",
    "        #convert zero volume values to null\n",
    "        pl.col('teus').replace(0,None),\n",
    "        pl.col('weight').replace(0,None),\n",
    "        pl.col('qty').replace(0,None),\n",
    "        #create voyage_id from vessel IMO and voyage number\n",
    "        (pl.col('vessel_id').cast(pl.Utf8)+'_'+pl.col('voyage_number').cast(pl.Utf8)).cast(pl.Categorical).alias('voyage_id'),\n",
    "        #create direction column\n",
    "        pl.lit('import').cast(pl.Categorical).alias('direction')\n",
    "        ])\n",
    "    )\n",
    "exports_lf = (\n",
    "    pl.scan_parquet(exports_path+'piers_exports_complete.parquet', parallel='columns')\n",
    "    .with_columns([\n",
    "        #create 2-digit hs code\n",
    "        pl.col('hs_code').str.slice(0, length=2).alias('hs_2d'),\n",
    "        #create year and month columns\n",
    "        pl.col('date_departure').dt.year().alias('year'),\n",
    "        pl.col('date_departure').dt.strftime('%Y%m').alias('month'),\n",
    "        #convert zero volume values to null\n",
    "        pl.col('teus').replace(0,None),\n",
    "        pl.col('weight').replace(0,None),\n",
    "        pl.col('qty').replace(0,None),\n",
    "        #create voyage_id from vessel IMO and voyage number\n",
    "        (pl.col('vessel_id').cast(pl.Utf8)+'_'+pl.col('voyage_number').cast(pl.Utf8)).cast(pl.Categorical).alias('voyage_id'),\n",
    "        #create direction column\n",
    "        pl.lit('export').cast(pl.Categorical).alias('direction')\n",
    "        ])\n",
    "    )"
   ]
  },
  {
   "cell_type": "markdown",
   "metadata": {},
   "source": [
    "## Notebook functions"
   ]
  },
  {
   "cell_type": "code",
   "execution_count": 3,
   "metadata": {},
   "outputs": [],
   "source": [
    "#fill nulls in volume cols with mean\n",
    "def fill_volume(lf):\n",
    "    '''ad hod function to fill volume columns with their means'''\n",
    "    return (\n",
    "        lf\n",
    "        .with_columns([\n",
    "            pl.col('teus').replace(0,None).fill_null(strategy='mean'),\n",
    "            pl.col('weight').replace(0,None).fill_null(strategy='mean'),\n",
    "            pl.col('qty').replace(0,None).fill_null(strategy='mean')\n",
    "            ])\n",
    "        )\n",
    "\n",
    "#plotly graph inspecting nulls over time by group\n",
    "def nulls_over_time_plotly(data_lf, group_var, time_var, value_var, title=False):\n",
    "    '''\n",
    "    Plots proportion of null values over time by group.\n",
    "    INPUTS:\n",
    "        data_lf - polars lazyframe containing the relevant data\n",
    "        group_var - str - the name of the column by which to group\n",
    "        time_var - str - the name of the time column (e.g., year, month) over which values will be counted\n",
    "        value_var - str - the name of the column containing the variable in question\n",
    "        title (default=False) - str - the title of the graph\n",
    "    OUTPUT:\n",
    "        a plotly express figure\n",
    "    DEPENDS ON:\n",
    "        polars\n",
    "        plotly express \n",
    "    '''\n",
    "    df = (\n",
    "        #select relevant columns\n",
    "        data_lf.select([group_var, time_var, value_var])\n",
    "        #group by, creating null count and non-null count cols\n",
    "        .group_by(group_var, time_var)\n",
    "        .agg([pl.col(value_var).null_count().alias('null_count'),\n",
    "                pl.col(value_var).count().alias('count')])\n",
    "        #compute percent null and fill new column\n",
    "        .with_columns((pl.col('null_count')/(pl.col('count')+pl.col('null_count'))).alias('null_percent'))\n",
    "        #cast group col to string to allow sensible ordering of legend\n",
    "        .cast({group_var:pl.Utf8})\n",
    "        #sort by date (to allow proper visualization of lines) and group (for legend ordering) \n",
    "        .sort(time_var, group_var)\n",
    "    ).collect()\n",
    "    #plot\n",
    "    fig = px.line(\n",
    "        data_frame=df,\n",
    "        x=time_var, y='null_percent',\n",
    "        color=group_var,\n",
    "        title= 'Count of nulls over time by source frame.' if not title else title\n",
    "    )\n",
    "    fig.show()\n",
    "\n",
    "#plotly graph inspecting nulls by group\n",
    "def nulls_by_group_plotly(data_lf, group_var, value_var, title=False):\n",
    "    '''Plots proportion of null values in the given groups'''\n",
    "    df = (\n",
    "        data_lf.select([group_var, value_var])\n",
    "        .group_by(group_var)\n",
    "        .agg([pl.col(value_var).null_count().alias('null_count'),\n",
    "                pl.col(value_var).count().alias('count')])\n",
    "        .with_columns((pl.col('null_count')/(pl.col('count')+pl.col('null_count'))).alias('null_percent'))\n",
    "        .cast({group_var:pl.Utf8})\n",
    "        .sort('null_percent', descending=True)\n",
    "    ).collect()\n",
    "    #plot\n",
    "    fig = px.bar(\n",
    "        data_frame=df,\n",
    "        x=group_var, y='null_percent',\n",
    "        title= 'Null percent by group.' if not title else title\n",
    "    )\n",
    "    fig.show()\n",
    "\n",
    "#fill nulls over groups given a single unique value per group\n",
    "def fill_nulls_by_group(data_lf, group_vars, val_var):\n",
    "    '''Fills null values by group if and only if the val_var for that group contains exactly one non-null unique value.\n",
    "    INPUTS:\n",
    "        data_lf - polars lazyframe containing the relevant data\n",
    "        group_vars - iterable - the names of the columns by which groups will be created\n",
    "        val_var - string - the name of the column in which nulls will be filled\n",
    "    OUTPUT:\n",
    "        filled_lf - the resultant lazyframe \n",
    "    DEPENDS ON:\n",
    "        polars - current version written in polars 0.20.1\n",
    "    '''\n",
    "    filled_lf = (\n",
    "        data_lf.with_columns(\n",
    "            #if the group contains exactly one unique value: \n",
    "            pl.when(pl.col(val_var).drop_nulls().unique(maintain_order=True).len().over(group_vars)==1)\n",
    "            #then fill the group with that value\n",
    "            .then(pl.col(val_var).fill_null(pl.col(val_var).drop_nulls().unique(maintain_order=True).first().over(group_vars)))\n",
    "            #otherwise do nothing\n",
    "            .otherwise(pl.col(val_var))\n",
    "            )\n",
    "        )\n",
    "    return filled_lf"
   ]
  },
  {
   "cell_type": "markdown",
   "metadata": {},
   "source": [
    "## Missing Data\n"
   ]
  },
  {
   "cell_type": "code",
   "execution_count": 4,
   "metadata": {},
   "outputs": [
    {
     "name": "stdout",
     "output_type": "stream",
     "text": [
      "Missing Values Matrix for Exports. \n",
      "The vertical axis corresponds to date, with earliest at the top.  \n",
      "Note the daily aggregation counts the row as non-null if any value that day is non-null.\n"
     ]
    },
    {
     "data": {
      "image/png": "[encoded data removed]",
      "text/plain": [
       "<Figure size 2500x1000 with 2 Axes>"
      ]
     },
     "metadata": {},
     "output_type": "display_data"
    }
   ],
   "source": [
    "print('Missing Values Matrix for Exports. \\nThe vertical axis corresponds to date, with earliest at the top.  \\nNote the daily aggregation counts the row as non-null if any value that day is non-null.')\n",
    "msno.matrix(\n",
    "    exports_lf\n",
    "    #convert all columns except date to boolean False=null\n",
    "    .with_columns(pl.all().exclude('date_departure').is_not_null())\n",
    "    #aggregate by day to stay within visualization limitations \n",
    "    .group_by('date_departure').sum()\n",
    "    .sort('date_departure')\n",
    "    #convert False values back to null \n",
    "    .with_columns(pl.all().replace(0,None))\n",
    "    .collect()\n",
    "    .to_pandas()\n",
    "    );"
   ]
  },
  {
   "cell_type": "code",
   "execution_count": 5,
   "metadata": {},
   "outputs": [
    {
     "name": "stdout",
     "output_type": "stream",
     "text": [
      "Missing Values Matrix for Imports. \n",
      "The vertical axis corresponds to date, with earliest at the top. \n",
      "Note the daily aggregation counts the row as non-null if any value that day is non-null.\n"
     ]
    },
    {
     "data": {
      "image/png": "[encoded data removed]",
      "text/plain": [
       "<Figure size 2500x1000 with 2 Axes>"
      ]
     },
     "metadata": {},
     "output_type": "display_data"
    }
   ],
   "source": [
    "print('Missing Values Matrix for Imports. \\nThe vertical axis corresponds to date, with earliest at the top. \\nNote the daily aggregation counts the row as non-null if any value that day is non-null.')\n",
    "msno.matrix(\n",
    "    imports_lf\n",
    "    #convert all columns except date to boolean False=null\n",
    "    .with_columns(pl.all().exclude('date_arrival').is_not_null())\n",
    "    #aggregate by day to stay within visualization limitations \n",
    "    .group_by('date_arrival').sum()\n",
    "    .sort('date_arrival')\n",
    "    #convert False values back to null \n",
    "    .with_columns(pl.all().replace(0,None))\n",
    "    .collect()\n",
    "    .to_pandas()\n",
    "    );"
   ]
  },
  {
   "cell_type": "markdown",
   "metadata": {},
   "source": [
    "### Zero values in TEU and other volume columns\n",
    "\n",
    "For the time being, we fill the zero (i.e., missing) volume data with the mean from non-zero observations. This step is expected to change as beter metadata is gathered. "
   ]
  },
  {
   "cell_type": "code",
   "execution_count": 6,
   "metadata": {},
   "outputs": [],
   "source": [
    "imports_lf = fill_volume(imports_lf)\n",
    "exports_lf = fill_volume(exports_lf)    "
   ]
  },
  {
   "cell_type": "markdown",
   "metadata": {},
   "source": [
    "### Missing Vessel and Voyage IDs\n",
    "\n",
    "Identifying unique vessels and voyages is critical to studying how long each vessel remains in port, how often carriers utilize alliances (e.g., what proportion of a vessel's cargo is from another carrier), and other quality metrics. The issue is especially concerning given the high proportion (~30% in some time periods) of missing data, as can be seen below."
   ]
  },
  {
   "cell_type": "code",
   "execution_count": 7,
   "metadata": {},
   "outputs": [
    {
     "data": {
      "application/vnd.plotly.v1+json": {
       "config": {
        "plotlyServerURL": "https://plot.ly"
       },
       "data": [
        {
         "hovertemplate": "direction=export<br>month=%{x}<br>null_percent=%{y}<extra></extra>",
         "legendgroup": "export",
         "line": {
          "color": "#636efa",
          "dash": "solid"
         },
         "marker": {
          "symbol": "circle"
         },
         "mode": "lines",
         "name": "export",
         "orientation": "v",
         "showlegend": true,
         "type": "scatter",
         "x": [
          "200501",
          "200502",
          "200503",
          "200504",
          "200505",
          "200506",
          "200507",
          "200508",
          "200509",
          "200510",
          "200511",
          "200512",
          "200601",
          "200602",
          "200603",
          "200604",
          "200605",
          "200606",
          "200607",
          "200608",
          "200609",
          "200610",
          "200611",
          "200612",
          "200701",
          "200702",
          "200703",
          "200704",
          "200705",
          "200706",
          "200707",
          "200708",
          "200709",
          "200710",
          "200711",
          "200712",
          "200801",
          "200802",
          "200803",
          "200804",
          "200805",
          "200806",
          "200807",
          "200808",
          "200809",
          "200810",
          "200811",
          "200812",
          "200901",
          "200902",
          "200903",
          "200904",
          "200905",
          "200906",
          "200907",
          "200908",
          "200909",
          "200910",
          "200911",
          "200912",
          "201001",
          "201002",
          "201003",
          "201004",
          "201005",
          "201006",
          "201007",
          "201008",
          "201009",
          "201010",
          "201011",
          "201012",
          "201101",
          "201102",
          "201103",
          "201104",
          "201105",
          "201106",
          "201107",
          "201108",
          "201109",
          "201110",
          "201111",
          "201112",
          "201201",
          "201202",
          "201203",
          "201204",
          "201205",
          "201206",
          "201207",
          "201208",
          "201209",
          "201210",
          "201211",
          "201212",
          "201301",
          "201302",
          "201303",
          "201304",
          "201305",
          "201306",
          "201307",
          "201308",
          "201309",
          "201310",
          "201311",
          "201312",
          "201401",
          "201402",
          "201403",
          "201404",
          "201405",
          "201406",
          "201407",
          "201408",
          "201409",
          "201410",
          "201411",
          "201412",
          "201501",
          "201502",
          "201503",
          "201504",
          "201505",
          "201506",
          "201507",
          "201508",
          "201509",
          "201510",
          "201511",
          "201512",
          "201601",
          "201602",
          "201603",
          "201604",
          "201605",
          "201606",
          "201607",
          "201608",
          "201609",
          "201610",
          "201611",
          "201612",
          "201701",
          "201702",
          "201703",
          "201704",
          "201705",
          "201706",
          "201707",
          "201708",
          "201709",
          "201710",
          "201711",
          "201712",
          "201801",
          "201802",
          "201803",
          "201804",
          "201805",
          "201806",
          "201807",
          "201808",
          "201809",
          "201810",
          "201811",
          "201812",
          "201901",
          "201902",
          "201903",
          "201904",
          "201905",
          "201906",
          "201907",
          "201908",
          "201909",
          "201910",
          "201911",
          "201912",
          "202001",
          "202002",
          "202003",
          "202004",
          "202005",
          "202006",
          "202007",
          "202008",
          "202009",
          "202010",
          "202011",
          "202012",
          "202101",
          "202102",
          "202103",
          "202104",
          "202105",
          "202106",
          "202107",
          "202108",
          "202109",
          "202110",
          "202111",
          "202112",
          "202201",
          "202202",
          "202203",
          "202204",
          "202205",
          "202206",
          "202207",
          "202208",
          "202209",
          "202210",
          "202211",
          "202212",
          "202301",
          "202302",
          "202303",
          "202304",
          "202305",
          "202306",
          "202307",
          "202308",
          "202309",
          "202310",
          "202311"
         ],
         "xaxis": "x",
         "y": [
          0.006237866395086089,
          0.0035582563647526474,
          0.003021670366804849,
          0.0036981267505636914,
          0.0033172241726085153,
          0.00442339260428806,
          0.003180847430426678,
          0.003936543568346611,
          0.0036574972268975945,
          0.005828732614692068,
          0.004228364391773909,
          0.006236615846837344,
          0.004659432284961069,
          0.0058340340210853115,
          0.003583100956493059,
          0.00428298983941793,
          0.0058343578853246895,
          0.005186939705573711,
          0.0064352078239608805,
          0.004360742110868225,
          0.004979576850704484,
          0.003960616863378503,
          0.0035997441504157556,
          0.003871687587168759,
          0.004114956283414719,
          0.0033219507075795372,
          0.003308702299229593,
          0.0029535882050680338,
          0.0026109270471871837,
          0.0017115703658106313,
          0.002961519803452107,
          0.0024602373405434408,
          0.0030534590210140617,
          0.0018521709166092351,
          0.005513038802760104,
          0.0025391288241286697,
          0.0027017744705208927,
          0.0024470473571540454,
          0.0034224861430217418,
          0.005305744806123307,
          0.003810435615126855,
          0.0026697580851390286,
          0.00434185303514377,
          0.0021739689727031824,
          0.0053139300881596754,
          0.004817424478355653,
          0.0062853954105679104,
          0.005978354814093402,
          0.003399133499575108,
          0.0036413743251485237,
          0.007646402063152598,
          0.004111980610840676,
          0.0042464468711132936,
          0.005520006479831524,
          0.005289474293386421,
          0.005790827817350343,
          0.0061997731593414354,
          0.007315470266819385,
          0.009409479409479409,
          0.05974082006872428,
          0.34605112272898797,
          0.2908672695906738,
          0.23926494449893076,
          0.2533285201622322,
          0.2302265382082191,
          0.22185323683900454,
          0.24430207331804846,
          0.2439210521457101,
          0.23637901486040847,
          0.23151830946785318,
          0.23625466113926724,
          0.22669576231096733,
          0.2046536607545889,
          0.22279935186113528,
          0.21293932242796199,
          0.22567670701747544,
          0.22956000632662985,
          0.23673267896459926,
          0.222694363379015,
          0.23865534037753627,
          0.23677888957121698,
          0.18985416771452493,
          0.21303473069692272,
          0.19249468804918224,
          0.16236121111691967,
          0.20273040827785355,
          0.17636200681600442,
          0.16733236431780507,
          0.17198099910035838,
          0.1891928251121076,
          0.180385547959344,
          0.16559320588987497,
          0.17713532376890267,
          0.16217849154595637,
          0.17347796993081263,
          0.14663659600060142,
          0.14605723830019593,
          0.160577018142271,
          0.13933129304157338,
          0.13751278580277962,
          0.16462217716027186,
          0.028425308492919986,
          0.0010120759777656621,
          0.0015675595272148929,
          0.0006864872730953933,
          0.0007814225287512528,
          0.0006736079253456596,
          0.0008701531016591134,
          0.0014027957588371217,
          0.0012141243128393647,
          0.0017823187171846176,
          0.0016318066554606315,
          0.0025142675793540055,
          0.0011314070092635845,
          0.0014926328530527689,
          0.00139652118624824,
          0.0017355335588794666,
          0.0023638499598402757,
          0.004530481676753778,
          0.06360912135634504,
          0.040003351829115005,
          0.0018829835959897538,
          0.004629629629629629,
          0.003953362906126363,
          0.0033654179473550415,
          0.0034243890507355225,
          0.004713711770477342,
          0.003842171151260374,
          0.0037986860551778028,
          0.0037884008170940486,
          0.0032700172912133838,
          0.006965164031473475,
          0.031949932919763266,
          0.030667613358781112,
          0.03383520897856551,
          0.03211243558507755,
          0.03040820619424131,
          0.03261087474661974,
          0.08386585986540745,
          0.03155186310372621,
          0.028167733602523025,
          0.030499022213001974,
          0.029995737463522524,
          0.025856286715271994,
          0.03978614449839476,
          0.03837990353391247,
          0.0419478527607362,
          0.04321225868998428,
          0.04654101601740047,
          0.043531304057539986,
          0.035496405192362426,
          0.035284029114029954,
          0.037532428375947176,
          0.048890979587182117,
          0.08619275186882913,
          0.17598242688709925,
          0.1928450158470849,
          0.17736161193181083,
          0.1772442627619116,
          0.16919961645799572,
          0.17318736336554036,
          0.15842392661283453,
          0.14036005829573217,
          0.15568963832148053,
          0.14563884484010564,
          0.1158974358974359,
          0.15017257167007114,
          0.1271882479936171,
          0.12501499146639605,
          0.12646099080391576,
          0.11785679687415906,
          0.16303883909517713,
          0.13172584122089454,
          0.10976642106913309,
          0.1284193830872582,
          0.128917266628129,
          0.09734683454915732,
          0.11562242314647378,
          0.12055735295860442,
          0.13350782872638264,
          0.12436739970855341,
          0.17923076451436876,
          0.11812628505021008,
          0.1500455356547879,
          0.158431518474501,
          0.11227433691729238,
          0.11123085952088779,
          0.10957380580989487,
          0.10431532892338143,
          0.1143857030107619,
          0.1152246668732569,
          0.1294986018078949,
          0.12799436051324503,
          0.11537025181391379,
          0.11968056955996145,
          0.14337706256532604,
          0.15983583163038143,
          0.12066350993970806,
          0.13733671458212246,
          0.09711911863360492,
          0.12868888190509017,
          0.1109965102998358,
          0.08922062083510204,
          0.08506823498353708,
          0.08274021352313167,
          0.08190202247191011,
          0.07406802857752721,
          0.094725891549241,
          0.059732864302175816,
          0.06258798745471916,
          0.062288119012639045,
          0.038275039194195094,
          0.033841498725967104,
          0.03517027309547633,
          0.02914565970435916,
          0.02543544373790434,
          0.02288850777053317,
          0.019466355263737717,
          0.016716351642775594,
          0.009817647862313891,
          0.01331645172189024,
          0.013595266833028502,
          0.008019220387339428,
          0.006470461438975196,
          0.003955136204090866,
          0.0037713136361558503,
          0.000038915805654466564
         ],
         "yaxis": "y"
        },
        {
         "hovertemplate": "direction=import<br>month=%{x}<br>null_percent=%{y}<extra></extra>",
         "legendgroup": "import",
         "line": {
          "color": "#EF553B",
          "dash": "solid"
         },
         "marker": {
          "symbol": "circle"
         },
         "mode": "lines",
         "name": "import",
         "orientation": "v",
         "showlegend": true,
         "type": "scatter",
         "x": [
          "200501",
          "200502",
          "200503",
          "200504",
          "200505",
          "200506",
          "200507",
          "200508",
          "200509",
          "200510",
          "200511",
          "200512",
          "200601",
          "200602",
          "200603",
          "200604",
          "200605",
          "200606",
          "200607",
          "200608",
          "200609",
          "200610",
          "200611",
          "200612",
          "200701",
          "200702",
          "200703",
          "200704",
          "200705",
          "200706",
          "200707",
          "200708",
          "200709",
          "200710",
          "200711",
          "200712",
          "200801",
          "200802",
          "200803",
          "200804",
          "200805",
          "200806",
          "200807",
          "200808",
          "200809",
          "200810",
          "200811",
          "200812",
          "200901",
          "200902",
          "200903",
          "200904",
          "200905",
          "200906",
          "200907",
          "200908",
          "200909",
          "200910",
          "200911",
          "200912",
          "201001",
          "201002",
          "201003",
          "201004",
          "201005",
          "201006",
          "201007",
          "201008",
          "201009",
          "201010",
          "201011",
          "201012",
          "201101",
          "201102",
          "201103",
          "201104",
          "201105",
          "201106",
          "201107",
          "201108",
          "201109",
          "201110",
          "201111",
          "201112",
          "201201",
          "201202",
          "201203",
          "201204",
          "201205",
          "201206",
          "201207",
          "201208",
          "201209",
          "201210",
          "201211",
          "201212",
          "201301",
          "201302",
          "201303",
          "201304",
          "201305",
          "201306",
          "201307",
          "201308",
          "201309",
          "201310",
          "201311",
          "201312",
          "201401",
          "201402",
          "201403",
          "201404",
          "201405",
          "201406",
          "201407",
          "201408",
          "201409",
          "201410",
          "201411",
          "201412",
          "201501",
          "201502",
          "201503",
          "201504",
          "201505",
          "201506",
          "201507",
          "201508",
          "201509",
          "201510",
          "201511",
          "201512",
          "201601",
          "201602",
          "201603",
          "201604",
          "201605",
          "201606",
          "201607",
          "201608",
          "201609",
          "201610",
          "201611",
          "201612",
          "201701",
          "201702",
          "201703",
          "201704",
          "201705",
          "201706",
          "201707",
          "201708",
          "201709",
          "201710",
          "201711",
          "201712",
          "201801",
          "201802",
          "201803",
          "201804",
          "201805",
          "201806",
          "201807",
          "201808",
          "201809",
          "201810",
          "201811",
          "201812",
          "201901",
          "201902",
          "201903",
          "201904",
          "201905",
          "201906",
          "201907",
          "201908",
          "201909",
          "201910",
          "201911",
          "201912",
          "202001",
          "202002",
          "202003",
          "202004",
          "202005",
          "202006",
          "202007",
          "202008",
          "202009",
          "202010",
          "202011",
          "202012",
          "202101",
          "202102",
          "202103",
          "202104",
          "202105",
          "202106",
          "202107",
          "202108",
          "202109",
          "202110",
          "202111",
          "202112",
          "202201",
          "202202",
          "202203",
          "202204",
          "202205",
          "202206",
          "202207",
          "202208",
          "202209",
          "202210",
          "202211",
          "202212",
          "202301",
          "202302",
          "202303",
          "202304",
          "202305",
          "202306",
          "202307",
          "202308",
          "202309",
          "202310",
          "202311"
         ],
         "xaxis": "x",
         "y": [
          0.004301813257183477,
          0.004892210442294447,
          0.0024617843425360246,
          0.002987291258063419,
          0.00240174672489083,
          0.0014568263442763924,
          0.0020580531351900356,
          0.0017129678363972172,
          0.0037774367255103054,
          0.003108904348900831,
          0.0033373020628045067,
          0.0014649853501464986,
          0.0014971355156727277,
          0.0020148392612654624,
          0.002990545212212087,
          0.001983863918720506,
          0.0018214116532449076,
          0.0014758875397308925,
          0.0018491149218175316,
          0.0016748934158735353,
          0.0024897707094881493,
          0.001421101707918747,
          0.0013115727737289498,
          0.001477351369126792,
          0.0013178244556153204,
          0.001199403932591076,
          0.0021058927614609163,
          0.0018454819118463328,
          0.0009362159538133462,
          0.0007955074667164387,
          0.0008214706101997489,
          0.001035418451870894,
          0.0012229877012484899,
          0.0012663317338223303,
          0.001157586500700232,
          0.001501728804732868,
          0.001846646977032948,
          0.0010657436936782664,
          0.0011162815719396402,
          0.0014182689091371305,
          0.0011936022917164002,
          0.001325969810747945,
          0.0017469954417959704,
          0.0012370544428281923,
          0.0021692515401459025,
          0.0011987019379774298,
          0.0017671621017050256,
          0.002743635343059337,
          0.0017470096043733752,
          0.0018392551521000124,
          0.001617244512512215,
          0.0018367919237240605,
          0.001247163328398381,
          0.0012026341298122724,
          0.0010533796989618499,
          0.0009471028272499242,
          0.001484695582619748,
          0.0014542884126239187,
          0.0015144392409356794,
          0.002952056089065692,
          0.14889499777108353,
          0.3149952450451117,
          0.24198736952205468,
          0.20448798942983185,
          0.16567030687881465,
          0.18129035787126638,
          0.18717205183287716,
          0.1810738210042951,
          0.19481516156468193,
          0.20006872614298885,
          0.1849683006339873,
          0.196245267326963,
          0.17771436942815555,
          0.18079337341606538,
          0.18539245719175537,
          0.17264159025482098,
          0.17682933879784932,
          0.17857754563089265,
          0.15613311107497155,
          0.16671429713175798,
          0.15204403113540388,
          0.16275804650008274,
          0.1292984815036035,
          0.13589541481150097,
          0.10641211741956001,
          0.13277718458085844,
          0.12072673949458243,
          0.10632368927990223,
          0.10906091984766854,
          0.10855048173212742,
          0.09731810623710628,
          0.10096652388846059,
          0.0940911180235734,
          0.09662067317151757,
          0.09496413754811095,
          0.0957659967394319,
          0.09134218390578613,
          0.09684409095544,
          0.09423282851460915,
          0.10206527573033872,
          0.10929994377822987,
          0.1091010664825258,
          0.020537679163659388,
          0.0029645712384895294,
          0.00045406333051281747,
          0.0005650504229822463,
          0.0003559702115902359,
          0.0005116821359292505,
          0.00332692600779512,
          0.004861055643602927,
          0.004071012759694608,
          0.002752280695184913,
          0.004292684971411207,
          0.003572274645294003,
          0.0034234110159070564,
          0.0043227114494472285,
          0.005173047985286741,
          0.0031568224791796167,
          0.002630345555927923,
          0.005243768596946679,
          0.055197456434491025,
          0.05580831987525756,
          0.0019745551894377648,
          0.002640218812490386,
          0.0010379320014881866,
          0.0011865650578605702,
          0.002975830162573504,
          0.0024595302265283843,
          0.0011815244183538156,
          0.001210965533265498,
          0.0011858584284078443,
          0.0013105515985167553,
          0.00824975153520038,
          0.008321356625274362,
          0.008583903276347945,
          0.0081035005903979,
          0.008836674082936523,
          0.010590964276267151,
          0.014951201934484886,
          0.20633445173019044,
          0.007096745511595095,
          0.007102970739334376,
          0.010266163206144926,
          0.007042423116487252,
          0.01634134902115192,
          0.03859159183757052,
          0.01731570093811231,
          0.019353576380338088,
          0.019711533821152684,
          0.018236525843673614,
          0.020994649702995322,
          0.026635146722560975,
          0.024472456390054444,
          0.03194133955219526,
          0.020980623600336864,
          0.08836409877849433,
          0.1864718950359817,
          0.1813314470529493,
          0.15618488088123716,
          0.15558794239487791,
          0.1648931330605128,
          0.13499249791324208,
          0.10981181370656089,
          0.13665232160470053,
          0.1506012586246114,
          0.1125327688795181,
          0.14025157299245747,
          0.12260045299225208,
          0.14125881478850955,
          0.11942554446540476,
          0.0927930375488702,
          0.14157923215721613,
          0.10455576287650262,
          0.07905360005502325,
          0.11270279065449133,
          0.11272419249524997,
          0.0830708876382154,
          0.08865987988226466,
          0.10363922202158232,
          0.08149855396855298,
          0.10622265584882408,
          0.10482597111765382,
          0.08417140358548317,
          0.07554936762353225,
          0.1444572224981775,
          0.06719003213090118,
          0.057283486427744196,
          0.06595223128016311,
          0.05156631416739589,
          0.08752920336146933,
          0.05910936148951146,
          0.13426868700767086,
          0.133061987226254,
          0.11732569672804591,
          0.10448466284872278,
          0.12658325365139644,
          0.13315683897425895,
          0.11113200816574484,
          0.12013660555788919,
          0.08815439979784306,
          0.07829539147272041,
          0.10207914765545828,
          0.07040065268793107,
          0.058964663294584795,
          0.05807452997798257,
          0.06089489481883002,
          0.05558086595072955,
          0.06174683907587812,
          0.045801017277951064,
          0.05285801300544984,
          0.03967837163152888,
          0.03533196996011861,
          0.05581811459888554,
          0.02198554473852983,
          0.015246716177032438,
          0.01914826167119174,
          0.0115472800000694,
          0.017109689196953128,
          0.005754786931496234,
          0.004877270866902403,
          0.006782546222445906,
          0.0018587132724952873,
          0.0008240027565372045,
          0.001868646557065591,
          0.0014786519062325405,
          0.001323845066652573,
          0.0001310078082700726
         ],
         "yaxis": "y"
        }
       ],
       "layout": {
        "legend": {
         "title": {
          "text": "direction"
         },
         "tracegroupgap": 0
        },
        "template": {
         "data": {
          "bar": [
           {
            "error_x": {
             "color": "#2a3f5f"
            },
            "error_y": {
             "color": "#2a3f5f"
            },
            "marker": {
             "line": {
              "color": "#E5ECF6",
              "width": 0.5
             },
             "pattern": {
              "fillmode": "overlay",
              "size": 10,
              "solidity": 0.2
             }
            },
            "type": "bar"
           }
          ],
          "barpolar": [
           {
            "marker": {
             "line": {
              "color": "#E5ECF6",
              "width": 0.5
             },
             "pattern": {
              "fillmode": "overlay",
              "size": 10,
              "solidity": 0.2
             }
            },
            "type": "barpolar"
           }
          ],
          "carpet": [
           {
            "aaxis": {
             "endlinecolor": "#2a3f5f",
             "gridcolor": "white",
             "linecolor": "white",
             "minorgridcolor": "white",
             "startlinecolor": "#2a3f5f"
            },
            "baxis": {
             "endlinecolor": "#2a3f5f",
             "gridcolor": "white",
             "linecolor": "white",
             "minorgridcolor": "white",
             "startlinecolor": "#2a3f5f"
            },
            "type": "carpet"
           }
          ],
          "choropleth": [
           {
            "colorbar": {
             "outlinewidth": 0,
             "ticks": ""
            },
            "type": "choropleth"
           }
          ],
          "contour": [
           {
            "colorbar": {
             "outlinewidth": 0,
             "ticks": ""
            },
            "colorscale": [
             [
              0,
              "#0d0887"
             ],
             [
              0.1111111111111111,
              "#46039f"
             ],
             [
              0.2222222222222222,
              "#7201a8"
             ],
             [
              0.3333333333333333,
              "#9c179e"
             ],
             [
              0.4444444444444444,
              "#bd3786"
             ],
             [
              0.5555555555555556,
              "#d8576b"
             ],
             [
              0.6666666666666666,
              "#ed7953"
             ],
             [
              0.7777777777777778,
              "#fb9f3a"
             ],
             [
              0.8888888888888888,
              "#fdca26"
             ],
             [
              1,
              "#f0f921"
             ]
            ],
            "type": "contour"
           }
          ],
          "contourcarpet": [
           {
            "colorbar": {
             "outlinewidth": 0,
             "ticks": ""
            },
            "type": "contourcarpet"
           }
          ],
          "heatmap": [
           {
            "colorbar": {
             "outlinewidth": 0,
             "ticks": ""
            },
            "colorscale": [
             [
              0,
              "#0d0887"
             ],
             [
              0.1111111111111111,
              "#46039f"
             ],
             [
              0.2222222222222222,
              "#7201a8"
             ],
             [
              0.3333333333333333,
              "#9c179e"
             ],
             [
              0.4444444444444444,
              "#bd3786"
             ],
             [
              0.5555555555555556,
              "#d8576b"
             ],
             [
              0.6666666666666666,
              "#ed7953"
             ],
             [
              0.7777777777777778,
              "#fb9f3a"
             ],
             [
              0.8888888888888888,
              "#fdca26"
             ],
             [
              1,
              "#f0f921"
             ]
            ],
            "type": "heatmap"
           }
          ],
          "heatmapgl": [
           {
            "colorbar": {
             "outlinewidth": 0,
             "ticks": ""
            },
            "colorscale": [
             [
              0,
              "#0d0887"
             ],
             [
              0.1111111111111111,
              "#46039f"
             ],
             [
              0.2222222222222222,
              "#7201a8"
             ],
             [
              0.3333333333333333,
              "#9c179e"
             ],
             [
              0.4444444444444444,
              "#bd3786"
             ],
             [
              0.5555555555555556,
              "#d8576b"
             ],
             [
              0.6666666666666666,
              "#ed7953"
             ],
             [
              0.7777777777777778,
              "#fb9f3a"
             ],
             [
              0.8888888888888888,
              "#fdca26"
             ],
             [
              1,
              "#f0f921"
             ]
            ],
            "type": "heatmapgl"
           }
          ],
          "histogram": [
           {
            "marker": {
             "pattern": {
              "fillmode": "overlay",
              "size": 10,
              "solidity": 0.2
             }
            },
            "type": "histogram"
           }
          ],
          "histogram2d": [
           {
            "colorbar": {
             "outlinewidth": 0,
             "ticks": ""
            },
            "colorscale": [
             [
              0,
              "#0d0887"
             ],
             [
              0.1111111111111111,
              "#46039f"
             ],
             [
              0.2222222222222222,
              "#7201a8"
             ],
             [
              0.3333333333333333,
              "#9c179e"
             ],
             [
              0.4444444444444444,
              "#bd3786"
             ],
             [
              0.5555555555555556,
              "#d8576b"
             ],
             [
              0.6666666666666666,
              "#ed7953"
             ],
             [
              0.7777777777777778,
              "#fb9f3a"
             ],
             [
              0.8888888888888888,
              "#fdca26"
             ],
             [
              1,
              "#f0f921"
             ]
            ],
            "type": "histogram2d"
           }
          ],
          "histogram2dcontour": [
           {
            "colorbar": {
             "outlinewidth": 0,
             "ticks": ""
            },
            "colorscale": [
             [
              0,
              "#0d0887"
             ],
             [
              0.1111111111111111,
              "#46039f"
             ],
             [
              0.2222222222222222,
              "#7201a8"
             ],
             [
              0.3333333333333333,
              "#9c179e"
             ],
             [
              0.4444444444444444,
              "#bd3786"
             ],
             [
              0.5555555555555556,
              "#d8576b"
             ],
             [
              0.6666666666666666,
              "#ed7953"
             ],
             [
              0.7777777777777778,
              "#fb9f3a"
             ],
             [
              0.8888888888888888,
              "#fdca26"
             ],
             [
              1,
              "#f0f921"
             ]
            ],
            "type": "histogram2dcontour"
           }
          ],
          "mesh3d": [
           {
            "colorbar": {
             "outlinewidth": 0,
             "ticks": ""
            },
            "type": "mesh3d"
           }
          ],
          "parcoords": [
           {
            "line": {
             "colorbar": {
              "outlinewidth": 0,
              "ticks": ""
             }
            },
            "type": "parcoords"
           }
          ],
          "pie": [
           {
            "automargin": true,
            "type": "pie"
           }
          ],
          "scatter": [
           {
            "fillpattern": {
             "fillmode": "overlay",
             "size": 10,
             "solidity": 0.2
            },
            "type": "scatter"
           }
          ],
          "scatter3d": [
           {
            "line": {
             "colorbar": {
              "outlinewidth": 0,
              "ticks": ""
             }
            },
            "marker": {
             "colorbar": {
              "outlinewidth": 0,
              "ticks": ""
             }
            },
            "type": "scatter3d"
           }
          ],
          "scattercarpet": [
           {
            "marker": {
             "colorbar": {
              "outlinewidth": 0,
              "ticks": ""
             }
            },
            "type": "scattercarpet"
           }
          ],
          "scattergeo": [
           {
            "marker": {
             "colorbar": {
              "outlinewidth": 0,
              "ticks": ""
             }
            },
            "type": "scattergeo"
           }
          ],
          "scattergl": [
           {
            "marker": {
             "colorbar": {
              "outlinewidth": 0,
              "ticks": ""
             }
            },
            "type": "scattergl"
           }
          ],
          "scattermapbox": [
           {
            "marker": {
             "colorbar": {
              "outlinewidth": 0,
              "ticks": ""
             }
            },
            "type": "scattermapbox"
           }
          ],
          "scatterpolar": [
           {
            "marker": {
             "colorbar": {
              "outlinewidth": 0,
              "ticks": ""
             }
            },
            "type": "scatterpolar"
           }
          ],
          "scatterpolargl": [
           {
            "marker": {
             "colorbar": {
              "outlinewidth": 0,
              "ticks": ""
             }
            },
            "type": "scatterpolargl"
           }
          ],
          "scatterternary": [
           {
            "marker": {
             "colorbar": {
              "outlinewidth": 0,
              "ticks": ""
             }
            },
            "type": "scatterternary"
           }
          ],
          "surface": [
           {
            "colorbar": {
             "outlinewidth": 0,
             "ticks": ""
            },
            "colorscale": [
             [
              0,
              "#0d0887"
             ],
             [
              0.1111111111111111,
              "#46039f"
             ],
             [
              0.2222222222222222,
              "#7201a8"
             ],
             [
              0.3333333333333333,
              "#9c179e"
             ],
             [
              0.4444444444444444,
              "#bd3786"
             ],
             [
              0.5555555555555556,
              "#d8576b"
             ],
             [
              0.6666666666666666,
              "#ed7953"
             ],
             [
              0.7777777777777778,
              "#fb9f3a"
             ],
             [
              0.8888888888888888,
              "#fdca26"
             ],
             [
              1,
              "#f0f921"
             ]
            ],
            "type": "surface"
           }
          ],
          "table": [
           {
            "cells": {
             "fill": {
              "color": "#EBF0F8"
             },
             "line": {
              "color": "white"
             }
            },
            "header": {
             "fill": {
              "color": "#C8D4E3"
             },
             "line": {
              "color": "white"
             }
            },
            "type": "table"
           }
          ]
         },
         "layout": {
          "annotationdefaults": {
           "arrowcolor": "#2a3f5f",
           "arrowhead": 0,
           "arrowwidth": 1
          },
          "autotypenumbers": "strict",
          "coloraxis": {
           "colorbar": {
            "outlinewidth": 0,
            "ticks": ""
           }
          },
          "colorscale": {
           "diverging": [
            [
             0,
             "#8e0152"
            ],
            [
             0.1,
             "#c51b7d"
            ],
            [
             0.2,
             "#de77ae"
            ],
            [
             0.3,
             "#f1b6da"
            ],
            [
             0.4,
             "#fde0ef"
            ],
            [
             0.5,
             "#f7f7f7"
            ],
            [
             0.6,
             "#e6f5d0"
            ],
            [
             0.7,
             "#b8e186"
            ],
            [
             0.8,
             "#7fbc41"
            ],
            [
             0.9,
             "#4d9221"
            ],
            [
             1,
             "#276419"
            ]
           ],
           "sequential": [
            [
             0,
             "#0d0887"
            ],
            [
             0.1111111111111111,
             "#46039f"
            ],
            [
             0.2222222222222222,
             "#7201a8"
            ],
            [
             0.3333333333333333,
             "#9c179e"
            ],
            [
             0.4444444444444444,
             "#bd3786"
            ],
            [
             0.5555555555555556,
             "#d8576b"
            ],
            [
             0.6666666666666666,
             "#ed7953"
            ],
            [
             0.7777777777777778,
             "#fb9f3a"
            ],
            [
             0.8888888888888888,
             "#fdca26"
            ],
            [
             1,
             "#f0f921"
            ]
           ],
           "sequentialminus": [
            [
             0,
             "#0d0887"
            ],
            [
             0.1111111111111111,
             "#46039f"
            ],
            [
             0.2222222222222222,
             "#7201a8"
            ],
            [
             0.3333333333333333,
             "#9c179e"
            ],
            [
             0.4444444444444444,
             "#bd3786"
            ],
            [
             0.5555555555555556,
             "#d8576b"
            ],
            [
             0.6666666666666666,
             "#ed7953"
            ],
            [
             0.7777777777777778,
             "#fb9f3a"
            ],
            [
             0.8888888888888888,
             "#fdca26"
            ],
            [
             1,
             "#f0f921"
            ]
           ]
          },
          "colorway": [
           "#636efa",
           "#EF553B",
           "#00cc96",
           "#ab63fa",
           "#FFA15A",
           "#19d3f3",
           "#FF6692",
           "#B6E880",
           "#FF97FF",
           "#FECB52"
          ],
          "font": {
           "color": "#2a3f5f"
          },
          "geo": {
           "bgcolor": "white",
           "lakecolor": "white",
           "landcolor": "#E5ECF6",
           "showlakes": true,
           "showland": true,
           "subunitcolor": "white"
          },
          "hoverlabel": {
           "align": "left"
          },
          "hovermode": "closest",
          "mapbox": {
           "style": "light"
          },
          "paper_bgcolor": "white",
          "plot_bgcolor": "#E5ECF6",
          "polar": {
           "angularaxis": {
            "gridcolor": "white",
            "linecolor": "white",
            "ticks": ""
           },
           "bgcolor": "#E5ECF6",
           "radialaxis": {
            "gridcolor": "white",
            "linecolor": "white",
            "ticks": ""
           }
          },
          "scene": {
           "xaxis": {
            "backgroundcolor": "#E5ECF6",
            "gridcolor": "white",
            "gridwidth": 2,
            "linecolor": "white",
            "showbackground": true,
            "ticks": "",
            "zerolinecolor": "white"
           },
           "yaxis": {
            "backgroundcolor": "#E5ECF6",
            "gridcolor": "white",
            "gridwidth": 2,
            "linecolor": "white",
            "showbackground": true,
            "ticks": "",
            "zerolinecolor": "white"
           },
           "zaxis": {
            "backgroundcolor": "#E5ECF6",
            "gridcolor": "white",
            "gridwidth": 2,
            "linecolor": "white",
            "showbackground": true,
            "ticks": "",
            "zerolinecolor": "white"
           }
          },
          "shapedefaults": {
           "line": {
            "color": "#2a3f5f"
           }
          },
          "ternary": {
           "aaxis": {
            "gridcolor": "white",
            "linecolor": "white",
            "ticks": ""
           },
           "baxis": {
            "gridcolor": "white",
            "linecolor": "white",
            "ticks": ""
           },
           "bgcolor": "#E5ECF6",
           "caxis": {
            "gridcolor": "white",
            "linecolor": "white",
            "ticks": ""
           }
          },
          "title": {
           "x": 0.05
          },
          "xaxis": {
           "automargin": true,
           "gridcolor": "white",
           "linecolor": "white",
           "ticks": "",
           "title": {
            "standoff": 15
           },
           "zerolinecolor": "white",
           "zerolinewidth": 2
          },
          "yaxis": {
           "automargin": true,
           "gridcolor": "white",
           "linecolor": "white",
           "ticks": "",
           "title": {
            "standoff": 15
           },
           "zerolinecolor": "white",
           "zerolinewidth": 2
          }
         }
        },
        "title": {
         "text": "Proportion of Missing Vessel IDs over time (original data)."
        },
        "xaxis": {
         "anchor": "y",
         "domain": [
          0,
          1
         ],
         "title": {
          "text": "month"
         }
        },
        "yaxis": {
         "anchor": "x",
         "domain": [
          0,
          1
         ],
         "title": {
          "text": "null_percent"
         }
        }
       }
      }
     },
     "metadata": {},
     "output_type": "display_data"
    }
   ],
   "source": [
    "lf = pl.concat(\n",
    "    [imports_lf.select('direction', 'month', 'vessel_id'),\n",
    "    exports_lf.select('direction', 'month', 'vessel_id')]\n",
    ")\n",
    "\n",
    "nulls_over_time_plotly(\n",
    "    data_lf=lf,\n",
    "    group_var='direction',\n",
    "    time_var='month',\n",
    "    value_var='vessel_id',\n",
    "    title='Proportion of Missing Vessel IDs over time (original data).')"
   ]
  },
  {
   "cell_type": "code",
   "execution_count": 8,
   "metadata": {},
   "outputs": [
    {
     "data": {
      "application/vnd.plotly.v1+json": {
       "config": {
        "plotlyServerURL": "https://plot.ly"
       },
       "data": [
        {
         "hovertemplate": "direction=export<br>month=%{x}<br>null_percent=%{y}<extra></extra>",
         "legendgroup": "export",
         "line": {
          "color": "#636efa",
          "dash": "solid"
         },
         "marker": {
          "symbol": "circle"
         },
         "mode": "lines",
         "name": "export",
         "orientation": "v",
         "showlegend": true,
         "type": "scatter",
         "x": [
          "200501",
          "200502",
          "200503",
          "200504",
          "200505",
          "200506",
          "200507",
          "200508",
          "200509",
          "200510",
          "200511",
          "200512",
          "200601",
          "200602",
          "200603",
          "200604",
          "200605",
          "200606",
          "200607",
          "200608",
          "200609",
          "200610",
          "200611",
          "200612",
          "200701",
          "200702",
          "200703",
          "200704",
          "200705",
          "200706",
          "200707",
          "200708",
          "200709",
          "200710",
          "200711",
          "200712",
          "200801",
          "200802",
          "200803",
          "200804",
          "200805",
          "200806",
          "200807",
          "200808",
          "200809",
          "200810",
          "200811",
          "200812",
          "200901",
          "200902",
          "200903",
          "200904",
          "200905",
          "200906",
          "200907",
          "200908",
          "200909",
          "200910",
          "200911",
          "200912",
          "201001",
          "201002",
          "201003",
          "201004",
          "201005",
          "201006",
          "201007",
          "201008",
          "201009",
          "201010",
          "201011",
          "201012",
          "201101",
          "201102",
          "201103",
          "201104",
          "201105",
          "201106",
          "201107",
          "201108",
          "201109",
          "201110",
          "201111",
          "201112",
          "201201",
          "201202",
          "201203",
          "201204",
          "201205",
          "201206",
          "201207",
          "201208",
          "201209",
          "201210",
          "201211",
          "201212",
          "201301",
          "201302",
          "201303",
          "201304",
          "201305",
          "201306",
          "201307",
          "201308",
          "201309",
          "201310",
          "201311",
          "201312",
          "201401",
          "201402",
          "201403",
          "201404",
          "201405",
          "201406",
          "201407",
          "201408",
          "201409",
          "201410",
          "201411",
          "201412",
          "201501",
          "201502",
          "201503",
          "201504",
          "201505",
          "201506",
          "201507",
          "201508",
          "201509",
          "201510",
          "201511",
          "201512",
          "201601",
          "201602",
          "201603",
          "201604",
          "201605",
          "201606",
          "201607",
          "201608",
          "201609",
          "201610",
          "201611",
          "201612",
          "201701",
          "201702",
          "201703",
          "201704",
          "201705",
          "201706",
          "201707",
          "201708",
          "201709",
          "201710",
          "201711",
          "201712",
          "201801",
          "201802",
          "201803",
          "201804",
          "201805",
          "201806",
          "201807",
          "201808",
          "201809",
          "201810",
          "201811",
          "201812",
          "201901",
          "201902",
          "201903",
          "201904",
          "201905",
          "201906",
          "201907",
          "201908",
          "201909",
          "201910",
          "201911",
          "201912",
          "202001",
          "202002",
          "202003",
          "202004",
          "202005",
          "202006",
          "202007",
          "202008",
          "202009",
          "202010",
          "202011",
          "202012",
          "202101",
          "202102",
          "202103",
          "202104",
          "202105",
          "202106",
          "202107",
          "202108",
          "202109",
          "202110",
          "202111",
          "202112",
          "202201",
          "202202",
          "202203",
          "202204",
          "202205",
          "202206",
          "202207",
          "202208",
          "202209",
          "202210",
          "202211",
          "202212",
          "202301",
          "202302",
          "202303",
          "202304",
          "202305",
          "202306",
          "202307",
          "202308",
          "202309",
          "202310",
          "202311"
         ],
         "xaxis": "x",
         "y": [
          0,
          0,
          0,
          0,
          0,
          0,
          0,
          0,
          0,
          0,
          0,
          0,
          0,
          0,
          0,
          0,
          0,
          0,
          0,
          0,
          0,
          0,
          0,
          0,
          0,
          0,
          0.0000037471147216643186,
          0,
          0,
          0,
          0,
          0,
          0,
          0,
          0,
          0,
          0,
          0,
          0,
          0,
          0,
          0,
          0,
          0,
          0,
          0,
          0,
          0,
          0.000051079874993615015,
          0,
          0,
          0,
          0,
          0.000004049894702737729,
          0,
          0.000011451867799638121,
          0.000004036310650612914,
          0.000060085998084758814,
          0.000979020979020979,
          0.051955406259149114,
          0.3459558675366641,
          0.2908672695906738,
          0.23926494449893076,
          0.2533285201622322,
          0.2302265382082191,
          0.22185323683900454,
          0.24430207331804846,
          0.2439210521457101,
          0.23637901486040847,
          0.23151830946785318,
          0.23625466113926724,
          0.22669576231096733,
          0.2046536607545889,
          0.22279935186113528,
          0.21293932242796199,
          0.22567670701747544,
          0.22956000632662985,
          0.23673267896459926,
          0.222694363379015,
          0.23865534037753627,
          0.23677888957121698,
          0.18985416771452493,
          0.21303473069692272,
          0.19249468804918224,
          0.16236121111691967,
          0.20273040827785355,
          0.17636200681600442,
          0.16733236431780507,
          0.17198099910035838,
          0.1891928251121076,
          0.180385547959344,
          0.16559320588987497,
          0.17713532376890267,
          0.16217849154595637,
          0.17347796993081263,
          0.14663659600060142,
          0.14605402627437125,
          0.16056774927084877,
          0.13933129304157338,
          0.13750941001326686,
          0.16454849301179536,
          0.02823027533728353,
          0.0006110056212517155,
          0.0012672059681682437,
          0.0004334044074381054,
          0.0005577544861014377,
          0.0005313372859407574,
          0.0007051798370322927,
          0.0012323626292587797,
          0.0010927118815554282,
          0.0016914999290478217,
          0.0014700700666008168,
          0.0023555869269029366,
          0.001019176287165052,
          0.0013791578408323829,
          0.0012858213361188065,
          0.0016162744716508597,
          0.002195207701520353,
          0.004346599285394982,
          0.06328541897024181,
          0.03978111098561993,
          0.0016285263532884358,
          0.0029353569820620364,
          0.0020261359549214723,
          0.0014328303020498718,
          0.0015365848304582472,
          0.003249490673091637,
          0.0031528677186529216,
          0.0032996365474967084,
          0.0013169057003641397,
          0.0011102107486265927,
          0.004411157793609234,
          0.0306192949812285,
          0.028250942892318116,
          0.03270675538928582,
          0.03081634814902513,
          0.030309217120160364,
          0.03252495616561284,
          0.08365536265213921,
          0.031133362266724533,
          0.027026603382009018,
          0.02811633377163411,
          0.027846584456347752,
          0.025762694943860534,
          0.038638594815463397,
          0.037321826882137255,
          0.04019256987048398,
          0.041185458492951695,
          0.04461927736803333,
          0.04142211162028467,
          0.0333679820816473,
          0.03419942393421855,
          0.03642911811383644,
          0.04658170829056905,
          0.08386639664499991,
          0.1724524307896075,
          0.1904181672736601,
          0.17312563814250448,
          0.17523493201542528,
          0.16495982305602103,
          0.16825436380730152,
          0.15495195937034612,
          0.1368793527834995,
          0.1532692495645025,
          0.14412146827347944,
          0.1133319048639383,
          0.14765736892770773,
          0.1235341839368685,
          0.12216430647170072,
          0.12390652295724974,
          0.11570939582144818,
          0.16109295325381315,
          0.12856510628577955,
          0.10742749647280138,
          0.12616888246569136,
          0.1266225235167376,
          0.09467349293519038,
          0.11425388788426763,
          0.11729832545241227,
          0.13120147305114516,
          0.12113999235031753,
          0.17696524154337603,
          0.11588843529306594,
          0.14566596820648753,
          0.15587231311915492,
          0.10948360065318313,
          0.1085382987426417,
          0.1066045060610088,
          0.10021680816709204,
          0.11154074409441593,
          0.11231174465447784,
          0.1257690056578006,
          0.12565319743377484,
          0.11161905142979087,
          0.11608182410713788,
          0.1407278296847268,
          0.15638806753964357,
          0.11619387656910013,
          0.13382017254759346,
          0.09368297391868526,
          0.12450874044937366,
          0.1079244351779494,
          0.08518121727880981,
          0.07903305051808722,
          0.08011281895964262,
          0.07793258426966292,
          0.07178910889845938,
          0.09141701559481988,
          0.05596252740433043,
          0.05888449631507696,
          0.05847114861283541,
          0.03584708020589092,
          0.031521455872133425,
          0.032430687198110104,
          0.0268374661316322,
          0.022139603917174747,
          0.018298717880914785,
          0.01669751318321362,
          0.013433971838132691,
          0.007738013932522879,
          0.010589684698366329,
          0.008252682399460929,
          0.004658512779626961,
          0.002890729649417235,
          0.0007698650729365062,
          0.0001523763085315495,
          0.000038915805654466564
         ],
         "yaxis": "y"
        },
        {
         "hovertemplate": "direction=import<br>month=%{x}<br>null_percent=%{y}<extra></extra>",
         "legendgroup": "import",
         "line": {
          "color": "#EF553B",
          "dash": "solid"
         },
         "marker": {
          "symbol": "circle"
         },
         "mode": "lines",
         "name": "import",
         "orientation": "v",
         "showlegend": true,
         "type": "scatter",
         "x": [
          "200501",
          "200502",
          "200503",
          "200504",
          "200505",
          "200506",
          "200507",
          "200508",
          "200509",
          "200510",
          "200511",
          "200512",
          "200601",
          "200602",
          "200603",
          "200604",
          "200605",
          "200606",
          "200607",
          "200608",
          "200609",
          "200610",
          "200611",
          "200612",
          "200701",
          "200702",
          "200703",
          "200704",
          "200705",
          "200706",
          "200707",
          "200708",
          "200709",
          "200710",
          "200711",
          "200712",
          "200801",
          "200802",
          "200803",
          "200804",
          "200805",
          "200806",
          "200807",
          "200808",
          "200809",
          "200810",
          "200811",
          "200812",
          "200901",
          "200902",
          "200903",
          "200904",
          "200905",
          "200906",
          "200907",
          "200908",
          "200909",
          "200910",
          "200911",
          "200912",
          "201001",
          "201002",
          "201003",
          "201004",
          "201005",
          "201006",
          "201007",
          "201008",
          "201009",
          "201010",
          "201011",
          "201012",
          "201101",
          "201102",
          "201103",
          "201104",
          "201105",
          "201106",
          "201107",
          "201108",
          "201109",
          "201110",
          "201111",
          "201112",
          "201201",
          "201202",
          "201203",
          "201204",
          "201205",
          "201206",
          "201207",
          "201208",
          "201209",
          "201210",
          "201211",
          "201212",
          "201301",
          "201302",
          "201303",
          "201304",
          "201305",
          "201306",
          "201307",
          "201308",
          "201309",
          "201310",
          "201311",
          "201312",
          "201401",
          "201402",
          "201403",
          "201404",
          "201405",
          "201406",
          "201407",
          "201408",
          "201409",
          "201410",
          "201411",
          "201412",
          "201501",
          "201502",
          "201503",
          "201504",
          "201505",
          "201506",
          "201507",
          "201508",
          "201509",
          "201510",
          "201511",
          "201512",
          "201601",
          "201602",
          "201603",
          "201604",
          "201605",
          "201606",
          "201607",
          "201608",
          "201609",
          "201610",
          "201611",
          "201612",
          "201701",
          "201702",
          "201703",
          "201704",
          "201705",
          "201706",
          "201707",
          "201708",
          "201709",
          "201710",
          "201711",
          "201712",
          "201801",
          "201802",
          "201803",
          "201804",
          "201805",
          "201806",
          "201807",
          "201808",
          "201809",
          "201810",
          "201811",
          "201812",
          "201901",
          "201902",
          "201903",
          "201904",
          "201905",
          "201906",
          "201907",
          "201908",
          "201909",
          "201910",
          "201911",
          "201912",
          "202001",
          "202002",
          "202003",
          "202004",
          "202005",
          "202006",
          "202007",
          "202008",
          "202009",
          "202010",
          "202011",
          "202012",
          "202101",
          "202102",
          "202103",
          "202104",
          "202105",
          "202106",
          "202107",
          "202108",
          "202109",
          "202110",
          "202111",
          "202112",
          "202201",
          "202202",
          "202203",
          "202204",
          "202205",
          "202206",
          "202207",
          "202208",
          "202209",
          "202210",
          "202211",
          "202212",
          "202301",
          "202302",
          "202303",
          "202304",
          "202305",
          "202306",
          "202307",
          "202308",
          "202309",
          "202310",
          "202311"
         ],
         "xaxis": "x",
         "y": [
          0,
          0,
          0,
          0,
          0,
          0,
          0,
          0,
          0,
          0,
          0,
          0,
          0.000002621953617640504,
          0,
          0,
          0,
          0,
          0,
          0,
          0,
          0,
          0,
          0,
          0,
          0,
          0,
          0,
          0,
          0,
          0,
          0,
          0,
          0,
          0,
          0,
          0,
          0,
          0,
          0,
          0,
          0,
          0,
          0.0000021073527645307243,
          0,
          0,
          0,
          0,
          0,
          0,
          0.000003362440863071321,
          0,
          0,
          0,
          0,
          0.000022844379013630478,
          0.00003699620418945016,
          0.00010409304822795282,
          0.00008980665496283164,
          0.0002558777499419812,
          0.001587030153572918,
          0.14811825415051266,
          0.3149952450451117,
          0.24198736952205468,
          0.20448798942983185,
          0.16567030687881465,
          0.18129035787126638,
          0.18717205183287716,
          0.1810738210042951,
          0.19481516156468193,
          0.20006872614298885,
          0.1849683006339873,
          0.196245267326963,
          0.17771436942815555,
          0.18079337341606538,
          0.18539245719175537,
          0.17264159025482098,
          0.17682933879784932,
          0.17857754563089265,
          0.15613311107497155,
          0.16671429713175798,
          0.15204403113540388,
          0.16275804650008274,
          0.1292984815036035,
          0.13589541481150097,
          0.10641211741956001,
          0.13277718458085844,
          0.12072673949458243,
          0.10632368927990223,
          0.10906091984766854,
          0.10855048173212742,
          0.09731810623710628,
          0.10096652388846059,
          0.0940911180235734,
          0.09662067317151757,
          0.09496413754811095,
          0.0957659967394319,
          0.09134218390578613,
          0.09684409095544,
          0.09423282851460915,
          0.10206527573033872,
          0.10929994377822987,
          0.10906749913683968,
          0.0202376893478155,
          0.0026285565302604282,
          0.00018472392711151367,
          0.00018297966854211237,
          0.00011437310047484113,
          0.00019474469352531173,
          0.0031213560058930066,
          0.004673283531685142,
          0.0038173957607852927,
          0.0025591997790686246,
          0.004064486909464747,
          0.0033775938865550654,
          0.003102056342000072,
          0.004115046424062911,
          0.004891043861115755,
          0.002871515155459947,
          0.002312527592658776,
          0.004986803522582907,
          0.05478716082117927,
          0.055649607395444674,
          0.001795255203646443,
          0.0024419320104599293,
          0.0007709075145606553,
          0.0009280270956816257,
          0.002715323417502594,
          0.002162083788209607,
          0.0009362403871107621,
          0.0010278327494068215,
          0.0009712288442976277,
          0.0010501608404234544,
          0.008027693622496748,
          0.008094049730899907,
          0.008368670691471443,
          0.007871972002100817,
          0.008629841287254187,
          0.010341140057561309,
          0.014710605343230904,
          0.2060270039885946,
          0.006934126384309945,
          0.006770158588340407,
          0.010103446365759761,
          0.00679701055388698,
          0.01610510529637586,
          0.03833050057849632,
          0.016986826105857375,
          0.019129803113259635,
          0.01951205910457301,
          0.017998074645206797,
          0.02069027257024898,
          0.026379096798780487,
          0.024331103951670513,
          0.03164426016091093,
          0.020626848834712646,
          0.08796013975875346,
          0.18621134156555716,
          0.18107504487038195,
          0.15585421253437448,
          0.1550934241579548,
          0.1643522244740639,
          0.13442612876960655,
          0.10947623572942494,
          0.13615291752821873,
          0.15000783481183816,
          0.11198658257481788,
          0.13976488960222097,
          0.12201737375077785,
          0.14075787590007807,
          0.11892911583140116,
          0.09229748527626748,
          0.14088507365194203,
          0.10409372395489555,
          0.07850548380782071,
          0.11215041793701451,
          0.1120663454883068,
          0.08253105822019065,
          0.08787796412757852,
          0.10295051908619468,
          0.08108524383081986,
          0.10575742014994352,
          0.1041961380234238,
          0.08363004143502613,
          0.07516356515439646,
          0.14394702212008997,
          0.06663152641406807,
          0.05670541621055637,
          0.06531778737897338,
          0.05109347472632965,
          0.08718800025811219,
          0.0586440472759241,
          0.13376388841113138,
          0.13260718384552045,
          0.11667831427151656,
          0.10421690651040157,
          0.12607479981329503,
          0.13268099359206095,
          0.11064372346662711,
          0.11968356049962099,
          0.08762300656441274,
          0.07785390159266839,
          0.10170896108463862,
          0.0698601035269154,
          0.058507881052657015,
          0.057707822250028816,
          0.06070998872832736,
          0.05522355766300572,
          0.06139128493757873,
          0.04536950456425179,
          0.0524679939619274,
          0.03919455566575808,
          0.03481661799886187,
          0.055435055652038934,
          0.02176395984809725,
          0.014690470393385103,
          0.018731086095703384,
          0.01121849785597607,
          0.016771456900865504,
          0.005342497245106218,
          0.004436648021621861,
          0.006241345287144534,
          0.0015277095390372223,
          0.0005072794161153012,
          0.0015142018923952425,
          0.0010646293724874292,
          0.000982867586510249,
          0.0000030704955063298267
         ],
         "yaxis": "y"
        }
       ],
       "layout": {
        "legend": {
         "title": {
          "text": "direction"
         },
         "tracegroupgap": 0
        },
        "template": {
         "data": {
          "bar": [
           {
            "error_x": {
             "color": "#2a3f5f"
            },
            "error_y": {
             "color": "#2a3f5f"
            },
            "marker": {
             "line": {
              "color": "#E5ECF6",
              "width": 0.5
             },
             "pattern": {
              "fillmode": "overlay",
              "size": 10,
              "solidity": 0.2
             }
            },
            "type": "bar"
           }
          ],
          "barpolar": [
           {
            "marker": {
             "line": {
              "color": "#E5ECF6",
              "width": 0.5
             },
             "pattern": {
              "fillmode": "overlay",
              "size": 10,
              "solidity": 0.2
             }
            },
            "type": "barpolar"
           }
          ],
          "carpet": [
           {
            "aaxis": {
             "endlinecolor": "#2a3f5f",
             "gridcolor": "white",
             "linecolor": "white",
             "minorgridcolor": "white",
             "startlinecolor": "#2a3f5f"
            },
            "baxis": {
             "endlinecolor": "#2a3f5f",
             "gridcolor": "white",
             "linecolor": "white",
             "minorgridcolor": "white",
             "startlinecolor": "#2a3f5f"
            },
            "type": "carpet"
           }
          ],
          "choropleth": [
           {
            "colorbar": {
             "outlinewidth": 0,
             "ticks": ""
            },
            "type": "choropleth"
           }
          ],
          "contour": [
           {
            "colorbar": {
             "outlinewidth": 0,
             "ticks": ""
            },
            "colorscale": [
             [
              0,
              "#0d0887"
             ],
             [
              0.1111111111111111,
              "#46039f"
             ],
             [
              0.2222222222222222,
              "#7201a8"
             ],
             [
              0.3333333333333333,
              "#9c179e"
             ],
             [
              0.4444444444444444,
              "#bd3786"
             ],
             [
              0.5555555555555556,
              "#d8576b"
             ],
             [
              0.6666666666666666,
              "#ed7953"
             ],
             [
              0.7777777777777778,
              "#fb9f3a"
             ],
             [
              0.8888888888888888,
              "#fdca26"
             ],
             [
              1,
              "#f0f921"
             ]
            ],
            "type": "contour"
           }
          ],
          "contourcarpet": [
           {
            "colorbar": {
             "outlinewidth": 0,
             "ticks": ""
            },
            "type": "contourcarpet"
           }
          ],
          "heatmap": [
           {
            "colorbar": {
             "outlinewidth": 0,
             "ticks": ""
            },
            "colorscale": [
             [
              0,
              "#0d0887"
             ],
             [
              0.1111111111111111,
              "#46039f"
             ],
             [
              0.2222222222222222,
              "#7201a8"
             ],
             [
              0.3333333333333333,
              "#9c179e"
             ],
             [
              0.4444444444444444,
              "#bd3786"
             ],
             [
              0.5555555555555556,
              "#d8576b"
             ],
             [
              0.6666666666666666,
              "#ed7953"
             ],
             [
              0.7777777777777778,
              "#fb9f3a"
             ],
             [
              0.8888888888888888,
              "#fdca26"
             ],
             [
              1,
              "#f0f921"
             ]
            ],
            "type": "heatmap"
           }
          ],
          "heatmapgl": [
           {
            "colorbar": {
             "outlinewidth": 0,
             "ticks": ""
            },
            "colorscale": [
             [
              0,
              "#0d0887"
             ],
             [
              0.1111111111111111,
              "#46039f"
             ],
             [
              0.2222222222222222,
              "#7201a8"
             ],
             [
              0.3333333333333333,
              "#9c179e"
             ],
             [
              0.4444444444444444,
              "#bd3786"
             ],
             [
              0.5555555555555556,
              "#d8576b"
             ],
             [
              0.6666666666666666,
              "#ed7953"
             ],
             [
              0.7777777777777778,
              "#fb9f3a"
             ],
             [
              0.8888888888888888,
              "#fdca26"
             ],
             [
              1,
              "#f0f921"
             ]
            ],
            "type": "heatmapgl"
           }
          ],
          "histogram": [
           {
            "marker": {
             "pattern": {
              "fillmode": "overlay",
              "size": 10,
              "solidity": 0.2
             }
            },
            "type": "histogram"
           }
          ],
          "histogram2d": [
           {
            "colorbar": {
             "outlinewidth": 0,
             "ticks": ""
            },
            "colorscale": [
             [
              0,
              "#0d0887"
             ],
             [
              0.1111111111111111,
              "#46039f"
             ],
             [
              0.2222222222222222,
              "#7201a8"
             ],
             [
              0.3333333333333333,
              "#9c179e"
             ],
             [
              0.4444444444444444,
              "#bd3786"
             ],
             [
              0.5555555555555556,
              "#d8576b"
             ],
             [
              0.6666666666666666,
              "#ed7953"
             ],
             [
              0.7777777777777778,
              "#fb9f3a"
             ],
             [
              0.8888888888888888,
              "#fdca26"
             ],
             [
              1,
              "#f0f921"
             ]
            ],
            "type": "histogram2d"
           }
          ],
          "histogram2dcontour": [
           {
            "colorbar": {
             "outlinewidth": 0,
             "ticks": ""
            },
            "colorscale": [
             [
              0,
              "#0d0887"
             ],
             [
              0.1111111111111111,
              "#46039f"
             ],
             [
              0.2222222222222222,
              "#7201a8"
             ],
             [
              0.3333333333333333,
              "#9c179e"
             ],
             [
              0.4444444444444444,
              "#bd3786"
             ],
             [
              0.5555555555555556,
              "#d8576b"
             ],
             [
              0.6666666666666666,
              "#ed7953"
             ],
             [
              0.7777777777777778,
              "#fb9f3a"
             ],
             [
              0.8888888888888888,
              "#fdca26"
             ],
             [
              1,
              "#f0f921"
             ]
            ],
            "type": "histogram2dcontour"
           }
          ],
          "mesh3d": [
           {
            "colorbar": {
             "outlinewidth": 0,
             "ticks": ""
            },
            "type": "mesh3d"
           }
          ],
          "parcoords": [
           {
            "line": {
             "colorbar": {
              "outlinewidth": 0,
              "ticks": ""
             }
            },
            "type": "parcoords"
           }
          ],
          "pie": [
           {
            "automargin": true,
            "type": "pie"
           }
          ],
          "scatter": [
           {
            "fillpattern": {
             "fillmode": "overlay",
             "size": 10,
             "solidity": 0.2
            },
            "type": "scatter"
           }
          ],
          "scatter3d": [
           {
            "line": {
             "colorbar": {
              "outlinewidth": 0,
              "ticks": ""
             }
            },
            "marker": {
             "colorbar": {
              "outlinewidth": 0,
              "ticks": ""
             }
            },
            "type": "scatter3d"
           }
          ],
          "scattercarpet": [
           {
            "marker": {
             "colorbar": {
              "outlinewidth": 0,
              "ticks": ""
             }
            },
            "type": "scattercarpet"
           }
          ],
          "scattergeo": [
           {
            "marker": {
             "colorbar": {
              "outlinewidth": 0,
              "ticks": ""
             }
            },
            "type": "scattergeo"
           }
          ],
          "scattergl": [
           {
            "marker": {
             "colorbar": {
              "outlinewidth": 0,
              "ticks": ""
             }
            },
            "type": "scattergl"
           }
          ],
          "scattermapbox": [
           {
            "marker": {
             "colorbar": {
              "outlinewidth": 0,
              "ticks": ""
             }
            },
            "type": "scattermapbox"
           }
          ],
          "scatterpolar": [
           {
            "marker": {
             "colorbar": {
              "outlinewidth": 0,
              "ticks": ""
             }
            },
            "type": "scatterpolar"
           }
          ],
          "scatterpolargl": [
           {
            "marker": {
             "colorbar": {
              "outlinewidth": 0,
              "ticks": ""
             }
            },
            "type": "scatterpolargl"
           }
          ],
          "scatterternary": [
           {
            "marker": {
             "colorbar": {
              "outlinewidth": 0,
              "ticks": ""
             }
            },
            "type": "scatterternary"
           }
          ],
          "surface": [
           {
            "colorbar": {
             "outlinewidth": 0,
             "ticks": ""
            },
            "colorscale": [
             [
              0,
              "#0d0887"
             ],
             [
              0.1111111111111111,
              "#46039f"
             ],
             [
              0.2222222222222222,
              "#7201a8"
             ],
             [
              0.3333333333333333,
              "#9c179e"
             ],
             [
              0.4444444444444444,
              "#bd3786"
             ],
             [
              0.5555555555555556,
              "#d8576b"
             ],
             [
              0.6666666666666666,
              "#ed7953"
             ],
             [
              0.7777777777777778,
              "#fb9f3a"
             ],
             [
              0.8888888888888888,
              "#fdca26"
             ],
             [
              1,
              "#f0f921"
             ]
            ],
            "type": "surface"
           }
          ],
          "table": [
           {
            "cells": {
             "fill": {
              "color": "#EBF0F8"
             },
             "line": {
              "color": "white"
             }
            },
            "header": {
             "fill": {
              "color": "#C8D4E3"
             },
             "line": {
              "color": "white"
             }
            },
            "type": "table"
           }
          ]
         },
         "layout": {
          "annotationdefaults": {
           "arrowcolor": "#2a3f5f",
           "arrowhead": 0,
           "arrowwidth": 1
          },
          "autotypenumbers": "strict",
          "coloraxis": {
           "colorbar": {
            "outlinewidth": 0,
            "ticks": ""
           }
          },
          "colorscale": {
           "diverging": [
            [
             0,
             "#8e0152"
            ],
            [
             0.1,
             "#c51b7d"
            ],
            [
             0.2,
             "#de77ae"
            ],
            [
             0.3,
             "#f1b6da"
            ],
            [
             0.4,
             "#fde0ef"
            ],
            [
             0.5,
             "#f7f7f7"
            ],
            [
             0.6,
             "#e6f5d0"
            ],
            [
             0.7,
             "#b8e186"
            ],
            [
             0.8,
             "#7fbc41"
            ],
            [
             0.9,
             "#4d9221"
            ],
            [
             1,
             "#276419"
            ]
           ],
           "sequential": [
            [
             0,
             "#0d0887"
            ],
            [
             0.1111111111111111,
             "#46039f"
            ],
            [
             0.2222222222222222,
             "#7201a8"
            ],
            [
             0.3333333333333333,
             "#9c179e"
            ],
            [
             0.4444444444444444,
             "#bd3786"
            ],
            [
             0.5555555555555556,
             "#d8576b"
            ],
            [
             0.6666666666666666,
             "#ed7953"
            ],
            [
             0.7777777777777778,
             "#fb9f3a"
            ],
            [
             0.8888888888888888,
             "#fdca26"
            ],
            [
             1,
             "#f0f921"
            ]
           ],
           "sequentialminus": [
            [
             0,
             "#0d0887"
            ],
            [
             0.1111111111111111,
             "#46039f"
            ],
            [
             0.2222222222222222,
             "#7201a8"
            ],
            [
             0.3333333333333333,
             "#9c179e"
            ],
            [
             0.4444444444444444,
             "#bd3786"
            ],
            [
             0.5555555555555556,
             "#d8576b"
            ],
            [
             0.6666666666666666,
             "#ed7953"
            ],
            [
             0.7777777777777778,
             "#fb9f3a"
            ],
            [
             0.8888888888888888,
             "#fdca26"
            ],
            [
             1,
             "#f0f921"
            ]
           ]
          },
          "colorway": [
           "#636efa",
           "#EF553B",
           "#00cc96",
           "#ab63fa",
           "#FFA15A",
           "#19d3f3",
           "#FF6692",
           "#B6E880",
           "#FF97FF",
           "#FECB52"
          ],
          "font": {
           "color": "#2a3f5f"
          },
          "geo": {
           "bgcolor": "white",
           "lakecolor": "white",
           "landcolor": "#E5ECF6",
           "showlakes": true,
           "showland": true,
           "subunitcolor": "white"
          },
          "hoverlabel": {
           "align": "left"
          },
          "hovermode": "closest",
          "mapbox": {
           "style": "light"
          },
          "paper_bgcolor": "white",
          "plot_bgcolor": "#E5ECF6",
          "polar": {
           "angularaxis": {
            "gridcolor": "white",
            "linecolor": "white",
            "ticks": ""
           },
           "bgcolor": "#E5ECF6",
           "radialaxis": {
            "gridcolor": "white",
            "linecolor": "white",
            "ticks": ""
           }
          },
          "scene": {
           "xaxis": {
            "backgroundcolor": "#E5ECF6",
            "gridcolor": "white",
            "gridwidth": 2,
            "linecolor": "white",
            "showbackground": true,
            "ticks": "",
            "zerolinecolor": "white"
           },
           "yaxis": {
            "backgroundcolor": "#E5ECF6",
            "gridcolor": "white",
            "gridwidth": 2,
            "linecolor": "white",
            "showbackground": true,
            "ticks": "",
            "zerolinecolor": "white"
           },
           "zaxis": {
            "backgroundcolor": "#E5ECF6",
            "gridcolor": "white",
            "gridwidth": 2,
            "linecolor": "white",
            "showbackground": true,
            "ticks": "",
            "zerolinecolor": "white"
           }
          },
          "shapedefaults": {
           "line": {
            "color": "#2a3f5f"
           }
          },
          "ternary": {
           "aaxis": {
            "gridcolor": "white",
            "linecolor": "white",
            "ticks": ""
           },
           "baxis": {
            "gridcolor": "white",
            "linecolor": "white",
            "ticks": ""
           },
           "bgcolor": "#E5ECF6",
           "caxis": {
            "gridcolor": "white",
            "linecolor": "white",
            "ticks": ""
           }
          },
          "title": {
           "x": 0.05
          },
          "xaxis": {
           "automargin": true,
           "gridcolor": "white",
           "linecolor": "white",
           "ticks": "",
           "title": {
            "standoff": 15
           },
           "zerolinecolor": "white",
           "zerolinewidth": 2
          },
          "yaxis": {
           "automargin": true,
           "gridcolor": "white",
           "linecolor": "white",
           "ticks": "",
           "title": {
            "standoff": 15
           },
           "zerolinecolor": "white",
           "zerolinewidth": 2
          }
         }
        },
        "title": {
         "text": "Proportion of Missing Vessel Names over time (original data)."
        },
        "xaxis": {
         "anchor": "y",
         "domain": [
          0,
          1
         ],
         "title": {
          "text": "month"
         }
        },
        "yaxis": {
         "anchor": "x",
         "domain": [
          0,
          1
         ],
         "title": {
          "text": "null_percent"
         }
        }
       }
      }
     },
     "metadata": {},
     "output_type": "display_data"
    }
   ],
   "source": [
    "lf = pl.concat(\n",
    "    [imports_lf.select('direction', 'month', 'vessel_name'),\n",
    "    exports_lf.select('direction', 'month', 'vessel_name')]\n",
    ")\n",
    "\n",
    "nulls_over_time_plotly(\n",
    "    data_lf=lf,\n",
    "    group_var='direction',\n",
    "    time_var='month',\n",
    "    value_var='vessel_name',\n",
    "    title='Proportion of Missing Vessel Names over time (original data).')"
   ]
  },
  {
   "cell_type": "code",
   "execution_count": 9,
   "metadata": {},
   "outputs": [
    {
     "data": {
      "application/vnd.plotly.v1+json": {
       "config": {
        "plotlyServerURL": "https://plot.ly"
       },
       "data": [
        {
         "hovertemplate": "direction=export<br>month=%{x}<br>null_percent=%{y}<extra></extra>",
         "legendgroup": "export",
         "line": {
          "color": "#636efa",
          "dash": "solid"
         },
         "marker": {
          "symbol": "circle"
         },
         "mode": "lines",
         "name": "export",
         "orientation": "v",
         "showlegend": true,
         "type": "scatter",
         "x": [
          "200501",
          "200502",
          "200503",
          "200504",
          "200505",
          "200506",
          "200507",
          "200508",
          "200509",
          "200510",
          "200511",
          "200512",
          "200601",
          "200602",
          "200603",
          "200604",
          "200605",
          "200606",
          "200607",
          "200608",
          "200609",
          "200610",
          "200611",
          "200612",
          "200701",
          "200702",
          "200703",
          "200704",
          "200705",
          "200706",
          "200707",
          "200708",
          "200709",
          "200710",
          "200711",
          "200712",
          "200801",
          "200802",
          "200803",
          "200804",
          "200805",
          "200806",
          "200807",
          "200808",
          "200809",
          "200810",
          "200811",
          "200812",
          "200901",
          "200902",
          "200903",
          "200904",
          "200905",
          "200906",
          "200907",
          "200908",
          "200909",
          "200910",
          "200911",
          "200912",
          "201001",
          "201002",
          "201003",
          "201004",
          "201005",
          "201006",
          "201007",
          "201008",
          "201009",
          "201010",
          "201011",
          "201012",
          "201101",
          "201102",
          "201103",
          "201104",
          "201105",
          "201106",
          "201107",
          "201108",
          "201109",
          "201110",
          "201111",
          "201112",
          "201201",
          "201202",
          "201203",
          "201204",
          "201205",
          "201206",
          "201207",
          "201208",
          "201209",
          "201210",
          "201211",
          "201212",
          "201301",
          "201302",
          "201303",
          "201304",
          "201305",
          "201306",
          "201307",
          "201308",
          "201309",
          "201310",
          "201311",
          "201312",
          "201401",
          "201402",
          "201403",
          "201404",
          "201405",
          "201406",
          "201407",
          "201408",
          "201409",
          "201410",
          "201411",
          "201412",
          "201501",
          "201502",
          "201503",
          "201504",
          "201505",
          "201506",
          "201507",
          "201508",
          "201509",
          "201510",
          "201511",
          "201512",
          "201601",
          "201602",
          "201603",
          "201604",
          "201605",
          "201606",
          "201607",
          "201608",
          "201609",
          "201610",
          "201611",
          "201612",
          "201701",
          "201702",
          "201703",
          "201704",
          "201705",
          "201706",
          "201707",
          "201708",
          "201709",
          "201710",
          "201711",
          "201712",
          "201801",
          "201802",
          "201803",
          "201804",
          "201805",
          "201806",
          "201807",
          "201808",
          "201809",
          "201810",
          "201811",
          "201812",
          "201901",
          "201902",
          "201903",
          "201904",
          "201905",
          "201906",
          "201907",
          "201908",
          "201909",
          "201910",
          "201911",
          "201912",
          "202001",
          "202002",
          "202003",
          "202004",
          "202005",
          "202006",
          "202007",
          "202008",
          "202009",
          "202010",
          "202011",
          "202012",
          "202101",
          "202102",
          "202103",
          "202104",
          "202105",
          "202106",
          "202107",
          "202108",
          "202109",
          "202110",
          "202111",
          "202112",
          "202201",
          "202202",
          "202203",
          "202204",
          "202205",
          "202206",
          "202207",
          "202208",
          "202209",
          "202210",
          "202211",
          "202212",
          "202301",
          "202302",
          "202303",
          "202304",
          "202305",
          "202306",
          "202307",
          "202308",
          "202309",
          "202310",
          "202311"
         ],
         "xaxis": "x",
         "y": [
          0.015221848899962264,
          0.01084058204828294,
          0.009992337766950235,
          0.011234815444750454,
          0.008875489220029101,
          0.01185001399279058,
          0.010324380598888143,
          0.00893042321910037,
          0.010013148145768824,
          0.011957014657119916,
          0.01315536581077047,
          0.012525170198484994,
          0.009818089457596539,
          0.012159627449712178,
          0.013320440166711642,
          0.011743164845027083,
          0.012175403300920234,
          0.012101610050070459,
          0.012490953545232273,
          0.011296078321469274,
          0.012273012376275491,
          0.0108889984064003,
          0.010929388489743704,
          0.010767085076708508,
          0.011406844106463879,
          0.011031459640115279,
          0.011035252855301417,
          0.010426570965014141,
          0.010768673357711946,
          0.006459676753421264,
          0.010085598485204137,
          0.020814949206864664,
          0.020583445554476842,
          0.013370807489087986,
          0.014377632404337306,
          0.011638316920322292,
          0.010574317878267505,
          0.013014950310667107,
          0.01679881644702305,
          0.01798637395912188,
          0.019495771501515876,
          0.015053616789130028,
          0.018773162939297126,
          0.020443669762535695,
          0.01904635723646989,
          0.021566490189971973,
          0.02111093515523079,
          0.02258536441403269,
          0.014520615373184923,
          0.018111997108586145,
          0.015788149452761354,
          0.012188058413950336,
          0.009148979846483902,
          0.012919164101733355,
          0.011493321604666774,
          0.012383286380675354,
          0.013707310969481456,
          0.013590701691796384,
          0.01567987567987568,
          0.07026518945405796,
          0.35160889683496305,
          0.29516789516789516,
          0.24247413899111322,
          0.2592984702003027,
          0.23526888967175702,
          0.23173832424823104,
          0.25272415748342086,
          0.24698283554992093,
          0.24270205372048748,
          0.23646244695116247,
          0.24065316957470173,
          0.23378248462559706,
          0.20915773484940842,
          0.22729492582302963,
          0.21766981585440176,
          0.23082129586817374,
          0.23368988969403715,
          0.24136636068215064,
          0.22577267006889976,
          0.24127049316466706,
          0.2409782176787198,
          0.1914252154643171,
          0.2153315202888078,
          0.1971147075212325,
          0.16657953831839,
          0.20576882971043556,
          0.17899456911108177,
          0.17041359344593135,
          0.17690998016099777,
          0.19342600896860987,
          0.18360512297544188,
          0.17035837225914743,
          0.18085769678169833,
          0.16914190160292694,
          0.17760649759655228,
          0.1993234100135318,
          0.2106253814280667,
          0.23125216273666518,
          0.20380593570145925,
          0.2208002646618978,
          0.2292667543016806,
          0.1017175300753509,
          0.08336623363601611,
          0.0766902754099111,
          0.07690555580160834,
          0.08184551616355513,
          0.07675936518260001,
          0.08116037665660653,
          0.0835777846970715,
          0.08353175272334828,
          0.08272456364410387,
          0.08459978858717314,
          0.07703672089167583,
          0.0836695199558357,
          0.0830142454784572,
          0.08212509650756165,
          0.08027078089594958,
          0.09126976187141457,
          0.09002628250042008,
          0.1384228322356297,
          0.12374443031656569,
          0.07478328724829937,
          0.0873202056823298,
          0.09320824841146146,
          0.0862500288877077,
          0.08730937724411943,
          0.08517086079998079,
          0.08817210948487705,
          0.08869948354942396,
          0.0859449410914392,
          0.08192270636201802,
          0.08518202791478076,
          0.10791327457567637,
          0.1083788766064996,
          0.10895710036490755,
          0.10978109830947826,
          0.10924681688258658,
          0.11927090128591476,
          0.1477659019648501,
          0.11614793229586459,
          0.09698352885115774,
          0.08822353949740833,
          0.07252571680661497,
          0.09901073497618089,
          0.12399506487303988,
          0.11452964838810124,
          0.10612360827084753,
          0.05976550611961886,
          0.05304289844775928,
          0.0511699189705927,
          0.044384427862543464,
          0.044967790512841964,
          0.044308012418038625,
          0.05628634964078002,
          0.09302839243403879,
          0.18486063315239887,
          0.2587547127779147,
          0.24189639796828352,
          0.24371452067481578,
          0.24058683152029064,
          0.24594769094842722,
          0.23314171912313733,
          0.22152682486026976,
          0.23482945170433314,
          0.22362418554975594,
          0.1909292193414756,
          0.22466600925078067,
          0.19998122682686442,
          0.20102710764641665,
          0.1976927387191404,
          0.19384196419921854,
          0.23510681312756923,
          0.20842577126786302,
          0.18844019438783507,
          0.2021623177400687,
          0.21004198270476057,
          0.17469089487588507,
          0.19037106690777578,
          0.19795925623066804,
          0.20406848682329357,
          0.19920468590466978,
          0.25521315536153333,
          0.19598319377812212,
          0.22230284542311138,
          0.2418221238366817,
          0.17438330385461018,
          0.18570844226288927,
          0.18468065163713687,
          0.17847283712693368,
          0.18742161067502003,
          0.1870901766346452,
          0.20110879885543345,
          0.20601265004139072,
          0.18838695049082374,
          0.20031809344482387,
          0.22060147720067289,
          0.24303882730355164,
          0.20168100687865625,
          0.21354794089092224,
          0.17674570954341165,
          0.20282641092446346,
          0.19346480085296752,
          0.18255476272294205,
          0.1675588668812836,
          0.16121753615506929,
          0.15690786516853933,
          0.14583830342905216,
          0.18484009800235932,
          0.14017607379756192,
          0.1513198540210056,
          0.15479184527218592,
          0.1462602494554435,
          0.12546328468844103,
          0.146674935506248,
          0.13559351099221456,
          0.13260844258836196,
          0.14106709781729992,
          0.14512918814906212,
          0.13226563491056703,
          0.12805286163092475,
          0.12927401107770434,
          0.1325834709397469,
          0.15193258563547762,
          0.12555235646430277,
          0.12550989878645913,
          0.13943575052950768,
          0.007394003074348647
         ],
         "yaxis": "y"
        },
        {
         "hovertemplate": "direction=import<br>month=%{x}<br>null_percent=%{y}<extra></extra>",
         "legendgroup": "import",
         "line": {
          "color": "#EF553B",
          "dash": "solid"
         },
         "marker": {
          "symbol": "circle"
         },
         "mode": "lines",
         "name": "import",
         "orientation": "v",
         "showlegend": true,
         "type": "scatter",
         "x": [
          "200501",
          "200502",
          "200503",
          "200504",
          "200505",
          "200506",
          "200507",
          "200508",
          "200509",
          "200510",
          "200511",
          "200512",
          "200601",
          "200602",
          "200603",
          "200604",
          "200605",
          "200606",
          "200607",
          "200608",
          "200609",
          "200610",
          "200611",
          "200612",
          "200701",
          "200702",
          "200703",
          "200704",
          "200705",
          "200706",
          "200707",
          "200708",
          "200709",
          "200710",
          "200711",
          "200712",
          "200801",
          "200802",
          "200803",
          "200804",
          "200805",
          "200806",
          "200807",
          "200808",
          "200809",
          "200810",
          "200811",
          "200812",
          "200901",
          "200902",
          "200903",
          "200904",
          "200905",
          "200906",
          "200907",
          "200908",
          "200909",
          "200910",
          "200911",
          "200912",
          "201001",
          "201002",
          "201003",
          "201004",
          "201005",
          "201006",
          "201007",
          "201008",
          "201009",
          "201010",
          "201011",
          "201012",
          "201101",
          "201102",
          "201103",
          "201104",
          "201105",
          "201106",
          "201107",
          "201108",
          "201109",
          "201110",
          "201111",
          "201112",
          "201201",
          "201202",
          "201203",
          "201204",
          "201205",
          "201206",
          "201207",
          "201208",
          "201209",
          "201210",
          "201211",
          "201212",
          "201301",
          "201302",
          "201303",
          "201304",
          "201305",
          "201306",
          "201307",
          "201308",
          "201309",
          "201310",
          "201311",
          "201312",
          "201401",
          "201402",
          "201403",
          "201404",
          "201405",
          "201406",
          "201407",
          "201408",
          "201409",
          "201410",
          "201411",
          "201412",
          "201501",
          "201502",
          "201503",
          "201504",
          "201505",
          "201506",
          "201507",
          "201508",
          "201509",
          "201510",
          "201511",
          "201512",
          "201601",
          "201602",
          "201603",
          "201604",
          "201605",
          "201606",
          "201607",
          "201608",
          "201609",
          "201610",
          "201611",
          "201612",
          "201701",
          "201702",
          "201703",
          "201704",
          "201705",
          "201706",
          "201707",
          "201708",
          "201709",
          "201710",
          "201711",
          "201712",
          "201801",
          "201802",
          "201803",
          "201804",
          "201805",
          "201806",
          "201807",
          "201808",
          "201809",
          "201810",
          "201811",
          "201812",
          "201901",
          "201902",
          "201903",
          "201904",
          "201905",
          "201906",
          "201907",
          "201908",
          "201909",
          "201910",
          "201911",
          "201912",
          "202001",
          "202002",
          "202003",
          "202004",
          "202005",
          "202006",
          "202007",
          "202008",
          "202009",
          "202010",
          "202011",
          "202012",
          "202101",
          "202102",
          "202103",
          "202104",
          "202105",
          "202106",
          "202107",
          "202108",
          "202109",
          "202110",
          "202111",
          "202112",
          "202201",
          "202202",
          "202203",
          "202204",
          "202205",
          "202206",
          "202207",
          "202208",
          "202209",
          "202210",
          "202211",
          "202212",
          "202301",
          "202302",
          "202303",
          "202304",
          "202305",
          "202306",
          "202307",
          "202308",
          "202309",
          "202310",
          "202311"
         ],
         "xaxis": "x",
         "y": [
          0.023099266485688198,
          0.04870646093634333,
          0.04984791070553966,
          0.060091602707268134,
          0.044838743620771296,
          0.04219485052354697,
          0.017040291189005574,
          0.044010832846875986,
          0.042839235881284715,
          0.044230581826219854,
          0.04620977837152917,
          0.08137918620813792,
          0.0016046356139959885,
          0.002170286800710276,
          0.0031515959293042886,
          0.002101717220822714,
          0.0019303647560397915,
          0.0015656215021465308,
          0.0019975840031313478,
          0.001783977383257429,
          0.002557322627962634,
          0.0014942813639743635,
          0.001370964748388374,
          0.0015166165217946137,
          0.0013667051846811705,
          0.0012498838960839664,
          0.002211810444729661,
          0.001958925366361585,
          0.00111729475969494,
          0.0008661789728712021,
          0.0008925936067538398,
          0.0010979005998286203,
          0.0013197842925192988,
          0.0013433637829124126,
          0.0013965468274099247,
          0.0015420978586235363,
          0.001977558577982652,
          0.0010899193540263555,
          0.0011454214523316387,
          0.001494088316229367,
          0.0013108310882242607,
          0.0013616861692866103,
          0.001787035144322054,
          0.001276424684727247,
          0.002212364279960518,
          0.0012351643543417623,
          0.0018442113635233882,
          0.002764619169774896,
          0.001883538265640194,
          0.0018796044424568682,
          0.0017172507986216276,
          0.0018536174985978688,
          0.0012943833207876294,
          0.0012387409281669134,
          0.0010863771353148716,
          0.0009717669633762243,
          0.0015504385604479289,
          0.0014890522790611438,
          0.0015679950490630709,
          0.0030060571150851865,
          0.148976049279317,
          0.31502742748090373,
          0.24202081566008993,
          0.20451542565865,
          0.16567963733836644,
          0.18131640571072832,
          0.1871870831167367,
          0.1810798063617167,
          0.1948230733222129,
          0.20011103888027676,
          0.18498030039399213,
          0.19626853085033993,
          0.1777304977883986,
          0.18079487727044416,
          0.18542068404053969,
          0.1726551886850182,
          0.1768588882964714,
          0.17858551203391562,
          0.15615598064725972,
          0.16672398468397995,
          0.1520518975840825,
          0.16276838904517624,
          0.12931032214436636,
          0.13590819681444083,
          0.10643391687483009,
          0.13278677518973422,
          0.1207629123004235,
          0.10632631196587361,
          0.10906346719651523,
          0.10856365821263678,
          0.0973288261890809,
          0.10097021855164277,
          0.094125496417644,
          0.09662199368530308,
          0.09496674430456299,
          0.09583499631325806,
          0.0913557006075143,
          0.09685173855409401,
          0.09424726015337946,
          0.1020822758833401,
          0.10932024960943003,
          0.10911425365404534,
          0.020542107057620183,
          0.0029645712384895294,
          0.00045406333051281747,
          0.0005650504229822463,
          0.0003559702115902359,
          0.0005116821359292505,
          0.00332692600779512,
          0.004861055643602927,
          0.004071012759694608,
          0.002752280695184913,
          0.004292684971411207,
          0.003572274645294003,
          0.0034234110159070564,
          0.0043227114494472285,
          0.005173047985286741,
          0.0031568224791796167,
          0.002630345555927923,
          0.005243768596946679,
          0.055197456434491025,
          0.05580831987525756,
          0.0019745551894377648,
          0.002640218812490386,
          0.0010379320014881866,
          0.0011865650578605702,
          0.002975830162573504,
          0.0024595302265283843,
          0.0011815244183538156,
          0.001210965533265498,
          0.0011858584284078443,
          0.0013105515985167553,
          0.00824975153520038,
          0.008321356625274362,
          0.008583903276347945,
          0.0081035005903979,
          0.008836674082936523,
          0.010590964276267151,
          0.014951201934484886,
          0.20633445173019044,
          0.007096745511595095,
          0.007102970739334376,
          0.010266163206144926,
          0.007042423116487252,
          0.01634134902115192,
          0.03859159183757052,
          0.01731570093811231,
          0.019353576380338088,
          0.019711533821152684,
          0.018236525843673614,
          0.020994649702995322,
          0.026635146722560975,
          0.024472456390054444,
          0.03194133955219526,
          0.020980623600336864,
          0.08836409877849433,
          0.1864718950359817,
          0.1813314470529493,
          0.15618488088123716,
          0.15558794239487791,
          0.1648931330605128,
          0.13499249791324208,
          0.10981181370656089,
          0.13665232160470053,
          0.1506568605150757,
          0.1125327688795181,
          0.14025157299245747,
          0.12260045299225208,
          0.14125881478850955,
          0.11942554446540476,
          0.0927930375488702,
          0.14157923215721613,
          0.10455576287650262,
          0.07905360005502325,
          0.11270279065449133,
          0.11272419249524997,
          0.0830708876382154,
          0.08865987988226466,
          0.10363922202158232,
          0.08149855396855298,
          0.10622265584882408,
          0.10482597111765382,
          0.08417140358548317,
          0.07554936762353225,
          0.1444572224981775,
          0.06719003213090118,
          0.057283486427744196,
          0.06595223128016311,
          0.05156631416739589,
          0.08752920336146933,
          0.05910936148951146,
          0.13426868700767086,
          0.133061987226254,
          0.11732569672804591,
          0.10448466284872278,
          0.12658325365139644,
          0.13315683897425895,
          0.11113200816574484,
          0.12013660555788919,
          0.08815439979784306,
          0.07829539147272041,
          0.10207914765545828,
          0.07040065268793107,
          0.058964663294584795,
          0.05807452997798257,
          0.06089489481883002,
          0.05558086595072955,
          0.06174683907587812,
          0.045801017277951064,
          0.05285801300544984,
          0.03967837163152888,
          0.03533196996011861,
          0.05581811459888554,
          0.02198554473852983,
          0.015246716177032438,
          0.01914826167119174,
          0.0115472800000694,
          0.017109689196953128,
          0.005754786931496234,
          0.004877270866902403,
          0.006782546222445906,
          0.0018587132724952873,
          0.0008240027565372045,
          0.001868646557065591,
          0.0014786519062325405,
          0.001323845066652573,
          0.0001310078082700726
         ],
         "yaxis": "y"
        }
       ],
       "layout": {
        "legend": {
         "title": {
          "text": "direction"
         },
         "tracegroupgap": 0
        },
        "template": {
         "data": {
          "bar": [
           {
            "error_x": {
             "color": "#2a3f5f"
            },
            "error_y": {
             "color": "#2a3f5f"
            },
            "marker": {
             "line": {
              "color": "#E5ECF6",
              "width": 0.5
             },
             "pattern": {
              "fillmode": "overlay",
              "size": 10,
              "solidity": 0.2
             }
            },
            "type": "bar"
           }
          ],
          "barpolar": [
           {
            "marker": {
             "line": {
              "color": "#E5ECF6",
              "width": 0.5
             },
             "pattern": {
              "fillmode": "overlay",
              "size": 10,
              "solidity": 0.2
             }
            },
            "type": "barpolar"
           }
          ],
          "carpet": [
           {
            "aaxis": {
             "endlinecolor": "#2a3f5f",
             "gridcolor": "white",
             "linecolor": "white",
             "minorgridcolor": "white",
             "startlinecolor": "#2a3f5f"
            },
            "baxis": {
             "endlinecolor": "#2a3f5f",
             "gridcolor": "white",
             "linecolor": "white",
             "minorgridcolor": "white",
             "startlinecolor": "#2a3f5f"
            },
            "type": "carpet"
           }
          ],
          "choropleth": [
           {
            "colorbar": {
             "outlinewidth": 0,
             "ticks": ""
            },
            "type": "choropleth"
           }
          ],
          "contour": [
           {
            "colorbar": {
             "outlinewidth": 0,
             "ticks": ""
            },
            "colorscale": [
             [
              0,
              "#0d0887"
             ],
             [
              0.1111111111111111,
              "#46039f"
             ],
             [
              0.2222222222222222,
              "#7201a8"
             ],
             [
              0.3333333333333333,
              "#9c179e"
             ],
             [
              0.4444444444444444,
              "#bd3786"
             ],
             [
              0.5555555555555556,
              "#d8576b"
             ],
             [
              0.6666666666666666,
              "#ed7953"
             ],
             [
              0.7777777777777778,
              "#fb9f3a"
             ],
             [
              0.8888888888888888,
              "#fdca26"
             ],
             [
              1,
              "#f0f921"
             ]
            ],
            "type": "contour"
           }
          ],
          "contourcarpet": [
           {
            "colorbar": {
             "outlinewidth": 0,
             "ticks": ""
            },
            "type": "contourcarpet"
           }
          ],
          "heatmap": [
           {
            "colorbar": {
             "outlinewidth": 0,
             "ticks": ""
            },
            "colorscale": [
             [
              0,
              "#0d0887"
             ],
             [
              0.1111111111111111,
              "#46039f"
             ],
             [
              0.2222222222222222,
              "#7201a8"
             ],
             [
              0.3333333333333333,
              "#9c179e"
             ],
             [
              0.4444444444444444,
              "#bd3786"
             ],
             [
              0.5555555555555556,
              "#d8576b"
             ],
             [
              0.6666666666666666,
              "#ed7953"
             ],
             [
              0.7777777777777778,
              "#fb9f3a"
             ],
             [
              0.8888888888888888,
              "#fdca26"
             ],
             [
              1,
              "#f0f921"
             ]
            ],
            "type": "heatmap"
           }
          ],
          "heatmapgl": [
           {
            "colorbar": {
             "outlinewidth": 0,
             "ticks": ""
            },
            "colorscale": [
             [
              0,
              "#0d0887"
             ],
             [
              0.1111111111111111,
              "#46039f"
             ],
             [
              0.2222222222222222,
              "#7201a8"
             ],
             [
              0.3333333333333333,
              "#9c179e"
             ],
             [
              0.4444444444444444,
              "#bd3786"
             ],
             [
              0.5555555555555556,
              "#d8576b"
             ],
             [
              0.6666666666666666,
              "#ed7953"
             ],
             [
              0.7777777777777778,
              "#fb9f3a"
             ],
             [
              0.8888888888888888,
              "#fdca26"
             ],
             [
              1,
              "#f0f921"
             ]
            ],
            "type": "heatmapgl"
           }
          ],
          "histogram": [
           {
            "marker": {
             "pattern": {
              "fillmode": "overlay",
              "size": 10,
              "solidity": 0.2
             }
            },
            "type": "histogram"
           }
          ],
          "histogram2d": [
           {
            "colorbar": {
             "outlinewidth": 0,
             "ticks": ""
            },
            "colorscale": [
             [
              0,
              "#0d0887"
             ],
             [
              0.1111111111111111,
              "#46039f"
             ],
             [
              0.2222222222222222,
              "#7201a8"
             ],
             [
              0.3333333333333333,
              "#9c179e"
             ],
             [
              0.4444444444444444,
              "#bd3786"
             ],
             [
              0.5555555555555556,
              "#d8576b"
             ],
             [
              0.6666666666666666,
              "#ed7953"
             ],
             [
              0.7777777777777778,
              "#fb9f3a"
             ],
             [
              0.8888888888888888,
              "#fdca26"
             ],
             [
              1,
              "#f0f921"
             ]
            ],
            "type": "histogram2d"
           }
          ],
          "histogram2dcontour": [
           {
            "colorbar": {
             "outlinewidth": 0,
             "ticks": ""
            },
            "colorscale": [
             [
              0,
              "#0d0887"
             ],
             [
              0.1111111111111111,
              "#46039f"
             ],
             [
              0.2222222222222222,
              "#7201a8"
             ],
             [
              0.3333333333333333,
              "#9c179e"
             ],
             [
              0.4444444444444444,
              "#bd3786"
             ],
             [
              0.5555555555555556,
              "#d8576b"
             ],
             [
              0.6666666666666666,
              "#ed7953"
             ],
             [
              0.7777777777777778,
              "#fb9f3a"
             ],
             [
              0.8888888888888888,
              "#fdca26"
             ],
             [
              1,
              "#f0f921"
             ]
            ],
            "type": "histogram2dcontour"
           }
          ],
          "mesh3d": [
           {
            "colorbar": {
             "outlinewidth": 0,
             "ticks": ""
            },
            "type": "mesh3d"
           }
          ],
          "parcoords": [
           {
            "line": {
             "colorbar": {
              "outlinewidth": 0,
              "ticks": ""
             }
            },
            "type": "parcoords"
           }
          ],
          "pie": [
           {
            "automargin": true,
            "type": "pie"
           }
          ],
          "scatter": [
           {
            "fillpattern": {
             "fillmode": "overlay",
             "size": 10,
             "solidity": 0.2
            },
            "type": "scatter"
           }
          ],
          "scatter3d": [
           {
            "line": {
             "colorbar": {
              "outlinewidth": 0,
              "ticks": ""
             }
            },
            "marker": {
             "colorbar": {
              "outlinewidth": 0,
              "ticks": ""
             }
            },
            "type": "scatter3d"
           }
          ],
          "scattercarpet": [
           {
            "marker": {
             "colorbar": {
              "outlinewidth": 0,
              "ticks": ""
             }
            },
            "type": "scattercarpet"
           }
          ],
          "scattergeo": [
           {
            "marker": {
             "colorbar": {
              "outlinewidth": 0,
              "ticks": ""
             }
            },
            "type": "scattergeo"
           }
          ],
          "scattergl": [
           {
            "marker": {
             "colorbar": {
              "outlinewidth": 0,
              "ticks": ""
             }
            },
            "type": "scattergl"
           }
          ],
          "scattermapbox": [
           {
            "marker": {
             "colorbar": {
              "outlinewidth": 0,
              "ticks": ""
             }
            },
            "type": "scattermapbox"
           }
          ],
          "scatterpolar": [
           {
            "marker": {
             "colorbar": {
              "outlinewidth": 0,
              "ticks": ""
             }
            },
            "type": "scatterpolar"
           }
          ],
          "scatterpolargl": [
           {
            "marker": {
             "colorbar": {
              "outlinewidth": 0,
              "ticks": ""
             }
            },
            "type": "scatterpolargl"
           }
          ],
          "scatterternary": [
           {
            "marker": {
             "colorbar": {
              "outlinewidth": 0,
              "ticks": ""
             }
            },
            "type": "scatterternary"
           }
          ],
          "surface": [
           {
            "colorbar": {
             "outlinewidth": 0,
             "ticks": ""
            },
            "colorscale": [
             [
              0,
              "#0d0887"
             ],
             [
              0.1111111111111111,
              "#46039f"
             ],
             [
              0.2222222222222222,
              "#7201a8"
             ],
             [
              0.3333333333333333,
              "#9c179e"
             ],
             [
              0.4444444444444444,
              "#bd3786"
             ],
             [
              0.5555555555555556,
              "#d8576b"
             ],
             [
              0.6666666666666666,
              "#ed7953"
             ],
             [
              0.7777777777777778,
              "#fb9f3a"
             ],
             [
              0.8888888888888888,
              "#fdca26"
             ],
             [
              1,
              "#f0f921"
             ]
            ],
            "type": "surface"
           }
          ],
          "table": [
           {
            "cells": {
             "fill": {
              "color": "#EBF0F8"
             },
             "line": {
              "color": "white"
             }
            },
            "header": {
             "fill": {
              "color": "#C8D4E3"
             },
             "line": {
              "color": "white"
             }
            },
            "type": "table"
           }
          ]
         },
         "layout": {
          "annotationdefaults": {
           "arrowcolor": "#2a3f5f",
           "arrowhead": 0,
           "arrowwidth": 1
          },
          "autotypenumbers": "strict",
          "coloraxis": {
           "colorbar": {
            "outlinewidth": 0,
            "ticks": ""
           }
          },
          "colorscale": {
           "diverging": [
            [
             0,
             "#8e0152"
            ],
            [
             0.1,
             "#c51b7d"
            ],
            [
             0.2,
             "#de77ae"
            ],
            [
             0.3,
             "#f1b6da"
            ],
            [
             0.4,
             "#fde0ef"
            ],
            [
             0.5,
             "#f7f7f7"
            ],
            [
             0.6,
             "#e6f5d0"
            ],
            [
             0.7,
             "#b8e186"
            ],
            [
             0.8,
             "#7fbc41"
            ],
            [
             0.9,
             "#4d9221"
            ],
            [
             1,
             "#276419"
            ]
           ],
           "sequential": [
            [
             0,
             "#0d0887"
            ],
            [
             0.1111111111111111,
             "#46039f"
            ],
            [
             0.2222222222222222,
             "#7201a8"
            ],
            [
             0.3333333333333333,
             "#9c179e"
            ],
            [
             0.4444444444444444,
             "#bd3786"
            ],
            [
             0.5555555555555556,
             "#d8576b"
            ],
            [
             0.6666666666666666,
             "#ed7953"
            ],
            [
             0.7777777777777778,
             "#fb9f3a"
            ],
            [
             0.8888888888888888,
             "#fdca26"
            ],
            [
             1,
             "#f0f921"
            ]
           ],
           "sequentialminus": [
            [
             0,
             "#0d0887"
            ],
            [
             0.1111111111111111,
             "#46039f"
            ],
            [
             0.2222222222222222,
             "#7201a8"
            ],
            [
             0.3333333333333333,
             "#9c179e"
            ],
            [
             0.4444444444444444,
             "#bd3786"
            ],
            [
             0.5555555555555556,
             "#d8576b"
            ],
            [
             0.6666666666666666,
             "#ed7953"
            ],
            [
             0.7777777777777778,
             "#fb9f3a"
            ],
            [
             0.8888888888888888,
             "#fdca26"
            ],
            [
             1,
             "#f0f921"
            ]
           ]
          },
          "colorway": [
           "#636efa",
           "#EF553B",
           "#00cc96",
           "#ab63fa",
           "#FFA15A",
           "#19d3f3",
           "#FF6692",
           "#B6E880",
           "#FF97FF",
           "#FECB52"
          ],
          "font": {
           "color": "#2a3f5f"
          },
          "geo": {
           "bgcolor": "white",
           "lakecolor": "white",
           "landcolor": "#E5ECF6",
           "showlakes": true,
           "showland": true,
           "subunitcolor": "white"
          },
          "hoverlabel": {
           "align": "left"
          },
          "hovermode": "closest",
          "mapbox": {
           "style": "light"
          },
          "paper_bgcolor": "white",
          "plot_bgcolor": "#E5ECF6",
          "polar": {
           "angularaxis": {
            "gridcolor": "white",
            "linecolor": "white",
            "ticks": ""
           },
           "bgcolor": "#E5ECF6",
           "radialaxis": {
            "gridcolor": "white",
            "linecolor": "white",
            "ticks": ""
           }
          },
          "scene": {
           "xaxis": {
            "backgroundcolor": "#E5ECF6",
            "gridcolor": "white",
            "gridwidth": 2,
            "linecolor": "white",
            "showbackground": true,
            "ticks": "",
            "zerolinecolor": "white"
           },
           "yaxis": {
            "backgroundcolor": "#E5ECF6",
            "gridcolor": "white",
            "gridwidth": 2,
            "linecolor": "white",
            "showbackground": true,
            "ticks": "",
            "zerolinecolor": "white"
           },
           "zaxis": {
            "backgroundcolor": "#E5ECF6",
            "gridcolor": "white",
            "gridwidth": 2,
            "linecolor": "white",
            "showbackground": true,
            "ticks": "",
            "zerolinecolor": "white"
           }
          },
          "shapedefaults": {
           "line": {
            "color": "#2a3f5f"
           }
          },
          "ternary": {
           "aaxis": {
            "gridcolor": "white",
            "linecolor": "white",
            "ticks": ""
           },
           "baxis": {
            "gridcolor": "white",
            "linecolor": "white",
            "ticks": ""
           },
           "bgcolor": "#E5ECF6",
           "caxis": {
            "gridcolor": "white",
            "linecolor": "white",
            "ticks": ""
           }
          },
          "title": {
           "x": 0.05
          },
          "xaxis": {
           "automargin": true,
           "gridcolor": "white",
           "linecolor": "white",
           "ticks": "",
           "title": {
            "standoff": 15
           },
           "zerolinecolor": "white",
           "zerolinewidth": 2
          },
          "yaxis": {
           "automargin": true,
           "gridcolor": "white",
           "linecolor": "white",
           "ticks": "",
           "title": {
            "standoff": 15
           },
           "zerolinecolor": "white",
           "zerolinewidth": 2
          }
         }
        },
        "title": {
         "text": "Proportion of Missing Voyage IDs over time (original data)."
        },
        "xaxis": {
         "anchor": "y",
         "domain": [
          0,
          1
         ],
         "title": {
          "text": "month"
         }
        },
        "yaxis": {
         "anchor": "x",
         "domain": [
          0,
          1
         ],
         "title": {
          "text": "null_percent"
         }
        }
       }
      }
     },
     "metadata": {},
     "output_type": "display_data"
    }
   ],
   "source": [
    "lf = pl.concat(\n",
    "    [imports_lf.select('direction', 'month', 'voyage_id'),\n",
    "    exports_lf.select('direction', 'month', 'voyage_id')]\n",
    ")\n",
    "\n",
    "nulls_over_time_plotly(\n",
    "    data_lf=lf,\n",
    "    group_var='direction',\n",
    "    time_var='month',\n",
    "    value_var='voyage_id',\n",
    "    title='Proportion of Missing Voyage IDs over time (original data).')"
   ]
  },
  {
   "cell_type": "markdown",
   "metadata": {},
   "source": [
    "Assuming each vessel only has one sailing to/from a given port per day, we can fill in missing vessel_id (voyage_id) based on other bols that used the same port the same day on the same voyage (vessel)."
   ]
  },
  {
   "cell_type": "code",
   "execution_count": 11,
   "metadata": {},
   "outputs": [],
   "source": [
    "#fill nulls by vessel name\n",
    "imports_lf = fill_nulls_by_group(imports_lf, group_vars='vessel_name', val_var='vessel_id')\n",
    "exports_lf = fill_nulls_by_group(exports_lf, group_vars='vessel_name', val_var='vessel_id')\n",
    "\n",
    "#fill nulls by vessel name and voyage id \n",
    "imports_lf = fill_nulls_by_group(imports_lf, group_vars=['vessel_name', 'voyage_id'], val_var='vessel_id')\n",
    "exports_lf = fill_nulls_by_group(exports_lf, group_vars=['vessel_name', 'voyage_id'], val_var='vessel_id')"
   ]
  },
  {
   "cell_type": "code",
   "execution_count": 12,
   "metadata": {},
   "outputs": [
    {
     "data": {
      "application/vnd.plotly.v1+json": {
       "config": {
        "plotlyServerURL": "https://plot.ly"
       },
       "data": [
        {
         "hovertemplate": "direction=export<br>month=%{x}<br>null_percent=%{y}<extra></extra>",
         "legendgroup": "export",
         "line": {
          "color": "#636efa",
          "dash": "solid"
         },
         "marker": {
          "symbol": "circle"
         },
         "mode": "lines",
         "name": "export",
         "orientation": "v",
         "showlegend": true,
         "type": "scatter",
         "x": [
          "200501",
          "200502",
          "200503",
          "200504",
          "200505",
          "200506",
          "200507",
          "200508",
          "200509",
          "200510",
          "200511",
          "200512",
          "200601",
          "200602",
          "200603",
          "200604",
          "200605",
          "200606",
          "200607",
          "200608",
          "200609",
          "200610",
          "200611",
          "200612",
          "200701",
          "200702",
          "200703",
          "200704",
          "200705",
          "200706",
          "200707",
          "200708",
          "200709",
          "200710",
          "200711",
          "200712",
          "200801",
          "200802",
          "200803",
          "200804",
          "200805",
          "200806",
          "200807",
          "200808",
          "200809",
          "200810",
          "200811",
          "200812",
          "200901",
          "200902",
          "200903",
          "200904",
          "200905",
          "200906",
          "200907",
          "200908",
          "200909",
          "200910",
          "200911",
          "200912",
          "201001",
          "201002",
          "201003",
          "201004",
          "201005",
          "201006",
          "201007",
          "201008",
          "201009",
          "201010",
          "201011",
          "201012",
          "201101",
          "201102",
          "201103",
          "201104",
          "201105",
          "201106",
          "201107",
          "201108",
          "201109",
          "201110",
          "201111",
          "201112",
          "201201",
          "201202",
          "201203",
          "201204",
          "201205",
          "201206",
          "201207",
          "201208",
          "201209",
          "201210",
          "201211",
          "201212",
          "201301",
          "201302",
          "201303",
          "201304",
          "201305",
          "201306",
          "201307",
          "201308",
          "201309",
          "201310",
          "201311",
          "201312",
          "201401",
          "201402",
          "201403",
          "201404",
          "201405",
          "201406",
          "201407",
          "201408",
          "201409",
          "201410",
          "201411",
          "201412",
          "201501",
          "201502",
          "201503",
          "201504",
          "201505",
          "201506",
          "201507",
          "201508",
          "201509",
          "201510",
          "201511",
          "201512",
          "201601",
          "201602",
          "201603",
          "201604",
          "201605",
          "201606",
          "201607",
          "201608",
          "201609",
          "201610",
          "201611",
          "201612",
          "201701",
          "201702",
          "201703",
          "201704",
          "201705",
          "201706",
          "201707",
          "201708",
          "201709",
          "201710",
          "201711",
          "201712",
          "201801",
          "201802",
          "201803",
          "201804",
          "201805",
          "201806",
          "201807",
          "201808",
          "201809",
          "201810",
          "201811",
          "201812",
          "201901",
          "201902",
          "201903",
          "201904",
          "201905",
          "201906",
          "201907",
          "201908",
          "201909",
          "201910",
          "201911",
          "201912",
          "202001",
          "202002",
          "202003",
          "202004",
          "202005",
          "202006",
          "202007",
          "202008",
          "202009",
          "202010",
          "202011",
          "202012",
          "202101",
          "202102",
          "202103",
          "202104",
          "202105",
          "202106",
          "202107",
          "202108",
          "202109",
          "202110",
          "202111",
          "202112",
          "202201",
          "202202",
          "202203",
          "202204",
          "202205",
          "202206",
          "202207",
          "202208",
          "202209",
          "202210",
          "202211",
          "202212",
          "202301",
          "202302",
          "202303",
          "202304",
          "202305",
          "202306",
          "202307",
          "202308",
          "202309",
          "202310",
          "202311"
         ],
         "xaxis": "x",
         "y": [
          0.00583322345837861,
          0.003262481906221571,
          0.0025540776832550737,
          0.0031402869559111514,
          0.002833546285958428,
          0.00353370174053607,
          0.0031355831073546295,
          0.0036112093891444118,
          0.003456206395909085,
          0.005724722396728254,
          0.004093416592036444,
          0.005912999009173139,
          0.0037704616516461282,
          0.003246879244550805,
          0.003238283709633894,
          0.004118721753902369,
          0.005547483327744868,
          0.00477468293706713,
          0.0057936430317848415,
          0.00411038245240364,
          0.003996664983860357,
          0.003061294233183566,
          0.002725839320511104,
          0.003101813110181311,
          0.003254135222250101,
          0.0027770377725573774,
          0.0022744986360502414,
          0.0025570791035657496,
          0.002020760418495374,
          0.0012761708867886285,
          0.0021986448210569143,
          0.0018778282140159404,
          0.002250947355234725,
          0.001460917757868137,
          0.00406129581503719,
          0.0018946994721081715,
          0.0022896393817973667,
          0.0019283986285396036,
          0.0015919332956087185,
          0.003132307174699302,
          0.002648795276846976,
          0.001810525597967847,
          0.003575079872204473,
          0.0012381332167022564,
          0.0037562753790293126,
          0.004119952247482612,
          0.00529752882534368,
          0.0039040596317704446,
          0.0019735406247533074,
          0.0026610043145316137,
          0.005039942131085671,
          0.002986423480600571,
          0.0030469765700784487,
          0.0026850801879151143,
          0.002993896463652708,
          0.0021300474107326904,
          0.0025428757098861355,
          0.002962990780554669,
          0.004704739704739704,
          0.05456338505632002,
          0.34602914076152863,
          0.2908672695906738,
          0.23926494449893076,
          0.2533285201622322,
          0.2302265382082191,
          0.22185323683900454,
          0.24430207331804846,
          0.2439210521457101,
          0.23637901486040847,
          0.23151830946785318,
          0.23625466113926724,
          0.22669576231096733,
          0.2046536607545889,
          0.22279935186113528,
          0.21293932242796199,
          0.22567670701747544,
          0.22956000632662985,
          0.23673267896459926,
          0.222694363379015,
          0.23865534037753627,
          0.23677888957121698,
          0.18985416771452493,
          0.21303473069692272,
          0.19249468804918224,
          0.16236121111691967,
          0.20273040827785355,
          0.17636200681600442,
          0.16733236431780507,
          0.17198099910035838,
          0.1891928251121076,
          0.180385547959344,
          0.16559320588987497,
          0.17713532376890267,
          0.16217849154595637,
          0.17347796993081263,
          0.14663659600060142,
          0.14605402627437125,
          0.160577018142271,
          0.13933129304157338,
          0.13750941001326686,
          0.16458680876900314,
          0.028375776262917075,
          0.0009588088210411536,
          0.0015046283053194046,
          0.0006295436283225035,
          0.0007361226720120497,
          0.000635862653666808,
          0.0008475097123966087,
          0.0013831303977319283,
          0.0011938889076253752,
          0.0017596140201504187,
          0.0015942606616181746,
          0.0024732294795821773,
          0.0011071409071882262,
          0.0014722655431670586,
          0.001373813524683228,
          0.0017198415737178078,
          0.002340983212949439,
          0.004479755499827214,
          0.06358989151162604,
          0.03997784878150082,
          0.0018592342533376308,
          0.004597047463330253,
          0.0039353794509051675,
          0.0033451965519632086,
          0.003402437838871833,
          0.004689708145930035,
          0.0038143517302134367,
          0.0037395880871629364,
          0.003748587388943505,
          0.00324449520503806,
          0.006944867293159323,
          0.031931654926102074,
          0.030641557612511968,
          0.033813743828769435,
          0.03208127963709552,
          0.030361805065765867,
          0.032604510407285896,
          0.08385015111814863,
          0.03153326306652613,
          0.028145788790590064,
          0.030492920578068895,
          0.02999275666878303,
          0.02580637110385255,
          0.03977951126323331,
          0.03837990353391247,
          0.041939331970006814,
          0.04320284630516834,
          0.04652063394081627,
          0.043519164820491035,
          0.035462375171696925,
          0.035260125969571295,
          0.037512548911765,
          0.04888527768274604,
          0.08618701486457801,
          0.17597947044145645,
          0.1928450158470849,
          0.17736161193181083,
          0.1772442627619116,
          0.16919961645799572,
          0.17316470894736247,
          0.15837399138176658,
          0.14031441967450536,
          0.15566089261177768,
          0.14560953928409784,
          0.11588600814227555,
          0.15016670188537484,
          0.1271781909365802,
          0.12501499146639605,
          0.12646099080391576,
          0.11785410589539627,
          0.16303603117910012,
          0.13170870986623268,
          0.10970998589120552,
          0.12839794974800517,
          0.1289114275871331,
          0.09734368202366916,
          0.11561952983725135,
          0.12055735295860442,
          0.1335015443784937,
          0.12436423868273733,
          0.17923076451436876,
          0.11812628505021008,
          0.1500381314832777,
          0.1584277214339144,
          0.11226679438684885,
          0.11123085952088779,
          0.10957030840147451,
          0.10431532892338143,
          0.1143857030107619,
          0.11522156801983266,
          0.1294986018078949,
          0.12799436051324503,
          0.11536691741357234,
          0.11968056955996145,
          0.14337706256532604,
          0.15983297752103479,
          0.12066350993970806,
          0.13733671458212246,
          0.09711596909674432,
          0.1286855026476482,
          0.11099018264767949,
          0.08921725185799087,
          0.08506456840731262,
          0.08274021352313167,
          0.08190202247191011,
          0.0740648895697048,
          0.09471940991172009,
          0.05972974574394766,
          0.0625778594023774,
          0.062288119012639045,
          0.038275039194195094,
          0.033841498725967104,
          0.03517027309547633,
          0.02914222999622732,
          0.02543544373790434,
          0.02288850777053317,
          0.019466355263737717,
          0.016716351642775594,
          0.009817647862313891,
          0.01331645172189024,
          0.013595266833028502,
          0.008019220387339428,
          0.006470461438975196,
          0.003955136204090866,
          0.0037713136361558503,
          0.000038915805654466564
         ],
         "yaxis": "y"
        },
        {
         "hovertemplate": "direction=import<br>month=%{x}<br>null_percent=%{y}<extra></extra>",
         "legendgroup": "import",
         "line": {
          "color": "#EF553B",
          "dash": "solid"
         },
         "marker": {
          "symbol": "circle"
         },
         "mode": "lines",
         "name": "import",
         "orientation": "v",
         "showlegend": true,
         "type": "scatter",
         "x": [
          "200501",
          "200502",
          "200503",
          "200504",
          "200505",
          "200506",
          "200507",
          "200508",
          "200509",
          "200510",
          "200511",
          "200512",
          "200601",
          "200602",
          "200603",
          "200604",
          "200605",
          "200606",
          "200607",
          "200608",
          "200609",
          "200610",
          "200611",
          "200612",
          "200701",
          "200702",
          "200703",
          "200704",
          "200705",
          "200706",
          "200707",
          "200708",
          "200709",
          "200710",
          "200711",
          "200712",
          "200801",
          "200802",
          "200803",
          "200804",
          "200805",
          "200806",
          "200807",
          "200808",
          "200809",
          "200810",
          "200811",
          "200812",
          "200901",
          "200902",
          "200903",
          "200904",
          "200905",
          "200906",
          "200907",
          "200908",
          "200909",
          "200910",
          "200911",
          "200912",
          "201001",
          "201002",
          "201003",
          "201004",
          "201005",
          "201006",
          "201007",
          "201008",
          "201009",
          "201010",
          "201011",
          "201012",
          "201101",
          "201102",
          "201103",
          "201104",
          "201105",
          "201106",
          "201107",
          "201108",
          "201109",
          "201110",
          "201111",
          "201112",
          "201201",
          "201202",
          "201203",
          "201204",
          "201205",
          "201206",
          "201207",
          "201208",
          "201209",
          "201210",
          "201211",
          "201212",
          "201301",
          "201302",
          "201303",
          "201304",
          "201305",
          "201306",
          "201307",
          "201308",
          "201309",
          "201310",
          "201311",
          "201312",
          "201401",
          "201402",
          "201403",
          "201404",
          "201405",
          "201406",
          "201407",
          "201408",
          "201409",
          "201410",
          "201411",
          "201412",
          "201501",
          "201502",
          "201503",
          "201504",
          "201505",
          "201506",
          "201507",
          "201508",
          "201509",
          "201510",
          "201511",
          "201512",
          "201601",
          "201602",
          "201603",
          "201604",
          "201605",
          "201606",
          "201607",
          "201608",
          "201609",
          "201610",
          "201611",
          "201612",
          "201701",
          "201702",
          "201703",
          "201704",
          "201705",
          "201706",
          "201707",
          "201708",
          "201709",
          "201710",
          "201711",
          "201712",
          "201801",
          "201802",
          "201803",
          "201804",
          "201805",
          "201806",
          "201807",
          "201808",
          "201809",
          "201810",
          "201811",
          "201812",
          "201901",
          "201902",
          "201903",
          "201904",
          "201905",
          "201906",
          "201907",
          "201908",
          "201909",
          "201910",
          "201911",
          "201912",
          "202001",
          "202002",
          "202003",
          "202004",
          "202005",
          "202006",
          "202007",
          "202008",
          "202009",
          "202010",
          "202011",
          "202012",
          "202101",
          "202102",
          "202103",
          "202104",
          "202105",
          "202106",
          "202107",
          "202108",
          "202109",
          "202110",
          "202111",
          "202112",
          "202201",
          "202202",
          "202203",
          "202204",
          "202205",
          "202206",
          "202207",
          "202208",
          "202209",
          "202210",
          "202211",
          "202212",
          "202301",
          "202302",
          "202303",
          "202304",
          "202305",
          "202306",
          "202307",
          "202308",
          "202309",
          "202310",
          "202311"
         ],
         "xaxis": "x",
         "y": [
          0.004209894170491522,
          0.0047409381457235,
          0.002387673033794757,
          0.002633010985522691,
          0.002283369285000263,
          0.0013556578481460873,
          0.0019657201728084284,
          0.0015431065006650908,
          0.0036756059537057916,
          0.0028498289864924285,
          0.0030568565113083296,
          0.0012324876751232487,
          0.0009701228385269865,
          0.0016620929217560788,
          0.0029377872186818832,
          0.0017358809288804428,
          0.0015821885362387494,
          0.000998880686889868,
          0.0017073944351088885,
          0.0015044497168362012,
          0.0018456149154635992,
          0.0008899590429989495,
          0.0010839035375344907,
          0.00103071025753032,
          0.0006334942486934181,
          0.0011125783953833044,
          0.0013167021802428214,
          0.0016044145710014221,
          0.0008129282561918356,
          0.0006777216231251665,
          0.00065788771812534,
          0.0009050985432733505,
          0.0007911259863479577,
          0.0010295990951552478,
          0.0007873938634204625,
          0.0013967692646171298,
          0.001592757811554734,
          0.0008622652190818487,
          0.0009728236992405699,
          0.0008429334082607474,
          0.001080636360536098,
          0.0010915812078379549,
          0.0016542719201566186,
          0.0011065110091629058,
          0.0015316368092034354,
          0.001041457767406246,
          0.0016080926579509866,
          0.0016419844404924903,
          0.0008916157470486125,
          0.0012844524096932446,
          0.0009600603466503609,
          0.0012198541783510937,
          0.0007444092917834436,
          0.0009026699588660244,
          0.0008147828514861537,
          0.0007374576701763732,
          0.0007313906283385106,
          0.0008604056943213224,
          0.0013656731072484811,
          0.002646050274955224,
          0.14864846610020668,
          0.3149952450451117,
          0.24198736952205468,
          0.20448798942983185,
          0.16567030687881465,
          0.18129035787126638,
          0.18717205183287716,
          0.1810738210042951,
          0.19481516156468193,
          0.20006872614298885,
          0.1849683006339873,
          0.196245267326963,
          0.17771436942815555,
          0.18079337341606538,
          0.18539245719175537,
          0.17264159025482098,
          0.17682933879784932,
          0.17857754563089265,
          0.15613311107497155,
          0.16671429713175798,
          0.15204403113540388,
          0.16275804650008274,
          0.1292984815036035,
          0.13589541481150097,
          0.10641211741956001,
          0.13277718458085844,
          0.12072673949458243,
          0.10632368927990223,
          0.10906091984766854,
          0.10855048173212742,
          0.09731810623710628,
          0.10096652388846059,
          0.0940911180235734,
          0.09662067317151757,
          0.09496413754811095,
          0.0957659967394319,
          0.09134218390578613,
          0.09684409095544,
          0.09423282851460915,
          0.10206527573033872,
          0.10929994377822987,
          0.1091010664825258,
          0.020531037322718194,
          0.002960076058446331,
          0.0004421456577959456,
          0.0005374308503721162,
          0.0003508298475239509,
          0.000506590771392641,
          0.0033092044559070066,
          0.00485965435918563,
          0.004071012759694608,
          0.0027487701330737076,
          0.00428686359227992,
          0.003566410767018734,
          0.0034168527572558936,
          0.004305223868362233,
          0.005169704062865742,
          0.0031546528417368816,
          0.002627872264384973,
          0.005235363197317957,
          0.05519211056330781,
          0.055804143231051956,
          0.0019711721708379286,
          0.00263541185971389,
          0.0010111178270686856,
          0.0011831780976573525,
          0.0029715063991698374,
          0.0024541996451965067,
          0.0011782393643639533,
          0.0012040980538707976,
          0.001182261284540075,
          0.0013105515985167553,
          0.008247350909117098,
          0.008320153943293544,
          0.008579892731288133,
          0.008101063447363194,
          0.008834388637680364,
          0.010586442570951208,
          0.014945683664043282,
          0.20632622570365944,
          0.007094405668037035,
          0.007097386642841188,
          0.010261547125566624,
          0.007038982753460145,
          0.016339032906203133,
          0.0385890321193443,
          0.01731192076762662,
          0.019351327402779513,
          0.019709388931727096,
          0.01823208954230679,
          0.02098938366263639,
          0.026630184514735773,
          0.024468107084258013,
          0.03193603456306518,
          0.02097617360328499,
          0.08835967183033279,
          0.1864676755465821,
          0.18132694876904462,
          0.15618007115982824,
          0.15558566874781163,
          0.1648921332294842,
          0.13499044956190887,
          0.10980695025761689,
          0.13664848003488145,
          0.15059822579422247,
          0.1125300103628277,
          0.1402505149850874,
          0.12259944768321505,
          0.14125583891392482,
          0.11942320833065652,
          0.0927907055381756,
          0.14157276484194958,
          0.10455083708842577,
          0.07905148377607653,
          0.11270091502556952,
          0.11271929050563043,
          0.08306470638533725,
          0.08865478928490343,
          0.10360584385023883,
          0.08149522975832992,
          0.10622060182807846,
          0.10481972277346503,
          0.0841661981801903,
          0.07554465121192913,
          0.14444996354970877,
          0.06718218164893766,
          0.05727555407484968,
          0.06594890523087771,
          0.05156363265827831,
          0.087523015740424,
          0.05910394035304248,
          0.13426782704413334,
          0.1330602806469642,
          0.1173187675580219,
          0.10447954648557015,
          0.12657872197726006,
          0.13315179467692118,
          0.11112494437262921,
          0.12013177736899112,
          0.08815033715844375,
          0.07829115452569496,
          0.10207513261672922,
          0.07039813460177727,
          0.05896388380270437,
          0.058073781594864295,
          0.06089489481883002,
          0.05557629484257103,
          0.06174444745611378,
          0.04579722542633684,
          0.052851592938889795,
          0.039670568148209996,
          0.03532729909642142,
          0.05581394184347327,
          0.021982842483768455,
          0.015240941999347517,
          0.01914728923395284,
          0.011545545001947535,
          0.017108530867172008,
          0.005753707639123485,
          0.0048754272566711035,
          0.006779702784957458,
          0.001856827211335982,
          0.000820522280268832,
          0.0018677537493460184,
          0.0014777419665979359,
          0.0013221401792518613,
          0.00012998430976796264
         ],
         "yaxis": "y"
        }
       ],
       "layout": {
        "legend": {
         "title": {
          "text": "direction"
         },
         "tracegroupgap": 0
        },
        "template": {
         "data": {
          "bar": [
           {
            "error_x": {
             "color": "#2a3f5f"
            },
            "error_y": {
             "color": "#2a3f5f"
            },
            "marker": {
             "line": {
              "color": "#E5ECF6",
              "width": 0.5
             },
             "pattern": {
              "fillmode": "overlay",
              "size": 10,
              "solidity": 0.2
             }
            },
            "type": "bar"
           }
          ],
          "barpolar": [
           {
            "marker": {
             "line": {
              "color": "#E5ECF6",
              "width": 0.5
             },
             "pattern": {
              "fillmode": "overlay",
              "size": 10,
              "solidity": 0.2
             }
            },
            "type": "barpolar"
           }
          ],
          "carpet": [
           {
            "aaxis": {
             "endlinecolor": "#2a3f5f",
             "gridcolor": "white",
             "linecolor": "white",
             "minorgridcolor": "white",
             "startlinecolor": "#2a3f5f"
            },
            "baxis": {
             "endlinecolor": "#2a3f5f",
             "gridcolor": "white",
             "linecolor": "white",
             "minorgridcolor": "white",
             "startlinecolor": "#2a3f5f"
            },
            "type": "carpet"
           }
          ],
          "choropleth": [
           {
            "colorbar": {
             "outlinewidth": 0,
             "ticks": ""
            },
            "type": "choropleth"
           }
          ],
          "contour": [
           {
            "colorbar": {
             "outlinewidth": 0,
             "ticks": ""
            },
            "colorscale": [
             [
              0,
              "#0d0887"
             ],
             [
              0.1111111111111111,
              "#46039f"
             ],
             [
              0.2222222222222222,
              "#7201a8"
             ],
             [
              0.3333333333333333,
              "#9c179e"
             ],
             [
              0.4444444444444444,
              "#bd3786"
             ],
             [
              0.5555555555555556,
              "#d8576b"
             ],
             [
              0.6666666666666666,
              "#ed7953"
             ],
             [
              0.7777777777777778,
              "#fb9f3a"
             ],
             [
              0.8888888888888888,
              "#fdca26"
             ],
             [
              1,
              "#f0f921"
             ]
            ],
            "type": "contour"
           }
          ],
          "contourcarpet": [
           {
            "colorbar": {
             "outlinewidth": 0,
             "ticks": ""
            },
            "type": "contourcarpet"
           }
          ],
          "heatmap": [
           {
            "colorbar": {
             "outlinewidth": 0,
             "ticks": ""
            },
            "colorscale": [
             [
              0,
              "#0d0887"
             ],
             [
              0.1111111111111111,
              "#46039f"
             ],
             [
              0.2222222222222222,
              "#7201a8"
             ],
             [
              0.3333333333333333,
              "#9c179e"
             ],
             [
              0.4444444444444444,
              "#bd3786"
             ],
             [
              0.5555555555555556,
              "#d8576b"
             ],
             [
              0.6666666666666666,
              "#ed7953"
             ],
             [
              0.7777777777777778,
              "#fb9f3a"
             ],
             [
              0.8888888888888888,
              "#fdca26"
             ],
             [
              1,
              "#f0f921"
             ]
            ],
            "type": "heatmap"
           }
          ],
          "heatmapgl": [
           {
            "colorbar": {
             "outlinewidth": 0,
             "ticks": ""
            },
            "colorscale": [
             [
              0,
              "#0d0887"
             ],
             [
              0.1111111111111111,
              "#46039f"
             ],
             [
              0.2222222222222222,
              "#7201a8"
             ],
             [
              0.3333333333333333,
              "#9c179e"
             ],
             [
              0.4444444444444444,
              "#bd3786"
             ],
             [
              0.5555555555555556,
              "#d8576b"
             ],
             [
              0.6666666666666666,
              "#ed7953"
             ],
             [
              0.7777777777777778,
              "#fb9f3a"
             ],
             [
              0.8888888888888888,
              "#fdca26"
             ],
             [
              1,
              "#f0f921"
             ]
            ],
            "type": "heatmapgl"
           }
          ],
          "histogram": [
           {
            "marker": {
             "pattern": {
              "fillmode": "overlay",
              "size": 10,
              "solidity": 0.2
             }
            },
            "type": "histogram"
           }
          ],
          "histogram2d": [
           {
            "colorbar": {
             "outlinewidth": 0,
             "ticks": ""
            },
            "colorscale": [
             [
              0,
              "#0d0887"
             ],
             [
              0.1111111111111111,
              "#46039f"
             ],
             [
              0.2222222222222222,
              "#7201a8"
             ],
             [
              0.3333333333333333,
              "#9c179e"
             ],
             [
              0.4444444444444444,
              "#bd3786"
             ],
             [
              0.5555555555555556,
              "#d8576b"
             ],
             [
              0.6666666666666666,
              "#ed7953"
             ],
             [
              0.7777777777777778,
              "#fb9f3a"
             ],
             [
              0.8888888888888888,
              "#fdca26"
             ],
             [
              1,
              "#f0f921"
             ]
            ],
            "type": "histogram2d"
           }
          ],
          "histogram2dcontour": [
           {
            "colorbar": {
             "outlinewidth": 0,
             "ticks": ""
            },
            "colorscale": [
             [
              0,
              "#0d0887"
             ],
             [
              0.1111111111111111,
              "#46039f"
             ],
             [
              0.2222222222222222,
              "#7201a8"
             ],
             [
              0.3333333333333333,
              "#9c179e"
             ],
             [
              0.4444444444444444,
              "#bd3786"
             ],
             [
              0.5555555555555556,
              "#d8576b"
             ],
             [
              0.6666666666666666,
              "#ed7953"
             ],
             [
              0.7777777777777778,
              "#fb9f3a"
             ],
             [
              0.8888888888888888,
              "#fdca26"
             ],
             [
              1,
              "#f0f921"
             ]
            ],
            "type": "histogram2dcontour"
           }
          ],
          "mesh3d": [
           {
            "colorbar": {
             "outlinewidth": 0,
             "ticks": ""
            },
            "type": "mesh3d"
           }
          ],
          "parcoords": [
           {
            "line": {
             "colorbar": {
              "outlinewidth": 0,
              "ticks": ""
             }
            },
            "type": "parcoords"
           }
          ],
          "pie": [
           {
            "automargin": true,
            "type": "pie"
           }
          ],
          "scatter": [
           {
            "fillpattern": {
             "fillmode": "overlay",
             "size": 10,
             "solidity": 0.2
            },
            "type": "scatter"
           }
          ],
          "scatter3d": [
           {
            "line": {
             "colorbar": {
              "outlinewidth": 0,
              "ticks": ""
             }
            },
            "marker": {
             "colorbar": {
              "outlinewidth": 0,
              "ticks": ""
             }
            },
            "type": "scatter3d"
           }
          ],
          "scattercarpet": [
           {
            "marker": {
             "colorbar": {
              "outlinewidth": 0,
              "ticks": ""
             }
            },
            "type": "scattercarpet"
           }
          ],
          "scattergeo": [
           {
            "marker": {
             "colorbar": {
              "outlinewidth": 0,
              "ticks": ""
             }
            },
            "type": "scattergeo"
           }
          ],
          "scattergl": [
           {
            "marker": {
             "colorbar": {
              "outlinewidth": 0,
              "ticks": ""
             }
            },
            "type": "scattergl"
           }
          ],
          "scattermapbox": [
           {
            "marker": {
             "colorbar": {
              "outlinewidth": 0,
              "ticks": ""
             }
            },
            "type": "scattermapbox"
           }
          ],
          "scatterpolar": [
           {
            "marker": {
             "colorbar": {
              "outlinewidth": 0,
              "ticks": ""
             }
            },
            "type": "scatterpolar"
           }
          ],
          "scatterpolargl": [
           {
            "marker": {
             "colorbar": {
              "outlinewidth": 0,
              "ticks": ""
             }
            },
            "type": "scatterpolargl"
           }
          ],
          "scatterternary": [
           {
            "marker": {
             "colorbar": {
              "outlinewidth": 0,
              "ticks": ""
             }
            },
            "type": "scatterternary"
           }
          ],
          "surface": [
           {
            "colorbar": {
             "outlinewidth": 0,
             "ticks": ""
            },
            "colorscale": [
             [
              0,
              "#0d0887"
             ],
             [
              0.1111111111111111,
              "#46039f"
             ],
             [
              0.2222222222222222,
              "#7201a8"
             ],
             [
              0.3333333333333333,
              "#9c179e"
             ],
             [
              0.4444444444444444,
              "#bd3786"
             ],
             [
              0.5555555555555556,
              "#d8576b"
             ],
             [
              0.6666666666666666,
              "#ed7953"
             ],
             [
              0.7777777777777778,
              "#fb9f3a"
             ],
             [
              0.8888888888888888,
              "#fdca26"
             ],
             [
              1,
              "#f0f921"
             ]
            ],
            "type": "surface"
           }
          ],
          "table": [
           {
            "cells": {
             "fill": {
              "color": "#EBF0F8"
             },
             "line": {
              "color": "white"
             }
            },
            "header": {
             "fill": {
              "color": "#C8D4E3"
             },
             "line": {
              "color": "white"
             }
            },
            "type": "table"
           }
          ]
         },
         "layout": {
          "annotationdefaults": {
           "arrowcolor": "#2a3f5f",
           "arrowhead": 0,
           "arrowwidth": 1
          },
          "autotypenumbers": "strict",
          "coloraxis": {
           "colorbar": {
            "outlinewidth": 0,
            "ticks": ""
           }
          },
          "colorscale": {
           "diverging": [
            [
             0,
             "#8e0152"
            ],
            [
             0.1,
             "#c51b7d"
            ],
            [
             0.2,
             "#de77ae"
            ],
            [
             0.3,
             "#f1b6da"
            ],
            [
             0.4,
             "#fde0ef"
            ],
            [
             0.5,
             "#f7f7f7"
            ],
            [
             0.6,
             "#e6f5d0"
            ],
            [
             0.7,
             "#b8e186"
            ],
            [
             0.8,
             "#7fbc41"
            ],
            [
             0.9,
             "#4d9221"
            ],
            [
             1,
             "#276419"
            ]
           ],
           "sequential": [
            [
             0,
             "#0d0887"
            ],
            [
             0.1111111111111111,
             "#46039f"
            ],
            [
             0.2222222222222222,
             "#7201a8"
            ],
            [
             0.3333333333333333,
             "#9c179e"
            ],
            [
             0.4444444444444444,
             "#bd3786"
            ],
            [
             0.5555555555555556,
             "#d8576b"
            ],
            [
             0.6666666666666666,
             "#ed7953"
            ],
            [
             0.7777777777777778,
             "#fb9f3a"
            ],
            [
             0.8888888888888888,
             "#fdca26"
            ],
            [
             1,
             "#f0f921"
            ]
           ],
           "sequentialminus": [
            [
             0,
             "#0d0887"
            ],
            [
             0.1111111111111111,
             "#46039f"
            ],
            [
             0.2222222222222222,
             "#7201a8"
            ],
            [
             0.3333333333333333,
             "#9c179e"
            ],
            [
             0.4444444444444444,
             "#bd3786"
            ],
            [
             0.5555555555555556,
             "#d8576b"
            ],
            [
             0.6666666666666666,
             "#ed7953"
            ],
            [
             0.7777777777777778,
             "#fb9f3a"
            ],
            [
             0.8888888888888888,
             "#fdca26"
            ],
            [
             1,
             "#f0f921"
            ]
           ]
          },
          "colorway": [
           "#636efa",
           "#EF553B",
           "#00cc96",
           "#ab63fa",
           "#FFA15A",
           "#19d3f3",
           "#FF6692",
           "#B6E880",
           "#FF97FF",
           "#FECB52"
          ],
          "font": {
           "color": "#2a3f5f"
          },
          "geo": {
           "bgcolor": "white",
           "lakecolor": "white",
           "landcolor": "#E5ECF6",
           "showlakes": true,
           "showland": true,
           "subunitcolor": "white"
          },
          "hoverlabel": {
           "align": "left"
          },
          "hovermode": "closest",
          "mapbox": {
           "style": "light"
          },
          "paper_bgcolor": "white",
          "plot_bgcolor": "#E5ECF6",
          "polar": {
           "angularaxis": {
            "gridcolor": "white",
            "linecolor": "white",
            "ticks": ""
           },
           "bgcolor": "#E5ECF6",
           "radialaxis": {
            "gridcolor": "white",
            "linecolor": "white",
            "ticks": ""
           }
          },
          "scene": {
           "xaxis": {
            "backgroundcolor": "#E5ECF6",
            "gridcolor": "white",
            "gridwidth": 2,
            "linecolor": "white",
            "showbackground": true,
            "ticks": "",
            "zerolinecolor": "white"
           },
           "yaxis": {
            "backgroundcolor": "#E5ECF6",
            "gridcolor": "white",
            "gridwidth": 2,
            "linecolor": "white",
            "showbackground": true,
            "ticks": "",
            "zerolinecolor": "white"
           },
           "zaxis": {
            "backgroundcolor": "#E5ECF6",
            "gridcolor": "white",
            "gridwidth": 2,
            "linecolor": "white",
            "showbackground": true,
            "ticks": "",
            "zerolinecolor": "white"
           }
          },
          "shapedefaults": {
           "line": {
            "color": "#2a3f5f"
           }
          },
          "ternary": {
           "aaxis": {
            "gridcolor": "white",
            "linecolor": "white",
            "ticks": ""
           },
           "baxis": {
            "gridcolor": "white",
            "linecolor": "white",
            "ticks": ""
           },
           "bgcolor": "#E5ECF6",
           "caxis": {
            "gridcolor": "white",
            "linecolor": "white",
            "ticks": ""
           }
          },
          "title": {
           "x": 0.05
          },
          "xaxis": {
           "automargin": true,
           "gridcolor": "white",
           "linecolor": "white",
           "ticks": "",
           "title": {
            "standoff": 15
           },
           "zerolinecolor": "white",
           "zerolinewidth": 2
          },
          "yaxis": {
           "automargin": true,
           "gridcolor": "white",
           "linecolor": "white",
           "ticks": "",
           "title": {
            "standoff": 15
           },
           "zerolinecolor": "white",
           "zerolinewidth": 2
          }
         }
        },
        "title": {
         "text": "Proportion of Missing Vessel IDs over time (partially filled data)."
        },
        "xaxis": {
         "anchor": "y",
         "domain": [
          0,
          1
         ],
         "title": {
          "text": "month"
         }
        },
        "yaxis": {
         "anchor": "x",
         "domain": [
          0,
          1
         ],
         "title": {
          "text": "null_percent"
         }
        }
       }
      }
     },
     "metadata": {},
     "output_type": "display_data"
    }
   ],
   "source": [
    "lf = pl.concat(\n",
    "    [imports_lf.select('direction', 'month', 'vessel_id'),\n",
    "    exports_lf.select('direction', 'month', 'vessel_id')]\n",
    ")\n",
    "\n",
    "nulls_over_time_plotly(\n",
    "    data_lf=lf,\n",
    "    group_var='direction',\n",
    "    time_var='month',\n",
    "    value_var='vessel_id',\n",
    "    title='Proportion of Missing Vessel IDs over time (partially filled data).')"
   ]
  },
  {
   "cell_type": "code",
   "execution_count": null,
   "metadata": {},
   "outputs": [
    {
     "data": {
      "text/html": [
       "<div><style>\n",
       ".dataframe > thead > tr,\n",
       ".dataframe > tbody > tr {\n",
       "  text-align: right;\n",
       "  white-space: pre-wrap;\n",
       "}\n",
       "</style>\n",
       "<small>shape: (10, 48)</small><table border=\"1\" class=\"dataframe\"><thead><tr><th>weight</th><th>weight_unit</th><th>qty</th><th>qty_type</th><th>teus</th><th>value_est</th><th>date_arrival</th><th>container_piece_count</th><th>commod_short_desc_qty</th><th>origin_territory</th><th>origin_region</th><th>arrival_port_code</th><th>arrival_port_name</th><th>departure_port_code</th><th>departure_port_name</th><th>dest_final</th><th>coast_region</th><th>clearing_district</th><th>place_receipt</th><th>shipper_name</th><th>shipper_address</th><th>consignee_name</th><th>consignee_address</th><th>notify_party1_name</th><th>notify_party1_address</th><th>notify_party2_name</th><th>notify_party2_address</th><th>commod_desc_raw</th><th>container_id_marks</th><th>marks_desc</th><th>hs_code</th><th>joc_code</th><th>commod_short_desc</th><th>container_ids</th><th>carrier_name</th><th>carrier_scac</th><th>vessel_name</th><th>voyage_id</th><th>precarrier</th><th>vessel_id</th><th>inbond_code</th><th>transport_mode</th><th>bol_number</th><th>bol_id</th><th>hs_2d</th><th>year</th><th>month</th><th>direction</th></tr><tr><td>f64</td><td>cat</td><td>f64</td><td>cat</td><td>f64</td><td>f64</td><td>datetime[μs]</td><td>i32</td><td>str</td><td>cat</td><td>cat</td><td>cat</td><td>cat</td><td>cat</td><td>cat</td><td>cat</td><td>cat</td><td>cat</td><td>cat</td><td>str</td><td>str</td><td>str</td><td>str</td><td>str</td><td>str</td><td>str</td><td>str</td><td>str</td><td>str</td><td>str</td><td>str</td><td>str</td><td>str</td><td>str</td><td>cat</td><td>cat</td><td>str</td><td>str</td><td>f64</td><td>i32</td><td>f64</td><td>cat</td><td>str</td><td>str</td><td>str</td><td>i32</td><td>str</td><td>str</td></tr></thead><tbody><tr><td>76862.448175</td><td>&quot;KG&quot;</td><td>1526.0</td><td>&quot;CTN&quot;</td><td>2.196793</td><td>0.0</td><td>2005-12-29 00:00:00</td><td>1</td><td>&quot;1526&quot;</td><td>&quot;CHINA (MAINLAN…</td><td>&quot;NORTH EAST ASI…</td><td>&quot;4909&quot;</td><td>&quot;SAN JUAN&quot;</td><td>&quot;57047&quot;</td><td>&quot;QINGDAO&quot;</td><td>null</td><td>&quot;CARIBBEAN&quot;</td><td>null</td><td>&quot;QINGDAO&quot;</td><td>&quot;ITAL SPORTS&quot;</td><td>&quot;47 2ND FLOOR G…</td><td>&quot;ELEVEN ELEVEN&quot;</td><td>null</td><td>&quot;ECONOCARIBE&quot;</td><td>&quot;2401 NW 69TH S…</td><td>null</td><td>null</td><td>null</td><td>null</td><td>&quot;ZZ&quot;</td><td>&quot;611599&quot;</td><td>null</td><td>null</td><td>&quot;CLHU8366831&quot;</td><td>&quot;UNAVAILABLE ON…</td><td>&quot;ZZZZ&quot;</td><td>&quot;MIZAR&quot;</td><td>&quot;32&quot;</td><td>null</td><td>9295505</td><td>null</td><td>null</td><td>&quot;GLPSJA11338&quot;</td><td>&quot;ZZZZ_GLPSJA113…</td><td>&quot;61&quot;</td><td>2005</td><td>&quot;200512&quot;</td><td>&quot;import&quot;</td></tr><tr><td>76862.448175</td><td>&quot;KG&quot;</td><td>1585.276648</td><td>&quot;-1&quot;</td><td>2.196793</td><td>0.0</td><td>2005-10-12 00:00:00</td><td>0</td><td>&quot;0&quot;</td><td>&quot;HONG KONG&quot;</td><td>&quot;NORTH EAST ASI…</td><td>&quot;4601&quot;</td><td>&quot;NEW YORK&quot;</td><td>&quot;58201&quot;</td><td>&quot;HONG KONG&quot;</td><td>null</td><td>&quot;EAST&quot;</td><td>null</td><td>&quot;HONG KONG&quot;</td><td>&quot;FORMASTERCONTA…</td><td>null</td><td>&quot;FORMASTERCONTA…</td><td>null</td><td>&quot;FORMASTERCONTA…</td><td>null</td><td>null</td><td>null</td><td>null</td><td>null</td><td>null</td><td>&quot;009669&quot;</td><td>null</td><td>null</td><td>null</td><td>&quot;HANJIN SHIPPIN…</td><td>&quot;HJSC&quot;</td><td>&quot;CHESAPEAKE BAY…</td><td>null</td><td>null</td><td>9280811</td><td>null</td><td>null</td><td>&quot;MSTB753117HJSC…</td><td>&quot;HJSC_MSTB75311…</td><td>&quot;00&quot;</td><td>2005</td><td>&quot;200510&quot;</td><td>&quot;import&quot;</td></tr><tr><td>76862.448175</td><td>&quot;KG&quot;</td><td>59.0</td><td>&quot;PKG&quot;</td><td>2.196793</td><td>0.0</td><td>2005-10-12 00:00:00</td><td>1</td><td>&quot;59&quot;</td><td>&quot;CHINA (MAINLAN…</td><td>&quot;NORTH EAST ASI…</td><td>&quot;4601&quot;</td><td>&quot;NEW YORK&quot;</td><td>&quot;58023&quot;</td><td>&quot;BUSAN&quot;</td><td>null</td><td>&quot;EAST&quot;</td><td>null</td><td>&quot;SHANGHAI&quot;</td><td>&quot;WANVOG FURNITU…</td><td>&quot;NO.8, TAIHU SO…</td><td>&quot;ASHLEY FURNITU…</td><td>&quot;1 ASHLEY WAY&quot;</td><td>&quot;ASHLEY FURNITU…</td><td>&quot;1 ASHLEY WAY&quot;</td><td>null</td><td>null</td><td>null</td><td>null</td><td>&quot;40&quot;</td><td>&quot;9401&quot;</td><td>null</td><td>null</td><td>&quot;CLHU4278028&quot;</td><td>&quot;ZIM CONTAINER&quot;</td><td>&quot;ZIML&quot;</td><td>&quot;ZIM BARCELONA&quot;</td><td>&quot;6&quot;</td><td>null</td><td>9280835</td><td>null</td><td>null</td><td>&quot;SNH5808843&quot;</td><td>&quot;ZIML_SNH580884…</td><td>&quot;94&quot;</td><td>2005</td><td>&quot;200510&quot;</td><td>&quot;import&quot;</td></tr><tr><td>76862.448175</td><td>&quot;KG&quot;</td><td>80.0</td><td>&quot;PCS&quot;</td><td>2.196793</td><td>0.0</td><td>2005-03-30 00:00:00</td><td>0</td><td>&quot;80&quot;</td><td>&quot;SRI LANKA (CEY…</td><td>&quot;INDIAN SUB CON…</td><td>&quot;1601&quot;</td><td>&quot;CHARLESTON&quot;</td><td>&quot;52330&quot;</td><td>&quot;SALALAH&quot;</td><td>null</td><td>&quot;EAST&quot;</td><td>&quot;CHARLESTON, S.…</td><td>&quot;COLOMBO&quot;</td><td>&quot;LOAD STAR&quot;</td><td>&quot;4 HUNUPITIYA R…</td><td>&quot;ORDER OF SHIPP…</td><td>null</td><td>&quot;OTR WHEEL ENGI…</td><td>&quot;218 OLD LINDAL…</td><td>null</td><td>null</td><td>null</td><td>null</td><td>null</td><td>&quot;730791&quot;</td><td>null</td><td>null</td><td>null</td><td>&quot;MAERSK LINE&quot;</td><td>&quot;MLSL&quot;</td><td>&quot;MAERSK MISSOUR…</td><td>&quot;504&quot;</td><td>null</td><td>9155121</td><td>null</td><td>null</td><td>&quot;CMB300747&quot;</td><td>&quot;MLSL_CMB300747…</td><td>&quot;73&quot;</td><td>2005</td><td>&quot;200503&quot;</td><td>&quot;import&quot;</td></tr><tr><td>76862.448175</td><td>&quot;KG&quot;</td><td>40.0</td><td>&quot;PKG&quot;</td><td>2.196793</td><td>0.0</td><td>2005-05-27 00:00:00</td><td>1</td><td>&quot;40&quot;</td><td>&quot;REPUBLIC OF KO…</td><td>&quot;NORTH EAST ASI…</td><td>&quot;2709&quot;</td><td>&quot;LONG BEACH&quot;</td><td>&quot;58023&quot;</td><td>&quot;BUSAN&quot;</td><td>null</td><td>&quot;WEST&quot;</td><td>&quot;LOS ANGELES, C…</td><td>&quot;BUSAN&quot;</td><td>&quot;SAMSUNG&quot;</td><td>&quot;CPO BOX 2775&quot;</td><td>&quot;SAMSUNG&quot;</td><td>&quot;2498 ROLL DR&quot;</td><td>&quot;SAMSUNG&quot;</td><td>&quot;2498 ROLL DR&quot;</td><td>null</td><td>null</td><td>null</td><td>null</td><td>&quot;40&quot;</td><td>&quot;854800&quot;</td><td>null</td><td>null</td><td>&quot;HJCU1219850&quot;</td><td>&quot;HANJIN SHIPPIN…</td><td>&quot;HJSC&quot;</td><td>&quot;HANJIN PHOENIX…</td><td>&quot;35&quot;</td><td>null</td><td>9232084</td><td>null</td><td>null</td><td>&quot;PUSA05765703&quot;</td><td>&quot;HJSC_PUSA05765…</td><td>&quot;85&quot;</td><td>2005</td><td>&quot;200505&quot;</td><td>&quot;import&quot;</td></tr><tr><td>76862.448175</td><td>&quot;KG&quot;</td><td>19.0</td><td>&quot;BLS&quot;</td><td>2.196793</td><td>0.0</td><td>2005-06-07 00:00:00</td><td>1</td><td>&quot;19&quot;</td><td>&quot;CHINA (MAINLAN…</td><td>&quot;NORTH EAST ASI…</td><td>&quot;3002&quot;</td><td>&quot;TACOMA&quot;</td><td>&quot;57035&quot;</td><td>&quot;SHANGHAI&quot;</td><td>null</td><td>&quot;WEST&quot;</td><td>&quot;SEATTLE, WASHI…</td><td>&quot;SHANGHAI&quot;</td><td>&quot;WINWORTH INTER…</td><td>&quot;42-56 KWONG WA…</td><td>&quot;UNIWORTH&quot;</td><td>&quot;ROCKET 4WEST 3…</td><td>&quot;UNIWORTH&quot;</td><td>&quot;ROCKET 4WEST 3…</td><td>null</td><td>null</td><td>null</td><td>null</td><td>&quot;LC&quot;</td><td>&quot;5212&quot;</td><td>null</td><td>null</td><td>&quot;HDMU6322731&quot;</td><td>&quot;HYUNDAI&quot;</td><td>&quot;HYMM&quot;</td><td>&quot;HYUNDAI CHALLE…</td><td>&quot;512&quot;</td><td>null</td><td>8417948</td><td>null</td><td>null</td><td>&quot;SD0184516907&quot;</td><td>&quot;HYMM_SD0184516…</td><td>&quot;52&quot;</td><td>2005</td><td>&quot;200506&quot;</td><td>&quot;import&quot;</td></tr><tr><td>76862.448175</td><td>&quot;KG&quot;</td><td>20.0</td><td>&quot;CTN&quot;</td><td>2.196793</td><td>0.0</td><td>2005-01-26 00:00:00</td><td>1</td><td>&quot;20&quot;</td><td>&quot;GERMANY&quot;</td><td>&quot;NORTH EUROPE&quot;</td><td>&quot;5301&quot;</td><td>&quot;HOUSTON&quot;</td><td>&quot;42879&quot;</td><td>&quot;HAMBURG&quot;</td><td>null</td><td>&quot;GULF&quot;</td><td>&quot;HOUSTON/GALVES…</td><td>&quot;HAMBURG&quot;</td><td>&quot;SASOL GERMANY&quot;</td><td>&quot;FRITZ-STAIGER-…</td><td>&quot;HALDOR TOPSOE&quot;</td><td>&quot;10010 BAYPORT …</td><td>&quot;LESCHACO&quot;</td><td>&quot;8552 KATY FWY&quot;</td><td>null</td><td>null</td><td>null</td><td>null</td><td>&quot;LC&quot;</td><td>&quot;281820&quot;</td><td>null</td><td>null</td><td>&quot;KKFU1234784&quot;</td><td>&quot;K LINE&quot;</td><td>&quot;KLIN&quot;</td><td>&quot;P&amp;O NEDLLOYD M…</td><td>&quot;65&quot;</td><td>null</td><td>9168221</td><td>null</td><td>null</td><td>&quot;HAM085113A&quot;</td><td>&quot;KLIN_HAM085113…</td><td>&quot;28&quot;</td><td>2005</td><td>&quot;200501&quot;</td><td>&quot;import&quot;</td></tr><tr><td>76862.448175</td><td>&quot;KG&quot;</td><td>1.0</td><td>&quot;UNT&quot;</td><td>2.196793</td><td>0.0</td><td>2005-08-29 00:00:00</td><td>1</td><td>&quot;1&quot;</td><td>&quot;JAPAN&quot;</td><td>&quot;NORTH EAST ASI…</td><td>&quot;4909&quot;</td><td>&quot;SAN JUAN&quot;</td><td>&quot;58840&quot;</td><td>&quot;KOBE&quot;</td><td>null</td><td>&quot;CARIBBEAN&quot;</td><td>null</td><td>&quot;KOBE&quot;</td><td>&quot;CRYSTAL INTERN…</td><td>&quot;6-16-11 OKAMOT…</td><td>&quot;R SINGH&quot;</td><td>&quot;4 LAMAHA ST&quot;</td><td>&quot;R SINGH&quot;</td><td>&quot;4 LAMAHA ST&quot;</td><td>null</td><td>null</td><td>null</td><td>null</td><td>&quot;--&quot;</td><td>&quot;870390&quot;</td><td>null</td><td>null</td><td>&quot;NC&quot;</td><td>&quot;HOEGH AUTOLINE…</td><td>&quot;HOEG&quot;</td><td>&quot;HUAL TRIDENT&quot;</td><td>&quot;81&quot;</td><td>null</td><td>9075709</td><td>null</td><td>null</td><td>&quot;ID81KBSJ3517&quot;</td><td>&quot;HOEG_ID81KBSJ3…</td><td>&quot;87&quot;</td><td>2005</td><td>&quot;200508&quot;</td><td>&quot;import&quot;</td></tr><tr><td>76862.448175</td><td>&quot;KG&quot;</td><td>200.0</td><td>&quot;CTN&quot;</td><td>2.196793</td><td>0.0</td><td>2005-03-29 00:00:00</td><td>1</td><td>&quot;200&quot;</td><td>&quot;CHINA (MAINLAN…</td><td>&quot;NORTH EAST ASI…</td><td>&quot;2709&quot;</td><td>&quot;LONG BEACH&quot;</td><td>&quot;57047&quot;</td><td>&quot;QINGDAO&quot;</td><td>null</td><td>&quot;WEST&quot;</td><td>&quot;LOS ANGELES, C…</td><td>&quot;QINGDAO&quot;</td><td>&quot;RONGCHENG SAMB…</td><td>&quot;N COMMERCIAL S…</td><td>&quot;VICTORIA VOGUE…</td><td>&quot;974 MARCON BLV…</td><td>&quot;VICTORIA VOGUE…</td><td>&quot;974 MARCON BLV…</td><td>null</td><td>null</td><td>null</td><td>null</td><td>&quot;LC&quot;</td><td>&quot;961620&quot;</td><td>null</td><td>null</td><td>&quot;TRLU5625019&quot;</td><td>&quot;N Y K LINE&quot;</td><td>&quot;NYKL&quot;</td><td>&quot;OOCL AMERICA&quot;</td><td>&quot;86&quot;</td><td>null</td><td>9102291</td><td>null</td><td>null</td><td>&quot;AGS25037149&quot;</td><td>&quot;NYKL_AGS250371…</td><td>&quot;96&quot;</td><td>2005</td><td>&quot;200503&quot;</td><td>&quot;import&quot;</td></tr><tr><td>76862.448175</td><td>&quot;KG&quot;</td><td>1585.276648</td><td>&quot;-1&quot;</td><td>2.196793</td><td>0.0</td><td>2005-10-26 00:00:00</td><td>0</td><td>&quot;0&quot;</td><td>&quot;CHINA (MAINLAN…</td><td>&quot;NORTH EAST ASI…</td><td>&quot;2709&quot;</td><td>&quot;LONG BEACH&quot;</td><td>&quot;57069&quot;</td><td>&quot;XIAMEN&quot;</td><td>null</td><td>&quot;WEST&quot;</td><td>&quot;LOS ANGELES, C…</td><td>&quot;XIAMEN&quot;</td><td>&quot;FORMASTERCONTA…</td><td>null</td><td>&quot;FORMASTERCONTA…</td><td>null</td><td>&quot;FORMASTERCONTA…</td><td>null</td><td>null</td><td>null</td><td>null</td><td>null</td><td>null</td><td>&quot;009669&quot;</td><td>null</td><td>null</td><td>null</td><td>&quot;YANG MING LINE…</td><td>&quot;YMAL&quot;</td><td>&quot;GENOA BRIDGE&quot;</td><td>null</td><td>null</td><td>9267651</td><td>null</td><td>null</td><td>&quot;MSTB057847YMAL…</td><td>&quot;YMAL_MSTB05784…</td><td>&quot;00&quot;</td><td>2005</td><td>&quot;200510&quot;</td><td>&quot;import&quot;</td></tr></tbody></table></div>"
      ],
      "text/plain": [
       "shape: (10, 48)\n",
       "┌──────────────┬─────────────┬─────────────┬──────────┬───┬───────┬──────┬────────┬───────────┐\n",
       "│ weight       ┆ weight_unit ┆ qty         ┆ qty_type ┆ … ┆ hs_2d ┆ year ┆ month  ┆ direction │\n",
       "│ ---          ┆ ---         ┆ ---         ┆ ---      ┆   ┆ ---   ┆ ---  ┆ ---    ┆ ---       │\n",
       "│ f64          ┆ cat         ┆ f64         ┆ cat      ┆   ┆ str   ┆ i32  ┆ str    ┆ str       │\n",
       "╞══════════════╪═════════════╪═════════════╪══════════╪═══╪═══════╪══════╪════════╪═══════════╡\n",
       "│ 76862.448175 ┆ KG          ┆ 1526.0      ┆ CTN      ┆ … ┆ 61    ┆ 2005 ┆ 200512 ┆ import    │\n",
       "│ 76862.448175 ┆ KG          ┆ 1585.276648 ┆ -1       ┆ … ┆ 00    ┆ 2005 ┆ 200510 ┆ import    │\n",
       "│ 76862.448175 ┆ KG          ┆ 59.0        ┆ PKG      ┆ … ┆ 94    ┆ 2005 ┆ 200510 ┆ import    │\n",
       "│ 76862.448175 ┆ KG          ┆ 80.0        ┆ PCS      ┆ … ┆ 73    ┆ 2005 ┆ 200503 ┆ import    │\n",
       "│ …            ┆ …           ┆ …           ┆ …        ┆ … ┆ …     ┆ …    ┆ …      ┆ …         │\n",
       "│ 76862.448175 ┆ KG          ┆ 20.0        ┆ CTN      ┆ … ┆ 28    ┆ 2005 ┆ 200501 ┆ import    │\n",
       "│ 76862.448175 ┆ KG          ┆ 1.0         ┆ UNT      ┆ … ┆ 87    ┆ 2005 ┆ 200508 ┆ import    │\n",
       "│ 76862.448175 ┆ KG          ┆ 200.0       ┆ CTN      ┆ … ┆ 96    ┆ 2005 ┆ 200503 ┆ import    │\n",
       "│ 76862.448175 ┆ KG          ┆ 1585.276648 ┆ -1       ┆ … ┆ 00    ┆ 2005 ┆ 200510 ┆ import    │\n",
       "└──────────────┴─────────────┴─────────────┴──────────┴───┴───────┴──────┴────────┴───────────┘"
      ]
     },
     "execution_count": 11,
     "metadata": {},
     "output_type": "execute_result"
    }
   ],
   "source": [
    "imports_lf.limit(10).collect()"
   ]
  },
  {
   "cell_type": "code",
   "execution_count": null,
   "metadata": {},
   "outputs": [],
   "source": [
    "#fill vessel names and ids based on unique sailings\n",
    "imports_lf = fill_nulls_by_group(imports_lf, group_vars=['arrival_port_code', 'date_arrival', 'voyage_id'], val_var='vessel_id')\n",
    "imports_lf = fill_nulls_by_group(imports_lf, group_vars=['arrival_port_code', 'date_arrival', 'voyage_id'], val_var='vessel_name')\n",
    "exports_lf = fill_nulls_by_group(exports_lf, group_vars=['departure_port_code', 'date_departure', 'voyage_id'], val_var='vessel_id')\n",
    "exports_lf = fill_nulls_by_group(exports_lf, group_vars=['departure_port_code', 'date_departure', 'voyage_id'], val_var='vessel_name')\n",
    "#fill voyage ids based on similar logic\n",
    "exports_lf = fill_nulls_by_group(exports_lf, group_vars=['departure_port_code', 'date_departure', 'vessel_id'], val_var='voyage_id')\n",
    "exports_lf = fill_nulls_by_group(exports_lf, group_vars=['departure_port_code', 'date_departure', 'vessel_name'], val_var='voyage_id')\n",
    "imports_lf = fill_nulls_by_group(imports_lf, group_vars=['arrival_port_code', 'date_arrival', 'vessel_id'], val_var='voyage_id')\n",
    "imports_lf = fill_nulls_by_group(imports_lf, group_vars=['arrival_port_code', 'date_arrival', 'vessel_name'], val_var='voyage_id')\n",
    "#fill nulls when vessel name-id pairs are available \n",
    "imports_lf = fill_nulls_by_group(imports_lf, group_vars='vessel_name', val_var='vessel_id')\n",
    "exports_lf = fill_nulls_by_group(exports_lf, group_vars='vessel_name', val_var='vessel_id')\n",
    "\n",
    "#fill nulls in vessel_id based on voyage id -- NOTE this may overfill vessel_id\n"
   ]
  },
  {
   "cell_type": "code",
   "execution_count": 36,
   "metadata": {},
   "outputs": [],
   "source": [
    "sailings_df = pl.concat(\n",
    "    [exports_lf.select('year', 'carrier_scac', 'voyage_id', 'vessel_id', 'departure_port_code', 'date_departure', 'bol_id', 'direction'),\n",
    "    imports_lf.select('year', 'carrier_scac', 'voyage_id', 'vessel_id', 'arrival_port_code', 'date_arrival', 'bol_id', 'direction')],\n",
    "    how='diagonal'\n",
    "    ).collect()"
   ]
  },
  {
   "cell_type": "code",
   "execution_count": 37,
   "metadata": {},
   "outputs": [],
   "source": [
    "sailings_by_voyageid_df = (\n",
    "    sailings_df.filter(pl.col('vessel_id').is_null())\n",
    "    .group_by('carrier_scac', 'voyage_id')\n",
    "    .agg(\n",
    "        pl.col('vessel_id').drop_nulls().unique().alias('vessels'),\n",
    "        pl.col('departure_port_code').drop_nulls().unique().alias('departure_ports'),\n",
    "        pl.col('arrival_port_code').drop_nulls().unique().alias('arrival_ports'),\n",
    "        pl.col('bol_id').drop_nulls().unique().alias('bols')\n",
    "        )\n",
    "    .with_columns(\n",
    "        pl.col('vessels').list.len().alias('n_vessels'),\n",
    "        pl.col('departure_ports').list.len().alias('n_departure_ports'),\n",
    "        pl.col('arrival_ports').list.len().alias('n_arrival_ports'),\n",
    "        pl.col('bols').list.len().alias('n_bols')\n",
    "        )\n",
    ")"
   ]
  },
  {
   "cell_type": "code",
   "execution_count": 38,
   "metadata": {},
   "outputs": [
    {
     "data": {
      "text/html": [
       "<div><style>\n",
       ".dataframe > thead > tr,\n",
       ".dataframe > tbody > tr {\n",
       "  text-align: right;\n",
       "  white-space: pre-wrap;\n",
       "}\n",
       "</style>\n",
       "<small>shape: (20, 10)</small><table border=\"1\" class=\"dataframe\"><thead><tr><th>carrier_scac</th><th>voyage_id</th><th>vessels</th><th>departure_ports</th><th>arrival_ports</th><th>bols</th><th>n_vessels</th><th>n_departure_ports</th><th>n_arrival_ports</th><th>n_bols</th></tr><tr><td>cat</td><td>str</td><td>list[i32]</td><td>list[cat]</td><td>list[cat]</td><td>list[str]</td><td>u32</td><td>u32</td><td>u32</td><td>u32</td></tr></thead><tbody><tr><td>&quot;MLSL&quot;</td><td>null</td><td>[]</td><td>[&quot;1601&quot;, &quot;2704&quot;, … &quot;3127&quot;]</td><td>[]</td><td>[&quot;MLSL_912202326&quot;, &quot;MLSL_209807642&quot;, … &quot;MLSL_203809912&quot;]</td><td>0</td><td>25</td><td>0</td><td>106252</td></tr><tr><td>&quot;SEAU&quot;</td><td>null</td><td>[]</td><td>[&quot;1601&quot;, &quot;2704&quot;, … &quot;1501&quot;]</td><td>[]</td><td>[&quot;SEAU_586282302&quot;, &quot;SEAU_SLN025514&quot;, … &quot;SEAU_SLN169161&quot;]</td><td>0</td><td>21</td><td>0</td><td>98027</td></tr><tr><td>&quot;MAEU&quot;</td><td>&quot;1005&quot;</td><td>[]</td><td>[&quot;1601&quot;, &quot;2704&quot;, … &quot;1901&quot;]</td><td>[&quot;1601&quot;, &quot;2704&quot;, … &quot;1901&quot;]</td><td>[&quot;MAEU_SMMBSMHKGS025909&quot;, &quot;MAEU_MAEU551549232&quot;, … &quot;MAEU_HNLTSZA1004845AB&quot;]</td><td>0</td><td>13</td><td>12</td><td>27961</td></tr><tr><td>&quot;MAEU&quot;</td><td>&quot;1003&quot;</td><td>[]</td><td>[&quot;1601&quot;, &quot;2704&quot;, … &quot;1901&quot;]</td><td>[&quot;1601&quot;, &quot;2704&quot;, … &quot;1901&quot;]</td><td>[&quot;MAEU_MAEU555494498&quot;, &quot;MAEU_550077601&quot;, … &quot;MAEU_550423232&quot;]</td><td>0</td><td>13</td><td>11</td><td>27800</td></tr><tr><td>&quot;MATS&quot;</td><td>&quot;007E&quot;</td><td>[]</td><td>[]</td><td>[&quot;2709&quot;, &quot;0005&quot;, &quot;3201&quot;]</td><td>[&quot;MATS_SWOE000001562715&quot;, &quot;MATS_PGCVMZ6779983&quot;, … &quot;MATS_SWOE000001810171&quot;]</td><td>0</td><td>0</td><td>3</td><td>27042</td></tr><tr><td>&quot;OOLU&quot;</td><td>&quot;E012&quot;</td><td>[]</td><td>[]</td><td>[&quot;2811&quot;, &quot;2709&quot;]</td><td>[&quot;OOLU_IEGL7356442&quot;, &quot;OOLU_IEGL7464796&quot;, … &quot;OOLU_IEGL7150408&quot;]</td><td>0</td><td>0</td><td>2</td><td>26992</td></tr><tr><td>&quot;MATS&quot;</td><td>&quot;017E&quot;</td><td>[]</td><td>[]</td><td>[&quot;2811&quot;, &quot;2709&quot;]</td><td>[&quot;MATS_IBCV13321976829&quot;, &quot;MATS_IBCV400722270789&quot;, … &quot;MATS_IBCV13321980391&quot;]</td><td>0</td><td>0</td><td>2</td><td>25245</td></tr><tr><td>&quot;ZIMU&quot;</td><td>&quot;14E&quot;</td><td>[]</td><td>[&quot;2704&quot;, &quot;2811&quot;, … &quot;4909&quot;]</td><td>[&quot;1601&quot;, &quot;2704&quot;, … &quot;1501&quot;]</td><td>[&quot;ZIMU_IBRN5T7XN6HTJ917&quot;, &quot;ZIMU_IBRN91KY00A086IZ&quot;, … &quot;ZIMU_IBRN0JV937PWKTC3&quot;]</td><td>0</td><td>4</td><td>14</td><td>24688</td></tr><tr><td>&quot;ONEY&quot;</td><td>&quot;013E&quot;</td><td>[]</td><td>[&quot;1601&quot;, &quot;4601&quot;, … &quot;2002&quot;]</td><td>[&quot;1601&quot;, &quot;2704&quot;, … &quot;1703&quot;]</td><td>[&quot;ONEY_ONEYPNHV01689935&quot;, &quot;ONEY_NMCLKKDET193075&quot;, … &quot;ONEY_ONEYHKGV42865802&quot;]</td><td>0</td><td>7</td><td>9</td><td>20414</td></tr><tr><td>&quot;MATS&quot;</td><td>&quot;014E&quot;</td><td>[]</td><td>[]</td><td>[&quot;2811&quot;, &quot;2709&quot;]</td><td>[&quot;MATS_TOPOSHASFOL95713&quot;, &quot;MATS_IBCV950361009973&quot;, … &quot;MATS_IBCV950362220216&quot;]</td><td>0</td><td>0</td><td>2</td><td>19817</td></tr><tr><td>&quot;MATS&quot;</td><td>&quot;004E&quot;</td><td>[]</td><td>[]</td><td>[&quot;2704&quot;, &quot;2709&quot;]</td><td>[&quot;MATS_SWOE011074811836&quot;, &quot;MATS_SWOE011081219739&quot;, … &quot;MATS_SWOE006155631910&quot;]</td><td>0</td><td>0</td><td>2</td><td>19275</td></tr><tr><td>&quot;OOLU&quot;</td><td>&quot;0TX5R&quot;</td><td>[]</td><td>[]</td><td>[&quot;2704&quot;, &quot;2811&quot;]</td><td>[&quot;OOLU_IEGLIBRN00040703&quot;, &quot;OOLU_IEGLIBRN00036364&quot;, … &quot;OOLU_IEGLIBRN00052741&quot;]</td><td>0</td><td>0</td><td>2</td><td>18711</td></tr><tr><td>&quot;ZIMU&quot;</td><td>&quot;15E&quot;</td><td>[]</td><td>[&quot;2704&quot;, &quot;2811&quot;]</td><td>[&quot;1601&quot;, &quot;2704&quot;, … &quot;1501&quot;]</td><td>[&quot;ZIMU_IBRNQQRS9JZ4HDQD&quot;, &quot;ZIMU_IBRN246ZAJCCZ08K&quot;, … &quot;ZIMU_AMZDCN21B10E9960&quot;]</td><td>0</td><td>2</td><td>11</td><td>18412</td></tr><tr><td>&quot;ONEY&quot;</td><td>&quot;015E&quot;</td><td>[]</td><td>[&quot;1601&quot;, &quot;4601&quot;, … &quot;2002&quot;]</td><td>[&quot;1601&quot;, &quot;2704&quot;, … &quot;3002&quot;]</td><td>[&quot;ONEY_PSLAE21087114NYC&quot;, &quot;ONEY_OERT111704K00247&quot;, … &quot;ONEY_ONEYSGNBR6457501&quot;]</td><td>0</td><td>7</td><td>9</td><td>18246</td></tr><tr><td>&quot;ONEY&quot;</td><td>&quot;011E&quot;</td><td>[]</td><td>[&quot;1601&quot;, &quot;4601&quot;, … &quot;2002&quot;]</td><td>[&quot;1601&quot;, &quot;2704&quot;, … &quot;3901&quot;]</td><td>[&quot;ONEY_ONEYCANA22033500&quot;, &quot;ONEY_AMAWA2008310303&quot;, … &quot;ONEY_ONEYHKGVB0275603&quot;]</td><td>0</td><td>5</td><td>14</td><td>18238</td></tr><tr><td>&quot;ONEY&quot;</td><td>&quot;014E&quot;</td><td>[]</td><td>[&quot;1601&quot;, &quot;2704&quot;, … &quot;3001&quot;]</td><td>[&quot;1601&quot;, &quot;2704&quot;, … &quot;3002&quot;]</td><td>[&quot;ONEY_PACJ1121568&quot;, &quot;ONEY_EXDO6810794224&quot;, … &quot;ONEY_ONEYHKGA24131502&quot;]</td><td>0</td><td>10</td><td>9</td><td>18105</td></tr><tr><td>&quot;ONEY&quot;</td><td>&quot;072E&quot;</td><td>[]</td><td>[&quot;1601&quot;, &quot;4601&quot;, … &quot;3001&quot;]</td><td>[&quot;1601&quot;, &quot;2704&quot;, … &quot;1501&quot;]</td><td>[&quot;ONEY_KYSIKQOAK01493&quot;, &quot;ONEY_PPILNGB7805111&quot;, … &quot;ONEY_BOPTCSHSE0243095&quot;]</td><td>0</td><td>8</td><td>12</td><td>17791</td></tr><tr><td>&quot;ONEY&quot;</td><td>&quot;073E&quot;</td><td>[]</td><td>[&quot;1601&quot;, &quot;2704&quot;, … &quot;3001&quot;]</td><td>[&quot;1601&quot;, &quot;2704&quot;, … &quot;1501&quot;]</td><td>[&quot;ONEY_ONEYSELV93973A09&quot;, &quot;ONEY_AMIGL180363427A&quot;, … &quot;ONEY_BANQSZX1350326&quot;]</td><td>0</td><td>8</td><td>12</td><td>17678</td></tr><tr><td>&quot;MATS&quot;</td><td>&quot;011E&quot;</td><td>[]</td><td>[]</td><td>[&quot;2704&quot;, &quot;2811&quot;, &quot;2709&quot;]</td><td>[&quot;MATS_IBCV950361695282&quot;, &quot;MATS_IBCV950361695886&quot;, … &quot;MATS_IBCV950361689076&quot;]</td><td>0</td><td>0</td><td>3</td><td>17276</td></tr><tr><td>&quot;ONEY&quot;</td><td>&quot;074E&quot;</td><td>[]</td><td>[&quot;1601&quot;, &quot;2704&quot;, … &quot;3001&quot;]</td><td>[&quot;2704&quot;, &quot;4601&quot;, … &quot;0004&quot;]</td><td>[&quot;ONEY_CFMITUT18080024&quot;, &quot;ONEY_BANQSHA7517268&quot;, … &quot;ONEY_SABC101707H00923&quot;]</td><td>0</td><td>8</td><td>12</td><td>16317</td></tr></tbody></table></div>"
      ],
      "text/plain": [
       "shape: (20, 10)\n",
       "┌────────────┬───────────┬───────────┬────────────┬───┬───────────┬───────────┬───────────┬────────┐\n",
       "│ carrier_sc ┆ voyage_id ┆ vessels   ┆ departure_ ┆ … ┆ n_vessels ┆ n_departu ┆ n_arrival ┆ n_bols │\n",
       "│ ac         ┆ ---       ┆ ---       ┆ ports      ┆   ┆ ---       ┆ re_ports  ┆ _ports    ┆ ---    │\n",
       "│ ---        ┆ str       ┆ list[i32] ┆ ---        ┆   ┆ u32       ┆ ---       ┆ ---       ┆ u32    │\n",
       "│ cat        ┆           ┆           ┆ list[cat]  ┆   ┆           ┆ u32       ┆ u32       ┆        │\n",
       "╞════════════╪═══════════╪═══════════╪════════════╪═══╪═══════════╪═══════════╪═══════════╪════════╡\n",
       "│ MLSL       ┆ null      ┆ []        ┆ [\"1601\",   ┆ … ┆ 0         ┆ 25        ┆ 0         ┆ 106252 │\n",
       "│            ┆           ┆           ┆ \"2704\", …  ┆   ┆           ┆           ┆           ┆        │\n",
       "│            ┆           ┆           ┆ \"3127\"]    ┆   ┆           ┆           ┆           ┆        │\n",
       "│ SEAU       ┆ null      ┆ []        ┆ [\"1601\",   ┆ … ┆ 0         ┆ 21        ┆ 0         ┆ 98027  │\n",
       "│            ┆           ┆           ┆ \"2704\", …  ┆   ┆           ┆           ┆           ┆        │\n",
       "│            ┆           ┆           ┆ \"1501\"]    ┆   ┆           ┆           ┆           ┆        │\n",
       "│ MAEU       ┆ 1005      ┆ []        ┆ [\"1601\",   ┆ … ┆ 0         ┆ 13        ┆ 12        ┆ 27961  │\n",
       "│            ┆           ┆           ┆ \"2704\", …  ┆   ┆           ┆           ┆           ┆        │\n",
       "│            ┆           ┆           ┆ \"1901\"]    ┆   ┆           ┆           ┆           ┆        │\n",
       "│ MAEU       ┆ 1003      ┆ []        ┆ [\"1601\",   ┆ … ┆ 0         ┆ 13        ┆ 11        ┆ 27800  │\n",
       "│            ┆           ┆           ┆ \"2704\", …  ┆   ┆           ┆           ┆           ┆        │\n",
       "│            ┆           ┆           ┆ \"1901\"]    ┆   ┆           ┆           ┆           ┆        │\n",
       "│ …          ┆ …         ┆ …         ┆ …          ┆ … ┆ …         ┆ …         ┆ …         ┆ …      │\n",
       "│ ONEY       ┆ 072E      ┆ []        ┆ [\"1601\",   ┆ … ┆ 0         ┆ 8         ┆ 12        ┆ 17791  │\n",
       "│            ┆           ┆           ┆ \"4601\", …  ┆   ┆           ┆           ┆           ┆        │\n",
       "│            ┆           ┆           ┆ \"3001\"]    ┆   ┆           ┆           ┆           ┆        │\n",
       "│ ONEY       ┆ 073E      ┆ []        ┆ [\"1601\",   ┆ … ┆ 0         ┆ 8         ┆ 12        ┆ 17678  │\n",
       "│            ┆           ┆           ┆ \"2704\", …  ┆   ┆           ┆           ┆           ┆        │\n",
       "│            ┆           ┆           ┆ \"3001\"]    ┆   ┆           ┆           ┆           ┆        │\n",
       "│ MATS       ┆ 011E      ┆ []        ┆ []         ┆ … ┆ 0         ┆ 0         ┆ 3         ┆ 17276  │\n",
       "│ ONEY       ┆ 074E      ┆ []        ┆ [\"1601\",   ┆ … ┆ 0         ┆ 8         ┆ 12        ┆ 16317  │\n",
       "│            ┆           ┆           ┆ \"2704\", …  ┆   ┆           ┆           ┆           ┆        │\n",
       "│            ┆           ┆           ┆ \"3001\"]    ┆   ┆           ┆           ┆           ┆        │\n",
       "└────────────┴───────────┴───────────┴────────────┴───┴───────────┴───────────┴───────────┴────────┘"
      ]
     },
     "execution_count": 38,
     "metadata": {},
     "output_type": "execute_result"
    }
   ],
   "source": [
    "sailings_by_voyageid_df.sort('n_bols', descending=True).head(20)"
   ]
  },
  {
   "cell_type": "code",
   "execution_count": null,
   "metadata": {},
   "outputs": [],
   "source": [
    "px.histogram(\n",
    "    data_frame=sailings_by_voyageid_df.filter(pl.col('n_vessels')<20),\n",
    "    x='n_vessels',\n",
    "    title='Number of unique vessels per voyage_id'\n",
    "    )"
   ]
  },
  {
   "cell_type": "code",
   "execution_count": null,
   "metadata": {},
   "outputs": [],
   "source": [
    "sailings_by_voyageid_df.filter(pl.col('n_vessels')>1).describe()"
   ]
  },
  {
   "cell_type": "code",
   "execution_count": null,
   "metadata": {},
   "outputs": [],
   "source": [
    "nulls_over_time_plotly(\n",
    "    data_lf=imports_lf,\n",
    "    group_var='direction',\n",
    "    time_var='month',\n",
    "    value_var='vessel_id',\n",
    "    title='Proportion of Missing Vessel IDs over time (filled data).'\n",
    ")"
   ]
  },
  {
   "cell_type": "code",
   "execution_count": null,
   "metadata": {},
   "outputs": [],
   "source": [
    "nulls_over_time_plotly(\n",
    "    data_lf=exports_lf,\n",
    "    group_var='direction',\n",
    "    time_var='month',\n",
    "    value_var='vessel_id',\n",
    "    title='Proportion of Missing Vessel IDs over time (filled data).'\n",
    ")"
   ]
  },
  {
   "cell_type": "code",
   "execution_count": null,
   "metadata": {},
   "outputs": [],
   "source": [
    "nulls_over_time_plotly(\n",
    "    data_lf=exports_lf,\n",
    "    group_var='direction',\n",
    "    time_var='month',\n",
    "    value_var='voyage_id',\n",
    "    title='Proportion of Missing Vessel IDs over time (filled data).'\n",
    ")"
   ]
  },
  {
   "cell_type": "code",
   "execution_count": null,
   "metadata": {},
   "outputs": [],
   "source": [
    "nulls_over_time_plotly(\n",
    "    data_lf=imports_lf,\n",
    "    group_var='direction',\n",
    "    time_var='month',\n",
    "    value_var='voyage_id',\n",
    "    title='Proportion of Missing Voyage IDs over time (filled data).'\n",
    ")"
   ]
  },
  {
   "cell_type": "code",
   "execution_count": null,
   "metadata": {},
   "outputs": [],
   "source": [
    "imports_lf.filter(pl.col('vessel_id').is_null()).select('voyage_id').collect().to_series().value_counts().sort('count')"
   ]
  },
  {
   "cell_type": "code",
   "execution_count": null,
   "metadata": {},
   "outputs": [],
   "source": [
    "exports_lf.select('voyage_id').sort('voyage_id').collect().to_series().value_counts()"
   ]
  },
  {
   "cell_type": "markdown",
   "metadata": {},
   "source": [
    "How much volume is traded with missing vessel info?\n",
    "\n",
    "want: proportion of total volume (TEUs) imported with missing vessel_id "
   ]
  },
  {
   "cell_type": "code",
   "execution_count": null,
   "metadata": {},
   "outputs": [],
   "source": [
    "lf = (\n",
    "    imports_lf.select('month', 'vessel_id', 'teus')\n",
    "    .with_columns(pl.col('vessel_id').is_not_null())\n",
    "    .group_by('month', 'vessel_id')\n",
    "    .agg(pl.col('teus').sum())\n",
    ")"
   ]
  },
  {
   "cell_type": "code",
   "execution_count": null,
   "metadata": {},
   "outputs": [],
   "source": [
    "df = (\n",
    "    lf.collect()\n",
    "    .pivot(values='teus', index='month', columns='vessel_id', aggregate_function='sum')\n",
    "    .with_columns((pl.col('false')/(pl.col('true')+pl.col('false'))).alias('prop_missing'))\n",
    "    .sort('month')\n",
    ")"
   ]
  },
  {
   "cell_type": "code",
   "execution_count": null,
   "metadata": {},
   "outputs": [],
   "source": [
    "px.line(data_frame=df, x='month', y='prop_missing', title='Proportion of Total TEUs traded under bols with missing vessel_id')"
   ]
  },
  {
   "cell_type": "markdown",
   "metadata": {},
   "source": [
    "## Route IDs\n",
    "\n",
    "Create route ID column from arrival and departure port codes. "
   ]
  },
  {
   "cell_type": "code",
   "execution_count": null,
   "metadata": {},
   "outputs": [],
   "source": [
    "#create route_id column\n",
    "imports_lf = (\n",
    "    imports_lf.with_columns(\n",
    "        (pl.col('departure_port_code').cast(pl.Utf8)+'_'+pl.col('arrival_port_code').cast(pl.Utf8))\n",
    "        .cast(pl.Categorical)\n",
    "        .alias('route_id')\n",
    "        ))\n",
    "exports_lf = (\n",
    "    exports_lf.with_columns(\n",
    "        (pl.col('departure_port_code').cast(pl.Utf8)+'_'+pl.col('arrival_port_code').cast(pl.Utf8))\n",
    "        .cast(pl.Categorical)\n",
    "        .alias('route_id')\n",
    "        ))"
   ]
  },
  {
   "cell_type": "markdown",
   "metadata": {},
   "source": [
    "## Days in port\n",
    "\n",
    "For each arrival, we want to know how many days the ship stays in port before departing. \n"
   ]
  },
  {
   "cell_type": "code",
   "execution_count": null,
   "metadata": {},
   "outputs": [],
   "source": [
    "ex_lf = (\n",
    "    exports_lf.select('voyage_id', 'vessel_id', 'date_departure', 'departure_port_code', 'route_id')\n",
    "    .rename({'voyage_id':'export_voyage_id'})\n",
    "    .with_columns((pl.col('date_departure').cast(pl.Utf8)+'_'+pl.col('vessel_id').cast(pl.Utf8)+'_'+pl.col('departure_port_code').cast(pl.Utf8)).alias('departure_id'))\n",
    "    )\n",
    "im_lf = (\n",
    "    imports_lf.select('voyage_id', 'vessel_id', 'date_arrival', 'arrival_port_code', 'route_id')\n",
    "    .rename({'voyage_id':'import_voyage_id'})\n",
    "    .with_columns((pl.col('date_arrival').cast(pl.Utf8)+'_'+pl.col('vessel_id').cast(pl.Utf8)+'_'+pl.col('arrival_port_code').cast(pl.Utf8)).alias('arrival_id'))\n",
    "    )\n",
    "\n",
    "lf = ex_lf.join(im_lf, on='voyage_id')"
   ]
  },
  {
   "cell_type": "markdown",
   "metadata": {},
   "source": [
    "## Export Clean data to parquet\n"
   ]
  },
  {
   "cell_type": "code",
   "execution_count": null,
   "metadata": {},
   "outputs": [],
   "source": [
    "#piers_lf.sink_parquet('data/piers_clean.parquet') -- NOTE the above queries are apparently not supported for sinking at this time. "
   ]
  }
 ],
 "metadata": {
  "kernelspec": {
   "display_name": "wsu",
   "language": "python",
   "name": "python3"
  },
  "language_info": {
   "codemirror_mode": {
    "name": "ipython",
    "version": 3
   },
   "file_extension": ".py",
   "mimetype": "text/x-python",
   "name": "python",
   "nbconvert_exporter": "python",
   "pygments_lexer": "ipython3",
   "version": "3.12.0"
  }
 },
 "nbformat": 4,
 "nbformat_minor": 2
}
