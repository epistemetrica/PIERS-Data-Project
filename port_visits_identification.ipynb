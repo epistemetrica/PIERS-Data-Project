{
 "cells": [
  {
   "cell_type": "markdown",
   "metadata": {},
   "source": [
    "# Identifying Port Calls in the PIERS BoL Data\n",
    "\n",
    "### Problem Statement:\n",
    "\n",
    "The PIERS data do not have clean arrival or departure dates; instead, cargo imported from a given shipping vessel at a given port is spread over multiple dates, often spanning several days up to several weeks, even though the vessels spend only a matter of hours at any given port call. The reason for this spread is not precisely known at this time, but given the underlying data come from US Customs, we expect it may be related to the time required to process the individual bills. \n",
    "\n",
    "Therefore we need to identify clusters of dates that indicate a unique port call for each vessel, with the goal of assigning the earliest date in the cluster as the actual arrival/departure date for imports/exports. \n",
    "\n",
    "Potential uses of this information include analyzing frequency of service at each port, identification of individual voyages, and many others. "
   ]
  },
  {
   "cell_type": "code",
   "execution_count": 13,
   "metadata": {},
   "outputs": [],
   "source": [
    "#prelims\n",
    "import pandas as pd #v2.1.3\n",
    "import polars as pl #v0.20.7\n",
    "import plotly_express as px #v0.4.1 \n",
    "import missingno as msno #v0.5.2\n",
    "import datetime as dt\n",
    "from sklearn.cluster import HDBSCAN\n",
    "\n",
    "#display settings\n",
    "pd.set_option('display.max_columns', None)\n",
    "\n",
    "#enable string cache for polars categoricals\n",
    "pl.enable_string_cache()"
   ]
  },
  {
   "cell_type": "code",
   "execution_count": 14,
   "metadata": {},
   "outputs": [],
   "source": [
    "# basic import from data_cleaning notebook\n",
    "\n",
    "#set paths\n",
    "imports_path = 'data/raw_parquet/imports/'\n",
    "exports_path = 'data/raw_parquet/exports/'\n",
    "#init lazy dataframes\n",
    "imports_lf = (\n",
    "    pl.scan_parquet(imports_path+'*.parquet', parallel='columns')\n",
    "    .with_columns([\n",
    "        #create 2-digit hs code\n",
    "        pl.col('hs_code').str.slice(0, length=2).alias('hs_2d'),\n",
    "        #create year and month columns\n",
    "        pl.col('date').dt.year().alias('year'),\n",
    "        pl.col('date').dt.strftime('%Y%m').alias('month'),\n",
    "        #convert zero volume values to null\n",
    "        pl.col('teus').replace(0,None),\n",
    "        pl.col('weight').replace(0,None),\n",
    "        pl.col('qty').replace(0,None),\n",
    "        #create direction column\n",
    "        pl.lit('import').cast(pl.Categorical).alias('direction'), \n",
    "        #create lane_id\n",
    "        (pl.col('departure_port_code').cast(pl.Utf8)+'_'+pl.col('arrival_port_code').cast(pl.Utf8))\n",
    "        .cast(pl.Categorical)\n",
    "        .alias('lane_id')\n",
    "        ])\n",
    "    #get lane name \n",
    "    .with_columns(\n",
    "            pl.col('departure_port_name').drop_nulls().mode().first().over('lane_id').alias('best_departure_port_name'),\n",
    "            pl.col('arrival_port_name').drop_nulls().mode().first().over('lane_id').alias('best_arrival_port_name')\n",
    "        )\n",
    "        .with_columns(\n",
    "            (pl.col('best_departure_port_name').cast(pl.Utf8)+' — '+pl.col('best_arrival_port_name').cast(pl.Utf8))\n",
    "            .str.to_titlecase()\n",
    "            .cast(pl.Categorical)\n",
    "            .alias('lane_name')\n",
    "        )\n",
    "        .drop('best_departure_port_name', 'best_arrival_port_name')\n",
    "    #get most commonly used carrier name for each scac and vise-versa to normalize changes in names and codes \n",
    "    .with_columns(\n",
    "        pl.col('carrier_name').drop_nulls().mode().first().over('carrier_scac')\n",
    "        .alias('unified_carrier_name')\n",
    "    )\n",
    "    .with_columns(\n",
    "        pl.col('carrier_scac').drop_nulls().mode().first().over('unified_carrier_name')\n",
    "        .alias('unified_carrier_scac')\n",
    "    )\n",
    "    .with_columns(\n",
    "        #create voyage_id from year, vessel IMO, voyage number, and origin country\n",
    "        (pl.col('year').cast(pl.Utf8)+'_'+\n",
    "         pl.col('vessel_id').cast(pl.Utf8)+'_'+\n",
    "         pl.col('voyage_number').cast(pl.Utf8)+'_'+\n",
    "         pl.col('origin_territory').cast(pl.Utf8))\n",
    "        .cast(pl.Categorical).alias('voyage_id')\n",
    "    )\n",
    ")\n",
    "exports_lf = (\n",
    "    pl.scan_parquet(exports_path+'piers_exports_complete.parquet', parallel='columns')\n",
    "    .with_columns([\n",
    "        #create 2-digit hs code\n",
    "        pl.col('hs_code').str.slice(0, length=2).alias('hs_2d'),\n",
    "        #create year and month columns\n",
    "        pl.col('date_departure').dt.year().alias('year'),\n",
    "        pl.col('date_departure').dt.strftime('%Y%m').alias('month'),\n",
    "        #convert zero volume values to null\n",
    "        pl.col('teus').replace(0,None),\n",
    "        pl.col('weight').replace(0,None),\n",
    "        pl.col('qty').replace(0,None),\n",
    "        #create direction column\n",
    "        pl.lit('export').cast(pl.Categorical).alias('direction'),\n",
    "        #create lane_id\n",
    "        (pl.col('departure_port_code').cast(pl.Utf8)+'_'+pl.col('arrival_port_code').cast(pl.Utf8))\n",
    "        .cast(pl.Categorical)\n",
    "        .alias('lane_id')\n",
    "        ])\n",
    "    #get lane name \n",
    "    .with_columns(\n",
    "            pl.col('departure_port_name').drop_nulls().mode().first().over('lane_id').alias('best_departure_port_name'),\n",
    "            pl.col('arrival_port_name').drop_nulls().mode().first().over('lane_id').alias('best_arrival_port_name')\n",
    "        )\n",
    "        .with_columns(\n",
    "            (pl.col('best_departure_port_name').cast(pl.Utf8)+' — '+pl.col('best_arrival_port_name').cast(pl.Utf8))\n",
    "            .str.to_titlecase()\n",
    "            .cast(pl.Categorical)\n",
    "            .alias('lane_name')\n",
    "        )\n",
    "        .drop('best_departure_port_name', 'best_arrival_port_name')\n",
    "    #get most commonly used carrier name and scac \n",
    "    .with_columns(\n",
    "        pl.col('carrier_name').drop_nulls().mode().first().over('carrier_scac')\n",
    "        .alias('unified_carrier_name')\n",
    "    )\n",
    "    .with_columns(\n",
    "        pl.col('carrier_scac').drop_nulls().mode().first().over('unified_carrier_name')\n",
    "        .alias('unified_carrier_scac')\n",
    "    )\n",
    "    .with_columns(\n",
    "        #create voyage_id from year, vessel IMO, voyage number, and origin country\n",
    "        (pl.col('year').cast(pl.Utf8)+'_'+\n",
    "         pl.col('vessel_id').cast(pl.Utf8)+'_'+\n",
    "         pl.col('voyage_number').cast(pl.Utf8)+'_'+\n",
    "         pl.col('dest_territory').cast(pl.Utf8))\n",
    "        .cast(pl.Categorical).alias('voyage_id')\n",
    "    )\n",
    ")"
   ]
  },
  {
   "cell_type": "code",
   "execution_count": 15,
   "metadata": {},
   "outputs": [],
   "source": [
    "# function defs from data_cleaning\n",
    "\n",
    "#fill nulls in volume cols with mean\n",
    "def fill_volume(lf):\n",
    "    '''ad hod function to fill volume columns with their means'''\n",
    "    return (\n",
    "        lf\n",
    "        .with_columns([\n",
    "            pl.col('teus').replace(0,None).fill_null(strategy='mean'),\n",
    "            pl.col('weight').replace(0,None).fill_null(strategy='mean'),\n",
    "            pl.col('qty').replace(0,None).fill_null(strategy='mean')\n",
    "            ])\n",
    "        )\n",
    "\n",
    "#plotly graph inspecting nulls over time by group\n",
    "def nulls_over_time_plotly(data_lf, group_var, time_var, value_var, title=False):\n",
    "    '''\n",
    "    Plots proportion of null values over time by group.\n",
    "    INPUTS:\n",
    "        data_lf - polars lazyframe containing the relevant data\n",
    "        group_var - str - the name of the column by which to group\n",
    "        time_var - str - the name of the time column (e.g., year, month) over which values will be counted\n",
    "        value_var - str - the name of the column containing the variable in question\n",
    "        title (default=False) - str - the title of the graph\n",
    "    OUTPUT:\n",
    "        a plotly express figure\n",
    "    DEPENDS ON:\n",
    "        polars\n",
    "        plotly express \n",
    "    '''\n",
    "    df = (\n",
    "        #select relevant columns\n",
    "        data_lf.select([group_var, time_var, value_var])\n",
    "        #group by, creating null count and non-null count cols\n",
    "        .group_by(group_var, time_var)\n",
    "        .agg([pl.col(value_var).null_count().alias('null_count'),\n",
    "                pl.col(value_var).count().alias('count')])\n",
    "        #compute percent null and fill new column\n",
    "        .with_columns((pl.col('null_count')/(pl.col('count')+pl.col('null_count'))).alias('null_percent'))\n",
    "        #cast group col to string to allow sensible ordering of legend\n",
    "        .cast({group_var:pl.Utf8})\n",
    "        #sort by date (to allow proper visualization of lines) and group (for legend ordering) \n",
    "        .sort(time_var, group_var)\n",
    "    ).collect()\n",
    "    #plot\n",
    "    fig = px.line(\n",
    "        data_frame=df,\n",
    "        x=time_var, y='null_percent',\n",
    "        color=group_var,\n",
    "        title= 'Count of nulls over time by source frame.' if not title else title\n",
    "    )\n",
    "    fig.show()\n",
    "    del df\n",
    "\n",
    "#plotly graph inspecting nulls by group\n",
    "def nulls_by_group_plotly(data_lf, group_var, value_var, title=False):\n",
    "    '''Plots proportion of null values in the given groups'''\n",
    "    df = (\n",
    "        data_lf.select([group_var, value_var])\n",
    "        .group_by(group_var)\n",
    "        .agg([pl.col(value_var).null_count().alias('null_count'),\n",
    "                pl.col(value_var).count().alias('count')])\n",
    "        .with_columns((pl.col('null_count')/(pl.col('count')+pl.col('null_count'))).alias('null_percent'))\n",
    "        .cast({group_var:pl.Utf8})\n",
    "        .sort('null_percent', descending=True)\n",
    "    ).collect()\n",
    "    #plot\n",
    "    fig = px.bar(\n",
    "        data_frame=df,\n",
    "        x=group_var, y='null_percent',\n",
    "        title= 'Null percent by group.' if not title else title\n",
    "    )\n",
    "    fig.show()\n",
    "\n",
    "#fill nulls over groups given a single unique value per group\n",
    "def fill_nulls_by_group(data_lf, group_vars, val_var):\n",
    "    '''Fills null values by group if and only if the val_var for that group contains exactly one non-null unique value.\n",
    "    INPUTS:\n",
    "        data_lf - polars lazyframe containing the relevant data\n",
    "        group_vars - iterable - the names of the columns by which groups will be created\n",
    "        val_var - string - the name of the column in which nulls will be filled\n",
    "    OUTPUT:\n",
    "        filled_lf - the resultant lazyframe \n",
    "    DEPENDS ON:\n",
    "        polars - current version written in polars 0.20.1\n",
    "    '''\n",
    "    filled_lf = (\n",
    "        data_lf.with_columns(\n",
    "            #if the group contains exactly one unique value: \n",
    "            pl.when(pl.col(val_var).drop_nulls().unique(maintain_order=True).len().over(group_vars)==1)\n",
    "            #then fill the group with that value\n",
    "            .then(pl.col(val_var).fill_null(pl.col(val_var).drop_nulls().unique(maintain_order=True).first().over(group_vars)))\n",
    "            #otherwise do nothing\n",
    "            .otherwise(pl.col(val_var))\n",
    "            )\n",
    "        )\n",
    "    return filled_lf\n",
    "\n",
    "def is_one2one(lf, col1, col2):\n",
    "    '''checks if the two pl.LazyFrame columns constitute a 1-1 pairing'''\n",
    "    forward = lf.group_by(col1).agg(pl.col(col2).drop_nulls().n_unique()).select(col2).max().collect().item() == 1\n",
    "    back = lf.group_by(col2).agg(pl.col(col1).drop_nulls().n_unique()).select(col1).max().collect().item() == 1\n",
    "    return (forward and back)\n",
    "\n",
    "def count_unique_by_group(lf, group_vars, val_var):\n",
    "    '''returns a dataframe of unique observations for the value variable over each group'''\n",
    "    df = (\n",
    "        lf.group_by(group_vars)\n",
    "        .agg(\n",
    "            pl.col(val_var).unique().alias('unique_values'),\n",
    "            pl.col(val_var).n_unique().alias('n_unique')\n",
    "        )\n",
    "        .drop_nulls()\n",
    "        .sort('n_unique', descending=True)\n",
    "        .collect()\n",
    "    )\n",
    "    return df\n",
    "\n",
    "def add_primary_carrier(lf):\n",
    "    '''alternative ad hoc function to find primary carrier for each vessel and indicate cargo sharing'''\n",
    "    lf = (\n",
    "        lf.with_columns(\n",
    "            pl.col('teus').sum()\n",
    "            .over('vessel_id', 'month', 'unified_carrier_scac')\n",
    "            .alias('sum_teus')\n",
    "            )\n",
    "        .with_columns(\n",
    "            pl.col('unified_carrier_scac')\n",
    "            .sort_by('sum_teus', descending=True)\n",
    "            .drop_nulls().first()\n",
    "            .over('vessel_id', 'month')\n",
    "            .alias('vessel_owner')\n",
    "            )\n",
    "        #add bool col if bol is from primary carrier\n",
    "        .with_columns(\n",
    "            (pl.col('unified_carrier_scac')==pl.col('vessel_owner'))\n",
    "            .alias('primary_cargo')\n",
    "            )\n",
    "    )\n",
    "    return lf\n",
    "\n",
    "def sharing_over_time_plotly(data_lf, group_var, include_missing_voyages=True, limit=10, title=False):\n",
    "    '''\n",
    "    Plots proportion of shared cargo over time (months) by group_var.\n",
    "    INPUTS:\n",
    "        data_lf - polars lazyframe containing the relevant data\n",
    "        group_var - str - the name of the column by which to group\n",
    "        include_missing_voyages - bool - default=True, when False, drops missing voyages\n",
    "        title (default=False) - str - the title of the graph\n",
    "    OUTPUT:\n",
    "        a plotly express figure\n",
    "    DEPENDS ON:\n",
    "        polars\n",
    "        plotly express \n",
    "    '''\n",
    "    if not include_missing_voyages:\n",
    "        df = data_lf.drop_nulls('voyage_id')\n",
    "    else:\n",
    "        df = data_lf\n",
    "    \n",
    "    df = (\n",
    "        #select relevant columns\n",
    "        df.select([group_var, 'month', 'primary_cargo', 'teus'])\n",
    "        #sum teus over each group-month-shared \n",
    "        .group_by(group_var, 'month')\n",
    "        .agg(\n",
    "            (pl.col('teus')*pl.col('primary_cargo')).sum().alias('total_primary'),\n",
    "            pl.col('teus').sum().alias('total_teus')\n",
    "        )\n",
    "        #create proportion shared\n",
    "        .with_columns((1-(pl.col('total_primary')/pl.col('total_teus'))).alias('prop_shared'))\n",
    "        #cast group col to string to allow sensible ordering of legend\n",
    "        .cast({group_var:pl.Utf8})\n",
    "        #sort by date (to allow proper visualization of lines) and group (for legend ordering) \n",
    "        .sort('month')\n",
    "    ).collect()\n",
    "\n",
    "    #limit categories\n",
    "    top_groups = (\n",
    "        data_lf.group_by(group_var)\n",
    "        .agg(pl.col('teus').sum())\n",
    "        .sort('teus', descending=True)\n",
    "        .select(group_var)\n",
    "        .limit(limit)\n",
    "        .collect()\n",
    "        .to_series()\n",
    "        .cast(pl.Utf8)\n",
    "    )\n",
    "    \n",
    "    #plot\n",
    "    fig = px.line(\n",
    "        data_frame=df.filter(pl.col(group_var).is_in(top_groups)).with_columns(pl.col('month').str.to_datetime('%Y%m')),\n",
    "        x='month', y='prop_shared',\n",
    "        color=group_var,\n",
    "        title= 'Proportion of shared cargo over time.' if not title else title,\n",
    "        labels={\n",
    "            'prop_shared':'Proportion of cargo from non-primary carrier',\n",
    "            'month':'Month'\n",
    "        }\n",
    "    )\n",
    "    fig.show()\n"
   ]
  },
  {
   "cell_type": "code",
   "execution_count": 16,
   "metadata": {},
   "outputs": [],
   "source": [
    "# fill volumes and add primary carrier \n",
    "imports_lf = fill_volume(imports_lf)\n",
    "exports_lf = fill_volume(exports_lf)   \n",
    "#add primary carrier and shared cargo columns to lfs\n",
    "imports_lf = add_primary_carrier(imports_lf)\n",
    "exports_lf = add_primary_carrier(exports_lf)\n"
   ]
  },
  {
   "cell_type": "code",
   "execution_count": 17,
   "metadata": {},
   "outputs": [
    {
     "data": {
      "text/html": [
       "<div><style>\n",
       ".dataframe > thead > tr,\n",
       ".dataframe > tbody > tr {\n",
       "  text-align: right;\n",
       "  white-space: pre-wrap;\n",
       "}\n",
       "</style>\n",
       "<small>shape: (9, 6)</small><table border=\"1\" class=\"dataframe\"><thead><tr><th>statistic</th><th>date</th><th>vessel_id</th><th>arrival_port_code</th><th>sum_teus</th><th>vessel_port_pair</th></tr><tr><td>str</td><td>str</td><td>f64</td><td>str</td><td>f64</td><td>str</td></tr></thead><tbody><tr><td>&quot;count&quot;</td><td>&quot;1170725&quot;</td><td>1.170725e6</td><td>&quot;1170725&quot;</td><td>1.170725e6</td><td>&quot;1170725&quot;</td></tr><tr><td>&quot;null_count&quot;</td><td>&quot;0&quot;</td><td>0.0</td><td>&quot;0&quot;</td><td>0.0</td><td>&quot;0&quot;</td></tr><tr><td>&quot;mean&quot;</td><td>&quot;2014-10-29 01:…</td><td>9.1821e6</td><td>null</td><td>313.571474</td><td>null</td></tr><tr><td>&quot;std&quot;</td><td>null</td><td>559181.745432</td><td>null</td><td>1062.148423</td><td>null</td></tr><tr><td>&quot;min&quot;</td><td>&quot;2005-01-01 00:…</td><td>0.0</td><td>null</td><td>0.02</td><td>null</td></tr><tr><td>&quot;25%&quot;</td><td>&quot;2008-12-27 00:…</td><td>9.146089e6</td><td>null</td><td>2.196793</td><td>null</td></tr><tr><td>&quot;50%&quot;</td><td>&quot;2015-07-06 00:…</td><td>9.292503e6</td><td>null</td><td>8.787171</td><td>null</td></tr><tr><td>&quot;75%&quot;</td><td>&quot;2020-06-12 00:…</td><td>9.416965e6</td><td>null</td><td>147.185107</td><td>null</td></tr><tr><td>&quot;max&quot;</td><td>&quot;2023-11-30 00:…</td><td>9.975363e6</td><td>null</td><td>154934.254373</td><td>null</td></tr></tbody></table></div>"
      ],
      "text/plain": [
       "shape: (9, 6)\n",
       "┌────────────┬─────────────────┬───────────────┬─────────────────┬───────────────┬─────────────────┐\n",
       "│ statistic  ┆ date            ┆ vessel_id     ┆ arrival_port_co ┆ sum_teus      ┆ vessel_port_pai │\n",
       "│ ---        ┆ ---             ┆ ---           ┆ de              ┆ ---           ┆ r               │\n",
       "│ str        ┆ str             ┆ f64           ┆ ---             ┆ f64           ┆ ---             │\n",
       "│            ┆                 ┆               ┆ str             ┆               ┆ str             │\n",
       "╞════════════╪═════════════════╪═══════════════╪═════════════════╪═══════════════╪═════════════════╡\n",
       "│ count      ┆ 1170725         ┆ 1.170725e6    ┆ 1170725         ┆ 1.170725e6    ┆ 1170725         │\n",
       "│ null_count ┆ 0               ┆ 0.0           ┆ 0               ┆ 0.0           ┆ 0               │\n",
       "│ mean       ┆ 2014-10-29      ┆ 9.1821e6      ┆ null            ┆ 313.571474    ┆ null            │\n",
       "│            ┆ 01:06:04.042141 ┆               ┆                 ┆               ┆                 │\n",
       "│ std        ┆ null            ┆ 559181.745432 ┆ null            ┆ 1062.148423   ┆ null            │\n",
       "│ min        ┆ 2005-01-01      ┆ 0.0           ┆ null            ┆ 0.02          ┆ null            │\n",
       "│            ┆ 00:00:00        ┆               ┆                 ┆               ┆                 │\n",
       "│ 25%        ┆ 2008-12-27      ┆ 9.146089e6    ┆ null            ┆ 2.196793      ┆ null            │\n",
       "│            ┆ 00:00:00        ┆               ┆                 ┆               ┆                 │\n",
       "│ 50%        ┆ 2015-07-06      ┆ 9.292503e6    ┆ null            ┆ 8.787171      ┆ null            │\n",
       "│            ┆ 00:00:00        ┆               ┆                 ┆               ┆                 │\n",
       "│ 75%        ┆ 2020-06-12      ┆ 9.416965e6    ┆ null            ┆ 147.185107    ┆ null            │\n",
       "│            ┆ 00:00:00        ┆               ┆                 ┆               ┆                 │\n",
       "│ max        ┆ 2023-11-30      ┆ 9.975363e6    ┆ null            ┆ 154934.254373 ┆ null            │\n",
       "│            ┆ 00:00:00        ┆               ┆                 ┆               ┆                 │\n",
       "└────────────┴─────────────────┴───────────────┴─────────────────┴───────────────┴─────────────────┘"
      ]
     },
     "execution_count": 17,
     "metadata": {},
     "output_type": "execute_result"
    }
   ],
   "source": [
    "df = (\n",
    "    imports_lf\n",
    "    .group_by('date', 'vessel_id', 'arrival_port_code')\n",
    "    .agg(pl.col('teus').sum().alias('sum_teus'))\n",
    "    .with_columns(\n",
    "        (pl.col('vessel_id').cast(pl.Utf8)+'_'+pl.col('arrival_port_code').cast(pl.Utf8)).cast(pl.Categorical).alias('vessel_port_pair')\n",
    "    )\n",
    "    .drop_nulls(subset='vessel_port_pair')\n",
    "    .sort('date')\n",
    "    .collect()\n",
    ")\n",
    "df.describe()"
   ]
  },
  {
   "cell_type": "code",
   "execution_count": 18,
   "metadata": {},
   "outputs": [],
   "source": [
    "\n",
    "samples = 100\n",
    "\n",
    "pairs = df.select('vessel_port_pair').sample(samples).to_series()\n",
    "\n",
    "pairs_df = pl.DataFrame({})\n",
    "\n",
    "for i in range(samples):\n",
    "    pair = pairs[i]\n",
    "    #make single-column dataframe of dates where each date corresponds to a single TEU that arrived on that day \n",
    "    pair_1d = (\n",
    "        df.filter(pl.col('vessel_port_pair')==pair)\n",
    "        .select('date', pl.col('sum_teus').round())\n",
    "        #explode dates by each teu \n",
    "        .select(pl.exclude('sum_teus').repeat_by('sum_teus').explode())\n",
    "    )\n",
    "\n",
    "    #find minimum number of occurances of a single date (needed for HDBSCAN param)\n",
    "    min_sample = pair_1d.group_by('date').agg(pl.col('date').count().alias('count')).min().row(0)[1]\n",
    "\n",
    "    #skip empty pairs\n",
    "    if min_sample == 0:\n",
    "        continue\n",
    "\n",
    "    #instantiate clusterer\n",
    "    clusterer = HDBSCAN(min_cluster_size=20, min_samples=min_sample) #we need to find a dynamic way of seleting these parameters\n",
    "    #get clusters\n",
    "    clusterer.fit(pair_1d)\n",
    "    #add back to pair_1d\n",
    "    pair_df = (\n",
    "        pair_1d\n",
    "        #add cluster column\n",
    "        .with_columns(\n",
    "            pl.Series(name='cluster', values=clusterer.labels_)\n",
    "        )\n",
    "        #add date_arrival column\n",
    "        .with_columns(\n",
    "                #when date matches the mode of each cluster\n",
    "                pl.when(pl.col('date') == pl.col('date').mode().first().over('cluster'))\n",
    "                #fill with that date, otherwise fill with null\n",
    "                .then(pl.col('date'))\n",
    "                .otherwise(pl.lit(None))\n",
    "                #forward fill the arrival date to the mode of next cluster\n",
    "                .forward_fill()\n",
    "                #backward fill the first part of first cluster\n",
    "                .backward_fill()\n",
    "                #name column\n",
    "                .alias('date_arrival')\n",
    "            )\n",
    "        #groupby date to simplify\n",
    "        .group_by('date')\n",
    "        .agg(pl.col('date_arrival').first())\n",
    "        #add pair label\n",
    "        .with_columns(pl.lit(pair).alias('vessel_port_pair').cast(pl.Categorical))\n",
    "    )\n",
    "\n",
    "    #init or concat pairs_df\n",
    "    if i == 0:\n",
    "        pairs_df = pair_df   \n",
    "    else:\n",
    "        pairs_df = pl.concat([pairs_df,pair_df], how='vertical') "
   ]
  },
  {
   "cell_type": "code",
   "execution_count": 19,
   "metadata": {},
   "outputs": [
    {
     "data": {
      "text/html": [
       "<div><style>\n",
       ".dataframe > thead > tr,\n",
       ".dataframe > tbody > tr {\n",
       "  text-align: right;\n",
       "  white-space: pre-wrap;\n",
       "}\n",
       "</style>\n",
       "<small>shape: (9, 4)</small><table border=\"1\" class=\"dataframe\"><thead><tr><th>statistic</th><th>date</th><th>date_arrival</th><th>vessel_port_pair</th></tr><tr><td>str</td><td>str</td><td>str</td><td>str</td></tr></thead><tbody><tr><td>&quot;count&quot;</td><td>&quot;6604&quot;</td><td>&quot;6604&quot;</td><td>&quot;6604&quot;</td></tr><tr><td>&quot;null_count&quot;</td><td>&quot;0&quot;</td><td>&quot;0&quot;</td><td>&quot;0&quot;</td></tr><tr><td>&quot;mean&quot;</td><td>&quot;2013-01-10 10:…</td><td>&quot;2012-12-07 03:…</td><td>null</td></tr><tr><td>&quot;std&quot;</td><td>null</td><td>null</td><td>null</td></tr><tr><td>&quot;min&quot;</td><td>&quot;2005-01-01 00:…</td><td>&quot;2005-01-02 00:…</td><td>null</td></tr><tr><td>&quot;25%&quot;</td><td>&quot;2005-11-21 00:…</td><td>&quot;2005-11-16 00:…</td><td>null</td></tr><tr><td>&quot;50%&quot;</td><td>&quot;2013-09-03 00:…</td><td>&quot;2013-06-24 00:…</td><td>null</td></tr><tr><td>&quot;75%&quot;</td><td>&quot;2019-02-17 00:…</td><td>&quot;2018-12-22 00:…</td><td>null</td></tr><tr><td>&quot;max&quot;</td><td>&quot;2023-11-29 00:…</td><td>&quot;2023-11-29 00:…</td><td>null</td></tr></tbody></table></div>"
      ],
      "text/plain": [
       "shape: (9, 4)\n",
       "┌────────────┬────────────────────────────┬────────────────────────────┬──────────────────┐\n",
       "│ statistic  ┆ date                       ┆ date_arrival               ┆ vessel_port_pair │\n",
       "│ ---        ┆ ---                        ┆ ---                        ┆ ---              │\n",
       "│ str        ┆ str                        ┆ str                        ┆ str              │\n",
       "╞════════════╪════════════════════════════╪════════════════════════════╪══════════════════╡\n",
       "│ count      ┆ 6604                       ┆ 6604                       ┆ 6604             │\n",
       "│ null_count ┆ 0                          ┆ 0                          ┆ 0                │\n",
       "│ mean       ┆ 2013-01-10 10:15:20.169594 ┆ 2012-12-07 03:50:02.543912 ┆ null             │\n",
       "│ std        ┆ null                       ┆ null                       ┆ null             │\n",
       "│ min        ┆ 2005-01-01 00:00:00        ┆ 2005-01-02 00:00:00        ┆ null             │\n",
       "│ 25%        ┆ 2005-11-21 00:00:00        ┆ 2005-11-16 00:00:00        ┆ null             │\n",
       "│ 50%        ┆ 2013-09-03 00:00:00        ┆ 2013-06-24 00:00:00        ┆ null             │\n",
       "│ 75%        ┆ 2019-02-17 00:00:00        ┆ 2018-12-22 00:00:00        ┆ null             │\n",
       "│ max        ┆ 2023-11-29 00:00:00        ┆ 2023-11-29 00:00:00        ┆ null             │\n",
       "└────────────┴────────────────────────────┴────────────────────────────┴──────────────────┘"
      ]
     },
     "execution_count": 19,
     "metadata": {},
     "output_type": "execute_result"
    }
   ],
   "source": [
    "pairs_df.describe()"
   ]
  },
  {
   "cell_type": "code",
   "execution_count": 20,
   "metadata": {},
   "outputs": [],
   "source": [
    "test_lf = (\n",
    "    imports_lf\n",
    "    .with_columns((pl.col('vessel_id').cast(pl.Utf8)+'_'+pl.col('arrival_port_code').cast(pl.Utf8)).cast(pl.Categorical).alias('vessel_port_pair')))"
   ]
  },
  {
   "cell_type": "code",
   "execution_count": 21,
   "metadata": {},
   "outputs": [
    {
     "data": {
      "text/html": [
       "<div><style>\n",
       ".dataframe > thead > tr,\n",
       ".dataframe > tbody > tr {\n",
       "  text-align: right;\n",
       "  white-space: pre-wrap;\n",
       "}\n",
       "</style>\n",
       "<small>shape: (5, 5)</small><table border=\"1\" class=\"dataframe\"><thead><tr><th>date</th><th>vessel_port_pair</th><th>bol_id</th><th>teus</th><th>date_arrival</th></tr><tr><td>datetime[μs]</td><td>cat</td><td>str</td><td>f64</td><td>datetime[μs]</td></tr></thead><tbody><tr><td>2005-10-12 00:00:00</td><td>&quot;9191321_5201&quot;</td><td>&quot;WWLN_JP363426&quot;</td><td>2.196793</td><td>null</td></tr><tr><td>2005-10-12 00:00:00</td><td>&quot;9143544_1703&quot;</td><td>&quot;LYKE_LDNAL0036…</td><td>2.196793</td><td>null</td></tr><tr><td>2005-09-16 00:00:00</td><td>&quot;8214152_1401&quot;</td><td>&quot;ACLO_5216S2381…</td><td>2.196793</td><td>null</td></tr><tr><td>2005-03-30 00:00:00</td><td>&quot;9155121_1601&quot;</td><td>&quot;MLSL_CMB300747…</td><td>2.196793</td><td>null</td></tr><tr><td>2005-08-29 00:00:00</td><td>&quot;9043782_2709&quot;</td><td>&quot;KLIN_SFLSA0016…</td><td>2.196793</td><td>null</td></tr></tbody></table></div>"
      ],
      "text/plain": [
       "shape: (5, 5)\n",
       "┌─────────────────────┬──────────────────┬───────────────────┬──────────┬──────────────┐\n",
       "│ date                ┆ vessel_port_pair ┆ bol_id            ┆ teus     ┆ date_arrival │\n",
       "│ ---                 ┆ ---              ┆ ---               ┆ ---      ┆ ---          │\n",
       "│ datetime[μs]        ┆ cat              ┆ str               ┆ f64      ┆ datetime[μs] │\n",
       "╞═════════════════════╪══════════════════╪═══════════════════╪══════════╪══════════════╡\n",
       "│ 2005-10-12 00:00:00 ┆ 9191321_5201     ┆ WWLN_JP363426     ┆ 2.196793 ┆ null         │\n",
       "│ 2005-10-12 00:00:00 ┆ 9143544_1703     ┆ LYKE_LDNAL003660  ┆ 2.196793 ┆ null         │\n",
       "│ 2005-09-16 00:00:00 ┆ 8214152_1401     ┆ ACLO_5216S2381938 ┆ 2.196793 ┆ null         │\n",
       "│ 2005-03-30 00:00:00 ┆ 9155121_1601     ┆ MLSL_CMB300747    ┆ 2.196793 ┆ null         │\n",
       "│ 2005-08-29 00:00:00 ┆ 9043782_2709     ┆ KLIN_SFLSA001640  ┆ 2.196793 ┆ null         │\n",
       "└─────────────────────┴──────────────────┴───────────────────┴──────────┴──────────────┘"
      ]
     },
     "metadata": {},
     "output_type": "display_data"
    },
    {
     "data": {
      "text/html": [
       "<div><style>\n",
       ".dataframe > thead > tr,\n",
       ".dataframe > tbody > tr {\n",
       "  text-align: right;\n",
       "  white-space: pre-wrap;\n",
       "}\n",
       "</style>\n",
       "<small>shape: (9, 6)</small><table border=\"1\" class=\"dataframe\"><thead><tr><th>statistic</th><th>date</th><th>vessel_port_pair</th><th>bol_id</th><th>teus</th><th>date_arrival</th></tr><tr><td>str</td><td>str</td><td>str</td><td>str</td><td>f64</td><td>str</td></tr></thead><tbody><tr><td>&quot;count&quot;</td><td>&quot;178921553&quot;</td><td>&quot;167409519&quot;</td><td>&quot;178921553&quot;</td><td>1.78921553e8</td><td>&quot;679258&quot;</td></tr><tr><td>&quot;null_count&quot;</td><td>&quot;0&quot;</td><td>&quot;11512034&quot;</td><td>&quot;0&quot;</td><td>0.0</td><td>&quot;178242295&quot;</td></tr><tr><td>&quot;mean&quot;</td><td>&quot;2016-02-25 02:…</td><td>null</td><td>null</td><td>2.196795</td><td>&quot;2014-09-15 08:…</td></tr><tr><td>&quot;std&quot;</td><td>null</td><td>null</td><td>null</td><td>2.918122</td><td>null</td></tr><tr><td>&quot;min&quot;</td><td>&quot;2005-01-01 00:…</td><td>null</td><td>&quot;-1_CSHSE000999…</td><td>0.01</td><td>&quot;2005-01-02 00:…</td></tr><tr><td>&quot;25%&quot;</td><td>&quot;2012-03-26 00:…</td><td>null</td><td>null</td><td>1.75</td><td>&quot;2008-12-16 00:…</td></tr><tr><td>&quot;50%&quot;</td><td>&quot;2016-09-18 00:…</td><td>null</td><td>null</td><td>2.196793</td><td>&quot;2015-05-12 00:…</td></tr><tr><td>&quot;75%&quot;</td><td>&quot;2020-09-06 00:…</td><td>null</td><td>null</td><td>2.196793</td><td>&quot;2019-07-23 00:…</td></tr><tr><td>&quot;max&quot;</td><td>&quot;2023-11-30 00:…</td><td>null</td><td>&quot;zimu_ZIMUZHJ00…</td><td>1730.75</td><td>&quot;2023-11-29 00:…</td></tr></tbody></table></div>"
      ],
      "text/plain": [
       "shape: (9, 6)\n",
       "┌────────────┬─────────────────┬─────────────────┬─────────────────┬──────────────┬────────────────┐\n",
       "│ statistic  ┆ date            ┆ vessel_port_pai ┆ bol_id          ┆ teus         ┆ date_arrival   │\n",
       "│ ---        ┆ ---             ┆ r               ┆ ---             ┆ ---          ┆ ---            │\n",
       "│ str        ┆ str             ┆ ---             ┆ str             ┆ f64          ┆ str            │\n",
       "│            ┆                 ┆ str             ┆                 ┆              ┆                │\n",
       "╞════════════╪═════════════════╪═════════════════╪═════════════════╪══════════════╪════════════════╡\n",
       "│ count      ┆ 178921553       ┆ 167409519       ┆ 178921553       ┆ 1.78921553e8 ┆ 679258         │\n",
       "│ null_count ┆ 0               ┆ 11512034        ┆ 0               ┆ 0.0          ┆ 178242295      │\n",
       "│ mean       ┆ 2016-02-25      ┆ null            ┆ null            ┆ 2.196795     ┆ 2014-09-15 08: │\n",
       "│            ┆ 02:53:24.937157 ┆                 ┆                 ┆              ┆ 33:55.373832   │\n",
       "│ std        ┆ null            ┆ null            ┆ null            ┆ 2.918122     ┆ null           │\n",
       "│ min        ┆ 2005-01-01      ┆ null            ┆ -1_CSHSE0009996 ┆ 0.01         ┆ 2005-01-02     │\n",
       "│            ┆ 00:00:00        ┆                 ┆                 ┆              ┆ 00:00:00       │\n",
       "│ 25%        ┆ 2012-03-26      ┆ null            ┆ null            ┆ 1.75         ┆ 2008-12-16     │\n",
       "│            ┆ 00:00:00        ┆                 ┆                 ┆              ┆ 00:00:00       │\n",
       "│ 50%        ┆ 2016-09-18      ┆ null            ┆ null            ┆ 2.196793     ┆ 2015-05-12     │\n",
       "│            ┆ 00:00:00        ┆                 ┆                 ┆              ┆ 00:00:00       │\n",
       "│ 75%        ┆ 2020-09-06      ┆ null            ┆ null            ┆ 2.196793     ┆ 2019-07-23     │\n",
       "│            ┆ 00:00:00        ┆                 ┆                 ┆              ┆ 00:00:00       │\n",
       "│ max        ┆ 2023-11-30      ┆ null            ┆ zimu_ZIMUZHJ000 ┆ 1730.75      ┆ 2023-11-29     │\n",
       "│            ┆ 00:00:00        ┆                 ┆ 0952            ┆              ┆ 00:00:00       │\n",
       "└────────────┴─────────────────┴─────────────────┴─────────────────┴──────────────┴────────────────┘"
      ]
     },
     "execution_count": 21,
     "metadata": {},
     "output_type": "execute_result"
    }
   ],
   "source": [
    "pairs_lf = pairs_df.lazy()\n",
    "\n",
    "joined_lf = (\n",
    "    test_lf.join(pairs_lf, on=['date', 'vessel_port_pair'], how='left')\n",
    ")\n",
    "\n",
    "joined_df = (\n",
    "    joined_lf\n",
    "    .select('date', 'vessel_port_pair', 'bol_id', 'teus', 'date_arrival')\n",
    "    .collect()\n",
    ")\n",
    "\n",
    "display(joined_df.head())\n",
    "joined_df.describe()"
   ]
  },
  {
   "cell_type": "code",
   "execution_count": null,
   "metadata": {},
   "outputs": [],
   "source": []
  },
  {
   "cell_type": "code",
   "execution_count": 6,
   "metadata": {},
   "outputs": [
    {
     "data": {
      "text/plain": [
       "176533"
      ]
     },
     "execution_count": 6,
     "metadata": {},
     "output_type": "execute_result"
    }
   ],
   "source": [
    "lf.select('vessel_port_pair').collect().to_series().n_unique()"
   ]
  },
  {
   "cell_type": "code",
   "execution_count": 33,
   "metadata": {},
   "outputs": [
    {
     "data": {
      "text/html": [
       "<div><style>\n",
       ".dataframe > thead > tr,\n",
       ".dataframe > tbody > tr {\n",
       "  text-align: right;\n",
       "  white-space: pre-wrap;\n",
       "}\n",
       "</style>\n",
       "<small>shape: (5, 6)</small><table border=\"1\" class=\"dataframe\"><thead><tr><th>date</th><th>vessel_id</th><th>arrival_port_code</th><th>sum_teus</th><th>num_bills</th><th>vessel_port_pair</th></tr><tr><td>datetime[μs]</td><td>i32</td><td>cat</td><td>f64</td><td>u32</td><td>cat</td></tr></thead><tbody><tr><td>2005-01-01 00:00:00</td><td>9159115</td><td>&quot;4909&quot;</td><td>65.903779</td><td>30</td><td>&quot;9159115_4909&quot;</td></tr><tr><td>2005-01-01 00:00:00</td><td>9278088</td><td>&quot;2704&quot;</td><td>4.393585</td><td>2</td><td>&quot;9278088_2704&quot;</td></tr><tr><td>2005-01-01 00:00:00</td><td>9102289</td><td>&quot;2704&quot;</td><td>4.393585</td><td>2</td><td>&quot;9102289_2704&quot;</td></tr><tr><td>2005-01-01 00:00:00</td><td>9286267</td><td>&quot;2811&quot;</td><td>2.196793</td><td>1</td><td>&quot;9286267_2811&quot;</td></tr><tr><td>2005-01-01 00:00:00</td><td>9143104</td><td>&quot;4601&quot;</td><td>2.196793</td><td>1</td><td>&quot;9143104_4601&quot;</td></tr></tbody></table></div>"
      ],
      "text/plain": [
       "shape: (5, 6)\n",
       "┌─────────────────────┬───────────┬───────────────────┬───────────┬───────────┬──────────────────┐\n",
       "│ date                ┆ vessel_id ┆ arrival_port_code ┆ sum_teus  ┆ num_bills ┆ vessel_port_pair │\n",
       "│ ---                 ┆ ---       ┆ ---               ┆ ---       ┆ ---       ┆ ---              │\n",
       "│ datetime[μs]        ┆ i32       ┆ cat               ┆ f64       ┆ u32       ┆ cat              │\n",
       "╞═════════════════════╪═══════════╪═══════════════════╪═══════════╪═══════════╪══════════════════╡\n",
       "│ 2005-01-01 00:00:00 ┆ 9159115   ┆ 4909              ┆ 65.903779 ┆ 30        ┆ 9159115_4909     │\n",
       "│ 2005-01-01 00:00:00 ┆ 9278088   ┆ 2704              ┆ 4.393585  ┆ 2         ┆ 9278088_2704     │\n",
       "│ 2005-01-01 00:00:00 ┆ 9102289   ┆ 2704              ┆ 4.393585  ┆ 2         ┆ 9102289_2704     │\n",
       "│ 2005-01-01 00:00:00 ┆ 9286267   ┆ 2811              ┆ 2.196793  ┆ 1         ┆ 9286267_2811     │\n",
       "│ 2005-01-01 00:00:00 ┆ 9143104   ┆ 4601              ┆ 2.196793  ┆ 1         ┆ 9143104_4601     │\n",
       "└─────────────────────┴───────────┴───────────────────┴───────────┴───────────┴──────────────────┘"
      ]
     },
     "execution_count": 33,
     "metadata": {},
     "output_type": "execute_result"
    }
   ],
   "source": [
    "df = (\n",
    "    imports_lf\n",
    "    .group_by('date', 'vessel_id', 'arrival_port_code')\n",
    "    .agg(\n",
    "        pl.col('teus').sum().alias('sum_teus'),\n",
    "        pl.col('bol_id').count().alias('num_bills')\n",
    "    )\n",
    "    .with_columns(\n",
    "        (pl.col('vessel_id').cast(pl.Utf8)+'_'+pl.col('arrival_port_code').cast(pl.Utf8)).cast(pl.Categorical).alias('vessel_port_pair')\n",
    "    )\n",
    "    .sort('date')\n",
    "    .collect()\n",
    ")\n",
    "\n",
    "\n",
    "df.head()"
   ]
  },
  {
   "cell_type": "code",
   "execution_count": 34,
   "metadata": {},
   "outputs": [],
   "source": [
    "date = dt.datetime(2023,1,1)\n",
    "\n",
    "toppairs = (\n",
    "    df\n",
    "    .filter(pl.col('date')>date)\n",
    "    .group_by('vessel_port_pair')\n",
    "    .agg(pl.col('date').n_unique().alias('num_dates'))\n",
    "    .drop_nulls()\n",
    "    .sort('num_dates', descending=True)\n",
    "    .limit(20)\n",
    "    .select('vessel_port_pair')\n",
    "    .to_series()\n",
    ")"
   ]
  },
  {
   "cell_type": "code",
   "execution_count": 35,
   "metadata": {},
   "outputs": [
    {
     "name": "stdout",
     "output_type": "stream",
     "text": [
      "skipping\n"
     ]
    }
   ],
   "source": [
    "%%script echo skipping\n",
    "for pair in toppairs:\n",
    "    px.bar(\n",
    "        df.filter(\n",
    "            pl.col('vessel_port_pair')==pair,\n",
    "            pl.col('date')>date\n",
    "            ), \n",
    "        x='date', y='sum_teus', color='vessel_port_pair'\n",
    "    ).show()"
   ]
  },
  {
   "cell_type": "markdown",
   "metadata": {},
   "source": [
    "see if voyage id is unique-ish per cluster"
   ]
  },
  {
   "cell_type": "code",
   "execution_count": 58,
   "metadata": {},
   "outputs": [],
   "source": [
    "toppair = toppairs[3]\n",
    "\n",
    "pair_1d = (\n",
    "    df.filter(\n",
    "            pl.col('vessel_port_pair')==toppair,\n",
    "            pl.col('date')>date\n",
    "            )\n",
    "    .select('date', pl.col('sum_teus').round())\n",
    "    .select(pl.exclude('sum_teus').repeat_by('sum_teus').explode())\n",
    ")\n",
    "\n",
    "#px.histogram(pair_1d, nbins=365)"
   ]
  },
  {
   "cell_type": "code",
   "execution_count": 59,
   "metadata": {},
   "outputs": [],
   "source": [
    "#instantiate clusterer\n",
    "clusterer = HDBSCAN(min_cluster_size=20, min_samples=5)\n",
    "#get clusters\n",
    "clusterer.fit(pair_1d)\n",
    "#add back to pair_1d\n",
    "clustered_pair_id = (\n",
    "    pair_1d.with_columns(\n",
    "    pl.Series(name='cluster', values=clusterer.labels_)\n",
    "    )\n",
    ")\n"
   ]
  },
  {
   "cell_type": "code",
   "execution_count": 65,
   "metadata": {},
   "outputs": [
    {
     "data": {
      "text/html": [
       "<div><style>\n",
       ".dataframe > thead > tr,\n",
       ".dataframe > tbody > tr {\n",
       "  text-align: right;\n",
       "  white-space: pre-wrap;\n",
       "}\n",
       "</style>\n",
       "<small>shape: (917, 3)</small><table border=\"1\" class=\"dataframe\"><thead><tr><th>date</th><th>cluster</th><th>date_arrival</th></tr><tr><td>datetime[μs]</td><td>i64</td><td>datetime[μs]</td></tr></thead><tbody><tr><td>2023-01-02 00:00:00</td><td>0</td><td>2023-01-10 00:00:00</td></tr><tr><td>2023-01-02 00:00:00</td><td>0</td><td>2023-01-10 00:00:00</td></tr><tr><td>2023-01-02 00:00:00</td><td>0</td><td>2023-01-10 00:00:00</td></tr><tr><td>2023-01-02 00:00:00</td><td>0</td><td>2023-01-10 00:00:00</td></tr><tr><td>2023-01-02 00:00:00</td><td>0</td><td>2023-01-10 00:00:00</td></tr><tr><td>2023-01-02 00:00:00</td><td>0</td><td>2023-01-10 00:00:00</td></tr><tr><td>2023-01-02 00:00:00</td><td>0</td><td>2023-01-10 00:00:00</td></tr><tr><td>2023-01-02 00:00:00</td><td>0</td><td>2023-01-10 00:00:00</td></tr><tr><td>2023-01-02 00:00:00</td><td>0</td><td>2023-01-10 00:00:00</td></tr><tr><td>2023-01-06 00:00:00</td><td>0</td><td>2023-01-10 00:00:00</td></tr><tr><td>2023-01-06 00:00:00</td><td>0</td><td>2023-01-10 00:00:00</td></tr><tr><td>2023-01-07 00:00:00</td><td>0</td><td>2023-01-10 00:00:00</td></tr><tr><td>&hellip;</td><td>&hellip;</td><td>&hellip;</td></tr><tr><td>2023-11-25 00:00:00</td><td>22</td><td>2023-11-25 00:00:00</td></tr><tr><td>2023-11-25 00:00:00</td><td>22</td><td>2023-11-25 00:00:00</td></tr><tr><td>2023-11-25 00:00:00</td><td>22</td><td>2023-11-25 00:00:00</td></tr><tr><td>2023-11-25 00:00:00</td><td>22</td><td>2023-11-25 00:00:00</td></tr><tr><td>2023-11-25 00:00:00</td><td>22</td><td>2023-11-25 00:00:00</td></tr><tr><td>2023-11-25 00:00:00</td><td>22</td><td>2023-11-25 00:00:00</td></tr><tr><td>2023-11-25 00:00:00</td><td>22</td><td>2023-11-25 00:00:00</td></tr><tr><td>2023-11-25 00:00:00</td><td>22</td><td>2023-11-25 00:00:00</td></tr><tr><td>2023-11-25 00:00:00</td><td>22</td><td>2023-11-25 00:00:00</td></tr><tr><td>2023-11-29 00:00:00</td><td>-1</td><td>2023-11-25 00:00:00</td></tr><tr><td>2023-11-29 00:00:00</td><td>-1</td><td>2023-11-25 00:00:00</td></tr><tr><td>2023-11-29 00:00:00</td><td>-1</td><td>2023-11-25 00:00:00</td></tr></tbody></table></div>"
      ],
      "text/plain": [
       "shape: (917, 3)\n",
       "┌─────────────────────┬─────────┬─────────────────────┐\n",
       "│ date                ┆ cluster ┆ date_arrival        │\n",
       "│ ---                 ┆ ---     ┆ ---                 │\n",
       "│ datetime[μs]        ┆ i64     ┆ datetime[μs]        │\n",
       "╞═════════════════════╪═════════╪═════════════════════╡\n",
       "│ 2023-01-02 00:00:00 ┆ 0       ┆ 2023-01-10 00:00:00 │\n",
       "│ 2023-01-02 00:00:00 ┆ 0       ┆ 2023-01-10 00:00:00 │\n",
       "│ 2023-01-02 00:00:00 ┆ 0       ┆ 2023-01-10 00:00:00 │\n",
       "│ 2023-01-02 00:00:00 ┆ 0       ┆ 2023-01-10 00:00:00 │\n",
       "│ 2023-01-02 00:00:00 ┆ 0       ┆ 2023-01-10 00:00:00 │\n",
       "│ …                   ┆ …       ┆ …                   │\n",
       "│ 2023-11-25 00:00:00 ┆ 22      ┆ 2023-11-25 00:00:00 │\n",
       "│ 2023-11-25 00:00:00 ┆ 22      ┆ 2023-11-25 00:00:00 │\n",
       "│ 2023-11-29 00:00:00 ┆ -1      ┆ 2023-11-25 00:00:00 │\n",
       "│ 2023-11-29 00:00:00 ┆ -1      ┆ 2023-11-25 00:00:00 │\n",
       "│ 2023-11-29 00:00:00 ┆ -1      ┆ 2023-11-25 00:00:00 │\n",
       "└─────────────────────┴─────────┴─────────────────────┘"
      ]
     },
     "execution_count": 65,
     "metadata": {},
     "output_type": "execute_result"
    }
   ],
   "source": [
    "clustered_pair_id.with_columns(\n",
    "    #when date matches the mode of each cluster\n",
    "    pl.when(pl.col('date') == pl.col('date').mode().first().over('cluster'))\n",
    "    #fill with that date, otherwise fill with null\n",
    "    .then(pl.col('date'))\n",
    "    .otherwise(pl.lit(None))\n",
    "    #forward fill the arrival date to the mode of next cluster\n",
    "    .forward_fill()\n",
    "    #backward fill to capture the first part of first cluster\n",
    "    .backward_fill()\n",
    "    #name column\n",
    "    .alias('date_arrival')\n",
    "    )\n"
   ]
  },
  {
   "cell_type": "code",
   "execution_count": 66,
   "metadata": {},
   "outputs": [
    {
     "data": {
      "application/vnd.plotly.v1+json": {
       "config": {
        "plotlyServerURL": "https://plot.ly"
       },
       "data": [
        {
         "alignmentgroup": "True",
         "bingroup": "x",
         "hovertemplate": "cluster=0<br>date=%{x}<br>count=%{y}<extra></extra>",
         "legendgroup": "0",
         "marker": {
          "color": "#636efa",
          "pattern": {
           "shape": ""
          }
         },
         "name": "0",
         "nbinsx": 365,
         "offsetgroup": "0",
         "orientation": "v",
         "showlegend": true,
         "type": "histogram",
         "x": [
          "2023-01-02T00:00:00",
          "2023-01-02T00:00:00",
          "2023-01-02T00:00:00",
          "2023-01-02T00:00:00",
          "2023-01-02T00:00:00",
          "2023-01-02T00:00:00",
          "2023-01-02T00:00:00",
          "2023-01-02T00:00:00",
          "2023-01-02T00:00:00",
          "2023-01-06T00:00:00",
          "2023-01-06T00:00:00",
          "2023-01-07T00:00:00",
          "2023-01-07T00:00:00",
          "2023-01-07T00:00:00",
          "2023-01-07T00:00:00",
          "2023-01-10T00:00:00",
          "2023-01-10T00:00:00",
          "2023-01-10T00:00:00",
          "2023-01-10T00:00:00",
          "2023-01-10T00:00:00",
          "2023-01-10T00:00:00",
          "2023-01-10T00:00:00",
          "2023-01-10T00:00:00",
          "2023-01-10T00:00:00",
          "2023-01-10T00:00:00",
          "2023-01-10T00:00:00",
          "2023-01-10T00:00:00",
          "2023-01-10T00:00:00",
          "2023-01-10T00:00:00",
          "2023-01-10T00:00:00",
          "2023-01-10T00:00:00",
          "2023-01-10T00:00:00",
          "2023-01-10T00:00:00",
          "2023-01-10T00:00:00"
         ],
         "xaxis": "x",
         "yaxis": "y"
        },
        {
         "alignmentgroup": "True",
         "bingroup": "x",
         "hovertemplate": "cluster=1<br>date=%{x}<br>count=%{y}<extra></extra>",
         "legendgroup": "1",
         "marker": {
          "color": "#EF553B",
          "pattern": {
           "shape": ""
          }
         },
         "name": "1",
         "nbinsx": 365,
         "offsetgroup": "1",
         "orientation": "v",
         "showlegend": true,
         "type": "histogram",
         "x": [
          "2023-01-23T00:00:00",
          "2023-01-23T00:00:00",
          "2023-01-23T00:00:00",
          "2023-01-27T00:00:00",
          "2023-01-27T00:00:00",
          "2023-01-27T00:00:00",
          "2023-01-27T00:00:00",
          "2023-01-27T00:00:00",
          "2023-01-27T00:00:00",
          "2023-01-27T00:00:00",
          "2023-01-27T00:00:00",
          "2023-01-31T00:00:00",
          "2023-01-31T00:00:00",
          "2023-01-31T00:00:00",
          "2023-01-31T00:00:00",
          "2023-01-31T00:00:00",
          "2023-01-31T00:00:00",
          "2023-01-31T00:00:00",
          "2023-01-31T00:00:00",
          "2023-02-03T00:00:00",
          "2023-02-03T00:00:00",
          "2023-02-03T00:00:00",
          "2023-02-03T00:00:00",
          "2023-02-03T00:00:00",
          "2023-02-03T00:00:00",
          "2023-02-03T00:00:00",
          "2023-02-03T00:00:00",
          "2023-02-03T00:00:00",
          "2023-02-03T00:00:00",
          "2023-02-03T00:00:00",
          "2023-02-03T00:00:00",
          "2023-02-03T00:00:00"
         ],
         "xaxis": "x",
         "yaxis": "y"
        },
        {
         "alignmentgroup": "True",
         "bingroup": "x",
         "hovertemplate": "cluster=2<br>date=%{x}<br>count=%{y}<extra></extra>",
         "legendgroup": "2",
         "marker": {
          "color": "#00cc96",
          "pattern": {
           "shape": ""
          }
         },
         "name": "2",
         "nbinsx": 365,
         "offsetgroup": "2",
         "orientation": "v",
         "showlegend": true,
         "type": "histogram",
         "x": [
          "2023-02-08T00:00:00",
          "2023-02-08T00:00:00",
          "2023-02-08T00:00:00",
          "2023-02-08T00:00:00",
          "2023-02-08T00:00:00",
          "2023-02-08T00:00:00",
          "2023-02-08T00:00:00",
          "2023-02-08T00:00:00",
          "2023-02-08T00:00:00",
          "2023-02-08T00:00:00",
          "2023-02-08T00:00:00",
          "2023-02-08T00:00:00",
          "2023-02-08T00:00:00",
          "2023-02-08T00:00:00",
          "2023-02-08T00:00:00",
          "2023-02-08T00:00:00",
          "2023-02-08T00:00:00",
          "2023-02-08T00:00:00",
          "2023-02-08T00:00:00",
          "2023-02-08T00:00:00",
          "2023-02-08T00:00:00",
          "2023-02-08T00:00:00",
          "2023-02-08T00:00:00",
          "2023-02-08T00:00:00",
          "2023-02-08T00:00:00"
         ],
         "xaxis": "x",
         "yaxis": "y"
        },
        {
         "alignmentgroup": "True",
         "bingroup": "x",
         "hovertemplate": "cluster=13<br>date=%{x}<br>count=%{y}<extra></extra>",
         "legendgroup": "13",
         "marker": {
          "color": "#ab63fa",
          "pattern": {
           "shape": ""
          }
         },
         "name": "13",
         "nbinsx": 365,
         "offsetgroup": "13",
         "orientation": "v",
         "showlegend": true,
         "type": "histogram",
         "x": [
          "2023-02-17T00:00:00",
          "2023-02-17T00:00:00",
          "2023-02-17T00:00:00",
          "2023-02-17T00:00:00",
          "2023-02-17T00:00:00",
          "2023-02-17T00:00:00",
          "2023-02-17T00:00:00",
          "2023-02-17T00:00:00",
          "2023-02-17T00:00:00",
          "2023-02-17T00:00:00",
          "2023-02-17T00:00:00",
          "2023-02-17T00:00:00",
          "2023-02-17T00:00:00",
          "2023-02-17T00:00:00",
          "2023-02-17T00:00:00",
          "2023-02-17T00:00:00",
          "2023-02-17T00:00:00",
          "2023-02-19T00:00:00",
          "2023-02-19T00:00:00",
          "2023-02-22T00:00:00",
          "2023-02-22T00:00:00"
         ],
         "xaxis": "x",
         "yaxis": "y"
        },
        {
         "alignmentgroup": "True",
         "bingroup": "x",
         "hovertemplate": "cluster=16<br>date=%{x}<br>count=%{y}<extra></extra>",
         "legendgroup": "16",
         "marker": {
          "color": "#FFA15A",
          "pattern": {
           "shape": ""
          }
         },
         "name": "16",
         "nbinsx": 365,
         "offsetgroup": "16",
         "orientation": "v",
         "showlegend": true,
         "type": "histogram",
         "x": [
          "2023-02-22T00:00:00",
          "2023-02-25T00:00:00",
          "2023-02-25T00:00:00",
          "2023-02-25T00:00:00",
          "2023-02-25T00:00:00",
          "2023-02-25T00:00:00",
          "2023-02-25T00:00:00",
          "2023-02-25T00:00:00",
          "2023-02-25T00:00:00",
          "2023-02-25T00:00:00",
          "2023-02-25T00:00:00",
          "2023-02-25T00:00:00",
          "2023-02-25T00:00:00",
          "2023-02-27T00:00:00",
          "2023-02-27T00:00:00",
          "2023-02-27T00:00:00",
          "2023-02-27T00:00:00",
          "2023-02-27T00:00:00",
          "2023-02-27T00:00:00",
          "2023-02-28T00:00:00",
          "2023-02-28T00:00:00",
          "2023-02-28T00:00:00",
          "2023-02-28T00:00:00",
          "2023-02-28T00:00:00",
          "2023-02-28T00:00:00",
          "2023-02-28T00:00:00",
          "2023-02-28T00:00:00",
          "2023-02-28T00:00:00",
          "2023-02-28T00:00:00",
          "2023-02-28T00:00:00",
          "2023-02-28T00:00:00",
          "2023-02-28T00:00:00",
          "2023-02-28T00:00:00",
          "2023-02-28T00:00:00",
          "2023-02-28T00:00:00",
          "2023-02-28T00:00:00",
          "2023-02-28T00:00:00",
          "2023-02-28T00:00:00",
          "2023-02-28T00:00:00",
          "2023-02-28T00:00:00",
          "2023-02-28T00:00:00"
         ],
         "xaxis": "x",
         "yaxis": "y"
        },
        {
         "alignmentgroup": "True",
         "bingroup": "x",
         "hovertemplate": "cluster=17<br>date=%{x}<br>count=%{y}<extra></extra>",
         "legendgroup": "17",
         "marker": {
          "color": "#19d3f3",
          "pattern": {
           "shape": ""
          }
         },
         "name": "17",
         "nbinsx": 365,
         "offsetgroup": "17",
         "orientation": "v",
         "showlegend": true,
         "type": "histogram",
         "x": [
          "2023-03-03T00:00:00",
          "2023-03-03T00:00:00",
          "2023-03-03T00:00:00",
          "2023-03-03T00:00:00",
          "2023-03-03T00:00:00",
          "2023-03-03T00:00:00",
          "2023-03-03T00:00:00",
          "2023-03-03T00:00:00",
          "2023-03-03T00:00:00",
          "2023-03-03T00:00:00",
          "2023-03-03T00:00:00",
          "2023-03-03T00:00:00",
          "2023-03-03T00:00:00",
          "2023-03-03T00:00:00",
          "2023-03-03T00:00:00",
          "2023-03-03T00:00:00",
          "2023-03-05T00:00:00",
          "2023-03-05T00:00:00",
          "2023-03-05T00:00:00",
          "2023-03-05T00:00:00",
          "2023-03-05T00:00:00",
          "2023-03-05T00:00:00",
          "2023-03-05T00:00:00",
          "2023-03-05T00:00:00",
          "2023-03-05T00:00:00",
          "2023-03-05T00:00:00",
          "2023-03-05T00:00:00"
         ],
         "xaxis": "x",
         "yaxis": "y"
        },
        {
         "alignmentgroup": "True",
         "bingroup": "x",
         "hovertemplate": "cluster=-1<br>date=%{x}<br>count=%{y}<extra></extra>",
         "legendgroup": "-1",
         "marker": {
          "color": "#FF6692",
          "pattern": {
           "shape": ""
          }
         },
         "name": "-1",
         "nbinsx": 365,
         "offsetgroup": "-1",
         "orientation": "v",
         "showlegend": true,
         "type": "histogram",
         "x": [
          "2023-03-09T00:00:00",
          "2023-03-09T00:00:00",
          "2023-03-09T00:00:00",
          "2023-03-09T00:00:00",
          "2023-03-12T00:00:00",
          "2023-03-12T00:00:00",
          "2023-03-12T00:00:00",
          "2023-03-12T00:00:00",
          "2023-03-12T00:00:00",
          "2023-03-12T00:00:00",
          "2023-03-12T00:00:00",
          "2023-03-14T00:00:00",
          "2023-03-14T00:00:00",
          "2023-03-14T00:00:00",
          "2023-03-14T00:00:00",
          "2023-03-14T00:00:00",
          "2023-03-28T00:00:00",
          "2023-03-28T00:00:00",
          "2023-03-28T00:00:00",
          "2023-03-28T00:00:00",
          "2023-03-28T00:00:00",
          "2023-03-28T00:00:00",
          "2023-03-28T00:00:00",
          "2023-03-30T00:00:00",
          "2023-03-30T00:00:00",
          "2023-03-30T00:00:00",
          "2023-03-30T00:00:00",
          "2023-04-03T00:00:00",
          "2023-04-03T00:00:00",
          "2023-04-05T00:00:00",
          "2023-04-05T00:00:00",
          "2023-04-05T00:00:00",
          "2023-04-05T00:00:00",
          "2023-04-05T00:00:00",
          "2023-04-05T00:00:00",
          "2023-04-08T00:00:00",
          "2023-04-08T00:00:00",
          "2023-04-08T00:00:00",
          "2023-04-08T00:00:00",
          "2023-04-08T00:00:00",
          "2023-04-22T00:00:00",
          "2023-04-22T00:00:00",
          "2023-04-22T00:00:00",
          "2023-04-22T00:00:00",
          "2023-04-22T00:00:00",
          "2023-04-22T00:00:00",
          "2023-04-22T00:00:00",
          "2023-04-22T00:00:00",
          "2023-04-22T00:00:00",
          "2023-04-22T00:00:00",
          "2023-04-22T00:00:00",
          "2023-05-26T00:00:00",
          "2023-05-26T00:00:00",
          "2023-05-26T00:00:00",
          "2023-05-26T00:00:00",
          "2023-05-26T00:00:00",
          "2023-05-26T00:00:00",
          "2023-07-07T00:00:00",
          "2023-07-07T00:00:00",
          "2023-07-07T00:00:00",
          "2023-07-07T00:00:00",
          "2023-07-07T00:00:00",
          "2023-07-07T00:00:00",
          "2023-07-07T00:00:00",
          "2023-07-07T00:00:00",
          "2023-07-07T00:00:00",
          "2023-07-20T00:00:00",
          "2023-07-20T00:00:00",
          "2023-07-20T00:00:00",
          "2023-07-20T00:00:00",
          "2023-07-20T00:00:00",
          "2023-07-20T00:00:00",
          "2023-07-20T00:00:00",
          "2023-07-20T00:00:00",
          "2023-07-20T00:00:00",
          "2023-07-20T00:00:00",
          "2023-07-20T00:00:00",
          "2023-07-20T00:00:00",
          "2023-07-20T00:00:00",
          "2023-07-20T00:00:00",
          "2023-07-29T00:00:00",
          "2023-07-29T00:00:00",
          "2023-07-29T00:00:00",
          "2023-07-29T00:00:00",
          "2023-07-29T00:00:00",
          "2023-08-09T00:00:00",
          "2023-08-09T00:00:00",
          "2023-08-09T00:00:00",
          "2023-08-09T00:00:00",
          "2023-08-09T00:00:00",
          "2023-08-09T00:00:00",
          "2023-08-09T00:00:00",
          "2023-08-09T00:00:00",
          "2023-08-09T00:00:00",
          "2023-08-09T00:00:00",
          "2023-08-09T00:00:00",
          "2023-11-29T00:00:00",
          "2023-11-29T00:00:00",
          "2023-11-29T00:00:00"
         ],
         "xaxis": "x",
         "yaxis": "y"
        },
        {
         "alignmentgroup": "True",
         "bingroup": "x",
         "hovertemplate": "cluster=25<br>date=%{x}<br>count=%{y}<extra></extra>",
         "legendgroup": "25",
         "marker": {
          "color": "#B6E880",
          "pattern": {
           "shape": ""
          }
         },
         "name": "25",
         "nbinsx": 365,
         "offsetgroup": "25",
         "orientation": "v",
         "showlegend": true,
         "type": "histogram",
         "x": [
          "2023-03-17T00:00:00",
          "2023-03-17T00:00:00",
          "2023-03-17T00:00:00",
          "2023-03-17T00:00:00",
          "2023-03-17T00:00:00",
          "2023-03-17T00:00:00",
          "2023-03-17T00:00:00",
          "2023-03-17T00:00:00",
          "2023-03-18T00:00:00",
          "2023-03-18T00:00:00",
          "2023-03-18T00:00:00",
          "2023-03-18T00:00:00",
          "2023-03-18T00:00:00",
          "2023-03-18T00:00:00",
          "2023-03-18T00:00:00",
          "2023-03-18T00:00:00",
          "2023-03-18T00:00:00",
          "2023-03-18T00:00:00",
          "2023-03-18T00:00:00",
          "2023-03-18T00:00:00",
          "2023-03-18T00:00:00",
          "2023-03-18T00:00:00",
          "2023-03-18T00:00:00",
          "2023-03-18T00:00:00",
          "2023-03-18T00:00:00",
          "2023-03-18T00:00:00",
          "2023-03-18T00:00:00"
         ],
         "xaxis": "x",
         "yaxis": "y"
        },
        {
         "alignmentgroup": "True",
         "bingroup": "x",
         "hovertemplate": "cluster=26<br>date=%{x}<br>count=%{y}<extra></extra>",
         "legendgroup": "26",
         "marker": {
          "color": "#FF97FF",
          "pattern": {
           "shape": ""
          }
         },
         "name": "26",
         "nbinsx": 365,
         "offsetgroup": "26",
         "orientation": "v",
         "showlegend": true,
         "type": "histogram",
         "x": [
          "2023-03-21T00:00:00",
          "2023-03-21T00:00:00",
          "2023-03-21T00:00:00",
          "2023-03-21T00:00:00",
          "2023-03-21T00:00:00",
          "2023-03-21T00:00:00",
          "2023-03-22T00:00:00",
          "2023-03-22T00:00:00",
          "2023-03-22T00:00:00",
          "2023-03-22T00:00:00",
          "2023-03-22T00:00:00",
          "2023-03-22T00:00:00",
          "2023-03-22T00:00:00",
          "2023-03-22T00:00:00",
          "2023-03-22T00:00:00",
          "2023-03-22T00:00:00",
          "2023-03-22T00:00:00",
          "2023-03-22T00:00:00",
          "2023-03-22T00:00:00",
          "2023-03-22T00:00:00",
          "2023-03-22T00:00:00",
          "2023-03-22T00:00:00",
          "2023-03-22T00:00:00",
          "2023-03-22T00:00:00",
          "2023-03-22T00:00:00",
          "2023-03-22T00:00:00",
          "2023-03-22T00:00:00",
          "2023-03-24T00:00:00",
          "2023-03-24T00:00:00",
          "2023-03-24T00:00:00",
          "2023-03-24T00:00:00",
          "2023-03-24T00:00:00",
          "2023-03-24T00:00:00",
          "2023-03-24T00:00:00",
          "2023-03-24T00:00:00",
          "2023-03-24T00:00:00",
          "2023-03-24T00:00:00",
          "2023-03-24T00:00:00"
         ],
         "xaxis": "x",
         "yaxis": "y"
        },
        {
         "alignmentgroup": "True",
         "bingroup": "x",
         "hovertemplate": "cluster=14<br>date=%{x}<br>count=%{y}<extra></extra>",
         "legendgroup": "14",
         "marker": {
          "color": "#FECB52",
          "pattern": {
           "shape": ""
          }
         },
         "name": "14",
         "nbinsx": 365,
         "offsetgroup": "14",
         "orientation": "v",
         "showlegend": true,
         "type": "histogram",
         "x": [
          "2023-04-12T00:00:00",
          "2023-04-12T00:00:00",
          "2023-04-12T00:00:00",
          "2023-04-12T00:00:00",
          "2023-04-12T00:00:00",
          "2023-04-12T00:00:00",
          "2023-04-12T00:00:00",
          "2023-04-12T00:00:00",
          "2023-04-12T00:00:00",
          "2023-04-12T00:00:00",
          "2023-04-12T00:00:00",
          "2023-04-12T00:00:00",
          "2023-04-12T00:00:00",
          "2023-04-12T00:00:00",
          "2023-04-12T00:00:00",
          "2023-04-12T00:00:00",
          "2023-04-12T00:00:00",
          "2023-04-15T00:00:00",
          "2023-04-15T00:00:00",
          "2023-04-15T00:00:00",
          "2023-04-15T00:00:00",
          "2023-04-15T00:00:00",
          "2023-04-15T00:00:00",
          "2023-04-15T00:00:00",
          "2023-04-15T00:00:00",
          "2023-04-18T00:00:00",
          "2023-04-18T00:00:00",
          "2023-04-18T00:00:00",
          "2023-04-18T00:00:00"
         ],
         "xaxis": "x",
         "yaxis": "y"
        },
        {
         "alignmentgroup": "True",
         "bingroup": "x",
         "hovertemplate": "cluster=3<br>date=%{x}<br>count=%{y}<extra></extra>",
         "legendgroup": "3",
         "marker": {
          "color": "#636efa",
          "pattern": {
           "shape": ""
          }
         },
         "name": "3",
         "nbinsx": 365,
         "offsetgroup": "3",
         "orientation": "v",
         "showlegend": true,
         "type": "histogram",
         "x": [
          "2023-04-27T00:00:00",
          "2023-04-27T00:00:00",
          "2023-04-27T00:00:00",
          "2023-04-27T00:00:00",
          "2023-04-27T00:00:00",
          "2023-04-27T00:00:00",
          "2023-04-27T00:00:00",
          "2023-04-27T00:00:00",
          "2023-04-27T00:00:00",
          "2023-04-30T00:00:00",
          "2023-04-30T00:00:00",
          "2023-04-30T00:00:00",
          "2023-05-02T00:00:00",
          "2023-05-02T00:00:00",
          "2023-05-05T00:00:00",
          "2023-05-05T00:00:00",
          "2023-05-07T00:00:00",
          "2023-05-07T00:00:00",
          "2023-05-10T00:00:00",
          "2023-05-10T00:00:00",
          "2023-05-10T00:00:00",
          "2023-05-10T00:00:00",
          "2023-05-10T00:00:00",
          "2023-05-10T00:00:00",
          "2023-05-10T00:00:00",
          "2023-05-10T00:00:00",
          "2023-05-10T00:00:00",
          "2023-05-10T00:00:00",
          "2023-05-10T00:00:00",
          "2023-05-10T00:00:00",
          "2023-05-10T00:00:00",
          "2023-05-10T00:00:00",
          "2023-05-10T00:00:00",
          "2023-05-10T00:00:00"
         ],
         "xaxis": "x",
         "yaxis": "y"
        },
        {
         "alignmentgroup": "True",
         "bingroup": "x",
         "hovertemplate": "cluster=8<br>date=%{x}<br>count=%{y}<extra></extra>",
         "legendgroup": "8",
         "marker": {
          "color": "#EF553B",
          "pattern": {
           "shape": ""
          }
         },
         "name": "8",
         "nbinsx": 365,
         "offsetgroup": "8",
         "orientation": "v",
         "showlegend": true,
         "type": "histogram",
         "x": [
          "2023-05-19T00:00:00",
          "2023-05-19T00:00:00",
          "2023-05-19T00:00:00",
          "2023-05-19T00:00:00",
          "2023-05-19T00:00:00",
          "2023-05-19T00:00:00",
          "2023-05-19T00:00:00",
          "2023-05-19T00:00:00",
          "2023-05-19T00:00:00",
          "2023-05-19T00:00:00",
          "2023-05-19T00:00:00",
          "2023-05-19T00:00:00",
          "2023-05-19T00:00:00",
          "2023-05-19T00:00:00",
          "2023-05-19T00:00:00",
          "2023-05-19T00:00:00",
          "2023-05-19T00:00:00",
          "2023-05-19T00:00:00",
          "2023-05-19T00:00:00",
          "2023-05-19T00:00:00",
          "2023-05-19T00:00:00",
          "2023-05-19T00:00:00",
          "2023-05-19T00:00:00",
          "2023-05-19T00:00:00",
          "2023-05-19T00:00:00"
         ],
         "xaxis": "x",
         "yaxis": "y"
        },
        {
         "alignmentgroup": "True",
         "bingroup": "x",
         "hovertemplate": "cluster=9<br>date=%{x}<br>count=%{y}<extra></extra>",
         "legendgroup": "9",
         "marker": {
          "color": "#00cc96",
          "pattern": {
           "shape": ""
          }
         },
         "name": "9",
         "nbinsx": 365,
         "offsetgroup": "9",
         "orientation": "v",
         "showlegend": true,
         "type": "histogram",
         "x": [
          "2023-05-22T00:00:00",
          "2023-05-22T00:00:00",
          "2023-05-23T00:00:00",
          "2023-05-23T00:00:00",
          "2023-05-23T00:00:00",
          "2023-05-23T00:00:00",
          "2023-05-23T00:00:00",
          "2023-05-23T00:00:00",
          "2023-05-23T00:00:00",
          "2023-05-23T00:00:00",
          "2023-05-23T00:00:00",
          "2023-05-23T00:00:00",
          "2023-05-23T00:00:00",
          "2023-05-23T00:00:00",
          "2023-05-23T00:00:00",
          "2023-05-23T00:00:00",
          "2023-05-23T00:00:00",
          "2023-05-23T00:00:00",
          "2023-05-23T00:00:00",
          "2023-05-23T00:00:00",
          "2023-05-23T00:00:00",
          "2023-05-23T00:00:00"
         ],
         "xaxis": "x",
         "yaxis": "y"
        },
        {
         "alignmentgroup": "True",
         "bingroup": "x",
         "hovertemplate": "cluster=15<br>date=%{x}<br>count=%{y}<extra></extra>",
         "legendgroup": "15",
         "marker": {
          "color": "#ab63fa",
          "pattern": {
           "shape": ""
          }
         },
         "name": "15",
         "nbinsx": 365,
         "offsetgroup": "15",
         "orientation": "v",
         "showlegend": true,
         "type": "histogram",
         "x": [
          "2023-06-02T00:00:00",
          "2023-06-02T00:00:00",
          "2023-06-02T00:00:00",
          "2023-06-02T00:00:00",
          "2023-06-02T00:00:00",
          "2023-06-07T00:00:00",
          "2023-06-07T00:00:00",
          "2023-06-07T00:00:00",
          "2023-06-07T00:00:00",
          "2023-06-07T00:00:00",
          "2023-06-07T00:00:00",
          "2023-06-07T00:00:00",
          "2023-06-07T00:00:00",
          "2023-06-07T00:00:00",
          "2023-06-09T00:00:00",
          "2023-06-09T00:00:00",
          "2023-06-09T00:00:00",
          "2023-06-09T00:00:00",
          "2023-06-09T00:00:00",
          "2023-06-09T00:00:00",
          "2023-06-09T00:00:00",
          "2023-06-09T00:00:00",
          "2023-06-09T00:00:00",
          "2023-06-09T00:00:00",
          "2023-06-10T00:00:00",
          "2023-06-10T00:00:00",
          "2023-06-10T00:00:00",
          "2023-06-10T00:00:00"
         ],
         "xaxis": "x",
         "yaxis": "y"
        },
        {
         "alignmentgroup": "True",
         "bingroup": "x",
         "hovertemplate": "cluster=19<br>date=%{x}<br>count=%{y}<extra></extra>",
         "legendgroup": "19",
         "marker": {
          "color": "#FFA15A",
          "pattern": {
           "shape": ""
          }
         },
         "name": "19",
         "nbinsx": 365,
         "offsetgroup": "19",
         "orientation": "v",
         "showlegend": true,
         "type": "histogram",
         "x": [
          "2023-06-15T00:00:00",
          "2023-06-15T00:00:00",
          "2023-06-15T00:00:00",
          "2023-06-15T00:00:00",
          "2023-06-15T00:00:00",
          "2023-06-15T00:00:00",
          "2023-06-15T00:00:00",
          "2023-06-15T00:00:00",
          "2023-06-15T00:00:00",
          "2023-06-15T00:00:00",
          "2023-06-15T00:00:00",
          "2023-06-15T00:00:00",
          "2023-06-16T00:00:00",
          "2023-06-16T00:00:00",
          "2023-06-16T00:00:00",
          "2023-06-16T00:00:00",
          "2023-06-16T00:00:00",
          "2023-06-16T00:00:00",
          "2023-06-16T00:00:00",
          "2023-06-16T00:00:00",
          "2023-06-16T00:00:00",
          "2023-06-16T00:00:00",
          "2023-06-16T00:00:00"
         ],
         "xaxis": "x",
         "yaxis": "y"
        },
        {
         "alignmentgroup": "True",
         "bingroup": "x",
         "hovertemplate": "cluster=20<br>date=%{x}<br>count=%{y}<extra></extra>",
         "legendgroup": "20",
         "marker": {
          "color": "#19d3f3",
          "pattern": {
           "shape": ""
          }
         },
         "name": "20",
         "nbinsx": 365,
         "offsetgroup": "20",
         "orientation": "v",
         "showlegend": true,
         "type": "histogram",
         "x": [
          "2023-06-20T00:00:00",
          "2023-06-20T00:00:00",
          "2023-06-20T00:00:00",
          "2023-06-20T00:00:00",
          "2023-06-20T00:00:00",
          "2023-06-20T00:00:00",
          "2023-06-20T00:00:00",
          "2023-06-20T00:00:00",
          "2023-06-20T00:00:00",
          "2023-06-24T00:00:00",
          "2023-06-24T00:00:00",
          "2023-06-24T00:00:00",
          "2023-06-24T00:00:00",
          "2023-06-24T00:00:00",
          "2023-06-24T00:00:00",
          "2023-06-24T00:00:00",
          "2023-06-24T00:00:00",
          "2023-06-24T00:00:00",
          "2023-06-24T00:00:00",
          "2023-06-24T00:00:00",
          "2023-06-24T00:00:00",
          "2023-06-24T00:00:00",
          "2023-06-24T00:00:00",
          "2023-06-26T00:00:00",
          "2023-06-26T00:00:00",
          "2023-06-26T00:00:00",
          "2023-06-26T00:00:00",
          "2023-06-28T00:00:00",
          "2023-06-28T00:00:00",
          "2023-06-28T00:00:00",
          "2023-06-28T00:00:00",
          "2023-06-28T00:00:00",
          "2023-06-28T00:00:00",
          "2023-06-28T00:00:00",
          "2023-06-28T00:00:00",
          "2023-06-28T00:00:00",
          "2023-06-28T00:00:00",
          "2023-06-28T00:00:00",
          "2023-06-28T00:00:00",
          "2023-06-28T00:00:00",
          "2023-06-28T00:00:00",
          "2023-06-28T00:00:00",
          "2023-06-28T00:00:00",
          "2023-06-28T00:00:00",
          "2023-06-28T00:00:00",
          "2023-06-30T00:00:00",
          "2023-06-30T00:00:00",
          "2023-06-30T00:00:00",
          "2023-06-30T00:00:00",
          "2023-06-30T00:00:00",
          "2023-06-30T00:00:00",
          "2023-06-30T00:00:00",
          "2023-06-30T00:00:00",
          "2023-06-30T00:00:00",
          "2023-06-30T00:00:00",
          "2023-06-30T00:00:00",
          "2023-07-03T00:00:00",
          "2023-07-03T00:00:00",
          "2023-07-03T00:00:00",
          "2023-07-03T00:00:00",
          "2023-07-03T00:00:00",
          "2023-07-03T00:00:00",
          "2023-07-03T00:00:00",
          "2023-07-03T00:00:00",
          "2023-07-03T00:00:00",
          "2023-07-03T00:00:00",
          "2023-07-03T00:00:00",
          "2023-07-03T00:00:00"
         ],
         "xaxis": "x",
         "yaxis": "y"
        },
        {
         "alignmentgroup": "True",
         "bingroup": "x",
         "hovertemplate": "cluster=10<br>date=%{x}<br>count=%{y}<extra></extra>",
         "legendgroup": "10",
         "marker": {
          "color": "#FF6692",
          "pattern": {
           "shape": ""
          }
         },
         "name": "10",
         "nbinsx": 365,
         "offsetgroup": "10",
         "orientation": "v",
         "showlegend": true,
         "type": "histogram",
         "x": [
          "2023-07-12T00:00:00",
          "2023-07-12T00:00:00",
          "2023-07-12T00:00:00",
          "2023-07-12T00:00:00",
          "2023-07-12T00:00:00",
          "2023-07-12T00:00:00",
          "2023-07-12T00:00:00",
          "2023-07-12T00:00:00",
          "2023-07-14T00:00:00",
          "2023-07-14T00:00:00",
          "2023-07-14T00:00:00",
          "2023-07-14T00:00:00",
          "2023-07-14T00:00:00",
          "2023-07-14T00:00:00",
          "2023-07-14T00:00:00",
          "2023-07-14T00:00:00",
          "2023-07-14T00:00:00",
          "2023-07-14T00:00:00",
          "2023-07-14T00:00:00",
          "2023-07-14T00:00:00",
          "2023-07-14T00:00:00",
          "2023-07-14T00:00:00",
          "2023-07-14T00:00:00",
          "2023-07-14T00:00:00",
          "2023-07-14T00:00:00"
         ],
         "xaxis": "x",
         "yaxis": "y"
        },
        {
         "alignmentgroup": "True",
         "bingroup": "x",
         "hovertemplate": "cluster=23<br>date=%{x}<br>count=%{y}<extra></extra>",
         "legendgroup": "23",
         "marker": {
          "color": "#B6E880",
          "pattern": {
           "shape": ""
          }
         },
         "name": "23",
         "nbinsx": 365,
         "offsetgroup": "23",
         "orientation": "v",
         "showlegend": true,
         "type": "histogram",
         "x": [
          "2023-07-24T00:00:00",
          "2023-07-24T00:00:00",
          "2023-07-24T00:00:00",
          "2023-07-24T00:00:00",
          "2023-07-24T00:00:00",
          "2023-07-24T00:00:00",
          "2023-07-24T00:00:00",
          "2023-07-24T00:00:00",
          "2023-07-24T00:00:00",
          "2023-07-24T00:00:00",
          "2023-07-24T00:00:00",
          "2023-07-24T00:00:00",
          "2023-07-24T00:00:00",
          "2023-07-24T00:00:00",
          "2023-07-24T00:00:00",
          "2023-07-24T00:00:00",
          "2023-07-24T00:00:00",
          "2023-07-24T00:00:00",
          "2023-07-24T00:00:00",
          "2023-07-24T00:00:00"
         ],
         "xaxis": "x",
         "yaxis": "y"
        },
        {
         "alignmentgroup": "True",
         "bingroup": "x",
         "hovertemplate": "cluster=24<br>date=%{x}<br>count=%{y}<extra></extra>",
         "legendgroup": "24",
         "marker": {
          "color": "#FF97FF",
          "pattern": {
           "shape": ""
          }
         },
         "name": "24",
         "nbinsx": 365,
         "offsetgroup": "24",
         "orientation": "v",
         "showlegend": true,
         "type": "histogram",
         "x": [
          "2023-07-26T00:00:00",
          "2023-07-26T00:00:00",
          "2023-07-26T00:00:00",
          "2023-07-26T00:00:00",
          "2023-07-26T00:00:00",
          "2023-07-26T00:00:00",
          "2023-07-26T00:00:00",
          "2023-07-26T00:00:00",
          "2023-07-26T00:00:00",
          "2023-07-26T00:00:00",
          "2023-07-26T00:00:00",
          "2023-07-26T00:00:00",
          "2023-07-26T00:00:00",
          "2023-07-26T00:00:00",
          "2023-07-26T00:00:00",
          "2023-07-26T00:00:00",
          "2023-07-26T00:00:00",
          "2023-07-26T00:00:00",
          "2023-07-26T00:00:00",
          "2023-07-26T00:00:00",
          "2023-07-26T00:00:00"
         ],
         "xaxis": "x",
         "yaxis": "y"
        },
        {
         "alignmentgroup": "True",
         "bingroup": "x",
         "hovertemplate": "cluster=18<br>date=%{x}<br>count=%{y}<extra></extra>",
         "legendgroup": "18",
         "marker": {
          "color": "#FECB52",
          "pattern": {
           "shape": ""
          }
         },
         "name": "18",
         "nbinsx": 365,
         "offsetgroup": "18",
         "orientation": "v",
         "showlegend": true,
         "type": "histogram",
         "x": [
          "2023-08-02T00:00:00",
          "2023-08-02T00:00:00",
          "2023-08-02T00:00:00",
          "2023-08-02T00:00:00",
          "2023-08-02T00:00:00",
          "2023-08-02T00:00:00",
          "2023-08-04T00:00:00",
          "2023-08-04T00:00:00",
          "2023-08-04T00:00:00",
          "2023-08-04T00:00:00",
          "2023-08-04T00:00:00",
          "2023-08-04T00:00:00",
          "2023-08-04T00:00:00",
          "2023-08-04T00:00:00",
          "2023-08-04T00:00:00",
          "2023-08-04T00:00:00",
          "2023-08-04T00:00:00",
          "2023-08-04T00:00:00",
          "2023-08-04T00:00:00",
          "2023-08-04T00:00:00",
          "2023-08-04T00:00:00",
          "2023-08-04T00:00:00"
         ],
         "xaxis": "x",
         "yaxis": "y"
        },
        {
         "alignmentgroup": "True",
         "bingroup": "x",
         "hovertemplate": "cluster=4<br>date=%{x}<br>count=%{y}<extra></extra>",
         "legendgroup": "4",
         "marker": {
          "color": "#636efa",
          "pattern": {
           "shape": ""
          }
         },
         "name": "4",
         "nbinsx": 365,
         "offsetgroup": "4",
         "orientation": "v",
         "showlegend": true,
         "type": "histogram",
         "x": [
          "2023-08-18T00:00:00",
          "2023-08-18T00:00:00",
          "2023-08-18T00:00:00",
          "2023-08-18T00:00:00",
          "2023-08-18T00:00:00",
          "2023-08-18T00:00:00",
          "2023-08-18T00:00:00",
          "2023-08-18T00:00:00",
          "2023-08-18T00:00:00",
          "2023-08-18T00:00:00",
          "2023-08-19T00:00:00",
          "2023-08-19T00:00:00",
          "2023-08-19T00:00:00",
          "2023-08-19T00:00:00",
          "2023-08-19T00:00:00",
          "2023-08-19T00:00:00",
          "2023-08-23T00:00:00",
          "2023-08-23T00:00:00",
          "2023-08-23T00:00:00",
          "2023-08-23T00:00:00",
          "2023-08-23T00:00:00",
          "2023-08-23T00:00:00",
          "2023-08-23T00:00:00",
          "2023-08-23T00:00:00",
          "2023-08-23T00:00:00",
          "2023-08-23T00:00:00",
          "2023-08-23T00:00:00",
          "2023-08-25T00:00:00",
          "2023-08-25T00:00:00",
          "2023-08-25T00:00:00",
          "2023-08-25T00:00:00",
          "2023-08-25T00:00:00",
          "2023-08-25T00:00:00",
          "2023-08-25T00:00:00",
          "2023-08-25T00:00:00",
          "2023-08-25T00:00:00",
          "2023-08-25T00:00:00",
          "2023-08-25T00:00:00",
          "2023-08-25T00:00:00",
          "2023-08-26T00:00:00",
          "2023-08-26T00:00:00",
          "2023-08-26T00:00:00",
          "2023-08-26T00:00:00",
          "2023-08-26T00:00:00",
          "2023-08-26T00:00:00",
          "2023-08-26T00:00:00"
         ],
         "xaxis": "x",
         "yaxis": "y"
        },
        {
         "alignmentgroup": "True",
         "bingroup": "x",
         "hovertemplate": "cluster=5<br>date=%{x}<br>count=%{y}<extra></extra>",
         "legendgroup": "5",
         "marker": {
          "color": "#EF553B",
          "pattern": {
           "shape": ""
          }
         },
         "name": "5",
         "nbinsx": 365,
         "offsetgroup": "5",
         "orientation": "v",
         "showlegend": true,
         "type": "histogram",
         "x": [
          "2023-08-31T00:00:00",
          "2023-08-31T00:00:00",
          "2023-08-31T00:00:00",
          "2023-08-31T00:00:00",
          "2023-08-31T00:00:00",
          "2023-08-31T00:00:00",
          "2023-08-31T00:00:00",
          "2023-09-02T00:00:00",
          "2023-09-02T00:00:00",
          "2023-09-02T00:00:00",
          "2023-09-02T00:00:00",
          "2023-09-02T00:00:00",
          "2023-09-02T00:00:00",
          "2023-09-02T00:00:00",
          "2023-09-02T00:00:00",
          "2023-09-02T00:00:00",
          "2023-09-02T00:00:00",
          "2023-09-02T00:00:00",
          "2023-09-02T00:00:00",
          "2023-09-06T00:00:00",
          "2023-09-06T00:00:00",
          "2023-09-06T00:00:00",
          "2023-09-06T00:00:00",
          "2023-09-06T00:00:00",
          "2023-09-06T00:00:00",
          "2023-09-06T00:00:00",
          "2023-09-06T00:00:00",
          "2023-09-06T00:00:00",
          "2023-09-06T00:00:00"
         ],
         "xaxis": "x",
         "yaxis": "y"
        },
        {
         "alignmentgroup": "True",
         "bingroup": "x",
         "hovertemplate": "cluster=11<br>date=%{x}<br>count=%{y}<extra></extra>",
         "legendgroup": "11",
         "marker": {
          "color": "#00cc96",
          "pattern": {
           "shape": ""
          }
         },
         "name": "11",
         "nbinsx": 365,
         "offsetgroup": "11",
         "orientation": "v",
         "showlegend": true,
         "type": "histogram",
         "x": [
          "2023-09-15T00:00:00",
          "2023-09-15T00:00:00",
          "2023-09-15T00:00:00",
          "2023-09-15T00:00:00",
          "2023-09-15T00:00:00",
          "2023-09-15T00:00:00",
          "2023-09-15T00:00:00",
          "2023-09-15T00:00:00",
          "2023-09-15T00:00:00",
          "2023-09-15T00:00:00",
          "2023-09-15T00:00:00",
          "2023-09-15T00:00:00",
          "2023-09-15T00:00:00",
          "2023-09-15T00:00:00",
          "2023-09-15T00:00:00",
          "2023-09-15T00:00:00",
          "2023-09-15T00:00:00",
          "2023-09-15T00:00:00",
          "2023-09-15T00:00:00",
          "2023-09-15T00:00:00",
          "2023-09-15T00:00:00",
          "2023-09-15T00:00:00",
          "2023-09-15T00:00:00",
          "2023-09-16T00:00:00",
          "2023-09-16T00:00:00"
         ],
         "xaxis": "x",
         "yaxis": "y"
        },
        {
         "alignmentgroup": "True",
         "bingroup": "x",
         "hovertemplate": "cluster=12<br>date=%{x}<br>count=%{y}<extra></extra>",
         "legendgroup": "12",
         "marker": {
          "color": "#ab63fa",
          "pattern": {
           "shape": ""
          }
         },
         "name": "12",
         "nbinsx": 365,
         "offsetgroup": "12",
         "orientation": "v",
         "showlegend": true,
         "type": "histogram",
         "x": [
          "2023-09-20T00:00:00",
          "2023-09-20T00:00:00",
          "2023-09-20T00:00:00",
          "2023-09-20T00:00:00",
          "2023-09-20T00:00:00",
          "2023-09-20T00:00:00",
          "2023-09-20T00:00:00",
          "2023-09-20T00:00:00",
          "2023-09-20T00:00:00",
          "2023-09-20T00:00:00",
          "2023-09-20T00:00:00",
          "2023-09-20T00:00:00",
          "2023-09-20T00:00:00",
          "2023-09-20T00:00:00",
          "2023-09-20T00:00:00",
          "2023-09-20T00:00:00",
          "2023-09-20T00:00:00",
          "2023-09-20T00:00:00",
          "2023-09-20T00:00:00",
          "2023-09-20T00:00:00",
          "2023-09-20T00:00:00",
          "2023-09-23T00:00:00",
          "2023-09-23T00:00:00",
          "2023-09-23T00:00:00",
          "2023-09-23T00:00:00",
          "2023-09-23T00:00:00",
          "2023-09-23T00:00:00",
          "2023-09-23T00:00:00",
          "2023-09-23T00:00:00"
         ],
         "xaxis": "x",
         "yaxis": "y"
        },
        {
         "alignmentgroup": "True",
         "bingroup": "x",
         "hovertemplate": "cluster=6<br>date=%{x}<br>count=%{y}<extra></extra>",
         "legendgroup": "6",
         "marker": {
          "color": "#FFA15A",
          "pattern": {
           "shape": ""
          }
         },
         "name": "6",
         "nbinsx": 365,
         "offsetgroup": "6",
         "orientation": "v",
         "showlegend": true,
         "type": "histogram",
         "x": [
          "2023-09-30T00:00:00",
          "2023-09-30T00:00:00",
          "2023-09-30T00:00:00",
          "2023-10-03T00:00:00",
          "2023-10-03T00:00:00",
          "2023-10-07T00:00:00",
          "2023-10-07T00:00:00",
          "2023-10-07T00:00:00",
          "2023-10-07T00:00:00",
          "2023-10-07T00:00:00",
          "2023-10-07T00:00:00",
          "2023-10-07T00:00:00",
          "2023-10-11T00:00:00",
          "2023-10-11T00:00:00",
          "2023-10-11T00:00:00",
          "2023-10-11T00:00:00",
          "2023-10-11T00:00:00",
          "2023-10-13T00:00:00",
          "2023-10-13T00:00:00",
          "2023-10-13T00:00:00",
          "2023-10-13T00:00:00",
          "2023-10-13T00:00:00",
          "2023-10-13T00:00:00",
          "2023-10-13T00:00:00",
          "2023-10-13T00:00:00",
          "2023-10-13T00:00:00",
          "2023-10-19T00:00:00",
          "2023-10-19T00:00:00",
          "2023-10-19T00:00:00",
          "2023-10-19T00:00:00",
          "2023-10-19T00:00:00",
          "2023-10-19T00:00:00",
          "2023-10-19T00:00:00",
          "2023-10-19T00:00:00",
          "2023-10-20T00:00:00",
          "2023-10-20T00:00:00",
          "2023-10-20T00:00:00"
         ],
         "xaxis": "x",
         "yaxis": "y"
        },
        {
         "alignmentgroup": "True",
         "bingroup": "x",
         "hovertemplate": "cluster=7<br>date=%{x}<br>count=%{y}<extra></extra>",
         "legendgroup": "7",
         "marker": {
          "color": "#19d3f3",
          "pattern": {
           "shape": ""
          }
         },
         "name": "7",
         "nbinsx": 365,
         "offsetgroup": "7",
         "orientation": "v",
         "showlegend": true,
         "type": "histogram",
         "x": [
          "2023-10-27T00:00:00",
          "2023-10-27T00:00:00",
          "2023-10-31T00:00:00",
          "2023-10-31T00:00:00",
          "2023-10-31T00:00:00",
          "2023-10-31T00:00:00",
          "2023-10-31T00:00:00",
          "2023-10-31T00:00:00",
          "2023-10-31T00:00:00",
          "2023-10-31T00:00:00",
          "2023-10-31T00:00:00",
          "2023-10-31T00:00:00",
          "2023-10-31T00:00:00",
          "2023-10-31T00:00:00",
          "2023-10-31T00:00:00",
          "2023-10-31T00:00:00",
          "2023-10-31T00:00:00",
          "2023-11-04T00:00:00",
          "2023-11-04T00:00:00",
          "2023-11-04T00:00:00",
          "2023-11-04T00:00:00",
          "2023-11-04T00:00:00",
          "2023-11-04T00:00:00"
         ],
         "xaxis": "x",
         "yaxis": "y"
        },
        {
         "alignmentgroup": "True",
         "bingroup": "x",
         "hovertemplate": "cluster=21<br>date=%{x}<br>count=%{y}<extra></extra>",
         "legendgroup": "21",
         "marker": {
          "color": "#FF6692",
          "pattern": {
           "shape": ""
          }
         },
         "name": "21",
         "nbinsx": 365,
         "offsetgroup": "21",
         "orientation": "v",
         "showlegend": true,
         "type": "histogram",
         "x": [
          "2023-11-08T00:00:00",
          "2023-11-08T00:00:00",
          "2023-11-08T00:00:00",
          "2023-11-08T00:00:00",
          "2023-11-10T00:00:00",
          "2023-11-10T00:00:00",
          "2023-11-10T00:00:00",
          "2023-11-10T00:00:00",
          "2023-11-10T00:00:00",
          "2023-11-10T00:00:00",
          "2023-11-10T00:00:00",
          "2023-11-10T00:00:00",
          "2023-11-10T00:00:00",
          "2023-11-10T00:00:00",
          "2023-11-10T00:00:00",
          "2023-11-10T00:00:00",
          "2023-11-10T00:00:00",
          "2023-11-10T00:00:00",
          "2023-11-10T00:00:00",
          "2023-11-10T00:00:00",
          "2023-11-13T00:00:00",
          "2023-11-13T00:00:00",
          "2023-11-13T00:00:00",
          "2023-11-13T00:00:00",
          "2023-11-13T00:00:00",
          "2023-11-16T00:00:00",
          "2023-11-16T00:00:00",
          "2023-11-19T00:00:00",
          "2023-11-19T00:00:00",
          "2023-11-19T00:00:00",
          "2023-11-19T00:00:00"
         ],
         "xaxis": "x",
         "yaxis": "y"
        },
        {
         "alignmentgroup": "True",
         "bingroup": "x",
         "hovertemplate": "cluster=22<br>date=%{x}<br>count=%{y}<extra></extra>",
         "legendgroup": "22",
         "marker": {
          "color": "#B6E880",
          "pattern": {
           "shape": ""
          }
         },
         "name": "22",
         "nbinsx": 365,
         "offsetgroup": "22",
         "orientation": "v",
         "showlegend": true,
         "type": "histogram",
         "x": [
          "2023-11-22T00:00:00",
          "2023-11-22T00:00:00",
          "2023-11-22T00:00:00",
          "2023-11-22T00:00:00",
          "2023-11-24T00:00:00",
          "2023-11-24T00:00:00",
          "2023-11-24T00:00:00",
          "2023-11-24T00:00:00",
          "2023-11-25T00:00:00",
          "2023-11-25T00:00:00",
          "2023-11-25T00:00:00",
          "2023-11-25T00:00:00",
          "2023-11-25T00:00:00",
          "2023-11-25T00:00:00",
          "2023-11-25T00:00:00",
          "2023-11-25T00:00:00",
          "2023-11-25T00:00:00",
          "2023-11-25T00:00:00",
          "2023-11-25T00:00:00",
          "2023-11-25T00:00:00",
          "2023-11-25T00:00:00",
          "2023-11-25T00:00:00",
          "2023-11-25T00:00:00",
          "2023-11-25T00:00:00",
          "2023-11-25T00:00:00",
          "2023-11-25T00:00:00",
          "2023-11-25T00:00:00",
          "2023-11-25T00:00:00",
          "2023-11-25T00:00:00",
          "2023-11-25T00:00:00",
          "2023-11-25T00:00:00",
          "2023-11-25T00:00:00",
          "2023-11-25T00:00:00",
          "2023-11-25T00:00:00",
          "2023-11-25T00:00:00",
          "2023-11-25T00:00:00"
         ],
         "xaxis": "x",
         "yaxis": "y"
        }
       ],
       "layout": {
        "barmode": "relative",
        "legend": {
         "title": {
          "text": "cluster"
         },
         "tracegroupgap": 0
        },
        "margin": {
         "t": 60
        },
        "template": {
         "data": {
          "bar": [
           {
            "error_x": {
             "color": "#2a3f5f"
            },
            "error_y": {
             "color": "#2a3f5f"
            },
            "marker": {
             "line": {
              "color": "#E5ECF6",
              "width": 0.5
             },
             "pattern": {
              "fillmode": "overlay",
              "size": 10,
              "solidity": 0.2
             }
            },
            "type": "bar"
           }
          ],
          "barpolar": [
           {
            "marker": {
             "line": {
              "color": "#E5ECF6",
              "width": 0.5
             },
             "pattern": {
              "fillmode": "overlay",
              "size": 10,
              "solidity": 0.2
             }
            },
            "type": "barpolar"
           }
          ],
          "carpet": [
           {
            "aaxis": {
             "endlinecolor": "#2a3f5f",
             "gridcolor": "white",
             "linecolor": "white",
             "minorgridcolor": "white",
             "startlinecolor": "#2a3f5f"
            },
            "baxis": {
             "endlinecolor": "#2a3f5f",
             "gridcolor": "white",
             "linecolor": "white",
             "minorgridcolor": "white",
             "startlinecolor": "#2a3f5f"
            },
            "type": "carpet"
           }
          ],
          "choropleth": [
           {
            "colorbar": {
             "outlinewidth": 0,
             "ticks": ""
            },
            "type": "choropleth"
           }
          ],
          "contour": [
           {
            "colorbar": {
             "outlinewidth": 0,
             "ticks": ""
            },
            "colorscale": [
             [
              0,
              "#0d0887"
             ],
             [
              0.1111111111111111,
              "#46039f"
             ],
             [
              0.2222222222222222,
              "#7201a8"
             ],
             [
              0.3333333333333333,
              "#9c179e"
             ],
             [
              0.4444444444444444,
              "#bd3786"
             ],
             [
              0.5555555555555556,
              "#d8576b"
             ],
             [
              0.6666666666666666,
              "#ed7953"
             ],
             [
              0.7777777777777778,
              "#fb9f3a"
             ],
             [
              0.8888888888888888,
              "#fdca26"
             ],
             [
              1,
              "#f0f921"
             ]
            ],
            "type": "contour"
           }
          ],
          "contourcarpet": [
           {
            "colorbar": {
             "outlinewidth": 0,
             "ticks": ""
            },
            "type": "contourcarpet"
           }
          ],
          "heatmap": [
           {
            "colorbar": {
             "outlinewidth": 0,
             "ticks": ""
            },
            "colorscale": [
             [
              0,
              "#0d0887"
             ],
             [
              0.1111111111111111,
              "#46039f"
             ],
             [
              0.2222222222222222,
              "#7201a8"
             ],
             [
              0.3333333333333333,
              "#9c179e"
             ],
             [
              0.4444444444444444,
              "#bd3786"
             ],
             [
              0.5555555555555556,
              "#d8576b"
             ],
             [
              0.6666666666666666,
              "#ed7953"
             ],
             [
              0.7777777777777778,
              "#fb9f3a"
             ],
             [
              0.8888888888888888,
              "#fdca26"
             ],
             [
              1,
              "#f0f921"
             ]
            ],
            "type": "heatmap"
           }
          ],
          "heatmapgl": [
           {
            "colorbar": {
             "outlinewidth": 0,
             "ticks": ""
            },
            "colorscale": [
             [
              0,
              "#0d0887"
             ],
             [
              0.1111111111111111,
              "#46039f"
             ],
             [
              0.2222222222222222,
              "#7201a8"
             ],
             [
              0.3333333333333333,
              "#9c179e"
             ],
             [
              0.4444444444444444,
              "#bd3786"
             ],
             [
              0.5555555555555556,
              "#d8576b"
             ],
             [
              0.6666666666666666,
              "#ed7953"
             ],
             [
              0.7777777777777778,
              "#fb9f3a"
             ],
             [
              0.8888888888888888,
              "#fdca26"
             ],
             [
              1,
              "#f0f921"
             ]
            ],
            "type": "heatmapgl"
           }
          ],
          "histogram": [
           {
            "marker": {
             "pattern": {
              "fillmode": "overlay",
              "size": 10,
              "solidity": 0.2
             }
            },
            "type": "histogram"
           }
          ],
          "histogram2d": [
           {
            "colorbar": {
             "outlinewidth": 0,
             "ticks": ""
            },
            "colorscale": [
             [
              0,
              "#0d0887"
             ],
             [
              0.1111111111111111,
              "#46039f"
             ],
             [
              0.2222222222222222,
              "#7201a8"
             ],
             [
              0.3333333333333333,
              "#9c179e"
             ],
             [
              0.4444444444444444,
              "#bd3786"
             ],
             [
              0.5555555555555556,
              "#d8576b"
             ],
             [
              0.6666666666666666,
              "#ed7953"
             ],
             [
              0.7777777777777778,
              "#fb9f3a"
             ],
             [
              0.8888888888888888,
              "#fdca26"
             ],
             [
              1,
              "#f0f921"
             ]
            ],
            "type": "histogram2d"
           }
          ],
          "histogram2dcontour": [
           {
            "colorbar": {
             "outlinewidth": 0,
             "ticks": ""
            },
            "colorscale": [
             [
              0,
              "#0d0887"
             ],
             [
              0.1111111111111111,
              "#46039f"
             ],
             [
              0.2222222222222222,
              "#7201a8"
             ],
             [
              0.3333333333333333,
              "#9c179e"
             ],
             [
              0.4444444444444444,
              "#bd3786"
             ],
             [
              0.5555555555555556,
              "#d8576b"
             ],
             [
              0.6666666666666666,
              "#ed7953"
             ],
             [
              0.7777777777777778,
              "#fb9f3a"
             ],
             [
              0.8888888888888888,
              "#fdca26"
             ],
             [
              1,
              "#f0f921"
             ]
            ],
            "type": "histogram2dcontour"
           }
          ],
          "mesh3d": [
           {
            "colorbar": {
             "outlinewidth": 0,
             "ticks": ""
            },
            "type": "mesh3d"
           }
          ],
          "parcoords": [
           {
            "line": {
             "colorbar": {
              "outlinewidth": 0,
              "ticks": ""
             }
            },
            "type": "parcoords"
           }
          ],
          "pie": [
           {
            "automargin": true,
            "type": "pie"
           }
          ],
          "scatter": [
           {
            "fillpattern": {
             "fillmode": "overlay",
             "size": 10,
             "solidity": 0.2
            },
            "type": "scatter"
           }
          ],
          "scatter3d": [
           {
            "line": {
             "colorbar": {
              "outlinewidth": 0,
              "ticks": ""
             }
            },
            "marker": {
             "colorbar": {
              "outlinewidth": 0,
              "ticks": ""
             }
            },
            "type": "scatter3d"
           }
          ],
          "scattercarpet": [
           {
            "marker": {
             "colorbar": {
              "outlinewidth": 0,
              "ticks": ""
             }
            },
            "type": "scattercarpet"
           }
          ],
          "scattergeo": [
           {
            "marker": {
             "colorbar": {
              "outlinewidth": 0,
              "ticks": ""
             }
            },
            "type": "scattergeo"
           }
          ],
          "scattergl": [
           {
            "marker": {
             "colorbar": {
              "outlinewidth": 0,
              "ticks": ""
             }
            },
            "type": "scattergl"
           }
          ],
          "scattermapbox": [
           {
            "marker": {
             "colorbar": {
              "outlinewidth": 0,
              "ticks": ""
             }
            },
            "type": "scattermapbox"
           }
          ],
          "scatterpolar": [
           {
            "marker": {
             "colorbar": {
              "outlinewidth": 0,
              "ticks": ""
             }
            },
            "type": "scatterpolar"
           }
          ],
          "scatterpolargl": [
           {
            "marker": {
             "colorbar": {
              "outlinewidth": 0,
              "ticks": ""
             }
            },
            "type": "scatterpolargl"
           }
          ],
          "scatterternary": [
           {
            "marker": {
             "colorbar": {
              "outlinewidth": 0,
              "ticks": ""
             }
            },
            "type": "scatterternary"
           }
          ],
          "surface": [
           {
            "colorbar": {
             "outlinewidth": 0,
             "ticks": ""
            },
            "colorscale": [
             [
              0,
              "#0d0887"
             ],
             [
              0.1111111111111111,
              "#46039f"
             ],
             [
              0.2222222222222222,
              "#7201a8"
             ],
             [
              0.3333333333333333,
              "#9c179e"
             ],
             [
              0.4444444444444444,
              "#bd3786"
             ],
             [
              0.5555555555555556,
              "#d8576b"
             ],
             [
              0.6666666666666666,
              "#ed7953"
             ],
             [
              0.7777777777777778,
              "#fb9f3a"
             ],
             [
              0.8888888888888888,
              "#fdca26"
             ],
             [
              1,
              "#f0f921"
             ]
            ],
            "type": "surface"
           }
          ],
          "table": [
           {
            "cells": {
             "fill": {
              "color": "#EBF0F8"
             },
             "line": {
              "color": "white"
             }
            },
            "header": {
             "fill": {
              "color": "#C8D4E3"
             },
             "line": {
              "color": "white"
             }
            },
            "type": "table"
           }
          ]
         },
         "layout": {
          "annotationdefaults": {
           "arrowcolor": "#2a3f5f",
           "arrowhead": 0,
           "arrowwidth": 1
          },
          "autotypenumbers": "strict",
          "coloraxis": {
           "colorbar": {
            "outlinewidth": 0,
            "ticks": ""
           }
          },
          "colorscale": {
           "diverging": [
            [
             0,
             "#8e0152"
            ],
            [
             0.1,
             "#c51b7d"
            ],
            [
             0.2,
             "#de77ae"
            ],
            [
             0.3,
             "#f1b6da"
            ],
            [
             0.4,
             "#fde0ef"
            ],
            [
             0.5,
             "#f7f7f7"
            ],
            [
             0.6,
             "#e6f5d0"
            ],
            [
             0.7,
             "#b8e186"
            ],
            [
             0.8,
             "#7fbc41"
            ],
            [
             0.9,
             "#4d9221"
            ],
            [
             1,
             "#276419"
            ]
           ],
           "sequential": [
            [
             0,
             "#0d0887"
            ],
            [
             0.1111111111111111,
             "#46039f"
            ],
            [
             0.2222222222222222,
             "#7201a8"
            ],
            [
             0.3333333333333333,
             "#9c179e"
            ],
            [
             0.4444444444444444,
             "#bd3786"
            ],
            [
             0.5555555555555556,
             "#d8576b"
            ],
            [
             0.6666666666666666,
             "#ed7953"
            ],
            [
             0.7777777777777778,
             "#fb9f3a"
            ],
            [
             0.8888888888888888,
             "#fdca26"
            ],
            [
             1,
             "#f0f921"
            ]
           ],
           "sequentialminus": [
            [
             0,
             "#0d0887"
            ],
            [
             0.1111111111111111,
             "#46039f"
            ],
            [
             0.2222222222222222,
             "#7201a8"
            ],
            [
             0.3333333333333333,
             "#9c179e"
            ],
            [
             0.4444444444444444,
             "#bd3786"
            ],
            [
             0.5555555555555556,
             "#d8576b"
            ],
            [
             0.6666666666666666,
             "#ed7953"
            ],
            [
             0.7777777777777778,
             "#fb9f3a"
            ],
            [
             0.8888888888888888,
             "#fdca26"
            ],
            [
             1,
             "#f0f921"
            ]
           ]
          },
          "colorway": [
           "#636efa",
           "#EF553B",
           "#00cc96",
           "#ab63fa",
           "#FFA15A",
           "#19d3f3",
           "#FF6692",
           "#B6E880",
           "#FF97FF",
           "#FECB52"
          ],
          "font": {
           "color": "#2a3f5f"
          },
          "geo": {
           "bgcolor": "white",
           "lakecolor": "white",
           "landcolor": "#E5ECF6",
           "showlakes": true,
           "showland": true,
           "subunitcolor": "white"
          },
          "hoverlabel": {
           "align": "left"
          },
          "hovermode": "closest",
          "mapbox": {
           "style": "light"
          },
          "paper_bgcolor": "white",
          "plot_bgcolor": "#E5ECF6",
          "polar": {
           "angularaxis": {
            "gridcolor": "white",
            "linecolor": "white",
            "ticks": ""
           },
           "bgcolor": "#E5ECF6",
           "radialaxis": {
            "gridcolor": "white",
            "linecolor": "white",
            "ticks": ""
           }
          },
          "scene": {
           "xaxis": {
            "backgroundcolor": "#E5ECF6",
            "gridcolor": "white",
            "gridwidth": 2,
            "linecolor": "white",
            "showbackground": true,
            "ticks": "",
            "zerolinecolor": "white"
           },
           "yaxis": {
            "backgroundcolor": "#E5ECF6",
            "gridcolor": "white",
            "gridwidth": 2,
            "linecolor": "white",
            "showbackground": true,
            "ticks": "",
            "zerolinecolor": "white"
           },
           "zaxis": {
            "backgroundcolor": "#E5ECF6",
            "gridcolor": "white",
            "gridwidth": 2,
            "linecolor": "white",
            "showbackground": true,
            "ticks": "",
            "zerolinecolor": "white"
           }
          },
          "shapedefaults": {
           "line": {
            "color": "#2a3f5f"
           }
          },
          "ternary": {
           "aaxis": {
            "gridcolor": "white",
            "linecolor": "white",
            "ticks": ""
           },
           "baxis": {
            "gridcolor": "white",
            "linecolor": "white",
            "ticks": ""
           },
           "bgcolor": "#E5ECF6",
           "caxis": {
            "gridcolor": "white",
            "linecolor": "white",
            "ticks": ""
           }
          },
          "title": {
           "x": 0.05
          },
          "xaxis": {
           "automargin": true,
           "gridcolor": "white",
           "linecolor": "white",
           "ticks": "",
           "title": {
            "standoff": 15
           },
           "zerolinecolor": "white",
           "zerolinewidth": 2
          },
          "yaxis": {
           "automargin": true,
           "gridcolor": "white",
           "linecolor": "white",
           "ticks": "",
           "title": {
            "standoff": 15
           },
           "zerolinecolor": "white",
           "zerolinewidth": 2
          }
         }
        },
        "xaxis": {
         "anchor": "y",
         "domain": [
          0,
          1
         ],
         "title": {
          "text": "date"
         }
        },
        "yaxis": {
         "anchor": "x",
         "domain": [
          0,
          1
         ],
         "title": {
          "text": "count"
         }
        }
       }
      }
     },
     "metadata": {},
     "output_type": "display_data"
    }
   ],
   "source": [
    "\n",
    "px.histogram(data_frame=clustered_pair_id, x='date', color='cluster', nbins=365)"
   ]
  },
  {
   "cell_type": "code",
   "execution_count": 40,
   "metadata": {},
   "outputs": [
    {
     "data": {
      "text/html": [
       "<div><style>\n",
       ".dataframe > thead > tr,\n",
       ".dataframe > tbody > tr {\n",
       "  text-align: right;\n",
       "  white-space: pre-wrap;\n",
       "}\n",
       "</style>\n",
       "<small>shape: (20, 2)</small><table border=\"1\" class=\"dataframe\"><thead><tr><th>cluster</th><th>date</th></tr><tr><td>i64</td><td>u32</td></tr></thead><tbody><tr><td>1</td><td>10</td></tr><tr><td>18</td><td>3</td></tr><tr><td>12</td><td>3</td></tr><tr><td>5</td><td>6</td></tr><tr><td>19</td><td>2</td></tr><tr><td>6</td><td>5</td></tr><tr><td>11</td><td>3</td></tr><tr><td>0</td><td>9</td></tr><tr><td>8</td><td>7</td></tr><tr><td>10</td><td>4</td></tr><tr><td>4</td><td>3</td></tr><tr><td>15</td><td>3</td></tr><tr><td>7</td><td>6</td></tr><tr><td>9</td><td>5</td></tr><tr><td>-1</td><td>10</td></tr><tr><td>13</td><td>6</td></tr><tr><td>2</td><td>4</td></tr><tr><td>16</td><td>2</td></tr><tr><td>17</td><td>1</td></tr><tr><td>14</td><td>2</td></tr></tbody></table></div>"
      ],
      "text/plain": [
       "shape: (20, 2)\n",
       "┌─────────┬──────┐\n",
       "│ cluster ┆ date │\n",
       "│ ---     ┆ ---  │\n",
       "│ i64     ┆ u32  │\n",
       "╞═════════╪══════╡\n",
       "│ 1       ┆ 10   │\n",
       "│ 18      ┆ 3    │\n",
       "│ 12      ┆ 3    │\n",
       "│ 5       ┆ 6    │\n",
       "│ 19      ┆ 2    │\n",
       "│ …       ┆ …    │\n",
       "│ 13      ┆ 6    │\n",
       "│ 2       ┆ 4    │\n",
       "│ 16      ┆ 2    │\n",
       "│ 17      ┆ 1    │\n",
       "│ 14      ┆ 2    │\n",
       "└─────────┴──────┘"
      ]
     },
     "execution_count": 40,
     "metadata": {},
     "output_type": "execute_result"
    }
   ],
   "source": [
    "clustered_pair_id.group_by('cluster').agg(pl.col('date').n_unique().sort(descending=True)).head(20)"
   ]
  },
  {
   "cell_type": "code",
   "execution_count": 41,
   "metadata": {},
   "outputs": [],
   "source": [
    "test_df = imports_lf.select('date').group_by('date').len().collect().limit(20)"
   ]
  },
  {
   "cell_type": "code",
   "execution_count": 42,
   "metadata": {},
   "outputs": [],
   "source": [
    "what = test_df.select(pl.exclude('len').repeat_by('len').explode())"
   ]
  },
  {
   "cell_type": "code",
   "execution_count": 43,
   "metadata": {},
   "outputs": [
    {
     "ename": "FileNotFoundError",
     "evalue": "[Errno 2] No such file or directory: 'data_set.csv'",
     "output_type": "error",
     "traceback": [
      "\u001b[0;31m---------------------------------------------------------------------------\u001b[0m",
      "\u001b[0;31mFileNotFoundError\u001b[0m                         Traceback (most recent call last)",
      "Cell \u001b[0;32mIn[43], line 4\u001b[0m\n\u001b[1;32m      1\u001b[0m \u001b[38;5;66;03m#ref\u001b[39;00m\n\u001b[0;32m----> 4\u001b[0m data \u001b[38;5;241m=\u001b[39m \u001b[43mpd\u001b[49m\u001b[38;5;241;43m.\u001b[39;49m\u001b[43mread_csv\u001b[49m\u001b[43m(\u001b[49m\u001b[38;5;124;43m'\u001b[39;49m\u001b[38;5;124;43mdata_set.csv\u001b[39;49m\u001b[38;5;124;43m'\u001b[39;49m\u001b[43m)\u001b[49m\n\u001b[1;32m      6\u001b[0m clusterer \u001b[38;5;241m=\u001b[39m hdbscan\u001b[38;5;241m.\u001b[39mHDBSCAN(min_cluster_size\u001b[38;5;241m=\u001b[39m\u001b[38;5;241m4\u001b[39m,min_samples\u001b[38;5;241m=\u001b[39m\u001b[38;5;241m8\u001b[39m)\n\u001b[1;32m      7\u001b[0m clusterer\u001b[38;5;241m.\u001b[39mfit(data)\n",
      "File \u001b[0;32m~/miniconda3/envs/wsu/lib/python3.12/site-packages/pandas/io/parsers/readers.py:948\u001b[0m, in \u001b[0;36mread_csv\u001b[0;34m(filepath_or_buffer, sep, delimiter, header, names, index_col, usecols, dtype, engine, converters, true_values, false_values, skipinitialspace, skiprows, skipfooter, nrows, na_values, keep_default_na, na_filter, verbose, skip_blank_lines, parse_dates, infer_datetime_format, keep_date_col, date_parser, date_format, dayfirst, cache_dates, iterator, chunksize, compression, thousands, decimal, lineterminator, quotechar, quoting, doublequote, escapechar, comment, encoding, encoding_errors, dialect, on_bad_lines, delim_whitespace, low_memory, memory_map, float_precision, storage_options, dtype_backend)\u001b[0m\n\u001b[1;32m    935\u001b[0m kwds_defaults \u001b[38;5;241m=\u001b[39m _refine_defaults_read(\n\u001b[1;32m    936\u001b[0m     dialect,\n\u001b[1;32m    937\u001b[0m     delimiter,\n\u001b[0;32m   (...)\u001b[0m\n\u001b[1;32m    944\u001b[0m     dtype_backend\u001b[38;5;241m=\u001b[39mdtype_backend,\n\u001b[1;32m    945\u001b[0m )\n\u001b[1;32m    946\u001b[0m kwds\u001b[38;5;241m.\u001b[39mupdate(kwds_defaults)\n\u001b[0;32m--> 948\u001b[0m \u001b[38;5;28;01mreturn\u001b[39;00m \u001b[43m_read\u001b[49m\u001b[43m(\u001b[49m\u001b[43mfilepath_or_buffer\u001b[49m\u001b[43m,\u001b[49m\u001b[43m \u001b[49m\u001b[43mkwds\u001b[49m\u001b[43m)\u001b[49m\n",
      "File \u001b[0;32m~/miniconda3/envs/wsu/lib/python3.12/site-packages/pandas/io/parsers/readers.py:611\u001b[0m, in \u001b[0;36m_read\u001b[0;34m(filepath_or_buffer, kwds)\u001b[0m\n\u001b[1;32m    608\u001b[0m _validate_names(kwds\u001b[38;5;241m.\u001b[39mget(\u001b[38;5;124m\"\u001b[39m\u001b[38;5;124mnames\u001b[39m\u001b[38;5;124m\"\u001b[39m, \u001b[38;5;28;01mNone\u001b[39;00m))\n\u001b[1;32m    610\u001b[0m \u001b[38;5;66;03m# Create the parser.\u001b[39;00m\n\u001b[0;32m--> 611\u001b[0m parser \u001b[38;5;241m=\u001b[39m \u001b[43mTextFileReader\u001b[49m\u001b[43m(\u001b[49m\u001b[43mfilepath_or_buffer\u001b[49m\u001b[43m,\u001b[49m\u001b[43m \u001b[49m\u001b[38;5;241;43m*\u001b[39;49m\u001b[38;5;241;43m*\u001b[39;49m\u001b[43mkwds\u001b[49m\u001b[43m)\u001b[49m\n\u001b[1;32m    613\u001b[0m \u001b[38;5;28;01mif\u001b[39;00m chunksize \u001b[38;5;129;01mor\u001b[39;00m iterator:\n\u001b[1;32m    614\u001b[0m     \u001b[38;5;28;01mreturn\u001b[39;00m parser\n",
      "File \u001b[0;32m~/miniconda3/envs/wsu/lib/python3.12/site-packages/pandas/io/parsers/readers.py:1448\u001b[0m, in \u001b[0;36mTextFileReader.__init__\u001b[0;34m(self, f, engine, **kwds)\u001b[0m\n\u001b[1;32m   1445\u001b[0m     \u001b[38;5;28mself\u001b[39m\u001b[38;5;241m.\u001b[39moptions[\u001b[38;5;124m\"\u001b[39m\u001b[38;5;124mhas_index_names\u001b[39m\u001b[38;5;124m\"\u001b[39m] \u001b[38;5;241m=\u001b[39m kwds[\u001b[38;5;124m\"\u001b[39m\u001b[38;5;124mhas_index_names\u001b[39m\u001b[38;5;124m\"\u001b[39m]\n\u001b[1;32m   1447\u001b[0m \u001b[38;5;28mself\u001b[39m\u001b[38;5;241m.\u001b[39mhandles: IOHandles \u001b[38;5;241m|\u001b[39m \u001b[38;5;28;01mNone\u001b[39;00m \u001b[38;5;241m=\u001b[39m \u001b[38;5;28;01mNone\u001b[39;00m\n\u001b[0;32m-> 1448\u001b[0m \u001b[38;5;28mself\u001b[39m\u001b[38;5;241m.\u001b[39m_engine \u001b[38;5;241m=\u001b[39m \u001b[38;5;28;43mself\u001b[39;49m\u001b[38;5;241;43m.\u001b[39;49m\u001b[43m_make_engine\u001b[49m\u001b[43m(\u001b[49m\u001b[43mf\u001b[49m\u001b[43m,\u001b[49m\u001b[43m \u001b[49m\u001b[38;5;28;43mself\u001b[39;49m\u001b[38;5;241;43m.\u001b[39;49m\u001b[43mengine\u001b[49m\u001b[43m)\u001b[49m\n",
      "File \u001b[0;32m~/miniconda3/envs/wsu/lib/python3.12/site-packages/pandas/io/parsers/readers.py:1705\u001b[0m, in \u001b[0;36mTextFileReader._make_engine\u001b[0;34m(self, f, engine)\u001b[0m\n\u001b[1;32m   1703\u001b[0m     \u001b[38;5;28;01mif\u001b[39;00m \u001b[38;5;124m\"\u001b[39m\u001b[38;5;124mb\u001b[39m\u001b[38;5;124m\"\u001b[39m \u001b[38;5;129;01mnot\u001b[39;00m \u001b[38;5;129;01min\u001b[39;00m mode:\n\u001b[1;32m   1704\u001b[0m         mode \u001b[38;5;241m+\u001b[39m\u001b[38;5;241m=\u001b[39m \u001b[38;5;124m\"\u001b[39m\u001b[38;5;124mb\u001b[39m\u001b[38;5;124m\"\u001b[39m\n\u001b[0;32m-> 1705\u001b[0m \u001b[38;5;28mself\u001b[39m\u001b[38;5;241m.\u001b[39mhandles \u001b[38;5;241m=\u001b[39m \u001b[43mget_handle\u001b[49m\u001b[43m(\u001b[49m\n\u001b[1;32m   1706\u001b[0m \u001b[43m    \u001b[49m\u001b[43mf\u001b[49m\u001b[43m,\u001b[49m\n\u001b[1;32m   1707\u001b[0m \u001b[43m    \u001b[49m\u001b[43mmode\u001b[49m\u001b[43m,\u001b[49m\n\u001b[1;32m   1708\u001b[0m \u001b[43m    \u001b[49m\u001b[43mencoding\u001b[49m\u001b[38;5;241;43m=\u001b[39;49m\u001b[38;5;28;43mself\u001b[39;49m\u001b[38;5;241;43m.\u001b[39;49m\u001b[43moptions\u001b[49m\u001b[38;5;241;43m.\u001b[39;49m\u001b[43mget\u001b[49m\u001b[43m(\u001b[49m\u001b[38;5;124;43m\"\u001b[39;49m\u001b[38;5;124;43mencoding\u001b[39;49m\u001b[38;5;124;43m\"\u001b[39;49m\u001b[43m,\u001b[49m\u001b[43m \u001b[49m\u001b[38;5;28;43;01mNone\u001b[39;49;00m\u001b[43m)\u001b[49m\u001b[43m,\u001b[49m\n\u001b[1;32m   1709\u001b[0m \u001b[43m    \u001b[49m\u001b[43mcompression\u001b[49m\u001b[38;5;241;43m=\u001b[39;49m\u001b[38;5;28;43mself\u001b[39;49m\u001b[38;5;241;43m.\u001b[39;49m\u001b[43moptions\u001b[49m\u001b[38;5;241;43m.\u001b[39;49m\u001b[43mget\u001b[49m\u001b[43m(\u001b[49m\u001b[38;5;124;43m\"\u001b[39;49m\u001b[38;5;124;43mcompression\u001b[39;49m\u001b[38;5;124;43m\"\u001b[39;49m\u001b[43m,\u001b[49m\u001b[43m \u001b[49m\u001b[38;5;28;43;01mNone\u001b[39;49;00m\u001b[43m)\u001b[49m\u001b[43m,\u001b[49m\n\u001b[1;32m   1710\u001b[0m \u001b[43m    \u001b[49m\u001b[43mmemory_map\u001b[49m\u001b[38;5;241;43m=\u001b[39;49m\u001b[38;5;28;43mself\u001b[39;49m\u001b[38;5;241;43m.\u001b[39;49m\u001b[43moptions\u001b[49m\u001b[38;5;241;43m.\u001b[39;49m\u001b[43mget\u001b[49m\u001b[43m(\u001b[49m\u001b[38;5;124;43m\"\u001b[39;49m\u001b[38;5;124;43mmemory_map\u001b[39;49m\u001b[38;5;124;43m\"\u001b[39;49m\u001b[43m,\u001b[49m\u001b[43m \u001b[49m\u001b[38;5;28;43;01mFalse\u001b[39;49;00m\u001b[43m)\u001b[49m\u001b[43m,\u001b[49m\n\u001b[1;32m   1711\u001b[0m \u001b[43m    \u001b[49m\u001b[43mis_text\u001b[49m\u001b[38;5;241;43m=\u001b[39;49m\u001b[43mis_text\u001b[49m\u001b[43m,\u001b[49m\n\u001b[1;32m   1712\u001b[0m \u001b[43m    \u001b[49m\u001b[43merrors\u001b[49m\u001b[38;5;241;43m=\u001b[39;49m\u001b[38;5;28;43mself\u001b[39;49m\u001b[38;5;241;43m.\u001b[39;49m\u001b[43moptions\u001b[49m\u001b[38;5;241;43m.\u001b[39;49m\u001b[43mget\u001b[49m\u001b[43m(\u001b[49m\u001b[38;5;124;43m\"\u001b[39;49m\u001b[38;5;124;43mencoding_errors\u001b[39;49m\u001b[38;5;124;43m\"\u001b[39;49m\u001b[43m,\u001b[49m\u001b[43m \u001b[49m\u001b[38;5;124;43m\"\u001b[39;49m\u001b[38;5;124;43mstrict\u001b[39;49m\u001b[38;5;124;43m\"\u001b[39;49m\u001b[43m)\u001b[49m\u001b[43m,\u001b[49m\n\u001b[1;32m   1713\u001b[0m \u001b[43m    \u001b[49m\u001b[43mstorage_options\u001b[49m\u001b[38;5;241;43m=\u001b[39;49m\u001b[38;5;28;43mself\u001b[39;49m\u001b[38;5;241;43m.\u001b[39;49m\u001b[43moptions\u001b[49m\u001b[38;5;241;43m.\u001b[39;49m\u001b[43mget\u001b[49m\u001b[43m(\u001b[49m\u001b[38;5;124;43m\"\u001b[39;49m\u001b[38;5;124;43mstorage_options\u001b[39;49m\u001b[38;5;124;43m\"\u001b[39;49m\u001b[43m,\u001b[49m\u001b[43m \u001b[49m\u001b[38;5;28;43;01mNone\u001b[39;49;00m\u001b[43m)\u001b[49m\u001b[43m,\u001b[49m\n\u001b[1;32m   1714\u001b[0m \u001b[43m\u001b[49m\u001b[43m)\u001b[49m\n\u001b[1;32m   1715\u001b[0m \u001b[38;5;28;01massert\u001b[39;00m \u001b[38;5;28mself\u001b[39m\u001b[38;5;241m.\u001b[39mhandles \u001b[38;5;129;01mis\u001b[39;00m \u001b[38;5;129;01mnot\u001b[39;00m \u001b[38;5;28;01mNone\u001b[39;00m\n\u001b[1;32m   1716\u001b[0m f \u001b[38;5;241m=\u001b[39m \u001b[38;5;28mself\u001b[39m\u001b[38;5;241m.\u001b[39mhandles\u001b[38;5;241m.\u001b[39mhandle\n",
      "File \u001b[0;32m~/miniconda3/envs/wsu/lib/python3.12/site-packages/pandas/io/common.py:863\u001b[0m, in \u001b[0;36mget_handle\u001b[0;34m(path_or_buf, mode, encoding, compression, memory_map, is_text, errors, storage_options)\u001b[0m\n\u001b[1;32m    858\u001b[0m \u001b[38;5;28;01melif\u001b[39;00m \u001b[38;5;28misinstance\u001b[39m(handle, \u001b[38;5;28mstr\u001b[39m):\n\u001b[1;32m    859\u001b[0m     \u001b[38;5;66;03m# Check whether the filename is to be opened in binary mode.\u001b[39;00m\n\u001b[1;32m    860\u001b[0m     \u001b[38;5;66;03m# Binary mode does not support 'encoding' and 'newline'.\u001b[39;00m\n\u001b[1;32m    861\u001b[0m     \u001b[38;5;28;01mif\u001b[39;00m ioargs\u001b[38;5;241m.\u001b[39mencoding \u001b[38;5;129;01mand\u001b[39;00m \u001b[38;5;124m\"\u001b[39m\u001b[38;5;124mb\u001b[39m\u001b[38;5;124m\"\u001b[39m \u001b[38;5;129;01mnot\u001b[39;00m \u001b[38;5;129;01min\u001b[39;00m ioargs\u001b[38;5;241m.\u001b[39mmode:\n\u001b[1;32m    862\u001b[0m         \u001b[38;5;66;03m# Encoding\u001b[39;00m\n\u001b[0;32m--> 863\u001b[0m         handle \u001b[38;5;241m=\u001b[39m \u001b[38;5;28;43mopen\u001b[39;49m\u001b[43m(\u001b[49m\n\u001b[1;32m    864\u001b[0m \u001b[43m            \u001b[49m\u001b[43mhandle\u001b[49m\u001b[43m,\u001b[49m\n\u001b[1;32m    865\u001b[0m \u001b[43m            \u001b[49m\u001b[43mioargs\u001b[49m\u001b[38;5;241;43m.\u001b[39;49m\u001b[43mmode\u001b[49m\u001b[43m,\u001b[49m\n\u001b[1;32m    866\u001b[0m \u001b[43m            \u001b[49m\u001b[43mencoding\u001b[49m\u001b[38;5;241;43m=\u001b[39;49m\u001b[43mioargs\u001b[49m\u001b[38;5;241;43m.\u001b[39;49m\u001b[43mencoding\u001b[49m\u001b[43m,\u001b[49m\n\u001b[1;32m    867\u001b[0m \u001b[43m            \u001b[49m\u001b[43merrors\u001b[49m\u001b[38;5;241;43m=\u001b[39;49m\u001b[43merrors\u001b[49m\u001b[43m,\u001b[49m\n\u001b[1;32m    868\u001b[0m \u001b[43m            \u001b[49m\u001b[43mnewline\u001b[49m\u001b[38;5;241;43m=\u001b[39;49m\u001b[38;5;124;43m\"\u001b[39;49m\u001b[38;5;124;43m\"\u001b[39;49m\u001b[43m,\u001b[49m\n\u001b[1;32m    869\u001b[0m \u001b[43m        \u001b[49m\u001b[43m)\u001b[49m\n\u001b[1;32m    870\u001b[0m     \u001b[38;5;28;01melse\u001b[39;00m:\n\u001b[1;32m    871\u001b[0m         \u001b[38;5;66;03m# Binary mode\u001b[39;00m\n\u001b[1;32m    872\u001b[0m         handle \u001b[38;5;241m=\u001b[39m \u001b[38;5;28mopen\u001b[39m(handle, ioargs\u001b[38;5;241m.\u001b[39mmode)\n",
      "\u001b[0;31mFileNotFoundError\u001b[0m: [Errno 2] No such file or directory: 'data_set.csv'"
     ]
    }
   ],
   "source": [
    "#ref\n",
    "\n",
    "\n",
    "data = pd.read_csv('data_set.csv')\n",
    "\n",
    "clusterer = hdbscan.HDBSCAN(min_cluster_size=4,min_samples=8)\n",
    "clusterer.fit(data)\n",
    "data['cluster'] = clusterer.labels_\n",
    "\n",
    "fig = px.bar(data,x='price',y='quantity',color='cluster',orientation='v')\n",
    "fig.show()"
   ]
  }
 ],
 "metadata": {
  "kernelspec": {
   "display_name": "wsu",
   "language": "python",
   "name": "python3"
  },
  "language_info": {
   "codemirror_mode": {
    "name": "ipython",
    "version": 3
   },
   "file_extension": ".py",
   "mimetype": "text/x-python",
   "name": "python",
   "nbconvert_exporter": "python",
   "pygments_lexer": "ipython3",
   "version": "3.12.0"
  }
 },
 "nbformat": 4,
 "nbformat_minor": 2
}
