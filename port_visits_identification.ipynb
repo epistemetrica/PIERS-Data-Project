{
 "cells": [
  {
   "cell_type": "markdown",
   "metadata": {},
   "source": [
    "# Identifying Port Calls in the PIERS BoL Data\n",
    "\n",
    "### Problem Statement:\n",
    "\n",
    "The PIERS data do not have clean arrival or departure dates; instead, cargo imported from a given shipping vessel at a given port is spread over multiple dates, often spanning several days up to several weeks, even though the vessels spend only a matter of hours at any given port call. The reason for this spread is not precisely known at this time, but given the underlying data come from US Customs, we expect it may be related to the time required to process the individual bills. \n",
    "\n",
    "Therefore we need to identify clusters of dates that indicate a unique port call for each vessel, with the goal of assigning the earliest date in the cluster as the actual arrival/departure date for imports/exports. \n",
    "\n",
    "Potential uses of this information include analyzing frequency of service at each port, identification of individual voyages, and many others. "
   ]
  },
  {
   "cell_type": "code",
   "execution_count": null,
   "metadata": {},
   "outputs": [],
   "source": [
    "#prelims\n",
    "import pandas as pd #v2.1.3\n",
    "import polars as pl #v0.20.7\n",
    "import plotly_express as px #v0.4.1 \n",
    "import missingno as msno #v0.5.2\n",
    "import datetime as dt\n",
    "\n",
    "#display settings\n",
    "pd.set_option('display.max_columns', None)\n",
    "\n",
    "#enable string cache for polars categoricals\n",
    "pl.enable_string_cache()"
   ]
  }
 ],
 "metadata": {
  "kernelspec": {
   "display_name": "wsu",
   "language": "python",
   "name": "python3"
  },
  "language_info": {
   "name": "python",
   "version": "3.12.0"
  }
 },
 "nbformat": 4,
 "nbformat_minor": 2
}
