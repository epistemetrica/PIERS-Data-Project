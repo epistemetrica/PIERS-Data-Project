{
 "cells": [
  {
   "cell_type": "markdown",
   "metadata": {},
   "source": [
    "# PIERS Container BOL Data ETL \n",
    "\n",
    "This notebook builds an ETL pipeline for S&P Global's PIERS data. "
   ]
  },
  {
   "cell_type": "code",
   "execution_count": 17,
   "metadata": {},
   "outputs": [],
   "source": [
    "#import libraries\n",
    "import pandas as pd\n",
    "import os"
   ]
  },
  {
   "cell_type": "code",
   "execution_count": 18,
   "metadata": {},
   "outputs": [],
   "source": [
    "#settings\n",
    "pd.set_option('display.max_columns', None)"
   ]
  },
  {
   "cell_type": "markdown",
   "metadata": {},
   "source": [
    "## Extract"
   ]
  },
  {
   "cell_type": "code",
   "execution_count": 19,
   "metadata": {},
   "outputs": [],
   "source": [
    "# compare column headers to ensure order and names match\n",
    "# pd.read_csv('data/raw/PIERS import records 2023-02-01 to 2023-09-05 CB5380DE33CB4169A676AD839290E38E.csv', header=0, nrows=0).columns.tolist()"
   ]
  },
  {
   "cell_type": "code",
   "execution_count": 20,
   "metadata": {},
   "outputs": [],
   "source": [
    "#read in csv - NOTE this becomes a with/as statement in final function\n",
    "df = pd.read_csv('data/raw/PIERS import records 2023-02-01 to 2023-09-05 CB5380DE33CB4169A676AD839290E38E.csv')"
   ]
  },
  {
   "cell_type": "code",
   "execution_count": 21,
   "metadata": {},
   "outputs": [
    {
     "name": "stdout",
     "output_type": "stream",
     "text": [
      "<class 'pandas.core.frame.DataFrame'>\n",
      "RangeIndex: 7437504 entries, 0 to 7437503\n",
      "Data columns (total 43 columns):\n",
      " #   Column                                   Dtype  \n",
      "---  ------                                   -----  \n",
      " 0   Weight                                   float64\n",
      " 1   Weight Unit                              object \n",
      " 2   Quantity                                 float64\n",
      " 3   Quantity Type                            object \n",
      " 4   TEUs                                     float64\n",
      " 5   Estimated Value                          float64\n",
      " 6   Arrival Date                             int64  \n",
      " 7   Container Piece Count                    int64  \n",
      " 8   Quantity of Commodity Short Description  object \n",
      " 9   Territory of Origin                      object \n",
      " 10  Region of Origin                         object \n",
      " 11  Port of Arrival Code                     int64  \n",
      " 12  Port of Arrival                          object \n",
      " 13  Port of Departure Code                   int64  \n",
      " 14  Port of Departure                        object \n",
      " 15  Final Destination                        object \n",
      " 16  Coastal Region                           object \n",
      " 17  Clearing District                        object \n",
      " 18  Place of Receipt                         object \n",
      " 19  Shipper                                  object \n",
      " 20  Shipper Address                          object \n",
      " 21  Consignee                                object \n",
      " 22  Consignee Address                        object \n",
      " 23  Notify Party                             object \n",
      " 24  Notify Party Address                     object \n",
      " 25  Also Notify Party                        object \n",
      " 26  Also Notify Party Address                object \n",
      " 27  Raw Commodity Description                object \n",
      " 28  Marks Container Number                   object \n",
      " 29  Marks Description                        object \n",
      " 30  HS Code                                  object \n",
      " 31  JOC Code                                 object \n",
      " 32  Commodity Short Description              object \n",
      " 33  Container Number                         object \n",
      " 34  Carrier                                  object \n",
      " 35  SCAC                                     object \n",
      " 36  Vessel Name                              object \n",
      " 37  Voyage Number                            object \n",
      " 38  Pre Carrier                              float64\n",
      " 39  IMO Number                               float64\n",
      " 40  Inbond Code                              float64\n",
      " 41  Mode of Transport                        object \n",
      " 42  Bill of Lading Number                    object \n",
      "dtypes: float64(7), int64(4), object(32)\n",
      "memory usage: 2.4+ GB\n"
     ]
    }
   ],
   "source": [
    "df.info()"
   ]
  },
  {
   "cell_type": "markdown",
   "metadata": {},
   "source": [
    "## Transform"
   ]
  },
  {
   "cell_type": "markdown",
   "metadata": {},
   "source": [
    "Note - renaming columns in this fashion only works if all downloaded files have identical column names and orders. "
   ]
  },
  {
   "cell_type": "code",
   "execution_count": 22,
   "metadata": {},
   "outputs": [],
   "source": [
    "#rename columns\n",
    "\n",
    "#read in pythonic column names\n",
    "columnnames = pd.read_csv('column_names.csv')\n",
    "columnnames = list(columnnames.iloc[0])\n",
    "#assign pythonic column names\n",
    "df.columns = columnnames"
   ]
  },
  {
   "cell_type": "code",
   "execution_count": 23,
   "metadata": {},
   "outputs": [],
   "source": [
    "#unpack strings to list objects\n",
    "df.container_numbers = df.container_numbers.str.split()\n",
    "df.commodity_description_short_quantities = df.commodity_description_short_quantities.str.split(pat=';')\n",
    "df.commodity_descriptions_short = df.commodity_descriptions_short.str.split(pat=',')"
   ]
  },
  {
   "cell_type": "code",
   "execution_count": 24,
   "metadata": {},
   "outputs": [],
   "source": [
    "#expand commonity descriptions and associated quantities ??"
   ]
  },
  {
   "cell_type": "code",
   "execution_count": 25,
   "metadata": {},
   "outputs": [
    {
     "data": {
      "text/plain": [
       "0    20230905\n",
       "1    20230905\n",
       "2    20230905\n",
       "3    20230905\n",
       "4    20230905\n",
       "Name: date_arrival, dtype: int64"
      ]
     },
     "execution_count": 25,
     "metadata": {},
     "output_type": "execute_result"
    }
   ],
   "source": [
    "df.date_arrival.head()"
   ]
  },
  {
   "cell_type": "code",
   "execution_count": 26,
   "metadata": {},
   "outputs": [],
   "source": [
    "#recast dates to datetime \n",
    "df.date_arrival = pd.to_datetime(df.date_arrival.astype(str), format='%Y%m%d')"
   ]
  },
  {
   "cell_type": "code",
   "execution_count": 27,
   "metadata": {},
   "outputs": [],
   "source": [
    "#recast to int\n",
    "df.quantity = pd.to_numeric(df.quantity, downcast='integer')\n"
   ]
  },
  {
   "cell_type": "code",
   "execution_count": 28,
   "metadata": {},
   "outputs": [],
   "source": [
    "#recast to categorical dtypes\n",
    "df[\n",
    "    ['weight_unit', 'quantity_type', 'origin_territory', 'origin_region', 'port_arrival_code', 'port_arrival_name',\n",
    "    'port_departure_code', 'port_departure_name', 'destination_final', 'coastal_region', 'clearing_district', 'place_of_receipt',\n",
    "    'shipper_name', 'carrier_name', 'carrier_scac', 'transport_mode']\n",
    "    ] = df[\n",
    "        ['weight_unit', 'quantity_type', 'origin_territory', 'origin_region', 'port_arrival_code', 'port_arrival_name', \n",
    "         'port_departure_code', 'port_departure_name', 'destination_final', 'coastal_region', 'clearing_district', 'place_of_receipt',\n",
    "         'shipper_name', 'carrier_name', 'carrier_scac', 'transport_mode']].astype('category')"
   ]
  },
  {
   "cell_type": "code",
   "execution_count": 29,
   "metadata": {},
   "outputs": [
    {
     "name": "stdout",
     "output_type": "stream",
     "text": [
      "<class 'pandas.core.frame.DataFrame'>\n",
      "RangeIndex: 7437504 entries, 0 to 7437503\n",
      "Data columns (total 43 columns):\n",
      " #   Column                                  Dtype         \n",
      "---  ------                                  -----         \n",
      " 0   weight                                  float64       \n",
      " 1   weight_unit                             category      \n",
      " 2   quantity                                int32         \n",
      " 3   quantity_type                           category      \n",
      " 4   teus                                    float64       \n",
      " 5   value_est                               float64       \n",
      " 6   date_arrival                            datetime64[ns]\n",
      " 7   container_piece_count                   int64         \n",
      " 8   commodity_description_short_quantities  object        \n",
      " 9   origin_territory                        category      \n",
      " 10  origin_region                           category      \n",
      " 11  port_arrival_code                       category      \n",
      " 12  port_arrival_name                       category      \n",
      " 13  port_departure_code                     category      \n",
      " 14  port_departure_name                     category      \n",
      " 15  destination_final                       category      \n",
      " 16  coastal_region                          category      \n",
      " 17  clearing_district                       category      \n",
      " 18  place_of_receipt                        category      \n",
      " 19  shipper_name                            category      \n",
      " 20  shipper_address                         object        \n",
      " 21  consignee_name                          object        \n",
      " 22  consignee_address                       object        \n",
      " 23  notify_party1_name                      object        \n",
      " 24  notify_party1_address                   object        \n",
      " 25  notify_party2_name                      object        \n",
      " 26  notify_party2_address                   object        \n",
      " 27  commodity_descriptions_raw              object        \n",
      " 28  marks_container_number                  object        \n",
      " 29  marks_description                       object        \n",
      " 30  code_hs                                 object        \n",
      " 31  code_joc                                object        \n",
      " 32  commodity_descriptions_short            object        \n",
      " 33  container_numbers                       object        \n",
      " 34  carrier_name                            category      \n",
      " 35  carrier_scac                            category      \n",
      " 36  vessel_name                             object        \n",
      " 37  voyage_number                           object        \n",
      " 38  precarrier                              float64       \n",
      " 39  imo_number                              float64       \n",
      " 40  code_inbond                             float64       \n",
      " 41  transport_mode                          category      \n",
      " 42  bol_number                              object        \n",
      "dtypes: category(16), datetime64[ns](1), float64(6), int32(1), int64(1), object(18)\n",
      "memory usage: 1.7+ GB\n"
     ]
    }
   ],
   "source": [
    "df.info()"
   ]
  },
  {
   "cell_type": "markdown",
   "metadata": {},
   "source": [
    "## Load"
   ]
  },
  {
   "cell_type": "code",
   "execution_count": 30,
   "metadata": {},
   "outputs": [],
   "source": [
    "#save to parquet file\n",
    "df.to_parquet('data/piers_imports.parquet')\n"
   ]
  }
 ],
 "metadata": {
  "kernelspec": {
   "display_name": "wsu",
   "language": "python",
   "name": "python3"
  },
  "language_info": {
   "codemirror_mode": {
    "name": "ipython",
    "version": 3
   },
   "file_extension": ".py",
   "mimetype": "text/x-python",
   "name": "python",
   "nbconvert_exporter": "python",
   "pygments_lexer": "ipython3",
   "version": "3.12.0"
  }
 },
 "nbformat": 4,
 "nbformat_minor": 2
}
