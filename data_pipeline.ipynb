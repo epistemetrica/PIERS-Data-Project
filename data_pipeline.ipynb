{
 "cells": [
  {
   "cell_type": "markdown",
   "metadata": {},
   "source": [
    "# PIERS Container BOL Data ETL \n",
    "\n",
    "This notebook builds an ETL pipeline for S&P Global's PIERS data. "
   ]
  },
  {
   "cell_type": "code",
   "execution_count": null,
   "metadata": {},
   "outputs": [],
   "source": [
    "#import libraries\n",
    "import pandas as pd\n",
    "import os"
   ]
  },
  {
   "cell_type": "code",
   "execution_count": null,
   "metadata": {},
   "outputs": [],
   "source": [
    "#settings\n",
    "pd.set_option('display.max_columns', None)"
   ]
  },
  {
   "cell_type": "markdown",
   "metadata": {},
   "source": [
    "## Extract and Transform\n",
    "\n",
    "Read from csv into a pandas dataframe with appropriate column names and dtypes"
   ]
  },
  {
   "cell_type": "code",
   "execution_count": null,
   "metadata": {},
   "outputs": [],
   "source": [
    "def piers_imports_extractor(data):\n",
    "    '''\n",
    "    Extracts from downloaded PIERS csv files and performs initial cleaning \n",
    "    INPUT:\n",
    "        data - str - the csv file to be extracted, including the path from current directory\n",
    "    OUTPUT:\n",
    "        df - pandas dataframe with appropriate column names and dtypes\n",
    "    '''\n",
    "    #read csv file \n",
    "    df = pd.read_csv(data, engine='pyarrow') # using the pyarrow engine engages more cpu cores \n",
    "    #unpack strings to list objects\n",
    "    df['Container Number'] = df['Container Number'].str.split()\n",
    "    df['Quantity of Commodity Short Description'] = df['Quantity of Commodity Short Description'].str.split(pat=';')\n",
    "    df['Commodity Short Description'] = df['Commodity Short Description'].str.split(pat=',')\n",
    "    #recast dates to datetime \n",
    "    df['Arrival Date'] = pd.to_datetime(df['Arrival Date'].astype(str), format='%Y%m%d') \n",
    "    #recast to int\n",
    "    df['Quantity'] = pd.to_numeric(df['Quantity'], downcast='integer')\n",
    "    #recast to categorical dtypes\n",
    "    df[['Weight Unit', 'Quantity Type', 'Territory of Origin', 'Region of Origin', 'Port of Arrival Code', 'Port of Arrival',\n",
    "        'Port of Departure Code', 'Port of Departure', 'Final Destination', 'Coastal Region', 'Clearing District', 'Place of Receipt',\n",
    "        'Shipper', 'Carrier', 'SCAC', 'Mode of Transport']\n",
    "        ] = df[['Weight Unit', 'Quantity Type', 'Territory of Origin', 'Region of Origin', 'Port of Arrival Code', 'Port of Arrival',\n",
    "                'Port of Departure Code', 'Port of Departure', 'Final Destination', 'Coastal Region', 'Clearing District', 'Place of Receipt',\n",
    "                'Shipper', 'Carrier', 'SCAC', 'Mode of Transport']].astype('category')\n",
    "    return df    "
   ]
  },
  {
   "cell_type": "code",
   "execution_count": null,
   "metadata": {},
   "outputs": [],
   "source": [
    "#define path\n",
    "path = 'data/raw/'\n",
    "#get list of data files, ignoring any hidden files in directory \n",
    "datafiles = [file for file in os.listdir(path) if not file.startswith('.')]\n",
    "#initialize dataframe\n",
    "imports_df = pd.DataFrame()\n",
    "\n",
    "#extract from csv to clean dataframes and concat\n",
    "for filename in datafiles:\n",
    "    print(filename)\n",
    "    file_df = piers_imports_extractor(path+filename)\n",
    "    imports_df = pd.concat([imports_df, file_df])\n",
    "    del file_df\n",
    "#recast to categorical dtypes\n",
    "imports_df[\n",
    "    ['Weight Unit', 'Quantity Type', 'Territory of Origin', 'Region of Origin', 'Port of Arrival Code', 'Port of Arrival',\n",
    "    'Port of Departure Code', 'Port of Departure', 'Final Destination', 'Coastal Region', 'Clearing District', 'Place of Receipt',\n",
    "    'Shipper', 'Carrier', 'SCAC', 'Mode of Transport']\n",
    "    ] = imports_df[\n",
    "        ['Weight Unit', 'Quantity Type', 'Territory of Origin', 'Region of Origin', 'Port of Arrival Code', 'Port of Arrival',\n",
    "            'Port of Departure Code', 'Port of Departure', 'Final Destination', 'Coastal Region', 'Clearing District', 'Place of Receipt',\n",
    "            'Shipper', 'Carrier', 'SCAC', 'Mode of Transport']].astype('category')"
   ]
  },
  {
   "cell_type": "code",
   "execution_count": null,
   "metadata": {},
   "outputs": [],
   "source": [
    "display(imports_df.head())\n",
    "imports_df.info()"
   ]
  },
  {
   "cell_type": "markdown",
   "metadata": {},
   "source": [
    "Note for future optimization: build a dictionary of column dtypes and assign within read_csv. "
   ]
  },
  {
   "cell_type": "markdown",
   "metadata": {},
   "source": [
    "## Load"
   ]
  },
  {
   "cell_type": "code",
   "execution_count": null,
   "metadata": {},
   "outputs": [],
   "source": [
    "#save to parquet file\n",
    "imports_df.to_parquet('data/piers_imports.parquet')\n",
    "\n",
    "#delete imports df\n",
    "del imports_df"
   ]
  }
 ],
 "metadata": {
  "kernelspec": {
   "display_name": "wsu",
   "language": "python",
   "name": "python3"
  },
  "language_info": {
   "codemirror_mode": {
    "name": "ipython",
    "version": 3
   },
   "file_extension": ".py",
   "mimetype": "text/x-python",
   "name": "python",
   "nbconvert_exporter": "python",
   "pygments_lexer": "ipython3",
   "version": "3.12.0"
  }
 },
 "nbformat": 4,
 "nbformat_minor": 2
}
