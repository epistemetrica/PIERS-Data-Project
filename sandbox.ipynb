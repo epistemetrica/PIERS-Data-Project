{
 "cells": [
  {
   "cell_type": "code",
   "execution_count": 1,
   "metadata": {},
   "outputs": [],
   "source": [
    "#import libraries\n",
    "import pandas as pd\n",
    "import sqlite3 as sql\n",
    "import os\n",
    "\n",
    "#display settings\n",
    "pd.set_option('display.max_columns', None)"
   ]
  },
  {
   "cell_type": "code",
   "execution_count": null,
   "metadata": {},
   "outputs": [],
   "source": [
    "#define path\n",
    "path = 'data/raw/'\n",
    "#get list of data files, ignoring any hidden files in directory \n",
    "datafiles = [file for file in os.listdir(path) if not file.startswith('.')]\n",
    "#initialize dataframe\n",
    "imports_df = pd.DataFrame()\n",
    "#init filenumber\n",
    "filenumber = 1\n",
    "\n",
    "#extract from csv to clean dataframes and concat\n",
    "print('Processing CSVs. \\n There are {} files to process. \\n'.format(len(datafiles)))\n",
    "for filename in datafiles:\n",
    "    start = time.time()\n",
    "    print('Processing file number {}: {} ...'.format(filenumber, filename))\n",
    "    file_df = pd.read_csv(path+filename, nrows=1000)\n",
    "    imports_df = pd.concat([imports_df, file_df])\n",
    "    del file_df\n",
    "    end = time.time()\n",
    "    print('File number {} complete.'.format(filenumber))\n",
    "    print('Processing this file took {} seconds.'.format(end-start))\n",
    "    print('The dataframe is now {} GB.\\n'.format(imports_df.memory_usage().sum()/1000000000))\n",
    "    filenumber += 1"
   ]
  }
 ],
 "metadata": {
  "kernelspec": {
   "display_name": "wsu",
   "language": "python",
   "name": "python3"
  },
  "language_info": {
   "codemirror_mode": {
    "name": "ipython",
    "version": 3
   },
   "file_extension": ".py",
   "mimetype": "text/x-python",
   "name": "python",
   "nbconvert_exporter": "python",
   "pygments_lexer": "ipython3",
   "version": "3.12.0"
  }
 },
 "nbformat": 4,
 "nbformat_minor": 2
}
