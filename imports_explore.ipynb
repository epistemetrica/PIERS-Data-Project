{
 "cells": [
  {
   "cell_type": "markdown",
   "metadata": {},
   "source": [
    "# Exploratory Analysis of Import Data"
   ]
  },
  {
   "cell_type": "code",
   "execution_count": 1,
   "metadata": {},
   "outputs": [],
   "source": [
    "#import libraries\n",
    "import pandas as pd\n",
    "import polars as pl\n",
    "import os\n",
    "import sys\n",
    "import time\n",
    "import dask.dataframe as dd\n",
    "import matplotlib.pyplot as plt\n",
    "import seaborn as sns\n",
    "\n",
    "\n",
    "#display settings\n",
    "pd.set_option('display.max_columns', None)\n",
    "%matplotlib inline"
   ]
  },
  {
   "cell_type": "code",
   "execution_count": 2,
   "metadata": {},
   "outputs": [],
   "source": [
    "columns = ['bol_id', 'date_arrival', 'carrier_scac', 'teus', 'weight', 'value_est', 'departure_port_code', 'arrival_port_code', 'vessel_name', 'container_piece_count', 'commod_short_desc', 'commod_short_desc_qty']"
   ]
  },
  {
   "cell_type": "code",
   "execution_count": 7,
   "metadata": {},
   "outputs": [],
   "source": [
    "pldf = (\n",
    "    #scan dataset\n",
    "    pl.scan_parquet('data/piers_imports_complete.parquet', parallel='columns', low_memory=True)\n",
    "    #select columns\n",
    "    .select(pl.col(['bol_id', 'date_arrival', 'carrier_scac', 'teus', 'weight', 'value_est', \n",
    "                    'departure_port_code', 'arrival_port_code', 'vessel_name', 'container_piece_count',\n",
    "                    'commod_short_desc', 'commod_short_desc_qty']))\n",
    "    #collect dataset\n",
    "    .collect()\n",
    "    #convert to pandas\n",
    "    .to_pandas()\n",
    "    )"
   ]
  },
  {
   "cell_type": "code",
   "execution_count": 8,
   "metadata": {},
   "outputs": [
    {
     "name": "stdout",
     "output_type": "stream",
     "text": [
      "<class 'pandas.core.frame.DataFrame'>\n",
      "RangeIndex: 204213186 entries, 0 to 204213185\n",
      "Data columns (total 12 columns):\n",
      " #   Column                 Dtype         \n",
      "---  ------                 -----         \n",
      " 0   bol_id                 object        \n",
      " 1   date_arrival           datetime64[ns]\n",
      " 2   carrier_scac           object        \n",
      " 3   teus                   float64       \n",
      " 4   weight                 float64       \n",
      " 5   value_est              float64       \n",
      " 6   departure_port_code    object        \n",
      " 7   arrival_port_code      object        \n",
      " 8   vessel_name            object        \n",
      " 9   container_piece_count  int64         \n",
      " 10  commod_short_desc      object        \n",
      " 11  commod_short_desc_qty  object        \n",
      "dtypes: datetime64[ns](1), float64(3), int64(1), object(7)\n",
      "memory usage: 18.3+ GB\n"
     ]
    }
   ],
   "source": [
    "pldf.info()"
   ]
  },
  {
   "cell_type": "markdown",
   "metadata": {},
   "source": [
    "## Duplicate BOLs "
   ]
  },
  {
   "cell_type": "code",
   "execution_count": 10,
   "metadata": {},
   "outputs": [],
   "source": [
    "#get df including all rows where bol_id occurs on more than one row\n",
    "dup_bols_df = pldf[pldf.bol_id.duplicated(keep=False)]"
   ]
  },
  {
   "cell_type": "code",
   "execution_count": 14,
   "metadata": {},
   "outputs": [
    {
     "name": "stdout",
     "output_type": "stream",
     "text": [
      "<class 'pandas.core.series.Series'>\n",
      "Index: 20 entries, 18132339 to 161534003\n",
      "Series name: bol_id\n",
      "Non-Null Count  Dtype \n",
      "--------------  ----- \n",
      "20 non-null     object\n",
      "dtypes: object(1)\n",
      "memory usage: 320.0+ bytes\n"
     ]
    }
   ],
   "source": [
    "#get proportion of these rows that have different carrier_scac codes\n",
    "dup_bols_df['bol_id'][dup_bols_df.carrier_scac.duplicated(keep=False)==False].info()"
   ]
  },
  {
   "cell_type": "markdown",
   "metadata": {},
   "source": [
    "~ 13% of rows list bol numbers that occur elsewhere in the dataset. \n",
    "\n",
    "Possible reasons:\n",
    "- bol includes items on more than one ship\n",
    "- bol not unique across carriers (only 20 entries have duplicate bol_ids but different carrier_scac, so this isn't the main reason)"
   ]
  },
  {
   "cell_type": "markdown",
   "metadata": {},
   "source": [
    "## Entries with zero weight:"
   ]
  },
  {
   "cell_type": "code",
   "execution_count": 16,
   "metadata": {},
   "outputs": [
    {
     "data": {
      "text/html": [
       "<div>\n",
       "<style scoped>\n",
       "    .dataframe tbody tr th:only-of-type {\n",
       "        vertical-align: middle;\n",
       "    }\n",
       "\n",
       "    .dataframe tbody tr th {\n",
       "        vertical-align: top;\n",
       "    }\n",
       "\n",
       "    .dataframe thead th {\n",
       "        text-align: right;\n",
       "    }\n",
       "</style>\n",
       "<table border=\"1\" class=\"dataframe\">\n",
       "  <thead>\n",
       "    <tr style=\"text-align: right;\">\n",
       "      <th></th>\n",
       "      <th>date_arrival</th>\n",
       "      <th>teus</th>\n",
       "      <th>weight</th>\n",
       "      <th>value_est</th>\n",
       "      <th>container_piece_count</th>\n",
       "    </tr>\n",
       "  </thead>\n",
       "  <tbody>\n",
       "    <tr>\n",
       "      <th>count</th>\n",
       "      <td>93886948</td>\n",
       "      <td>9.388695e+07</td>\n",
       "      <td>93886948.0</td>\n",
       "      <td>93886948.0</td>\n",
       "      <td>9.388695e+07</td>\n",
       "    </tr>\n",
       "    <tr>\n",
       "      <th>mean</th>\n",
       "      <td>2009-10-17 03:11:48.945215232</td>\n",
       "      <td>2.200700e-05</td>\n",
       "      <td>0.0</td>\n",
       "      <td>0.0</td>\n",
       "      <td>1.441126e+00</td>\n",
       "    </tr>\n",
       "    <tr>\n",
       "      <th>min</th>\n",
       "      <td>2005-01-01 00:00:00</td>\n",
       "      <td>0.000000e+00</td>\n",
       "      <td>0.0</td>\n",
       "      <td>0.0</td>\n",
       "      <td>0.000000e+00</td>\n",
       "    </tr>\n",
       "    <tr>\n",
       "      <th>25%</th>\n",
       "      <td>2007-05-22 00:00:00</td>\n",
       "      <td>0.000000e+00</td>\n",
       "      <td>0.0</td>\n",
       "      <td>0.0</td>\n",
       "      <td>1.000000e+00</td>\n",
       "    </tr>\n",
       "    <tr>\n",
       "      <th>50%</th>\n",
       "      <td>2009-07-25 00:00:00</td>\n",
       "      <td>0.000000e+00</td>\n",
       "      <td>0.0</td>\n",
       "      <td>0.0</td>\n",
       "      <td>1.000000e+00</td>\n",
       "    </tr>\n",
       "    <tr>\n",
       "      <th>75%</th>\n",
       "      <td>2012-04-10 00:00:00</td>\n",
       "      <td>0.000000e+00</td>\n",
       "      <td>0.0</td>\n",
       "      <td>0.0</td>\n",
       "      <td>1.000000e+00</td>\n",
       "    </tr>\n",
       "    <tr>\n",
       "      <th>max</th>\n",
       "      <td>2023-11-13 00:00:00</td>\n",
       "      <td>3.400000e+01</td>\n",
       "      <td>0.0</td>\n",
       "      <td>0.0</td>\n",
       "      <td>9.990000e+02</td>\n",
       "    </tr>\n",
       "    <tr>\n",
       "      <th>std</th>\n",
       "      <td>NaN</td>\n",
       "      <td>1.059935e-02</td>\n",
       "      <td>0.0</td>\n",
       "      <td>0.0</td>\n",
       "      <td>3.878725e+00</td>\n",
       "    </tr>\n",
       "  </tbody>\n",
       "</table>\n",
       "</div>"
      ],
      "text/plain": [
       "                        date_arrival          teus      weight   value_est  \\\n",
       "count                       93886948  9.388695e+07  93886948.0  93886948.0   \n",
       "mean   2009-10-17 03:11:48.945215232  2.200700e-05         0.0         0.0   \n",
       "min              2005-01-01 00:00:00  0.000000e+00         0.0         0.0   \n",
       "25%              2007-05-22 00:00:00  0.000000e+00         0.0         0.0   \n",
       "50%              2009-07-25 00:00:00  0.000000e+00         0.0         0.0   \n",
       "75%              2012-04-10 00:00:00  0.000000e+00         0.0         0.0   \n",
       "max              2023-11-13 00:00:00  3.400000e+01         0.0         0.0   \n",
       "std                              NaN  1.059935e-02         0.0         0.0   \n",
       "\n",
       "       container_piece_count  \n",
       "count           9.388695e+07  \n",
       "mean            1.441126e+00  \n",
       "min             0.000000e+00  \n",
       "25%             1.000000e+00  \n",
       "50%             1.000000e+00  \n",
       "75%             1.000000e+00  \n",
       "max             9.990000e+02  \n",
       "std             3.878725e+00  "
      ]
     },
     "execution_count": 16,
     "metadata": {},
     "output_type": "execute_result"
    }
   ],
   "source": [
    "pldf[pldf.weight == 0].describe()"
   ]
  },
  {
   "cell_type": "code",
   "execution_count": 18,
   "metadata": {},
   "outputs": [
    {
     "data": {
      "text/html": [
       "<div>\n",
       "<style scoped>\n",
       "    .dataframe tbody tr th:only-of-type {\n",
       "        vertical-align: middle;\n",
       "    }\n",
       "\n",
       "    .dataframe tbody tr th {\n",
       "        vertical-align: top;\n",
       "    }\n",
       "\n",
       "    .dataframe thead th {\n",
       "        text-align: right;\n",
       "    }\n",
       "</style>\n",
       "<table border=\"1\" class=\"dataframe\">\n",
       "  <thead>\n",
       "    <tr style=\"text-align: right;\">\n",
       "      <th></th>\n",
       "      <th>date_arrival</th>\n",
       "      <th>teus</th>\n",
       "      <th>weight</th>\n",
       "      <th>value_est</th>\n",
       "      <th>container_piece_count</th>\n",
       "    </tr>\n",
       "  </thead>\n",
       "  <tbody>\n",
       "    <tr>\n",
       "      <th>count</th>\n",
       "      <td>204213186</td>\n",
       "      <td>2.042132e+08</td>\n",
       "      <td>2.042132e+08</td>\n",
       "      <td>2.042132e+08</td>\n",
       "      <td>2.042132e+08</td>\n",
       "    </tr>\n",
       "    <tr>\n",
       "      <th>mean</th>\n",
       "      <td>2015-01-29 21:53:29.736486400</td>\n",
       "      <td>1.126241e+00</td>\n",
       "      <td>4.152496e+04</td>\n",
       "      <td>6.839881e+04</td>\n",
       "      <td>1.444714e+00</td>\n",
       "    </tr>\n",
       "    <tr>\n",
       "      <th>min</th>\n",
       "      <td>2005-01-01 00:00:00</td>\n",
       "      <td>0.000000e+00</td>\n",
       "      <td>0.000000e+00</td>\n",
       "      <td>0.000000e+00</td>\n",
       "      <td>0.000000e+00</td>\n",
       "    </tr>\n",
       "    <tr>\n",
       "      <th>25%</th>\n",
       "      <td>2010-02-04 00:00:00</td>\n",
       "      <td>0.000000e+00</td>\n",
       "      <td>0.000000e+00</td>\n",
       "      <td>0.000000e+00</td>\n",
       "      <td>1.000000e+00</td>\n",
       "    </tr>\n",
       "    <tr>\n",
       "      <th>50%</th>\n",
       "      <td>2015-06-30 00:00:00</td>\n",
       "      <td>1.000000e-01</td>\n",
       "      <td>2.500000e+02</td>\n",
       "      <td>1.192000e+03</td>\n",
       "      <td>1.000000e+00</td>\n",
       "    </tr>\n",
       "    <tr>\n",
       "      <th>75%</th>\n",
       "      <td>2020-02-20 00:00:00</td>\n",
       "      <td>2.000000e+00</td>\n",
       "      <td>1.205300e+04</td>\n",
       "      <td>3.747600e+04</td>\n",
       "      <td>1.000000e+00</td>\n",
       "    </tr>\n",
       "    <tr>\n",
       "      <th>max</th>\n",
       "      <td>2023-11-30 00:00:00</td>\n",
       "      <td>1.730750e+03</td>\n",
       "      <td>6.172936e+09</td>\n",
       "      <td>9.981402e+09</td>\n",
       "      <td>9.990000e+02</td>\n",
       "    </tr>\n",
       "    <tr>\n",
       "      <th>std</th>\n",
       "      <td>NaN</td>\n",
       "      <td>2.943881e+00</td>\n",
       "      <td>1.611364e+06</td>\n",
       "      <td>2.670985e+06</td>\n",
       "      <td>3.490885e+00</td>\n",
       "    </tr>\n",
       "  </tbody>\n",
       "</table>\n",
       "</div>"
      ],
      "text/plain": [
       "                        date_arrival          teus        weight  \\\n",
       "count                      204213186  2.042132e+08  2.042132e+08   \n",
       "mean   2015-01-29 21:53:29.736486400  1.126241e+00  4.152496e+04   \n",
       "min              2005-01-01 00:00:00  0.000000e+00  0.000000e+00   \n",
       "25%              2010-02-04 00:00:00  0.000000e+00  0.000000e+00   \n",
       "50%              2015-06-30 00:00:00  1.000000e-01  2.500000e+02   \n",
       "75%              2020-02-20 00:00:00  2.000000e+00  1.205300e+04   \n",
       "max              2023-11-30 00:00:00  1.730750e+03  6.172936e+09   \n",
       "std                              NaN  2.943881e+00  1.611364e+06   \n",
       "\n",
       "          value_est  container_piece_count  \n",
       "count  2.042132e+08           2.042132e+08  \n",
       "mean   6.839881e+04           1.444714e+00  \n",
       "min    0.000000e+00           0.000000e+00  \n",
       "25%    0.000000e+00           1.000000e+00  \n",
       "50%    1.192000e+03           1.000000e+00  \n",
       "75%    3.747600e+04           1.000000e+00  \n",
       "max    9.981402e+09           9.990000e+02  \n",
       "std    2.670985e+06           3.490885e+00  "
      ]
     },
     "execution_count": 18,
     "metadata": {},
     "output_type": "execute_result"
    }
   ],
   "source": [
    "pldf.describe()"
   ]
  },
  {
   "cell_type": "markdown",
   "metadata": {},
   "source": [
    "## Value and Volumes by Year:"
   ]
  },
  {
   "cell_type": "code",
   "execution_count": 53,
   "metadata": {},
   "outputs": [
    {
     "data": {
      "image/png": "[encoded data removed]",
      "text/plain": [
       "<Figure size 640x480 with 1 Axes>"
      ]
     },
     "metadata": {},
     "output_type": "display_data"
    }
   ],
   "source": [
    "#get year col\n",
    "pldf['year'] = pldf.date_arrival.dt.to_period('Y')\n",
    "#group value and volume by year\n",
    "activityacrosstime_df = pldf[['year', 'teus', 'value_est']].groupby('year').sum()\n",
    "#plot\n",
    "sns.barplot(data=activityacrosstime_df, x='year', y='value_est');\n",
    "plt.title('Total Value of Imports Over Time')\n",
    "plt.xticks(rotation=45);"
   ]
  },
  {
   "cell_type": "code",
   "execution_count": 38,
   "metadata": {},
   "outputs": [
    {
     "data": {
      "image/png": "[encoded data removed]",
      "text/plain": [
       "<Figure size 640x480 with 1 Axes>"
      ]
     },
     "metadata": {},
     "output_type": "display_data"
    }
   ],
   "source": [
    "#plot\n",
    "sns.barplot(data=activityacrosstime_df, x='year', y='teus');\n",
    "plt.title('Total Volume (TEUs) of Imports Over Time')\n",
    "plt.xticks(rotation=45);"
   ]
  },
  {
   "cell_type": "markdown",
   "metadata": {},
   "source": [
    "I guess value and volume records weren't kept before ~2015 ?!?"
   ]
  },
  {
   "cell_type": "code",
   "execution_count": 51,
   "metadata": {},
   "outputs": [
    {
     "data": {
      "image/png": "[encoded data removed]",
      "text/plain": [
       "<Figure size 640x480 with 1 Axes>"
      ]
     },
     "metadata": {},
     "output_type": "display_data"
    }
   ],
   "source": [
    "#group value and volume by year\n",
    "until2012_df = pldf[pldf['year']< pd.Period(2013)]\n",
    "until2012_df = until2012_df[['year', 'teus', 'value_est']].groupby('year').sum()\n",
    "#plot\n",
    "sns.barplot(data=until2012_df, x='year', y='teus');\n",
    "plt.title('Total Volume (TEUs) of Imports Over Time')\n",
    "plt.xticks(rotation=45);"
   ]
  },
  {
   "cell_type": "markdown",
   "metadata": {},
   "source": [
    "Must be missing data here?"
   ]
  },
  {
   "cell_type": "markdown",
   "metadata": {},
   "source": [
    "## Carriers Over Time"
   ]
  },
  {
   "cell_type": "code",
   "execution_count": 60,
   "metadata": {},
   "outputs": [],
   "source": [
    "carriersovertime_df = pldf[['year', 'carrier_scac']].groupby('year').nunique()"
   ]
  },
  {
   "cell_type": "code",
   "execution_count": 62,
   "metadata": {},
   "outputs": [
    {
     "data": {
      "image/png": "[encoded data removed]",
      "text/plain": [
       "<Figure size 640x480 with 1 Axes>"
      ]
     },
     "metadata": {},
     "output_type": "display_data"
    }
   ],
   "source": [
    "sns.barplot(data=carriersovertime_df, x='year', y='carrier_scac');\n",
    "plt.title('Number of Unique Carriers Over Time');\n",
    "plt.xticks(rotation=45);"
   ]
  },
  {
   "cell_type": "markdown",
   "metadata": {},
   "source": [
    "Was there really a spike in carriers in 2010 and 2012? Or does this indicate changes in the way SCAC codes are assigned?"
   ]
  },
  {
   "cell_type": "markdown",
   "metadata": {},
   "source": [
    "### Market share of the 50 largest carriers by estimated value "
   ]
  },
  {
   "cell_type": "code",
   "execution_count": 102,
   "metadata": {},
   "outputs": [],
   "source": [
    "#get largest carriers\n",
    "carriers_df = pldf[pldf.year > pd.Period(2014)]\n",
    "carriers_df = carriers_df[['year', 'carrier_scac', 'value_est']].groupby(['year', 'carrier_scac']).sum()"
   ]
  },
  {
   "cell_type": "code",
   "execution_count": 103,
   "metadata": {},
   "outputs": [],
   "source": [
    "carriers_df.columns = ['value_usd']\n",
    "carriers_df.sort_values('value_usd', ascending=False, inplace=True)\n",
    "carriers_df.sort_values('year', inplace=True)"
   ]
  },
  {
   "cell_type": "code",
   "execution_count": 104,
   "metadata": {},
   "outputs": [
    {
     "data": {
      "text/html": [
       "<div>\n",
       "<style scoped>\n",
       "    .dataframe tbody tr th:only-of-type {\n",
       "        vertical-align: middle;\n",
       "    }\n",
       "\n",
       "    .dataframe tbody tr th {\n",
       "        vertical-align: top;\n",
       "    }\n",
       "\n",
       "    .dataframe thead th {\n",
       "        text-align: right;\n",
       "    }\n",
       "</style>\n",
       "<table border=\"1\" class=\"dataframe\">\n",
       "  <thead>\n",
       "    <tr style=\"text-align: right;\">\n",
       "      <th></th>\n",
       "      <th>year</th>\n",
       "      <th>carrier_scac</th>\n",
       "      <th>value_usd</th>\n",
       "    </tr>\n",
       "  </thead>\n",
       "  <tbody>\n",
       "    <tr>\n",
       "      <th>0</th>\n",
       "      <td>2015</td>\n",
       "      <td>BUKA</td>\n",
       "      <td>8.342042e+08</td>\n",
       "    </tr>\n",
       "    <tr>\n",
       "      <th>1</th>\n",
       "      <td>2015</td>\n",
       "      <td>NYKG</td>\n",
       "      <td>3.776162e+08</td>\n",
       "    </tr>\n",
       "    <tr>\n",
       "      <th>2</th>\n",
       "      <td>2015</td>\n",
       "      <td>FTTS</td>\n",
       "      <td>8.719275e+08</td>\n",
       "    </tr>\n",
       "    <tr>\n",
       "      <th>3</th>\n",
       "      <td>2015</td>\n",
       "      <td>SGMT</td>\n",
       "      <td>1.306932e+07</td>\n",
       "    </tr>\n",
       "    <tr>\n",
       "      <th>4</th>\n",
       "      <td>2015</td>\n",
       "      <td>COSP</td>\n",
       "      <td>8.753577e+08</td>\n",
       "    </tr>\n",
       "  </tbody>\n",
       "</table>\n",
       "</div>"
      ],
      "text/plain": [
       "   year carrier_scac     value_usd\n",
       "0  2015         BUKA  8.342042e+08\n",
       "1  2015         NYKG  3.776162e+08\n",
       "2  2015         FTTS  8.719275e+08\n",
       "3  2015         SGMT  1.306932e+07\n",
       "4  2015         COSP  8.753577e+08"
      ]
     },
     "execution_count": 104,
     "metadata": {},
     "output_type": "execute_result"
    }
   ],
   "source": [
    "carriers_df.reset_index(inplace=True)\n",
    "carriers_df.head()"
   ]
  }
 ],
 "metadata": {
  "kernelspec": {
   "display_name": "wsu",
   "language": "python",
   "name": "python3"
  },
  "language_info": {
   "codemirror_mode": {
    "name": "ipython",
    "version": 3
   },
   "file_extension": ".py",
   "mimetype": "text/x-python",
   "name": "python",
   "nbconvert_exporter": "python",
   "pygments_lexer": "ipython3",
   "version": "3.12.0"
  }
 },
 "nbformat": 4,
 "nbformat_minor": 2
}
