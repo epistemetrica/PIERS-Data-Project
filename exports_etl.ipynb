{
 "cells": [
  {
   "cell_type": "code",
   "execution_count": 1,
   "metadata": {},
   "outputs": [],
   "source": [
    "#import libraries\n",
    "import polars as pl\n",
    "\n",
    "#enable string cache for polars categoricals\n",
    "pl.enable_string_cache()"
   ]
  },
  {
   "cell_type": "code",
   "execution_count": 2,
   "metadata": {},
   "outputs": [],
   "source": [
    "#intantiate column name dict\n",
    "export_colnames_dict = {'Shipper': 'shipper',\n",
    "                        'Shipper Address': 'shipper_address',\n",
    "                        'Weight': 'weight',\n",
    "                        'Weight Unit': 'weight_unit',\n",
    "                        'Quantity': 'qty',\n",
    "                        'Quantity Type': 'quantity_type',\n",
    "                        'TEUs': 'teus',\n",
    "                        'Carrier': 'carrier_name',\n",
    "                        'SCAC': 'carrier_scac',\n",
    "                        'Vessel Name': 'vessel_name',\n",
    "                        'Voyage Number': 'voyage_number',\n",
    "                        'Bill of Lading Number': 'bol_number',\n",
    "                        'IMO Number': 'vessel_id',\n",
    "                        'Estimated Value': 'value_est',\n",
    "                        'Port of Departure Code': 'departure_port_code',\n",
    "                        'Port of Departure': 'departure_port_name',\n",
    "                        'Container Number': 'container_ids',\n",
    "                        'Container Piece Count': 'container_piece_count',\n",
    "                        'Coastal Region': 'coast_region',\n",
    "                        'Raw Commodity Description': 'commod_desc_raw',\n",
    "                        'Commodity Short Description': 'commod_short_desc',\n",
    "                        'HS Code': 'hs_code',\n",
    "                        'JOC Code': 'joc_code',\n",
    "                        'Quantity of Commodity Short Description': 'commod_short_desc_qty',\n",
    "                        'Departure Date': 'date',\n",
    "                        'U.S. Origin': 'origin',\n",
    "                        'Destination Territory': 'dest_territory',\n",
    "                        'Destination Region': 'dest_region',\n",
    "                        'Declared Destination Port Code': 'arrival_port_code',\n",
    "                        'Declared Destination Port': 'arrival_port_name'}\n",
    "\n",
    "#instatiate schema\n",
    "export_schema = {'Shipper': pl.Utf8,\n",
    "                     'Shipper Address': pl.Utf8,\n",
    "                     'Weight': pl.Float64,\n",
    "                     'Weight Unit': pl.Categorical,\n",
    "                     'Quantity': pl.Float64,\n",
    "                     'Quantity Type': pl.Categorical,\n",
    "                     'TEUs': pl.Float64,\n",
    "                     'Carrier': pl.Categorical,\n",
    "                     'SCAC': pl.Categorical,\n",
    "                     'Vessel Name': pl.Utf8,\n",
    "                     'Voyage Number': pl.Utf8,\n",
    "                     'Bill of Lading Number': pl.Utf8,\n",
    "                     'IMO Number': pl.Int32,\n",
    "                     'Estimated Value': pl.Float64,\n",
    "                     'Port of Departure Code': pl.Categorical,\n",
    "                     'Port of Departure': pl.Categorical,\n",
    "                     'Container Number': pl.Utf8,\n",
    "                     'Container Piece Count': pl.Int32,\n",
    "                     'Coastal Region': pl.Categorical,\n",
    "                     'Raw Commodity Description': pl.Utf8,\n",
    "                     'Commodity Short Description': pl.Utf8,\n",
    "                     'HS Code': pl.Utf8,\n",
    "                     'JOC Code': pl.Utf8,\n",
    "                     'Quantity of Commodity Short Description': pl.Utf8,\n",
    "                     'Departure Date': pl.Utf8,\n",
    "                     'U.S. Origin': pl.Utf8,\n",
    "                     'Destination Territory': pl.Categorical,\n",
    "                     'Destination Region': pl.Categorical,\n",
    "                     'Declared Destination Port Code': pl.Categorical,\n",
    "                     'Declared Destination Port': pl.Categorical}"
   ]
  },
  {
   "cell_type": "markdown",
   "metadata": {},
   "source": [
    "## Extract and Transform \n",
    "\n",
    "Steps:\n",
    "\n",
    "- Read raw csv files \n",
    "- Set dtypes\n",
    "- rename columns\n",
    "- drop duplicates\n",
    "- replace empty strings with null \n",
    "- ~~split strings to lists where applicable~~ see note in README.md\n",
    "- recast departure date string to datetime "
   ]
  },
  {
   "cell_type": "code",
   "execution_count": 3,
   "metadata": {},
   "outputs": [],
   "source": [
    "#create polars dataframe from file\n",
    "exports_pldf = (\n",
    "    #clean scan csv\n",
    "    pl.scan_csv('data/raw/exports/*.csv', infer_schema_length=0)\n",
    "    #strip whitespace and replace empty str with null\n",
    "    .with_columns(pl.all().str.strip_chars().replace('',None))\n",
    "    #cast dtypes\n",
    "    .cast(export_schema)\n",
    "    #drop duplicates\n",
    "    .unique()\n",
    "    #rename columns\n",
    "    .rename(export_colnames_dict)\n",
    "    #set departure date to datetime\n",
    "    .with_columns(pl.col('date').str.to_datetime('%Y%m%d'))\n",
    "    #create bol_id\n",
    "    .with_columns((pl.col('carrier_scac').fill_null('')+'_'+pl.col('bol_number')).alias('bol_id'))\n",
    "    #collect scan\n",
    "    .collect()\n",
    "    )\n",
    "    "
   ]
  },
  {
   "cell_type": "markdown",
   "metadata": {},
   "source": [
    "## Load\n",
    "\n",
    "Save dataframe to parquet file."
   ]
  },
  {
   "cell_type": "code",
   "execution_count": 4,
   "metadata": {},
   "outputs": [],
   "source": [
    "exports_pldf.write_parquet('data/clean/exports/piers_exports_complete.parquet')"
   ]
  }
 ],
 "metadata": {
  "kernelspec": {
   "display_name": "wsu",
   "language": "python",
   "name": "python3"
  },
  "language_info": {
   "codemirror_mode": {
    "name": "ipython",
    "version": 3
   },
   "file_extension": ".py",
   "mimetype": "text/x-python",
   "name": "python",
   "nbconvert_exporter": "python",
   "pygments_lexer": "ipython3",
   "version": "3.12.0"
  }
 },
 "nbformat": 4,
 "nbformat_minor": 2
}
