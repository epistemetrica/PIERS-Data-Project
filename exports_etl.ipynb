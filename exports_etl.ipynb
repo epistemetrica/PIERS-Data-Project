{
 "cells": [
  {
   "cell_type": "code",
   "execution_count": 48,
   "metadata": {},
   "outputs": [],
   "source": [
    "#import libraries\n",
    "import pandas as pd\n",
    "import os\n",
    "import polars as pl\n",
    "\n",
    "#display settings\n",
    "pd.set_option('display.max_columns', None)"
   ]
  },
  {
   "cell_type": "code",
   "execution_count": 49,
   "metadata": {},
   "outputs": [],
   "source": [
    "#intantiate column name dict\n",
    "export_colnames_dict = {'Shipper': 'shipper',\n",
    "                        'Shipper Address': 'shipper_address',\n",
    "                        'Weight': 'weight',\n",
    "                        'Weight Unit': 'weight_unit',\n",
    "                        'Quantity': 'quantity',\n",
    "                        'Quantity Type': 'quantity_type',\n",
    "                        'TEUs': 'teus',\n",
    "                        'Carrier': 'carrier_name',\n",
    "                        'SCAC': 'carrier_scac',\n",
    "                        'Vessel Name': 'vessel_name',\n",
    "                        'Voyage Number': 'voyage_number',\n",
    "                        'Bill of Lading Number': 'bol_id',\n",
    "                        'IMO Number': 'imo_num',\n",
    "                        'Estimated Value': 'value_est',\n",
    "                        'Port of Departure Code': 'departure_port_code',\n",
    "                        'Port of Departure': 'departure_port_name',\n",
    "                        'Container Number': 'container_ids',\n",
    "                        'Container Piece Count': 'container_piece_count',\n",
    "                        'Coastal Region': 'coast_region',\n",
    "                        'Raw Commodity Description': 'commod_desc_raw',\n",
    "                        'Commodity Short Description': 'commod_short_desc',\n",
    "                        'HS Code': 'hs_code',\n",
    "                        'JOC Code': 'joc_code',\n",
    "                        'Quantity of Commodity Short Description': 'commod_short_desc_qty',\n",
    "                        'Departure Date': 'date_departure',\n",
    "                        'U.S. Origin': 'origin',\n",
    "                        'Destination Territory': 'dest_territory',\n",
    "                        'Destination Region': 'dest_region',\n",
    "                        'Declared Destination Port Code': 'dest_port_code_declared',\n",
    "                        'Declared Destination Port': 'dest_port_name'}\n",
    "\n",
    "#instatiate dtypes dict\n",
    "export_dytpe_dict = {'Shipper': pl.Utf8,\n",
    "                     'Shipper Address': pl.Utf8,\n",
    "                     'Weight': pl.Float64,\n",
    "                     'Weight Unit': pl.Categorical,\n",
    "                     'Quantity': pl.Float64,\n",
    "                     'Quantity Type': pl.Categorical,\n",
    "                     'TEUs': pl.Float64,\n",
    "                     'Carrier': pl.Categorical,\n",
    "                     'SCAC': pl.Categorical,\n",
    "                     'Vessel Name': pl.Utf8,\n",
    "                     'Voyage Number': pl.Utf8,\n",
    "                     'Bill of Lading Number': pl.Utf8,\n",
    "                     'IMO Number': pl.Int32,\n",
    "                     'Estimated Value': pl.Float64,\n",
    "                     'Port of Departure Code': pl.Int32,\n",
    "                     'Port of Departure': pl.Categorical,\n",
    "                     'Container Number': pl.List(pl.Utf8),\n",
    "                     'Container Piece Count': pl.Int32,\n",
    "                     'Coastal Region': pl.Categorical,\n",
    "                     'Raw Commodity Description': pl.Utf8,\n",
    "                     'Commodity Short Description': pl.Utf8,\n",
    "                     'HS Code': pl.Utf8,\n",
    "                     'JOC Code': pl.Utf8,\n",
    "                     'Quantity of Commodity Short Description': pl.List(pl.Int32),\n",
    "                     'Departure Date': pl.Int32,\n",
    "                     'U.S. Origin': pl.Utf8,\n",
    "                     'Destination Territory': pl.Categorical,\n",
    "                     'Destination Region': pl.Categorical,\n",
    "                     'Declared Destination Port Code': pl.Int32,\n",
    "                     'Declared Destination Port': pl.Categorical}"
   ]
  },
  {
   "cell_type": "code",
   "execution_count": 50,
   "metadata": {},
   "outputs": [],
   "source": [
    "pldf1 = (\n",
    "    #scan csv\n",
    "    pl.scan_csv('data/raw/exports/PIERS export records 2005 02-06 485B3D2960574F1FA8099A38F384D724.csv')\n",
    "    #recast dtypes\n",
    "    .cast(export_dytpe_dict)\n",
    "    #rename columns\n",
    "    .rename(export_colnames_dict)\n",
    "    #collect scan\n",
    "    .collect()\n",
    "    )\n",
    "\n",
    "pldf2 = (\n",
    "    #scan csv\n",
    "    pl.scan_csv('data/raw/exports/PIERS export records 2005 06-12 7230E7C2D2274D05894BF857A489CD34.csv')\n",
    "    #recast dtypes\n",
    "    .cast(export_dytpe_dict)\n",
    "    #rename columns\n",
    "    .rename(export_colnames_dict)\n",
    "    #collect scan\n",
    "    .collect()\n",
    "    )"
   ]
  },
  {
   "cell_type": "code",
   "execution_count": 51,
   "metadata": {},
   "outputs": [
    {
     "name": "stderr",
     "output_type": "stream",
     "text": [
      "sys:1: CategoricalRemappingWarning: Local categoricals have different encodings, expensive re-encoding is done to perform this merge operation. Consider using a StringCache or an Enum type if the categories are known in advance\n"
     ]
    }
   ],
   "source": [
    "pldf3 = pl.concat([pldf1, pldf2])"
   ]
  },
  {
   "cell_type": "code",
   "execution_count": 52,
   "metadata": {},
   "outputs": [],
   "source": [
    "pldf3.write_parquet('data/export_test.parquet')"
   ]
  }
 ],
 "metadata": {
  "kernelspec": {
   "display_name": "wsu",
   "language": "python",
   "name": "python3"
  },
  "language_info": {
   "codemirror_mode": {
    "name": "ipython",
    "version": 3
   },
   "file_extension": ".py",
   "mimetype": "text/x-python",
   "name": "python",
   "nbconvert_exporter": "python",
   "pygments_lexer": "ipython3",
   "version": "3.12.0"
  }
 },
 "nbformat": 4,
 "nbformat_minor": 2
}
